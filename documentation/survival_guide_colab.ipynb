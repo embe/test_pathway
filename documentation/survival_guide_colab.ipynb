{
  "cells": [
    {
      "cell_type": "markdown",
      "metadata": {
        "id": "view-in-colab"
      },
      "source": [
        "<a href=\"https://colab.research.google.com/github/pathwaycom/pathway-examples/blob/main/documentation/survival_guide_colab.ipynb\" target=\"_parent\"><img src=\"https://colab.research.google.com/assets/colab-badge.svg\" alt=\"Open In Colab\" class=\"inline\"/></a>"
      ]
    },
    {
      "cell_type": "markdown",
      "source": [
        "# [Colab-specific] Setting up Python and Pathway\n",
        "\n",
        "> Colab heads-up!!!\n",
        ">\n",
        "> Pathway requires Python >=3.8 and works best with Python 3.10, while Google Colab ships with Python 3.7 by default.\n",
        ">\n",
        "> In the cells below we install Python 3.10 and then switch to it, but the process requires that you refresh the page in your browser!\n",
        "> Please:\n",
        "> 1. Run the first cell, disregard the unrecognized runtime warning.\n",
        "> 2. Refresh the colab page and rerun the notebook. Now the warning should disappear and the python version in cell #2 should be Python 3.10.\n",
        "\n",
        "\n",
        "Outside Colab, Pathway can be installed to a Python 3.10 environment using pip, please register at https://pathway.com to get beta access to the package"
      ],
      "metadata": {
        "id": "colab-instructions"
      }
    },
    {
      "cell_type": "code",
      "source": [
        "PIP_PACKAGE_ADDRESS=\"\"\n",
        "if not PIP_PACKAGE_ADDRESS:\n",
        "    print(\n",
        "        \"Please register at https://pathway.com/developers/documentation/introduction/installation-and-first-steps\\n\"\n",
        "        \"To get the pip package installation link!\"\n",
        "    )"
      ],
      "metadata": {
        "id": "pip-package-selection"
      },
      "execution_count": null,
      "outputs": []
    },
    {
      "cell_type": "code",
      "metadata": {
        "id": "colab-env-install",
        "colab": {
          "base_uri": "https://localhost:8080/"
        },
        "outputId": "30a3baa7-5cb4-40f5-ac12-921eba4b25f8"
      },
      "source": [
        "![ -d /usr/local/lib/python3.10/site-packages/pathway ] || echo \"Installing Python 3.10 and pathway, restart the notebook once this cells executes\"\n",
        "![ -d /usr/local/lib/python3.10/site-packages/pathway ] || wget -O mini.sh https://github.com/conda-forge/miniforge/releases/download/22.9.0-1/Mambaforge-22.9.0-1-Linux-x86_64.sh 1>/dev/null 2>/dev/null\n",
        "![ -d /usr/local/lib/python3.10/site-packages/pathway ] || chmod +x mini.sh 1>/dev/null 2>/dev/null\n",
        "![ -d /usr/local/lib/python3.10/site-packages/pathway ] || bash ./mini.sh -b -f -p /usr/local 1>/dev/null 2>/dev/null\n",
        "![ -d /usr/local/lib/python3.10/site-packages/pathway ] || mamba install -q -y -c conda-forge jupyter google-colab  1>/dev/null 2>/dev/null\n",
        "![ -d /usr/local/lib/python3.10/site-packages/pathway ] || python -m ipykernel install --name \"py310\" --user 1>/dev/null 2>/dev/null\n",
        "![ -d /usr/local/lib/python3.10/site-packages/pathway ] || pip install {PIP_PACKAGE_ADDRESS} 1>/dev/null 2>/dev/null\n",
        "![ -d /usr/local/lib/python3.10/site-packages/pathway ] && echo \"Pathway installed\""
      ],
      "execution_count": null,
      "outputs": [
        {
          "output_type": "stream",
          "name": "stdout",
          "text": [
            "Pathway installed\n"
          ]
        }
      ]
    },
    {
      "cell_type": "code",
      "metadata": {
        "id": "colab-reload",
        "outputId": "f0e45a04-0b52-4699-fd04-680980f3df92",
        "colab": {
          "base_uri": "https://localhost:8080/"
        }
      },
      "source": [
        "# Reload the web page and execute this cell\n",
        "import sys\n",
        "print(\"User Current Version:-\", sys.version)"
      ],
      "execution_count": 3,
      "outputs": [
        {
          "output_type": "stream",
          "name": "stdout",
          "text": [
            "User Current Version:- 3.10.6 | packaged by conda-forge | (main, Aug 22 2022, 20:36:39) [GCC 10.4.0]\n"
          ]
        }
      ]
    },
    {
      "cell_type": "markdown",
      "id": "fe159edc",
      "metadata": {},
      "source": [
        "# Pathway: a survival guide\n",
        "Must-read for both first-timers and veterans alike, this guide gathers the most commonly used basic elements of Pathway.\n",
        "\n",
        "\n",
        "While the Pathway programming framework comes with advanced functionalities such as [classifiers](/developers/showcases/lsh/lsh_chapter1) or [fuzzy-joins](/developers/showcases/fuzzy_join/fuzzy_join_chapter1), it is essential to master the basic operations at the core of the framework.\n",
        "As part of this survival guide, we are going to walk through the following topics:\n",
        "* [Selecting and indexing](#selecting-and-indexing)\n",
        "* [Working with multiples tables: union, concatenation, join](#working-with-multiple-tables-union-concatenation-join)\n",
        "* [Updating](#updating)\n",
        "* [Computing](#operations)\n",
        "\n",
        "If you want more information you can see our complete [API docs](/developers/documentation/api-docs/pathway) or some of our [tutorials](/developers/tutorials/suspicious_activity_tumbling_window).\n",
        "\n",
        "## Prerequisite\n",
        "\n",
        "Be sure to import Pathway, and we need some tables:"
      ]
    },
    {
      "cell_type": "code",
      "execution_count": 1,
      "id": "0fd8cc13",
      "metadata": {
        "execution": {
          "iopub.execute_input": "2022-11-30T16:00:35.424349Z",
          "iopub.status.busy": "2022-11-30T16:00:35.424151Z",
          "iopub.status.idle": "2022-11-30T16:00:36.505614Z",
          "shell.execute_reply": "2022-11-30T16:00:36.505078Z"
        }
      },
      "outputs": [],
      "source": [
        "import pathway as pw\n",
        "\n",
        "t_name = pw.debug.table_from_markdown(\n",
        "    \"\"\"\n",
        "    | name\n",
        " 1  | Alice\n",
        " 2  | Bob\n",
        " 3  | Carole\n",
        " \"\"\"\n",
        ")\n",
        "t_age = pw.debug.table_from_markdown(\n",
        "    \"\"\"\n",
        "    | age\n",
        " 1  | 25\n",
        " 2  | 32\n",
        " 3  | 28\n",
        " \"\"\"\n",
        ")\n",
        "t_name_extra = pw.debug.table_from_markdown(\n",
        "    \"\"\"\n",
        "    | name  | age\n",
        " 4  | David | 25\n",
        " \"\"\"\n",
        ")"
      ]
    },
    {
      "cell_type": "markdown",
      "id": "2e8c59f8",
      "metadata": {},
      "source": [
        "We can display a snapshot of our table (for debugging purposes) using `pw.debug.compute_and_print()`:"
      ]
    },
    {
      "cell_type": "code",
      "execution_count": 2,
      "id": "f4256302",
      "metadata": {
        "execution": {
          "iopub.execute_input": "2022-11-30T16:00:36.507941Z",
          "iopub.status.busy": "2022-11-30T16:00:36.507725Z",
          "iopub.status.idle": "2022-11-30T16:00:36.512007Z",
          "shell.execute_reply": "2022-11-30T16:00:36.511624Z"
        }
      },
      "outputs": [
        {
          "name": "stdout",
          "output_type": "stream",
          "text": [
            "            | name\n",
            "^2TMTFGY... | Alice\n",
            "^YHZBTNY... | Bob\n",
            "^SERVYWW... | Carole\n"
          ]
        }
      ],
      "source": [
        "pw.debug.compute_and_print(t_name)"
      ]
    },
    {
      "cell_type": "markdown",
      "id": "5f9df457",
      "metadata": {},
      "source": [
        "In the following we will omit this for clarity reasons but keep in mind that it is required to print the actual data at a given time."
      ]
    },
    {
      "cell_type": "markdown",
      "id": "843dceaf",
      "metadata": {},
      "source": [
        "## Selecting and indexing\n",
        " * **Select**: we can use `select` to select a particular column and we can use the dot notation to specify the name of the column."
      ]
    },
    {
      "cell_type": "code",
      "execution_count": 3,
      "id": "17d69a94",
      "metadata": {
        "execution": {
          "iopub.execute_input": "2022-11-30T16:00:36.513675Z",
          "iopub.status.busy": "2022-11-30T16:00:36.513514Z",
          "iopub.status.idle": "2022-11-30T16:00:36.516756Z",
          "shell.execute_reply": "2022-11-30T16:00:36.516379Z"
        }
      },
      "outputs": [
        {
          "name": "stdout",
          "output_type": "stream",
          "text": [
            "            | name\n",
            "^8GR6BSX... | David\n"
          ]
        }
      ],
      "source": [
        "# _MD_COMMENT_START_\n",
        "pw.debug.compute_and_print(t_name_extra.select(t_name_extra.name))\n",
        "# _MD_COMMENT_END_\n",
        "# _MD_SHOW_t_extra.select(t_name_extra.name)"
      ]
    },
    {
      "cell_type": "markdown",
      "id": "d916b930",
      "metadata": {},
      "source": [
        " * **Filtering**: we can use `filter` to keep rows following a given property."
      ]
    },
    {
      "cell_type": "code",
      "execution_count": 4,
      "id": "26c1b3ab",
      "metadata": {
        "execution": {
          "iopub.execute_input": "2022-11-30T16:00:36.518322Z",
          "iopub.status.busy": "2022-11-30T16:00:36.518163Z",
          "iopub.status.idle": "2022-11-30T16:00:36.521996Z",
          "shell.execute_reply": "2022-11-30T16:00:36.521623Z"
        }
      },
      "outputs": [
        {
          "name": "stdout",
          "output_type": "stream",
          "text": [
            "            | age\n",
            "^YHZBTNY... | 32\n"
          ]
        }
      ],
      "source": [
        "# _MD_COMMENT_START_\n",
        "pw.debug.compute_and_print(t_age.filter(t_age.age > 30))\n",
        "# _MD_COMMENT_END_\n",
        "# _MD_SHOW_t_age.filter(t_age.age>30)"
      ]
    },
    {
      "cell_type": "markdown",
      "id": "fbcd61a3",
      "metadata": {},
      "source": [
        " * **Reindexing**: you can change the ids (accessible by `table.id`) by using `.with_id_from()`.\n",
        "We need a table with new ids:"
      ]
    },
    {
      "cell_type": "code",
      "execution_count": 5,
      "id": "8cb09da5",
      "metadata": {
        "execution": {
          "iopub.execute_input": "2022-11-30T16:00:36.523783Z",
          "iopub.status.busy": "2022-11-30T16:00:36.523492Z",
          "iopub.status.idle": "2022-11-30T16:00:36.527319Z",
          "shell.execute_reply": "2022-11-30T16:00:36.526961Z"
        }
      },
      "outputs": [],
      "source": [
        "t_new_ids = pw.debug.table_from_markdown(\n",
        "    \"\"\"\n",
        "    | new_id_source\n",
        " 1  | 4\n",
        " 2  | 5\n",
        " 3  | 6\n",
        " \"\"\"\n",
        ")"
      ]
    },
    {
      "cell_type": "code",
      "execution_count": 6,
      "id": "f5ba8b24",
      "metadata": {
        "execution": {
          "iopub.execute_input": "2022-11-30T16:00:36.528884Z",
          "iopub.status.busy": "2022-11-30T16:00:36.528718Z",
          "iopub.status.idle": "2022-11-30T16:00:36.532916Z",
          "shell.execute_reply": "2022-11-30T16:00:36.532552Z"
        }
      },
      "outputs": [
        {
          "name": "stdout",
          "output_type": "stream",
          "text": [
            "            | name\n",
            "^8GR6BSX... | Alice\n",
            "^76QPWK3... | Bob\n",
            "^C4S6S48... | Carole\n"
          ]
        }
      ],
      "source": [
        "# _MD_COMMENT_START_\n",
        "pw.debug.compute_and_print(\n",
        "    t_name.unsafe_promise_universe_is_subset_of(t_new_ids).with_id_from(\n",
        "        t_new_ids.new_id_source\n",
        "    )\n",
        ")\n",
        "# _MD_COMMENT_END_\n",
        "# _MD_SHOW_t_name.unsafe_promise_universe_is_subset_of(t_new_ids).with_id_from(t_new_ids.new_id_source)"
      ]
    },
    {
      "cell_type": "markdown",
      "id": "7892ea85",
      "metadata": {},
      "source": [
        "Here we need to use `unsafe_promise_universe_is_subset_of`, you can find the explanation in our [article](/developers/documentation/introduction/key-concepts) about Pathway's concepts.\n",
        "XXX: `with_id_from()` works the same, but take the ids of as new ids, as opposed to a dedicated column as in our previous example.\n",
        "\n",
        "* **ix**: uses a column's values as indexes.\n",
        "As an example, if we have a table containing with indexes pointing to another table, we can use this `ix` to obtain those lines:"
      ]
    },
    {
      "cell_type": "code",
      "execution_count": 7,
      "id": "51be4231",
      "metadata": {
        "execution": {
          "iopub.execute_input": "2022-11-30T16:00:36.534619Z",
          "iopub.status.busy": "2022-11-30T16:00:36.534356Z",
          "iopub.status.idle": "2022-11-30T16:00:36.541045Z",
          "shell.execute_reply": "2022-11-30T16:00:36.540688Z"
        }
      },
      "outputs": [
        {
          "name": "stdout",
          "output_type": "stream",
          "text": [
            "            | selected\n",
            "^M1T2QKJ... | Alice\n",
            "^9WGHV46... | Carole\n"
          ]
        }
      ],
      "source": [
        "t_selected_ids = pw.debug.table_from_markdown(\n",
        "    \"\"\"\n",
        "      | selected_id\n",
        " 100  | 1\n",
        " 200  | 3\n",
        " \"\"\"\n",
        ")\n",
        "# _MD_COMMENT_START_\n",
        "pw.debug.compute_and_print(\n",
        "    t_selected_ids.select(selected=t_name.ix_ref(t_selected_ids.selected_id).name)\n",
        ")\n",
        "# _MD_COMMENT_END_\n",
        "# _MD_SHOW_t_selected_ids.select(selected=t_name.ix_ref(t_selected_ids.selected_id).name)"
      ]
    },
    {
      "cell_type": "markdown",
      "id": "f7e763de",
      "metadata": {},
      "source": [
        "* **Group-by**: we can use `groupby` to aggregate data sharing a common property and then use a reducer to compute an aggregated value."
      ]
    },
    {
      "cell_type": "code",
      "execution_count": 8,
      "id": "0f5e61d5",
      "metadata": {
        "execution": {
          "iopub.execute_input": "2022-11-30T16:00:36.542817Z",
          "iopub.status.busy": "2022-11-30T16:00:36.542502Z",
          "iopub.status.idle": "2022-11-30T16:00:36.549963Z",
          "shell.execute_reply": "2022-11-30T16:00:36.549590Z"
        }
      },
      "outputs": [
        {
          "name": "stdout",
          "output_type": "stream",
          "text": [
            "            | name  | sum\n",
            "^TSP7EFT... | Alice | 175\n",
            "^4PVZ777... | Bob   | 300\n"
          ]
        }
      ],
      "source": [
        "t_spending = pw.debug.table_from_markdown(\n",
        "    \"\"\"\n",
        "    | name  | amount\n",
        " 1  | Bob   | 100\n",
        " 2  | Alice | 50\n",
        " 3  | Alice | 125\n",
        " 4  | Bob   | 200\n",
        " \"\"\"\n",
        ")\n",
        "# _MD_COMMENT_START_\n",
        "pw.debug.compute_and_print(\n",
        "    t_spending.groupby(t_spending.name).reduce(\n",
        "        t_spending.name, sum=pw.reducers.sum(t_spending.amount)\n",
        "    )\n",
        ")\n",
        "# _MD_COMMENT_END_\n",
        "# _MD_SHOW_t_spending.groupby(t_spending.name).reduce(t_spending.name, sum=pw.reducers.sum(t_spending.amount))"
      ]
    },
    {
      "cell_type": "markdown",
      "id": "e3716100",
      "metadata": {},
      "source": [
        "You can do groupbys on multiples columns at once (e.g. `.groupby(t.colA, t.colB)`).\n",
        "The list of all the available reducers can be found [here](#) (available soon).\n",
        "\n",
        "## Working with multiples tables: union, concatenation, join\n",
        "\n",
        " * **Union**: we can use the operator `+` or `+=` to add compute the union of two tables sharing the same ids."
      ]
    },
    {
      "cell_type": "code",
      "execution_count": 9,
      "id": "9e7aabd0",
      "metadata": {
        "execution": {
          "iopub.execute_input": "2022-11-30T16:00:36.551675Z",
          "iopub.status.busy": "2022-11-30T16:00:36.551438Z",
          "iopub.status.idle": "2022-11-30T16:00:36.556666Z",
          "shell.execute_reply": "2022-11-30T16:00:36.556308Z"
        }
      },
      "outputs": [
        {
          "name": "stdout",
          "output_type": "stream",
          "text": [
            "            | name   | age\n",
            "^2TMTFGY... | Alice  | 25\n",
            "^YHZBTNY... | Bob    | 32\n",
            "^SERVYWW... | Carole | 28\n"
          ]
        }
      ],
      "source": [
        "t_age = t_age.unsafe_promise_same_universe_as(t_name)\n",
        "t_union = t_name + t_age\n",
        "# _MD_COMMENT_START_\n",
        "pw.debug.compute_and_print(t_union)\n",
        "# _MD_COMMENT_END_\n",
        "# _MD_SHOW_"
      ]
    },
    {
      "cell_type": "markdown",
      "id": "628e3aa0",
      "metadata": {},
      "source": [
        "* **Concatenation**: we can use `Table.concat(t1,t2)` to concatenate two tables, but they need to have the same ids."
      ]
    },
    {
      "cell_type": "code",
      "execution_count": 10,
      "id": "66faa297",
      "metadata": {
        "execution": {
          "iopub.execute_input": "2022-11-30T16:00:36.558448Z",
          "iopub.status.busy": "2022-11-30T16:00:36.558162Z",
          "iopub.status.idle": "2022-11-30T16:00:36.565463Z",
          "shell.execute_reply": "2022-11-30T16:00:36.565105Z"
        }
      },
      "outputs": [
        {
          "name": "stdout",
          "output_type": "stream",
          "text": [
            "            | name   | age\n",
            "^531BJZ8... | Alice  | 25\n",
            "^9SVRC47... | Bob    | 32\n",
            "^R5XMQ21... | Carole | 28\n",
            "^C4VQQCA... | David  | 25\n"
          ]
        }
      ],
      "source": [
        "# _MD_COMMENT_START_\n",
        "pw.debug.compute_and_print(pw.Table.concat(t_union, t_name_extra))\n",
        "# _MD_COMMENT_END_\n",
        "# _MD_SHOW_pw.Table.concat(t_union,t_name_extra)"
      ]
    },
    {
      "cell_type": "markdown",
      "id": "8e14a2df",
      "metadata": {},
      "source": [
        "As you can see, Pathway may reindex the obtained tables.\n",
        "\n",
        "> **Info for Databricks Delta users**: Concatenation is highly similar to the SQL [`MERGE INTO`](https://docs.databricks.com/sql/language-manual/delta-merge-into.html) operation.\n",
        "\n",
        "* **Join**: we can do all usual types of joins in Pathway (inner, outer, left, right). The example below presents an inner join:"
      ]
    },
    {
      "cell_type": "code",
      "execution_count": 11,
      "id": "1a63e5d3",
      "metadata": {
        "execution": {
          "iopub.execute_input": "2022-11-30T16:00:36.567211Z",
          "iopub.status.busy": "2022-11-30T16:00:36.566930Z",
          "iopub.status.idle": "2022-11-30T16:00:36.573400Z",
          "shell.execute_reply": "2022-11-30T16:00:36.573006Z"
        }
      },
      "outputs": [
        {
          "name": "stdout",
          "output_type": "stream",
          "text": [
            "            | age | name\n",
            "^VJ3K9DF... | 25  | Alice\n",
            "^R0GE4WM... | 28  | Carole\n",
            "^V1RPZW8... | 32  | Bob\n"
          ]
        }
      ],
      "source": [
        "# _MD_COMMENT_START_\n",
        "pw.debug.compute_and_print(\n",
        "    t_age.join(t_name, t_age.id == t_name.id).select(t_age.age, t_name.name)\n",
        ")\n",
        "# _MD_COMMENT_END_\n",
        "# _MD_SHOW_t_age.join(t_name, t_age.id==t_name.id).select(t_age.age, t_name.name)"
      ]
    },
    {
      "cell_type": "markdown",
      "id": "d194b0e5",
      "metadata": {},
      "source": [
        "Note that in the equality `t_age.id==t_name.id` the left part must be a column of the table on which the join is done, namely `t_name` in our example. Doing `t_name.id==t_age.id` would throw an error.\n",
        "\n",
        "## Updating\n",
        "\n",
        "* **Renaming** with `select`:"
      ]
    },
    {
      "cell_type": "code",
      "execution_count": 12,
      "id": "d5021272",
      "metadata": {
        "execution": {
          "iopub.execute_input": "2022-11-30T16:00:36.575096Z",
          "iopub.status.busy": "2022-11-30T16:00:36.574932Z",
          "iopub.status.idle": "2022-11-30T16:00:36.580771Z",
          "shell.execute_reply": "2022-11-30T16:00:36.580445Z"
        }
      },
      "outputs": [
        {
          "name": "stdout",
          "output_type": "stream",
          "text": [
            "            | surname\n",
            "^2TMTFGY... | Alice\n",
            "^YHZBTNY... | Bob\n",
            "^SERVYWW... | Carole\n"
          ]
        }
      ],
      "source": [
        "# _MD_COMMENT_START_\n",
        "pw.debug.compute_and_print(t_name.select(surname=t_name.name))\n",
        "# _MD_COMMENT_END_\n",
        "# _MD_SHOW_t_name.select(surname=t_name.name)"
      ]
    },
    {
      "cell_type": "markdown",
      "id": "87a0a2af",
      "metadata": {
        "lines_to_next_cell": 2
      },
      "source": [
        " * **Renaming** with `rename_columns`:"
      ]
    },
    {
      "cell_type": "code",
      "execution_count": 13,
      "id": "a1f7766c",
      "metadata": {
        "execution": {
          "iopub.execute_input": "2022-11-30T16:00:36.582530Z",
          "iopub.status.busy": "2022-11-30T16:00:36.582371Z",
          "iopub.status.idle": "2022-11-30T16:00:36.588156Z",
          "shell.execute_reply": "2022-11-30T16:00:36.587838Z"
        }
      },
      "outputs": [
        {
          "name": "stdout",
          "output_type": "stream",
          "text": [
            "            | surname\n",
            "^2TMTFGY... | Alice\n",
            "^YHZBTNY... | Bob\n",
            "^SERVYWW... | Carole\n"
          ]
        }
      ],
      "source": [
        "# _MD_COMMENT_START_\n",
        "pw.debug.compute_and_print(t_name.rename_columns(surname=t_name.name))\n",
        "# _MD_COMMENT_END_\n",
        "# _MD_SHOW_t_name.rename_columns(surname=t_name.name)"
      ]
    },
    {
      "cell_type": "markdown",
      "id": "38577000",
      "metadata": {},
      "source": [
        " * **Updating cells**: you can the values of cells using `update_cells` which can be also done using the binary operator `<<`. The ids and column name should be the same."
      ]
    },
    {
      "cell_type": "code",
      "execution_count": 14,
      "id": "41983fe0",
      "metadata": {
        "execution": {
          "iopub.execute_input": "2022-11-30T16:00:36.589808Z",
          "iopub.status.busy": "2022-11-30T16:00:36.589520Z",
          "iopub.status.idle": "2022-11-30T16:00:36.597995Z",
          "shell.execute_reply": "2022-11-30T16:00:36.597670Z"
        }
      },
      "outputs": [
        {
          "name": "stdout",
          "output_type": "stream",
          "text": [
            "            | name\n",
            "^2TMTFGY... | Alicia\n",
            "^YHZBTNY... | Bobby\n",
            "^SERVYWW... | Caro\n"
          ]
        }
      ],
      "source": [
        "t_updated_names = pw.debug.table_from_markdown(\n",
        "    \"\"\"\n",
        "    | name\n",
        " 1  | Alicia\n",
        " 2  | Bobby\n",
        " 3  | Caro\n",
        " \"\"\"\n",
        ")\n",
        "t_updated_names = t_updated_names.unsafe_promise_same_universe_as(t_name)\n",
        "# _MD_COMMENT_START_\n",
        "pw.debug.compute_and_print(t_name.update_cells(t_updated_names))\n",
        "# _MD_COMMENT_END_\n",
        "# _MD_SHOW_t_name.update_cells(t_updated_names)"
      ]
    },
    {
      "cell_type": "markdown",
      "id": "cb32c550",
      "metadata": {},
      "source": [
        "## Operations\n",
        "\n",
        "* **Row-centered operations** with `apply`: you can apply a function to each value of a column (or more) by using `apply` in a `select`."
      ]
    },
    {
      "cell_type": "code",
      "execution_count": 15,
      "id": "cf936cfa",
      "metadata": {
        "execution": {
          "iopub.execute_input": "2022-11-30T16:00:36.599507Z",
          "iopub.status.busy": "2022-11-30T16:00:36.599348Z",
          "iopub.status.idle": "2022-11-30T16:00:36.605727Z",
          "shell.execute_reply": "2022-11-30T16:00:36.605404Z"
        }
      },
      "outputs": [
        {
          "name": "stdout",
          "output_type": "stream",
          "text": [
            "            | thirties\n",
            "^2TMTFGY... | False\n",
            "^SERVYWW... | False\n",
            "^YHZBTNY... | True\n"
          ]
        }
      ],
      "source": [
        "# _MD_COMMENT_START_\n",
        "pw.debug.compute_and_print(t_age.select(thirties=pw.apply(lambda x: x > 30, t_age.age)))\n",
        "# _MD_COMMENT_END_\n",
        "# _MD_SHOW_t_age.select(thirties=pw.apply(lambda x: x>30, t_age.age)))"
      ]
    },
    {
      "cell_type": "markdown",
      "id": "eee203cd",
      "metadata": {},
      "source": [
        "Operations on multiples values of a single row can be easily done this way:"
      ]
    },
    {
      "cell_type": "code",
      "execution_count": 16,
      "id": "6bea323a",
      "metadata": {
        "execution": {
          "iopub.execute_input": "2022-11-30T16:00:36.607291Z",
          "iopub.status.busy": "2022-11-30T16:00:36.607053Z",
          "iopub.status.idle": "2022-11-30T16:00:36.615863Z",
          "shell.execute_reply": "2022-11-30T16:00:36.615535Z"
        }
      },
      "outputs": [
        {
          "name": "stdout",
          "output_type": "stream",
          "text": [
            "            | sum\n",
            "^2TMTFGY... | 11\n",
            "^YHZBTNY... | 1100\n"
          ]
        }
      ],
      "source": [
        "t_multiples_values = pw.debug.table_from_markdown(\n",
        "    \"\"\"\n",
        "    | valA    | valB\n",
        " 1  | 1       | 10\n",
        " 2  | 100     | 1000\n",
        " \"\"\"\n",
        ")\n",
        "# _MD_COMMENT_START_\n",
        "pw.debug.compute_and_print(\n",
        "    t_multiples_values.select(\n",
        "        sum=pw.apply(\n",
        "            lambda x, y: x + y, t_multiples_values.valA, t_multiples_values.valB\n",
        "        )\n",
        "    )\n",
        ")\n",
        "# _MD_COMMENT_END_\n",
        "# _MD_SHOW_t_multiples_values.select(sum=pw.apply(lambda x,y: x+y, t_multiples_values.valA, t_multiples_values.valB))"
      ]
    },
    {
      "cell_type": "markdown",
      "id": "6f142562",
      "metadata": {},
      "source": [
        "* Other operations with **transformer classes**: Pathway enables complex computation on data stream by using transformer classes.\n",
        "It is a bit advanced for this survival guide but you can find all the information about transformer classes in [our tutorial](/developers/documentation/transformer-classes/transformer-intro)."
      ]
    }
  ],
  "metadata": {
    "colab": {
      "provenance": [],
      "collapsed_sections": [],
      "include_colab_link": true
    },
    "kernelspec": {
      "name": "py310",
      "display_name": "Python 3.10"
    }
  },
  "nbformat": 4,
  "nbformat_minor": 0
}