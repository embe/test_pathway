{
  "cells": [
    {
      "cell_type": "markdown",
      "metadata": {
        "id": "view-in-colab"
      },
      "source": [
        "<a href=\"https://colab.research.google.com/github/pathwaycom/pathway-examples/blob/main/documentation/groupby_reduce_manual.ipynb\" target=\"_parent\"><img src=\"https://pathway.com/assets/colab-badge.svg\" alt=\"Run In Colab\" class=\"inline\"/></a>"
      ]
    },
    {
      "cell_type": "markdown",
      "source": [
        "# Installing Pathway with Python 3.8+\n",
        "\n",
        "In the cell below, we install Pathway into a Python 3.8+ Linux runtime.\n",
        "\n",
        "> **If you are running in Google Colab, please run the colab notebook (Ctrl+F9)**, disregarding the 'not authored by Google' warning.\n",
        "> \n",
        "> **The installation and loading time is less than 1 minute**.\n"
      ],
      "metadata": {
        "id": "notebook-instructions"
      }
    },
    {
      "cell_type": "code",
      "source": [
        "%%capture --no-display\n",
        "!pip install --extra-index-url https://packages.pathway.com/966431ef6ba pathway"
      ],
      "metadata": {
        "id": "pip-installation-pathway",
        "cellView": "form"
      },
      "execution_count": null,
      "outputs": []
    },
    {
      "cell_type": "markdown",
      "id": "0212dc72",
      "metadata": {},
      "source": [
        "# Groupby - Reduce\n",
        "In this manu\\[a\\]l, you will learn how to aggregate data with the groupby-reduce scheme.\n",
        "\n",
        "Together, the `groupby` and `reduce` operations can be used\n",
        "to **aggregate data across the rows of the table**. In this guide,\n",
        "we expand upon a simple demonstration from the\n",
        "[First-steps Guide](https://pathway.com/developers/documentation/table-operations/survival-guide)\n",
        "and:\n",
        "* explain syntax of [groupby](#groupby-syntax) and [reduce](#reduce-syntax)\n",
        "* explain [two kinds of columns we get from groupby](#groupby-reduce-column-constrains)\n",
        "* explain [automatic id generation](#auto-generated-id)\n",
        "* show [a few simple applications](#more-examples)"
      ]
    },
    {
      "cell_type": "markdown",
      "id": "082ae8fb",
      "metadata": {},
      "source": [
        "## Prerequisites\n",
        "The assumption is that we are familiar with some basic operations\n",
        "explained in the [First-steps Guide](https://pathway.com/developers/documentation/table-operations/survival-guide).\n",
        "As usual, we begin with importing Pathway."
      ]
    },
    {
      "cell_type": "code",
      "execution_count": 1,
      "id": "5acba841",
      "metadata": {
        "execution": {
          "iopub.execute_input": "2023-03-30T11:52:04.019762Z",
          "iopub.status.busy": "2023-03-30T11:52:04.019662Z",
          "iopub.status.idle": "2023-03-30T11:52:05.371638Z",
          "shell.execute_reply": "2023-03-30T11:52:05.371310Z"
        }
      },
      "outputs": [],
      "source": [
        "import pathway as pw"
      ]
    },
    {
      "cell_type": "markdown",
      "id": "e928a135",
      "metadata": {
        "lines_to_next_cell": 2
      },
      "source": [
        "To demonstrate the capabilities of groupby and reduce operations,\n",
        "let us consider a made up scenario.\n",
        "\n",
        "**Storyline:** let's assume that you made a poll, asking whether a particular food item is a fruit or a vegetable.\n",
        "\n",
        "An answer to such a question is a tuple `(food_item, label, vote, fractional_vote)`.\n",
        "That is, if someone could tell that tomato is a fruit, but they are not really sure,\n",
        "it could be registered as two tuples:\n",
        "\n",
        "* (tomato, fruit, 1, 0.5),\n",
        "\n",
        "* (tomato, vegetable, 0, 0.5)\n",
        "\n",
        "Below, we have the results of the poll, stored in the table *poll*."
      ]
    },
    {
      "cell_type": "code",
      "execution_count": 2,
      "id": "7de94726",
      "metadata": {
        "execution": {
          "iopub.execute_input": "2023-03-30T11:52:05.373768Z",
          "iopub.status.busy": "2023-03-30T11:52:05.373464Z",
          "iopub.status.idle": "2023-03-30T11:52:05.383731Z",
          "shell.execute_reply": "2023-03-30T11:52:05.383459Z"
        }
      },
      "outputs": [],
      "source": [
        "poll = pw.debug.table_from_markdown(\n",
        "    \"\"\"\n",
        "    | food_item | label     | vote  | fractional_vote   | time\n",
        "0   | tomato    | fruit     | 1     | 0.5               | 1669882728\n",
        "1   | tomato    | vegetable | 0     | 0.5               | 1669882728\n",
        "2   | apple     | fruit     | 1     | 1                 | 1669883612\n",
        "3   | apple     | vegetable | 0     | 0                 | 1669883612\n",
        "4   | pepper    | vegetable | 1     | 0.5               | 1669883059\n",
        "5   | pepper    | fruit     | 0     | 0.5               | 1669883059\n",
        "6   | tomato    | fruit     | 0     | 0.3               | 1669880159\n",
        "7   | tomato    | vegetable | 1     | 0.7               | 1669880159\n",
        "8   | corn      | fruit     | 0     | 0.3               | 1669876829\n",
        "9   | corn      | vegetable | 1     | 0.7               | 1669876829\n",
        "10  | tomato    | fruit     | 0     | 0.4               | 1669874325\n",
        "11  | tomato    | vegetable | 1     | 0.6               | 1669874325\n",
        "12  | pepper    | fruit     | 0     | 0.45              | 1669887207\n",
        "13  | pepper    | vegetable | 1     | 0.55              | 1669887207\n",
        "14  | apple     | fruit     | 1     | 1                 | 1669874325\n",
        "15  | apple     | vegetable | 0     | 0                 | 1669874325\n",
        "\n",
        "\"\"\"\n",
        ")"
      ]
    },
    {
      "cell_type": "markdown",
      "id": "d62e38f5",
      "metadata": {},
      "source": [
        "To demonstrate a simple groupby-reduce application, let's ask about\n",
        "the total `fractional_vote` that was assigned to any combination of `foot_item`, `label`.\n",
        "\n",
        "\n",
        "First we explain the syntax of both [`groupby`](#groupby-syntax) and [`reduce`](#reduce-syntax).\n",
        "Then, we show groupby-reduce code in [action](#groupby-reduce-simple-example)."
      ]
    },
    {
      "cell_type": "markdown",
      "id": "e5c4ec60",
      "metadata": {},
      "source": [
        "## Groupby Syntax\n",
        "The syntax of the `groupby` operation is fairly simple:"
      ]
    },
    {
      "cell_type": "code",
      "execution_count": 3,
      "id": "6e683b71",
      "metadata": {
        "execution": {
          "iopub.execute_input": "2023-03-30T11:52:05.385199Z",
          "iopub.status.busy": "2023-03-30T11:52:05.384975Z",
          "iopub.status.idle": "2023-03-30T11:52:05.386594Z",
          "shell.execute_reply": "2023-03-30T11:52:05.386363Z"
        }
      },
      "outputs": [],
      "source": [
        "table.groupby(*C)"
      ]
    },
    {
      "cell_type": "markdown",
      "id": "6f0463d7",
      "metadata": {},
      "source": [
        "\n",
        "It takes a list of columns `*C` as argument and groups the row according to their values in those columns.\n",
        "In other words, all the rows with the same values, column-wise, in each column of `*C` are put into the same group.\n",
        "\n",
        "As a result, it returns a `GroupedTable` object, which stores\n",
        "a single row for each unique tuple from columns in `*C` and a collection\n",
        "of grouped items corresponding to each column that is not in `*C`.\n",
        "\n",
        "In the example above, if we groupby over a pair of columns `food_item`, `label`,\n",
        "the groupby computes a collection of `votes` and a collection of `fractional_votes`\n",
        "for each unique combination `food_item`, `label`.\n",
        "\n",
        "In order to use this object, we need to process those collections\n",
        "with the `reduce` operation.\n",
        "\n",
        "## Reduce Syntax\n",
        "The `reduce` function behaves a little bit like `select`, and it also takes\n",
        "two kinds of arguments:"
      ]
    },
    {
      "cell_type": "code",
      "execution_count": 4,
      "id": "cfa4ea9f",
      "metadata": {
        "execution": {
          "iopub.execute_input": "2023-03-30T11:52:05.387730Z",
          "iopub.status.busy": "2023-03-30T11:52:05.387573Z",
          "iopub.status.idle": "2023-03-30T11:52:05.389052Z",
          "shell.execute_reply": "2023-03-30T11:52:05.388811Z"
        }
      },
      "outputs": [],
      "source": [
        "grouped_table.reduce(*SC, *NC)"
      ]
    },
    {
      "cell_type": "markdown",
      "id": "70962865",
      "metadata": {},
      "source": [
        "* *SC is simply a list of columns that were present in the table before the groupby\n",
        "operation,\n",
        "* *NC is a list of new columns (i.e. columns with new name), each defined as\n",
        "some function of cells in the row of grouped_table.\n",
        "\n",
        "It can be used together with groupby, as follows:"
      ]
    },
    {
      "cell_type": "code",
      "execution_count": 5,
      "id": "9777138e",
      "metadata": {
        "execution": {
          "iopub.execute_input": "2023-03-30T11:52:05.390174Z",
          "iopub.status.busy": "2023-03-30T11:52:05.390021Z",
          "iopub.status.idle": "2023-03-30T11:52:05.391486Z",
          "shell.execute_reply": "2023-03-30T11:52:05.391259Z"
        }
      },
      "outputs": [],
      "source": [
        "table.groupby(*C).reduce(*SC, *NC)"
      ]
    },
    {
      "cell_type": "markdown",
      "id": "a056e20b",
      "metadata": {},
      "source": [
        "The main difference between `reduce` and `select` is that each row of `grouped_table`\n",
        "has two kinds of entries, simple cells and groups.\n",
        "\n",
        "The `reduce` operation allows us to apply a reducer to transform a group into a value.\n",
        "\n",
        "## Counting Votes With Groupby-Reduce\n",
        "Below, you can see an example that uses the `sum` reducer to compute the sum of all\n",
        "votes and the sum of all fractional votes."
      ]
    },
    {
      "cell_type": "code",
      "execution_count": 6,
      "id": "0d60b428",
      "metadata": {
        "execution": {
          "iopub.execute_input": "2023-03-30T11:52:05.392581Z",
          "iopub.status.busy": "2023-03-30T11:52:05.392430Z",
          "iopub.status.idle": "2023-03-30T11:52:05.399273Z",
          "shell.execute_reply": "2023-03-30T11:52:05.399018Z"
        }
      },
      "outputs": [
        {
          "name": "stdout",
          "output_type": "stream",
          "text": [
            "            | food_item | label     | total_votes | total_fractional_vote\n",
            "^J7TAMCS... | apple     | fruit     | 2           | 2.0\n",
            "^1PFVS47... | apple     | vegetable | 0           | 0.0\n",
            "^5KDCJD0... | corn      | fruit     | 0           | 0.3\n",
            "^PWQH6F3... | corn      | vegetable | 1           | 0.7\n",
            "^G1NJYPJ... | pepper    | fruit     | 0           | 0.95\n",
            "^8Z5P5NS... | pepper    | vegetable | 2           | 1.05\n",
            "^MN367D4... | tomato    | fruit     | 1           | 1.2\n",
            "^A4TYCRR... | tomato    | vegetable | 2           | 1.8\n"
          ]
        }
      ],
      "source": [
        "aggregated_results = poll.groupby(poll.food_item, poll.label).reduce(\n",
        "    poll.food_item,\n",
        "    poll.label,\n",
        "    total_votes=pw.reducers.sum(poll.vote),\n",
        "    total_fractional_vote=pw.reducers.sum(poll.fractional_vote),\n",
        ")\n",
        "\n",
        "pw.debug.compute_and_print(aggregated_results)\n"
      ]
    },
    {
      "cell_type": "markdown",
      "id": "53d9e9f5",
      "metadata": {},
      "source": [
        "## Groupby-Reduce Column Constraints\n",
        "To briefly summarize, if $T$ is the set of all columns of a table\n",
        "* the columns from $C$ (used as comparison key) can be used as regular columns in the reduce function\n",
        "* for all the remaining columns (in $T \\setminus C$), we need to apply a reducer, before we use them in expressions\n",
        "\n",
        "In particular, we can mix columns from $C$ and reduced columns from $T \\setminus C$ in column expressions."
      ]
    },
    {
      "cell_type": "code",
      "execution_count": 7,
      "id": "ddf2cc86",
      "metadata": {
        "execution": {
          "iopub.execute_input": "2023-03-30T11:52:05.400478Z",
          "iopub.status.busy": "2023-03-30T11:52:05.400266Z",
          "iopub.status.idle": "2023-03-30T11:52:05.405761Z",
          "shell.execute_reply": "2023-03-30T11:52:05.405516Z"
        }
      },
      "outputs": [
        {
          "name": "stdout",
          "output_type": "stream",
          "text": [
            "            | food_item | note\n",
            "^J7TAMCS... | apple     | fruit got 2 votes, with total fractional_vote of 2.0\n",
            "^1PFVS47... | apple     | vegetable got 0 votes, with total fractional_vote of 0.0\n",
            "^5KDCJD0... | corn      | fruit got 0 votes, with total fractional_vote of 0.3\n",
            "^PWQH6F3... | corn      | vegetable got 1 votes, with total fractional_vote of 0.7\n",
            "^G1NJYPJ... | pepper    | fruit got 0 votes, with total fractional_vote of 0.95\n",
            "^8Z5P5NS... | pepper    | vegetable got 2 votes, with total fractional_vote of 1.05\n",
            "^MN367D4... | tomato    | fruit got 1 votes, with total fractional_vote of 1.2\n",
            "^A4TYCRR... | tomato    | vegetable got 2 votes, with total fractional_vote of 1.8\n"
          ]
        }
      ],
      "source": [
        "def make_a_note(label: str, tot_votes: int, tot_fractional_vote: float):\n",
        "    return f\"{label} got {tot_votes} votes, with total fractional_vote of {round(tot_fractional_vote, 2)}\"\n",
        "\n",
        "\n",
        "aggregated_results_note = poll.groupby(poll.food_item, poll.label).reduce(\n",
        "    poll.food_item,\n",
        "    note=pw.apply(\n",
        "        make_a_note,\n",
        "        poll.label,\n",
        "        pw.reducers.sum(poll.vote),\n",
        "        pw.reducers.sum(poll.fractional_vote),\n",
        "    ),\n",
        ")\n",
        "\n",
        "pw.debug.compute_and_print(aggregated_results_note)"
      ]
    },
    {
      "cell_type": "markdown",
      "id": "c40dcb22",
      "metadata": {},
      "source": [
        "## Auto generated id\n",
        "The `groupby(*C).reduce(...)` operation guarantees that each row of the\n",
        "output corresponds to a unique tuple of values from *C. Therefore *C\n",
        "can be used to generate a unique id for the resulting table.\n",
        "\n",
        "In fact that is the default behavior of Pathway' groupby operation and can be used e.g. to\n",
        "join the results of this table with some other table that has this id as a foreign key."
      ]
    },
    {
      "cell_type": "code",
      "execution_count": 8,
      "id": "c312bb3c",
      "metadata": {
        "execution": {
          "iopub.execute_input": "2023-03-30T11:52:05.406964Z",
          "iopub.status.busy": "2023-03-30T11:52:05.406797Z",
          "iopub.status.idle": "2023-03-30T11:52:05.415927Z",
          "shell.execute_reply": "2023-03-30T11:52:05.415650Z"
        }
      },
      "outputs": [
        {
          "name": "stdout",
          "output_type": "stream",
          "text": [
            "            | food_item | note\n",
            "^PWQH6F3... | corn      | vegetable got 1 votes, with total fractional_vote of 0.7\n",
            "^8Z5P5NS... | pepper    | vegetable got 2 votes, with total fractional_vote of 1.05\n",
            "^MN367D4... | tomato    | fruit got 1 votes, with total fractional_vote of 1.2\n"
          ]
        }
      ],
      "source": [
        "queries = pw.debug.table_from_markdown(\n",
        "    \"\"\"\n",
        "    | food_item | label\n",
        "1   | tomato    | fruit\n",
        "2   | pepper    | vegetable\n",
        "3   | corn      | vegetable\n",
        "\n",
        "\"\"\"\n",
        ").with_id_from(pw.this.food_item, pw.this.label)\n",
        "\n",
        "pw.debug.compute_and_print(\n",
        "    queries.join(\n",
        "        aggregated_results_note, queries.id == aggregated_results_note.id, id=queries.id\n",
        "    ).select(queries.food_item, aggregated_results_note.note)\n",
        ")"
      ]
    },
    {
      "cell_type": "markdown",
      "id": "e4491b2b",
      "metadata": {},
      "source": [
        "More examples of joins (including another example of a join over a foreign key)\n",
        "can be found in the join manual ([full article](https://pathway.com/developers/documentation/table-operations/join-manual), [foreign key example](https://pathway.com/developers/documentation/table-operations/join-manual#joins-on-a-foreign-key)).\n"
      ]
    },
    {
      "cell_type": "markdown",
      "id": "8c1a9351",
      "metadata": {},
      "source": [
        "## More Examples\n",
        "### Recent activity with max reducer\n",
        "Below, you can see a piece of code that finds the latest votes that were submitted to the poll.\n",
        "It is done with `groupby`-`reduce` operations chained with `join` and `filter`, using `pw.this`.\n",
        "\n"
      ]
    },
    {
      "cell_type": "code",
      "execution_count": 9,
      "id": "f325564f",
      "metadata": {
        "execution": {
          "iopub.execute_input": "2023-03-30T11:52:05.417144Z",
          "iopub.status.busy": "2023-03-30T11:52:05.416985Z",
          "iopub.status.idle": "2023-03-30T11:52:05.424030Z",
          "shell.execute_reply": "2023-03-30T11:52:05.423762Z"
        }
      },
      "outputs": [
        {
          "name": "stdout",
          "output_type": "stream",
          "text": [
            "            | food_item | label     | vote | fractional_vote\n",
            "^3G6RNTW... | apple     | fruit     | 1    | 1.0\n",
            "^2GDR47M... | apple     | vegetable | 0    | 0.0\n",
            "^RZFVP90... | pepper    | fruit     | 0    | 0.45\n",
            "^D4QQD9T... | pepper    | fruit     | 0    | 0.5\n",
            "^143YW45... | pepper    | vegetable | 1    | 0.5\n",
            "^RKVQWM9... | pepper    | vegetable | 1    | 0.55\n",
            "^AWS6TVR... | tomato    | fruit     | 0    | 0.3\n",
            "^N23ENS0... | tomato    | fruit     | 1    | 0.5\n",
            "^8H1RZD9... | tomato    | vegetable | 0    | 0.5\n",
            "^BDAYBKY... | tomato    | vegetable | 1    | 0.7\n"
          ]
        }
      ],
      "source": [
        "hour = 3600\n",
        "pw.debug.compute_and_print(\n",
        "    poll.groupby()\n",
        "    .reduce(time=pw.reducers.max(poll.time))\n",
        "    .join(poll, id=poll.id)\n",
        "    .select(\n",
        "        poll.food_item,\n",
        "        poll.label,\n",
        "        poll.vote,\n",
        "        poll.fractional_vote,\n",
        "        poll.time,\n",
        "        latest=pw.left.time,\n",
        "    )\n",
        "    .filter(pw.this.time >= pw.this.latest - 2 * hour)\n",
        "    .select(\n",
        "        pw.this.food_item,\n",
        "        pw.this.label,\n",
        "        pw.this.vote,\n",
        "        pw.this.fractional_vote,\n",
        "    )\n",
        ")"
      ]
    },
    {
      "cell_type": "markdown",
      "id": "22edee88",
      "metadata": {},
      "source": [
        "### Removing duplicates\n",
        "Below, duplicates are removed from the table with groupby-reduce.\n",
        "On its own, selecting `food_item` and `label` from poll returns duplicate rows:"
      ]
    },
    {
      "cell_type": "code",
      "execution_count": 10,
      "id": "8bedc6f6",
      "metadata": {
        "execution": {
          "iopub.execute_input": "2023-03-30T11:52:05.425209Z",
          "iopub.status.busy": "2023-03-30T11:52:05.425025Z",
          "iopub.status.idle": "2023-03-30T11:52:05.428541Z",
          "shell.execute_reply": "2023-03-30T11:52:05.428297Z"
        }
      },
      "outputs": [
        {
          "name": "stdout",
          "output_type": "stream",
          "text": [
            "            | food_item | label\n",
            "^22ZW9G7... | apple     | fruit\n",
            "^3G6RNTW... | apple     | fruit\n",
            "^PPD9JJS... | apple     | vegetable\n",
            "^2GDR47M... | apple     | vegetable\n",
            "^KSWMR98... | corn      | fruit\n",
            "^QATDR3F... | corn      | vegetable\n",
            "^RZFVP90... | pepper    | fruit\n",
            "^D4QQD9T... | pepper    | fruit\n",
            "^143YW45... | pepper    | vegetable\n",
            "^RKVQWM9... | pepper    | vegetable\n",
            "^AWS6TVR... | tomato    | fruit\n",
            "^N23ENS0... | tomato    | fruit\n",
            "^XZH5V9K... | tomato    | fruit\n",
            "^BDAYBKY... | tomato    | vegetable\n",
            "^8H1RZD9... | tomato    | vegetable\n",
            "^7PYHE71... | tomato    | vegetable\n"
          ]
        }
      ],
      "source": [
        "pw.debug.compute_and_print(poll.select(poll.food_item, poll.label))"
      ]
    },
    {
      "cell_type": "markdown",
      "id": "3efe771c",
      "metadata": {},
      "source": [
        "However, we can apply groupby-reduce to select a set of unique rows:"
      ]
    },
    {
      "cell_type": "code",
      "execution_count": 11,
      "id": "e7fc9786",
      "metadata": {
        "execution": {
          "iopub.execute_input": "2023-03-30T11:52:05.429741Z",
          "iopub.status.busy": "2023-03-30T11:52:05.429532Z",
          "iopub.status.idle": "2023-03-30T11:52:05.433476Z",
          "shell.execute_reply": "2023-03-30T11:52:05.433217Z"
        },
        "lines_to_next_cell": 2
      },
      "outputs": [
        {
          "name": "stdout",
          "output_type": "stream",
          "text": [
            "            | food_item | label\n",
            "^J7TAMCS... | apple     | fruit\n",
            "^1PFVS47... | apple     | vegetable\n",
            "^5KDCJD0... | corn      | fruit\n",
            "^PWQH6F3... | corn      | vegetable\n",
            "^G1NJYPJ... | pepper    | fruit\n",
            "^8Z5P5NS... | pepper    | vegetable\n",
            "^MN367D4... | tomato    | fruit\n",
            "^A4TYCRR... | tomato    | vegetable\n"
          ]
        }
      ],
      "source": [
        "pw.debug.compute_and_print(\n",
        "    poll.groupby(poll.food_item, poll.label).reduce(poll.food_item, poll.label)\n",
        ")"
      ]
    },
    {
      "cell_type": "markdown",
      "id": "ff6b3acc",
      "metadata": {},
      "source": [
        "### Chained groupby-reduce-join-select\n",
        "Below, you can find an example of groupby - reduce chained with join -select,\n",
        "using `pw.this`.\n",
        "\n",
        "To demonstrate that, we can ask our poll about total fractional vote for each pair\n",
        "`food_item`, `label` and total fractional vote assigned to rows for each `food_item`."
      ]
    },
    {
      "cell_type": "code",
      "execution_count": 12,
      "id": "5ff955f4",
      "metadata": {
        "execution": {
          "iopub.execute_input": "2023-03-30T11:52:05.434655Z",
          "iopub.status.busy": "2023-03-30T11:52:05.434470Z",
          "iopub.status.idle": "2023-03-30T11:52:05.440659Z",
          "shell.execute_reply": "2023-03-30T11:52:05.440402Z"
        }
      },
      "outputs": [
        {
          "name": "stdout",
          "output_type": "stream",
          "text": [
            "            | food_item | label     | label_fractional_vote | total_fractional_vote\n",
            "^EVB2CS1... | apple     | fruit     | 2.0                   | 2.0\n",
            "^H3474VR... | apple     | vegetable | 0.0                   | 2.0\n",
            "^RHPM1SZ... | corn      | fruit     | 0.3                   | 1.0\n",
            "^6Y0X55P... | corn      | vegetable | 0.7                   | 1.0\n",
            "^0J8D74P... | pepper    | fruit     | 0.95                  | 2.0\n",
            "^QFRK2S6... | pepper    | vegetable | 1.05                  | 2.0\n",
            "^MYZ69DJ... | tomato    | fruit     | 1.2                   | 3.0\n",
            "^0TFWB31... | tomato    | vegetable | 1.8                   | 3.0\n"
          ]
        }
      ],
      "source": [
        "relative_score = (\n",
        "    poll.groupby(poll.food_item)\n",
        "    .reduce(\n",
        "        poll.food_item,\n",
        "        total_fractional_vote=pw.reducers.sum(poll.fractional_vote),\n",
        "    )\n",
        "    .join(aggregated_results, pw.left.food_item == pw.right.food_item)\n",
        "    .select(\n",
        "        pw.left.food_item,\n",
        "        pw.right.label,\n",
        "        label_fractional_vote=pw.right.total_fractional_vote,\n",
        "        total_fractional_vote=pw.left.total_fractional_vote,\n",
        "    )\n",
        ")\n",
        "\n",
        "pw.debug.compute_and_print(relative_score)"
      ]
    },
    {
      "cell_type": "markdown",
      "id": "c6c515a6",
      "metadata": {},
      "source": [
        "### Election using argmax reducer\n",
        "Below, we present a snippet of code, that in the context of a poll,\n",
        "finds the most obvious information: which label got the most votes."
      ]
    },
    {
      "cell_type": "markdown",
      "id": "0ac6a068",
      "metadata": {},
      "source": [
        "Let's take a look on what exactly is the result of `argmax` reducer:"
      ]
    },
    {
      "cell_type": "code",
      "execution_count": 13,
      "id": "f9b67f58",
      "metadata": {
        "execution": {
          "iopub.execute_input": "2023-03-30T11:52:05.441952Z",
          "iopub.status.busy": "2023-03-30T11:52:05.441704Z",
          "iopub.status.idle": "2023-03-30T11:52:05.446908Z",
          "shell.execute_reply": "2023-03-30T11:52:05.446594Z"
        }
      },
      "outputs": [
        {
          "name": "stdout",
          "output_type": "stream",
          "text": [
            "            | argmax_id\n",
            "^R4FNZ1A... | ^QFRK2S6...\n",
            "^7FGKEW4... | ^EVB2CS1...\n",
            "^NX8S7C9... | ^6Y0X55P...\n",
            "^WXJFCXZ... | ^0TFWB31...\n"
          ]
        }
      ],
      "source": [
        "pw.debug.compute_and_print(\n",
        "    relative_score.groupby(relative_score.food_item).reduce(\n",
        "        argmax_id=pw.reducers.argmax(relative_score.label_fractional_vote)\n",
        "    )\n",
        ")"
      ]
    },
    {
      "cell_type": "markdown",
      "id": "8c9e3551",
      "metadata": {},
      "source": [
        "As you can see, it returns an ID of the row that maximizes `label_fractional_vote`\n",
        "for a fixed `food_item`.\n",
        "You can filter interesting rows using those ID-s as follows:"
      ]
    },
    {
      "cell_type": "code",
      "execution_count": 14,
      "id": "2006cac7",
      "metadata": {
        "execution": {
          "iopub.execute_input": "2023-03-30T11:52:05.448281Z",
          "iopub.status.busy": "2023-03-30T11:52:05.448016Z",
          "iopub.status.idle": "2023-03-30T11:52:05.455333Z",
          "shell.execute_reply": "2023-03-30T11:52:05.455041Z"
        }
      },
      "outputs": [
        {
          "name": "stdout",
          "output_type": "stream",
          "text": [
            "            | food_item | label     | label_fractional_vote\n",
            "^DRQWSCZ... | apple     | fruit     | 2.0\n",
            "^3ZHXCP9... | corn      | vegetable | 0.7\n",
            "^X9W749C... | pepper    | vegetable | 1.05\n",
            "^YAABPZ7... | tomato    | vegetable | 1.8\n"
          ]
        }
      ],
      "source": [
        "pw.debug.compute_and_print(\n",
        "    relative_score.groupby(relative_score.food_item)\n",
        "    .reduce(argmax_id=pw.reducers.argmax(relative_score.label_fractional_vote))\n",
        "    .join(relative_score, pw.left.argmax_id == relative_score.id)\n",
        "    .select(\n",
        "        relative_score.food_item,\n",
        "        relative_score.label,\n",
        "        relative_score.label_fractional_vote,\n",
        "    )\n",
        ")"
      ]
    },
    {
      "cell_type": "markdown",
      "id": "6cacb1e3",
      "metadata": {},
      "source": [
        "*Remark:* the code snippet above is equivalent to:"
      ]
    },
    {
      "cell_type": "code",
      "execution_count": 15,
      "id": "6fbf2346",
      "metadata": {
        "execution": {
          "iopub.execute_input": "2023-03-30T11:52:05.456661Z",
          "iopub.status.busy": "2023-03-30T11:52:05.456456Z",
          "iopub.status.idle": "2023-03-30T11:52:05.463287Z",
          "shell.execute_reply": "2023-03-30T11:52:05.462995Z"
        }
      },
      "outputs": [
        {
          "name": "stdout",
          "output_type": "stream",
          "text": [
            "            | food_item | label     | label_fractional_vote\n",
            "^7FGKEW4... | apple     | fruit     | 2.0\n",
            "^NX8S7C9... | corn      | vegetable | 0.7\n",
            "^R4FNZ1A... | pepper    | vegetable | 1.05\n",
            "^WXJFCXZ... | tomato    | vegetable | 1.8\n"
          ]
        }
      ],
      "source": [
        "pw.debug.compute_and_print(\n",
        "    relative_score.groupby(relative_score.food_item)\n",
        "    .reduce(argmax_id=pw.reducers.argmax(relative_score.label_fractional_vote))\n",
        "    .select(\n",
        "        relative_score.ix[pw.this.argmax_id].food_item,\n",
        "        relative_score.ix[pw.this.argmax_id].label,\n",
        "        relative_score.ix[pw.this.argmax_id].label_fractional_vote,\n",
        "    )\n",
        ")"
      ]
    },
    {
      "cell_type": "markdown",
      "id": "e6190aeb",
      "metadata": {},
      "source": [
        "You can read more about [joins](https://pathway.com/developers/documentation/table-operations/join-manual), [*.ix](https://pathway.com/developers/documentation/api-docs/pathway/#property-ix) and [ID-s](https://pathway.com/developers/documentation/table-operations/survival-guide#manipulating-the-table) in other places."
      ]
    }
  ],
  "metadata": {
    "jupytext": {
      "cell_metadata_filter": "-all",
      "main_language": "python",
      "notebook_metadata_filter": "-all"
    },
    "language_info": {
      "codemirror_mode": {
        "name": "ipython",
        "version": 3
      },
      "file_extension": ".py",
      "mimetype": "text/x-python",
      "name": "python",
      "nbconvert_exporter": "python",
      "pygments_lexer": "ipython3",
      "version": "3.10.8"
    }
  },
  "nbformat": 4,
  "nbformat_minor": 5
}