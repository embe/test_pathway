{
  "cells": [
    {
      "cell_type": "markdown",
      "metadata": {
        "id": "view-in-colab"
      },
      "source": [
        "<a href=\"https://colab.research.google.com/github/pathwaycom/pathway-examples/blob/main/documentation/groupby_reduce_manual.ipynb\" target=\"_parent\"><img src=\"https://pathway.com/assets/colab-badge.svg\" alt=\"Run In Colab\" class=\"inline\"/></a>"
      ]
    },
    {
      "cell_type": "markdown",
      "source": [
        "# [Colab-specific instructions] Installing Pathway with Python 3.8+\n",
        "\n",
        "> In the cell below we install pathway into a Python 3.8+ Linux runtime.\n",
        "> Please:\n",
        "> 1. **Insert in the form below the pip install command** given to you with your beta access.\n",
        "> 2. **Run the colab notebook (Ctrl+F9)**, disregarding the 'not authored by Google' warning. **The installation and loading time is less than 1 minute**.\n"
      ],
      "metadata": {
        "id": "notebook-instructions"
      }
    },
    {
      "cell_type": "code",
      "source": [
        "#@title \u2699\ufe0f Pathway installer. Please provide the pip install link for Pathway:\n",
        "# Please copy here the installation line:\n",
        "PATHWAY_INSTALL_LINE='pip install --extra-index-url https://packages.pathway.com/... pathway' #@param {type:\"string\"}\n",
        "\n",
        "if PATHWAY_INSTALL_LINE.startswith('pip install --extra-index-url '):\n",
        "    PATHWAY_INSTALL_LINE=PATHWAY_INSTALL_LINE[len('pip install --extra-index-url '):]\n",
        "\n",
        "class InterruptExecution(Exception):\n",
        "    def _render_traceback_(self):\n",
        "        pass\n",
        "\n",
        "if '...' in PATHWAY_INSTALL_LINE or not PATHWAY_INSTALL_LINE.startswith('https://packages.pathway.com/'):\n",
        "    print(\n",
        "        \"\u26d4 Please register at https://pathway.com/developers/documentation/introduction/installation-and-first-steps\\n\"\n",
        "        \"to Copy & Paste the Linux pip install line for Pathway!\"\n",
        "    )\n",
        "    raise InterruptExecution\n",
        "\n",
        "DO_INSTALL = False\n",
        "import sys\n",
        "if sys.version_info >= (3, 8):\n",
        "    print(f'\u2705 Python {sys.version} is active.')\n",
        "    try:\n",
        "        import pathway as pw\n",
        "        print('\u2705 Pathway successfully imported.')\n",
        "    except:\n",
        "        DO_INSTALL = True\n",
        "else:\n",
        "    print(\"\u26d4 Pathway requires Python 3.8 or higher.\")\n",
        "    raise InterruptExecution\n",
        "\n",
        "if DO_INSTALL:\n",
        "    !ls $(dirname $(which python))/../lib/python*/*-packages/pathway 1>/dev/null 2>/dev/null || echo \"\u231b Installing Pathway. This usually takes a few seconds...\"\n",
        "    !ls $(dirname $(which python))/../lib/python*/*-packages/pathway 1>/dev/null 2>/dev/null || pip install --extra-index-url {PATHWAY_INSTALL_LINE} 1>/dev/null 2>/dev/null\n",
        "    !ls $(dirname $(which python))/../lib/python*/*-packages/pathway 1>/dev/null 2>/dev/null || echo \"\u26d4 Installation failed. Don't be shy to reach out to the community at https://pathway.com !\"\n",
        "    !ls $(dirname $(which python))/../lib/python*/*-packages/pathway 1>/dev/null 2>/dev/null && echo \"\u2705 All installed. Enjoy Pathway!\"\n"
      ],
      "metadata": {
        "id": "pip-installation-pathway",
        "cellView": "form"
      },
      "execution_count": null,
      "outputs": []
    },
    {
      "cell_type": "markdown",
      "id": "2ef435d9",
      "metadata": {},
      "source": [
        "# Groupby - Reduce\n",
        "In this manu[a]l, you will learn how to aggregate data with the groupby-reduce scheme.\n",
        "\n",
        "Together, the `groupby` and `reduce` operations can be used\n",
        "to **aggregate data across the rows of the table**. In this guide,\n",
        "we expand upon a simple demonstration from\n",
        "[Survival Guide](https://pathway.com/developers/documentation/table-operations/survival-guide)\n",
        "and :\n",
        "* explain syntax of [groupby](#groupby-syntax) and [reduce](#reduce-syntax)\n",
        "* explain [two kinds of columns we get from groupby](#groupby-reduce-column-constrains)\n",
        "* explain [automatic id generation](#auto-generated-id)\n",
        "* show [a few simple applications](#more-examples)"
      ]
    },
    {
      "cell_type": "markdown",
      "id": "0fc7a4d6",
      "metadata": {},
      "source": [
        "## Prerequisites\n",
        "The assumption is that we are familiar with some basic operations\n",
        "explained in [Survival Guide](https://pathway.com/developers/documentation/table-operations/survival-guide).\n",
        "As usual, we begin with importing Pathway."
      ]
    },
    {
      "cell_type": "code",
      "execution_count": 1,
      "id": "e877a36e",
      "metadata": {
        "execution": {
          "iopub.execute_input": "2023-01-24T08:17:38.307597Z",
          "iopub.status.busy": "2023-01-24T08:17:38.307419Z",
          "iopub.status.idle": "2023-01-24T08:17:39.267200Z",
          "shell.execute_reply": "2023-01-24T08:17:39.266820Z"
        }
      },
      "outputs": [],
      "source": [
        "import pathway as pw"
      ]
    },
    {
      "cell_type": "markdown",
      "id": "cb24820c",
      "metadata": {
        "lines_to_next_cell": 2
      },
      "source": [
        "To demonstrate the capabilities of groupby and reduce operations,\n",
        "let us consider some made up scenario.\n",
        "\n",
        "**Storyline:** let's assume that we made a poll, asking whether particular food item is a fruit or a vegetable.\n",
        "\n",
        "An answer to such question is a tuple `(food_item, label, vote, fractional_vote)`.\n",
        "That is, if someone could tell that tomato is a fruit, but they are not really sure,\n",
        "it could be registered as two tuples:\n",
        "\n",
        "* (tomato, fruit, 1, 0.5),\n",
        "\n",
        "* (tomato, vegetable, 0, 0.5)\n",
        "\n",
        "Below, we have the results of the poll, stored in the table *poll*."
      ]
    },
    {
      "cell_type": "code",
      "execution_count": 2,
      "id": "abc1e9bb",
      "metadata": {
        "execution": {
          "iopub.execute_input": "2023-01-24T08:17:39.269294Z",
          "iopub.status.busy": "2023-01-24T08:17:39.269077Z",
          "iopub.status.idle": "2023-01-24T08:17:39.275007Z",
          "shell.execute_reply": "2023-01-24T08:17:39.274710Z"
        }
      },
      "outputs": [],
      "source": [
        "poll = pw.debug.table_from_markdown(\n",
        "    \"\"\"\n",
        "    | food_item | label     | vote  | fractional_vote   | time\n",
        "0   | tomato    | fruit     | 1     | 0.5               | 1669882728\n",
        "1   | tomato    | vegetable | 0     | 0.5               | 1669882728\n",
        "2   | apple     | fruit     | 1     | 1                 | 1669883612\n",
        "3   | apple     | vegetable | 0     | 0                 | 1669883612\n",
        "4   | pepper    | vegetable | 1     | 0.5               | 1669883059\n",
        "5   | pepper    | fruit     | 0     | 0.5               | 1669883059\n",
        "6   | tomato    | fruit     | 0     | 0.3               | 1669880159\n",
        "7   | tomato    | vegetable | 1     | 0.7               | 1669880159\n",
        "8   | corn      | fruit     | 0     | 0.3               | 1669876829\n",
        "9   | corn      | vegetable | 1     | 0.7               | 1669876829\n",
        "10  | tomato    | fruit     | 0     | 0.4               | 1669874325\n",
        "11  | tomato    | vegetable | 1     | 0.6               | 1669874325\n",
        "12  | pepper    | fruit     | 0     | 0.45              | 1669887207\n",
        "13  | pepper    | vegetable | 1     | 0.55              | 1669887207\n",
        "14  | apple     | fruit     | 1     | 1                 | 1669874325\n",
        "15  | apple     | vegetable | 0     | 0                 | 1669874325\n",
        "\n",
        "\"\"\"\n",
        ")"
      ]
    },
    {
      "cell_type": "markdown",
      "id": "be5858ee",
      "metadata": {},
      "source": [
        "To demonstrate a simple groupby-reduce application, let's ask about\n",
        "the total `fractional_vote` that was assigned to any combination `foot_item`, `label`.\n",
        "\n",
        "\n",
        "First we explain the syntax of both [`groupby`](#groupby-syntax) and [`reduce`](#reduce-syntax).\n",
        "Then, we show groupby-reduce code in [action](#groupby-reduce-simple-example)."
      ]
    },
    {
      "cell_type": "markdown",
      "id": "8704b592",
      "metadata": {},
      "source": [
        "## Groupby Syntax\n",
        "The syntax of the `groupby` operation is fairly simple:"
      ]
    },
    {
      "cell_type": "code",
      "execution_count": 3,
      "id": "b91611b5",
      "metadata": {
        "execution": {
          "iopub.execute_input": "2023-01-24T08:17:39.276464Z",
          "iopub.status.busy": "2023-01-24T08:17:39.276193Z",
          "iopub.status.idle": "2023-01-24T08:17:39.277944Z",
          "shell.execute_reply": "2023-01-24T08:17:39.277659Z"
        }
      },
      "outputs": [],
      "source": [
        "table.groupby(*C)"
      ]
    },
    {
      "cell_type": "markdown",
      "id": "5f3f7037",
      "metadata": {},
      "source": [
        "\n",
        "It takes a list of columns `*C` as argument and groups the row according to their values in those columns.\n",
        "In other words, all the rows with the same values, column-wise, in each column of `*C` are put into the same group.\n",
        "\n",
        "As a result, it returns a `GroupedTable` object, which stores\n",
        "a single row for each unique tuple from columns in `*C` and a collection\n",
        "of grouped items corresponding to each column that is not in `*C`.\n",
        "\n",
        "In the example above, if we groupby over pair of columns `food_item`, `label`,\n",
        "the groupby computes a collection of `votes` and a collection of `fractional_votes`\n",
        "for each unique combination `food_item`, `label`.\n",
        "\n",
        "In order to use this object, we need to process those collections\n",
        "with the `reduce` operation.\n",
        "\n",
        "## Reduce Syntax\n",
        "The `reduce` function behaves a little bit like `select`, and it also takes\n",
        "two kinds of arguments:"
      ]
    },
    {
      "cell_type": "code",
      "execution_count": 4,
      "id": "f4fd5650",
      "metadata": {
        "execution": {
          "iopub.execute_input": "2023-01-24T08:17:39.279207Z",
          "iopub.status.busy": "2023-01-24T08:17:39.278959Z",
          "iopub.status.idle": "2023-01-24T08:17:39.280595Z",
          "shell.execute_reply": "2023-01-24T08:17:39.280306Z"
        }
      },
      "outputs": [],
      "source": [
        "grouped_table.reduce(*SC, *NC)"
      ]
    },
    {
      "cell_type": "markdown",
      "id": "af24d91f",
      "metadata": {},
      "source": [
        "* *SC is simply a list of columns that were present in the table before the groupby\n",
        "operation,\n",
        "* *NC is a list of new columns (i.e. columns with new name), each defined as\n",
        "some function of cells in the row of grouped_table.\n",
        "\n",
        "It can be used together with groupby, as follows:"
      ]
    },
    {
      "cell_type": "code",
      "execution_count": 5,
      "id": "87d305e7",
      "metadata": {
        "execution": {
          "iopub.execute_input": "2023-01-24T08:17:39.281840Z",
          "iopub.status.busy": "2023-01-24T08:17:39.281626Z",
          "iopub.status.idle": "2023-01-24T08:17:39.283238Z",
          "shell.execute_reply": "2023-01-24T08:17:39.282962Z"
        }
      },
      "outputs": [],
      "source": [
        "table.groupby(*C).reduce(*SC, *NC)"
      ]
    },
    {
      "cell_type": "markdown",
      "id": "45befd42",
      "metadata": {},
      "source": [
        "The main difference between `reduce` and `select` is that each row of `grouped_table`\n",
        "has two kinds of entries, simple cells and groups.\n",
        "\n",
        "The `reduce` operation allows us to apply a reducer to transform a group into a value.\n",
        "\n",
        "## Counting Votes With Groupby-Reduce\n",
        "Below, you can see an example that uses the `sum` reducer to compute the sum of all\n",
        "votes and the sum of all fractional votes."
      ]
    },
    {
      "cell_type": "code",
      "execution_count": 6,
      "id": "d47d92b2",
      "metadata": {
        "execution": {
          "iopub.execute_input": "2023-01-24T08:17:39.284474Z",
          "iopub.status.busy": "2023-01-24T08:17:39.284256Z",
          "iopub.status.idle": "2023-01-24T08:17:39.289533Z",
          "shell.execute_reply": "2023-01-24T08:17:39.289186Z"
        }
      },
      "outputs": [
        {
          "name": "stdout",
          "output_type": "stream",
          "text": [
            "            | food_item | label     | total_votes | total_fractional_vote\n",
            "^NDDC1CV... | apple     | fruit     | 2           | 2.0\n",
            "^0QWZR64... | apple     | vegetable | 0           | 0.0\n",
            "^EY2V9JZ... | corn      | fruit     | 0           | 0.3\n",
            "^SYKEK0R... | corn      | vegetable | 1           | 0.7\n",
            "^8J0ZA4Z... | pepper    | fruit     | 0           | 0.95\n",
            "^6FVPERH... | pepper    | vegetable | 2           | 1.05\n",
            "^PJ7D6BC... | tomato    | fruit     | 1           | 1.2\n",
            "^JYAGRWY... | tomato    | vegetable | 2           | 1.8\n"
          ]
        }
      ],
      "source": [
        "aggregated_results = poll.groupby(poll.food_item, poll.label).reduce(\n",
        "    poll.food_item,\n",
        "    poll.label,\n",
        "    total_votes=pw.reducers.sum(poll.vote),\n",
        "    total_fractional_vote=pw.reducers.sum(poll.fractional_vote),\n",
        ")\n",
        "\n",
        "pw.debug.compute_and_print(aggregated_results)\n"
      ]
    },
    {
      "cell_type": "markdown",
      "id": "fcc8424b",
      "metadata": {},
      "source": [
        "## Groupby-Reduce Column Constraints\n",
        "To briefly summarize, if $T$ is the set of all columns of a table\n",
        "* the columns from $C$ (used as comparison key) can be used as regular columns in the reduce function\n",
        "* for all the remaining columns (in $T \\setminus C$), we need to apply a reducer, before we use them in expressions\n",
        "\n",
        "In particular, we can mix columns from $C$ and reduced columns from $T \\setminus C$ in column expressions."
      ]
    },
    {
      "cell_type": "code",
      "execution_count": 7,
      "id": "89e18187",
      "metadata": {
        "execution": {
          "iopub.execute_input": "2023-01-24T08:17:39.290864Z",
          "iopub.status.busy": "2023-01-24T08:17:39.290639Z",
          "iopub.status.idle": "2023-01-24T08:17:39.295189Z",
          "shell.execute_reply": "2023-01-24T08:17:39.294876Z"
        }
      },
      "outputs": [
        {
          "name": "stdout",
          "output_type": "stream",
          "text": [
            "            | food_item | note\n",
            "^NDDC1CV... | apple     | fruit got 2 votes, with total fractional_vote of 2.0\n",
            "^0QWZR64... | apple     | vegetable got 0 votes, with total fractional_vote of 0.0\n",
            "^EY2V9JZ... | corn      | fruit got 0 votes, with total fractional_vote of 0.3\n",
            "^SYKEK0R... | corn      | vegetable got 1 votes, with total fractional_vote of 0.7\n",
            "^8J0ZA4Z... | pepper    | fruit got 0 votes, with total fractional_vote of 0.95\n",
            "^6FVPERH... | pepper    | vegetable got 2 votes, with total fractional_vote of 1.05\n",
            "^PJ7D6BC... | tomato    | fruit got 1 votes, with total fractional_vote of 1.2\n",
            "^JYAGRWY... | tomato    | vegetable got 2 votes, with total fractional_vote of 1.8\n"
          ]
        }
      ],
      "source": [
        "def make_a_note(label: str, tot_votes: int, tot_fractional_vote: float):\n",
        "    return f\"{label} got {tot_votes} votes, with total fractional_vote of {round(tot_fractional_vote, 2)}\"\n",
        "\n",
        "\n",
        "aggregated_results_note = poll.groupby(poll.food_item, poll.label).reduce(\n",
        "    poll.food_item,\n",
        "    note=pw.apply(\n",
        "        make_a_note,\n",
        "        poll.label,\n",
        "        pw.reducers.sum(poll.vote),\n",
        "        pw.reducers.sum(poll.fractional_vote),\n",
        "    ),\n",
        ")\n",
        "\n",
        "pw.debug.compute_and_print(aggregated_results_note)"
      ]
    },
    {
      "cell_type": "markdown",
      "id": "87319e4e",
      "metadata": {},
      "source": [
        "## Auto generated id\n",
        "The `groupby(*C).reduce(...)` operation guarantees that each row of the\n",
        "output corresponds to a unique tuple of values from *C. Therefore *C\n",
        "can be used to generate a unique id for the resulting table.\n",
        "\n",
        "In fact that is the default behavior of Pathway's groupby operation and can be used e.g. to\n",
        "join the results of this table with some other table that has this id as a foreign key."
      ]
    },
    {
      "cell_type": "code",
      "execution_count": 8,
      "id": "509e9fc5",
      "metadata": {
        "execution": {
          "iopub.execute_input": "2023-01-24T08:17:39.296463Z",
          "iopub.status.busy": "2023-01-24T08:17:39.296241Z",
          "iopub.status.idle": "2023-01-24T08:17:39.303206Z",
          "shell.execute_reply": "2023-01-24T08:17:39.302899Z"
        }
      },
      "outputs": [
        {
          "name": "stdout",
          "output_type": "stream",
          "text": [
            "            | food_item | note\n",
            "^SYKEK0R... | corn      | vegetable got 1 votes, with total fractional_vote of 0.7\n",
            "^6FVPERH... | pepper    | vegetable got 2 votes, with total fractional_vote of 1.05\n",
            "^PJ7D6BC... | tomato    | fruit got 1 votes, with total fractional_vote of 1.2\n"
          ]
        }
      ],
      "source": [
        "queries = pw.debug.table_from_markdown(\n",
        "    \"\"\"\n",
        "    | food_item | label\n",
        "1   | tomato    | fruit\n",
        "2   | pepper    | vegetable\n",
        "3   | corn      | vegetable\n",
        "\n",
        "\"\"\"\n",
        ").with_id_from(pw.this.food_item, pw.this.label)\n",
        "\n",
        "pw.debug.compute_and_print(\n",
        "    queries.join(\n",
        "        aggregated_results_note, queries.id == aggregated_results_note.id, id=queries.id\n",
        "    ).select(queries.food_item, aggregated_results_note.note)\n",
        ")"
      ]
    },
    {
      "cell_type": "markdown",
      "id": "40aa882a",
      "metadata": {},
      "source": [
        "More examples of joins (including another example of a join over a foreign key)\n",
        "can be found in the join manual ([full article](https://pathway.com/developers/documentation/table-operations/join-manual), [foreign key example](https://pathway.com/developers/documentation/table-operations/join-manual#joins-on-a-foreign-key)).\n"
      ]
    },
    {
      "cell_type": "markdown",
      "id": "127491d7",
      "metadata": {},
      "source": [
        "## More Examples\n",
        "### Recent activity with max reducer\n",
        "Below, we show a piece of code that finds the latest votes that were submitted to our poll.\n",
        "It is done with `groupby`-`reduce` operations chained with `join` and `filter`, using `pw.this`.\n",
        "\n"
      ]
    },
    {
      "cell_type": "code",
      "execution_count": 9,
      "id": "5d2d6fcb",
      "metadata": {
        "execution": {
          "iopub.execute_input": "2023-01-24T08:17:39.304524Z",
          "iopub.status.busy": "2023-01-24T08:17:39.304296Z",
          "iopub.status.idle": "2023-01-24T08:17:39.352795Z",
          "shell.execute_reply": "2023-01-24T08:17:39.352488Z"
        }
      },
      "outputs": [
        {
          "name": "stdout",
          "output_type": "stream",
          "text": [
            "            | food_item | label     | vote | fractional_vote\n",
            "^YHZBTNY... | apple     | fruit     | 1    | 1.0\n",
            "^SERVYWW... | apple     | vegetable | 0    | 0.0\n",
            "^4B2REY1... | pepper    | fruit     | 0    | 0.45\n",
            "^76QPWK3... | pepper    | fruit     | 0    | 0.5\n",
            "^8GR6BSX... | pepper    | vegetable | 1    | 0.5\n",
            "^VYA37VV... | pepper    | vegetable | 1    | 0.55\n",
            "^C4S6S48... | tomato    | fruit     | 0    | 0.3\n",
            "^8JFNKVV... | tomato    | fruit     | 1    | 0.5\n",
            "^2TMTFGY... | tomato    | vegetable | 0    | 0.5\n",
            "^19D0FQ9... | tomato    | vegetable | 1    | 0.7\n"
          ]
        }
      ],
      "source": [
        "hour = 3600\n",
        "pw.debug.compute_and_print(\n",
        "    poll.groupby()\n",
        "    .reduce(time=pw.reducers.max(poll.time))\n",
        "    .join(poll, id=poll.id)\n",
        "    .select(\n",
        "        poll.food_item,\n",
        "        poll.label,\n",
        "        poll.vote,\n",
        "        poll.fractional_vote,\n",
        "        poll.time,\n",
        "        latest=pw.left.time,\n",
        "    )\n",
        "    .filter(pw.this.time >= pw.this.latest - 2 * hour)\n",
        "    .select(\n",
        "        pw.this.food_item,\n",
        "        pw.this.label,\n",
        "        pw.this.vote,\n",
        "        pw.this.fractional_vote,\n",
        "    )\n",
        ")"
      ]
    },
    {
      "cell_type": "markdown",
      "id": "697c91ff",
      "metadata": {},
      "source": [
        "### Removing duplicates\n",
        "Below, we show how can we remove duplicates from table with groupby-reduce.\n",
        "On its own, selecting `food_item` and `label` from poll returns duplicate rows:"
      ]
    },
    {
      "cell_type": "code",
      "execution_count": 10,
      "id": "65a6953d",
      "metadata": {
        "execution": {
          "iopub.execute_input": "2023-01-24T08:17:39.354139Z",
          "iopub.status.busy": "2023-01-24T08:17:39.354026Z",
          "iopub.status.idle": "2023-01-24T08:17:39.357274Z",
          "shell.execute_reply": "2023-01-24T08:17:39.357028Z"
        }
      },
      "outputs": [
        {
          "name": "stdout",
          "output_type": "stream",
          "text": [
            "            | food_item | label\n",
            "^SE0WWPZ... | apple     | fruit\n",
            "^YHZBTNY... | apple     | fruit\n",
            "^NN09ZJR... | apple     | vegetable\n",
            "^SERVYWW... | apple     | vegetable\n",
            "^7ZG1GY6... | corn      | fruit\n",
            "^4A5S1JN... | corn      | vegetable\n",
            "^4B2REY1... | pepper    | fruit\n",
            "^76QPWK3... | pepper    | fruit\n",
            "^VYA37VV... | pepper    | vegetable\n",
            "^8GR6BSX... | pepper    | vegetable\n",
            "^8JFNKVV... | tomato    | fruit\n",
            "^C4S6S48... | tomato    | fruit\n",
            "^4N5HNMX... | tomato    | fruit\n",
            "^19D0FQ9... | tomato    | vegetable\n",
            "^2TMTFGY... | tomato    | vegetable\n",
            "^HMETZT8... | tomato    | vegetable\n"
          ]
        }
      ],
      "source": [
        "pw.debug.compute_and_print(poll.select(poll.food_item, poll.label))"
      ]
    },
    {
      "cell_type": "markdown",
      "id": "9382dac2",
      "metadata": {},
      "source": [
        "However, we can apply groupby-reduce to select a set of unique rows:"
      ]
    },
    {
      "cell_type": "code",
      "execution_count": 11,
      "id": "44b24a10",
      "metadata": {
        "execution": {
          "iopub.execute_input": "2023-01-24T08:17:39.358409Z",
          "iopub.status.busy": "2023-01-24T08:17:39.358307Z",
          "iopub.status.idle": "2023-01-24T08:17:39.361769Z",
          "shell.execute_reply": "2023-01-24T08:17:39.361480Z"
        },
        "lines_to_next_cell": 2
      },
      "outputs": [
        {
          "name": "stdout",
          "output_type": "stream",
          "text": [
            "            | food_item | label\n",
            "^NDDC1CV... | apple     | fruit\n",
            "^0QWZR64... | apple     | vegetable\n",
            "^EY2V9JZ... | corn      | fruit\n",
            "^SYKEK0R... | corn      | vegetable\n",
            "^8J0ZA4Z... | pepper    | fruit\n",
            "^6FVPERH... | pepper    | vegetable\n",
            "^PJ7D6BC... | tomato    | fruit\n",
            "^JYAGRWY... | tomato    | vegetable\n"
          ]
        }
      ],
      "source": [
        "pw.debug.compute_and_print(\n",
        "    poll.groupby(poll.food_item, poll.label).reduce(poll.food_item, poll.label)\n",
        ")"
      ]
    },
    {
      "cell_type": "markdown",
      "id": "0ec6b920",
      "metadata": {},
      "source": [
        "### Chained groupby-reduce-join-select\n",
        "Below, you can find an example of groupby - reduce chained with join -select,\n",
        "using `pw.this`.\n",
        "\n",
        "To demonstrate that, we can ask our poll about total fractional vote for each pair\n",
        "`food_item`, `label` and total fractional vote assigned to rows for each `food_item`."
      ]
    },
    {
      "cell_type": "code",
      "execution_count": 12,
      "id": "7a0b2be4",
      "metadata": {
        "execution": {
          "iopub.execute_input": "2023-01-24T08:17:39.362919Z",
          "iopub.status.busy": "2023-01-24T08:17:39.362820Z",
          "iopub.status.idle": "2023-01-24T08:17:39.367990Z",
          "shell.execute_reply": "2023-01-24T08:17:39.367725Z"
        }
      },
      "outputs": [
        {
          "name": "stdout",
          "output_type": "stream",
          "text": [
            "            | food_item | label     | label_fractional_vote | total_fractional_vote\n",
            "^D5KPC8X... | apple     | fruit     | 2.0                   | 2.0\n",
            "^E97ATBC... | apple     | vegetable | 0.0                   | 2.0\n",
            "^VS2ZSXQ... | corn      | fruit     | 0.3                   | 1.0\n",
            "^GJJGT7Z... | corn      | vegetable | 0.7                   | 1.0\n",
            "^TJ62GZB... | pepper    | fruit     | 0.95                  | 2.0\n",
            "^DZ9XSD5... | pepper    | vegetable | 1.05                  | 2.0\n",
            "^1NC0NHJ... | tomato    | fruit     | 1.2                   | 3.0\n",
            "^92XHP8W... | tomato    | vegetable | 1.8                   | 3.0\n"
          ]
        }
      ],
      "source": [
        "relative_score = (\n",
        "    poll.groupby(poll.food_item)\n",
        "    .reduce(\n",
        "        poll.food_item,\n",
        "        total_fractional_vote=pw.reducers.sum(poll.fractional_vote),\n",
        "    )\n",
        "    .join(aggregated_results, pw.left.food_item == pw.right.food_item)\n",
        "    .select(\n",
        "        pw.left.food_item,\n",
        "        pw.right.label,\n",
        "        label_fractional_vote=pw.right.total_fractional_vote,\n",
        "        total_fractional_vote=pw.left.total_fractional_vote,\n",
        "    )\n",
        ")\n",
        "\n",
        "pw.debug.compute_and_print(relative_score)"
      ]
    },
    {
      "cell_type": "markdown",
      "id": "854443ee",
      "metadata": {},
      "source": [
        "### Election using argmax reducer\n",
        "Below, we present a snippet of code, that in the context of a poll,\n",
        "finds the most obvious information: which label got the most votes."
      ]
    },
    {
      "cell_type": "markdown",
      "id": "cce662a6",
      "metadata": {},
      "source": [
        "Let's take a look on what exactly is the result of `argmax` reducer:"
      ]
    },
    {
      "cell_type": "code",
      "execution_count": 13,
      "id": "e16ca115",
      "metadata": {
        "execution": {
          "iopub.execute_input": "2023-01-24T08:17:39.369125Z",
          "iopub.status.busy": "2023-01-24T08:17:39.369026Z",
          "iopub.status.idle": "2023-01-24T08:17:39.373112Z",
          "shell.execute_reply": "2023-01-24T08:17:39.372878Z"
        }
      },
      "outputs": [
        {
          "name": "stdout",
          "output_type": "stream",
          "text": [
            "            | argmax_id\n",
            "^QP417F6... | ^DZ9XSD5...\n",
            "^REGKSGJ... | ^D5KPC8X...\n",
            "^5WT76K7... | ^GJJGT7Z...\n",
            "^J74ZRTM... | ^92XHP8W...\n"
          ]
        }
      ],
      "source": [
        "pw.debug.compute_and_print(\n",
        "    relative_score.groupby(relative_score.food_item).reduce(\n",
        "        argmax_id=pw.reducers.argmax(relative_score.label_fractional_vote)\n",
        "    )\n",
        ")"
      ]
    },
    {
      "cell_type": "markdown",
      "id": "01b33134",
      "metadata": {},
      "source": [
        "As we can see, it returns an ID of the row, that maximizes `label_fractional_vote`\n",
        "for a fixed `food_item`.\n",
        "We can filter interesting rows using those ID-s as follows:"
      ]
    },
    {
      "cell_type": "code",
      "execution_count": 14,
      "id": "56eb49a2",
      "metadata": {
        "execution": {
          "iopub.execute_input": "2023-01-24T08:17:39.374370Z",
          "iopub.status.busy": "2023-01-24T08:17:39.374162Z",
          "iopub.status.idle": "2023-01-24T08:17:39.379681Z",
          "shell.execute_reply": "2023-01-24T08:17:39.379421Z"
        }
      },
      "outputs": [
        {
          "name": "stdout",
          "output_type": "stream",
          "text": [
            "            | food_item | label     | label_fractional_vote\n",
            "^29S8WD4... | apple     | fruit     | 2.0\n",
            "^85V47J1... | corn      | vegetable | 0.7\n",
            "^V9ECPCT... | pepper    | vegetable | 1.05\n",
            "^DDYF5WX... | tomato    | vegetable | 1.8\n"
          ]
        }
      ],
      "source": [
        "pw.debug.compute_and_print(\n",
        "    relative_score.groupby(relative_score.food_item)\n",
        "    .reduce(argmax_id=pw.reducers.argmax(relative_score.label_fractional_vote))\n",
        "    .join(relative_score, pw.left.argmax_id == relative_score.id)\n",
        "    .select(\n",
        "        relative_score.food_item,\n",
        "        relative_score.label,\n",
        "        relative_score.label_fractional_vote,\n",
        "    )\n",
        ")"
      ]
    },
    {
      "cell_type": "markdown",
      "id": "d656548b",
      "metadata": {},
      "source": [
        "*Remark:* the code snippet above is equivalent to:"
      ]
    },
    {
      "cell_type": "code",
      "execution_count": 15,
      "id": "b5e5f83a",
      "metadata": {
        "execution": {
          "iopub.execute_input": "2023-01-24T08:17:39.380845Z",
          "iopub.status.busy": "2023-01-24T08:17:39.380737Z",
          "iopub.status.idle": "2023-01-24T08:17:39.387056Z",
          "shell.execute_reply": "2023-01-24T08:17:39.386813Z"
        }
      },
      "outputs": [
        {
          "name": "stdout",
          "output_type": "stream",
          "text": [
            "            | food_item | label     | label_fractional_vote\n",
            "^REGKSGJ... | apple     | fruit     | 2.0\n",
            "^5WT76K7... | corn      | vegetable | 0.7\n",
            "^QP417F6... | pepper    | vegetable | 1.05\n",
            "^J74ZRTM... | tomato    | vegetable | 1.8\n"
          ]
        }
      ],
      "source": [
        "pw.debug.compute_and_print(\n",
        "    relative_score.groupby(relative_score.food_item)\n",
        "    .reduce(argmax_id=pw.reducers.argmax(relative_score.label_fractional_vote))\n",
        "    .select(\n",
        "        relative_score.ix[pw.this.argmax_id].food_item,\n",
        "        relative_score.ix[pw.this.argmax_id].label,\n",
        "        relative_score.ix[pw.this.argmax_id].label_fractional_vote,\n",
        "    )\n",
        ")"
      ]
    },
    {
      "cell_type": "markdown",
      "id": "b3f2df14",
      "metadata": {},
      "source": [
        "You can read more about [joins](https://pathway.com/developers/documentation/table-operations/join-manual), [*.ix](https://pathway.com/developers/documentation/api-docs/pathway/#property-ix) and [ID-s](https://pathway.com/developers/documentation/table-operations/survival-guide#manipulating-the-table) in other places."
      ]
    }
  ],
  "metadata": {
    "jupytext": {
      "cell_metadata_filter": "-all",
      "main_language": "python",
      "notebook_metadata_filter": "-all"
    },
    "language_info": {
      "codemirror_mode": {
        "name": "ipython",
        "version": 3
      },
      "file_extension": ".py",
      "mimetype": "text/x-python",
      "name": "python",
      "nbconvert_exporter": "python",
      "pygments_lexer": "ipython3",
      "version": "3.10.8"
    }
  },
  "nbformat": 4,
  "nbformat_minor": 5
}