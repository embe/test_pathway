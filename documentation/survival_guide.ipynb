{
  "cells": [
    {
      "cell_type": "markdown",
      "metadata": {
        "id": "view-in-colab"
      },
      "source": [
        "<a href=\"https://colab.research.google.com/github/pathwaycom/pathway-examples/blob/main/documentation/survival_guide.ipynb\" target=\"_parent\"><img src=\"https://pathway.com/assets/colab-badge.svg\" alt=\"Run In Colab\" class=\"inline\"/></a>"
      ]
    },
    {
      "cell_type": "markdown",
      "source": [
        "# [Colab-specific instructions] Installing Pathway with Python 3.8+\n",
        "\n",
        "> In the cell below we install pathway into a Python 3.8+ Linux runtime.\n",
        "> Please:\n",
        "> 1. **Insert in the form below the pip install command** given to you with your beta access.\n",
        "> 2. **Run the colab notebook (Ctrl+F9)**, disregarding the 'not authored by Google' warning. **The installation and loading time is less than 1 minute**.\n"
      ],
      "metadata": {
        "id": "notebook-instructions"
      }
    },
    {
      "cell_type": "code",
      "source": [
        "#@title \u2699\ufe0f Pathway installer. Please provide the pip install link for Pathway:\n",
        "# Please copy here the installation line:\n",
        "PATHWAY_INSTALL_LINE='pip install --extra-index-url https://packages.pathway.com/... pathway' #@param {type:\"string\"}\n",
        "\n",
        "PATHWAY_INSTALL_LINE.replace('pip install --extra-index-url ', '')\n",
        "\n",
        "class InterruptExecution(Exception):\n",
        "    def _render_traceback_(self):\n",
        "        pass\n",
        "\n",
        "if '...' in PATHWAY_INSTALL_LINE or not PATHWAY_INSTALL_LINE.startswith('https://packages.pathway.com/'):\n",
        "    print(\n",
        "        \"\u26d4 Please register at https://pathway.com/developers/documentation/introduction/installation-and-first-steps\\n\"\n",
        "        \"to Copy & Paste the Linux pip install line for Pathway!\"\n",
        "    )\n",
        "    raise InterruptExecution\n",
        "\n",
        "DO_INSTALL = False\n",
        "import sys\n",
        "if sys.version_info >= (3, 8):\n",
        "    print(f'\u2705 Python {sys.version} is active.')\n",
        "    try:\n",
        "        import pathway as pw\n",
        "        print('\u2705 Pathway successfully imported.')\n",
        "    except:\n",
        "        DO_INSTALL = True\n",
        "else:\n",
        "    print(\"\u26d4 Pathway requires Python 3.8 or higher.\")\n",
        "    raise InterruptExecution\n",
        "\n",
        "if DO_INSTALL:\n",
        "    !ls $(dirname $(which python))/../lib/python*/*-packages/pathway 1>/dev/null 2>/dev/null || echo \"\u231b Installing Pathway. This usually takes a few seconds...\"\n",
        "    !ls $(dirname $(which python))/../lib/python*/*-packages/pathway 1>/dev/null 2>/dev/null || pip install --extra-index-url {PATHWAY_INSTALL_LINE} 1>/dev/null 2>/dev/null\n",
        "    !ls $(dirname $(which python))/../lib/python*/*-packages/pathway 1>/dev/null 2>/dev/null || echo \"\u26d4 Installation failed. Don't be shy to reach out to the community at https://pathway.com !\"\n",
        "    !ls $(dirname $(which python))/../lib/python*/*-packages/pathway 1>/dev/null 2>/dev/null && echo \"\u2705 All installed. Enjoy Pathway!\"\n"
      ],
      "metadata": {
        "id": "pip-installation-pathway",
        "cellView": "form"
      },
      "execution_count": null,
      "outputs": []
    },
    {
      "cell_type": "markdown",
      "id": "ec9a2ffa",
      "metadata": {},
      "source": [
        "# Pathway: a survival guide\n",
        "Must-read for both first-timers and veterans alike, this guide gathers the most commonly used basic elements of Pathway.\n",
        "\n",
        "\n",
        "While the Pathway programming framework comes with advanced functionalities such as [classifiers](https://pathway.com/developers/showcases/lsh/lsh_chapter1) or [fuzzy-joins](https://pathway.com/developers/showcases/fuzzy_join/fuzzy_join_chapter1), it is essential to master the basic operations at the core of the framework.\n",
        "As part of this survival guide, we are going to walk through the following topics:\n",
        "* [Streaming and static modes](#streaming-and-static-modes)\n",
        "* [Starting with data](#starting-with-data)\n",
        "* [Select and notations](#select-and-notations)\n",
        "* [Manipulating the table](#manipulating-the-table)\n",
        "* [Working with multiples tables: union, concatenation, join](#working-with-multiple-tables-union-concatenation-join)\n",
        "* [Updating](#updating)\n",
        "* [Computing](#operations)\n",
        "\n",
        "If you want more information you can see our complete [API docs](https://pathway.com/developers/documentation/api-docs/pathway) or some of our [tutorials](https://pathway.com/developers/tutorials/suspicious_activity_tumbling_window)."
      ]
    },
    {
      "cell_type": "markdown",
      "id": "2d894f18",
      "metadata": {},
      "source": [
        "## Streaming and static modes\n",
        "\n",
        "The first thing to keep in mind is that Pathway is made for streaming data.\n",
        "In this **streaming mode**, Pathway assumes unbounded incoming updates.\n",
        "To process the incoming data, Pathway maintains a [computation graph](/developers/documentation/introduction/key-concepts#computation-graph).\n",
        "This mode requires input connectors listening to streaming data sources.\n",
        "The computation runs indefinitely until the process is killed: the computation starts with `pw.run()` and everything afterwards is unreachable code.\n",
        "\n",
        "However, the streaming mode may not be the most convenient when testing or debugging.\n",
        "For that purpose, Pathway provides a **static mode** in which static data may be attached to the connectors.\n",
        "In that mode, finite and static data can be loaded, e.g. from a table written in a static csv file or from a markdown table.\n",
        "\n",
        "When the computation is run in the static mode, all the data is loaded and processed at once.\n",
        "While the static mode does not fully benefit from the computation graph, it allows to check if the graph is correctly built.\n",
        "To ease the debugging, Pathway provides a function called `compute_and_print`.\n",
        "When calling `pw.debug.compute_and_print(t)`, Pathway builds the whole graph, ingests all the available static data, prints the obtained table `t`, and then discards the data.\n",
        "Calling twice `compute_and_print` will result in ingesting the whole data twice.\n",
        "In the streaming mode, the building of the graph and the ingestion of the data is done only once when `pw.run()` is called and the data is maintained in the graph until the computation is over: results cannot be printed but should be accessed using output connectors.\n",
        "\n",
        "The processing pipeline should be designed in the same way no matter mode is used in the end. The only difference is how the data is considered.\n",
        "\n",
        "To learn more about both modes, you can read our [article](/developers/documentation/introduction/streaming-and-static-modes) about it.\n",
        "\n",
        "In most our examples, we use the static mode as it avoids setting external streaming data sources such as Kafka."
      ]
    },
    {
      "cell_type": "markdown",
      "id": "3840adb0",
      "metadata": {},
      "source": [
        "## Starting with data\n",
        "\n",
        "Be sure to always import Pathway."
      ]
    },
    {
      "cell_type": "code",
      "execution_count": 1,
      "id": "e505c4b0",
      "metadata": {
        "execution": {
          "iopub.execute_input": "2023-02-01T11:15:27.454790Z",
          "iopub.status.busy": "2023-02-01T11:15:27.454583Z",
          "iopub.status.idle": "2023-02-01T11:15:28.444988Z",
          "shell.execute_reply": "2023-02-01T11:15:28.444537Z"
        }
      },
      "outputs": [],
      "source": [
        "import pathway as pw"
      ]
    },
    {
      "cell_type": "markdown",
      "id": "9e693e57",
      "metadata": {},
      "source": [
        "Now we need tables to manipulate.\n",
        "The way tables are obtained depends on whether we are on streaming or static mode.\n",
        "In this article, we will be using the static mode to be able to show the behavior of each processing step, but keep in mind that Pathway is made for the streaming mode.\n",
        "\n",
        "### Static mode\n",
        "In the static mode, we can manually enter table using a markdown connector. Here are the (static) tables we will be using:"
      ]
    },
    {
      "cell_type": "code",
      "execution_count": 2,
      "id": "f0cfbac0",
      "metadata": {
        "execution": {
          "iopub.execute_input": "2023-02-01T11:15:28.446941Z",
          "iopub.status.busy": "2023-02-01T11:15:28.446756Z",
          "iopub.status.idle": "2023-02-01T11:15:28.488036Z",
          "shell.execute_reply": "2023-02-01T11:15:28.487666Z"
        }
      },
      "outputs": [],
      "source": [
        "t_name = pw.debug.table_from_markdown(\n",
        "    \"\"\"\n",
        "    | name\n",
        " 1  | Alice\n",
        " 2  | Bob\n",
        " 3  | Carole\n",
        " \"\"\"\n",
        ")\n",
        "t_age = pw.debug.table_from_markdown(\n",
        "    \"\"\"\n",
        "    | age\n",
        " 1  | 25\n",
        " 2  | 32\n",
        " 3  | 28\n",
        " \"\"\"\n",
        ")\n",
        "t_david = pw.debug.table_from_markdown(\n",
        "    \"\"\"\n",
        "    | name  | age\n",
        " 4  | David | 25\n",
        " \"\"\"\n",
        ")"
      ]
    },
    {
      "cell_type": "markdown",
      "id": "43621e32",
      "metadata": {},
      "source": [
        "We can display a snapshot of our table (for debugging purposes) using `pw.debug.compute_and_print()`:"
      ]
    },
    {
      "cell_type": "code",
      "execution_count": 3,
      "id": "c3a81187",
      "metadata": {
        "execution": {
          "iopub.execute_input": "2023-02-01T11:15:28.489775Z",
          "iopub.status.busy": "2023-02-01T11:15:28.489494Z",
          "iopub.status.idle": "2023-02-01T11:15:28.492767Z",
          "shell.execute_reply": "2023-02-01T11:15:28.492455Z"
        }
      },
      "outputs": [
        {
          "name": "stdout",
          "output_type": "stream",
          "text": [
            "            | name\n",
            "^2TMTFGY... | Alice\n",
            "^YHZBTNY... | Bob\n",
            "^SERVYWW... | Carole\n"
          ]
        }
      ],
      "source": [
        "pw.debug.compute_and_print(t_name)"
      ]
    },
    {
      "cell_type": "markdown",
      "id": "0317adaf",
      "metadata": {},
      "source": [
        "In the following we will omit the `pw.debug.compute_and_print()` this for clarity reasons but keep in mind that it is required to print the actual *static* data at a given time.\n",
        "\n",
        "\n",
        "### Streaming mode\n",
        "In the streaming mode, those tables would be obtained using one of the [connectors](/developers/documentation/input-and-output-streams/connectors) provided by Pathway.\n",
        "For example, we could use `t_name=pw.io.kafka(settings,id_columns=['name'])` to obtain the table from Kafka.\n",
        "The results should be taken out of Pathway using an output connector: we could send the data to postgresql using `pw.io.progresql.write()` for instance.\n",
        "Otherwise, the way the data is manipulated is exactly the same in both modes."
      ]
    },
    {
      "cell_type": "markdown",
      "id": "2c11e2b4",
      "metadata": {},
      "source": [
        "## Select and notations\n",
        "\n",
        " The main way to manipulate a table in Pathway is by using the `select` operation.\n",
        "\n",
        " * **The dot notation**: we can use `select` to select a particular column and we can use the dot notation to specify the name of the column. For example, we can access the column \"name\" of our `t_extra` table:"
      ]
    },
    {
      "cell_type": "code",
      "execution_count": 4,
      "id": "267113ce",
      "metadata": {
        "execution": {
          "iopub.execute_input": "2023-02-01T11:15:28.494088Z",
          "iopub.status.busy": "2023-02-01T11:15:28.493986Z",
          "iopub.status.idle": "2023-02-01T11:15:28.496879Z",
          "shell.execute_reply": "2023-02-01T11:15:28.496566Z"
        }
      },
      "outputs": [
        {
          "name": "stdout",
          "output_type": "stream",
          "text": [
            "            | name\n",
            "^8GR6BSX... | David\n"
          ]
        }
      ],
      "source": [
        "t_david.select(t_david.name)"
      ]
    },
    {
      "cell_type": "markdown",
      "id": "17d9cb31",
      "metadata": {},
      "source": [
        " * **The bracket notation**: we can also use string to access the column **the bracket notation**. The previous example is equivalent to ```t_david.select(t_david[\"name\"])```."
      ]
    },
    {
      "cell_type": "markdown",
      "id": "6b97f9dd",
      "metadata": {},
      "source": [
        " * The **this notation**: to refer to the table currently manipulated we can use `pw.this`. Our example becomes `t_david.select(pw.this.name)`.\n",
        "This notation works for all standard transformers.\n",
        "    > It can be use to refer to the table, even if it has not been given a name, for example in a successive operations:"
      ]
    },
    {
      "cell_type": "code",
      "execution_count": 5,
      "id": "45dc0cb1",
      "metadata": {
        "execution": {
          "iopub.execute_input": "2023-02-01T11:15:28.498176Z",
          "iopub.status.busy": "2023-02-01T11:15:28.497974Z",
          "iopub.status.idle": "2023-02-01T11:15:28.501321Z",
          "shell.execute_reply": "2023-02-01T11:15:28.501014Z"
        }
      },
      "outputs": [
        {
          "name": "stdout",
          "output_type": "stream",
          "text": [
            "            | new_age_plus_7\n",
            "^8GR6BSX... | 32\n"
          ]
        }
      ],
      "source": [
        "t_new_age = t_david.select(new_age=pw.this.age).select(\n",
        "    new_age_plus_7=pw.this.new_age + 7\n",
        ")\n",
        "pw.debug.compute_and_print(t_new_age)"
      ]
    },
    {
      "cell_type": "markdown",
      "id": "20f7198d",
      "metadata": {},
      "source": [
        "In this example, it would be impossible to refer to the table obtained after the first select (with the column `new_age`) without using `pw.this` as `t_david` still refers to the initial and unmodified table."
      ]
    },
    {
      "cell_type": "markdown",
      "id": "e874b08b",
      "metadata": {},
      "source": [
        " * **left and right notations**: similarly to the this notation, `pw.left` and `pw.right` can be used to manipulate the different tables used in a [join](#working-with-multiples-tables-union-concatenation-join).\n",
        "    > `left_table.join(right_table, pw.left.C1==pw.right.C2).select(pw.left.C3, pw.right.C4)`\n",
        "\n",
        "For more information about the join and the use of `pw.left` and `pw.right`, you can see the dedicated [section](#working-with-multiples-tables-union-concatenation-join) and [manual](join-manual)."
      ]
    },
    {
      "cell_type": "markdown",
      "id": "55ba3bb8",
      "metadata": {},
      "source": [
        " * The **star * notation**: this notation is used to select all the columns of the manipulated table. `table.select(*pw.this)` will return the full table.\n",
        "It can be combined with `.without` to remove the unwanted columns:\n",
        "\n",
        "    > In our example, instead of selecting the \"name\" column, we want to select all the columns except the \"age\" one. This is obtained as follows:"
      ]
    },
    {
      "cell_type": "code",
      "execution_count": 6,
      "id": "53b940f4",
      "metadata": {
        "execution": {
          "iopub.execute_input": "2023-02-01T11:15:28.502689Z",
          "iopub.status.busy": "2023-02-01T11:15:28.502458Z",
          "iopub.status.idle": "2023-02-01T11:15:28.505208Z",
          "shell.execute_reply": "2023-02-01T11:15:28.504908Z"
        }
      },
      "outputs": [
        {
          "name": "stdout",
          "output_type": "stream",
          "text": [
            "            | name\n",
            "^8GR6BSX... | David\n"
          ]
        }
      ],
      "source": [
        "t_david.select(*pw.this.without(pw.this.age))"
      ]
    },
    {
      "cell_type": "markdown",
      "id": "5ee38607",
      "metadata": {},
      "source": [
        "\u26a0\ufe0f Note on **column names**: column names are **case sensitive** and *any* string can be used as column name using the bracket notation.\n",
        "However it is not the case for the the dot notation which is restricted by standard Python syntax.\n",
        "For instance, the dot notation does not allow name with space: using `t.select(t[\"my name\"])` works while `t.select(t.my name)` will produce an error.\n",
        "By convention, we advocate to follow the Python variable naming convention which is to use only the special character \"\\_\" in addition to alphanumeric characters, and not to start with a number."
      ]
    },
    {
      "cell_type": "markdown",
      "id": "457d0647",
      "metadata": {},
      "source": [
        "## Manipulating the table\n",
        "\n",
        "In addition to `select`, Pathway provides more operators to manipulate and index the tables."
      ]
    },
    {
      "cell_type": "markdown",
      "id": "69c91006",
      "metadata": {},
      "source": [
        " * **Filtering**: we can use `filter` to keep rows following a given property."
      ]
    },
    {
      "cell_type": "code",
      "execution_count": 7,
      "id": "4cd84431",
      "metadata": {
        "execution": {
          "iopub.execute_input": "2023-02-01T11:15:28.506611Z",
          "iopub.status.busy": "2023-02-01T11:15:28.506338Z",
          "iopub.status.idle": "2023-02-01T11:15:28.510674Z",
          "shell.execute_reply": "2023-02-01T11:15:28.510430Z"
        }
      },
      "outputs": [
        {
          "name": "stdout",
          "output_type": "stream",
          "text": [
            "            | is_adult\n",
            "^19D0FQ9... | True\n",
            "^76QPWK3... | True\n"
          ]
        }
      ],
      "source": [
        "t_adult = pw.debug.table_from_markdown(\n",
        "    \"\"\"\n",
        "    | is_adult\n",
        " 5  | True\n",
        " 6  | False\n",
        " 7  | True\n",
        " \"\"\"\n",
        ")\n",
        "t_adult.filter(pw.this.is_adult)"
      ]
    },
    {
      "cell_type": "markdown",
      "id": "4b225f77",
      "metadata": {},
      "source": [
        "You can use standard python operators, including arithmetic operators such as `+`, `-`, `*`, `/`, `//`, `<`, `>`, or `~`:"
      ]
    },
    {
      "cell_type": "code",
      "execution_count": 8,
      "id": "9e9cfb23",
      "metadata": {
        "execution": {
          "iopub.execute_input": "2023-02-01T11:15:28.511781Z",
          "iopub.status.busy": "2023-02-01T11:15:28.511678Z",
          "iopub.status.idle": "2023-02-01T11:15:28.514341Z",
          "shell.execute_reply": "2023-02-01T11:15:28.514107Z"
        }
      },
      "outputs": [
        {
          "name": "stdout",
          "output_type": "stream",
          "text": [
            "            | age\n",
            "^YHZBTNY... | 32\n"
          ]
        }
      ],
      "source": [
        "t_age.filter(pw.this.age>30)"
      ]
    },
    {
      "cell_type": "markdown",
      "id": "65cd0463",
      "metadata": {},
      "source": [
        "The logical negation can be used using `~`:"
      ]
    },
    {
      "cell_type": "code",
      "execution_count": 9,
      "id": "798f25fe",
      "metadata": {
        "execution": {
          "iopub.execute_input": "2023-02-01T11:15:28.515527Z",
          "iopub.status.busy": "2023-02-01T11:15:28.515336Z",
          "iopub.status.idle": "2023-02-01T11:15:28.517902Z",
          "shell.execute_reply": "2023-02-01T11:15:28.517639Z"
        }
      },
      "outputs": [
        {
          "name": "stdout",
          "output_type": "stream",
          "text": [
            "            | is_adult\n",
            "^C4S6S48... | False\n"
          ]
        }
      ],
      "source": [
        "t_adult.filter(~pw.this.is_adult)"
      ]
    },
    {
      "cell_type": "markdown",
      "id": "9175f149",
      "metadata": {},
      "source": [
        " * **Reindexing**: you can change the ids (accessible by `table.id`) by using `.with_id_from()`.\n",
        "We need a table with new ids:"
      ]
    },
    {
      "cell_type": "code",
      "execution_count": 10,
      "id": "b284cbd5",
      "metadata": {
        "execution": {
          "iopub.execute_input": "2023-02-01T11:15:28.519009Z",
          "iopub.status.busy": "2023-02-01T11:15:28.518912Z",
          "iopub.status.idle": "2023-02-01T11:15:28.521673Z",
          "shell.execute_reply": "2023-02-01T11:15:28.521428Z"
        }
      },
      "outputs": [],
      "source": [
        "t_new_ids = pw.debug.table_from_markdown(\n",
        "    \"\"\"\n",
        "    | new_id_source\n",
        " 1  | 4\n",
        " 2  | 5\n",
        " 3  | 6\n",
        " \"\"\"\n",
        ")"
      ]
    },
    {
      "cell_type": "code",
      "execution_count": 11,
      "id": "b1c3e22b",
      "metadata": {
        "execution": {
          "iopub.execute_input": "2023-02-01T11:15:28.522818Z",
          "iopub.status.busy": "2023-02-01T11:15:28.522637Z",
          "iopub.status.idle": "2023-02-01T11:15:28.526052Z",
          "shell.execute_reply": "2023-02-01T11:15:28.525777Z"
        }
      },
      "outputs": [
        {
          "name": "stdout",
          "output_type": "stream",
          "text": [
            "            | name\n",
            "^8GR6BSX... | Alice\n",
            "^76QPWK3... | Bob\n",
            "^C4S6S48... | Carole\n"
          ]
        }
      ],
      "source": [
        "t_name.unsafe_promise_universe_is_subset_of(t_new_ids).with_id_from(t_new_ids.new_id_source)"
      ]
    },
    {
      "cell_type": "markdown",
      "id": "6355a731",
      "metadata": {},
      "source": [
        "Here we need to use `unsafe_promise_universe_is_subset_of`, you can find the explanation in our [article](https://pathway.com/developers/documentation/introduction/key-concepts) about Pathway's concepts.\n",
        "\n",
        "* **ix**: uses a column's values as indexes.\n",
        "As an example, if we have a table containing with indexes pointing to another table, we can use this `ix` to obtain those lines:"
      ]
    },
    {
      "cell_type": "code",
      "execution_count": 12,
      "id": "40fc7c89",
      "metadata": {
        "execution": {
          "iopub.execute_input": "2023-02-01T11:15:28.527215Z",
          "iopub.status.busy": "2023-02-01T11:15:28.527019Z",
          "iopub.status.idle": "2023-02-01T11:15:28.531591Z",
          "shell.execute_reply": "2023-02-01T11:15:28.531359Z"
        }
      },
      "outputs": [
        {
          "name": "stdout",
          "output_type": "stream",
          "text": [
            "            | selected\n",
            "^M1T2QKJ... | Alice\n",
            "^9WGHV46... | Carole\n"
          ]
        }
      ],
      "source": [
        "t_selected_ids = pw.debug.table_from_markdown(\n",
        "    \"\"\"\n",
        "      | selected_id\n",
        " 100  | 1\n",
        " 200  | 3\n",
        " \"\"\"\n",
        ")\n",
        "t_selected_ids.select(selected=t_name.ix_ref(t_selected_ids.selected_id).name)"
      ]
    },
    {
      "cell_type": "markdown",
      "id": "7d904c42",
      "metadata": {},
      "source": [
        "* **Group-by**: we can use `groupby` to aggregate data sharing a common property and then use a reducer to compute an aggregated value."
      ]
    },
    {
      "cell_type": "code",
      "execution_count": 13,
      "id": "07285cf0",
      "metadata": {
        "execution": {
          "iopub.execute_input": "2023-02-01T11:15:28.532798Z",
          "iopub.status.busy": "2023-02-01T11:15:28.532591Z",
          "iopub.status.idle": "2023-02-01T11:15:28.537550Z",
          "shell.execute_reply": "2023-02-01T11:15:28.537311Z"
        }
      },
      "outputs": [
        {
          "name": "stdout",
          "output_type": "stream",
          "text": [
            "            | name  | sum\n",
            "^TSP7EFT... | Alice | 175\n",
            "^4PVZ777... | Bob   | 300\n"
          ]
        }
      ],
      "source": [
        "t_spending = pw.debug.table_from_markdown(\n",
        "    \"\"\"\n",
        "    | name  | amount\n",
        " 1  | Bob   | 100\n",
        " 2  | Alice | 50\n",
        " 3  | Alice | 125\n",
        " 4  | Bob   | 200\n",
        " \"\"\"\n",
        ")\n",
        "t_spending.groupby(pw.this.name).reduce(pw.this.name, sum=pw.reducers.sum(pw.this.amount))"
      ]
    },
    {
      "cell_type": "markdown",
      "id": "9e859d9a",
      "metadata": {},
      "source": [
        "You can do groupbys on multiples columns at once (e.g. `.groupby(t.colA, t.colB)`).\n",
        "The list of all the available reducers can be found [here](https://pathway.com/developers/documentation/api-docs/reducers).\n",
        "\n",
        "If you want to find out more about the `groupby` and `reduce` operations, you can read our [article](groupby-reduce-manual) about it.\n",
        "\n",
        "## Working with multiples tables: union, concatenation, join\n",
        "\n",
        " * **Union**: we can use the operator `+` or `+=` to add compute the union of two tables sharing the same ids."
      ]
    },
    {
      "cell_type": "code",
      "execution_count": 14,
      "id": "e6d29e3f",
      "metadata": {
        "execution": {
          "iopub.execute_input": "2023-02-01T11:15:28.538750Z",
          "iopub.status.busy": "2023-02-01T11:15:28.538552Z",
          "iopub.status.idle": "2023-02-01T11:15:28.541371Z",
          "shell.execute_reply": "2023-02-01T11:15:28.541133Z"
        }
      },
      "outputs": [
        {
          "name": "stdout",
          "output_type": "stream",
          "text": [
            "            | name   | age\n",
            "^2TMTFGY... | Alice  | 25\n",
            "^YHZBTNY... | Bob    | 32\n",
            "^SERVYWW... | Carole | 28\n"
          ]
        }
      ],
      "source": [
        "t_age = t_age.unsafe_promise_same_universe_as(t_name)\n",
        "t_union = t_name + t_age\n",
        ""
      ]
    },
    {
      "cell_type": "markdown",
      "id": "3895f072",
      "metadata": {},
      "source": [
        "* **Concatenation**: we can use `Table.concat(t1,t2)` to concatenate two tables, but they need to have the same ids."
      ]
    },
    {
      "cell_type": "code",
      "execution_count": 15,
      "id": "d18fec67",
      "metadata": {
        "execution": {
          "iopub.execute_input": "2023-02-01T11:15:28.542562Z",
          "iopub.status.busy": "2023-02-01T11:15:28.542360Z",
          "iopub.status.idle": "2023-02-01T11:15:28.546602Z",
          "shell.execute_reply": "2023-02-01T11:15:28.546364Z"
        }
      },
      "outputs": [
        {
          "name": "stdout",
          "output_type": "stream",
          "text": [
            "            | name   | age\n",
            "^531BJZ8... | Alice  | 25\n",
            "^9SVRC47... | Bob    | 32\n",
            "^R5XMQ21... | Carole | 28\n",
            "^C4VQQCA... | David  | 25\n"
          ]
        }
      ],
      "source": [
        "pw.Table.concat(t_union,t_david)"
      ]
    },
    {
      "cell_type": "markdown",
      "id": "bb699fd9",
      "metadata": {},
      "source": [
        "As you can see, Pathway may reindex the obtained tables.\n",
        "\n",
        "> **Info for Databricks Delta users**: Concatenation is highly similar to the SQL [`MERGE INTO`](https://docs.databricks.com/sql/language-manual/delta-merge-into.html) operation.\n",
        "\n",
        "* **Join**: we can do all usual types of joins in Pathway (inner, outer, left, right). The example below presents an inner join:"
      ]
    },
    {
      "cell_type": "code",
      "execution_count": 16,
      "id": "0a73dd2e",
      "metadata": {
        "execution": {
          "iopub.execute_input": "2023-02-01T11:15:28.547812Z",
          "iopub.status.busy": "2023-02-01T11:15:28.547631Z",
          "iopub.status.idle": "2023-02-01T11:15:28.551050Z",
          "shell.execute_reply": "2023-02-01T11:15:28.550746Z"
        }
      },
      "outputs": [
        {
          "name": "stdout",
          "output_type": "stream",
          "text": [
            "            | age | name\n",
            "^VJ3K9DF... | 25  | Alice\n",
            "^R0GE4WM... | 28  | Carole\n",
            "^V1RPZW8... | 32  | Bob\n"
          ]
        }
      ],
      "source": [
        "t_age.join(t_name, t_age.id==t_name.id).select(t_age.age, t_name.name)"
      ]
    },
    {
      "cell_type": "markdown",
      "id": "8e2d1ad9",
      "metadata": {},
      "source": [
        "Note that in the equality `t_age.id==t_name.id` the left part must be a column of the table on which the join is done, namely `t_name` in our example. Doing `t_name.id==t_age.id` would throw an error.\n",
        "\n",
        "For more visibility, the `pw.left` and `pw.right` notations should be used:"
      ]
    },
    {
      "cell_type": "code",
      "execution_count": 17,
      "id": "9761fe60",
      "metadata": {
        "execution": {
          "iopub.execute_input": "2023-02-01T11:15:28.552265Z",
          "iopub.status.busy": "2023-02-01T11:15:28.552073Z",
          "iopub.status.idle": "2023-02-01T11:15:28.555264Z",
          "shell.execute_reply": "2023-02-01T11:15:28.555029Z"
        }
      },
      "outputs": [
        {
          "name": "stdout",
          "output_type": "stream",
          "text": [
            "            | age | name\n",
            "^VJ3K9DF... | 25  | Alice\n",
            "^R0GE4WM... | 28  | Carole\n",
            "^V1RPZW8... | 32  | Bob\n"
          ]
        }
      ],
      "source": [
        "t_age.join(t_name, pw.left.id == pw.right.id).select(pw.left.age, pw.right.name)"
      ]
    },
    {
      "cell_type": "markdown",
      "id": "4ddb3fd6",
      "metadata": {},
      "source": [
        "If you want more info about joins, we have an entire [manu\\[a\\]l](join-manual) about it!\n",
        "\n",
        "## Updating\n",
        "\n",
        "* **Adding a new column with a default value** with `select`:"
      ]
    },
    {
      "cell_type": "code",
      "execution_count": 18,
      "id": "1391bd30",
      "metadata": {
        "execution": {
          "iopub.execute_input": "2023-02-01T11:15:28.556470Z",
          "iopub.status.busy": "2023-02-01T11:15:28.556273Z",
          "iopub.status.idle": "2023-02-01T11:15:28.559170Z",
          "shell.execute_reply": "2023-02-01T11:15:28.558879Z"
        }
      },
      "outputs": [
        {
          "name": "stdout",
          "output_type": "stream",
          "text": [
            "            | age | adult\n",
            "^2TMTFGY... | 25  | True\n",
            "^SERVYWW... | 28  | True\n",
            "^YHZBTNY... | 32  | True\n"
          ]
        }
      ],
      "source": [
        "t_age.select(*pw.this, adult=True)"
      ]
    },
    {
      "cell_type": "markdown",
      "id": "ec6a01e5",
      "metadata": {},
      "source": [
        "The value can be a basic operation on the columns:"
      ]
    },
    {
      "cell_type": "code",
      "execution_count": 19,
      "id": "68866390",
      "metadata": {
        "execution": {
          "iopub.execute_input": "2023-02-01T11:15:28.560475Z",
          "iopub.status.busy": "2023-02-01T11:15:28.560260Z",
          "iopub.status.idle": "2023-02-01T11:15:28.563190Z",
          "shell.execute_reply": "2023-02-01T11:15:28.562945Z"
        }
      },
      "outputs": [
        {
          "name": "stdout",
          "output_type": "stream",
          "text": [
            "            | age | thirties\n",
            "^2TMTFGY... | 25  | False\n",
            "^SERVYWW... | 28  | False\n",
            "^YHZBTNY... | 32  | True\n"
          ]
        }
      ],
      "source": [
        "t_age.select(*pw.this, thirties=pw.this.age>=30)"
      ]
    },
    {
      "cell_type": "markdown",
      "id": "9278a20a",
      "metadata": {},
      "source": [
        "* **Renaming** with `select`:"
      ]
    },
    {
      "cell_type": "code",
      "execution_count": 20,
      "id": "ef6d0588",
      "metadata": {
        "execution": {
          "iopub.execute_input": "2023-02-01T11:15:28.564397Z",
          "iopub.status.busy": "2023-02-01T11:15:28.564206Z",
          "iopub.status.idle": "2023-02-01T11:15:28.566558Z",
          "shell.execute_reply": "2023-02-01T11:15:28.566322Z"
        }
      },
      "outputs": [
        {
          "name": "stdout",
          "output_type": "stream",
          "text": [
            "            | surname\n",
            "^2TMTFGY... | Alice\n",
            "^YHZBTNY... | Bob\n",
            "^SERVYWW... | Carole\n"
          ]
        }
      ],
      "source": [
        "t_name.select(surname=pw.this.name)"
      ]
    },
    {
      "cell_type": "markdown",
      "id": "38c619c2",
      "metadata": {
        "lines_to_next_cell": 2
      },
      "source": [
        " * **Renaming** with `rename_columns`:"
      ]
    },
    {
      "cell_type": "code",
      "execution_count": 21,
      "id": "d30ed5f2",
      "metadata": {
        "execution": {
          "iopub.execute_input": "2023-02-01T11:15:28.567777Z",
          "iopub.status.busy": "2023-02-01T11:15:28.567574Z",
          "iopub.status.idle": "2023-02-01T11:15:28.569942Z",
          "shell.execute_reply": "2023-02-01T11:15:28.569687Z"
        }
      },
      "outputs": [
        {
          "name": "stdout",
          "output_type": "stream",
          "text": [
            "            | surname\n",
            "^2TMTFGY... | Alice\n",
            "^YHZBTNY... | Bob\n",
            "^SERVYWW... | Carole\n"
          ]
        }
      ],
      "source": [
        "t_name.rename_columns(surname=pw.this.name)"
      ]
    },
    {
      "cell_type": "markdown",
      "id": "24491305",
      "metadata": {},
      "source": [
        " * **Updating cells**: you can the values of cells using `update_cells` which can be also done using the binary operator `<<`. The ids and column names should be the same."
      ]
    },
    {
      "cell_type": "code",
      "execution_count": 22,
      "id": "01356867",
      "metadata": {
        "execution": {
          "iopub.execute_input": "2023-02-01T11:15:28.571136Z",
          "iopub.status.busy": "2023-02-01T11:15:28.570967Z",
          "iopub.status.idle": "2023-02-01T11:15:28.575210Z",
          "shell.execute_reply": "2023-02-01T11:15:28.574970Z"
        }
      },
      "outputs": [
        {
          "name": "stdout",
          "output_type": "stream",
          "text": [
            "            | name\n",
            "^2TMTFGY... | Alicia\n",
            "^YHZBTNY... | Bobby\n",
            "^SERVYWW... | Caro\n"
          ]
        }
      ],
      "source": [
        "t_updated_names = pw.debug.table_from_markdown(\n",
        "    \"\"\"\n",
        "    | name\n",
        " 1  | Alicia\n",
        " 2  | Bobby\n",
        " 3  | Caro\n",
        " \"\"\"\n",
        ")\n",
        "t_updated_names = t_updated_names.unsafe_promise_same_universe_as(t_name)\n",
        "t_name.update_cells(t_updated_names)"
      ]
    },
    {
      "cell_type": "markdown",
      "id": "87d168c5",
      "metadata": {},
      "source": [
        "## Operations\n",
        "\n",
        "* **Row-centered operations** with `apply`: you can apply a function to each value of a column (or more) by using `apply` in a `select`."
      ]
    },
    {
      "cell_type": "code",
      "execution_count": 23,
      "id": "b9641afb",
      "metadata": {
        "execution": {
          "iopub.execute_input": "2023-02-01T11:15:28.576428Z",
          "iopub.status.busy": "2023-02-01T11:15:28.576232Z",
          "iopub.status.idle": "2023-02-01T11:15:28.579067Z",
          "shell.execute_reply": "2023-02-01T11:15:28.578810Z"
        }
      },
      "outputs": [
        {
          "name": "stdout",
          "output_type": "stream",
          "text": [
            "            | thirties\n",
            "^2TMTFGY... | False\n",
            "^SERVYWW... | False\n",
            "^YHZBTNY... | True\n"
          ]
        }
      ],
      "source": [
        "t_age.select(thirties=pw.apply(lambda x: x>30, pw.this.age)))"
      ]
    },
    {
      "cell_type": "markdown",
      "id": "96f335b1",
      "metadata": {},
      "source": [
        "Operations on multiples values of a single row can be easily done this way:"
      ]
    },
    {
      "cell_type": "code",
      "execution_count": 24,
      "id": "8fd36c5f",
      "metadata": {
        "execution": {
          "iopub.execute_input": "2023-02-01T11:15:28.580270Z",
          "iopub.status.busy": "2023-02-01T11:15:28.580082Z",
          "iopub.status.idle": "2023-02-01T11:15:28.584516Z",
          "shell.execute_reply": "2023-02-01T11:15:28.584270Z"
        }
      },
      "outputs": [
        {
          "name": "stdout",
          "output_type": "stream",
          "text": [
            "            | sum\n",
            "^2TMTFGY... | 11\n",
            "^YHZBTNY... | 1100\n"
          ]
        }
      ],
      "source": [
        "t_multiples_values = pw.debug.table_from_markdown(\n",
        "    \"\"\"\n",
        "    | valA    | valB\n",
        " 1  | 1       | 10\n",
        " 2  | 100     | 1000\n",
        " \"\"\"\n",
        ")\n",
        "t_multiples_values.select(sum=pw.apply(lambda x,y: x+y, pw.this.valA, pw.this.valB))"
      ]
    },
    {
      "cell_type": "markdown",
      "id": "91c93e29",
      "metadata": {},
      "source": [
        "* Other operations with **transformer classes**: Pathway enables complex computation on data stream by using transformer classes.\n",
        "It is a bit advanced for this survival guide but you can find all the information about transformer classes in [our tutorial](https://pathway.com/developers/documentation/transformer-classes/transformer-intro)."
      ]
    }
  ],
  "metadata": {
    "jupytext": {
      "cell_metadata_filter": "-all",
      "main_language": "python",
      "notebook_metadata_filter": "-all"
    },
    "language_info": {
      "codemirror_mode": {
        "name": "ipython",
        "version": 3
      },
      "file_extension": ".py",
      "mimetype": "text/x-python",
      "name": "python",
      "nbconvert_exporter": "python",
      "pygments_lexer": "ipython3",
      "version": "3.10.8"
    }
  },
  "nbformat": 4,
  "nbformat_minor": 5
}