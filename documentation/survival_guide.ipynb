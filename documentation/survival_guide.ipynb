{
  "cells": [
    {
      "cell_type": "markdown",
      "source": [
        "# Setting up Python and Pathway\n",
        "\n",
        "Pathway can be installed to a Python 3.10 environment using pip, please register at https://pathway.com to get beta access to the package"
      ],
      "metadata": {
        "id": "notebook-instructions"
      }
    },
    {
      "cell_type": "code",
      "source": [
        "PIP_PACKAGE_ADDRESS=\"\"\n",
        "if not PIP_PACKAGE_ADDRESS:\n",
        "    print(\n",
        "        \"Please register at https://pathway.com/developers/documentation/introduction/installation-and-first-steps\\n\"\n",
        "        \"To get the pip package installation link!\"\n",
        "    )"
      ],
      "metadata": {
        "id": "pip-package-selection"
      },
      "execution_count": null,
      "outputs": []
    },
    {
      "cell_type": "code",
      "source": [
        "if not (sys.version_info.major==3 and sys.version_info.minor==10):\n",
        "    raise Exception(\"Pathway is only built for Python 3.10 at the moment\")"
      ],
      "metadata": {
        "id": "check-py-version"
      },
      "execution_count": null,
      "outputs": []
    },
    {
      "cell_type": "code",
      "source": [
        "# Install pathway's package\n",
        "!pip install {PIP_PACKAGE_ADDRESS} 1>/dev/null 2>/dev/null"
      ],
      "metadata": {
        "id": "pip-install-pathway"
      },
      "execution_count": null,
      "outputs": []
    },
    {
      "cell_type": "markdown",
      "id": "9e9379cd",
      "metadata": {},
      "source": [
        "# Pathway: a survival guide\n",
        "Must-read for both first-timers and veterans alike, this guide gathers the most commonly used basic elements of Pathway.\n",
        "\n",
        "\n",
        "While the Pathway programming framework comes with advanced functionalities such as [classifiers](https://pathway.com/developers/showcases/lsh/lsh_chapter1) or [fuzzy-joins](https://pathway.com/developers/showcases/fuzzy_join/fuzzy_join_chapter1), it is essential to master the basic operations at the core of the framework.\n",
        "As part of this survival guide, we are going to walk through the following topics:\n",
        "* [Selecting and indexing](#selecting-and-indexing)\n",
        "* [Working with multiples tables: union, concatenation, join](#working-with-multiple-tables-union-concatenation-join)\n",
        "* [Updating](#updating)\n",
        "* [Computing](#operations)\n",
        "\n",
        "If you want more information you can see our complete [API docs](https://pathway.com/developers/documentation/api-docs/pathway) or some of our [tutorials](https://pathway.com/developers/tutorials/suspicious_activity_tumbling_window).\n",
        "\n",
        "## Prerequisite\n",
        "\n",
        "Be sure to import Pathway, and we need some tables:"
      ]
    },
    {
      "cell_type": "code",
      "execution_count": 1,
      "id": "6727b93f",
      "metadata": {
        "execution": {
          "iopub.execute_input": "2022-12-07T23:48:51.031727Z",
          "iopub.status.busy": "2022-12-07T23:48:51.031616Z",
          "iopub.status.idle": "2022-12-07T23:48:52.193566Z",
          "shell.execute_reply": "2022-12-07T23:48:52.193247Z"
        }
      },
      "outputs": [],
      "source": [
        "import pathway as pw\n",
        "\n",
        "t_name = pw.debug.table_from_markdown(\n",
        "    \"\"\"\n",
        "    | name\n",
        " 1  | Alice\n",
        " 2  | Bob\n",
        " 3  | Carole\n",
        " \"\"\"\n",
        ")\n",
        "t_age = pw.debug.table_from_markdown(\n",
        "    \"\"\"\n",
        "    | age\n",
        " 1  | 25\n",
        " 2  | 32\n",
        " 3  | 28\n",
        " \"\"\"\n",
        ")\n",
        "t_name_extra = pw.debug.table_from_markdown(\n",
        "    \"\"\"\n",
        "    | name  | age\n",
        " 4  | David | 25\n",
        " \"\"\"\n",
        ")"
      ]
    },
    {
      "cell_type": "markdown",
      "id": "79bd1b8d",
      "metadata": {},
      "source": [
        "We can display a snapshot of our table (for debugging purposes) using `pw.debug.compute_and_print()`:"
      ]
    },
    {
      "cell_type": "code",
      "execution_count": 2,
      "id": "c04cdb55",
      "metadata": {
        "execution": {
          "iopub.execute_input": "2022-12-07T23:48:52.195393Z",
          "iopub.status.busy": "2022-12-07T23:48:52.195289Z",
          "iopub.status.idle": "2022-12-07T23:48:52.198129Z",
          "shell.execute_reply": "2022-12-07T23:48:52.197899Z"
        }
      },
      "outputs": [
        {
          "name": "stdout",
          "output_type": "stream",
          "text": [
            "            | name\n",
            "^2TMTFGY... | Alice\n",
            "^YHZBTNY... | Bob\n",
            "^SERVYWW... | Carole\n"
          ]
        }
      ],
      "source": [
        "pw.debug.compute_and_print(t_name)"
      ]
    },
    {
      "cell_type": "markdown",
      "id": "7b70e714",
      "metadata": {},
      "source": [
        "In the following we will omit this for clarity reasons but keep in mind that it is required to print the actual data at a given time."
      ]
    },
    {
      "cell_type": "markdown",
      "id": "88230ac9",
      "metadata": {},
      "source": [
        "## Selecting and indexing\n",
        " * **Select**: we can use `select` to select a particular column and we can use the dot notation to specify the name of the column."
      ]
    },
    {
      "cell_type": "code",
      "execution_count": 3,
      "id": "eba3b21a",
      "metadata": {
        "execution": {
          "iopub.execute_input": "2022-12-07T23:48:52.199344Z",
          "iopub.status.busy": "2022-12-07T23:48:52.199246Z",
          "iopub.status.idle": "2022-12-07T23:48:52.201560Z",
          "shell.execute_reply": "2022-12-07T23:48:52.201318Z"
        }
      },
      "outputs": [
        {
          "name": "stdout",
          "output_type": "stream",
          "text": [
            "            | name\n",
            "^8GR6BSX... | David\n"
          ]
        }
      ],
      "source": [
        "# _MD_COMMENT_START_\n",
        "pw.debug.compute_and_print(t_name_extra.select(t_name_extra.name))\n",
        "# _MD_COMMENT_END_\n",
        "# _MD_SHOW_t_extra.select(t_name_extra.name)"
      ]
    },
    {
      "cell_type": "markdown",
      "id": "932e8b2a",
      "metadata": {},
      "source": [
        " * **Filtering**: we can use `filter` to keep rows following a given property."
      ]
    },
    {
      "cell_type": "code",
      "execution_count": 4,
      "id": "6415f90b",
      "metadata": {
        "execution": {
          "iopub.execute_input": "2022-12-07T23:48:52.202673Z",
          "iopub.status.busy": "2022-12-07T23:48:52.202577Z",
          "iopub.status.idle": "2022-12-07T23:48:52.205306Z",
          "shell.execute_reply": "2022-12-07T23:48:52.205087Z"
        }
      },
      "outputs": [
        {
          "name": "stdout",
          "output_type": "stream",
          "text": [
            "            | age\n",
            "^YHZBTNY... | 32\n"
          ]
        }
      ],
      "source": [
        "# _MD_COMMENT_START_\n",
        "pw.debug.compute_and_print(t_age.filter(t_age.age > 30))\n",
        "# _MD_COMMENT_END_\n",
        "# _MD_SHOW_t_age.filter(t_age.age>30)"
      ]
    },
    {
      "cell_type": "markdown",
      "id": "7838b817",
      "metadata": {},
      "source": [
        " * **Reindexing**: you can change the ids (accessible by `table.id`) by using `.with_id_from()`.\n",
        "We need a table with new ids:"
      ]
    },
    {
      "cell_type": "code",
      "execution_count": 5,
      "id": "898e9fe1",
      "metadata": {
        "execution": {
          "iopub.execute_input": "2022-12-07T23:48:52.206361Z",
          "iopub.status.busy": "2022-12-07T23:48:52.206265Z",
          "iopub.status.idle": "2022-12-07T23:48:52.208940Z",
          "shell.execute_reply": "2022-12-07T23:48:52.208719Z"
        }
      },
      "outputs": [],
      "source": [
        "t_new_ids = pw.debug.table_from_markdown(\n",
        "    \"\"\"\n",
        "    | new_id_source\n",
        " 1  | 4\n",
        " 2  | 5\n",
        " 3  | 6\n",
        " \"\"\"\n",
        ")"
      ]
    },
    {
      "cell_type": "code",
      "execution_count": 6,
      "id": "6fc45576",
      "metadata": {
        "execution": {
          "iopub.execute_input": "2022-12-07T23:48:52.209947Z",
          "iopub.status.busy": "2022-12-07T23:48:52.209852Z",
          "iopub.status.idle": "2022-12-07T23:48:52.212832Z",
          "shell.execute_reply": "2022-12-07T23:48:52.212609Z"
        }
      },
      "outputs": [
        {
          "name": "stdout",
          "output_type": "stream",
          "text": [
            "            | name\n",
            "^8GR6BSX... | Alice\n",
            "^76QPWK3... | Bob\n",
            "^C4S6S48... | Carole\n"
          ]
        }
      ],
      "source": [
        "# _MD_COMMENT_START_\n",
        "pw.debug.compute_and_print(\n",
        "    t_name.unsafe_promise_universe_is_subset_of(t_new_ids).with_id_from(\n",
        "        t_new_ids.new_id_source\n",
        "    )\n",
        ")\n",
        "# _MD_COMMENT_END_\n",
        "# _MD_SHOW_t_name.unsafe_promise_universe_is_subset_of(t_new_ids).with_id_from(t_new_ids.new_id_source)"
      ]
    },
    {
      "cell_type": "markdown",
      "id": "6d93d36f",
      "metadata": {},
      "source": [
        "Here we need to use `unsafe_promise_universe_is_subset_of`, you can find the explanation in our [article](https://pathway.com/developers/documentation/introduction/key-concepts) about Pathway's concepts.\n",
        "XXX: `with_id_from()` works the same, but take the ids of as new ids, as opposed to a dedicated column as in our previous example.\n",
        "\n",
        "* **ix**: uses a column's values as indexes.\n",
        "As an example, if we have a table containing with indexes pointing to another table, we can use this `ix` to obtain those lines:"
      ]
    },
    {
      "cell_type": "code",
      "execution_count": 7,
      "id": "841b36f6",
      "metadata": {
        "execution": {
          "iopub.execute_input": "2022-12-07T23:48:52.213897Z",
          "iopub.status.busy": "2022-12-07T23:48:52.213802Z",
          "iopub.status.idle": "2022-12-07T23:48:52.218534Z",
          "shell.execute_reply": "2022-12-07T23:48:52.218289Z"
        }
      },
      "outputs": [
        {
          "name": "stdout",
          "output_type": "stream",
          "text": [
            "            | selected\n",
            "^M1T2QKJ... | Alice\n",
            "^9WGHV46... | Carole\n"
          ]
        }
      ],
      "source": [
        "t_selected_ids = pw.debug.table_from_markdown(\n",
        "    \"\"\"\n",
        "      | selected_id\n",
        " 100  | 1\n",
        " 200  | 3\n",
        " \"\"\"\n",
        ")\n",
        "# _MD_COMMENT_START_\n",
        "pw.debug.compute_and_print(\n",
        "    t_selected_ids.select(selected=t_name.ix_ref(t_selected_ids.selected_id).name)\n",
        ")\n",
        "# _MD_COMMENT_END_\n",
        "# _MD_SHOW_t_selected_ids.select(selected=t_name.ix_ref(t_selected_ids.selected_id).name)"
      ]
    },
    {
      "cell_type": "markdown",
      "id": "1d2fec33",
      "metadata": {},
      "source": [
        "* **Group-by**: we can use `groupby` to aggregate data sharing a common property and then use a reducer to compute an aggregated value."
      ]
    },
    {
      "cell_type": "code",
      "execution_count": 8,
      "id": "5dccd982",
      "metadata": {
        "execution": {
          "iopub.execute_input": "2022-12-07T23:48:52.225295Z",
          "iopub.status.busy": "2022-12-07T23:48:52.225048Z",
          "iopub.status.idle": "2022-12-07T23:48:52.230686Z",
          "shell.execute_reply": "2022-12-07T23:48:52.230444Z"
        }
      },
      "outputs": [
        {
          "name": "stdout",
          "output_type": "stream",
          "text": [
            "            | name  | sum\n",
            "^TSP7EFT... | Alice | 175\n",
            "^4PVZ777... | Bob   | 300\n"
          ]
        }
      ],
      "source": [
        "t_spending = pw.debug.table_from_markdown(\n",
        "    \"\"\"\n",
        "    | name  | amount\n",
        " 1  | Bob   | 100\n",
        " 2  | Alice | 50\n",
        " 3  | Alice | 125\n",
        " 4  | Bob   | 200\n",
        " \"\"\"\n",
        ")\n",
        "# _MD_COMMENT_START_\n",
        "pw.debug.compute_and_print(\n",
        "    t_spending.groupby(t_spending.name).reduce(\n",
        "        t_spending.name, sum=pw.reducers.sum(t_spending.amount)\n",
        "    )\n",
        ")\n",
        "# _MD_COMMENT_END_\n",
        "# _MD_SHOW_t_spending.groupby(t_spending.name).reduce(t_spending.name, sum=pw.reducers.sum(t_spending.amount))"
      ]
    },
    {
      "cell_type": "markdown",
      "id": "a4b9f63d",
      "metadata": {},
      "source": [
        "You can do groupbys on multiples columns at once (e.g. `.groupby(t.colA, t.colB)`).\n",
        "The list of all the available reducers can be found [here](#) (available soon).\n",
        "\n",
        "## Working with multiples tables: union, concatenation, join\n",
        "\n",
        " * **Union**: we can use the operator `+` or `+=` to add compute the union of two tables sharing the same ids."
      ]
    },
    {
      "cell_type": "code",
      "execution_count": 9,
      "id": "b5492a56",
      "metadata": {
        "execution": {
          "iopub.execute_input": "2022-12-07T23:48:52.231731Z",
          "iopub.status.busy": "2022-12-07T23:48:52.231634Z",
          "iopub.status.idle": "2022-12-07T23:48:52.235366Z",
          "shell.execute_reply": "2022-12-07T23:48:52.235142Z"
        }
      },
      "outputs": [
        {
          "name": "stdout",
          "output_type": "stream",
          "text": [
            "            | name   | age\n",
            "^2TMTFGY... | Alice  | 25\n",
            "^YHZBTNY... | Bob    | 32\n",
            "^SERVYWW... | Carole | 28\n"
          ]
        }
      ],
      "source": [
        "t_age = t_age.unsafe_promise_same_universe_as(t_name)\n",
        "t_union = t_name + t_age\n",
        "# _MD_COMMENT_START_\n",
        "pw.debug.compute_and_print(t_union)\n",
        "# _MD_COMMENT_END_\n",
        "# _MD_SHOW_"
      ]
    },
    {
      "cell_type": "markdown",
      "id": "4e8d362c",
      "metadata": {},
      "source": [
        "* **Concatenation**: we can use `Table.concat(t1,t2)` to concatenate two tables, but they need to have the same ids."
      ]
    },
    {
      "cell_type": "code",
      "execution_count": 10,
      "id": "557ee27c",
      "metadata": {
        "execution": {
          "iopub.execute_input": "2022-12-07T23:48:52.236413Z",
          "iopub.status.busy": "2022-12-07T23:48:52.236318Z",
          "iopub.status.idle": "2022-12-07T23:48:52.241314Z",
          "shell.execute_reply": "2022-12-07T23:48:52.241093Z"
        }
      },
      "outputs": [
        {
          "name": "stdout",
          "output_type": "stream",
          "text": [
            "            | name   | age\n",
            "^531BJZ8... | Alice  | 25\n",
            "^9SVRC47... | Bob    | 32\n",
            "^R5XMQ21... | Carole | 28\n",
            "^C4VQQCA... | David  | 25\n"
          ]
        }
      ],
      "source": [
        "# _MD_COMMENT_START_\n",
        "pw.debug.compute_and_print(pw.Table.concat(t_union, t_name_extra))\n",
        "# _MD_COMMENT_END_\n",
        "# _MD_SHOW_pw.Table.concat(t_union,t_name_extra)"
      ]
    },
    {
      "cell_type": "markdown",
      "id": "2da81051",
      "metadata": {},
      "source": [
        "As you can see, Pathway may reindex the obtained tables.\n",
        "\n",
        "> **Info for Databricks Delta users**: Concatenation is highly similar to the SQL [`MERGE INTO`](https://docs.databricks.com/sql/language-manual/delta-merge-into.html) operation.\n",
        "\n",
        "* **Join**: we can do all usual types of joins in Pathway (inner, outer, left, right). The example below presents an inner join:"
      ]
    },
    {
      "cell_type": "code",
      "execution_count": 11,
      "id": "db087150",
      "metadata": {
        "execution": {
          "iopub.execute_input": "2022-12-07T23:48:52.242414Z",
          "iopub.status.busy": "2022-12-07T23:48:52.242317Z",
          "iopub.status.idle": "2022-12-07T23:48:52.246877Z",
          "shell.execute_reply": "2022-12-07T23:48:52.246652Z"
        }
      },
      "outputs": [
        {
          "name": "stdout",
          "output_type": "stream",
          "text": [
            "            | age | name\n",
            "^VJ3K9DF... | 25  | Alice\n",
            "^R0GE4WM... | 28  | Carole\n",
            "^V1RPZW8... | 32  | Bob\n"
          ]
        }
      ],
      "source": [
        "# _MD_COMMENT_START_\n",
        "pw.debug.compute_and_print(\n",
        "    t_age.join(t_name, t_age.id == t_name.id).select(t_age.age, t_name.name)\n",
        ")\n",
        "# _MD_COMMENT_END_\n",
        "# _MD_SHOW_t_age.join(t_name, t_age.id==t_name.id).select(t_age.age, t_name.name)"
      ]
    },
    {
      "cell_type": "markdown",
      "id": "ae74b706",
      "metadata": {},
      "source": [
        "Note that in the equality `t_age.id==t_name.id` the left part must be a column of the table on which the join is done, namely `t_name` in our example. Doing `t_name.id==t_age.id` would throw an error.\n",
        "\n",
        "## Updating\n",
        "\n",
        "* **Renaming** with `select`:"
      ]
    },
    {
      "cell_type": "code",
      "execution_count": 12,
      "id": "f110ddb1",
      "metadata": {
        "execution": {
          "iopub.execute_input": "2022-12-07T23:48:52.247930Z",
          "iopub.status.busy": "2022-12-07T23:48:52.247835Z",
          "iopub.status.idle": "2022-12-07T23:48:52.252167Z",
          "shell.execute_reply": "2022-12-07T23:48:52.251943Z"
        }
      },
      "outputs": [
        {
          "name": "stdout",
          "output_type": "stream",
          "text": [
            "            | surname\n",
            "^2TMTFGY... | Alice\n",
            "^YHZBTNY... | Bob\n",
            "^SERVYWW... | Carole\n"
          ]
        }
      ],
      "source": [
        "# _MD_COMMENT_START_\n",
        "pw.debug.compute_and_print(t_name.select(surname=t_name.name))\n",
        "# _MD_COMMENT_END_\n",
        "# _MD_SHOW_t_name.select(surname=t_name.name)"
      ]
    },
    {
      "cell_type": "markdown",
      "id": "5c31c2fb",
      "metadata": {
        "lines_to_next_cell": 2
      },
      "source": [
        " * **Renaming** with `rename_columns`:"
      ]
    },
    {
      "cell_type": "code",
      "execution_count": 13,
      "id": "0c4495fc",
      "metadata": {
        "execution": {
          "iopub.execute_input": "2022-12-07T23:48:52.253222Z",
          "iopub.status.busy": "2022-12-07T23:48:52.253127Z",
          "iopub.status.idle": "2022-12-07T23:48:52.257448Z",
          "shell.execute_reply": "2022-12-07T23:48:52.257207Z"
        }
      },
      "outputs": [
        {
          "name": "stdout",
          "output_type": "stream",
          "text": [
            "            | surname\n",
            "^2TMTFGY... | Alice\n",
            "^YHZBTNY... | Bob\n",
            "^SERVYWW... | Carole\n"
          ]
        }
      ],
      "source": [
        "# _MD_COMMENT_START_\n",
        "pw.debug.compute_and_print(t_name.rename_columns(surname=t_name.name))\n",
        "# _MD_COMMENT_END_\n",
        "# _MD_SHOW_t_name.rename_columns(surname=t_name.name)"
      ]
    },
    {
      "cell_type": "markdown",
      "id": "a17eec44",
      "metadata": {},
      "source": [
        " * **Updating cells**: you can the values of cells using `update_cells` which can be also done using the binary operator `<<`. The ids and column name should be the same."
      ]
    },
    {
      "cell_type": "code",
      "execution_count": 14,
      "id": "29a13746",
      "metadata": {
        "execution": {
          "iopub.execute_input": "2022-12-07T23:48:52.258488Z",
          "iopub.status.busy": "2022-12-07T23:48:52.258393Z",
          "iopub.status.idle": "2022-12-07T23:48:52.264384Z",
          "shell.execute_reply": "2022-12-07T23:48:52.264157Z"
        }
      },
      "outputs": [
        {
          "name": "stdout",
          "output_type": "stream",
          "text": [
            "            | name\n",
            "^2TMTFGY... | Alicia\n",
            "^YHZBTNY... | Bobby\n",
            "^SERVYWW... | Caro\n"
          ]
        }
      ],
      "source": [
        "t_updated_names = pw.debug.table_from_markdown(\n",
        "    \"\"\"\n",
        "    | name\n",
        " 1  | Alicia\n",
        " 2  | Bobby\n",
        " 3  | Caro\n",
        " \"\"\"\n",
        ")\n",
        "t_updated_names = t_updated_names.unsafe_promise_same_universe_as(t_name)\n",
        "# _MD_COMMENT_START_\n",
        "pw.debug.compute_and_print(t_name.update_cells(t_updated_names))\n",
        "# _MD_COMMENT_END_\n",
        "# _MD_SHOW_t_name.update_cells(t_updated_names)"
      ]
    },
    {
      "cell_type": "markdown",
      "id": "1f334d55",
      "metadata": {},
      "source": [
        "## Operations\n",
        "\n",
        "* **Row-centered operations** with `apply`: you can apply a function to each value of a column (or more) by using `apply` in a `select`."
      ]
    },
    {
      "cell_type": "code",
      "execution_count": 15,
      "id": "bbc6274d",
      "metadata": {
        "execution": {
          "iopub.execute_input": "2022-12-07T23:48:52.265477Z",
          "iopub.status.busy": "2022-12-07T23:48:52.265380Z",
          "iopub.status.idle": "2022-12-07T23:48:52.270098Z",
          "shell.execute_reply": "2022-12-07T23:48:52.269875Z"
        }
      },
      "outputs": [
        {
          "name": "stdout",
          "output_type": "stream",
          "text": [
            "            | thirties\n",
            "^2TMTFGY... | False\n",
            "^SERVYWW... | False\n",
            "^YHZBTNY... | True\n"
          ]
        }
      ],
      "source": [
        "# _MD_COMMENT_START_\n",
        "pw.debug.compute_and_print(t_age.select(thirties=pw.apply(lambda x: x > 30, t_age.age)))\n",
        "# _MD_COMMENT_END_\n",
        "# _MD_SHOW_t_age.select(thirties=pw.apply(lambda x: x>30, t_age.age)))"
      ]
    },
    {
      "cell_type": "markdown",
      "id": "58570f44",
      "metadata": {},
      "source": [
        "Operations on multiples values of a single row can be easily done this way:"
      ]
    },
    {
      "cell_type": "code",
      "execution_count": 16,
      "id": "6d0c8812",
      "metadata": {
        "execution": {
          "iopub.execute_input": "2022-12-07T23:48:52.271158Z",
          "iopub.status.busy": "2022-12-07T23:48:52.271062Z",
          "iopub.status.idle": "2022-12-07T23:48:52.277493Z",
          "shell.execute_reply": "2022-12-07T23:48:52.277247Z"
        }
      },
      "outputs": [
        {
          "name": "stdout",
          "output_type": "stream",
          "text": [
            "            | sum\n",
            "^2TMTFGY... | 11\n",
            "^YHZBTNY... | 1100\n"
          ]
        }
      ],
      "source": [
        "t_multiples_values = pw.debug.table_from_markdown(\n",
        "    \"\"\"\n",
        "    | valA    | valB\n",
        " 1  | 1       | 10\n",
        " 2  | 100     | 1000\n",
        " \"\"\"\n",
        ")\n",
        "# _MD_COMMENT_START_\n",
        "pw.debug.compute_and_print(\n",
        "    t_multiples_values.select(\n",
        "        sum=pw.apply(\n",
        "            lambda x, y: x + y, t_multiples_values.valA, t_multiples_values.valB\n",
        "        )\n",
        "    )\n",
        ")\n",
        "# _MD_COMMENT_END_\n",
        "# _MD_SHOW_t_multiples_values.select(sum=pw.apply(lambda x,y: x+y, t_multiples_values.valA, t_multiples_values.valB))"
      ]
    },
    {
      "cell_type": "markdown",
      "id": "01d5d4cd",
      "metadata": {},
      "source": [
        "* Other operations with **transformer classes**: Pathway enables complex computation on data stream by using transformer classes.\n",
        "It is a bit advanced for this survival guide but you can find all the information about transformer classes in [our tutorial](https://pathway.com/developers/documentation/transformer-classes/transformer-intro)."
      ]
    }
  ],
  "metadata": {
    "jupytext": {
      "cell_metadata_filter": "-all"
    },
    "kernelspec": {
      "display_name": "Python 3 (ipykernel)",
      "language": "python",
      "name": "python3"
    },
    "language_info": {
      "codemirror_mode": {
        "name": "ipython",
        "version": 3
      },
      "file_extension": ".py",
      "mimetype": "text/x-python",
      "name": "python",
      "nbconvert_exporter": "python",
      "pygments_lexer": "ipython3",
      "version": "3.10.6"
    }
  },
  "nbformat": 4,
  "nbformat_minor": 5
}