{
  "cells": [
    {
      "cell_type": "markdown",
      "metadata": {
        "id": "view-in-colab"
      },
      "source": [
        "<a href=\"https://colab.research.google.com/github/pathwaycom/pathway-examples/blob/main/documentation/survival_guide.ipynb\" target=\"_parent\"><img src=\"https://pathway.com/assets/colab-badge.svg\" alt=\"Run In Colab\" class=\"inline\"/></a>"
      ]
    },
    {
      "cell_type": "markdown",
      "source": [
        "# Installing Pathway with Python 3.8+\n",
        "\n",
        "In the cell below, we install Pathway into a Python 3.8+ Linux runtime.\n",
        "\n",
        "> **If you are running in Google Colab, please run the colab notebook (Ctrl+F9)**, disregarding the 'not authored by Google' warning.\n",
        "> \n",
        "> **The installation and loading time is less than 1 minute**.\n"
      ],
      "metadata": {
        "id": "notebook-instructions"
      }
    },
    {
      "cell_type": "code",
      "source": [
        "%%capture --no-display\n",
        "!pip install --extra-index-url https://packages.pathway.com/966431ef6ba pathway"
      ],
      "metadata": {
        "id": "pip-installation-pathway",
        "cellView": "form"
      },
      "execution_count": null,
      "outputs": []
    },
    {
      "cell_type": "markdown",
      "id": "7cca9eba",
      "metadata": {},
      "source": [
        "# Pathway: first-steps guide\n",
        "Must-read for both first-timers and veterans alike, this guide gathers the most commonly used basic elements of Pathway.\n",
        "\n",
        "\n",
        "While the Pathway programming framework comes with advanced functionalities such as [classifiers](https://pathway.com/developers/showcases/lsh/lsh_chapter1) or [fuzzy-joins](https://pathway.com/developers/showcases/fuzzy_join/fuzzy_join_chapter1), it is essential to master the basic operations at the core of the framework.\n",
        "As part of this first-steps guide, we are going to walk through the following topics:\n",
        "* [Streaming and static modes](#streaming-and-static-modes)\n",
        "* [Starting with data](#starting-with-data)\n",
        "* [Select and notations](#select-and-notations)\n",
        "* [Manipulating the table](#manipulating-the-table)\n",
        "* [Working with multiples tables: union, concatenation, join](#working-with-multiple-tables-union-concatenation-join)\n",
        "* [Updating](#updating)\n",
        "* [Computing](#operations)\n",
        "\n",
        "If you want more information you can review our complete [API docs](https://pathway.com/developers/documentation/api-docs/pathway) or some of our [tutorials](https://pathway.com/developers/tutorials/suspicious_activity_tumbling_window)."
      ]
    },
    {
      "cell_type": "markdown",
      "id": "d087d678",
      "metadata": {},
      "source": [
        "## Streaming and static modes\n",
        "\n",
        "The first thing to keep in mind is that Pathway is made for streaming data.\n",
        "In this **streaming mode**, Pathway assumes unbounded incoming updates.\n",
        "To process the incoming data, Pathway maintains a [computation graph](/developers/documentation/introduction/key-concepts#computation-graph).\n",
        "This mode requires input connectors listening to streaming data sources.\n",
        "The computation runs indefinitely until the process is killed: the computation starts with `pw.run()` and everything afterwards is unreachable code.\n",
        "\n",
        "However, the streaming mode may not be the most convenient when testing or debugging.\n",
        "For that purpose, Pathway provides a **static mode** in which static data may be attached to the connectors.\n",
        "In that mode, finite and static data can be loaded, e.g. from a table written in a static csv file or from a markdown table.\n",
        "\n",
        "When the computation is run in the static mode, all the data is loaded and processed at once.\n",
        "While the static mode does not fully benefit from the computation graph, it allows checking if the graph is correctly built.\n",
        "To ease the debugging, Pathway provides a function called `compute_and_print`.\n",
        "When calling `pw.debug.compute_and_print(t)`, Pathway builds the whole graph, ingests all the available static data, prints the obtained table `t`, and then discards the data.\n",
        "Calling twice `compute_and_print` will result in ingesting the whole data twice.\n",
        "In the streaming mode, the building of the graph and the ingestion of the data is done only once when `pw.run()` is called and the data is maintained in the graph until the computation is over: results cannot be printed but should be accessed using output connectors.\n",
        "\n",
        "The processing pipeline should be designed in the same way no matter what mode is used in the end. The only difference is how the data is considered.\n",
        "\n",
        "To learn more about both modes, you can read our [article](/developers/documentation/introduction/streaming-and-static-modes) about it.\n",
        "\n",
        "In most of our examples, we use the static mode since it avoids setting external streaming data sources such as Kafka."
      ]
    },
    {
      "cell_type": "markdown",
      "id": "07cadbe6",
      "metadata": {},
      "source": [
        "## Starting with data\n",
        "\n",
        "Be sure to always import Pathway."
      ]
    },
    {
      "cell_type": "code",
      "execution_count": 1,
      "id": "3b448412",
      "metadata": {
        "execution": {
          "iopub.execute_input": "2023-03-01T15:39:51.492422Z",
          "iopub.status.busy": "2023-03-01T15:39:51.492290Z",
          "iopub.status.idle": "2023-03-01T15:39:52.587261Z",
          "shell.execute_reply": "2023-03-01T15:39:52.586680Z"
        }
      },
      "outputs": [],
      "source": [
        "import pathway as pw"
      ]
    },
    {
      "cell_type": "markdown",
      "id": "c4dd163a",
      "metadata": {},
      "source": [
        "Now you need tables to manipulate.\n",
        "The way tables are obtained depends on whether you are on streaming or static mode.\n",
        "In this article, you will be using the static mode to be able to show the behavior of each processing step, but keep in mind that Pathway is made for the streaming mode.\n",
        "\n",
        "### Static mode\n",
        "In the static mode, you can manually enter a table using a markdown connector. Here are the (static) tables you will be using:"
      ]
    },
    {
      "cell_type": "code",
      "execution_count": 2,
      "id": "0c9dc770",
      "metadata": {
        "execution": {
          "iopub.execute_input": "2023-03-01T15:39:52.590331Z",
          "iopub.status.busy": "2023-03-01T15:39:52.590112Z",
          "iopub.status.idle": "2023-03-01T15:39:52.603428Z",
          "shell.execute_reply": "2023-03-01T15:39:52.603038Z"
        }
      },
      "outputs": [],
      "source": [
        "t_name = pw.debug.table_from_markdown(\n",
        "    \"\"\"\n",
        "    | name\n",
        " 1  | Alice\n",
        " 2  | Bob\n",
        " 3  | Carole\n",
        " \"\"\"\n",
        ")\n",
        "t_age = pw.debug.table_from_markdown(\n",
        "    \"\"\"\n",
        "    | age\n",
        " 1  | 25\n",
        " 2  | 32\n",
        " 3  | 28\n",
        " \"\"\"\n",
        ")\n",
        "t_david = pw.debug.table_from_markdown(\n",
        "    \"\"\"\n",
        "    | name  | age\n",
        " 4  | David | 25\n",
        " \"\"\"\n",
        ")"
      ]
    },
    {
      "cell_type": "markdown",
      "id": "23029d61",
      "metadata": {},
      "source": [
        "You can display a snapshot of our table (for debugging purposes) using `pw.debug.compute_and_print()`:"
      ]
    },
    {
      "cell_type": "code",
      "execution_count": 3,
      "id": "4a288a04",
      "metadata": {
        "execution": {
          "iopub.execute_input": "2023-03-01T15:39:52.605655Z",
          "iopub.status.busy": "2023-03-01T15:39:52.605488Z",
          "iopub.status.idle": "2023-03-01T15:39:52.609271Z",
          "shell.execute_reply": "2023-03-01T15:39:52.608854Z"
        }
      },
      "outputs": [
        {
          "name": "stdout",
          "output_type": "stream",
          "text": [
            "            | name\n",
            "^2TMTFGY... | Alice\n",
            "^YHZBTNY... | Bob\n",
            "^SERVYWW... | Carole\n"
          ]
        }
      ],
      "source": [
        "pw.debug.compute_and_print(t_name)"
      ]
    },
    {
      "cell_type": "markdown",
      "id": "8c585cae",
      "metadata": {},
      "source": [
        "In the following, let's omit the `pw.debug.compute_and_print()` this for clarity reasons but keep in mind that it is required to print the actual *static* data at a given time.\n",
        "\n",
        "\n",
        "### Streaming mode\n",
        "In the streaming mode, those tables would be obtained using one of the [connectors](/developers/documentation/input-and-output-streams/connectors) provided by Pathway.\n",
        "For example, we could use `t_name=pw.io.kafka(settings,id_columns=['name'])` to obtain the table from Kafka.\n",
        "The results should be taken out of Pathway using an output connector: we could send the data to postgresql using `pw.io.progresql.write()` for instance.\n",
        "Otherwise, the way the data is manipulated is exactly the same in both modes."
      ]
    },
    {
      "cell_type": "markdown",
      "id": "a1f1ccf3",
      "metadata": {},
      "source": [
        "## Select and notations\n",
        "\n",
        " The main way to manipulate a table in Pathway is by using the `select` operation.\n",
        "\n",
        " * **The dot notation**: you can use `select` to select a particular column and you can use the dot notation to specify the name of the column. For example, you can access the column \"name\" of your `t_extra` table:"
      ]
    },
    {
      "cell_type": "code",
      "execution_count": 4,
      "id": "497c13ef",
      "metadata": {
        "execution": {
          "iopub.execute_input": "2023-03-01T15:39:52.611133Z",
          "iopub.status.busy": "2023-03-01T15:39:52.610862Z",
          "iopub.status.idle": "2023-03-01T15:39:52.615512Z",
          "shell.execute_reply": "2023-03-01T15:39:52.615103Z"
        }
      },
      "outputs": [
        {
          "name": "stdout",
          "output_type": "stream",
          "text": [
            "            | name\n",
            "^8GR6BSX... | David\n"
          ]
        }
      ],
      "source": [
        "t_david.select(t_david.name)"
      ]
    },
    {
      "cell_type": "markdown",
      "id": "8d547146",
      "metadata": {},
      "source": [
        " * **The bracket notation**: you can also use string to access the column **the bracket notation**. The previous example is equivalent to ```t_david.select(t_david[\"name\"])```."
      ]
    },
    {
      "cell_type": "markdown",
      "id": "4e12bf34",
      "metadata": {},
      "source": [
        " * The **this notation**: to refer to the table currently manipulated you can use `pw.this`. Our example becomes `t_david.select(pw.this.name)`.\n",
        "This notation works for all standard transformers.\n",
        "    > It can be used to refer to the table, even if it has not been given a name, for example in successive operations:"
      ]
    },
    {
      "cell_type": "code",
      "execution_count": 5,
      "id": "293b6f6f",
      "metadata": {
        "execution": {
          "iopub.execute_input": "2023-03-01T15:39:52.617378Z",
          "iopub.status.busy": "2023-03-01T15:39:52.617011Z",
          "iopub.status.idle": "2023-03-01T15:39:52.621607Z",
          "shell.execute_reply": "2023-03-01T15:39:52.621197Z"
        }
      },
      "outputs": [
        {
          "name": "stdout",
          "output_type": "stream",
          "text": [
            "            | new_age_plus_7\n",
            "^8GR6BSX... | 32\n"
          ]
        }
      ],
      "source": [
        "t_new_age = t_david.select(new_age=pw.this.age).select(\n",
        "    new_age_plus_7=pw.this.new_age + 7\n",
        ")\n",
        "pw.debug.compute_and_print(t_new_age)"
      ]
    },
    {
      "cell_type": "markdown",
      "id": "279081ce",
      "metadata": {},
      "source": [
        "In this example, it would be impossible to refer to the table obtained after the first select (with the column `new_age`) without using `pw.this` as `t_david` still refers to the initial and unmodified table."
      ]
    },
    {
      "cell_type": "markdown",
      "id": "f0634ac6",
      "metadata": {},
      "source": [
        " * **left and right notations**: similarly to the this notation, `pw.left` and `pw.right` can be used to manipulate the different tables used in a [join](#working-with-multiples-tables-union-concatenation-join).\n",
        "    > `left_table.join(right_table, pw.left.C1==pw.right.C2).select(pw.left.C3, pw.right.C4)`\n",
        "\n",
        "For more information about the join and the use of `pw.left` and `pw.right`, you can see the dedicated [section](#working-with-multiples-tables-union-concatenation-join) and [manual](/developers/documentation/table-operations/join-manual/)."
      ]
    },
    {
      "cell_type": "markdown",
      "id": "6be778e9",
      "metadata": {},
      "source": [
        " * The **star * notation**: this notation is used to select all the columns of the manipulated table. `table.select(*pw.this)` will return the full table.\n",
        "It can be combined with `.without` to remove the unwanted columns:\n",
        "\n",
        "    > In our example, instead of selecting the \"name\" column, you could want to select all the columns except the \"age\" one. This is obtained as follows:"
      ]
    },
    {
      "cell_type": "code",
      "execution_count": 6,
      "id": "d295e2e9",
      "metadata": {
        "execution": {
          "iopub.execute_input": "2023-03-01T15:39:52.623375Z",
          "iopub.status.busy": "2023-03-01T15:39:52.623114Z",
          "iopub.status.idle": "2023-03-01T15:39:52.627304Z",
          "shell.execute_reply": "2023-03-01T15:39:52.626893Z"
        }
      },
      "outputs": [
        {
          "name": "stdout",
          "output_type": "stream",
          "text": [
            "            | name\n",
            "^8GR6BSX... | David\n"
          ]
        }
      ],
      "source": [
        "t_david.select(*pw.this.without(pw.this.age))"
      ]
    },
    {
      "cell_type": "markdown",
      "id": "34ee6656",
      "metadata": {},
      "source": [
        "\u26a0\ufe0f Note on **column names**: column names are **case sensitive** and *any* string can be used as column name using the bracket notation.\n",
        "However it is not the case for the dot notation which is restricted by standard Python syntax.\n",
        "For instance, the dot notation does not allow names with space: using `t.select(t[\"my name\"])` works while `t.select(t.my name)` will produce an error.\n",
        "By convention, we advocate to follow the Python variable naming convention which is to use only the special character \"\\_\" in addition to alphanumeric characters, and not to start with a number."
      ]
    },
    {
      "cell_type": "markdown",
      "id": "0b38e21c",
      "metadata": {},
      "source": [
        "## Manipulating the table\n",
        "\n",
        "In addition to `select`, Pathway provides more operators to manipulate and index the tables."
      ]
    },
    {
      "cell_type": "markdown",
      "id": "a43456e5",
      "metadata": {},
      "source": [
        " * **Filtering**: we can use `filter` to keep rows following a given property."
      ]
    },
    {
      "cell_type": "code",
      "execution_count": 7,
      "id": "bfc67d04",
      "metadata": {
        "execution": {
          "iopub.execute_input": "2023-03-01T15:39:52.629123Z",
          "iopub.status.busy": "2023-03-01T15:39:52.628815Z",
          "iopub.status.idle": "2023-03-01T15:39:52.634741Z",
          "shell.execute_reply": "2023-03-01T15:39:52.634327Z"
        }
      },
      "outputs": [
        {
          "name": "stdout",
          "output_type": "stream",
          "text": [
            "            | is_adult\n",
            "^19D0FQ9... | True\n",
            "^76QPWK3... | True\n"
          ]
        }
      ],
      "source": [
        "t_adult = pw.debug.table_from_markdown(\n",
        "    \"\"\"\n",
        "    | is_adult\n",
        " 5  | True\n",
        " 6  | False\n",
        " 7  | True\n",
        " \"\"\"\n",
        ")\n",
        "t_adult.filter(pw.this.is_adult)"
      ]
    },
    {
      "cell_type": "markdown",
      "id": "9faf01a6",
      "metadata": {},
      "source": [
        "You can use standard python operators, including arithmetic operators such as `+`, `-`, `*`, `/`, `//`, `<`, `>`, or `~`:"
      ]
    },
    {
      "cell_type": "code",
      "execution_count": 8,
      "id": "f8d5c7bc",
      "metadata": {
        "execution": {
          "iopub.execute_input": "2023-03-01T15:39:52.636547Z",
          "iopub.status.busy": "2023-03-01T15:39:52.636166Z",
          "iopub.status.idle": "2023-03-01T15:39:52.640289Z",
          "shell.execute_reply": "2023-03-01T15:39:52.639873Z"
        }
      },
      "outputs": [
        {
          "name": "stdout",
          "output_type": "stream",
          "text": [
            "            | age\n",
            "^YHZBTNY... | 32\n"
          ]
        }
      ],
      "source": [
        "t_age.filter(pw.this.age>30)"
      ]
    },
    {
      "cell_type": "markdown",
      "id": "db46708c",
      "metadata": {},
      "source": [
        "The logical negation can be used using `~`:"
      ]
    },
    {
      "cell_type": "code",
      "execution_count": 9,
      "id": "702de28a",
      "metadata": {
        "execution": {
          "iopub.execute_input": "2023-03-01T15:39:52.641934Z",
          "iopub.status.busy": "2023-03-01T15:39:52.641664Z",
          "iopub.status.idle": "2023-03-01T15:39:52.645426Z",
          "shell.execute_reply": "2023-03-01T15:39:52.645025Z"
        }
      },
      "outputs": [
        {
          "name": "stdout",
          "output_type": "stream",
          "text": [
            "            | is_adult\n",
            "^C4S6S48... | False\n"
          ]
        }
      ],
      "source": [
        "t_adult.filter(~pw.this.is_adult)"
      ]
    },
    {
      "cell_type": "markdown",
      "id": "0c49c472",
      "metadata": {},
      "source": [
        " * **Reindexing**: you can change the ids (accessible by `table.id`) by using `.with_id_from()`.\n",
        "You need a table with new ids:"
      ]
    },
    {
      "cell_type": "code",
      "execution_count": 10,
      "id": "f783c309",
      "metadata": {
        "execution": {
          "iopub.execute_input": "2023-03-01T15:39:52.647177Z",
          "iopub.status.busy": "2023-03-01T15:39:52.646807Z",
          "iopub.status.idle": "2023-03-01T15:39:52.650784Z",
          "shell.execute_reply": "2023-03-01T15:39:52.650396Z"
        }
      },
      "outputs": [],
      "source": [
        "t_new_ids = pw.debug.table_from_markdown(\n",
        "    \"\"\"\n",
        "    | new_id_source\n",
        " 1  | 4\n",
        " 2  | 5\n",
        " 3  | 6\n",
        " \"\"\"\n",
        ")"
      ]
    },
    {
      "cell_type": "code",
      "execution_count": 11,
      "id": "5c8dfd99",
      "metadata": {
        "execution": {
          "iopub.execute_input": "2023-03-01T15:39:52.652457Z",
          "iopub.status.busy": "2023-03-01T15:39:52.652137Z",
          "iopub.status.idle": "2023-03-01T15:39:52.657428Z",
          "shell.execute_reply": "2023-03-01T15:39:52.657008Z"
        }
      },
      "outputs": [
        {
          "name": "stdout",
          "output_type": "stream",
          "text": [
            "            | name\n",
            "^8GR6BSX... | Alice\n",
            "^76QPWK3... | Bob\n",
            "^C4S6S48... | Carole\n"
          ]
        }
      ],
      "source": [
        "t_name.unsafe_promise_universe_is_subset_of(t_new_ids).with_id_from(t_new_ids.new_id_source)"
      ]
    },
    {
      "cell_type": "markdown",
      "id": "9d9700a7",
      "metadata": {},
      "source": [
        "Here you would need to use `unsafe_promise_universe_is_subset_of`, you can find the detailed explanation in our [article](https://pathway.com/developers/documentation/introduction/key-concepts) about Pathway's concepts.\n",
        "\n",
        "* **ix**: uses a column's values as indexes.\n",
        "As an example, if you have a table containing indexes pointing to another table, you can use this `ix` to obtain those lines:"
      ]
    },
    {
      "cell_type": "code",
      "execution_count": 12,
      "id": "c58925a3",
      "metadata": {
        "execution": {
          "iopub.execute_input": "2023-03-01T15:39:52.659308Z",
          "iopub.status.busy": "2023-03-01T15:39:52.658905Z",
          "iopub.status.idle": "2023-03-01T15:39:52.665162Z",
          "shell.execute_reply": "2023-03-01T15:39:52.664737Z"
        }
      },
      "outputs": [
        {
          "name": "stdout",
          "output_type": "stream",
          "text": [
            "            | selected\n",
            "^M1T2QKJ... | Alice\n",
            "^9WGHV46... | Carole\n"
          ]
        }
      ],
      "source": [
        "t_selected_ids = pw.debug.table_from_markdown(\n",
        "    \"\"\"\n",
        "      | selected_id\n",
        " 100  | 1\n",
        " 200  | 3\n",
        " \"\"\"\n",
        ")\n",
        "t_selected_ids.select(selected=t_name.ix_ref(t_selected_ids.selected_id).name)"
      ]
    },
    {
      "cell_type": "markdown",
      "id": "cdd8b29e",
      "metadata": {},
      "source": [
        "* **Group-by**: we can use `groupby` to aggregate data sharing a common property and then use a reducer to compute an aggregated value."
      ]
    },
    {
      "cell_type": "code",
      "execution_count": 13,
      "id": "9d4148f1",
      "metadata": {
        "execution": {
          "iopub.execute_input": "2023-03-01T15:39:52.666943Z",
          "iopub.status.busy": "2023-03-01T15:39:52.666576Z",
          "iopub.status.idle": "2023-03-01T15:39:52.673623Z",
          "shell.execute_reply": "2023-03-01T15:39:52.673204Z"
        }
      },
      "outputs": [
        {
          "name": "stdout",
          "output_type": "stream",
          "text": [
            "            | name  | sum\n",
            "^TSP7EFT... | Alice | 175\n",
            "^4PVZ777... | Bob   | 300\n"
          ]
        }
      ],
      "source": [
        "t_spending = pw.debug.table_from_markdown(\n",
        "    \"\"\"\n",
        "    | name  | amount\n",
        " 1  | Bob   | 100\n",
        " 2  | Alice | 50\n",
        " 3  | Alice | 125\n",
        " 4  | Bob   | 200\n",
        " \"\"\"\n",
        ")\n",
        "t_spending.groupby(pw.this.name).reduce(pw.this.name, sum=pw.reducers.sum(pw.this.amount))"
      ]
    },
    {
      "cell_type": "markdown",
      "id": "ed4aea76",
      "metadata": {},
      "source": [
        "You can do groupbys on multiple columns at once (e.g. `.groupby(t.colA, t.colB)`).\n",
        "The list of all the available reducers can be found [here](https://pathway.com/developers/documentation/api-docs/reducers).\n",
        "\n",
        "If you want to find out more about the `groupby` and `reduce` operations, you can read our [article](/developers/documentation/table-operations/groupby-reduce-manual/) about it.\n",
        "\n",
        "## Working with multiples tables: union, concatenation, join\n",
        "\n",
        " * **Union**: we can use the operator `+` or `+=` to compute the union of two tables sharing the same ids."
      ]
    },
    {
      "cell_type": "code",
      "execution_count": 14,
      "id": "7e06aa92",
      "metadata": {
        "execution": {
          "iopub.execute_input": "2023-03-01T15:39:52.675453Z",
          "iopub.status.busy": "2023-03-01T15:39:52.675085Z",
          "iopub.status.idle": "2023-03-01T15:39:52.679346Z",
          "shell.execute_reply": "2023-03-01T15:39:52.678920Z"
        }
      },
      "outputs": [
        {
          "name": "stdout",
          "output_type": "stream",
          "text": [
            "            | name   | age\n",
            "^2TMTFGY... | Alice  | 25\n",
            "^YHZBTNY... | Bob    | 32\n",
            "^SERVYWW... | Carole | 28\n"
          ]
        }
      ],
      "source": [
        "t_age = t_age.unsafe_promise_same_universe_as(t_name)\n",
        "t_union = t_name + t_age\n",
        ""
      ]
    },
    {
      "cell_type": "markdown",
      "id": "7bdb7893",
      "metadata": {},
      "source": [
        "* **Concatenation**: you can use `Table.concat(t1,t2)` to concatenate two tables, but they need to have the same ids."
      ]
    },
    {
      "cell_type": "code",
      "execution_count": 15,
      "id": "4acff97d",
      "metadata": {
        "execution": {
          "iopub.execute_input": "2023-03-01T15:39:52.681141Z",
          "iopub.status.busy": "2023-03-01T15:39:52.680781Z",
          "iopub.status.idle": "2023-03-01T15:39:52.687447Z",
          "shell.execute_reply": "2023-03-01T15:39:52.687013Z"
        }
      },
      "outputs": [
        {
          "name": "stdout",
          "output_type": "stream",
          "text": [
            "            | name   | age\n",
            "^531BJZ8... | Alice  | 25\n",
            "^9SVRC47... | Bob    | 32\n",
            "^R5XMQ21... | Carole | 28\n",
            "^C4VQQCA... | David  | 25\n"
          ]
        }
      ],
      "source": [
        "pw.Table.concat(t_union,t_david)"
      ]
    },
    {
      "cell_type": "markdown",
      "id": "e201233b",
      "metadata": {},
      "source": [
        "As you can see, Pathway may reindex the obtained tables.\n",
        "\n",
        "> **Info for Databricks Delta users**: Concatenation is highly similar to the SQL [`MERGE INTO`](https://docs.databricks.com/sql/language-manual/delta-merge-into.html).\n",
        "\n",
        "* **Join**: you can do all usual types of joins in Pathway (inner, outer, left, right). The example below presents an inner join:"
      ]
    },
    {
      "cell_type": "code",
      "execution_count": 16,
      "id": "5ca7f1eb",
      "metadata": {
        "execution": {
          "iopub.execute_input": "2023-03-01T15:39:52.689227Z",
          "iopub.status.busy": "2023-03-01T15:39:52.688908Z",
          "iopub.status.idle": "2023-03-01T15:39:52.694192Z",
          "shell.execute_reply": "2023-03-01T15:39:52.693765Z"
        }
      },
      "outputs": [
        {
          "name": "stdout",
          "output_type": "stream",
          "text": [
            "            | age | name\n",
            "^VJ3K9DF... | 25  | Alice\n",
            "^R0GE4WM... | 28  | Carole\n",
            "^V1RPZW8... | 32  | Bob\n"
          ]
        }
      ],
      "source": [
        "t_age.join(t_name, t_age.id==t_name.id).select(t_age.age, t_name.name)"
      ]
    },
    {
      "cell_type": "markdown",
      "id": "2f4cf245",
      "metadata": {},
      "source": [
        "Note that in the equality `t_age.id==t_name.id` the left part must be a column of the table on which the join is done, namely `t_name` in our example. Doing `t_name.id==t_age.id` would throw an error.\n",
        "\n",
        "For more visibility, the `pw.left` and `pw.right` notations should be used:"
      ]
    },
    {
      "cell_type": "code",
      "execution_count": 17,
      "id": "8d788ada",
      "metadata": {
        "execution": {
          "iopub.execute_input": "2023-03-01T15:39:52.695896Z",
          "iopub.status.busy": "2023-03-01T15:39:52.695639Z",
          "iopub.status.idle": "2023-03-01T15:39:52.700610Z",
          "shell.execute_reply": "2023-03-01T15:39:52.700200Z"
        }
      },
      "outputs": [
        {
          "name": "stdout",
          "output_type": "stream",
          "text": [
            "            | age | name\n",
            "^VJ3K9DF... | 25  | Alice\n",
            "^R0GE4WM... | 28  | Carole\n",
            "^V1RPZW8... | 32  | Bob\n"
          ]
        }
      ],
      "source": [
        "t_age.join(t_name, pw.left.id == pw.right.id).select(pw.left.age, pw.right.name)"
      ]
    },
    {
      "cell_type": "markdown",
      "id": "ede95355",
      "metadata": {},
      "source": [
        "If you want more info about joins, we have an entire [manu\\[a\\]l](join-manual) about it!\n",
        "\n",
        "## Updating\n",
        "\n",
        "* **Adding a new column with a default value** with `select`:"
      ]
    },
    {
      "cell_type": "code",
      "execution_count": 18,
      "id": "ca512853",
      "metadata": {
        "execution": {
          "iopub.execute_input": "2023-03-01T15:39:52.702391Z",
          "iopub.status.busy": "2023-03-01T15:39:52.702054Z",
          "iopub.status.idle": "2023-03-01T15:39:52.706127Z",
          "shell.execute_reply": "2023-03-01T15:39:52.705711Z"
        }
      },
      "outputs": [
        {
          "name": "stdout",
          "output_type": "stream",
          "text": [
            "            | age | adult\n",
            "^2TMTFGY... | 25  | True\n",
            "^SERVYWW... | 28  | True\n",
            "^YHZBTNY... | 32  | True\n"
          ]
        }
      ],
      "source": [
        "t_age.select(*pw.this, adult=True)"
      ]
    },
    {
      "cell_type": "markdown",
      "id": "378ef752",
      "metadata": {},
      "source": [
        "The value can be a basic operation on the columns:"
      ]
    },
    {
      "cell_type": "code",
      "execution_count": 19,
      "id": "16555d72",
      "metadata": {
        "execution": {
          "iopub.execute_input": "2023-03-01T15:39:52.707837Z",
          "iopub.status.busy": "2023-03-01T15:39:52.707517Z",
          "iopub.status.idle": "2023-03-01T15:39:52.711576Z",
          "shell.execute_reply": "2023-03-01T15:39:52.711168Z"
        }
      },
      "outputs": [
        {
          "name": "stdout",
          "output_type": "stream",
          "text": [
            "            | age | thirties\n",
            "^2TMTFGY... | 25  | False\n",
            "^SERVYWW... | 28  | False\n",
            "^YHZBTNY... | 32  | True\n"
          ]
        }
      ],
      "source": [
        "t_age.select(*pw.this, thirties=pw.this.age>=30)"
      ]
    },
    {
      "cell_type": "markdown",
      "id": "7270683e",
      "metadata": {},
      "source": [
        "* **Renaming** with `select`:"
      ]
    },
    {
      "cell_type": "code",
      "execution_count": 20,
      "id": "cfccf2ac",
      "metadata": {
        "execution": {
          "iopub.execute_input": "2023-03-01T15:39:52.713317Z",
          "iopub.status.busy": "2023-03-01T15:39:52.712984Z",
          "iopub.status.idle": "2023-03-01T15:39:52.716427Z",
          "shell.execute_reply": "2023-03-01T15:39:52.716014Z"
        }
      },
      "outputs": [
        {
          "name": "stdout",
          "output_type": "stream",
          "text": [
            "            | surname\n",
            "^2TMTFGY... | Alice\n",
            "^YHZBTNY... | Bob\n",
            "^SERVYWW... | Carole\n"
          ]
        }
      ],
      "source": [
        "t_name.select(surname=pw.this.name)"
      ]
    },
    {
      "cell_type": "markdown",
      "id": "d4232292",
      "metadata": {
        "lines_to_next_cell": 2
      },
      "source": [
        " * **Renaming** with `rename_columns`:"
      ]
    },
    {
      "cell_type": "code",
      "execution_count": 21,
      "id": "bed8f695",
      "metadata": {
        "execution": {
          "iopub.execute_input": "2023-03-01T15:39:52.718127Z",
          "iopub.status.busy": "2023-03-01T15:39:52.717818Z",
          "iopub.status.idle": "2023-03-01T15:39:52.721827Z",
          "shell.execute_reply": "2023-03-01T15:39:52.721423Z"
        }
      },
      "outputs": [
        {
          "name": "stdout",
          "output_type": "stream",
          "text": [
            "            | surname\n",
            "^2TMTFGY... | Alice\n",
            "^YHZBTNY... | Bob\n",
            "^SERVYWW... | Carole\n"
          ]
        }
      ],
      "source": [
        "t_name.rename_columns(surname=pw.this.name)"
      ]
    },
    {
      "cell_type": "markdown",
      "id": "2b02adec",
      "metadata": {},
      "source": [
        " * **Updating cells**: you can update the values of cells using `update_cells` which can be also done using the binary operator `<<`. The ids and column names should be the same."
      ]
    },
    {
      "cell_type": "code",
      "execution_count": 22,
      "id": "6904096e",
      "metadata": {
        "execution": {
          "iopub.execute_input": "2023-03-01T15:39:52.723602Z",
          "iopub.status.busy": "2023-03-01T15:39:52.723247Z",
          "iopub.status.idle": "2023-03-01T15:39:52.729579Z",
          "shell.execute_reply": "2023-03-01T15:39:52.729158Z"
        }
      },
      "outputs": [
        {
          "name": "stdout",
          "output_type": "stream",
          "text": [
            "            | name\n",
            "^2TMTFGY... | Alicia\n",
            "^YHZBTNY... | Bobby\n",
            "^SERVYWW... | Caro\n"
          ]
        }
      ],
      "source": [
        "t_updated_names = pw.debug.table_from_markdown(\n",
        "    \"\"\"\n",
        "    | name\n",
        " 1  | Alicia\n",
        " 2  | Bobby\n",
        " 3  | Caro\n",
        " \"\"\"\n",
        ")\n",
        "t_updated_names = t_updated_names.unsafe_promise_same_universe_as(t_name)\n",
        "t_name.update_cells(t_updated_names)"
      ]
    },
    {
      "cell_type": "markdown",
      "id": "e9489dc6",
      "metadata": {},
      "source": [
        "## Operations\n",
        "\n",
        "* **Row-centered operations** with `apply`: you can apply a function to each value of a column (or more) by using `apply` in a `select`."
      ]
    },
    {
      "cell_type": "code",
      "execution_count": 23,
      "id": "58d0886d",
      "metadata": {
        "execution": {
          "iopub.execute_input": "2023-03-01T15:39:52.731384Z",
          "iopub.status.busy": "2023-03-01T15:39:52.731037Z",
          "iopub.status.idle": "2023-03-01T15:39:52.735241Z",
          "shell.execute_reply": "2023-03-01T15:39:52.734833Z"
        }
      },
      "outputs": [
        {
          "name": "stdout",
          "output_type": "stream",
          "text": [
            "            | thirties\n",
            "^2TMTFGY... | False\n",
            "^SERVYWW... | False\n",
            "^YHZBTNY... | True\n"
          ]
        }
      ],
      "source": [
        "t_age.select(thirties=pw.apply(lambda x: x>30, pw.this.age)))"
      ]
    },
    {
      "cell_type": "markdown",
      "id": "34a1b400",
      "metadata": {},
      "source": [
        "Operations on multiples values of a single row can be easily done this way:"
      ]
    },
    {
      "cell_type": "code",
      "execution_count": 24,
      "id": "c4dcd43a",
      "metadata": {
        "execution": {
          "iopub.execute_input": "2023-03-01T15:39:52.736977Z",
          "iopub.status.busy": "2023-03-01T15:39:52.736649Z",
          "iopub.status.idle": "2023-03-01T15:39:52.742937Z",
          "shell.execute_reply": "2023-03-01T15:39:52.742528Z"
        }
      },
      "outputs": [
        {
          "name": "stdout",
          "output_type": "stream",
          "text": [
            "            | sum\n",
            "^2TMTFGY... | 11\n",
            "^YHZBTNY... | 1100\n"
          ]
        }
      ],
      "source": [
        "t_multiples_values = pw.debug.table_from_markdown(\n",
        "    \"\"\"\n",
        "    | valA    | valB\n",
        " 1  | 1       | 10\n",
        " 2  | 100     | 1000\n",
        " \"\"\"\n",
        ")\n",
        "t_multiples_values.select(sum=pw.apply(lambda x,y: x+y, pw.this.valA, pw.this.valB))"
      ]
    },
    {
      "cell_type": "markdown",
      "id": "0e529d6c",
      "metadata": {},
      "source": [
        "* Other operations with **transformer classes**: Pathway enables complex computation on data streams by using transformer classes.\n",
        "It is a bit advanced for this first-steps guide but you can find all the information about transformer classes in [our tutorial](https://pathway.com/developers/documentation/transformer-classes/transformer-intro)."
      ]
    }
  ],
  "metadata": {
    "jupytext": {
      "cell_metadata_filter": "-all",
      "main_language": "python",
      "notebook_metadata_filter": "-all"
    },
    "language_info": {
      "codemirror_mode": {
        "name": "ipython",
        "version": 3
      },
      "file_extension": ".py",
      "mimetype": "text/x-python",
      "name": "python",
      "nbconvert_exporter": "python",
      "pygments_lexer": "ipython3",
      "version": "3.10.8"
    }
  },
  "nbformat": 4,
  "nbformat_minor": 5
}