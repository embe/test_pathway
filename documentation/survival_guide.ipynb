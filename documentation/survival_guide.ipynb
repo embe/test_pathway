{
  "cells": [
    {
      "cell_type": "markdown",
      "metadata": {
        "id": "view-in-colab"
      },
      "source": [
        "<a href=\"https://colab.research.google.com/github/pathwaycom/pathway-examples/blob/main/documentation/survival_guide_colab.ipynb\" target=\"_parent\"><img src=\"https://pathway.com/assets/colab-badge.svg\" alt=\"Run In Colab\" class=\"inline\"/></a>"
      ]
    },
    {
      "cell_type": "markdown",
      "source": [
        "# Setting up Python and Pathway\n",
        "\n",
        "Pathway can be installed to a Python 3.10 environment using pip, please register at https://pathway.com to get beta access to the package."
      ],
      "metadata": {
        "id": "notebook-instructions"
      }
    },
    {
      "cell_type": "markdown",
      "source": [
        "Insert the pip link:"
      ],
      "metadata": {
        "id": "pip-link"
      }
    },
    {
      "cell_type": "code",
      "source": [
        "PIP_PACKAGE_ADDRESS=\"\""
      ],
      "metadata": {
        "id": "pip-package-link"
      },
      "execution_count": null,
      "outputs": []
    },
    {
      "cell_type": "code",
      "source": [
        "if not PIP_PACKAGE_ADDRESS:\n",
        "    print(\n",
        "        \"\u26d4 Please register at https://pathway.com/developers/documentation/introduction/installation-and-first-steps\\n\"\n",
        "        \"To get the pip package installation link!\"\n",
        "    )"
      ],
      "metadata": {
        "id": "pip-package-selection"
      },
      "execution_count": null,
      "outputs": []
    },
    {
      "cell_type": "code",
      "source": [
        "if not (sys.version_info.major==3 and sys.version_info.minor==10):\n",
        "    raise Exception(\"Pathway is only built for Python 3.10 at the moment\")"
      ],
      "metadata": {
        "id": "check-py-version"
      },
      "execution_count": null,
      "outputs": []
    },
    {
      "cell_type": "code",
      "source": [
        "# Install pathway's package\n",
        "!pip install {PIP_PACKAGE_ADDRESS} 1>/dev/null 2>/dev/null"
      ],
      "metadata": {
        "id": "pip-install-pathway"
      },
      "execution_count": null,
      "outputs": []
    },
    {
      "cell_type": "markdown",
      "id": "0b54bbe6",
      "metadata": {},
      "source": [
        "# Pathway: a survival guide\n",
        "Must-read for both first-timers and veterans alike, this guide gathers the most commonly used basic elements of Pathway.\n",
        "\n",
        "\n",
        "While the Pathway programming framework comes with advanced functionalities such as [classifiers](https://pathway.com/developers/showcases/lsh/lsh_chapter1) or [fuzzy-joins](https://pathway.com/developers/showcases/fuzzy_join/fuzzy_join_chapter1), it is essential to master the basic operations at the core of the framework.\n",
        "As part of this survival guide, we are going to walk through the following topics:\n",
        "* [Selecting and indexing](#selecting-and-indexing)\n",
        "* [Working with multiples tables: union, concatenation, join](#working-with-multiple-tables-union-concatenation-join)\n",
        "* [Updating](#updating)\n",
        "* [Computing](#operations)\n",
        "\n",
        "If you want more information you can see our complete [API docs](https://pathway.com/developers/documentation/api-docs/pathway) or some of our [tutorials](https://pathway.com/developers/tutorials/suspicious_activity_tumbling_window).\n",
        "\n",
        "## Prerequisite\n",
        "\n",
        "Be sure to import Pathway, and we need some tables:"
      ]
    },
    {
      "cell_type": "code",
      "execution_count": 1,
      "id": "2dd3429d",
      "metadata": {
        "execution": {
          "iopub.execute_input": "2022-12-15T08:40:25.901312Z",
          "iopub.status.busy": "2022-12-15T08:40:25.901025Z",
          "iopub.status.idle": "2022-12-15T08:40:26.924866Z",
          "shell.execute_reply": "2022-12-15T08:40:26.924381Z"
        }
      },
      "outputs": [],
      "source": [
        "import pathway as pw\n",
        "\n",
        "t_name = pw.debug.table_from_markdown(\n",
        "    \"\"\"\n",
        "    | name\n",
        " 1  | Alice\n",
        " 2  | Bob\n",
        " 3  | Carole\n",
        " \"\"\"\n",
        ")\n",
        "t_age = pw.debug.table_from_markdown(\n",
        "    \"\"\"\n",
        "    | age\n",
        " 1  | 25\n",
        " 2  | 32\n",
        " 3  | 28\n",
        " \"\"\"\n",
        ")\n",
        "t_name_extra = pw.debug.table_from_markdown(\n",
        "    \"\"\"\n",
        "    | name  | age\n",
        " 4  | David | 25\n",
        " \"\"\"\n",
        ")"
      ]
    },
    {
      "cell_type": "markdown",
      "id": "ebb92ea3",
      "metadata": {},
      "source": [
        "We can display a snapshot of our table (for debugging purposes) using `pw.debug.compute_and_print()`:"
      ]
    },
    {
      "cell_type": "code",
      "execution_count": 2,
      "id": "f46cd301",
      "metadata": {
        "execution": {
          "iopub.execute_input": "2022-12-15T08:40:26.927169Z",
          "iopub.status.busy": "2022-12-15T08:40:26.926992Z",
          "iopub.status.idle": "2022-12-15T08:40:26.930942Z",
          "shell.execute_reply": "2022-12-15T08:40:26.930605Z"
        }
      },
      "outputs": [
        {
          "name": "stdout",
          "output_type": "stream",
          "text": [
            "            | name\n",
            "^2TMTFGY... | Alice\n",
            "^YHZBTNY... | Bob\n",
            "^SERVYWW... | Carole\n"
          ]
        }
      ],
      "source": [
        "pw.debug.compute_and_print(t_name)"
      ]
    },
    {
      "cell_type": "markdown",
      "id": "eace791c",
      "metadata": {},
      "source": [
        "In the following we will omit this for clarity reasons but keep in mind that it is required to print the actual data at a given time."
      ]
    },
    {
      "cell_type": "markdown",
      "id": "14c92991",
      "metadata": {},
      "source": [
        "## Selecting and indexing\n",
        " * **Select**: we can use `select` to select a particular column and we can use the dot notation to specify the name of the column."
      ]
    },
    {
      "cell_type": "code",
      "execution_count": 3,
      "id": "3387b82b",
      "metadata": {
        "execution": {
          "iopub.execute_input": "2022-12-15T08:40:26.932712Z",
          "iopub.status.busy": "2022-12-15T08:40:26.932535Z",
          "iopub.status.idle": "2022-12-15T08:40:26.935477Z",
          "shell.execute_reply": "2022-12-15T08:40:26.935167Z"
        }
      },
      "outputs": [
        {
          "name": "stdout",
          "output_type": "stream",
          "text": [
            "            | name\n",
            "^8GR6BSX... | David\n"
          ]
        }
      ],
      "source": [
        "# _MD_COMMENT_START_\n",
        "pw.debug.compute_and_print(t_name_extra.select(t_name_extra.name))\n",
        "# _MD_COMMENT_END_\n",
        "# _MD_SHOW_t_extra.select(t_name_extra.name)"
      ]
    },
    {
      "cell_type": "markdown",
      "id": "14d2e602",
      "metadata": {},
      "source": [
        " * **Filtering**: we can use `filter` to keep rows following a given property."
      ]
    },
    {
      "cell_type": "code",
      "execution_count": 4,
      "id": "f9fef75d",
      "metadata": {
        "execution": {
          "iopub.execute_input": "2022-12-15T08:40:26.937224Z",
          "iopub.status.busy": "2022-12-15T08:40:26.936996Z",
          "iopub.status.idle": "2022-12-15T08:40:26.940569Z",
          "shell.execute_reply": "2022-12-15T08:40:26.940265Z"
        }
      },
      "outputs": [
        {
          "name": "stdout",
          "output_type": "stream",
          "text": [
            "            | age\n",
            "^YHZBTNY... | 32\n"
          ]
        }
      ],
      "source": [
        "# _MD_COMMENT_START_\n",
        "pw.debug.compute_and_print(t_age.filter(t_age.age > 30))\n",
        "# _MD_COMMENT_END_\n",
        "# _MD_SHOW_t_age.filter(t_age.age>30)"
      ]
    },
    {
      "cell_type": "markdown",
      "id": "82e30805",
      "metadata": {},
      "source": [
        " * **Reindexing**: you can change the ids (accessible by `table.id`) by using `.with_id_from()`.\n",
        "We need a table with new ids:"
      ]
    },
    {
      "cell_type": "code",
      "execution_count": 5,
      "id": "2fc70ddb",
      "metadata": {
        "execution": {
          "iopub.execute_input": "2022-12-15T08:40:26.942140Z",
          "iopub.status.busy": "2022-12-15T08:40:26.941924Z",
          "iopub.status.idle": "2022-12-15T08:40:26.945309Z",
          "shell.execute_reply": "2022-12-15T08:40:26.945010Z"
        }
      },
      "outputs": [],
      "source": [
        "t_new_ids = pw.debug.table_from_markdown(\n",
        "    \"\"\"\n",
        "    | new_id_source\n",
        " 1  | 4\n",
        " 2  | 5\n",
        " 3  | 6\n",
        " \"\"\"\n",
        ")"
      ]
    },
    {
      "cell_type": "code",
      "execution_count": 6,
      "id": "f93fb037",
      "metadata": {
        "execution": {
          "iopub.execute_input": "2022-12-15T08:40:26.946822Z",
          "iopub.status.busy": "2022-12-15T08:40:26.946532Z",
          "iopub.status.idle": "2022-12-15T08:40:26.950587Z",
          "shell.execute_reply": "2022-12-15T08:40:26.950281Z"
        }
      },
      "outputs": [
        {
          "name": "stdout",
          "output_type": "stream",
          "text": [
            "            | name\n",
            "^8GR6BSX... | Alice\n",
            "^76QPWK3... | Bob\n",
            "^C4S6S48... | Carole\n"
          ]
        }
      ],
      "source": [
        "# _MD_COMMENT_START_\n",
        "pw.debug.compute_and_print(\n",
        "    t_name.unsafe_promise_universe_is_subset_of(t_new_ids).with_id_from(\n",
        "        t_new_ids.new_id_source\n",
        "    )\n",
        ")\n",
        "# _MD_COMMENT_END_\n",
        "# _MD_SHOW_t_name.unsafe_promise_universe_is_subset_of(t_new_ids).with_id_from(t_new_ids.new_id_source)"
      ]
    },
    {
      "cell_type": "markdown",
      "id": "24c87d04",
      "metadata": {},
      "source": [
        "Here we need to use `unsafe_promise_universe_is_subset_of`, you can find the explanation in our [article](https://pathway.com/developers/documentation/introduction/key-concepts) about Pathway's concepts.\n",
        "XXX: `with_id_from()` works the same, but take the ids of as new ids, as opposed to a dedicated column as in our previous example.\n",
        "\n",
        "* **ix**: uses a column's values as indexes.\n",
        "As an example, if we have a table containing with indexes pointing to another table, we can use this `ix` to obtain those lines:"
      ]
    },
    {
      "cell_type": "code",
      "execution_count": 7,
      "id": "3e8815df",
      "metadata": {
        "execution": {
          "iopub.execute_input": "2022-12-15T08:40:26.952091Z",
          "iopub.status.busy": "2022-12-15T08:40:26.951880Z",
          "iopub.status.idle": "2022-12-15T08:40:26.958775Z",
          "shell.execute_reply": "2022-12-15T08:40:26.958459Z"
        }
      },
      "outputs": [
        {
          "name": "stdout",
          "output_type": "stream",
          "text": [
            "            | selected\n",
            "^M1T2QKJ... | Alice\n",
            "^9WGHV46... | Carole\n"
          ]
        }
      ],
      "source": [
        "t_selected_ids = pw.debug.table_from_markdown(\n",
        "    \"\"\"\n",
        "      | selected_id\n",
        " 100  | 1\n",
        " 200  | 3\n",
        " \"\"\"\n",
        ")\n",
        "# _MD_COMMENT_START_\n",
        "pw.debug.compute_and_print(\n",
        "    t_selected_ids.select(selected=t_name.ix_ref(t_selected_ids.selected_id).name)\n",
        ")\n",
        "# _MD_COMMENT_END_\n",
        "# _MD_SHOW_t_selected_ids.select(selected=t_name.ix_ref(t_selected_ids.selected_id).name)"
      ]
    },
    {
      "cell_type": "markdown",
      "id": "d08b78f3",
      "metadata": {},
      "source": [
        "* **Group-by**: we can use `groupby` to aggregate data sharing a common property and then use a reducer to compute an aggregated value."
      ]
    },
    {
      "cell_type": "code",
      "execution_count": 8,
      "id": "e4147cde",
      "metadata": {
        "execution": {
          "iopub.execute_input": "2022-12-15T08:40:26.960304Z",
          "iopub.status.busy": "2022-12-15T08:40:26.960091Z",
          "iopub.status.idle": "2022-12-15T08:40:26.967178Z",
          "shell.execute_reply": "2022-12-15T08:40:26.966868Z"
        }
      },
      "outputs": [
        {
          "name": "stdout",
          "output_type": "stream",
          "text": [
            "            | name  | sum\n",
            "^TSP7EFT... | Alice | 175\n",
            "^4PVZ777... | Bob   | 300\n"
          ]
        }
      ],
      "source": [
        "t_spending = pw.debug.table_from_markdown(\n",
        "    \"\"\"\n",
        "    | name  | amount\n",
        " 1  | Bob   | 100\n",
        " 2  | Alice | 50\n",
        " 3  | Alice | 125\n",
        " 4  | Bob   | 200\n",
        " \"\"\"\n",
        ")\n",
        "# _MD_COMMENT_START_\n",
        "pw.debug.compute_and_print(\n",
        "    t_spending.groupby(t_spending.name).reduce(\n",
        "        t_spending.name, sum=pw.reducers.sum(t_spending.amount)\n",
        "    )\n",
        ")\n",
        "# _MD_COMMENT_END_\n",
        "# _MD_SHOW_t_spending.groupby(t_spending.name).reduce(t_spending.name, sum=pw.reducers.sum(t_spending.amount))"
      ]
    },
    {
      "cell_type": "markdown",
      "id": "1c4b9cdf",
      "metadata": {},
      "source": [
        "You can do groupbys on multiples columns at once (e.g. `.groupby(t.colA, t.colB)`).\n",
        "The list of all the available reducers can be found [here](#) (available soon).\n",
        "\n",
        "## Working with multiples tables: union, concatenation, join\n",
        "\n",
        " * **Union**: we can use the operator `+` or `+=` to add compute the union of two tables sharing the same ids."
      ]
    },
    {
      "cell_type": "code",
      "execution_count": 9,
      "id": "f7c296f4",
      "metadata": {
        "execution": {
          "iopub.execute_input": "2022-12-15T08:40:26.968694Z",
          "iopub.status.busy": "2022-12-15T08:40:26.968475Z",
          "iopub.status.idle": "2022-12-15T08:40:26.973327Z",
          "shell.execute_reply": "2022-12-15T08:40:26.973020Z"
        }
      },
      "outputs": [
        {
          "name": "stdout",
          "output_type": "stream",
          "text": [
            "            | name   | age\n",
            "^2TMTFGY... | Alice  | 25\n",
            "^YHZBTNY... | Bob    | 32\n",
            "^SERVYWW... | Carole | 28\n"
          ]
        }
      ],
      "source": [
        "t_age = t_age.unsafe_promise_same_universe_as(t_name)\n",
        "t_union = t_name + t_age\n",
        "# _MD_COMMENT_START_\n",
        "pw.debug.compute_and_print(t_union)\n",
        "# _MD_COMMENT_END_\n",
        "# _MD_SHOW_"
      ]
    },
    {
      "cell_type": "markdown",
      "id": "bd2d1ef7",
      "metadata": {},
      "source": [
        "* **Concatenation**: we can use `Table.concat(t1,t2)` to concatenate two tables, but they need to have the same ids."
      ]
    },
    {
      "cell_type": "code",
      "execution_count": 10,
      "id": "3b8b7330",
      "metadata": {
        "execution": {
          "iopub.execute_input": "2022-12-15T08:40:26.974802Z",
          "iopub.status.busy": "2022-12-15T08:40:26.974582Z",
          "iopub.status.idle": "2022-12-15T08:40:26.980917Z",
          "shell.execute_reply": "2022-12-15T08:40:26.980604Z"
        }
      },
      "outputs": [
        {
          "name": "stdout",
          "output_type": "stream",
          "text": [
            "            | name   | age\n",
            "^531BJZ8... | Alice  | 25\n",
            "^9SVRC47... | Bob    | 32\n",
            "^R5XMQ21... | Carole | 28\n",
            "^C4VQQCA... | David  | 25\n"
          ]
        }
      ],
      "source": [
        "# _MD_COMMENT_START_\n",
        "pw.debug.compute_and_print(pw.Table.concat(t_union, t_name_extra))\n",
        "# _MD_COMMENT_END_\n",
        "# _MD_SHOW_pw.Table.concat(t_union,t_name_extra)"
      ]
    },
    {
      "cell_type": "markdown",
      "id": "4d1a7982",
      "metadata": {},
      "source": [
        "As you can see, Pathway may reindex the obtained tables.\n",
        "\n",
        "> **Info for Databricks Delta users**: Concatenation is highly similar to the SQL [`MERGE INTO`](https://docs.databricks.com/sql/language-manual/delta-merge-into.html) operation.\n",
        "\n",
        "* **Join**: we can do all usual types of joins in Pathway (inner, outer, left, right). The example below presents an inner join:"
      ]
    },
    {
      "cell_type": "code",
      "execution_count": 11,
      "id": "ce85ef98",
      "metadata": {
        "execution": {
          "iopub.execute_input": "2022-12-15T08:40:26.982398Z",
          "iopub.status.busy": "2022-12-15T08:40:26.982176Z",
          "iopub.status.idle": "2022-12-15T08:40:26.988424Z",
          "shell.execute_reply": "2022-12-15T08:40:26.988111Z"
        }
      },
      "outputs": [
        {
          "name": "stdout",
          "output_type": "stream",
          "text": [
            "            | age | name\n",
            "^VJ3K9DF... | 25  | Alice\n",
            "^R0GE4WM... | 28  | Carole\n",
            "^V1RPZW8... | 32  | Bob\n"
          ]
        }
      ],
      "source": [
        "# _MD_COMMENT_START_\n",
        "pw.debug.compute_and_print(\n",
        "    t_age.join(t_name, t_age.id == t_name.id).select(t_age.age, t_name.name)\n",
        ")\n",
        "# _MD_COMMENT_END_\n",
        "# _MD_SHOW_t_age.join(t_name, t_age.id==t_name.id).select(t_age.age, t_name.name)"
      ]
    },
    {
      "cell_type": "markdown",
      "id": "fd9bb894",
      "metadata": {},
      "source": [
        "Note that in the equality `t_age.id==t_name.id` the left part must be a column of the table on which the join is done, namely `t_name` in our example. Doing `t_name.id==t_age.id` would throw an error.\n",
        "\n",
        "## Updating\n",
        "\n",
        "* **Renaming** with `select`:"
      ]
    },
    {
      "cell_type": "code",
      "execution_count": 12,
      "id": "1478a6de",
      "metadata": {
        "execution": {
          "iopub.execute_input": "2022-12-15T08:40:26.989936Z",
          "iopub.status.busy": "2022-12-15T08:40:26.989725Z",
          "iopub.status.idle": "2022-12-15T08:40:26.995462Z",
          "shell.execute_reply": "2022-12-15T08:40:26.995154Z"
        }
      },
      "outputs": [
        {
          "name": "stdout",
          "output_type": "stream",
          "text": [
            "            | surname\n",
            "^2TMTFGY... | Alice\n",
            "^YHZBTNY... | Bob\n",
            "^SERVYWW... | Carole\n"
          ]
        }
      ],
      "source": [
        "# _MD_COMMENT_START_\n",
        "pw.debug.compute_and_print(t_name.select(surname=t_name.name))\n",
        "# _MD_COMMENT_END_\n",
        "# _MD_SHOW_t_name.select(surname=t_name.name)"
      ]
    },
    {
      "cell_type": "markdown",
      "id": "c14b892a",
      "metadata": {
        "lines_to_next_cell": 2
      },
      "source": [
        " * **Renaming** with `rename_columns`:"
      ]
    },
    {
      "cell_type": "code",
      "execution_count": 13,
      "id": "e49b9b02",
      "metadata": {
        "execution": {
          "iopub.execute_input": "2022-12-15T08:40:26.996913Z",
          "iopub.status.busy": "2022-12-15T08:40:26.996732Z",
          "iopub.status.idle": "2022-12-15T08:40:27.002501Z",
          "shell.execute_reply": "2022-12-15T08:40:27.002188Z"
        }
      },
      "outputs": [
        {
          "name": "stdout",
          "output_type": "stream",
          "text": [
            "            | surname\n",
            "^2TMTFGY... | Alice\n",
            "^YHZBTNY... | Bob\n",
            "^SERVYWW... | Carole\n"
          ]
        }
      ],
      "source": [
        "# _MD_COMMENT_START_\n",
        "pw.debug.compute_and_print(t_name.rename_columns(surname=t_name.name))\n",
        "# _MD_COMMENT_END_\n",
        "# _MD_SHOW_t_name.rename_columns(surname=t_name.name)"
      ]
    },
    {
      "cell_type": "markdown",
      "id": "724aea60",
      "metadata": {},
      "source": [
        " * **Updating cells**: you can the values of cells using `update_cells` which can be also done using the binary operator `<<`. The ids and column name should be the same."
      ]
    },
    {
      "cell_type": "code",
      "execution_count": 14,
      "id": "82f5a0e3",
      "metadata": {
        "execution": {
          "iopub.execute_input": "2022-12-15T08:40:27.003971Z",
          "iopub.status.busy": "2022-12-15T08:40:27.003761Z",
          "iopub.status.idle": "2022-12-15T08:40:27.011818Z",
          "shell.execute_reply": "2022-12-15T08:40:27.011481Z"
        }
      },
      "outputs": [
        {
          "name": "stdout",
          "output_type": "stream",
          "text": [
            "            | name\n",
            "^2TMTFGY... | Alicia\n",
            "^YHZBTNY... | Bobby\n",
            "^SERVYWW... | Caro\n"
          ]
        }
      ],
      "source": [
        "t_updated_names = pw.debug.table_from_markdown(\n",
        "    \"\"\"\n",
        "    | name\n",
        " 1  | Alicia\n",
        " 2  | Bobby\n",
        " 3  | Caro\n",
        " \"\"\"\n",
        ")\n",
        "t_updated_names = t_updated_names.unsafe_promise_same_universe_as(t_name)\n",
        "# _MD_COMMENT_START_\n",
        "pw.debug.compute_and_print(t_name.update_cells(t_updated_names))\n",
        "# _MD_COMMENT_END_\n",
        "# _MD_SHOW_t_name.update_cells(t_updated_names)"
      ]
    },
    {
      "cell_type": "markdown",
      "id": "712ad4bc",
      "metadata": {},
      "source": [
        "## Operations\n",
        "\n",
        "* **Row-centered operations** with `apply`: you can apply a function to each value of a column (or more) by using `apply` in a `select`."
      ]
    },
    {
      "cell_type": "code",
      "execution_count": 15,
      "id": "f8652289",
      "metadata": {
        "execution": {
          "iopub.execute_input": "2022-12-15T08:40:27.013327Z",
          "iopub.status.busy": "2022-12-15T08:40:27.013115Z",
          "iopub.status.idle": "2022-12-15T08:40:27.019525Z",
          "shell.execute_reply": "2022-12-15T08:40:27.019212Z"
        }
      },
      "outputs": [
        {
          "name": "stdout",
          "output_type": "stream",
          "text": [
            "            | thirties\n",
            "^2TMTFGY... | False\n",
            "^SERVYWW... | False\n",
            "^YHZBTNY... | True\n"
          ]
        }
      ],
      "source": [
        "# _MD_COMMENT_START_\n",
        "pw.debug.compute_and_print(t_age.select(thirties=pw.apply(lambda x: x > 30, t_age.age)))\n",
        "# _MD_COMMENT_END_\n",
        "# _MD_SHOW_t_age.select(thirties=pw.apply(lambda x: x>30, t_age.age)))"
      ]
    },
    {
      "cell_type": "markdown",
      "id": "e6252235",
      "metadata": {},
      "source": [
        "Operations on multiples values of a single row can be easily done this way:"
      ]
    },
    {
      "cell_type": "code",
      "execution_count": 16,
      "id": "a2153652",
      "metadata": {
        "execution": {
          "iopub.execute_input": "2022-12-15T08:40:27.021055Z",
          "iopub.status.busy": "2022-12-15T08:40:27.020819Z",
          "iopub.status.idle": "2022-12-15T08:40:27.029471Z",
          "shell.execute_reply": "2022-12-15T08:40:27.029162Z"
        }
      },
      "outputs": [
        {
          "name": "stdout",
          "output_type": "stream",
          "text": [
            "            | sum\n",
            "^2TMTFGY... | 11\n",
            "^YHZBTNY... | 1100\n"
          ]
        }
      ],
      "source": [
        "t_multiples_values = pw.debug.table_from_markdown(\n",
        "    \"\"\"\n",
        "    | valA    | valB\n",
        " 1  | 1       | 10\n",
        " 2  | 100     | 1000\n",
        " \"\"\"\n",
        ")\n",
        "# _MD_COMMENT_START_\n",
        "pw.debug.compute_and_print(\n",
        "    t_multiples_values.select(\n",
        "        sum=pw.apply(\n",
        "            lambda x, y: x + y, t_multiples_values.valA, t_multiples_values.valB\n",
        "        )\n",
        "    )\n",
        ")\n",
        "# _MD_COMMENT_END_\n",
        "# _MD_SHOW_t_multiples_values.select(sum=pw.apply(lambda x,y: x+y, t_multiples_values.valA, t_multiples_values.valB))"
      ]
    },
    {
      "cell_type": "markdown",
      "id": "ca15d5c4",
      "metadata": {},
      "source": [
        "* Other operations with **transformer classes**: Pathway enables complex computation on data stream by using transformer classes.\n",
        "It is a bit advanced for this survival guide but you can find all the information about transformer classes in [our tutorial](https://pathway.com/developers/documentation/transformer-classes/transformer-intro)."
      ]
    }
  ],
  "metadata": {
    "jupytext": {
      "cell_metadata_filter": "-all"
    },
    "kernelspec": {
      "display_name": "Python 3 (ipykernel)",
      "language": "python",
      "name": "python3"
    },
    "language_info": {
      "codemirror_mode": {
        "name": "ipython",
        "version": 3
      },
      "file_extension": ".py",
      "mimetype": "text/x-python",
      "name": "python",
      "nbconvert_exporter": "python",
      "pygments_lexer": "ipython3",
      "version": "3.10.6"
    }
  },
  "nbformat": 4,
  "nbformat_minor": 5
}