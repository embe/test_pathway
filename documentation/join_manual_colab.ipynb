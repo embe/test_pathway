{
  "cells": [
    {
      "cell_type": "markdown",
      "metadata": {
        "id": "view-in-colab"
      },
      "source": [
        "<a href=\"https://colab.research.google.com/github/pathwaycom/pathway-examples/blob/main/documentation/join_manual_colab.ipynb\" target=\"_parent\"><img src=\"https://pathway.com/assets/colab-badge.svg\" alt=\"Run In Colab\" class=\"inline\"/></a>"
      ]
    },
    {
      "cell_type": "markdown",
      "source": [
        "# [Colab-specific] Setting up Python and Pathway\n",
        "\n",
        "> Colab heads-up!!!\n",
        ">\n",
        "> Pathway requires Python >=3.8 and works best with Python 3.10, while Google Colab ships with Python 3.7 by default.\n",
        ">\n",
        "> In the cells below we install Python 3.10 and then switch to it, but the process requires that you refresh the page in your browser!\n",
        "> Please:\n",
        "> 1. Run the first cell, disregard the unrecognized runtime warning.\n",
        "> 2. Refresh the colab page and rerun the notebook. Now the warning should disappear and the python version in cell #2 should be Python 3.10.\n",
        "\n",
        "\n",
        "Outside Colab, Pathway can be installed to a Python 3.10 environment using pip, please register at https://pathway.com to get beta access to the package"
      ],
      "metadata": {
        "id": "colab-instructions"
      }
    },
    {
      "cell_type": "code",
      "source": [
        "PIP_PACKAGE_ADDRESS=\"\"\n",
        "if not PIP_PACKAGE_ADDRESS:\n",
        "    print(\n",
        "        \"Please register at https://pathway.com/developers/documentation/introduction/installation-and-first-steps\\n\"\n",
        "        \"To get the pip package installation link!\"\n",
        "    )"
      ],
      "metadata": {
        "id": "pip-package-selection"
      },
      "execution_count": null,
      "outputs": []
    },
    {
      "cell_type": "code",
      "metadata": {
        "id": "colab-env-install",
        "colab": {
          "base_uri": "https://localhost:8080/"
        },
        "outputId": "30a3baa7-5cb4-40f5-ac12-921eba4b25f8"
      },
      "source": [
        "![ -d /usr/local/lib/python3.10/site-packages/pathway ] || echo \"Installing Python 3.10 and pathway, restart the notebook once this cells executes\"\n",
        "![ -d /usr/local/lib/python3.10/site-packages/pathway ] || wget -O mini.sh https://github.com/conda-forge/miniforge/releases/download/22.9.0-1/Mambaforge-22.9.0-1-Linux-x86_64.sh 1>/dev/null 2>/dev/null\n",
        "![ -d /usr/local/lib/python3.10/site-packages/pathway ] || chmod +x mini.sh 1>/dev/null 2>/dev/null\n",
        "![ -d /usr/local/lib/python3.10/site-packages/pathway ] || bash ./mini.sh -b -f -p /usr/local 1>/dev/null 2>/dev/null\n",
        "![ -d /usr/local/lib/python3.10/site-packages/pathway ] || mamba install -q -y -c conda-forge jupyter google-colab  1>/dev/null 2>/dev/null\n",
        "![ -d /usr/local/lib/python3.10/site-packages/pathway ] || python -m ipykernel install --name \"py310\" --user 1>/dev/null 2>/dev/null\n",
        "![ -d /usr/local/lib/python3.10/site-packages/pathway ] || pip install {PIP_PACKAGE_ADDRESS} 1>/dev/null 2>/dev/null\n",
        "![ -d /usr/local/lib/python3.10/site-packages/pathway ] && echo \"Pathway installed\""
      ],
      "execution_count": null,
      "outputs": [
        {
          "output_type": "stream",
          "name": "stdout",
          "text": [
            "Pathway installed\n"
          ]
        }
      ]
    },
    {
      "cell_type": "code",
      "metadata": {
        "id": "colab-reload",
        "outputId": "f0e45a04-0b52-4699-fd04-680980f3df92",
        "colab": {
          "base_uri": "https://localhost:8080/"
        }
      },
      "source": [
        "# Reload the web page and execute this cell\n",
        "import sys\n",
        "print(\"User Current Version:-\", sys.version)"
      ],
      "execution_count": 3,
      "outputs": [
        {
          "output_type": "stream",
          "name": "stdout",
          "text": [
            "User Current Version:- 3.10.6 | packaged by conda-forge | (main, Aug 22 2022, 20:36:39) [GCC 10.4.0]\n"
          ]
        }
      ]
    },
    {
      "cell_type": "markdown",
      "id": "7cdf496f",
      "metadata": {},
      "source": [
        "# Playing with joins.\n",
        "A brief explanation on how to perform joins with Pathway.\n",
        "\n",
        "Join is one of the basic table operation provided in Pathway.\n",
        "A join operation combines columns from two different tables by associating rows with matching some given values both tables.\n",
        "\n",
        "This guide presents several samples of code using the joins:\n",
        "*  [join (inner join)](#simple-inner-join)\n",
        "*  [left_join, right_join, outer_join (outer_joins)](#outer-joins)\n",
        "\n",
        "\n",
        "The examples demonstrate usual use-cases, explain the behavior of\n",
        "outer joins, and point out some peculiarities you may encounter\n",
        "while using Pathway. In particular, they show how to:\n",
        "* [inherit id from left or right table](#id-inheritance-in-join)\n",
        "* [join tables using foreign keys](#joins-on-foreign-key)\n",
        "* [use joins in a chain](#chaining-joins)"
      ]
    },
    {
      "cell_type": "markdown",
      "id": "c6e7d915",
      "metadata": {},
      "source": [
        "## Prerequisites\n",
        "\n",
        "Be sure to import Pathway."
      ]
    },
    {
      "cell_type": "code",
      "execution_count": 1,
      "id": "8780bdcf",
      "metadata": {
        "execution": {
          "iopub.execute_input": "2022-12-07T23:32:58.084339Z",
          "iopub.status.busy": "2022-12-07T23:32:58.084217Z",
          "iopub.status.idle": "2022-12-07T23:32:59.233665Z",
          "shell.execute_reply": "2022-12-07T23:32:59.233294Z"
        }
      },
      "outputs": [],
      "source": [
        "import pathway as pw"
      ]
    },
    {
      "cell_type": "markdown",
      "id": "c53b12ee",
      "metadata": {},
      "source": [
        "\n",
        "Also, we need some tables to play with. For the sake of presentation,\n",
        "let us consider a following made up scenario: a group of four friends\n",
        "(table friends) goes to grab some breakfast.\n"
      ]
    },
    {
      "cell_type": "code",
      "execution_count": 2,
      "id": "0f236893",
      "metadata": {
        "execution": {
          "iopub.execute_input": "2022-12-07T23:32:59.235653Z",
          "iopub.status.busy": "2022-12-07T23:32:59.235484Z",
          "iopub.status.idle": "2022-12-07T23:32:59.241590Z",
          "shell.execute_reply": "2022-12-07T23:32:59.241301Z"
        },
        "lines_to_next_cell": 2
      },
      "outputs": [],
      "source": [
        "friends = pw.debug.table_from_markdown(\n",
        "    \"\"\"\n",
        "    | name  |budget\n",
        "  1 | Alice | 13\n",
        "  2 | Bob   | 10\n",
        "  3 | Carol | 11\n",
        "  4 | Dan   | 12\n",
        " \"\"\"\n",
        ")\n",
        "menu = pw.debug.table_from_markdown(\n",
        "    \"\"\"\n",
        "     | dish                              | price\n",
        "  11 | pancakes_with_jam                 | 11\n",
        "  12 | pb_jam_sandwich                   | 9\n",
        "  13 | jam_pb_pancakes                   | 12\n",
        "  14 | scrambled_egg                     | 11\n",
        " \"\"\"\n",
        ")"
      ]
    },
    {
      "cell_type": "markdown",
      "id": "c0bd6726",
      "metadata": {},
      "source": [
        "#\n",
        "However, some of them have allergies (table allergies),\n",
        "and cannot eat everything. Luckily, the restaurant has a list\n",
        "of allergens contained in each dish (table allergens_in_menu).\n"
      ]
    },
    {
      "cell_type": "code",
      "execution_count": 3,
      "id": "988315a6",
      "metadata": {
        "execution": {
          "iopub.execute_input": "2022-12-07T23:32:59.242986Z",
          "iopub.status.busy": "2022-12-07T23:32:59.242811Z",
          "iopub.status.idle": "2022-12-07T23:32:59.247406Z",
          "shell.execute_reply": "2022-12-07T23:32:59.247118Z"
        }
      },
      "outputs": [],
      "source": [
        "allergies = pw.debug.table_from_markdown(\n",
        "    \"\"\"\n",
        "     | person| allergy\n",
        "  21 | Alice | milk\n",
        "  22 | Bob   | eggs\n",
        "  23 | Carol | peanuts\n",
        "  24 | Carol | milk\n",
        " \"\"\"\n",
        ")\n",
        "\n",
        "allergens_in_menu = pw.debug.table_from_markdown(\n",
        "    \"\"\"\n",
        "     | dish                              | allergen\n",
        "  31 | pancakes_with_jam                 | milk\n",
        "  32 | pancakes_with_jam                 | eggs\n",
        "  33 | pb_jam_sandwich                   | peanuts\n",
        "  34 | jam_pb_pancakes                   | eggs\n",
        "  35 | jam_pb_pancakes                   | peanuts\n",
        "  36 | jam_pb_pancakes                   | milk\n",
        "  37 | scrambled_egg                     | eggs\n",
        " \"\"\"\n",
        ")"
      ]
    },
    {
      "cell_type": "markdown",
      "id": "d4d9235c",
      "metadata": {},
      "source": [
        "## Simple inner join.\n",
        "### Syntax\n",
        "Putting it simply, the syntax of join is:"
      ]
    },
    {
      "cell_type": "code",
      "execution_count": 4,
      "id": "81947044",
      "metadata": {
        "execution": {
          "iopub.execute_input": "2022-12-07T23:32:59.248708Z",
          "iopub.status.busy": "2022-12-07T23:32:59.248609Z",
          "iopub.status.idle": "2022-12-07T23:32:59.250223Z",
          "shell.execute_reply": "2022-12-07T23:32:59.249956Z"
        }
      },
      "outputs": [],
      "source": [
        "# _MD_SHOW_table.join(other, *on)"
      ]
    },
    {
      "cell_type": "markdown",
      "id": "dc150f43",
      "metadata": {},
      "source": [
        "where\n",
        "* `table` and `other` are tables to be joined,\n",
        "* `*on` is a list of conditions of form:"
      ]
    },
    {
      "cell_type": "code",
      "execution_count": 5,
      "id": "8b46842c",
      "metadata": {
        "execution": {
          "iopub.execute_input": "2022-12-07T23:32:59.251357Z",
          "iopub.status.busy": "2022-12-07T23:32:59.251259Z",
          "iopub.status.idle": "2022-12-07T23:32:59.252829Z",
          "shell.execute_reply": "2022-12-07T23:32:59.252527Z"
        }
      },
      "outputs": [],
      "source": [
        "# _MD_SHOW_table.some_column == other.some_other_column"
      ]
    },
    {
      "cell_type": "markdown",
      "id": "a71927c1",
      "metadata": {},
      "source": [
        "**Remark:** the order of tables in the condition matters. That is,\n",
        "a condition of the following form won't be accepted:"
      ]
    },
    {
      "cell_type": "code",
      "execution_count": 6,
      "id": "3e4e13b5",
      "metadata": {
        "execution": {
          "iopub.execute_input": "2022-12-07T23:32:59.253950Z",
          "iopub.status.busy": "2022-12-07T23:32:59.253853Z",
          "iopub.status.idle": "2022-12-07T23:32:59.255373Z",
          "shell.execute_reply": "2022-12-07T23:32:59.255109Z"
        }
      },
      "outputs": [],
      "source": [
        "# _MD_SHOW_other.some_other_column == table.some_column"
      ]
    },
    {
      "cell_type": "markdown",
      "id": "b5bb6bcf",
      "metadata": {},
      "source": [
        "### Examples\n",
        "As a warm-up, let us see how to make a simple join-queries.\n",
        "Let's begin with simple query that find all pairs person-dish\n",
        "that can put someone in a hospital."
      ]
    },
    {
      "cell_type": "code",
      "execution_count": 7,
      "id": "ac2929bf",
      "metadata": {
        "execution": {
          "iopub.execute_input": "2022-12-07T23:32:59.263225Z",
          "iopub.status.busy": "2022-12-07T23:32:59.262972Z",
          "iopub.status.idle": "2022-12-07T23:32:59.267357Z",
          "shell.execute_reply": "2022-12-07T23:32:59.267027Z"
        },
        "lines_to_next_cell": 1
      },
      "outputs": [
        {
          "name": "stdout",
          "output_type": "stream",
          "text": [
            "            | dish              | person\n",
            "^NXS1ZCC... | jam_pb_pancakes   | Alice\n",
            "^TKSYTBX... | jam_pb_pancakes   | Bob\n",
            "^C62RFES... | jam_pb_pancakes   | Carol\n",
            "^BX7DMG3... | jam_pb_pancakes   | Carol\n",
            "^B7RFVMK... | pancakes_with_jam | Alice\n",
            "^51FP1WY... | pancakes_with_jam | Bob\n",
            "^FHCFCY1... | pancakes_with_jam | Carol\n",
            "^ZQ7DWQ8... | pb_jam_sandwich   | Carol\n",
            "^0MRRXPF... | scrambled_egg     | Bob\n"
          ]
        }
      ],
      "source": [
        "bad_match = allergies.join(\n",
        "    allergens_in_menu, allergies.allergy == allergens_in_menu.allergen\n",
        ").select(allergens_in_menu.dish, allergies.person)\n",
        "pw.debug.compute_and_print(bad_match)"
      ]
    },
    {
      "cell_type": "markdown",
      "id": "5b951c22",
      "metadata": {},
      "source": [
        "#\n",
        "As we can see, the result is a table of life-threatening pairs.\n",
        "\n",
        "The `select` function works here similarly as `select` on a table. The difference is\n",
        "that here, we can use columns of both tables as arguments, e.g."
      ]
    },
    {
      "cell_type": "code",
      "execution_count": 8,
      "id": "e5af0980",
      "metadata": {
        "execution": {
          "iopub.execute_input": "2022-12-07T23:32:59.268532Z",
          "iopub.status.busy": "2022-12-07T23:32:59.268426Z",
          "iopub.status.idle": "2022-12-07T23:32:59.272057Z",
          "shell.execute_reply": "2022-12-07T23:32:59.271757Z"
        }
      },
      "outputs": [
        {
          "name": "stdout",
          "output_type": "stream",
          "text": [
            "            | note\n",
            "^NXS1ZCC... | Alice can't eat jam_pb_pancakes.\n",
            "^B7RFVMK... | Alice can't eat pancakes_with_jam.\n",
            "^TKSYTBX... | Bob can't eat jam_pb_pancakes.\n",
            "^51FP1WY... | Bob can't eat pancakes_with_jam.\n",
            "^0MRRXPF... | Bob can't eat scrambled_egg.\n",
            "^C62RFES... | Carol can't eat jam_pb_pancakes.\n",
            "^BX7DMG3... | Carol can't eat jam_pb_pancakes.\n",
            "^FHCFCY1... | Carol can't eat pancakes_with_jam.\n",
            "^ZQ7DWQ8... | Carol can't eat pb_jam_sandwich.\n"
          ]
        }
      ],
      "source": [
        "def make_food_constraint_note(name, dish):\n",
        "    return f\"{name} can't eat {dish}.\"\n",
        "\n",
        "\n",
        "bad_match_note = allergies.join(\n",
        "    allergens_in_menu, allergies.allergy == allergens_in_menu.allergen\n",
        ").select(\n",
        "    note=pw.apply(make_food_constraint_note, allergies.person, allergens_in_menu.dish)\n",
        ")\n",
        "pw.debug.compute_and_print(bad_match_note)"
      ]
    },
    {
      "cell_type": "markdown",
      "id": "a31616e1",
      "metadata": {},
      "source": [
        "*Remark:* note that id is now some auto generated number, which is the usual behavior of join."
      ]
    },
    {
      "cell_type": "markdown",
      "id": "323e3560",
      "metadata": {},
      "source": [
        "### On self joins.\n",
        "In order to perform a self joins (a join of table with itself),\n",
        "we need to create its copy."
      ]
    },
    {
      "cell_type": "code",
      "execution_count": 9,
      "id": "e3cea83f",
      "metadata": {
        "execution": {
          "iopub.execute_input": "2022-12-07T23:32:59.273256Z",
          "iopub.status.busy": "2022-12-07T23:32:59.273153Z",
          "iopub.status.idle": "2022-12-07T23:32:59.277178Z",
          "shell.execute_reply": "2022-12-07T23:32:59.276885Z"
        }
      },
      "outputs": [
        {
          "name": "stdout",
          "output_type": "stream",
          "text": [
            "            | l_name | r_name\n",
            "^V26FYPD... | Alice  | Carol\n",
            "^YTH8WNY... | Carol  | Alice\n"
          ]
        }
      ],
      "source": [
        "same_allergies = (\n",
        "    allergies.join(\n",
        "        allergies_copy := allergies.copy(), allergies.allergy == allergies_copy.allergy\n",
        "    )\n",
        "    .select(\n",
        "        l_name=allergies.person,\n",
        "        r_name=allergies_copy.person,\n",
        "    )\n",
        "    .filter(pw.this.l_name != pw.this.r_name)\n",
        ")\n",
        "\n",
        "pw.debug.compute_and_print(same_allergies)"
      ]
    },
    {
      "cell_type": "markdown",
      "id": "430c8e87",
      "metadata": {},
      "source": [
        "## Outer joins\n",
        "The difference between outer joins and joins is that the outer join adds to the result\n",
        "table also entries that didn't match:"
      ]
    },
    {
      "cell_type": "markdown",
      "id": "5e4ca48b",
      "metadata": {
        "lines_to_next_cell": 2
      },
      "source": [
        "pw.debug.compute_and_print()"
      ]
    },
    {
      "cell_type": "code",
      "execution_count": 10,
      "id": "2a13346d",
      "metadata": {
        "execution": {
          "iopub.execute_input": "2022-12-07T23:32:59.278341Z",
          "iopub.status.busy": "2022-12-07T23:32:59.278241Z",
          "iopub.status.idle": "2022-12-07T23:32:59.279829Z",
          "shell.execute_reply": "2022-12-07T23:32:59.279525Z"
        }
      },
      "outputs": [],
      "source": [
        "# _MD_SHOW_left.left_join(right, conditions)"
      ]
    },
    {
      "cell_type": "markdown",
      "id": "c0c6749b",
      "metadata": {},
      "source": [
        "includes entries from the *left* table and"
      ]
    },
    {
      "cell_type": "code",
      "execution_count": 11,
      "id": "b3d3631d",
      "metadata": {
        "execution": {
          "iopub.execute_input": "2022-12-07T23:32:59.280925Z",
          "iopub.status.busy": "2022-12-07T23:32:59.280829Z",
          "iopub.status.idle": "2022-12-07T23:32:59.282365Z",
          "shell.execute_reply": "2022-12-07T23:32:59.282092Z"
        }
      },
      "outputs": [],
      "source": [
        "# _MD_SHOW_left.right_join(right, conditions)"
      ]
    },
    {
      "cell_type": "markdown",
      "id": "630ad77f",
      "metadata": {},
      "source": [
        "includes entries from the *right* table."
      ]
    },
    {
      "cell_type": "markdown",
      "id": "fa2da59d",
      "metadata": {},
      "source": [
        "### Simple example\n",
        "To demonstrate outer-joins, we can consider a question about forbidden\n",
        "breakfast configurations (i.e. pairs person-dish, such that person is\n",
        "allergic to some ingredients)."
      ]
    },
    {
      "cell_type": "code",
      "execution_count": 12,
      "id": "6246a9a6",
      "metadata": {
        "execution": {
          "iopub.execute_input": "2022-12-07T23:32:59.283512Z",
          "iopub.status.busy": "2022-12-07T23:32:59.283417Z",
          "iopub.status.idle": "2022-12-07T23:32:59.303566Z",
          "shell.execute_reply": "2022-12-07T23:32:59.303259Z"
        }
      },
      "outputs": [
        {
          "name": "stdout",
          "output_type": "stream",
          "text": [
            "            | name  | allergy\n",
            "^CEESHNP... | Alice | milk\n",
            "^GKYNQB3... | Bob   | eggs\n",
            "^MCCDMWQ... | Carol | milk\n",
            "^28382DM... | Carol | peanuts\n",
            "^MZ49F0F... | Dan   |\n",
            "            | name  | dish\n",
            "^Y4H9YJC... | Alice | jam_pb_pancakes\n",
            "^MHQRNFF... | Alice | pancakes_with_jam\n",
            "^4DQ4S80... | Bob   | jam_pb_pancakes\n",
            "^XPGS5EQ... | Bob   | pancakes_with_jam\n",
            "^63EGDX6... | Bob   | scrambled_egg\n",
            "^YZ60CRJ... | Carol | jam_pb_pancakes\n",
            "^K3K3E16... | Carol | jam_pb_pancakes\n",
            "^M6FZ6K4... | Carol | pancakes_with_jam\n",
            "^RN5X9SH... | Carol | pb_jam_sandwich\n",
            "^2YAV0VF... | Dan   |\n"
          ]
        }
      ],
      "source": [
        "people_allergies = friends.left_join(\n",
        "    allergies, friends.name == allergies.person\n",
        ").select(friends.name, allergies.allergy)\n",
        "pw.debug.compute_and_print(people_allergies)\n",
        "\n",
        "forbidden_breakfast = people_allergies.left_join(\n",
        "    allergens_in_menu, people_allergies.allergy == allergens_in_menu.allergen\n",
        ").select(people_allergies.name, allergens_in_menu.dish)\n",
        "pw.debug.compute_and_print(forbidden_breakfast)"
      ]
    },
    {
      "cell_type": "markdown",
      "id": "5b427754",
      "metadata": {},
      "source": [
        "Now, as we can see, the table has duplicate rows. This is intended behavior, as\n",
        "a particular person can be allergic to more than one ingredient. In other words,\n",
        "when we add a reason column to our result table, we can see that each row was\n",
        "included in the table above for a different reason."
      ]
    },
    {
      "cell_type": "code",
      "execution_count": 13,
      "id": "85ae173e",
      "metadata": {
        "execution": {
          "iopub.execute_input": "2022-12-07T23:32:59.304766Z",
          "iopub.status.busy": "2022-12-07T23:32:59.304664Z",
          "iopub.status.idle": "2022-12-07T23:32:59.320094Z",
          "shell.execute_reply": "2022-12-07T23:32:59.319783Z"
        },
        "lines_to_next_cell": 2
      },
      "outputs": [
        {
          "name": "stdout",
          "output_type": "stream",
          "text": [
            "            | name  | dish              | reason\n",
            "^Y4H9YJC... | Alice | jam_pb_pancakes   | milk\n",
            "^MHQRNFF... | Alice | pancakes_with_jam | milk\n",
            "^4DQ4S80... | Bob   | jam_pb_pancakes   | eggs\n",
            "^XPGS5EQ... | Bob   | pancakes_with_jam | eggs\n",
            "^63EGDX6... | Bob   | scrambled_egg     | eggs\n",
            "^YZ60CRJ... | Carol | jam_pb_pancakes   | milk\n",
            "^K3K3E16... | Carol | jam_pb_pancakes   | peanuts\n",
            "^M6FZ6K4... | Carol | pancakes_with_jam | milk\n",
            "^RN5X9SH... | Carol | pb_jam_sandwich   | peanuts\n",
            "^2YAV0VF... | Dan   |                   |\n"
          ]
        }
      ],
      "source": [
        "forbidden_breakfast = people_allergies.left_join(\n",
        "    allergens_in_menu, people_allergies.allergy == allergens_in_menu.allergen\n",
        ").select(\n",
        "    people_allergies.name, allergens_in_menu.dish, reason=allergens_in_menu.allergen\n",
        ")\n",
        "pw.debug.compute_and_print(forbidden_breakfast)"
      ]
    },
    {
      "cell_type": "markdown",
      "id": "7a08994c",
      "metadata": {},
      "source": [
        "### Removing duplicates\n",
        "If we really want to have a table without the 'reason' column and without\n",
        "duplicates, we can achieve that with extra `groupby` and `reduce` :"
      ]
    },
    {
      "cell_type": "code",
      "execution_count": 14,
      "id": "90a952b0",
      "metadata": {
        "execution": {
          "iopub.execute_input": "2022-12-07T23:32:59.321296Z",
          "iopub.status.busy": "2022-12-07T23:32:59.321191Z",
          "iopub.status.idle": "2022-12-07T23:32:59.340038Z",
          "shell.execute_reply": "2022-12-07T23:32:59.339703Z"
        }
      },
      "outputs": [
        {
          "name": "stdout",
          "output_type": "stream",
          "text": [
            "            | name  | dish\n",
            "^M8E4DFK... | Alice | jam_pb_pancakes\n",
            "^JMHBFKG... | Alice | pancakes_with_jam\n",
            "^AN7YRTF... | Bob   | jam_pb_pancakes\n",
            "^GZ0TEZ6... | Bob   | pancakes_with_jam\n",
            "^W8AZSTG... | Bob   | scrambled_egg\n",
            "^DBZV8YR... | Carol | jam_pb_pancakes\n",
            "^N585E7A... | Carol | pancakes_with_jam\n",
            "^9DJG3GD... | Carol | pb_jam_sandwich\n",
            "^30JAJCE... | Dan   |\n"
          ]
        }
      ],
      "source": [
        "forbidden_breakfast = people_allergies.left_join(\n",
        "    allergens_in_menu, people_allergies.allergy == allergens_in_menu.allergen\n",
        ").select(people_allergies.name, allergens_in_menu.dish)\n",
        "\n",
        "forbidden_breakfast_no_duplicates = forbidden_breakfast.groupby(\n",
        "    forbidden_breakfast.name, forbidden_breakfast.dish\n",
        ").reduce(forbidden_breakfast.name, forbidden_breakfast.dish)\n",
        "\n",
        "pw.debug.compute_and_print(forbidden_breakfast_no_duplicates)"
      ]
    },
    {
      "cell_type": "markdown",
      "id": "70ca231d",
      "metadata": {},
      "source": [
        "That simple application of groupby-reduce combination essentially selects\n",
        "unique set of pairs (name, dish) from our table. More on the reduce-groupby operations\n",
        "can be found in the reduce-groupby [manual](/developers/documentation/table-operations/groupby-reduce-manual)."
      ]
    },
    {
      "cell_type": "markdown",
      "id": "4af32857",
      "metadata": {},
      "source": [
        "### Computed and omitted columns.\n",
        "Because left join operation returns rows from the left table, even if there is no\n",
        "match in the right column, some columns can't be computed.\n",
        "\n",
        "**The left join computes values in all columns that can be\n",
        "computed, and leaves all the remaining columns empty.**\n",
        "\n",
        "As an example, we can consider a modified variant of the `bad_match_note` table.\n",
        "The modification is that we want to include all the\n",
        "people, and additionally we want to display their budget."
      ]
    },
    {
      "cell_type": "markdown",
      "id": "c739b88d",
      "metadata": {},
      "source": [
        "To that end, it is enough that we join the `friends` table with the `bad_match` table, as\n",
        "together they include all necessary information."
      ]
    },
    {
      "cell_type": "code",
      "execution_count": 15,
      "id": "63291d1c",
      "metadata": {
        "execution": {
          "iopub.execute_input": "2022-12-07T23:32:59.341343Z",
          "iopub.status.busy": "2022-12-07T23:32:59.341239Z",
          "iopub.status.idle": "2022-12-07T23:32:59.364090Z",
          "shell.execute_reply": "2022-12-07T23:32:59.363744Z"
        }
      },
      "outputs": [
        {
          "name": "stdout",
          "output_type": "stream",
          "text": [
            "            | name  | budget | note\n",
            "^B74N75K... | Alice | 13     | Alice can't eat jam_pb_pancakes.\n",
            "^YZBNRSA... | Alice | 13     | Alice can't eat pancakes_with_jam.\n",
            "^Z8QGSEZ... | Bob   | 10     | Bob can't eat jam_pb_pancakes.\n",
            "^CHHK1Q9... | Bob   | 10     | Bob can't eat pancakes_with_jam.\n",
            "^DHWEFAB... | Bob   | 10     | Bob can't eat scrambled_egg.\n",
            "^2SGPETY... | Carol | 11     | Carol can't eat jam_pb_pancakes.\n",
            "^ADRQJVA... | Carol | 11     | Carol can't eat jam_pb_pancakes.\n",
            "^JCXPCDF... | Carol | 11     | Carol can't eat pancakes_with_jam.\n",
            "^H2S7YN7... | Carol | 11     | Carol can't eat pb_jam_sandwich.\n",
            "^MZ49F0F... | Dan   | 12     |\n"
          ]
        }
      ],
      "source": [
        "basic_customer_info = friends.left_join(\n",
        "    bad_match, friends.name == bad_match.person\n",
        ").select(\n",
        "    friends.name,\n",
        "    friends.budget,\n",
        "    note=pw.apply(make_food_constraint_note, friends.name, bad_match.dish),\n",
        ")\n",
        "pw.debug.compute_and_print(basic_customer_info)"
      ]
    },
    {
      "cell_type": "markdown",
      "id": "a34d5bc7",
      "metadata": {},
      "source": [
        "To once again demonstrate the behavior, let us change `friends.name` to\n",
        "`bad_match.person` in the select part of our code."
      ]
    },
    {
      "cell_type": "code",
      "execution_count": 16,
      "id": "e8947a0b",
      "metadata": {
        "execution": {
          "iopub.execute_input": "2022-12-07T23:32:59.365352Z",
          "iopub.status.busy": "2022-12-07T23:32:59.365245Z",
          "iopub.status.idle": "2022-12-07T23:32:59.392093Z",
          "shell.execute_reply": "2022-12-07T23:32:59.391723Z"
        }
      },
      "outputs": [
        {
          "name": "stdout",
          "output_type": "stream",
          "text": [
            "            | person | budget | note\n",
            "^MZ49F0F... |        | 12     |\n",
            "^B74N75K... | Alice  | 13     | Alice can't eat jam_pb_pancakes.\n",
            "^YZBNRSA... | Alice  | 13     | Alice can't eat pancakes_with_jam.\n",
            "^Z8QGSEZ... | Bob    | 10     | Bob can't eat jam_pb_pancakes.\n",
            "^CHHK1Q9... | Bob    | 10     | Bob can't eat pancakes_with_jam.\n",
            "^DHWEFAB... | Bob    | 10     | Bob can't eat scrambled_egg.\n",
            "^2SGPETY... | Carol  | 11     | Carol can't eat jam_pb_pancakes.\n",
            "^ADRQJVA... | Carol  | 11     | Carol can't eat jam_pb_pancakes.\n",
            "^JCXPCDF... | Carol  | 11     | Carol can't eat pancakes_with_jam.\n",
            "^H2S7YN7... | Carol  | 11     | Carol can't eat pb_jam_sandwich.\n"
          ]
        }
      ],
      "source": [
        "basic_customer_info = friends.left_join(\n",
        "    bad_match, friends.name == bad_match.person\n",
        ").select(\n",
        "    bad_match.person,\n",
        "    friends.budget,\n",
        "    note=pw.apply(make_food_constraint_note, friends.name, bad_match.dish),\n",
        ")\n",
        "pw.debug.compute_and_print(basic_customer_info)"
      ]
    },
    {
      "cell_type": "markdown",
      "id": "79aeb077",
      "metadata": {},
      "source": [
        "Now, the cell that earlier included Dan is empty, as value of this column is defined\n",
        "by column in `bad_match` table. Since there is no match, person was not filled in.\n",
        "Budget is still computable though, hence it is still present."
      ]
    },
    {
      "cell_type": "markdown",
      "id": "61ef80e1",
      "metadata": {},
      "source": [
        "### On right joins\n",
        "In the examples above, we only relied on `left_join`. The `right_join` operation is quite\n",
        "similar in its behavior. Namely,"
      ]
    },
    {
      "cell_type": "code",
      "execution_count": 17,
      "id": "04b4d001",
      "metadata": {
        "execution": {
          "iopub.execute_input": "2022-12-07T23:32:59.393441Z",
          "iopub.status.busy": "2022-12-07T23:32:59.393307Z",
          "iopub.status.idle": "2022-12-07T23:32:59.423138Z",
          "shell.execute_reply": "2022-12-07T23:32:59.422747Z"
        }
      },
      "outputs": [
        {
          "name": "stdout",
          "output_type": "stream",
          "text": [
            "            | name  | allergy\n",
            "^CEESHNP... | Alice | milk\n",
            "^GKYNQB3... | Bob   | eggs\n",
            "^MCCDMWQ... | Carol | milk\n",
            "^28382DM... | Carol | peanuts\n",
            "^MZ49F0F... | Dan   |\n"
          ]
        }
      ],
      "source": [
        "people_allergies = friends.left_join(\n",
        "    allergies, friends.name == allergies.person\n",
        ").select(friends.name, allergies.allergy)\n",
        "pw.debug.compute_and_print(people_allergies)"
      ]
    },
    {
      "cell_type": "markdown",
      "id": "f879f89a",
      "metadata": {},
      "source": [
        "is almost (except for auto-generated IDs) equivalent to"
      ]
    },
    {
      "cell_type": "code",
      "execution_count": 18,
      "id": "c4e43bc1",
      "metadata": {
        "execution": {
          "iopub.execute_input": "2022-12-07T23:32:59.424690Z",
          "iopub.status.busy": "2022-12-07T23:32:59.424424Z",
          "iopub.status.idle": "2022-12-07T23:32:59.458437Z",
          "shell.execute_reply": "2022-12-07T23:32:59.458067Z"
        }
      },
      "outputs": [
        {
          "name": "stdout",
          "output_type": "stream",
          "text": [
            "            | name  | allergy\n",
            "^AHH9C80... | Alice | milk\n",
            "^2BR8WRG... | Bob   | eggs\n",
            "^Y5CAVAS... | Carol | milk\n",
            "^WQENVG9... | Carol | peanuts\n",
            "^KARHAYN... | Dan   |\n"
          ]
        }
      ],
      "source": [
        "people_allergies = allergies.right_join(\n",
        "    friends, allergies.person == friends.name\n",
        ").select(friends.name, allergies.allergy)\n",
        "pw.debug.compute_and_print(people_allergies)"
      ]
    },
    {
      "cell_type": "markdown",
      "id": "b24a5e08",
      "metadata": {},
      "source": [
        "When we join two tables, the only difference is in syntax - since allergies is\n",
        "the table on which we call `join_right`, it must be first argument\n",
        "in the join condition, i.e. it is"
      ]
    },
    {
      "cell_type": "code",
      "execution_count": 19,
      "id": "8eec5d53",
      "metadata": {
        "execution": {
          "iopub.execute_input": "2022-12-07T23:32:59.459862Z",
          "iopub.status.busy": "2022-12-07T23:32:59.459749Z",
          "iopub.status.idle": "2022-12-07T23:32:59.461527Z",
          "shell.execute_reply": "2022-12-07T23:32:59.461248Z"
        }
      },
      "outputs": [],
      "source": [
        "# _MD_SHOW_allergies.person == friends.name"
      ]
    },
    {
      "cell_type": "markdown",
      "id": "67673754",
      "metadata": {},
      "source": [
        "as opposed to"
      ]
    },
    {
      "cell_type": "code",
      "execution_count": 20,
      "id": "20e4cf5a",
      "metadata": {
        "execution": {
          "iopub.execute_input": "2022-12-07T23:32:59.462777Z",
          "iopub.status.busy": "2022-12-07T23:32:59.462631Z",
          "iopub.status.idle": "2022-12-07T23:32:59.464263Z",
          "shell.execute_reply": "2022-12-07T23:32:59.463963Z"
        }
      },
      "outputs": [],
      "source": [
        "# _MD_SHOW_friends.name == allergies.person"
      ]
    },
    {
      "cell_type": "markdown",
      "id": "60fe1bd7",
      "metadata": {},
      "source": [
        "used in the `left_join`."
      ]
    },
    {
      "cell_type": "markdown",
      "id": "d2b5b8d1",
      "metadata": {},
      "source": [
        "### On full outer joins.\n",
        "The `outer_join` operation is a full outer join, which means that"
      ]
    },
    {
      "cell_type": "code",
      "execution_count": 21,
      "id": "8ba750b3",
      "metadata": {
        "execution": {
          "iopub.execute_input": "2022-12-07T23:32:59.465464Z",
          "iopub.status.busy": "2022-12-07T23:32:59.465314Z",
          "iopub.status.idle": "2022-12-07T23:32:59.466904Z",
          "shell.execute_reply": "2022-12-07T23:32:59.466604Z"
        }
      },
      "outputs": [],
      "source": [
        "# _MD_SHOW_left.outer_join(right, *on)"
      ]
    },
    {
      "cell_type": "markdown",
      "id": "cbfddc79",
      "metadata": {},
      "source": [
        "not only show the pairs of rows form left and right that meet the condition\n",
        "in `*on`, but also rows that didn't get matched with any other row,\n",
        "from both `left` and `right` table. To demonstrate this operation, let\n",
        "us introduce another group of friends and find out, for each person in a group,\n",
        "whether the other group has any people with the same name."
      ]
    },
    {
      "cell_type": "code",
      "execution_count": 22,
      "id": "2bdac48a",
      "metadata": {
        "execution": {
          "iopub.execute_input": "2022-12-07T23:32:59.468085Z",
          "iopub.status.busy": "2022-12-07T23:32:59.467932Z",
          "iopub.status.idle": "2022-12-07T23:32:59.471624Z",
          "shell.execute_reply": "2022-12-07T23:32:59.471320Z"
        }
      },
      "outputs": [],
      "source": [
        "other_group = pw.debug.table_from_markdown(\n",
        "    \"\"\"\n",
        "    | name  |budget\n",
        "  5 | Bob   | 12\n",
        "  6 | Carol | 14\n",
        "  7 | Eve   | 12\n",
        " \"\"\"\n",
        ")"
      ]
    },
    {
      "cell_type": "code",
      "execution_count": 23,
      "id": "4f0f04a9",
      "metadata": {
        "execution": {
          "iopub.execute_input": "2022-12-07T23:32:59.472704Z",
          "iopub.status.busy": "2022-12-07T23:32:59.472581Z",
          "iopub.status.idle": "2022-12-07T23:32:59.517823Z",
          "shell.execute_reply": "2022-12-07T23:32:59.517433Z"
        },
        "lines_to_next_cell": 2
      },
      "outputs": [
        {
          "name": "stdout",
          "output_type": "stream",
          "text": [
            "            | l_name | l_id        | r_name | r_id\n",
            "^QRSK6DY... |        |             | Eve    | ^19D0FQ9...\n",
            "^EZ884R5... | Alice  | ^2TMTFGY... |        |\n",
            "^1Y14E07... | Bob    | ^YHZBTNY... | Bob    | ^76QPWK3...\n",
            "^7RXQ0Z1... | Carol  | ^SERVYWW... | Carol  | ^C4S6S48...\n",
            "^MZ49F0F... | Dan    | ^8GR6BSX... |        |\n"
          ]
        }
      ],
      "source": [
        "pw.debug.compute_and_print(\n",
        "    friends.outer_join(other_group, friends.name == other_group.name).select(\n",
        "        l_name=friends.name,\n",
        "        l_id=friends.id,\n",
        "        r_name=other_group.name,\n",
        "        r_id=other_group.id,\n",
        "    )\n",
        ")"
      ]
    },
    {
      "cell_type": "markdown",
      "id": "eba00260",
      "metadata": {},
      "source": [
        "## ID inheritance in join\n",
        "Full (yet still informal) syntax of join is:"
      ]
    },
    {
      "cell_type": "code",
      "execution_count": 24,
      "id": "d26f91ec",
      "metadata": {
        "execution": {
          "iopub.execute_input": "2022-12-07T23:32:59.519300Z",
          "iopub.status.busy": "2022-12-07T23:32:59.519189Z",
          "iopub.status.idle": "2022-12-07T23:32:59.521003Z",
          "shell.execute_reply": "2022-12-07T23:32:59.520729Z"
        }
      },
      "outputs": [],
      "source": [
        "# _MD_SHOW_table.join(other, *on, id = None)"
      ]
    },
    {
      "cell_type": "markdown",
      "id": "09a6d296",
      "metadata": {},
      "source": [
        "where\n",
        "* `table` and `other` are tables to be joined,\n",
        "* `*on` is a list of conditions of form:"
      ]
    },
    {
      "cell_type": "code",
      "execution_count": 25,
      "id": "862f9488",
      "metadata": {
        "execution": {
          "iopub.execute_input": "2022-12-07T23:32:59.522146Z",
          "iopub.status.busy": "2022-12-07T23:32:59.522049Z",
          "iopub.status.idle": "2022-12-07T23:32:59.523667Z",
          "shell.execute_reply": "2022-12-07T23:32:59.523392Z"
        }
      },
      "outputs": [],
      "source": [
        "# _MD_SHOW_table.some_column == other.some_other_column"
      ]
    },
    {
      "cell_type": "markdown",
      "id": "65cf270d",
      "metadata": {},
      "source": [
        "* optional `id` can be set to either table.id or other.id\n",
        "\n",
        "Whenever `id` argument is not none, join will try to use the column passed in\n",
        "id argument as new id in the result of join.\n",
        "This operation will succeed only when there is a guarantee that resulting joined table\n",
        "has no multiple rows with the same id-to-inherit.\n",
        "\n",
        "Below you can find three examples - one successful and two failed id inheritance.\n",
        "First, let us see what are the id-s of the original tables."
      ]
    },
    {
      "cell_type": "code",
      "execution_count": 26,
      "id": "d0e906e9",
      "metadata": {
        "execution": {
          "iopub.execute_input": "2022-12-07T23:32:59.524789Z",
          "iopub.status.busy": "2022-12-07T23:32:59.524692Z",
          "iopub.status.idle": "2022-12-07T23:32:59.603378Z",
          "shell.execute_reply": "2022-12-07T23:32:59.602938Z"
        }
      },
      "outputs": [
        {
          "name": "stdout",
          "output_type": "stream",
          "text": [
            "            | name  | budget\n",
            "^2TMTFGY... | Alice | 13\n",
            "^YHZBTNY... | Bob   | 10\n",
            "^SERVYWW... | Carol | 11\n",
            "^8GR6BSX... | Dan   | 12\n"
          ]
        },
        {
          "name": "stdout",
          "output_type": "stream",
          "text": [
            "            | person | allergy\n",
            "^SP3EQAR... | Alice  | milk\n",
            "^H9SEXTP... | Bob    | eggs\n",
            "^CWQ381T... | Carol  | milk\n",
            "^9PXHKBD... | Carol  | peanuts\n"
          ]
        }
      ],
      "source": [
        "pw.debug.compute_and_print(friends)\n",
        "pw.debug.compute_and_print(allergies)"
      ]
    },
    {
      "cell_type": "markdown",
      "id": "7b3e73d1",
      "metadata": {},
      "source": [
        "### Successful id inheritance\n",
        "Let us try a join that inherits id-s from table `allergies`."
      ]
    },
    {
      "cell_type": "code",
      "execution_count": 27,
      "id": "e760d3d2",
      "metadata": {
        "execution": {
          "iopub.execute_input": "2022-12-07T23:32:59.604924Z",
          "iopub.status.busy": "2022-12-07T23:32:59.604808Z",
          "iopub.status.idle": "2022-12-07T23:32:59.646898Z",
          "shell.execute_reply": "2022-12-07T23:32:59.646500Z"
        }
      },
      "outputs": [
        {
          "name": "stdout",
          "output_type": "stream",
          "text": [
            "            | name  | allergy | budget\n",
            "^SP3EQAR... | Alice | milk    | 13\n",
            "^H9SEXTP... | Bob   | eggs    | 10\n",
            "^CWQ381T... | Carol | milk    | 11\n",
            "^9PXHKBD... | Carol | peanuts | 11\n"
          ]
        }
      ],
      "source": [
        "pw.debug.compute_and_print(\n",
        "    allergies.join(friends, allergies.person == friends.name, id=allergies.id).select(\n",
        "        friends.name, allergies.allergy, friends.budget\n",
        "    )\n",
        ")"
      ]
    },
    {
      "cell_type": "markdown",
      "id": "8583caad",
      "metadata": {},
      "source": [
        "As we can see, the id column is the same as in the `friends` table,\n",
        "which was not the case when the id parameter is not set."
      ]
    },
    {
      "cell_type": "code",
      "execution_count": 28,
      "id": "41d5db87",
      "metadata": {
        "execution": {
          "iopub.execute_input": "2022-12-07T23:32:59.648425Z",
          "iopub.status.busy": "2022-12-07T23:32:59.648279Z",
          "iopub.status.idle": "2022-12-07T23:32:59.690202Z",
          "shell.execute_reply": "2022-12-07T23:32:59.689775Z"
        }
      },
      "outputs": [
        {
          "name": "stdout",
          "output_type": "stream",
          "text": [
            "            | name  | allergy | budget\n",
            "^SP3EQAR... | Alice | milk    | 13\n",
            "^H9SEXTP... | Bob   | eggs    | 10\n",
            "^CWQ381T... | Carol | milk    | 11\n",
            "^9PXHKBD... | Carol | peanuts | 11\n"
          ]
        }
      ],
      "source": [
        "pw.debug.compute_and_print(\n",
        "    allergies.join(friends, allergies.person == friends.name, id=allergies.id).select(\n",
        "        friends.name, allergies.allergy, friends.budget\n",
        "    )\n",
        ")"
      ]
    },
    {
      "cell_type": "markdown",
      "id": "74f93f46",
      "metadata": {},
      "source": [
        "### Failed id inheritance: duplicate id-s\n",
        "The first possible problem with inheriting id is that one row of the source table\n",
        "could be matched with several entries of the other table. The code below will\n",
        "cause such problem, and will raise a KeyError."
      ]
    },
    {
      "cell_type": "code",
      "execution_count": 29,
      "id": "a3cb73a3",
      "metadata": {
        "execution": {
          "iopub.execute_input": "2022-12-07T23:32:59.691808Z",
          "iopub.status.busy": "2022-12-07T23:32:59.691666Z",
          "iopub.status.idle": "2022-12-07T23:32:59.693644Z",
          "shell.execute_reply": "2022-12-07T23:32:59.693357Z"
        }
      },
      "outputs": [],
      "source": [
        "# _MD_SHOW_pw.debug.compute_and_print(\n",
        "# _MD_SHOW_    allergies.join(friends, allergies.person == friends.name, id=friends.id).select(\n",
        "# _MD_SHOW_        friends.name, allergies.allergy\n",
        "# _MD_SHOW_    )\n",
        "# _MD_SHOW_)\n",
        "# _MD_SHOW_[stacktrace...]\n",
        "# _MD_SHOW_KeyError: 'duplicate key: ^SERVYWW6KDGEQ2WVZ3ZZB86VSR'"
      ]
    },
    {
      "cell_type": "markdown",
      "id": "aea4d586",
      "metadata": {
        "lines_to_next_cell": 2
      },
      "source": [
        "### Failed id inheritance: empty id-s\n",
        "Finally, if we consider outer joins between those two tables, we\n",
        "may encounter a situation in which we need to assign id that is empty in the join result:"
      ]
    },
    {
      "cell_type": "code",
      "execution_count": 30,
      "id": "2877bfa2",
      "metadata": {
        "execution": {
          "iopub.execute_input": "2022-12-07T23:32:59.694956Z",
          "iopub.status.busy": "2022-12-07T23:32:59.694791Z",
          "iopub.status.idle": "2022-12-07T23:32:59.744222Z",
          "shell.execute_reply": "2022-12-07T23:32:59.743779Z"
        }
      },
      "outputs": [
        {
          "name": "stdout",
          "output_type": "stream",
          "text": [
            "            | name  | allergy | allergies_id\n",
            "^AHH9C80... | Alice | milk    | ^SP3EQAR...\n",
            "^2BR8WRG... | Bob   | eggs    | ^H9SEXTP...\n",
            "^Y5CAVAS... | Carol | milk    | ^CWQ381T...\n",
            "^WQENVG9... | Carol | peanuts | ^9PXHKBD...\n",
            "^KARHAYN... | Dan   |         |\n"
          ]
        }
      ],
      "source": [
        "pw.debug.compute_and_print(\n",
        "    allergies.right_join(friends, allergies.person == friends.name).select(\n",
        "        friends.name, allergies.allergy, allergies_id=allergies.id\n",
        "    )\n",
        ")"
      ]
    },
    {
      "cell_type": "markdown",
      "id": "b2c88dac",
      "metadata": {},
      "source": [
        "As we can see, the `allergies_id` field is not set for Dan's entry. If we try to use\n",
        "allergies.id as the `id` parameter, we will encounter TypeError."
      ]
    },
    {
      "cell_type": "code",
      "execution_count": 31,
      "id": "84a3508f",
      "metadata": {
        "execution": {
          "iopub.execute_input": "2022-12-07T23:32:59.745791Z",
          "iopub.status.busy": "2022-12-07T23:32:59.745651Z",
          "iopub.status.idle": "2022-12-07T23:32:59.747443Z",
          "shell.execute_reply": "2022-12-07T23:32:59.747163Z"
        }
      },
      "outputs": [],
      "source": [
        "# _MD_SHOW_pw.debug.compute_and_print(\n",
        "# _MD_SHOW_    allergies.right_join(\n",
        "# _MD_SHOW_        friends, allergies.person == friends.name, id=allergies.id\n",
        "# _MD_SHOW_    ).select(friends.name, allergies.allergy, allergies_id=allergies.id)\n",
        "# _MD_SHOW_)\n",
        "# _MD_SHOW_[stacktrace...]\n",
        "# _MD_SHOW_TypeError: type mismatch: expected a pointer, got None"
      ]
    },
    {
      "cell_type": "markdown",
      "id": "f87d8807",
      "metadata": {},
      "source": [
        "## Joins on a foreign key\n",
        "In Pathway id column is auto-generated, and as such joining over foreign key kept in\n",
        "some other table requires extra care. Let's assume that we have another table `likes`\n",
        "that indicates that a friend (`row in friends`) likes some particular dish (row in `menu`)."
      ]
    },
    {
      "cell_type": "code",
      "execution_count": 32,
      "id": "12b28f52",
      "metadata": {
        "execution": {
          "iopub.execute_input": "2022-12-07T23:32:59.748763Z",
          "iopub.status.busy": "2022-12-07T23:32:59.748618Z",
          "iopub.status.idle": "2022-12-07T23:32:59.752268Z",
          "shell.execute_reply": "2022-12-07T23:32:59.751978Z"
        }
      },
      "outputs": [],
      "source": [
        "likes = pw.debug.table_from_markdown(\n",
        "    \"\"\"\n",
        "    | f_id  | m_id\n",
        "100 | 1     | 11\n",
        "101 | 1     | 13\n",
        "102 | 2     | 12\n",
        "103 | 2     | 13\n",
        "104 | 3     | 11\n",
        "105 | 3     | 14\n",
        "106 | 3     | 13\n",
        "107 | 4     | 12\n",
        "108 | 4     | 14\n",
        "\"\"\"\n",
        ")"
      ]
    },
    {
      "cell_type": "markdown",
      "id": "e9850b48",
      "metadata": {},
      "source": [
        "Without further specification, Pathway treats columns f_id and m_id as numbers:"
      ]
    },
    {
      "cell_type": "code",
      "execution_count": 33,
      "id": "d781b224",
      "metadata": {
        "execution": {
          "iopub.execute_input": "2022-12-07T23:32:59.753593Z",
          "iopub.status.busy": "2022-12-07T23:32:59.753464Z",
          "iopub.status.idle": "2022-12-07T23:32:59.836688Z",
          "shell.execute_reply": "2022-12-07T23:32:59.836252Z"
        }
      },
      "outputs": [
        {
          "name": "stdout",
          "output_type": "stream",
          "text": [
            "            | f_id | m_id\n",
            "^M1T2QKJ... | 1    | 11\n",
            "^4RH155M... | 1    | 13\n",
            "^YQ30FHF... | 2    | 12\n",
            "^AMFB2M6... | 2    | 13\n",
            "^7J00RXZ... | 3    | 11\n",
            "^NZSWGHA... | 3    | 13\n",
            "^FCVQG87... | 3    | 14\n",
            "^V771XE5... | 4    | 12\n",
            "^0HAWE8Q... | 4    | 14\n"
          ]
        }
      ],
      "source": [
        "pw.debug.compute_and_print(likes)"
      ]
    },
    {
      "cell_type": "markdown",
      "id": "d7f10ba9",
      "metadata": {},
      "source": [
        "while the id of tables `friends` and `menu` was converted to Pointer.\n"
      ]
    },
    {
      "cell_type": "code",
      "execution_count": 34,
      "id": "69b27d56",
      "metadata": {
        "execution": {
          "iopub.execute_input": "2022-12-07T23:32:59.838257Z",
          "iopub.status.busy": "2022-12-07T23:32:59.838114Z",
          "iopub.status.idle": "2022-12-07T23:32:59.930579Z",
          "shell.execute_reply": "2022-12-07T23:32:59.930170Z"
        }
      },
      "outputs": [
        {
          "name": "stdout",
          "output_type": "stream",
          "text": [
            "            | name  | budget\n",
            "^2TMTFGY... | Alice | 13\n",
            "^YHZBTNY... | Bob   | 10\n",
            "^SERVYWW... | Carol | 11\n",
            "^8GR6BSX... | Dan   | 12\n"
          ]
        },
        {
          "name": "stdout",
          "output_type": "stream",
          "text": [
            "            | dish              | price\n",
            "^VYA37VV... | jam_pb_pancakes   | 12\n",
            "^HMETZT8... | pancakes_with_jam | 11\n",
            "^4B2REY1... | pb_jam_sandwich   | 9\n",
            "^SE0WWPZ... | scrambled_egg     | 11\n"
          ]
        }
      ],
      "source": [
        "pw.debug.compute_and_print(friends)\n",
        "pw.debug.compute_and_print(menu)"
      ]
    },
    {
      "cell_type": "markdown",
      "id": "dc6f4f8a",
      "metadata": {},
      "source": [
        "\n",
        "To handle joins using those columns, we can use pointer_from function"
      ]
    },
    {
      "cell_type": "code",
      "execution_count": 35,
      "id": "cedf662f",
      "metadata": {
        "execution": {
          "iopub.execute_input": "2022-12-07T23:32:59.932098Z",
          "iopub.status.busy": "2022-12-07T23:32:59.931981Z",
          "iopub.status.idle": "2022-12-07T23:32:59.980483Z",
          "shell.execute_reply": "2022-12-07T23:32:59.980050Z"
        }
      },
      "outputs": [
        {
          "name": "stdout",
          "output_type": "stream",
          "text": [
            "            | f_id | m_id | f_id_ptr    | m_id_ptr\n",
            "^M1T2QKJ... | 1    | 11   | ^2TMTFGY... | ^HMETZT8...\n",
            "^4RH155M... | 1    | 13   | ^2TMTFGY... | ^VYA37VV...\n",
            "^YQ30FHF... | 2    | 12   | ^YHZBTNY... | ^4B2REY1...\n",
            "^AMFB2M6... | 2    | 13   | ^YHZBTNY... | ^VYA37VV...\n",
            "^7J00RXZ... | 3    | 11   | ^SERVYWW... | ^HMETZT8...\n",
            "^NZSWGHA... | 3    | 13   | ^SERVYWW... | ^VYA37VV...\n",
            "^FCVQG87... | 3    | 14   | ^SERVYWW... | ^SE0WWPZ...\n",
            "^V771XE5... | 4    | 12   | ^8GR6BSX... | ^4B2REY1...\n",
            "^0HAWE8Q... | 4    | 14   | ^8GR6BSX... | ^SE0WWPZ...\n"
          ]
        }
      ],
      "source": [
        "likes += likes.select(\n",
        "    f_id_ptr=friends.pointer_from(likes.f_id),\n",
        "    m_id_ptr=menu.pointer_from(likes.m_id),\n",
        ")\n",
        "pw.debug.compute_and_print(likes)"
      ]
    },
    {
      "cell_type": "markdown",
      "id": "cbd0b64a",
      "metadata": {},
      "source": [
        "An [example of code](#long-chain-example) joining `friends` with `menu` using `likes`\n",
        "is presented the next section on chaining joins."
      ]
    },
    {
      "cell_type": "markdown",
      "id": "65125708",
      "metadata": {},
      "source": [
        "## Chaining joins:\n",
        "Pathway provides two ways of chaining joins. The first relies on usage of pw.this,\n",
        "the second allows for slightly more compact code. Below, we focus on chaining joins\n",
        "using `pw.this`.\n",
        "\n",
        " ### Simple join chaining\n",
        "Below, we show how to chain joins using pw.this. To show how it can be used, we revisit\n",
        "the first example of left_join, in which we computed a left_join on a table\n",
        "that was obtained by another left_join. Instead of storing the result of the first\n",
        "left_join in people_allergies, we can use the following:"
      ]
    },
    {
      "cell_type": "code",
      "execution_count": 36,
      "id": "76a7d42d",
      "metadata": {
        "execution": {
          "iopub.execute_input": "2022-12-07T23:32:59.982097Z",
          "iopub.status.busy": "2022-12-07T23:32:59.981981Z",
          "iopub.status.idle": "2022-12-07T23:33:00.043803Z",
          "shell.execute_reply": "2022-12-07T23:33:00.043369Z"
        }
      },
      "outputs": [
        {
          "name": "stdout",
          "output_type": "stream",
          "text": [
            "            | name  | dish\n",
            "^Y4H9YJC... | Alice | jam_pb_pancakes\n",
            "^MHQRNFF... | Alice | pancakes_with_jam\n",
            "^4DQ4S80... | Bob   | jam_pb_pancakes\n",
            "^XPGS5EQ... | Bob   | pancakes_with_jam\n",
            "^63EGDX6... | Bob   | scrambled_egg\n",
            "^YZ60CRJ... | Carol | jam_pb_pancakes\n",
            "^K3K3E16... | Carol | jam_pb_pancakes\n",
            "^M6FZ6K4... | Carol | pancakes_with_jam\n",
            "^RN5X9SH... | Carol | pb_jam_sandwich\n",
            "^2YAV0VF... | Dan   |\n"
          ]
        }
      ],
      "source": [
        "pw.debug.compute_and_print(\n",
        "    friends.left_join(allergies, friends.name == allergies.person)\n",
        "    .select(friends.name, allergies.allergy, friends.budget)\n",
        "    .left_join(allergens_in_menu, pw.this.allergy == allergens_in_menu.allergen)\n",
        "    .select(pw.this.name, allergens_in_menu.dish)\n",
        ")"
      ]
    },
    {
      "cell_type": "markdown",
      "id": "f8414e58",
      "metadata": {
        "lines_to_next_cell": 2
      },
      "source": [
        "Essentially, in the context of joins pw.this allows us to address the table\n",
        "computed by\n",
        "\n",
        "      friends.left_join(allergies, friends.name == allergies.person\n",
        "          ).select(friends.name, allergies.allergy)\n",
        "\n",
        "without breaking the chain and storing intermediate result in a temporary\n",
        "variable.\n",
        "\n",
        "More precisely, given a chain:\n",
        "\n",
        "_MD_SHOW_table.join(...).select(...).join(...).select(...)...\n",
        "\n",
        "pw.this can be used to address the result of the latest select.\n",
        "\n",
        "### Long chain example\n",
        "To demonstrate longer chains in action, we go back to the table `likes` we used to\n",
        "show how to handle (generate) foreign keys."
      ]
    },
    {
      "cell_type": "code",
      "execution_count": 37,
      "id": "8109f6dd",
      "metadata": {
        "execution": {
          "iopub.execute_input": "2022-12-07T23:33:00.045240Z",
          "iopub.status.busy": "2022-12-07T23:33:00.045123Z",
          "iopub.status.idle": "2022-12-07T23:33:00.114127Z",
          "shell.execute_reply": "2022-12-07T23:33:00.113686Z"
        }
      },
      "outputs": [
        {
          "name": "stdout",
          "output_type": "stream",
          "text": [
            "            | name  | budget | dish              | price | allergy | allergen\n",
            "^C7E41EW... | Alice | 13     | jam_pb_pancakes   | 12    | milk    | eggs\n",
            "^3C8BYCT... | Alice | 13     | jam_pb_pancakes   | 12    | milk    | peanuts\n",
            "^V49K9AY... | Alice | 13     | pancakes_with_jam | 11    | milk    | eggs\n",
            "^5HD9M6D... | Bob   | 10     | pb_jam_sandwich   | 9     | eggs    | peanuts\n",
            "^3F4G2QJ... | Carol | 11     | pancakes_with_jam | 11    | milk    | eggs\n",
            "^Q416RZ3... | Carol | 11     | pancakes_with_jam | 11    | peanuts | eggs\n",
            "^05R585H... | Carol | 11     | pancakes_with_jam | 11    | peanuts | milk\n",
            "^ZP22G15... | Carol | 11     | scrambled_egg     | 11    | milk    | eggs\n",
            "^Z3CSET2... | Carol | 11     | scrambled_egg     | 11    | peanuts | eggs\n",
            "^H08RKW9... | Dan   | 12     | pb_jam_sandwich   | 9     |         | peanuts\n",
            "^41ZJ9RM... | Dan   | 12     | scrambled_egg     | 11    |         | eggs\n"
          ]
        }
      ],
      "source": [
        "feasible_choice = (\n",
        "    friends.join(likes, friends.id == likes.f_id_ptr)\n",
        "    .select(friends.name, friends.budget, likes.m_id_ptr)\n",
        "    .join(menu, pw.this.m_id_ptr == menu.id)\n",
        "    .select(pw.this.name, pw.this.budget, menu.dish, menu.price)\n",
        "    .left_join(allergies, pw.this.name == allergies.person)\n",
        "    .select(\n",
        "        pw.this.name, pw.this.budget, pw.this.dish, pw.this.price, allergies.allergy\n",
        "    )\n",
        "    .join(allergens_in_menu, pw.this.dish == allergens_in_menu.dish)\n",
        "    .select(\n",
        "        pw.this.name,\n",
        "        pw.this.budget,\n",
        "        pw.this.dish,\n",
        "        pw.this.price,\n",
        "        pw.this.allergy,\n",
        "        allergens_in_menu.allergen,\n",
        "    )\n",
        "    .filter((pw.this.price <= pw.this.budget) & (pw.this.allergy != pw.this.allergen))\n",
        ")\n",
        "pw.debug.compute_and_print(feasible_choice)"
      ]
    },
    {
      "cell_type": "markdown",
      "id": "0592d06e",
      "metadata": {},
      "source": [
        "As we can see, this table contains all choices of person and dish, such that person likes\n",
        "particular dish, is not allergic to it, and can afford it. We can further simplify\n",
        "the result by adding another groupby-reduce at the end of the chain."
      ]
    },
    {
      "cell_type": "code",
      "execution_count": 38,
      "id": "192176b9",
      "metadata": {
        "execution": {
          "iopub.execute_input": "2022-12-07T23:33:00.115699Z",
          "iopub.status.busy": "2022-12-07T23:33:00.115585Z",
          "iopub.status.idle": "2022-12-07T23:33:00.181960Z",
          "shell.execute_reply": "2022-12-07T23:33:00.181525Z"
        }
      },
      "outputs": [
        {
          "name": "stdout",
          "output_type": "stream",
          "text": [
            "            | name  | dish              | budget | price\n",
            "^XJV0C2H... | Alice | jam_pb_pancakes   | 13     | 12\n",
            "^B9PDF7J... | Alice | pancakes_with_jam | 13     | 11\n",
            "^86P08KH... | Bob   | pb_jam_sandwich   | 10     | 9\n",
            "^FS0VA1H... | Carol | pancakes_with_jam | 11     | 11\n",
            "^SFK6S54... | Carol | scrambled_egg     | 11     | 11\n",
            "^AN8SK6X... | Dan   | pb_jam_sandwich   | 12     | 9\n",
            "^G13RSRH... | Dan   | scrambled_egg     | 12     | 11\n"
          ]
        }
      ],
      "source": [
        "pw.debug.compute_and_print(\n",
        "    feasible_choice.groupby(\n",
        "        pw.this.name, pw.this.dish, pw.this.budget, pw.this.price\n",
        "    ).reduce(pw.this.name, pw.this.dish, pw.this.budget, pw.this.price)\n",
        ")"
      ]
    }
  ],
  "metadata": {
    "colab": {
      "provenance": [],
      "collapsed_sections": [],
      "include_colab_link": true
    },
    "kernelspec": {
      "name": "py310",
      "display_name": "Python 3.10"
    }
  },
  "nbformat": 4,
  "nbformat_minor": 0
}