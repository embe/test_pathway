{
  "cells": [
    {
      "cell_type": "markdown",
      "metadata": {
        "id": "view-in-colab"
      },
      "source": [
        "<a href=\"https://colab.research.google.com/github/pathwaycom/pathway-examples/blob/main/documentation/join_manual_colab.ipynb\" target=\"_parent\"><img src=\"https://pathway.com/assets/colab-badge.svg\" alt=\"Run In Colab\" class=\"inline\"/></a>"
      ]
    },
    {
      "cell_type": "markdown",
      "source": [
        "# Setting up Python and Pathway\n",
        "\n",
        "Pathway can be installed to a Python 3.10 environment using pip, please register at https://pathway.com to get beta access to the package"
      ],
      "metadata": {
        "id": "notebook-instructions"
      }
    },
    {
      "cell_type": "code",
      "source": [
        "PIP_PACKAGE_ADDRESS=\"\"\n",
        "if not PIP_PACKAGE_ADDRESS:\n",
        "    print(\n",
        "        \"Please register at https://pathway.com/developers/documentation/introduction/installation-and-first-steps\\n\"\n",
        "        \"To get the pip package installation link!\"\n",
        "    )"
      ],
      "metadata": {
        "id": "pip-package-selection"
      },
      "execution_count": null,
      "outputs": []
    },
    {
      "cell_type": "code",
      "source": [
        "if not (sys.version_info.major==3 and sys.version_info.minor==10):\n",
        "    raise Exception(\"Pathway is only built for Python 3.10 at the moment\")"
      ],
      "metadata": {
        "id": "check-py-version"
      },
      "execution_count": null,
      "outputs": []
    },
    {
      "cell_type": "code",
      "source": [
        "# Install pathway's package\n",
        "!pip install {PIP_PACKAGE_ADDRESS} 1>/dev/null 2>/dev/null"
      ],
      "metadata": {
        "id": "pip-install-pathway"
      },
      "execution_count": null,
      "outputs": []
    },
    {
      "cell_type": "markdown",
      "id": "02fd2662",
      "metadata": {},
      "source": [
        "# Playing with joins.\n",
        "A brief explanation on how to perform joins with Pathway.\n",
        "\n",
        "Join is one of the basic table operation provided in Pathway.\n",
        "A join operation combines columns from two different tables by associating rows with matching some given values both tables.\n",
        "\n",
        "This guide presents several samples of code using the joins:\n",
        "*  [join (inner join)](#simple-inner-join)\n",
        "*  [left_join, right_join, outer_join (outer_joins)](#outer-joins)\n",
        "\n",
        "\n",
        "The examples demonstrate usual use-cases, explain the behavior of\n",
        "outer joins, and point out some peculiarities you may encounter\n",
        "while using Pathway. In particular, they show how to:\n",
        "* [inherit id from left or right table](#id-inheritance-in-join)\n",
        "* [join tables using foreign keys](#joins-on-foreign-key)\n",
        "* [use joins in a chain](#chaining-joins)"
      ]
    },
    {
      "cell_type": "markdown",
      "id": "bf8f902c",
      "metadata": {},
      "source": [
        "## Prerequisites\n",
        "\n",
        "Be sure to import Pathway."
      ]
    },
    {
      "cell_type": "code",
      "execution_count": 1,
      "id": "a7daa30c",
      "metadata": {
        "execution": {
          "iopub.execute_input": "2022-12-09T10:11:31.933800Z",
          "iopub.status.busy": "2022-12-09T10:11:31.933581Z",
          "iopub.status.idle": "2022-12-09T10:11:32.948181Z",
          "shell.execute_reply": "2022-12-09T10:11:32.947760Z"
        }
      },
      "outputs": [],
      "source": [
        "import pathway as pw"
      ]
    },
    {
      "cell_type": "markdown",
      "id": "11c47aff",
      "metadata": {},
      "source": [
        "\n",
        "Also, we need some tables to play with. For the sake of presentation,\n",
        "let us consider a following made up scenario: a group of four friends\n",
        "(table friends) goes to grab some breakfast.\n"
      ]
    },
    {
      "cell_type": "code",
      "execution_count": 2,
      "id": "0a299f9d",
      "metadata": {
        "execution": {
          "iopub.execute_input": "2022-12-09T10:11:32.950386Z",
          "iopub.status.busy": "2022-12-09T10:11:32.950121Z",
          "iopub.status.idle": "2022-12-09T10:11:32.958563Z",
          "shell.execute_reply": "2022-12-09T10:11:32.958226Z"
        },
        "lines_to_next_cell": 2
      },
      "outputs": [],
      "source": [
        "friends = pw.debug.table_from_markdown(\n",
        "    \"\"\"\n",
        "    | name  |budget\n",
        "  1 | Alice | 13\n",
        "  2 | Bob   | 10\n",
        "  3 | Carol | 11\n",
        "  4 | Dan   | 12\n",
        " \"\"\"\n",
        ")\n",
        "menu = pw.debug.table_from_markdown(\n",
        "    \"\"\"\n",
        "     | dish                              | price\n",
        "  11 | pancakes_with_jam                 | 11\n",
        "  12 | pb_jam_sandwich                   | 9\n",
        "  13 | jam_pb_pancakes                   | 12\n",
        "  14 | scrambled_egg                     | 11\n",
        " \"\"\"\n",
        ")"
      ]
    },
    {
      "cell_type": "markdown",
      "id": "f525c0ae",
      "metadata": {},
      "source": [
        "#\n",
        "However, some of them have allergies (table allergies),\n",
        "and cannot eat everything. Luckily, the restaurant has a list\n",
        "of allergens contained in each dish (table allergens_in_menu).\n"
      ]
    },
    {
      "cell_type": "code",
      "execution_count": 3,
      "id": "b48360d0",
      "metadata": {
        "execution": {
          "iopub.execute_input": "2022-12-09T10:11:32.960243Z",
          "iopub.status.busy": "2022-12-09T10:11:32.960075Z",
          "iopub.status.idle": "2022-12-09T10:11:32.965853Z",
          "shell.execute_reply": "2022-12-09T10:11:32.965517Z"
        }
      },
      "outputs": [],
      "source": [
        "allergies = pw.debug.table_from_markdown(\n",
        "    \"\"\"\n",
        "     | person| allergy\n",
        "  21 | Alice | milk\n",
        "  22 | Bob   | eggs\n",
        "  23 | Carol | peanuts\n",
        "  24 | Carol | milk\n",
        " \"\"\"\n",
        ")\n",
        "\n",
        "allergens_in_menu = pw.debug.table_from_markdown(\n",
        "    \"\"\"\n",
        "     | dish                              | allergen\n",
        "  31 | pancakes_with_jam                 | milk\n",
        "  32 | pancakes_with_jam                 | eggs\n",
        "  33 | pb_jam_sandwich                   | peanuts\n",
        "  34 | jam_pb_pancakes                   | eggs\n",
        "  35 | jam_pb_pancakes                   | peanuts\n",
        "  36 | jam_pb_pancakes                   | milk\n",
        "  37 | scrambled_egg                     | eggs\n",
        " \"\"\"\n",
        ")"
      ]
    },
    {
      "cell_type": "markdown",
      "id": "d240b29e",
      "metadata": {},
      "source": [
        "## Simple inner join.\n",
        "### Syntax\n",
        "Putting it simply, the syntax of join is:"
      ]
    },
    {
      "cell_type": "code",
      "execution_count": 4,
      "id": "e888ff39",
      "metadata": {
        "execution": {
          "iopub.execute_input": "2022-12-09T10:11:32.967375Z",
          "iopub.status.busy": "2022-12-09T10:11:32.967218Z",
          "iopub.status.idle": "2022-12-09T10:11:32.969116Z",
          "shell.execute_reply": "2022-12-09T10:11:32.968793Z"
        }
      },
      "outputs": [],
      "source": [
        "# _MD_SHOW_table.join(other, *on)"
      ]
    },
    {
      "cell_type": "markdown",
      "id": "13af204b",
      "metadata": {},
      "source": [
        "where\n",
        "* `table` and `other` are tables to be joined,\n",
        "* `*on` is a list of conditions of form:"
      ]
    },
    {
      "cell_type": "code",
      "execution_count": 5,
      "id": "e764895f",
      "metadata": {
        "execution": {
          "iopub.execute_input": "2022-12-09T10:11:32.970608Z",
          "iopub.status.busy": "2022-12-09T10:11:32.970449Z",
          "iopub.status.idle": "2022-12-09T10:11:32.972303Z",
          "shell.execute_reply": "2022-12-09T10:11:32.971983Z"
        }
      },
      "outputs": [],
      "source": [
        "# _MD_SHOW_table.some_column == other.some_other_column"
      ]
    },
    {
      "cell_type": "markdown",
      "id": "41b3f68c",
      "metadata": {},
      "source": [
        "**Remark:** the order of tables in the condition matters. That is,\n",
        "a condition of the following form won't be accepted:"
      ]
    },
    {
      "cell_type": "code",
      "execution_count": 6,
      "id": "6a640f53",
      "metadata": {
        "execution": {
          "iopub.execute_input": "2022-12-09T10:11:32.973725Z",
          "iopub.status.busy": "2022-12-09T10:11:32.973591Z",
          "iopub.status.idle": "2022-12-09T10:11:32.975375Z",
          "shell.execute_reply": "2022-12-09T10:11:32.975068Z"
        }
      },
      "outputs": [],
      "source": [
        "# _MD_SHOW_other.some_other_column == table.some_column"
      ]
    },
    {
      "cell_type": "markdown",
      "id": "ef9c4935",
      "metadata": {},
      "source": [
        "### Examples\n",
        "As a warm-up, let us see how to make a simple join-queries.\n",
        "Let's begin with simple query that find all pairs person-dish\n",
        "that can put someone in a hospital."
      ]
    },
    {
      "cell_type": "code",
      "execution_count": 7,
      "id": "d6a85a8b",
      "metadata": {
        "execution": {
          "iopub.execute_input": "2022-12-09T10:11:32.976779Z",
          "iopub.status.busy": "2022-12-09T10:11:32.976620Z",
          "iopub.status.idle": "2022-12-09T10:11:32.982001Z",
          "shell.execute_reply": "2022-12-09T10:11:32.981655Z"
        },
        "lines_to_next_cell": 1
      },
      "outputs": [
        {
          "name": "stdout",
          "output_type": "stream",
          "text": [
            "            | dish              | person\n",
            "^NXS1ZCC... | jam_pb_pancakes   | Alice\n",
            "^TKSYTBX... | jam_pb_pancakes   | Bob\n",
            "^C62RFES... | jam_pb_pancakes   | Carol\n",
            "^BX7DMG3... | jam_pb_pancakes   | Carol\n",
            "^B7RFVMK... | pancakes_with_jam | Alice\n",
            "^51FP1WY... | pancakes_with_jam | Bob\n",
            "^FHCFCY1... | pancakes_with_jam | Carol\n",
            "^ZQ7DWQ8... | pb_jam_sandwich   | Carol\n",
            "^0MRRXPF... | scrambled_egg     | Bob\n"
          ]
        }
      ],
      "source": [
        "bad_match = allergies.join(\n",
        "    allergens_in_menu, allergies.allergy == allergens_in_menu.allergen\n",
        ").select(allergens_in_menu.dish, allergies.person)\n",
        "pw.debug.compute_and_print(bad_match)"
      ]
    },
    {
      "cell_type": "markdown",
      "id": "f1647a68",
      "metadata": {},
      "source": [
        "#\n",
        "As we can see, the result is a table of life-threatening pairs.\n",
        "\n",
        "The `select` function works here similarly as `select` on a table. The difference is\n",
        "that here, we can use columns of both tables as arguments, e.g."
      ]
    },
    {
      "cell_type": "code",
      "execution_count": 8,
      "id": "a44da610",
      "metadata": {
        "execution": {
          "iopub.execute_input": "2022-12-09T10:11:32.983543Z",
          "iopub.status.busy": "2022-12-09T10:11:32.983382Z",
          "iopub.status.idle": "2022-12-09T10:11:32.988019Z",
          "shell.execute_reply": "2022-12-09T10:11:32.987660Z"
        }
      },
      "outputs": [
        {
          "name": "stdout",
          "output_type": "stream",
          "text": [
            "            | note\n",
            "^NXS1ZCC... | Alice can't eat jam_pb_pancakes.\n",
            "^B7RFVMK... | Alice can't eat pancakes_with_jam.\n",
            "^TKSYTBX... | Bob can't eat jam_pb_pancakes.\n",
            "^51FP1WY... | Bob can't eat pancakes_with_jam.\n",
            "^0MRRXPF... | Bob can't eat scrambled_egg.\n",
            "^C62RFES... | Carol can't eat jam_pb_pancakes.\n",
            "^BX7DMG3... | Carol can't eat jam_pb_pancakes.\n",
            "^FHCFCY1... | Carol can't eat pancakes_with_jam.\n",
            "^ZQ7DWQ8... | Carol can't eat pb_jam_sandwich.\n"
          ]
        }
      ],
      "source": [
        "def make_food_constraint_note(name, dish):\n",
        "    return f\"{name} can't eat {dish}.\"\n",
        "\n",
        "\n",
        "bad_match_note = allergies.join(\n",
        "    allergens_in_menu, allergies.allergy == allergens_in_menu.allergen\n",
        ").select(\n",
        "    note=pw.apply(make_food_constraint_note, allergies.person, allergens_in_menu.dish)\n",
        ")\n",
        "pw.debug.compute_and_print(bad_match_note)"
      ]
    },
    {
      "cell_type": "markdown",
      "id": "dc6459dc",
      "metadata": {},
      "source": [
        "*Remark:* note that id is now some auto generated number, which is the usual behavior of join."
      ]
    },
    {
      "cell_type": "markdown",
      "id": "7514318b",
      "metadata": {},
      "source": [
        "### On self joins.\n",
        "In order to perform a self joins (a join of table with itself),\n",
        "we need to create its copy."
      ]
    },
    {
      "cell_type": "code",
      "execution_count": 9,
      "id": "6291a2eb",
      "metadata": {
        "execution": {
          "iopub.execute_input": "2022-12-09T10:11:32.989565Z",
          "iopub.status.busy": "2022-12-09T10:11:32.989406Z",
          "iopub.status.idle": "2022-12-09T10:11:32.995204Z",
          "shell.execute_reply": "2022-12-09T10:11:32.994861Z"
        }
      },
      "outputs": [
        {
          "name": "stdout",
          "output_type": "stream",
          "text": [
            "            | l_name | r_name\n",
            "^V26FYPD... | Alice  | Carol\n",
            "^YTH8WNY... | Carol  | Alice\n"
          ]
        }
      ],
      "source": [
        "same_allergies = (\n",
        "    allergies.join(\n",
        "        allergies_copy := allergies.copy(), allergies.allergy == allergies_copy.allergy\n",
        "    )\n",
        "    .select(\n",
        "        l_name=allergies.person,\n",
        "        r_name=allergies_copy.person,\n",
        "    )\n",
        "    .filter(pw.this.l_name != pw.this.r_name)\n",
        ")\n",
        "\n",
        "pw.debug.compute_and_print(same_allergies)"
      ]
    },
    {
      "cell_type": "markdown",
      "id": "4e9b4fa0",
      "metadata": {},
      "source": [
        "## Outer joins\n",
        "The difference between outer joins and joins is that the outer join adds to the result\n",
        "table also entries that didn't match:"
      ]
    },
    {
      "cell_type": "markdown",
      "id": "e5420423",
      "metadata": {
        "lines_to_next_cell": 2
      },
      "source": [
        "pw.debug.compute_and_print()"
      ]
    },
    {
      "cell_type": "code",
      "execution_count": 10,
      "id": "76868777",
      "metadata": {
        "execution": {
          "iopub.execute_input": "2022-12-09T10:11:32.996738Z",
          "iopub.status.busy": "2022-12-09T10:11:32.996571Z",
          "iopub.status.idle": "2022-12-09T10:11:32.998436Z",
          "shell.execute_reply": "2022-12-09T10:11:32.998117Z"
        }
      },
      "outputs": [],
      "source": [
        "# _MD_SHOW_left.left_join(right, conditions)"
      ]
    },
    {
      "cell_type": "markdown",
      "id": "e7601519",
      "metadata": {},
      "source": [
        "includes entries from the *left* table and"
      ]
    },
    {
      "cell_type": "code",
      "execution_count": 11,
      "id": "8185fc94",
      "metadata": {
        "execution": {
          "iopub.execute_input": "2022-12-09T10:11:32.999851Z",
          "iopub.status.busy": "2022-12-09T10:11:32.999718Z",
          "iopub.status.idle": "2022-12-09T10:11:33.001545Z",
          "shell.execute_reply": "2022-12-09T10:11:33.001222Z"
        }
      },
      "outputs": [],
      "source": [
        "# _MD_SHOW_left.right_join(right, conditions)"
      ]
    },
    {
      "cell_type": "markdown",
      "id": "18417797",
      "metadata": {},
      "source": [
        "includes entries from the *right* table."
      ]
    },
    {
      "cell_type": "markdown",
      "id": "a8ee5f83",
      "metadata": {},
      "source": [
        "### Simple example\n",
        "To demonstrate outer-joins, we can consider a question about forbidden\n",
        "breakfast configurations (i.e. pairs person-dish, such that person is\n",
        "allergic to some ingredients)."
      ]
    },
    {
      "cell_type": "code",
      "execution_count": 12,
      "id": "92479f91",
      "metadata": {
        "execution": {
          "iopub.execute_input": "2022-12-09T10:11:33.003124Z",
          "iopub.status.busy": "2022-12-09T10:11:33.002967Z",
          "iopub.status.idle": "2022-12-09T10:11:33.022835Z",
          "shell.execute_reply": "2022-12-09T10:11:33.022478Z"
        }
      },
      "outputs": [
        {
          "name": "stdout",
          "output_type": "stream",
          "text": [
            "            | name  | allergy\n",
            "^CEESHNP... | Alice | milk\n",
            "^GKYNQB3... | Bob   | eggs\n",
            "^MCCDMWQ... | Carol | milk\n",
            "^28382DM... | Carol | peanuts\n",
            "^C4VQQCA... | Dan   |\n",
            "            | name  | dish\n",
            "^Y4H9YJC... | Alice | jam_pb_pancakes\n",
            "^MHQRNFF... | Alice | pancakes_with_jam\n",
            "^4DQ4S80... | Bob   | jam_pb_pancakes\n",
            "^XPGS5EQ... | Bob   | pancakes_with_jam\n",
            "^63EGDX6... | Bob   | scrambled_egg\n",
            "^YZ60CRJ... | Carol | jam_pb_pancakes\n",
            "^K3K3E16... | Carol | jam_pb_pancakes\n",
            "^M6FZ6K4... | Carol | pancakes_with_jam\n",
            "^RN5X9SH... | Carol | pb_jam_sandwich\n",
            "^56TWKCC... | Dan   |\n"
          ]
        }
      ],
      "source": [
        "people_allergies = friends.left_join(\n",
        "    allergies, friends.name == allergies.person\n",
        ").select(friends.name, allergies.allergy)\n",
        "pw.debug.compute_and_print(people_allergies)\n",
        "\n",
        "forbidden_breakfast = people_allergies.left_join(\n",
        "    allergens_in_menu, people_allergies.allergy == allergens_in_menu.allergen\n",
        ").select(people_allergies.name, allergens_in_menu.dish)\n",
        "pw.debug.compute_and_print(forbidden_breakfast)"
      ]
    },
    {
      "cell_type": "markdown",
      "id": "2293e278",
      "metadata": {},
      "source": [
        "Now, as we can see, the table has duplicate rows. This is intended behavior, as\n",
        "a particular person can be allergic to more than one ingredient. In other words,\n",
        "when we add a reason column to our result table, we can see that each row was\n",
        "included in the table above for a different reason."
      ]
    },
    {
      "cell_type": "code",
      "execution_count": 13,
      "id": "0b3d68f7",
      "metadata": {
        "execution": {
          "iopub.execute_input": "2022-12-09T10:11:33.024338Z",
          "iopub.status.busy": "2022-12-09T10:11:33.024174Z",
          "iopub.status.idle": "2022-12-09T10:11:33.039228Z",
          "shell.execute_reply": "2022-12-09T10:11:33.038883Z"
        },
        "lines_to_next_cell": 2
      },
      "outputs": [
        {
          "name": "stdout",
          "output_type": "stream",
          "text": [
            "            | name  | dish              | reason\n",
            "^Y4H9YJC... | Alice | jam_pb_pancakes   | milk\n",
            "^MHQRNFF... | Alice | pancakes_with_jam | milk\n",
            "^4DQ4S80... | Bob   | jam_pb_pancakes   | eggs\n",
            "^XPGS5EQ... | Bob   | pancakes_with_jam | eggs\n",
            "^63EGDX6... | Bob   | scrambled_egg     | eggs\n",
            "^YZ60CRJ... | Carol | jam_pb_pancakes   | milk\n",
            "^K3K3E16... | Carol | jam_pb_pancakes   | peanuts\n",
            "^M6FZ6K4... | Carol | pancakes_with_jam | milk\n",
            "^RN5X9SH... | Carol | pb_jam_sandwich   | peanuts\n",
            "^56TWKCC... | Dan   |                   |\n"
          ]
        }
      ],
      "source": [
        "forbidden_breakfast = people_allergies.left_join(\n",
        "    allergens_in_menu, people_allergies.allergy == allergens_in_menu.allergen\n",
        ").select(\n",
        "    people_allergies.name, allergens_in_menu.dish, reason=allergens_in_menu.allergen\n",
        ")\n",
        "pw.debug.compute_and_print(forbidden_breakfast)"
      ]
    },
    {
      "cell_type": "markdown",
      "id": "a445a83c",
      "metadata": {},
      "source": [
        "### Removing duplicates\n",
        "If we really want to have a table without the 'reason' column and without\n",
        "duplicates, we can achieve that with extra `groupby` and `reduce` :"
      ]
    },
    {
      "cell_type": "code",
      "execution_count": 14,
      "id": "2c333d56",
      "metadata": {
        "execution": {
          "iopub.execute_input": "2022-12-09T10:11:33.040738Z",
          "iopub.status.busy": "2022-12-09T10:11:33.040559Z",
          "iopub.status.idle": "2022-12-09T10:11:33.058818Z",
          "shell.execute_reply": "2022-12-09T10:11:33.058458Z"
        }
      },
      "outputs": [
        {
          "name": "stdout",
          "output_type": "stream",
          "text": [
            "            | name  | dish\n",
            "^M8E4DFK... | Alice | jam_pb_pancakes\n",
            "^JMHBFKG... | Alice | pancakes_with_jam\n",
            "^AN7YRTF... | Bob   | jam_pb_pancakes\n",
            "^GZ0TEZ6... | Bob   | pancakes_with_jam\n",
            "^W8AZSTG... | Bob   | scrambled_egg\n",
            "^DBZV8YR... | Carol | jam_pb_pancakes\n",
            "^N585E7A... | Carol | pancakes_with_jam\n",
            "^9DJG3GD... | Carol | pb_jam_sandwich\n",
            "^30JAJCE... | Dan   |\n"
          ]
        }
      ],
      "source": [
        "forbidden_breakfast = people_allergies.left_join(\n",
        "    allergens_in_menu, people_allergies.allergy == allergens_in_menu.allergen\n",
        ").select(people_allergies.name, allergens_in_menu.dish)\n",
        "\n",
        "forbidden_breakfast_no_duplicates = forbidden_breakfast.groupby(\n",
        "    forbidden_breakfast.name, forbidden_breakfast.dish\n",
        ").reduce(forbidden_breakfast.name, forbidden_breakfast.dish)\n",
        "\n",
        "pw.debug.compute_and_print(forbidden_breakfast_no_duplicates)"
      ]
    },
    {
      "cell_type": "markdown",
      "id": "681fb379",
      "metadata": {},
      "source": [
        "That simple application of groupby-reduce combination essentially selects\n",
        "unique set of pairs (name, dish) from our table. More on the reduce-groupby operations\n",
        "can be found in the reduce-groupby [manual](/developers/documentation/table-operations/groupby-reduce-manual)."
      ]
    },
    {
      "cell_type": "markdown",
      "id": "fc020310",
      "metadata": {},
      "source": [
        "### Computed and omitted columns.\n",
        "Because left join operation returns rows from the left table, even if there is no\n",
        "match in the right column, some columns can't be computed.\n",
        "\n",
        "**The left join computes values in all columns that can be\n",
        "computed, and leaves all the remaining columns empty.**\n",
        "\n",
        "As an example, we can consider a modified variant of the `bad_match_note` table.\n",
        "The modification is that we want to include all the\n",
        "people, and additionally we want to display their budget."
      ]
    },
    {
      "cell_type": "markdown",
      "id": "39a298a3",
      "metadata": {},
      "source": [
        "To that end, it is enough that we join the `friends` table with the `bad_match` table, as\n",
        "together they include all necessary information."
      ]
    },
    {
      "cell_type": "code",
      "execution_count": 15,
      "id": "8cde1540",
      "metadata": {
        "execution": {
          "iopub.execute_input": "2022-12-09T10:11:33.060432Z",
          "iopub.status.busy": "2022-12-09T10:11:33.060269Z",
          "iopub.status.idle": "2022-12-09T10:11:33.081124Z",
          "shell.execute_reply": "2022-12-09T10:11:33.080772Z"
        }
      },
      "outputs": [
        {
          "name": "stdout",
          "output_type": "stream",
          "text": [
            "            | name  | budget | note\n",
            "^B74N75K... | Alice | 13     | Alice can't eat jam_pb_pancakes.\n",
            "^YZBNRSA... | Alice | 13     | Alice can't eat pancakes_with_jam.\n",
            "^Z8QGSEZ... | Bob   | 10     | Bob can't eat jam_pb_pancakes.\n",
            "^CHHK1Q9... | Bob   | 10     | Bob can't eat pancakes_with_jam.\n",
            "^DHWEFAB... | Bob   | 10     | Bob can't eat scrambled_egg.\n",
            "^2SGPETY... | Carol | 11     | Carol can't eat jam_pb_pancakes.\n",
            "^ADRQJVA... | Carol | 11     | Carol can't eat jam_pb_pancakes.\n",
            "^JCXPCDF... | Carol | 11     | Carol can't eat pancakes_with_jam.\n",
            "^H2S7YN7... | Carol | 11     | Carol can't eat pb_jam_sandwich.\n",
            "^C4VQQCA... | Dan   | 12     | Dan can't eat None.\n"
          ]
        }
      ],
      "source": [
        "basic_customer_info = friends.left_join(\n",
        "    bad_match, friends.name == bad_match.person\n",
        ").select(\n",
        "    friends.name,\n",
        "    friends.budget,\n",
        "    note=pw.apply(make_food_constraint_note, friends.name, bad_match.dish),\n",
        ")\n",
        "pw.debug.compute_and_print(basic_customer_info)"
      ]
    },
    {
      "cell_type": "markdown",
      "id": "cd5c666b",
      "metadata": {},
      "source": [
        "To once again demonstrate the behavior, let us change `friends.name` to\n",
        "`bad_match.person` in the select part of our code."
      ]
    },
    {
      "cell_type": "code",
      "execution_count": 16,
      "id": "1f529a99",
      "metadata": {
        "execution": {
          "iopub.execute_input": "2022-12-09T10:11:33.082693Z",
          "iopub.status.busy": "2022-12-09T10:11:33.082525Z",
          "iopub.status.idle": "2022-12-09T10:11:33.106920Z",
          "shell.execute_reply": "2022-12-09T10:11:33.106546Z"
        }
      },
      "outputs": [
        {
          "name": "stdout",
          "output_type": "stream",
          "text": [
            "            | person | budget | note\n",
            "^C4VQQCA... |        | 12     | Dan can't eat None.\n",
            "^B74N75K... | Alice  | 13     | Alice can't eat jam_pb_pancakes.\n",
            "^YZBNRSA... | Alice  | 13     | Alice can't eat pancakes_with_jam.\n",
            "^Z8QGSEZ... | Bob    | 10     | Bob can't eat jam_pb_pancakes.\n",
            "^CHHK1Q9... | Bob    | 10     | Bob can't eat pancakes_with_jam.\n",
            "^DHWEFAB... | Bob    | 10     | Bob can't eat scrambled_egg.\n",
            "^2SGPETY... | Carol  | 11     | Carol can't eat jam_pb_pancakes.\n",
            "^ADRQJVA... | Carol  | 11     | Carol can't eat jam_pb_pancakes.\n",
            "^JCXPCDF... | Carol  | 11     | Carol can't eat pancakes_with_jam.\n",
            "^H2S7YN7... | Carol  | 11     | Carol can't eat pb_jam_sandwich.\n"
          ]
        }
      ],
      "source": [
        "basic_customer_info = friends.left_join(\n",
        "    bad_match, friends.name == bad_match.person\n",
        ").select(\n",
        "    bad_match.person,\n",
        "    friends.budget,\n",
        "    note=pw.apply(make_food_constraint_note, friends.name, bad_match.dish),\n",
        ")\n",
        "pw.debug.compute_and_print(basic_customer_info)"
      ]
    },
    {
      "cell_type": "markdown",
      "id": "8782dc78",
      "metadata": {},
      "source": [
        "Now, the cell that earlier included Dan is empty, as value of this column is defined\n",
        "by column in `bad_match` table. Since there is no match, person was not filled in.\n",
        "Budget is still computable though, hence it is still present."
      ]
    },
    {
      "cell_type": "markdown",
      "id": "a5fde528",
      "metadata": {},
      "source": [
        "### On right joins\n",
        "In the examples above, we only relied on `left_join`. The `right_join` operation is quite\n",
        "similar in its behavior. Namely,"
      ]
    },
    {
      "cell_type": "code",
      "execution_count": 17,
      "id": "15e913e3",
      "metadata": {
        "execution": {
          "iopub.execute_input": "2022-12-09T10:11:33.108591Z",
          "iopub.status.busy": "2022-12-09T10:11:33.108423Z",
          "iopub.status.idle": "2022-12-09T10:11:33.134655Z",
          "shell.execute_reply": "2022-12-09T10:11:33.134304Z"
        }
      },
      "outputs": [
        {
          "name": "stdout",
          "output_type": "stream",
          "text": [
            "            | name  | allergy\n",
            "^CEESHNP... | Alice | milk\n",
            "^GKYNQB3... | Bob   | eggs\n",
            "^MCCDMWQ... | Carol | milk\n",
            "^28382DM... | Carol | peanuts\n",
            "^C4VQQCA... | Dan   |\n"
          ]
        }
      ],
      "source": [
        "people_allergies = friends.left_join(\n",
        "    allergies, friends.name == allergies.person\n",
        ").select(friends.name, allergies.allergy)\n",
        "pw.debug.compute_and_print(people_allergies)"
      ]
    },
    {
      "cell_type": "markdown",
      "id": "c2daae9c",
      "metadata": {},
      "source": [
        "is almost (except for auto-generated IDs) equivalent to"
      ]
    },
    {
      "cell_type": "code",
      "execution_count": 18,
      "id": "e5165aac",
      "metadata": {
        "execution": {
          "iopub.execute_input": "2022-12-09T10:11:33.136279Z",
          "iopub.status.busy": "2022-12-09T10:11:33.136108Z",
          "iopub.status.idle": "2022-12-09T10:11:33.165551Z",
          "shell.execute_reply": "2022-12-09T10:11:33.165180Z"
        }
      },
      "outputs": [
        {
          "name": "stdout",
          "output_type": "stream",
          "text": [
            "            | name  | allergy\n",
            "^AHH9C80... | Alice | milk\n",
            "^2BR8WRG... | Bob   | eggs\n",
            "^Y5CAVAS... | Carol | milk\n",
            "^WQENVG9... | Carol | peanuts\n",
            "^EKEF7R7... | Dan   |\n"
          ]
        }
      ],
      "source": [
        "people_allergies = allergies.right_join(\n",
        "    friends, allergies.person == friends.name\n",
        ").select(friends.name, allergies.allergy)\n",
        "pw.debug.compute_and_print(people_allergies)"
      ]
    },
    {
      "cell_type": "markdown",
      "id": "34654a99",
      "metadata": {},
      "source": [
        "When we join two tables, the only difference is in syntax - since allergies is\n",
        "the table on which we call `join_right`, it must be first argument\n",
        "in the join condition, i.e. it is"
      ]
    },
    {
      "cell_type": "code",
      "execution_count": 19,
      "id": "792706bc",
      "metadata": {
        "execution": {
          "iopub.execute_input": "2022-12-09T10:11:33.167244Z",
          "iopub.status.busy": "2022-12-09T10:11:33.167066Z",
          "iopub.status.idle": "2022-12-09T10:11:33.169027Z",
          "shell.execute_reply": "2022-12-09T10:11:33.168692Z"
        }
      },
      "outputs": [],
      "source": [
        "# _MD_SHOW_allergies.person == friends.name"
      ]
    },
    {
      "cell_type": "markdown",
      "id": "a3067774",
      "metadata": {},
      "source": [
        "as opposed to"
      ]
    },
    {
      "cell_type": "code",
      "execution_count": 20,
      "id": "01646f78",
      "metadata": {
        "execution": {
          "iopub.execute_input": "2022-12-09T10:11:33.170579Z",
          "iopub.status.busy": "2022-12-09T10:11:33.170417Z",
          "iopub.status.idle": "2022-12-09T10:11:33.172299Z",
          "shell.execute_reply": "2022-12-09T10:11:33.171976Z"
        }
      },
      "outputs": [],
      "source": [
        "# _MD_SHOW_friends.name == allergies.person"
      ]
    },
    {
      "cell_type": "markdown",
      "id": "bd4edcbf",
      "metadata": {},
      "source": [
        "used in the `left_join`."
      ]
    },
    {
      "cell_type": "markdown",
      "id": "6ff8f420",
      "metadata": {},
      "source": [
        "### On full outer joins.\n",
        "The `outer_join` operation is a full outer join, which means that"
      ]
    },
    {
      "cell_type": "code",
      "execution_count": 21,
      "id": "80df0a4b",
      "metadata": {
        "execution": {
          "iopub.execute_input": "2022-12-09T10:11:33.173895Z",
          "iopub.status.busy": "2022-12-09T10:11:33.173735Z",
          "iopub.status.idle": "2022-12-09T10:11:33.175607Z",
          "shell.execute_reply": "2022-12-09T10:11:33.175287Z"
        }
      },
      "outputs": [],
      "source": [
        "# _MD_SHOW_left.outer_join(right, *on)"
      ]
    },
    {
      "cell_type": "markdown",
      "id": "7142828f",
      "metadata": {},
      "source": [
        "not only show the pairs of rows form left and right that meet the condition\n",
        "in `*on`, but also rows that didn't get matched with any other row,\n",
        "from both `left` and `right` table. To demonstrate this operation, let\n",
        "us introduce another group of friends and find out, for each person in a group,\n",
        "whether the other group has any people with the same name."
      ]
    },
    {
      "cell_type": "code",
      "execution_count": 22,
      "id": "2ccbd342",
      "metadata": {
        "execution": {
          "iopub.execute_input": "2022-12-09T10:11:33.177248Z",
          "iopub.status.busy": "2022-12-09T10:11:33.176997Z",
          "iopub.status.idle": "2022-12-09T10:11:33.181455Z",
          "shell.execute_reply": "2022-12-09T10:11:33.181104Z"
        }
      },
      "outputs": [],
      "source": [
        "other_group = pw.debug.table_from_markdown(\n",
        "    \"\"\"\n",
        "    | name  |budget\n",
        "  5 | Bob   | 12\n",
        "  6 | Carol | 14\n",
        "  7 | Eve   | 12\n",
        " \"\"\"\n",
        ")"
      ]
    },
    {
      "cell_type": "code",
      "execution_count": 23,
      "id": "7d0c9f39",
      "metadata": {
        "execution": {
          "iopub.execute_input": "2022-12-09T10:11:33.182839Z",
          "iopub.status.busy": "2022-12-09T10:11:33.182704Z",
          "iopub.status.idle": "2022-12-09T10:11:33.223047Z",
          "shell.execute_reply": "2022-12-09T10:11:33.222670Z"
        },
        "lines_to_next_cell": 2
      },
      "outputs": [
        {
          "name": "stdout",
          "output_type": "stream",
          "text": [
            "            | l_name | l_id        | r_name | r_id\n",
            "^84AERN4... |        |             | Eve    | ^19D0FQ9...\n",
            "^HBBDER2... | Alice  | ^2TMTFGY... |        |\n",
            "^1Y14E07... | Bob    | ^YHZBTNY... | Bob    | ^76QPWK3...\n",
            "^7RXQ0Z1... | Carol  | ^SERVYWW... | Carol  | ^C4S6S48...\n",
            "^C4VQQCA... | Dan    | ^8GR6BSX... |        |\n"
          ]
        }
      ],
      "source": [
        "pw.debug.compute_and_print(\n",
        "    friends.outer_join(other_group, friends.name == other_group.name).select(\n",
        "        l_name=friends.name,\n",
        "        l_id=friends.id,\n",
        "        r_name=other_group.name,\n",
        "        r_id=other_group.id,\n",
        "    )\n",
        ")"
      ]
    },
    {
      "cell_type": "markdown",
      "id": "b4d3c338",
      "metadata": {},
      "source": [
        "## ID inheritance in join\n",
        "Full (yet still informal) syntax of join is:"
      ]
    },
    {
      "cell_type": "code",
      "execution_count": 24,
      "id": "a93068bc",
      "metadata": {
        "execution": {
          "iopub.execute_input": "2022-12-09T10:11:33.225245Z",
          "iopub.status.busy": "2022-12-09T10:11:33.225063Z",
          "iopub.status.idle": "2022-12-09T10:11:33.227080Z",
          "shell.execute_reply": "2022-12-09T10:11:33.226762Z"
        }
      },
      "outputs": [],
      "source": [
        "# _MD_SHOW_table.join(other, *on, id = None)"
      ]
    },
    {
      "cell_type": "markdown",
      "id": "8e26bf1c",
      "metadata": {},
      "source": [
        "where\n",
        "* `table` and `other` are tables to be joined,\n",
        "* `*on` is a list of conditions of form:"
      ]
    },
    {
      "cell_type": "code",
      "execution_count": 25,
      "id": "9dad1f50",
      "metadata": {
        "execution": {
          "iopub.execute_input": "2022-12-09T10:11:33.229078Z",
          "iopub.status.busy": "2022-12-09T10:11:33.228901Z",
          "iopub.status.idle": "2022-12-09T10:11:33.230786Z",
          "shell.execute_reply": "2022-12-09T10:11:33.230469Z"
        }
      },
      "outputs": [],
      "source": [
        "# _MD_SHOW_table.some_column == other.some_other_column"
      ]
    },
    {
      "cell_type": "markdown",
      "id": "331dc2f7",
      "metadata": {},
      "source": [
        "* optional `id` can be set to either table.id or other.id\n",
        "\n",
        "Whenever `id` argument is not none, join will try to use the column passed in\n",
        "id argument as new id in the result of join.\n",
        "This operation will succeed only when there is a guarantee that resulting joined table\n",
        "has no multiple rows with the same id-to-inherit.\n",
        "\n",
        "Below you can find three examples - one successful and two failed id inheritance.\n",
        "First, let us see what are the id-s of the original tables."
      ]
    },
    {
      "cell_type": "code",
      "execution_count": 26,
      "id": "b24fc83e",
      "metadata": {
        "execution": {
          "iopub.execute_input": "2022-12-09T10:11:33.232404Z",
          "iopub.status.busy": "2022-12-09T10:11:33.232246Z",
          "iopub.status.idle": "2022-12-09T10:11:33.296505Z",
          "shell.execute_reply": "2022-12-09T10:11:33.296091Z"
        }
      },
      "outputs": [
        {
          "name": "stdout",
          "output_type": "stream",
          "text": [
            "            | name  | budget\n",
            "^2TMTFGY... | Alice | 13\n",
            "^YHZBTNY... | Bob   | 10\n",
            "^SERVYWW... | Carol | 11\n",
            "^8GR6BSX... | Dan   | 12\n"
          ]
        },
        {
          "name": "stdout",
          "output_type": "stream",
          "text": [
            "            | person | allergy\n",
            "^SP3EQAR... | Alice  | milk\n",
            "^H9SEXTP... | Bob    | eggs\n",
            "^CWQ381T... | Carol  | milk\n",
            "^9PXHKBD... | Carol  | peanuts\n"
          ]
        }
      ],
      "source": [
        "pw.debug.compute_and_print(friends)\n",
        "pw.debug.compute_and_print(allergies)"
      ]
    },
    {
      "cell_type": "markdown",
      "id": "3d946954",
      "metadata": {},
      "source": [
        "### Successful id inheritance\n",
        "Let us try a join that inherits id-s from table `allergies`."
      ]
    },
    {
      "cell_type": "code",
      "execution_count": 27,
      "id": "817f8a91",
      "metadata": {
        "execution": {
          "iopub.execute_input": "2022-12-09T10:11:33.298505Z",
          "iopub.status.busy": "2022-12-09T10:11:33.298233Z",
          "iopub.status.idle": "2022-12-09T10:11:33.332718Z",
          "shell.execute_reply": "2022-12-09T10:11:33.332348Z"
        }
      },
      "outputs": [
        {
          "name": "stdout",
          "output_type": "stream",
          "text": [
            "            | name  | allergy | budget\n",
            "^SP3EQAR... | Alice | milk    | 13\n",
            "^H9SEXTP... | Bob   | eggs    | 10\n",
            "^CWQ381T... | Carol | milk    | 11\n",
            "^9PXHKBD... | Carol | peanuts | 11\n"
          ]
        }
      ],
      "source": [
        "pw.debug.compute_and_print(\n",
        "    allergies.join(friends, allergies.person == friends.name, id=allergies.id).select(\n",
        "        friends.name, allergies.allergy, friends.budget\n",
        "    )\n",
        ")"
      ]
    },
    {
      "cell_type": "markdown",
      "id": "bef45c25",
      "metadata": {},
      "source": [
        "As we can see, the id column is the same as in the `friends` table,\n",
        "which was not the case when the id parameter is not set."
      ]
    },
    {
      "cell_type": "code",
      "execution_count": 28,
      "id": "6ceb52b4",
      "metadata": {
        "execution": {
          "iopub.execute_input": "2022-12-09T10:11:33.334452Z",
          "iopub.status.busy": "2022-12-09T10:11:33.334305Z",
          "iopub.status.idle": "2022-12-09T10:11:33.368904Z",
          "shell.execute_reply": "2022-12-09T10:11:33.368546Z"
        }
      },
      "outputs": [
        {
          "name": "stdout",
          "output_type": "stream",
          "text": [
            "            | name  | allergy | budget\n",
            "^SP3EQAR... | Alice | milk    | 13\n",
            "^H9SEXTP... | Bob   | eggs    | 10\n",
            "^CWQ381T... | Carol | milk    | 11\n",
            "^9PXHKBD... | Carol | peanuts | 11\n"
          ]
        }
      ],
      "source": [
        "pw.debug.compute_and_print(\n",
        "    allergies.join(friends, allergies.person == friends.name, id=allergies.id).select(\n",
        "        friends.name, allergies.allergy, friends.budget\n",
        "    )\n",
        ")"
      ]
    },
    {
      "cell_type": "markdown",
      "id": "38834c10",
      "metadata": {},
      "source": [
        "### Failed id inheritance: duplicate id-s\n",
        "The first possible problem with inheriting id is that one row of the source table\n",
        "could be matched with several entries of the other table. The code below will\n",
        "cause such problem, and will raise a KeyError."
      ]
    },
    {
      "cell_type": "code",
      "execution_count": 29,
      "id": "694cc9a8",
      "metadata": {
        "execution": {
          "iopub.execute_input": "2022-12-09T10:11:33.370582Z",
          "iopub.status.busy": "2022-12-09T10:11:33.370402Z",
          "iopub.status.idle": "2022-12-09T10:11:33.372340Z",
          "shell.execute_reply": "2022-12-09T10:11:33.372034Z"
        }
      },
      "outputs": [],
      "source": [
        "# _MD_SHOW_pw.debug.compute_and_print(\n",
        "# _MD_SHOW_    allergies.join(friends, allergies.person == friends.name, id=friends.id).select(\n",
        "# _MD_SHOW_        friends.name, allergies.allergy\n",
        "# _MD_SHOW_    )\n",
        "# _MD_SHOW_)\n",
        "# _MD_SHOW_[stacktrace...]\n",
        "# _MD_SHOW_KeyError: 'duplicate key: ^SERVYWW6KDGEQ2WVZ3ZZB86VSR'"
      ]
    },
    {
      "cell_type": "markdown",
      "id": "86906f7b",
      "metadata": {
        "lines_to_next_cell": 2
      },
      "source": [
        "### Failed id inheritance: empty id-s\n",
        "Finally, if we consider outer joins between those two tables, we\n",
        "may encounter a situation in which we need to assign id that is empty in the join result:"
      ]
    },
    {
      "cell_type": "code",
      "execution_count": 30,
      "id": "0840f699",
      "metadata": {
        "execution": {
          "iopub.execute_input": "2022-12-09T10:11:33.373895Z",
          "iopub.status.busy": "2022-12-09T10:11:33.373633Z",
          "iopub.status.idle": "2022-12-09T10:11:33.414820Z",
          "shell.execute_reply": "2022-12-09T10:11:33.414391Z"
        }
      },
      "outputs": [
        {
          "name": "stdout",
          "output_type": "stream",
          "text": [
            "            | name  | allergy | allergies_id\n",
            "^AHH9C80... | Alice | milk    | ^SP3EQAR...\n",
            "^2BR8WRG... | Bob   | eggs    | ^H9SEXTP...\n",
            "^Y5CAVAS... | Carol | milk    | ^CWQ381T...\n",
            "^WQENVG9... | Carol | peanuts | ^9PXHKBD...\n",
            "^EKEF7R7... | Dan   |         |\n"
          ]
        }
      ],
      "source": [
        "pw.debug.compute_and_print(\n",
        "    allergies.right_join(friends, allergies.person == friends.name).select(\n",
        "        friends.name, allergies.allergy, allergies_id=allergies.id\n",
        "    )\n",
        ")"
      ]
    },
    {
      "cell_type": "markdown",
      "id": "def2aa4d",
      "metadata": {},
      "source": [
        "As we can see, the `allergies_id` field is not set for Dan's entry. If we try to use\n",
        "allergies.id as the `id` parameter, we will encounter TypeError."
      ]
    },
    {
      "cell_type": "code",
      "execution_count": 31,
      "id": "488a2593",
      "metadata": {
        "execution": {
          "iopub.execute_input": "2022-12-09T10:11:33.416815Z",
          "iopub.status.busy": "2022-12-09T10:11:33.416657Z",
          "iopub.status.idle": "2022-12-09T10:11:33.418691Z",
          "shell.execute_reply": "2022-12-09T10:11:33.418378Z"
        }
      },
      "outputs": [],
      "source": [
        "# _MD_SHOW_pw.debug.compute_and_print(\n",
        "# _MD_SHOW_    allergies.right_join(\n",
        "# _MD_SHOW_        friends, allergies.person == friends.name, id=allergies.id\n",
        "# _MD_SHOW_    ).select(friends.name, allergies.allergy, allergies_id=allergies.id)\n",
        "# _MD_SHOW_)\n",
        "# _MD_SHOW_[stacktrace...]\n",
        "# _MD_SHOW_TypeError: type mismatch: expected a pointer, got None"
      ]
    },
    {
      "cell_type": "markdown",
      "id": "7aa3e0bc",
      "metadata": {},
      "source": [
        "## Joins on a foreign key\n",
        "In Pathway id column is auto-generated, and as such joining over foreign key kept in\n",
        "some other table requires extra care. Let's assume that we have another table `likes`\n",
        "that indicates that a friend (`row in friends`) likes some particular dish (row in `menu`)."
      ]
    },
    {
      "cell_type": "code",
      "execution_count": 32,
      "id": "66376309",
      "metadata": {
        "execution": {
          "iopub.execute_input": "2022-12-09T10:11:33.420396Z",
          "iopub.status.busy": "2022-12-09T10:11:33.420229Z",
          "iopub.status.idle": "2022-12-09T10:11:33.424539Z",
          "shell.execute_reply": "2022-12-09T10:11:33.424221Z"
        }
      },
      "outputs": [],
      "source": [
        "likes = pw.debug.table_from_markdown(\n",
        "    \"\"\"\n",
        "    | f_id  | m_id\n",
        "100 | 1     | 11\n",
        "101 | 1     | 13\n",
        "102 | 2     | 12\n",
        "103 | 2     | 13\n",
        "104 | 3     | 11\n",
        "105 | 3     | 14\n",
        "106 | 3     | 13\n",
        "107 | 4     | 12\n",
        "108 | 4     | 14\n",
        "\"\"\"\n",
        ")"
      ]
    },
    {
      "cell_type": "markdown",
      "id": "7247aec4",
      "metadata": {},
      "source": [
        "Without further specification, Pathway treats columns f_id and m_id as numbers:"
      ]
    },
    {
      "cell_type": "code",
      "execution_count": 33,
      "id": "1544374d",
      "metadata": {
        "execution": {
          "iopub.execute_input": "2022-12-09T10:11:33.426357Z",
          "iopub.status.busy": "2022-12-09T10:11:33.426066Z",
          "iopub.status.idle": "2022-12-09T10:11:33.465767Z",
          "shell.execute_reply": "2022-12-09T10:11:33.465345Z"
        }
      },
      "outputs": [
        {
          "name": "stdout",
          "output_type": "stream",
          "text": [
            "            | f_id | m_id\n",
            "^M1T2QKJ... | 1    | 11\n",
            "^4RH155M... | 1    | 13\n",
            "^YQ30FHF... | 2    | 12\n",
            "^AMFB2M6... | 2    | 13\n",
            "^7J00RXZ... | 3    | 11\n",
            "^NZSWGHA... | 3    | 13\n",
            "^FCVQG87... | 3    | 14\n",
            "^V771XE5... | 4    | 12\n",
            "^0HAWE8Q... | 4    | 14\n"
          ]
        }
      ],
      "source": [
        "pw.debug.compute_and_print(likes)"
      ]
    },
    {
      "cell_type": "markdown",
      "id": "ce582f2c",
      "metadata": {},
      "source": [
        "while the id of tables `friends` and `menu` was converted to Pointer.\n"
      ]
    },
    {
      "cell_type": "code",
      "execution_count": 34,
      "id": "f9daea12",
      "metadata": {
        "execution": {
          "iopub.execute_input": "2022-12-09T10:11:33.467657Z",
          "iopub.status.busy": "2022-12-09T10:11:33.467516Z",
          "iopub.status.idle": "2022-12-09T10:11:33.543340Z",
          "shell.execute_reply": "2022-12-09T10:11:33.542924Z"
        }
      },
      "outputs": [
        {
          "name": "stdout",
          "output_type": "stream",
          "text": [
            "            | name  | budget\n",
            "^2TMTFGY... | Alice | 13\n",
            "^YHZBTNY... | Bob   | 10\n",
            "^SERVYWW... | Carol | 11\n",
            "^8GR6BSX... | Dan   | 12\n"
          ]
        },
        {
          "name": "stdout",
          "output_type": "stream",
          "text": [
            "            | dish              | price\n",
            "^VYA37VV... | jam_pb_pancakes   | 12\n",
            "^HMETZT8... | pancakes_with_jam | 11\n",
            "^4B2REY1... | pb_jam_sandwich   | 9\n",
            "^SE0WWPZ... | scrambled_egg     | 11\n"
          ]
        }
      ],
      "source": [
        "pw.debug.compute_and_print(friends)\n",
        "pw.debug.compute_and_print(menu)"
      ]
    },
    {
      "cell_type": "markdown",
      "id": "23571d2e",
      "metadata": {},
      "source": [
        "\n",
        "To handle joins using those columns, we can use pointer_from function"
      ]
    },
    {
      "cell_type": "code",
      "execution_count": 35,
      "id": "f4256685",
      "metadata": {
        "execution": {
          "iopub.execute_input": "2022-12-09T10:11:33.545443Z",
          "iopub.status.busy": "2022-12-09T10:11:33.545110Z",
          "iopub.status.idle": "2022-12-09T10:11:33.631404Z",
          "shell.execute_reply": "2022-12-09T10:11:33.630981Z"
        }
      },
      "outputs": [
        {
          "name": "stdout",
          "output_type": "stream",
          "text": [
            "            | f_id | m_id | f_id_ptr    | m_id_ptr\n",
            "^M1T2QKJ... | 1    | 11   | ^2TMTFGY... | ^HMETZT8...\n",
            "^4RH155M... | 1    | 13   | ^2TMTFGY... | ^VYA37VV...\n",
            "^YQ30FHF... | 2    | 12   | ^YHZBTNY... | ^4B2REY1...\n",
            "^AMFB2M6... | 2    | 13   | ^YHZBTNY... | ^VYA37VV...\n",
            "^7J00RXZ... | 3    | 11   | ^SERVYWW... | ^HMETZT8...\n",
            "^NZSWGHA... | 3    | 13   | ^SERVYWW... | ^VYA37VV...\n",
            "^FCVQG87... | 3    | 14   | ^SERVYWW... | ^SE0WWPZ...\n",
            "^V771XE5... | 4    | 12   | ^8GR6BSX... | ^4B2REY1...\n",
            "^0HAWE8Q... | 4    | 14   | ^8GR6BSX... | ^SE0WWPZ...\n"
          ]
        }
      ],
      "source": [
        "likes += likes.select(\n",
        "    f_id_ptr=friends.pointer_from(likes.f_id),\n",
        "    m_id_ptr=menu.pointer_from(likes.m_id),\n",
        ")\n",
        "pw.debug.compute_and_print(likes)"
      ]
    },
    {
      "cell_type": "markdown",
      "id": "0faa81fa",
      "metadata": {},
      "source": [
        "An [example of code](#long-chain-example) joining `friends` with `menu` using `likes`\n",
        "is presented the next section on chaining joins."
      ]
    },
    {
      "cell_type": "markdown",
      "id": "3b4141a4",
      "metadata": {},
      "source": [
        "## Chaining joins:\n",
        "Pathway provides two ways of chaining joins. The first relies on usage of pw.this,\n",
        "the second allows for slightly more compact code. Below, we focus on chaining joins\n",
        "using `pw.this`.\n",
        "\n",
        " ### Simple join chaining\n",
        "Below, we show how to chain joins using pw.this. To show how it can be used, we revisit\n",
        "the first example of left_join, in which we computed a left_join on a table\n",
        "that was obtained by another left_join. Instead of storing the result of the first\n",
        "left_join in people_allergies, we can use the following:"
      ]
    },
    {
      "cell_type": "code",
      "execution_count": 36,
      "id": "66aef21a",
      "metadata": {
        "execution": {
          "iopub.execute_input": "2022-12-09T10:11:33.633504Z",
          "iopub.status.busy": "2022-12-09T10:11:33.633322Z",
          "iopub.status.idle": "2022-12-09T10:11:33.683582Z",
          "shell.execute_reply": "2022-12-09T10:11:33.683158Z"
        }
      },
      "outputs": [
        {
          "name": "stdout",
          "output_type": "stream",
          "text": [
            "            | name  | dish\n",
            "^Y4H9YJC... | Alice | jam_pb_pancakes\n",
            "^MHQRNFF... | Alice | pancakes_with_jam\n",
            "^4DQ4S80... | Bob   | jam_pb_pancakes\n",
            "^XPGS5EQ... | Bob   | pancakes_with_jam\n",
            "^63EGDX6... | Bob   | scrambled_egg\n",
            "^YZ60CRJ... | Carol | jam_pb_pancakes\n",
            "^K3K3E16... | Carol | jam_pb_pancakes\n",
            "^M6FZ6K4... | Carol | pancakes_with_jam\n",
            "^RN5X9SH... | Carol | pb_jam_sandwich\n",
            "^56TWKCC... | Dan   |\n"
          ]
        }
      ],
      "source": [
        "pw.debug.compute_and_print(\n",
        "    friends.left_join(allergies, friends.name == allergies.person)\n",
        "    .select(friends.name, allergies.allergy, friends.budget)\n",
        "    .left_join(allergens_in_menu, pw.left.allergy == pw.right.allergen)\n",
        "    .select(pw.this.name, allergens_in_menu.dish)\n",
        ")"
      ]
    },
    {
      "cell_type": "markdown",
      "id": "58183448",
      "metadata": {
        "lines_to_next_cell": 2
      },
      "source": [
        "Essentially, in the context of joins pw.this allows us to address the table\n",
        "computed by\n",
        "\n",
        "      friends.left_join(allergies, friends.name == allergies.person\n",
        "          ).select(friends.name, allergies.allergy)\n",
        "\n",
        "without breaking the chain and storing intermediate result in a temporary\n",
        "variable.\n",
        "\n",
        "More precisely, given a chain:\n",
        "\n",
        "_MD_SHOW_table.join(...).select(...).join(...).select(...)...\n",
        "\n",
        "pw.this can be used to address the result of the latest select.\n",
        "\n",
        "### Long chain example\n",
        "To demonstrate longer chains in action, we go back to the table `likes` we used to\n",
        "show how to handle (generate) foreign keys."
      ]
    },
    {
      "cell_type": "code",
      "execution_count": 37,
      "id": "bb2e0ca6",
      "metadata": {
        "execution": {
          "iopub.execute_input": "2022-12-09T10:11:33.685405Z",
          "iopub.status.busy": "2022-12-09T10:11:33.685214Z",
          "iopub.status.idle": "2022-12-09T10:11:33.772504Z",
          "shell.execute_reply": "2022-12-09T10:11:33.771881Z"
        }
      },
      "outputs": [
        {
          "name": "stdout",
          "output_type": "stream",
          "text": [
            "            | name  | budget | dish              | price | allergy | allergen\n",
            "^C7E41EW... | Alice | 13     | jam_pb_pancakes   | 12    | milk    | eggs\n",
            "^3C8BYCT... | Alice | 13     | jam_pb_pancakes   | 12    | milk    | peanuts\n",
            "^V49K9AY... | Alice | 13     | pancakes_with_jam | 11    | milk    | eggs\n",
            "^5HD9M6D... | Bob   | 10     | pb_jam_sandwich   | 9     | eggs    | peanuts\n",
            "^3F4G2QJ... | Carol | 11     | pancakes_with_jam | 11    | milk    | eggs\n",
            "^Q416RZ3... | Carol | 11     | pancakes_with_jam | 11    | peanuts | eggs\n",
            "^05R585H... | Carol | 11     | pancakes_with_jam | 11    | peanuts | milk\n",
            "^ZP22G15... | Carol | 11     | scrambled_egg     | 11    | milk    | eggs\n",
            "^Z3CSET2... | Carol | 11     | scrambled_egg     | 11    | peanuts | eggs\n",
            "^J4NZ5YS... | Dan   | 12     | pb_jam_sandwich   | 9     |         | peanuts\n",
            "^W30JZ2J... | Dan   | 12     | scrambled_egg     | 11    |         | eggs\n"
          ]
        }
      ],
      "source": [
        "feasible_choice = (\n",
        "    friends.join(likes, friends.id == likes.f_id_ptr)\n",
        "    .select(friends.name, friends.budget, likes.m_id_ptr)\n",
        "    .join(menu, pw.left.m_id_ptr == menu.id)\n",
        "    .select(pw.this.name, pw.this.budget, menu.dish, menu.price)\n",
        "    .left_join(allergies, pw.left.name == pw.right.person)\n",
        "    .select(\n",
        "        pw.this.name, pw.this.budget, pw.this.dish, pw.this.price, allergies.allergy\n",
        "    )\n",
        "    .join(allergens_in_menu, pw.left.dish == pw.right.dish)\n",
        "    .select(\n",
        "        pw.this.name,\n",
        "        pw.this.budget,\n",
        "        pw.this.dish,\n",
        "        pw.this.price,\n",
        "        pw.this.allergy,\n",
        "        allergens_in_menu.allergen,\n",
        "    )\n",
        "    .filter((pw.this.price <= pw.this.budget) & (pw.this.allergy != pw.this.allergen))\n",
        ")\n",
        "pw.debug.compute_and_print(feasible_choice)"
      ]
    },
    {
      "cell_type": "markdown",
      "id": "94982d99",
      "metadata": {},
      "source": [
        "As we can see, this table contains all choices of person and dish, such that person likes\n",
        "particular dish, is not allergic to it, and can afford it. We can further simplify\n",
        "the result by adding another groupby-reduce at the end of the chain."
      ]
    },
    {
      "cell_type": "code",
      "execution_count": 38,
      "id": "506d2523",
      "metadata": {
        "execution": {
          "iopub.execute_input": "2022-12-09T10:11:33.776287Z",
          "iopub.status.busy": "2022-12-09T10:11:33.775769Z",
          "iopub.status.idle": "2022-12-09T10:11:33.845369Z",
          "shell.execute_reply": "2022-12-09T10:11:33.844946Z"
        }
      },
      "outputs": [
        {
          "name": "stdout",
          "output_type": "stream",
          "text": [
            "            | name  | dish              | budget | price\n",
            "^XJV0C2H... | Alice | jam_pb_pancakes   | 13     | 12\n",
            "^B9PDF7J... | Alice | pancakes_with_jam | 13     | 11\n",
            "^86P08KH... | Bob   | pb_jam_sandwich   | 10     | 9\n",
            "^FS0VA1H... | Carol | pancakes_with_jam | 11     | 11\n",
            "^SFK6S54... | Carol | scrambled_egg     | 11     | 11\n",
            "^AN8SK6X... | Dan   | pb_jam_sandwich   | 12     | 9\n",
            "^G13RSRH... | Dan   | scrambled_egg     | 12     | 11\n"
          ]
        }
      ],
      "source": [
        "pw.debug.compute_and_print(\n",
        "    feasible_choice.groupby(\n",
        "        pw.this.name, pw.this.dish, pw.this.budget, pw.this.price\n",
        "    ).reduce(pw.this.name, pw.this.dish, pw.this.budget, pw.this.price)\n",
        ")"
      ]
    }
  ],
  "metadata": {
    "jupytext": {
      "cell_metadata_filter": "-all"
    },
    "kernelspec": {
      "display_name": "Python 3 (ipykernel)",
      "language": "python",
      "name": "python3"
    },
    "language_info": {
      "codemirror_mode": {
        "name": "ipython",
        "version": 3
      },
      "file_extension": ".py",
      "mimetype": "text/x-python",
      "name": "python",
      "nbconvert_exporter": "python",
      "pygments_lexer": "ipython3",
      "version": "3.10.6"
    }
  },
  "nbformat": 4,
  "nbformat_minor": 5
}