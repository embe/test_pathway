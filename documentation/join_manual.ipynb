{
  "cells": [
    {
      "cell_type": "markdown",
      "metadata": {
        "id": "view-in-colab"
      },
      "source": [
        "<a href=\"https://colab.research.google.com/github/pathwaycom/pathway-examples/blob/main/documentation/join_manual.ipynb\" target=\"_parent\"><img src=\"https://pathway.com/assets/colab-badge.svg\" alt=\"Run In Colab\" class=\"inline\"/></a>"
      ]
    },
    {
      "cell_type": "markdown",
      "source": [
        "# Installing Pathway with Python 3.8+\n",
        "\n",
        "In the cell below, we install Pathway into a Python 3.8+ Linux runtime.\n",
        "\n",
        "> **If you are running in Google Colab, please run the colab notebook (Ctrl+F9)**, disregarding the 'not authored by Google' warning.\n",
        "> \n",
        "> **The installation and loading time is less than 1 minute**.\n"
      ],
      "metadata": {
        "id": "notebook-instructions"
      }
    },
    {
      "cell_type": "code",
      "source": [
        "%%capture --no-display\n",
        "!pip install --extra-index-url https://packages.pathway.com/966431ef6ba pathway"
      ],
      "metadata": {
        "id": "pip-installation-pathway",
        "cellView": "form"
      },
      "execution_count": null,
      "outputs": []
    },
    {
      "cell_type": "markdown",
      "id": "d4e50ff9",
      "metadata": {},
      "source": [
        "# Playing with joins.\n",
        "A brief explanation on how to perform joins with Pathway.\n",
        "\n",
        "Join is one of the basic table operations provided in Pathway.\n",
        "A join operation combines columns from two different tables by associating rows from both tables wich are matching on some given values.\n",
        "\n",
        "This guide presents several samples of code using the joins:\n",
        "*  [join (inner join)](#simple-inner-join)\n",
        "*  [join_left, join_right, join_outer (outer_joins)](#outer-joins)\n",
        "\n",
        "\n",
        "The examples demonstrate usual use-cases, explain the behavior of\n",
        "outer joins, and point out some peculiarities you may encounter\n",
        "while using Pathway. In particular, they show how to:\n",
        "* [inherit id from left or right table](#id-inheritance-in-join)\n",
        "* [join tables using foreign keys](#joins-on-a-foreign-key)\n",
        "* [use joins in a chain](#chaining-joins)"
      ]
    },
    {
      "cell_type": "markdown",
      "id": "9b04f1b0",
      "metadata": {},
      "source": [
        "## Prerequisites\n",
        "\n",
        "Be sure to import Pathway."
      ]
    },
    {
      "cell_type": "code",
      "execution_count": 1,
      "id": "2bc2ef0b",
      "metadata": {
        "execution": {
          "iopub.execute_input": "2023-06-18T15:03:46.685863Z",
          "iopub.status.busy": "2023-06-18T15:03:46.685661Z",
          "iopub.status.idle": "2023-06-18T15:03:48.537037Z",
          "shell.execute_reply": "2023-06-18T15:03:48.536601Z"
        }
      },
      "outputs": [],
      "source": [
        "import pathway as pw"
      ]
    },
    {
      "cell_type": "markdown",
      "id": "93568838",
      "metadata": {},
      "source": [
        "\n",
        "Also, you need some tables to play with. For the sake of presentation,\n",
        "let us consider the following made up scenario: a group of four friends\n",
        "(table friends) goes to grab some breakfast.\n"
      ]
    },
    {
      "cell_type": "code",
      "execution_count": 2,
      "id": "372c52e8",
      "metadata": {
        "execution": {
          "iopub.execute_input": "2023-06-18T15:03:48.539488Z",
          "iopub.status.busy": "2023-06-18T15:03:48.539110Z",
          "iopub.status.idle": "2023-06-18T15:03:48.552203Z",
          "shell.execute_reply": "2023-06-18T15:03:48.551793Z"
        },
        "lines_to_next_cell": 2
      },
      "outputs": [],
      "source": [
        "friends = pw.debug.table_from_markdown(\n",
        "    \"\"\"\n",
        "    | name  |budget\n",
        "  1 | Alice | 13\n",
        "  2 | Bob   | 10\n",
        "  3 | Carol | 11\n",
        "  4 | Dan   | 12\n",
        " \"\"\"\n",
        ")\n",
        "menu = pw.debug.table_from_markdown(\n",
        "    \"\"\"\n",
        "     | dish                              | price\n",
        "  11 | pancakes_with_jam                 | 11\n",
        "  12 | pb_jam_sandwich                   | 9\n",
        "  13 | jam_pb_pancakes                   | 12\n",
        "  14 | scrambled_egg                     | 11\n",
        " \"\"\"\n",
        ")"
      ]
    },
    {
      "cell_type": "markdown",
      "id": "b0f6a374",
      "metadata": {},
      "source": [
        "#\n",
        "However, some of them have allergies (table allergies),\n",
        "and cannot eat everything. Luckily, the restaurant has a list\n",
        "of allergens contained in each dish (table allergens_in_menu).\n"
      ]
    },
    {
      "cell_type": "code",
      "execution_count": 3,
      "id": "a5041d39",
      "metadata": {
        "execution": {
          "iopub.execute_input": "2023-06-18T15:03:48.554236Z",
          "iopub.status.busy": "2023-06-18T15:03:48.553950Z",
          "iopub.status.idle": "2023-06-18T15:03:48.562705Z",
          "shell.execute_reply": "2023-06-18T15:03:48.562363Z"
        }
      },
      "outputs": [],
      "source": [
        "allergies = pw.debug.table_from_markdown(\n",
        "    \"\"\"\n",
        "     | person| allergy\n",
        "  21 | Alice | milk\n",
        "  22 | Bob   | eggs\n",
        "  23 | Carol | peanuts\n",
        "  24 | Carol | milk\n",
        " \"\"\"\n",
        ")\n",
        "\n",
        "allergens_in_menu = pw.debug.table_from_markdown(\n",
        "    \"\"\"\n",
        "     | dish                              | allergen\n",
        "  31 | pancakes_with_jam                 | milk\n",
        "  32 | pancakes_with_jam                 | eggs\n",
        "  33 | pb_jam_sandwich                   | peanuts\n",
        "  34 | jam_pb_pancakes                   | eggs\n",
        "  35 | jam_pb_pancakes                   | peanuts\n",
        "  36 | jam_pb_pancakes                   | milk\n",
        "  37 | scrambled_egg                     | eggs\n",
        " \"\"\"\n",
        ")"
      ]
    },
    {
      "cell_type": "markdown",
      "id": "f6256341",
      "metadata": {},
      "source": [
        "## Simple inner join\n",
        "### Syntax\n",
        "Putting it simply, the syntax of join is:"
      ]
    },
    {
      "cell_type": "code",
      "execution_count": 4,
      "id": "3aaf2ca3",
      "metadata": {
        "execution": {
          "iopub.execute_input": "2023-06-18T15:03:48.564757Z",
          "iopub.status.busy": "2023-06-18T15:03:48.564496Z",
          "iopub.status.idle": "2023-06-18T15:03:48.566341Z",
          "shell.execute_reply": "2023-06-18T15:03:48.566048Z"
        }
      },
      "outputs": [],
      "source": [
        "table.join(other, *on)"
      ]
    },
    {
      "cell_type": "markdown",
      "id": "03a4bfbe",
      "metadata": {},
      "source": [
        "where\n",
        "* `table` and `other` are tables to be joined,\n",
        "* `*on` is a list of conditions of form:"
      ]
    },
    {
      "cell_type": "code",
      "execution_count": 5,
      "id": "266318ab",
      "metadata": {
        "execution": {
          "iopub.execute_input": "2023-06-18T15:03:48.567798Z",
          "iopub.status.busy": "2023-06-18T15:03:48.567573Z",
          "iopub.status.idle": "2023-06-18T15:03:48.569283Z",
          "shell.execute_reply": "2023-06-18T15:03:48.568995Z"
        }
      },
      "outputs": [],
      "source": [
        "table.some_column == other.some_other_column"
      ]
    },
    {
      "cell_type": "markdown",
      "id": "e246c1bf",
      "metadata": {},
      "source": [
        "**Remark:** the order of tables in the condition matters. That is,\n",
        "a condition of the following form won't be accepted:"
      ]
    },
    {
      "cell_type": "code",
      "execution_count": 6,
      "id": "d0fc4e11",
      "metadata": {
        "execution": {
          "iopub.execute_input": "2023-06-18T15:03:48.570624Z",
          "iopub.status.busy": "2023-06-18T15:03:48.570391Z",
          "iopub.status.idle": "2023-06-18T15:03:48.572091Z",
          "shell.execute_reply": "2023-06-18T15:03:48.571793Z"
        }
      },
      "outputs": [],
      "source": [
        "other.some_other_column == table.some_column"
      ]
    },
    {
      "cell_type": "markdown",
      "id": "ef0928ac",
      "metadata": {},
      "source": [
        "### Examples\n",
        "As a warm-up, let us see how to make simple join-queries.\n",
        "Let's begin with a simple query that finds all pairs person-dish\n",
        "that can put someone in a hospital."
      ]
    },
    {
      "cell_type": "code",
      "execution_count": 7,
      "id": "760c4220",
      "metadata": {
        "execution": {
          "iopub.execute_input": "2023-06-18T15:03:48.573605Z",
          "iopub.status.busy": "2023-06-18T15:03:48.573296Z",
          "iopub.status.idle": "2023-06-18T15:03:48.584583Z",
          "shell.execute_reply": "2023-06-18T15:03:48.584233Z"
        },
        "lines_to_next_cell": 1
      },
      "outputs": [
        {
          "name": "stdout",
          "output_type": "stream",
          "text": [
            "            | dish              | person\n",
            "^YCQD1V0... | jam_pb_pancakes   | Alice\n",
            "^CJ3R9RZ... | jam_pb_pancakes   | Bob\n",
            "^WB77SD3... | jam_pb_pancakes   | Carol\n",
            "^7R8QXH2... | jam_pb_pancakes   | Carol\n",
            "^RZMDRR3... | pancakes_with_jam | Alice\n",
            "^YGEN02A... | pancakes_with_jam | Bob\n",
            "^B8NPADA... | pancakes_with_jam | Carol\n",
            "^1T2NMPV... | pb_jam_sandwich   | Carol\n",
            "^86KQFD2... | scrambled_egg     | Bob\n"
          ]
        }
      ],
      "source": [
        "bad_match = allergies.join(\n",
        "    allergens_in_menu, allergies.allergy == allergens_in_menu.allergen\n",
        ").select(allergens_in_menu.dish, allergies.person)\n",
        "pw.debug.compute_and_print(bad_match)"
      ]
    },
    {
      "cell_type": "markdown",
      "id": "190fa6e9",
      "metadata": {},
      "source": [
        "#\n",
        "As you can see, the result is a table of life-threatening pairs.\n",
        "\n",
        "The `select` function works here similarly as `select` on a table. The difference is\n",
        "that here, you can use columns of both tables as arguments, e.g."
      ]
    },
    {
      "cell_type": "code",
      "execution_count": 8,
      "id": "e40b5326",
      "metadata": {
        "execution": {
          "iopub.execute_input": "2023-06-18T15:03:48.585968Z",
          "iopub.status.busy": "2023-06-18T15:03:48.585853Z",
          "iopub.status.idle": "2023-06-18T15:03:48.596264Z",
          "shell.execute_reply": "2023-06-18T15:03:48.595920Z"
        }
      },
      "outputs": [
        {
          "name": "stdout",
          "output_type": "stream",
          "text": [
            "            | note\n",
            "^YCQD1V0... | Alice can't eat jam_pb_pancakes.\n",
            "^RZMDRR3... | Alice can't eat pancakes_with_jam.\n",
            "^CJ3R9RZ... | Bob can't eat jam_pb_pancakes.\n",
            "^YGEN02A... | Bob can't eat pancakes_with_jam.\n",
            "^86KQFD2... | Bob can't eat scrambled_egg.\n",
            "^WB77SD3... | Carol can't eat jam_pb_pancakes.\n",
            "^7R8QXH2... | Carol can't eat jam_pb_pancakes.\n",
            "^B8NPADA... | Carol can't eat pancakes_with_jam.\n",
            "^1T2NMPV... | Carol can't eat pb_jam_sandwich.\n"
          ]
        }
      ],
      "source": [
        "def make_food_constraint_note(name, dish):\n",
        "    return f\"{name} can't eat {dish}.\"\n",
        "\n",
        "\n",
        "bad_match_note = allergies.join(\n",
        "    allergens_in_menu, allergies.allergy == allergens_in_menu.allergen\n",
        ").select(\n",
        "    note=pw.apply(make_food_constraint_note, allergies.person, allergens_in_menu.dish)\n",
        ")\n",
        "pw.debug.compute_and_print(bad_match_note)"
      ]
    },
    {
      "cell_type": "markdown",
      "id": "53a0a552",
      "metadata": {},
      "source": [
        "*Remark:* note that id is now some auto generated number, which is the usual behavior of join."
      ]
    },
    {
      "cell_type": "markdown",
      "id": "05519f7f",
      "metadata": {},
      "source": [
        "### On self joins\n",
        "In order to perform a self join (a join of table with itself),\n",
        "you need to create a copy."
      ]
    },
    {
      "cell_type": "code",
      "execution_count": 9,
      "id": "64b119ca",
      "metadata": {
        "execution": {
          "iopub.execute_input": "2023-06-18T15:03:48.597632Z",
          "iopub.status.busy": "2023-06-18T15:03:48.597491Z",
          "iopub.status.idle": "2023-06-18T15:03:48.610452Z",
          "shell.execute_reply": "2023-06-18T15:03:48.610112Z"
        }
      },
      "outputs": [
        {
          "name": "stdout",
          "output_type": "stream",
          "text": [
            "            | l_name | r_name\n",
            "^EFRJX9T... | Alice  | Carol\n",
            "^3W8REGH... | Carol  | Alice\n"
          ]
        }
      ],
      "source": [
        "same_allergies = (\n",
        "    allergies.join(\n",
        "        allergies_copy := allergies.copy(), allergies.allergy == allergies_copy.allergy\n",
        "    )\n",
        "    .select(\n",
        "        l_name=allergies.person,\n",
        "        r_name=allergies_copy.person,\n",
        "    )\n",
        "    .filter(pw.this.l_name != pw.this.r_name)\n",
        ")\n",
        "\n",
        "pw.debug.compute_and_print(same_allergies)"
      ]
    },
    {
      "cell_type": "markdown",
      "id": "e198b83b",
      "metadata": {},
      "source": [
        "## Outer joins\n",
        "The difference between outer joins and joins is that the outer join adds to the result\n",
        "table also entries that didn't match:"
      ]
    },
    {
      "cell_type": "code",
      "execution_count": 10,
      "id": "04c703b9",
      "metadata": {
        "execution": {
          "iopub.execute_input": "2023-06-18T15:03:48.611942Z",
          "iopub.status.busy": "2023-06-18T15:03:48.611647Z",
          "iopub.status.idle": "2023-06-18T15:03:48.613578Z",
          "shell.execute_reply": "2023-06-18T15:03:48.613271Z"
        }
      },
      "outputs": [],
      "source": [
        "left.join_left(right, conditions)"
      ]
    },
    {
      "cell_type": "markdown",
      "id": "2601e0eb",
      "metadata": {},
      "source": [
        "includes entries from the *left* table and"
      ]
    },
    {
      "cell_type": "code",
      "execution_count": 11,
      "id": "71ed9eb7",
      "metadata": {
        "execution": {
          "iopub.execute_input": "2023-06-18T15:03:48.615066Z",
          "iopub.status.busy": "2023-06-18T15:03:48.614810Z",
          "iopub.status.idle": "2023-06-18T15:03:48.616591Z",
          "shell.execute_reply": "2023-06-18T15:03:48.616275Z"
        }
      },
      "outputs": [],
      "source": [
        "left.join_right(right, conditions)"
      ]
    },
    {
      "cell_type": "markdown",
      "id": "54283dbf",
      "metadata": {},
      "source": [
        "includes entries from the *right* table."
      ]
    },
    {
      "cell_type": "markdown",
      "id": "b505750e",
      "metadata": {},
      "source": [
        "### Simple example\n",
        "To demonstrate outer-joins, you can consider a question about forbidden\n",
        "breakfast configurations (i.e. pairs of person-dish, such that a person is\n",
        "allergic to some ingredients)."
      ]
    },
    {
      "cell_type": "code",
      "execution_count": 12,
      "id": "b4694d62",
      "metadata": {
        "execution": {
          "iopub.execute_input": "2023-06-18T15:03:48.617914Z",
          "iopub.status.busy": "2023-06-18T15:03:48.617789Z",
          "iopub.status.idle": "2023-06-18T15:03:48.633217Z",
          "shell.execute_reply": "2023-06-18T15:03:48.632930Z"
        }
      },
      "outputs": [
        {
          "name": "stdout",
          "output_type": "stream",
          "text": [
            "            | name  | allergy\n",
            "^T1M8A5Y... | Alice | milk\n",
            "^123RSFF... | Bob   | eggs\n",
            "^Y11MSAF... | Carol | milk\n",
            "^F8D89M9... | Carol | peanuts\n",
            "^4H1M6P9... | Dan   |\n",
            "            | name  | dish\n",
            "^9Q7A6XZ... | Alice | jam_pb_pancakes\n",
            "^EWC34CB... | Alice | pancakes_with_jam\n",
            "^CZKDKGR... | Bob   | jam_pb_pancakes\n",
            "^FY9JB7J... | Bob   | pancakes_with_jam\n",
            "^9MP9DYZ... | Bob   | scrambled_egg\n",
            "^MNZ6EKG... | Carol | jam_pb_pancakes\n",
            "^B3FFJ7Z... | Carol | jam_pb_pancakes\n",
            "^V9Z503V... | Carol | pancakes_with_jam\n",
            "^FMSXWPA... | Carol | pb_jam_sandwich\n",
            "^GCYSJHZ... | Dan   |\n"
          ]
        }
      ],
      "source": [
        "people_allergies = friends.join_left(\n",
        "    allergies, friends.name == allergies.person\n",
        ").select(friends.name, allergies.allergy)\n",
        "pw.debug.compute_and_print(people_allergies)\n",
        "\n",
        "forbidden_breakfast = people_allergies.join_left(\n",
        "    allergens_in_menu, people_allergies.allergy == allergens_in_menu.allergen\n",
        ").select(people_allergies.name, allergens_in_menu.dish)\n",
        "pw.debug.compute_and_print(forbidden_breakfast)"
      ]
    },
    {
      "cell_type": "markdown",
      "id": "a1dab6c6",
      "metadata": {},
      "source": [
        "Now, as you can see, the table has duplicate rows. This is the intended behavior, as\n",
        "a particular person can be allergic to more than one ingredient. In other words,\n",
        "when you add a reason column to your result table, you can see that each row was\n",
        "included in the table above for a different reason."
      ]
    },
    {
      "cell_type": "code",
      "execution_count": 13,
      "id": "65565f2c",
      "metadata": {
        "execution": {
          "iopub.execute_input": "2023-06-18T15:03:48.634599Z",
          "iopub.status.busy": "2023-06-18T15:03:48.634454Z",
          "iopub.status.idle": "2023-06-18T15:03:48.644018Z",
          "shell.execute_reply": "2023-06-18T15:03:48.643725Z"
        },
        "lines_to_next_cell": 2
      },
      "outputs": [
        {
          "name": "stdout",
          "output_type": "stream",
          "text": [
            "            | name  | dish              | reason\n",
            "^9Q7A6XZ... | Alice | jam_pb_pancakes   | milk\n",
            "^EWC34CB... | Alice | pancakes_with_jam | milk\n",
            "^CZKDKGR... | Bob   | jam_pb_pancakes   | eggs\n",
            "^FY9JB7J... | Bob   | pancakes_with_jam | eggs\n",
            "^9MP9DYZ... | Bob   | scrambled_egg     | eggs\n",
            "^B3FFJ7Z... | Carol | jam_pb_pancakes   | milk\n",
            "^MNZ6EKG... | Carol | jam_pb_pancakes   | peanuts\n",
            "^V9Z503V... | Carol | pancakes_with_jam | milk\n",
            "^FMSXWPA... | Carol | pb_jam_sandwich   | peanuts\n",
            "^GCYSJHZ... | Dan   |                   |\n"
          ]
        }
      ],
      "source": [
        "forbidden_breakfast = people_allergies.join_left(\n",
        "    allergens_in_menu, people_allergies.allergy == allergens_in_menu.allergen\n",
        ").select(\n",
        "    people_allergies.name, allergens_in_menu.dish, reason=allergens_in_menu.allergen\n",
        ")\n",
        "pw.debug.compute_and_print(forbidden_breakfast)"
      ]
    },
    {
      "cell_type": "markdown",
      "id": "1db251ca",
      "metadata": {},
      "source": [
        "### Removing duplicates\n",
        "If you really want to have a table without the 'reason' column and without\n",
        "duplicates, you can achieve that with extra `groupby` and `reduce` :"
      ]
    },
    {
      "cell_type": "code",
      "execution_count": 14,
      "id": "0ef311ca",
      "metadata": {
        "execution": {
          "iopub.execute_input": "2023-06-18T15:03:48.645759Z",
          "iopub.status.busy": "2023-06-18T15:03:48.645575Z",
          "iopub.status.idle": "2023-06-18T15:03:48.662062Z",
          "shell.execute_reply": "2023-06-18T15:03:48.661711Z"
        }
      },
      "outputs": [
        {
          "name": "stdout",
          "output_type": "stream",
          "text": [
            "            | name  | dish\n",
            "^MNKENAP... | Alice | jam_pb_pancakes\n",
            "^BVPHA0R... | Alice | pancakes_with_jam\n",
            "^FZ5X7T0... | Bob   | jam_pb_pancakes\n",
            "^HNX75TQ... | Bob   | pancakes_with_jam\n",
            "^85X7DVH... | Bob   | scrambled_egg\n",
            "^822Y9RB... | Carol | jam_pb_pancakes\n",
            "^40QDNWZ... | Carol | pancakes_with_jam\n",
            "^NY6Q5H9... | Carol | pb_jam_sandwich\n",
            "^TER5BA5... | Dan   |\n"
          ]
        }
      ],
      "source": [
        "forbidden_breakfast = people_allergies.join_left(\n",
        "    allergens_in_menu, people_allergies.allergy == allergens_in_menu.allergen\n",
        ").select(people_allergies.name, allergens_in_menu.dish)\n",
        "\n",
        "forbidden_breakfast_no_duplicates = forbidden_breakfast.groupby(\n",
        "    forbidden_breakfast.name, forbidden_breakfast.dish\n",
        ").reduce(forbidden_breakfast.name, forbidden_breakfast.dish)\n",
        "\n",
        "pw.debug.compute_and_print(forbidden_breakfast_no_duplicates)"
      ]
    },
    {
      "cell_type": "markdown",
      "id": "89ab28b5",
      "metadata": {},
      "source": [
        "That simple application of groupby-reduce combination essentially selects a\n",
        "unique set of pairs (name, dish) from our table. More on the reduce-groupby operations\n",
        "can be found in the reduce-groupby [manual](/developers/documentation/table-operations/groupby-reduce-manual)."
      ]
    },
    {
      "cell_type": "markdown",
      "id": "64a81e66",
      "metadata": {},
      "source": [
        "### Expressions for unmatched rows\n",
        "Because `join_left` operation returns rows from the left table, even if there is no\n",
        "match in the right column, some input columns for functions might have no defined value.\n",
        "\n",
        "**The left join sets the undefined input cells to `None` and the function needs to\n",
        "explicitly define how to handle such cases.**\n",
        "\n",
        "As an example, you can consider a modified variant of the `bad_match_note` table.\n",
        "The modification is that you want to include all the people, and additionally you want to display their budget.\n",
        "\n",
        "To that end, it is enough that you join the `friends` table with the `bad_match` table, as\n",
        "together they include all necessary information."
      ]
    },
    {
      "cell_type": "code",
      "execution_count": 15,
      "id": "99834ac2",
      "metadata": {
        "execution": {
          "iopub.execute_input": "2023-06-18T15:03:48.663854Z",
          "iopub.status.busy": "2023-06-18T15:03:48.663603Z",
          "iopub.status.idle": "2023-06-18T15:03:48.675185Z",
          "shell.execute_reply": "2023-06-18T15:03:48.674818Z"
        },
        "lines_to_next_cell": 1
      },
      "outputs": [
        {
          "name": "stdout",
          "output_type": "stream",
          "text": [
            "            | name  | budget | note\n",
            "^P79PJ93... | Alice | 13     | Alice can't eat jam_pb_pancakes.\n",
            "^Y04502Z... | Alice | 13     | Alice can't eat pancakes_with_jam.\n",
            "^3VZ7DJ8... | Bob   | 10     | Bob can't eat jam_pb_pancakes.\n",
            "^ZC2SM27... | Bob   | 10     | Bob can't eat pancakes_with_jam.\n",
            "^ASR2KRJ... | Bob   | 10     | Bob can't eat scrambled_egg.\n",
            "^W3CZADQ... | Carol | 11     | Carol can't eat jam_pb_pancakes.\n",
            "^YPTWCF2... | Carol | 11     | Carol can't eat jam_pb_pancakes.\n",
            "^6N7QW9P... | Carol | 11     | Carol can't eat pancakes_with_jam.\n",
            "^0RTEM3K... | Carol | 11     | Carol can't eat pb_jam_sandwich.\n",
            "^4H1M6P9... | Dan   | 12     | Dan can't eat None.\n"
          ]
        }
      ],
      "source": [
        "basic_customer_info = friends.join_left(\n",
        "    bad_match, friends.name == bad_match.person\n",
        ").select(\n",
        "    friends.name,\n",
        "    friends.budget,\n",
        "    note=pw.apply(make_food_constraint_note, friends.name, bad_match.dish),\n",
        ")\n",
        "pw.debug.compute_and_print(basic_customer_info)"
      ]
    },
    {
      "cell_type": "markdown",
      "id": "d5f78a8f",
      "metadata": {},
      "source": [
        "As you can see, the behavior of the original `make_food_constraint_note` generates a\n",
        "little bit of an odd entry for Dan. To fix that problem, you can redefine the `make_food_constraint_note`."
      ]
    },
    {
      "cell_type": "code",
      "execution_count": 16,
      "id": "7926f62b",
      "metadata": {
        "execution": {
          "iopub.execute_input": "2023-06-18T15:03:48.676889Z",
          "iopub.status.busy": "2023-06-18T15:03:48.676693Z",
          "iopub.status.idle": "2023-06-18T15:03:48.688986Z",
          "shell.execute_reply": "2023-06-18T15:03:48.688622Z"
        }
      },
      "outputs": [
        {
          "name": "stdout",
          "output_type": "stream",
          "text": [
            "            | name  | budget | note\n",
            "^P79PJ93... | Alice | 13     | Alice can't eat jam_pb_pancakes.\n",
            "^Y04502Z... | Alice | 13     | Alice can't eat pancakes_with_jam.\n",
            "^3VZ7DJ8... | Bob   | 10     | Bob can't eat jam_pb_pancakes.\n",
            "^ZC2SM27... | Bob   | 10     | Bob can't eat pancakes_with_jam.\n",
            "^ASR2KRJ... | Bob   | 10     | Bob can't eat scrambled_egg.\n",
            "^W3CZADQ... | Carol | 11     | Carol can't eat jam_pb_pancakes.\n",
            "^YPTWCF2... | Carol | 11     | Carol can't eat jam_pb_pancakes.\n",
            "^6N7QW9P... | Carol | 11     | Carol can't eat pancakes_with_jam.\n",
            "^0RTEM3K... | Carol | 11     | Carol can't eat pb_jam_sandwich.\n",
            "^4H1M6P9... | Dan   | 12     | Dan has no food restrictions.\n"
          ]
        }
      ],
      "source": [
        "def make_food_constraint_note_none_tolerant(name, dish):\n",
        "    if dish is None:\n",
        "        return f\"{name} has no food restrictions.\"\n",
        "    else:\n",
        "        return make_food_constraint_note(name, dish)\n",
        "\n",
        "\n",
        "basic_customer_info = friends.join_left(\n",
        "    bad_match, friends.name == bad_match.person\n",
        ").select(\n",
        "    friends.name,\n",
        "    friends.budget,\n",
        "    note=pw.apply(\n",
        "        make_food_constraint_note_none_tolerant,\n",
        "        friends.name,\n",
        "        bad_match.dish,\n",
        "    ),\n",
        ")\n",
        "pw.debug.compute_and_print(basic_customer_info)"
      ]
    },
    {
      "cell_type": "markdown",
      "id": "812b4e96",
      "metadata": {},
      "source": [
        "To once again demonstrate the fact that the arguments for expressions are replaced with\n",
        "`None`, let us change `friends.name` to `bad_match.person` in the select part of our code."
      ]
    },
    {
      "cell_type": "code",
      "execution_count": 17,
      "id": "af7209c7",
      "metadata": {
        "execution": {
          "iopub.execute_input": "2023-06-18T15:03:48.690668Z",
          "iopub.status.busy": "2023-06-18T15:03:48.690466Z",
          "iopub.status.idle": "2023-06-18T15:03:48.702277Z",
          "shell.execute_reply": "2023-06-18T15:03:48.701936Z"
        }
      },
      "outputs": [
        {
          "name": "stdout",
          "output_type": "stream",
          "text": [
            "            | person | budget | note\n",
            "^4H1M6P9... |        | 12     | Dan has no food restrictions.\n",
            "^P79PJ93... | Alice  | 13     | Alice can't eat jam_pb_pancakes.\n",
            "^Y04502Z... | Alice  | 13     | Alice can't eat pancakes_with_jam.\n",
            "^3VZ7DJ8... | Bob    | 10     | Bob can't eat jam_pb_pancakes.\n",
            "^ZC2SM27... | Bob    | 10     | Bob can't eat pancakes_with_jam.\n",
            "^ASR2KRJ... | Bob    | 10     | Bob can't eat scrambled_egg.\n",
            "^W3CZADQ... | Carol  | 11     | Carol can't eat jam_pb_pancakes.\n",
            "^YPTWCF2... | Carol  | 11     | Carol can't eat jam_pb_pancakes.\n",
            "^6N7QW9P... | Carol  | 11     | Carol can't eat pancakes_with_jam.\n",
            "^0RTEM3K... | Carol  | 11     | Carol can't eat pb_jam_sandwich.\n"
          ]
        }
      ],
      "source": [
        "basic_customer_info = friends.join_left(\n",
        "    bad_match, friends.name == bad_match.person\n",
        ").select(\n",
        "    bad_match.person,\n",
        "    friends.budget,\n",
        "    note=pw.apply(\n",
        "        make_food_constraint_note_none_tolerant, friends.name, bad_match.dish\n",
        "    ),\n",
        ")\n",
        "pw.debug.compute_and_print(basic_customer_info)"
      ]
    },
    {
      "cell_type": "markdown",
      "id": "46c0c6f4",
      "metadata": {},
      "source": [
        "Note that, the cell that earlier included `Dan` is empty, even though `Dan` is the\n",
        "only value that could be included in this column (if there would be a match).\n",
        "The reason is that the expression for this column simply shows the value\n",
        "from `bad match.person`; since this row was not matched, this value is undefined and\n",
        "replaced by `None`.\n"
      ]
    },
    {
      "cell_type": "markdown",
      "id": "6ca1d6b1",
      "metadata": {},
      "source": [
        "### On right joins\n",
        "In the examples above, you only relied on `join_left`. The `join_right` operation is quite\n",
        "similar in its behavior. Namely,"
      ]
    },
    {
      "cell_type": "code",
      "execution_count": 18,
      "id": "6547ae14",
      "metadata": {
        "execution": {
          "iopub.execute_input": "2023-06-18T15:03:48.703958Z",
          "iopub.status.busy": "2023-06-18T15:03:48.703807Z",
          "iopub.status.idle": "2023-06-18T15:03:48.719649Z",
          "shell.execute_reply": "2023-06-18T15:03:48.719285Z"
        }
      },
      "outputs": [
        {
          "name": "stdout",
          "output_type": "stream",
          "text": [
            "            | name  | allergy\n",
            "^T1M8A5Y... | Alice | milk\n",
            "^123RSFF... | Bob   | eggs\n",
            "^Y11MSAF... | Carol | milk\n",
            "^F8D89M9... | Carol | peanuts\n",
            "^4H1M6P9... | Dan   |\n",
            "            | name  | allergy\n",
            "^8RDKJRG... | Alice | milk\n",
            "^T59TAZH... | Bob   | eggs\n",
            "^H8SWXJS... | Carol | milk\n",
            "^EPTV118... | Carol | peanuts\n",
            "^NXYMNMM... | Dan   |\n"
          ]
        }
      ],
      "source": [
        "people_allergies = friends.join_left(\n",
        "    allergies, friends.name == allergies.person\n",
        ").select(friends.name, allergies.allergy)\n",
        "pw.debug.compute_and_print(people_allergies)\n",
        "\n",
        "# is almost (except for auto-generated IDs) equivalent to\n",
        "\n",
        "people_allergies = allergies.join_right(\n",
        "    friends, allergies.person == friends.name\n",
        ").select(friends.name, allergies.allergy)\n",
        "pw.debug.compute_and_print(people_allergies)"
      ]
    },
    {
      "cell_type": "markdown",
      "id": "7249b39d",
      "metadata": {},
      "source": [
        "When you join two tables, the only difference is in syntax - since allergies is\n",
        "the table on which you call `join_right`, it must be first argument\n",
        "in the join condition, i.e. it is"
      ]
    },
    {
      "cell_type": "code",
      "execution_count": 19,
      "id": "f807296b",
      "metadata": {
        "execution": {
          "iopub.execute_input": "2023-06-18T15:03:48.721312Z",
          "iopub.status.busy": "2023-06-18T15:03:48.721154Z",
          "iopub.status.idle": "2023-06-18T15:03:48.723048Z",
          "shell.execute_reply": "2023-06-18T15:03:48.722754Z"
        }
      },
      "outputs": [],
      "source": [
        "allergies.person == friends.name"
      ]
    },
    {
      "cell_type": "markdown",
      "id": "49adfaee",
      "metadata": {},
      "source": [
        "as opposed to"
      ]
    },
    {
      "cell_type": "code",
      "execution_count": 20,
      "id": "cf96503b",
      "metadata": {
        "execution": {
          "iopub.execute_input": "2023-06-18T15:03:48.724606Z",
          "iopub.status.busy": "2023-06-18T15:03:48.724383Z",
          "iopub.status.idle": "2023-06-18T15:03:48.726307Z",
          "shell.execute_reply": "2023-06-18T15:03:48.726039Z"
        }
      },
      "outputs": [],
      "source": [
        "friends.name == allergies.person"
      ]
    },
    {
      "cell_type": "markdown",
      "id": "e706676d",
      "metadata": {},
      "source": [
        "used in the `join_left`."
      ]
    },
    {
      "cell_type": "markdown",
      "id": "45c2262a",
      "metadata": {},
      "source": [
        "### On full outer joins\n",
        "The `join_outer` operation is a full outer join, which means that"
      ]
    },
    {
      "cell_type": "code",
      "execution_count": 21,
      "id": "8d9afe80",
      "metadata": {
        "execution": {
          "iopub.execute_input": "2023-06-18T15:03:48.727819Z",
          "iopub.status.busy": "2023-06-18T15:03:48.727637Z",
          "iopub.status.idle": "2023-06-18T15:03:48.729305Z",
          "shell.execute_reply": "2023-06-18T15:03:48.729044Z"
        }
      },
      "outputs": [],
      "source": [
        "left.join_outer(right, *on)"
      ]
    },
    {
      "cell_type": "markdown",
      "id": "8ec69055",
      "metadata": {},
      "source": [
        "not only show the pairs of rows from left and right that meet the condition\n",
        "in `*on`, but also rows that didn't get matched with any other row,\n",
        "from both the `left` and `right` tables. To demonstrate this operation, let\n",
        "us introduce another group of friends and find out, for each person in a group,\n",
        "whether the other group has any people with the same name."
      ]
    },
    {
      "cell_type": "code",
      "execution_count": 22,
      "id": "8938f1bd",
      "metadata": {
        "execution": {
          "iopub.execute_input": "2023-06-18T15:03:48.730788Z",
          "iopub.status.busy": "2023-06-18T15:03:48.730573Z",
          "iopub.status.idle": "2023-06-18T15:03:48.736718Z",
          "shell.execute_reply": "2023-06-18T15:03:48.736432Z"
        }
      },
      "outputs": [],
      "source": [
        "other_group = pw.debug.table_from_markdown(\n",
        "    \"\"\"\n",
        "    | name  |budget\n",
        "  5 | Bob   | 12\n",
        "  6 | Carol | 14\n",
        "  7 | Eve   | 12\n",
        " \"\"\"\n",
        ")"
      ]
    },
    {
      "cell_type": "code",
      "execution_count": 23,
      "id": "8dd62303",
      "metadata": {
        "execution": {
          "iopub.execute_input": "2023-06-18T15:03:48.738544Z",
          "iopub.status.busy": "2023-06-18T15:03:48.738321Z",
          "iopub.status.idle": "2023-06-18T15:03:48.750573Z",
          "shell.execute_reply": "2023-06-18T15:03:48.750250Z"
        },
        "lines_to_next_cell": 2
      },
      "outputs": [
        {
          "name": "stdout",
          "output_type": "stream",
          "text": [
            "            | l_name | l_id        | r_name | r_id\n",
            "^AT0PYY5... |        |             | Eve    | ^6A0QZMJ...\n",
            "^Z8ADEY3... | Alice  | ^YYY4HAB... |        |\n",
            "^J1AVR2S... | Bob    | ^Z3QWT29... | Bob    | ^3S2X6B2...\n",
            "^8V184A9... | Carol  | ^3CZ78B4... | Carol  | ^A984WV0...\n",
            "^4H1M6P9... | Dan    | ^3HN31E1... |        |\n"
          ]
        }
      ],
      "source": [
        "pw.debug.compute_and_print(\n",
        "    friends.join_outer(other_group, friends.name == other_group.name).select(\n",
        "        l_name=friends.name,\n",
        "        l_id=friends.id,\n",
        "        r_name=other_group.name,\n",
        "        r_id=other_group.id,\n",
        "    )\n",
        ")"
      ]
    },
    {
      "cell_type": "markdown",
      "id": "773db227",
      "metadata": {},
      "source": [
        "## ID inheritance in join\n",
        "Full (yet still informal) syntax of join is:"
      ]
    },
    {
      "cell_type": "code",
      "execution_count": 24,
      "id": "876d3a27",
      "metadata": {
        "execution": {
          "iopub.execute_input": "2023-06-18T15:03:48.751986Z",
          "iopub.status.busy": "2023-06-18T15:03:48.751869Z",
          "iopub.status.idle": "2023-06-18T15:03:48.753913Z",
          "shell.execute_reply": "2023-06-18T15:03:48.753544Z"
        }
      },
      "outputs": [],
      "source": [
        "table.join(other, *on, id = None)"
      ]
    },
    {
      "cell_type": "markdown",
      "id": "08919d78",
      "metadata": {},
      "source": [
        "where\n",
        "* `table` and `other` are tables to be joined,\n",
        "* `*on` is a list of conditions of form:"
      ]
    },
    {
      "cell_type": "code",
      "execution_count": 25,
      "id": "d64217ef",
      "metadata": {
        "execution": {
          "iopub.execute_input": "2023-06-18T15:03:48.755515Z",
          "iopub.status.busy": "2023-06-18T15:03:48.755219Z",
          "iopub.status.idle": "2023-06-18T15:03:48.757308Z",
          "shell.execute_reply": "2023-06-18T15:03:48.756954Z"
        }
      },
      "outputs": [],
      "source": [
        "table.some_column == other.some_other_column"
      ]
    },
    {
      "cell_type": "markdown",
      "id": "e580b111",
      "metadata": {},
      "source": [
        "* optional `id` can be set to either table.id or other.id\n",
        "\n",
        "Whenever the `id` argument is not none, join will try to use the column passed in\n",
        "the id argument as the new id in the result of join.\n",
        "This operation will succeed only when there is a guarantee that the resulting joined table\n",
        "has no multiple rows with the same id-to-inherit.\n",
        "\n",
        "Below you can find three examples - one successful and two failed id inheritance.\n",
        "First, let us see what are the id-s of the original tables."
      ]
    },
    {
      "cell_type": "code",
      "execution_count": 26,
      "id": "ae82e247",
      "metadata": {
        "execution": {
          "iopub.execute_input": "2023-06-18T15:03:48.758777Z",
          "iopub.status.busy": "2023-06-18T15:03:48.758620Z",
          "iopub.status.idle": "2023-06-18T15:03:48.763822Z",
          "shell.execute_reply": "2023-06-18T15:03:48.763449Z"
        }
      },
      "outputs": [
        {
          "name": "stdout",
          "output_type": "stream",
          "text": [
            "            | name  | budget\n",
            "^YYY4HAB... | Alice | 13\n",
            "^Z3QWT29... | Bob   | 10\n",
            "^3CZ78B4... | Carol | 11\n",
            "^3HN31E1... | Dan   | 12\n",
            "            | person | allergy\n",
            "^MPFCCEZ... | Alice  | milk\n",
            "^HTR084Q... | Bob    | eggs\n",
            "^V9MWYA4... | Carol  | milk\n",
            "^SJFASVQ... | Carol  | peanuts\n"
          ]
        }
      ],
      "source": [
        "pw.debug.compute_and_print(friends)\n",
        "pw.debug.compute_and_print(allergies)"
      ]
    },
    {
      "cell_type": "markdown",
      "id": "a4fc1461",
      "metadata": {},
      "source": [
        "### Successful id inheritance\n",
        "Let us try a join that inherits id-s from table `allergies`."
      ]
    },
    {
      "cell_type": "code",
      "execution_count": 27,
      "id": "a7e4ea84",
      "metadata": {
        "execution": {
          "iopub.execute_input": "2023-06-18T15:03:48.765365Z",
          "iopub.status.busy": "2023-06-18T15:03:48.765170Z",
          "iopub.status.idle": "2023-06-18T15:03:48.775590Z",
          "shell.execute_reply": "2023-06-18T15:03:48.775129Z"
        }
      },
      "outputs": [
        {
          "name": "stdout",
          "output_type": "stream",
          "text": [
            "            | name  | allergy | budget\n",
            "^MPFCCEZ... | Alice | milk    | 13\n",
            "^HTR084Q... | Bob   | eggs    | 10\n",
            "^V9MWYA4... | Carol | milk    | 11\n",
            "^SJFASVQ... | Carol | peanuts | 11\n"
          ]
        }
      ],
      "source": [
        "pw.debug.compute_and_print(\n",
        "    allergies.join(friends, allergies.person == friends.name, id=allergies.id).select(\n",
        "        friends.name, allergies.allergy, friends.budget\n",
        "    )\n",
        ")"
      ]
    },
    {
      "cell_type": "markdown",
      "id": "cbe36312",
      "metadata": {},
      "source": [
        "As you can see, the id column is the same as in the `friends` table,\n",
        "which is not the case when the id parameter is not set."
      ]
    },
    {
      "cell_type": "code",
      "execution_count": 28,
      "id": "dd44df47",
      "metadata": {
        "execution": {
          "iopub.execute_input": "2023-06-18T15:03:48.777229Z",
          "iopub.status.busy": "2023-06-18T15:03:48.777075Z",
          "iopub.status.idle": "2023-06-18T15:03:48.787680Z",
          "shell.execute_reply": "2023-06-18T15:03:48.787257Z"
        }
      },
      "outputs": [
        {
          "name": "stdout",
          "output_type": "stream",
          "text": [
            "            | name  | allergy | budget\n",
            "^MPFCCEZ... | Alice | milk    | 13\n",
            "^HTR084Q... | Bob   | eggs    | 10\n",
            "^V9MWYA4... | Carol | milk    | 11\n",
            "^SJFASVQ... | Carol | peanuts | 11\n"
          ]
        }
      ],
      "source": [
        "pw.debug.compute_and_print(\n",
        "    allergies.join(friends, allergies.person == friends.name, id=allergies.id).select(\n",
        "        friends.name, allergies.allergy, friends.budget\n",
        "    )\n",
        ")"
      ]
    },
    {
      "cell_type": "markdown",
      "id": "76dcdca6",
      "metadata": {},
      "source": [
        "### Failed id inheritance: duplicate id-s\n",
        "The first possible problem with inheriting id is that one row of the source table\n",
        "could be matched with several entries of the other table. The code below will\n",
        "cause such a problem, and will raise a `KeyError` error."
      ]
    },
    {
      "cell_type": "code",
      "execution_count": 29,
      "id": "2bc5128b",
      "metadata": {
        "execution": {
          "iopub.execute_input": "2023-06-18T15:03:48.789406Z",
          "iopub.status.busy": "2023-06-18T15:03:48.789242Z",
          "iopub.status.idle": "2023-06-18T15:03:48.791357Z",
          "shell.execute_reply": "2023-06-18T15:03:48.790994Z"
        }
      },
      "outputs": [],
      "source": [
        "pw.debug.compute_and_print(\n",
        "    allergies.join(friends, allergies.person == friends.name, id=friends.id).select(\n",
        "        friends.name, allergies.allergy\n",
        "    )\n",
        ")\n",
        "[stacktrace...]\n",
        "KeyError: 'duplicate key: ^SERVYWW6KDGEQ2WVZ3ZZB86VSR'"
      ]
    },
    {
      "cell_type": "markdown",
      "id": "ae403d1b",
      "metadata": {
        "lines_to_next_cell": 2
      },
      "source": [
        "### Failed id inheritance: empty id-s\n",
        "Finally, if you consider outer joins between those two tables, you\n",
        "may encounter a situation in which you need to assign an id that is empty in the join result:"
      ]
    },
    {
      "cell_type": "code",
      "execution_count": 30,
      "id": "1d42a9bc",
      "metadata": {
        "execution": {
          "iopub.execute_input": "2023-06-18T15:03:48.792906Z",
          "iopub.status.busy": "2023-06-18T15:03:48.792704Z",
          "iopub.status.idle": "2023-06-18T15:03:48.802107Z",
          "shell.execute_reply": "2023-06-18T15:03:48.801772Z"
        }
      },
      "outputs": [
        {
          "name": "stdout",
          "output_type": "stream",
          "text": [
            "            | name  | allergy | allergies_id\n",
            "^8RDKJRG... | Alice | milk    | ^MPFCCEZ...\n",
            "^T59TAZH... | Bob   | eggs    | ^HTR084Q...\n",
            "^H8SWXJS... | Carol | milk    | ^V9MWYA4...\n",
            "^EPTV118... | Carol | peanuts | ^SJFASVQ...\n",
            "^NXYMNMM... | Dan   |         |\n"
          ]
        }
      ],
      "source": [
        "pw.debug.compute_and_print(\n",
        "    allergies.join_right(friends, allergies.person == friends.name).select(\n",
        "        friends.name, allergies.allergy, allergies_id=allergies.id\n",
        "    )\n",
        ")"
      ]
    },
    {
      "cell_type": "markdown",
      "id": "9b60e8bb",
      "metadata": {},
      "source": [
        "As you can see, the `allergies_id` field is not set for Dan's entry. If you try to use\n",
        "`allergies.id` as the `id` parameter, you will encounter a `TypeError` error."
      ]
    },
    {
      "cell_type": "code",
      "execution_count": 31,
      "id": "527bebbf",
      "metadata": {
        "execution": {
          "iopub.execute_input": "2023-06-18T15:03:48.803681Z",
          "iopub.status.busy": "2023-06-18T15:03:48.803509Z",
          "iopub.status.idle": "2023-06-18T15:03:48.805507Z",
          "shell.execute_reply": "2023-06-18T15:03:48.805123Z"
        }
      },
      "outputs": [],
      "source": [
        "pw.debug.compute_and_print(\n",
        "    allergies.join_right(\n",
        "        friends, allergies.person == friends.name, id=allergies.id\n",
        "    ).select(friends.name, allergies.allergy, allergies_id=allergies.id)\n",
        ")\n",
        "[stacktrace...]\n",
        "TypeError: type mismatch: expected a pointer, got None"
      ]
    },
    {
      "cell_type": "markdown",
      "id": "5de1f4d7",
      "metadata": {},
      "source": [
        "## Joins on a foreign key\n",
        "In Pathway, the id column is auto-generated, and as such joining over a foreign key kept in\n",
        "some other table requires extra care. Let's assume that you have another table `likes`\n",
        "that indicates that a friend (row in `friends`) likes some particular dish (row in `menu`)."
      ]
    },
    {
      "cell_type": "code",
      "execution_count": 32,
      "id": "2a0634d7",
      "metadata": {
        "execution": {
          "iopub.execute_input": "2023-06-18T15:03:48.806924Z",
          "iopub.status.busy": "2023-06-18T15:03:48.806813Z",
          "iopub.status.idle": "2023-06-18T15:03:48.812733Z",
          "shell.execute_reply": "2023-06-18T15:03:48.812430Z"
        }
      },
      "outputs": [],
      "source": [
        "likes = pw.debug.table_from_markdown(\n",
        "    \"\"\"\n",
        "    | f_id  | m_id\n",
        "100 | 1     | 11\n",
        "101 | 1     | 13\n",
        "102 | 2     | 12\n",
        "103 | 2     | 13\n",
        "104 | 3     | 11\n",
        "105 | 3     | 14\n",
        "106 | 3     | 13\n",
        "107 | 4     | 12\n",
        "108 | 4     | 14\n",
        "\"\"\"\n",
        ")"
      ]
    },
    {
      "cell_type": "markdown",
      "id": "a3b324ab",
      "metadata": {},
      "source": [
        "Without further specification, Pathway treats columns `f_id` and `m_id` as numbers:"
      ]
    },
    {
      "cell_type": "code",
      "execution_count": 33,
      "id": "829d6ba9",
      "metadata": {
        "execution": {
          "iopub.execute_input": "2023-06-18T15:03:48.814383Z",
          "iopub.status.busy": "2023-06-18T15:03:48.814104Z",
          "iopub.status.idle": "2023-06-18T15:03:48.818018Z",
          "shell.execute_reply": "2023-06-18T15:03:48.817699Z"
        }
      },
      "outputs": [
        {
          "name": "stdout",
          "output_type": "stream",
          "text": [
            "            | f_id | m_id\n",
            "^1BNYXQH... | 1    | 11\n",
            "^6J3K9CB... | 1    | 13\n",
            "^N3QENAM... | 2    | 12\n",
            "^H4W0S32... | 2    | 13\n",
            "^EQXAJMB... | 3    | 11\n",
            "^XEGKSQC... | 3    | 13\n",
            "^S57QPSB... | 3    | 14\n",
            "^MVKXDSS... | 4    | 12\n",
            "^VVA8C71... | 4    | 14\n"
          ]
        }
      ],
      "source": [
        "pw.debug.compute_and_print(likes)"
      ]
    },
    {
      "cell_type": "markdown",
      "id": "f99b7656",
      "metadata": {},
      "source": [
        "while the id of tables `friends` and `menu` was converted to Pointer.\n"
      ]
    },
    {
      "cell_type": "code",
      "execution_count": 34,
      "id": "bfd99aca",
      "metadata": {
        "execution": {
          "iopub.execute_input": "2023-06-18T15:03:48.819608Z",
          "iopub.status.busy": "2023-06-18T15:03:48.819340Z",
          "iopub.status.idle": "2023-06-18T15:03:48.824346Z",
          "shell.execute_reply": "2023-06-18T15:03:48.824034Z"
        }
      },
      "outputs": [
        {
          "name": "stdout",
          "output_type": "stream",
          "text": [
            "            | name  | budget\n",
            "^YYY4HAB... | Alice | 13\n",
            "^Z3QWT29... | Bob   | 10\n",
            "^3CZ78B4... | Carol | 11\n",
            "^3HN31E1... | Dan   | 12\n",
            "            | dish              | price\n",
            "^3J2R55X... | jam_pb_pancakes   | 12\n",
            "^03PYXDQ... | pancakes_with_jam | 11\n",
            "^GFDBR0G... | pb_jam_sandwich   | 9\n",
            "^XTPZRQ2... | scrambled_egg     | 11\n"
          ]
        }
      ],
      "source": [
        "pw.debug.compute_and_print(friends)\n",
        "pw.debug.compute_and_print(menu)"
      ]
    },
    {
      "cell_type": "markdown",
      "id": "8a620e0e",
      "metadata": {},
      "source": [
        "\n",
        "To handle joins using those columns, you can use `pointer_from` function"
      ]
    },
    {
      "cell_type": "code",
      "execution_count": 35,
      "id": "cfcbc2c3",
      "metadata": {
        "execution": {
          "iopub.execute_input": "2023-06-18T15:03:48.825846Z",
          "iopub.status.busy": "2023-06-18T15:03:48.825648Z",
          "iopub.status.idle": "2023-06-18T15:03:48.837090Z",
          "shell.execute_reply": "2023-06-18T15:03:48.836711Z"
        }
      },
      "outputs": [
        {
          "name": "stdout",
          "output_type": "stream",
          "text": [
            "            | f_id | m_id | f_id_ptr    | m_id_ptr\n",
            "^1BNYXQH... | 1    | 11   | ^YYY4HAB... | ^03PYXDQ...\n",
            "^6J3K9CB... | 1    | 13   | ^YYY4HAB... | ^3J2R55X...\n",
            "^N3QENAM... | 2    | 12   | ^Z3QWT29... | ^GFDBR0G...\n",
            "^H4W0S32... | 2    | 13   | ^Z3QWT29... | ^3J2R55X...\n",
            "^EQXAJMB... | 3    | 11   | ^3CZ78B4... | ^03PYXDQ...\n",
            "^XEGKSQC... | 3    | 13   | ^3CZ78B4... | ^3J2R55X...\n",
            "^S57QPSB... | 3    | 14   | ^3CZ78B4... | ^XTPZRQ2...\n",
            "^MVKXDSS... | 4    | 12   | ^3HN31E1... | ^GFDBR0G...\n",
            "^VVA8C71... | 4    | 14   | ^3HN31E1... | ^XTPZRQ2...\n"
          ]
        }
      ],
      "source": [
        "likes += likes.select(\n",
        "    f_id_ptr=friends.pointer_from(likes.f_id),\n",
        "    m_id_ptr=menu.pointer_from(likes.m_id),\n",
        ")\n",
        "pw.debug.compute_and_print(likes)"
      ]
    },
    {
      "cell_type": "markdown",
      "id": "cb407bc7",
      "metadata": {},
      "source": [
        "An [example of code](#long-chain-example) joining `friends` with `menu` using `likes`\n",
        "is presented the next section on chaining joins."
      ]
    },
    {
      "cell_type": "markdown",
      "id": "b3837426",
      "metadata": {},
      "source": [
        "## Chaining joins:\n",
        "Pathway provides two ways of chaining joins. The first relies on usage of `pw.this`,\n",
        "the second allows for slightly more compact code. Below, let's focus on chaining joins\n",
        "using `pw.left`.\n",
        "\n",
        " ### Simple join chaining\n",
        "Below, you will do chain joins using `pw.left` and `pw.right`. To show how it can be used, let's revisit\n",
        "the first example of `join_left`, in which you computed a `join_left` on a table\n",
        "that was obtained by another `join_left`. Instead of storing the result of the first\n",
        "`join_left` in `people_allergies`, you can use the following:"
      ]
    },
    {
      "cell_type": "code",
      "execution_count": 36,
      "id": "e3010c78",
      "metadata": {
        "execution": {
          "iopub.execute_input": "2023-06-18T15:03:48.838818Z",
          "iopub.status.busy": "2023-06-18T15:03:48.838614Z",
          "iopub.status.idle": "2023-06-18T15:03:48.852873Z",
          "shell.execute_reply": "2023-06-18T15:03:48.852466Z"
        }
      },
      "outputs": [
        {
          "name": "stdout",
          "output_type": "stream",
          "text": [
            "            | name  | dish\n",
            "^9Q7A6XZ... | Alice | jam_pb_pancakes\n",
            "^EWC34CB... | Alice | pancakes_with_jam\n",
            "^CZKDKGR... | Bob   | jam_pb_pancakes\n",
            "^FY9JB7J... | Bob   | pancakes_with_jam\n",
            "^9MP9DYZ... | Bob   | scrambled_egg\n",
            "^MNZ6EKG... | Carol | jam_pb_pancakes\n",
            "^B3FFJ7Z... | Carol | jam_pb_pancakes\n",
            "^V9Z503V... | Carol | pancakes_with_jam\n",
            "^FMSXWPA... | Carol | pb_jam_sandwich\n",
            "^GCYSJHZ... | Dan   |\n"
          ]
        }
      ],
      "source": [
        "pw.debug.compute_and_print(\n",
        "    friends.join_left(allergies, friends.name == allergies.person)\n",
        "    .select(friends.name, allergies.allergy, friends.budget)\n",
        "    .join_left(allergens_in_menu, pw.left.allergy == pw.right.allergen)\n",
        "    .select(pw.this.name, allergens_in_menu.dish)\n",
        ")"
      ]
    },
    {
      "cell_type": "markdown",
      "id": "03e1bf56",
      "metadata": {},
      "source": [
        "Essentially, for a join `left.join(right, *on)`, `pw.left` allows us to address the `left` table\n",
        "and `pw.right` allows us to address the `right` table. In this particular example, `pw.left` allows us to address the table computed by\n",
        "\n",
        "      friends.join_left(allergies, friends.name == allergies.person\n",
        "          ).select(friends.name, allergies.allergy)\n",
        "\n",
        "without breaking the chain and storing intermediate results in a temporary\n",
        "variable.\n",
        "\n",
        "More generally, given a chain:\n",
        "\n",
        "_MD_SHOW_table.join(...).select(...).join(...).select(...)...\n",
        "\n",
        "`pw.left` can be used to address the result of the latest select.\n",
        "\n",
        "While in the example above `pw.right` is essentially a replacement for `allergens_in_menu`,\n",
        "it can be also used to address a table that is passed as an argument of a join, but is\n",
        "not assigned to any variable.\n",
        "\n",
        "To show `pw.right` in action, you can go back to our [example](#expressions-using-unmatched-rows) showing basic consumer information,\n",
        "and compute it directly from tables `friends`, `allergies`, and `allergens_in_menu`."
      ]
    },
    {
      "cell_type": "code",
      "execution_count": 37,
      "id": "e119d3e2",
      "metadata": {
        "execution": {
          "iopub.execute_input": "2023-06-18T15:03:48.854544Z",
          "iopub.status.busy": "2023-06-18T15:03:48.854392Z",
          "iopub.status.idle": "2023-06-18T15:03:48.870653Z",
          "shell.execute_reply": "2023-06-18T15:03:48.870259Z"
        }
      },
      "outputs": [
        {
          "name": "stdout",
          "output_type": "stream",
          "text": [
            "            | name  | budget | note\n",
            "^P79PJ93... | Alice | 13     | Alice can't eat jam_pb_pancakes.\n",
            "^Y04502Z... | Alice | 13     | Alice can't eat pancakes_with_jam.\n",
            "^3VZ7DJ8... | Bob   | 10     | Bob can't eat jam_pb_pancakes.\n",
            "^ZC2SM27... | Bob   | 10     | Bob can't eat pancakes_with_jam.\n",
            "^ASR2KRJ... | Bob   | 10     | Bob can't eat scrambled_egg.\n",
            "^W3CZADQ... | Carol | 11     | Carol can't eat jam_pb_pancakes.\n",
            "^YPTWCF2... | Carol | 11     | Carol can't eat jam_pb_pancakes.\n",
            "^6N7QW9P... | Carol | 11     | Carol can't eat pancakes_with_jam.\n",
            "^0RTEM3K... | Carol | 11     | Carol can't eat pb_jam_sandwich.\n",
            "^4H1M6P9... | Dan   | 12     | Dan has no food restrictions.\n"
          ]
        }
      ],
      "source": [
        "basic_customer_info = friends.join_left(\n",
        "    allergies.join(\n",
        "        allergens_in_menu, allergies.allergy == allergens_in_menu.allergen\n",
        "    ).select(\n",
        "        allergens_in_menu.dish,\n",
        "        allergies.person,\n",
        "    ),\n",
        "    friends.name == pw.right.person,\n",
        ").select(\n",
        "    friends.name,\n",
        "    friends.budget,\n",
        "    note=pw.apply(make_food_constraint_note_none_tolerant, friends.name, pw.right.dish),\n",
        ")\n",
        "pw.debug.compute_and_print(basic_customer_info)"
      ]
    },
    {
      "cell_type": "markdown",
      "id": "499a5d8f",
      "metadata": {},
      "source": [
        "### Long chain example\n",
        "To demonstrate longer chains in action, let's go back to the table `likes` you used to\n",
        "show how to handle (generate) foreign keys."
      ]
    },
    {
      "cell_type": "code",
      "execution_count": 38,
      "id": "9ee7a7e4",
      "metadata": {
        "execution": {
          "iopub.execute_input": "2023-06-18T15:03:48.872308Z",
          "iopub.status.busy": "2023-06-18T15:03:48.872158Z",
          "iopub.status.idle": "2023-06-18T15:03:48.910215Z",
          "shell.execute_reply": "2023-06-18T15:03:48.909799Z"
        }
      },
      "outputs": [
        {
          "name": "stdout",
          "output_type": "stream",
          "text": [
            "            | name  | budget | dish              | price | allergy | allergen\n",
            "^1R0ZDNJ... | Alice | 13     | jam_pb_pancakes   | 12    | milk    | eggs\n",
            "^MY9MQCC... | Alice | 13     | jam_pb_pancakes   | 12    | milk    | peanuts\n",
            "^K15J5RM... | Alice | 13     | pancakes_with_jam | 11    | milk    | eggs\n",
            "^YYYA8Q9... | Bob   | 10     | pb_jam_sandwich   | 9     | eggs    | peanuts\n",
            "^NDGQ8H2... | Carol | 11     | pancakes_with_jam | 11    | milk    | eggs\n",
            "^AE6BYJK... | Carol | 11     | pancakes_with_jam | 11    | peanuts | eggs\n",
            "^28AHQ7Q... | Carol | 11     | pancakes_with_jam | 11    | peanuts | milk\n",
            "^ZF95SEX... | Carol | 11     | scrambled_egg     | 11    | milk    | eggs\n",
            "^N47771W... | Carol | 11     | scrambled_egg     | 11    | peanuts | eggs\n",
            "^WF6BY33... | Dan   | 12     | pb_jam_sandwich   | 9     |         | peanuts\n",
            "^H882QD0... | Dan   | 12     | scrambled_egg     | 11    |         | eggs\n"
          ]
        }
      ],
      "source": [
        "feasible_choice = (\n",
        "    friends.join(likes, friends.id == likes.f_id_ptr)\n",
        "    .select(friends.name, friends.budget, likes.m_id_ptr)\n",
        "    .join(menu, pw.left.m_id_ptr == menu.id)\n",
        "    .select(pw.left.name, pw.left.budget, menu.dish, menu.price)\n",
        "    .join_left(allergies, pw.left.name == pw.right.person)\n",
        "    .select(\n",
        "        pw.left.name, pw.left.budget, pw.left.dish, pw.left.price, allergies.allergy\n",
        "    )\n",
        "    .join(allergens_in_menu, pw.left.dish == pw.right.dish)\n",
        "    .select(\n",
        "        pw.left.name,\n",
        "        pw.left.budget,\n",
        "        pw.left.dish,\n",
        "        pw.left.price,\n",
        "        pw.left.allergy,\n",
        "        allergens_in_menu.allergen,\n",
        "    )\n",
        "    .filter((pw.this.price <= pw.this.budget) & (pw.this.allergy != pw.this.allergen))\n",
        ")\n",
        "pw.debug.compute_and_print(feasible_choice)"
      ]
    },
    {
      "cell_type": "markdown",
      "id": "e187fee1",
      "metadata": {},
      "source": [
        "As you can see, this table contains all choices of person and dish, such that a person likes\n",
        "a particular dish, is not allergic to it, and can afford it. You can further simplify\n",
        "the result by adding another groupby-reduce at the end of the chain."
      ]
    },
    {
      "cell_type": "code",
      "execution_count": 39,
      "id": "cb8d9cc8",
      "metadata": {
        "execution": {
          "iopub.execute_input": "2023-06-18T15:03:48.911884Z",
          "iopub.status.busy": "2023-06-18T15:03:48.911724Z",
          "iopub.status.idle": "2023-06-18T15:03:48.931465Z",
          "shell.execute_reply": "2023-06-18T15:03:48.931044Z"
        }
      },
      "outputs": [
        {
          "name": "stdout",
          "output_type": "stream",
          "text": [
            "            | name  | dish              | budget | price\n",
            "^57TKD0K... | Alice | jam_pb_pancakes   | 13     | 12\n",
            "^D5737FK... | Alice | pancakes_with_jam | 13     | 11\n",
            "^ZR14WYB... | Bob   | pb_jam_sandwich   | 10     | 9\n",
            "^B7MB26C... | Carol | pancakes_with_jam | 11     | 11\n",
            "^8A89VGQ... | Carol | scrambled_egg     | 11     | 11\n",
            "^B20HZPG... | Dan   | pb_jam_sandwich   | 12     | 9\n",
            "^P1E97MY... | Dan   | scrambled_egg     | 12     | 11\n"
          ]
        }
      ],
      "source": [
        "pw.debug.compute_and_print(\n",
        "    feasible_choice.groupby(\n",
        "        pw.this.name, pw.this.dish, pw.this.budget, pw.this.price\n",
        "    ).reduce(pw.this.name, pw.this.dish, pw.this.budget, pw.this.price)\n",
        ")"
      ]
    },
    {
      "cell_type": "markdown",
      "id": "ae35cdbd",
      "metadata": {},
      "source": [
        "Furthermore, one can make this piece of code more compact, using the [* notation](/developers/documentation/introduction/survival-guide/#select-and-notations)."
      ]
    },
    {
      "cell_type": "code",
      "execution_count": 40,
      "id": "b1386c43",
      "metadata": {
        "execution": {
          "iopub.execute_input": "2023-06-18T15:03:48.933181Z",
          "iopub.status.busy": "2023-06-18T15:03:48.933046Z",
          "iopub.status.idle": "2023-06-18T15:03:48.987267Z",
          "shell.execute_reply": "2023-06-18T15:03:48.986832Z"
        }
      },
      "outputs": [
        {
          "name": "stdout",
          "output_type": "stream",
          "text": [
            "            | name  | budget | dish              | price | allergy | allergen\n",
            "^GR3JTK7... | Alice | 13     | jam_pb_pancakes   | 12    | milk    | eggs\n",
            "^560S7R7... | Alice | 13     | jam_pb_pancakes   | 12    | milk    | peanuts\n",
            "^6AB73E4... | Alice | 13     | pancakes_with_jam | 11    | milk    | eggs\n",
            "^SVK8374... | Bob   | 10     | pb_jam_sandwich   | 9     | eggs    | peanuts\n",
            "^HZ6CV02... | Carol | 11     | pancakes_with_jam | 11    | milk    | eggs\n",
            "^F7XY2H0... | Carol | 11     | pancakes_with_jam | 11    | peanuts | eggs\n",
            "^XCB28V3... | Carol | 11     | pancakes_with_jam | 11    | peanuts | milk\n",
            "^NVJZ7EM... | Carol | 11     | scrambled_egg     | 11    | milk    | eggs\n",
            "^Q517DE3... | Carol | 11     | scrambled_egg     | 11    | peanuts | eggs\n",
            "^SKZJ2PT... | Dan   | 12     | pb_jam_sandwich   | 9     |         | peanuts\n",
            "^E5P13D5... | Dan   | 12     | scrambled_egg     | 11    |         | eggs\n"
          ]
        }
      ],
      "source": [
        "pw.debug.compute_and_print(\n",
        "    friends.join(likes, friends.id == likes.f_id_ptr)\n",
        "    .select(*friends, likes.m_id_ptr)\n",
        "    .join(menu, pw.left.m_id_ptr == menu.id)\n",
        "    .select(*pw.left, *menu)\n",
        "    .without(pw.this.m_id_ptr)\n",
        "    .join_left(allergies, pw.left.name == pw.right.person)\n",
        "    .select(*pw.left, allergies.allergy)\n",
        "    .join(allergens_in_menu, pw.left.dish == pw.right.dish)\n",
        "    .select(*pw.left, allergens_in_menu.allergen)\n",
        "    .filter((pw.this.price <= pw.this.budget) & (pw.this.allergy != pw.this.allergen))\n",
        "    .select(*pw.this)\n",
        "    .groupby(*pw.this)\n",
        "    .reduce(*pw.this)\n",
        ")"
      ]
    }
  ],
  "metadata": {
    "jupytext": {
      "cell_metadata_filter": "-all",
      "main_language": "python",
      "notebook_metadata_filter": "-all"
    },
    "language_info": {
      "codemirror_mode": {
        "name": "ipython",
        "version": 3
      },
      "file_extension": ".py",
      "mimetype": "text/x-python",
      "name": "python",
      "nbconvert_exporter": "python",
      "pygments_lexer": "ipython3",
      "version": "3.10.8"
    }
  },
  "nbformat": 4,
  "nbformat_minor": 5
}