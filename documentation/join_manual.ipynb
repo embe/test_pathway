{
  "cells": [
    {
      "cell_type": "markdown",
      "source": [
        "# Setting up Python and Pathway\n",
        "\n",
        "Pathway can be installed to a Python 3.10 environment using pip, please register at https://pathway.com to get beta access to the package"
      ],
      "metadata": {
        "id": "notebook-instructions"
      }
    },
    {
      "cell_type": "code",
      "source": [
        "PIP_PACKAGE_ADDRESS=\"\"\n",
        "if not PIP_PACKAGE_ADDRESS:\n",
        "    print(\n",
        "        \"Please register at https://pathway.com/developers/documentation/introduction/installation-and-first-steps\\n\"\n",
        "        \"To get the pip package installation link!\"\n",
        "    )"
      ],
      "metadata": {
        "id": "pip-package-selection"
      },
      "execution_count": null,
      "outputs": []
    },
    {
      "cell_type": "code",
      "source": [
        "if not (sys.version_info.major==3 and sys.version_info.minor==10):\n",
        "    raise Exception(\"Pathway is only built for Python 3.10 at the moment\")"
      ],
      "metadata": {
        "id": "check-py-version"
      },
      "execution_count": null,
      "outputs": []
    },
    {
      "cell_type": "code",
      "source": [
        "# Install pathway's package\n",
        "!pip install {PIP_PACKAGE_ADDRESS} 1>/dev/null 2>/dev/null"
      ],
      "metadata": {
        "id": "pip-install-pathway"
      },
      "execution_count": null,
      "outputs": []
    },
    {
      "cell_type": "markdown",
      "id": "f25be289",
      "metadata": {},
      "source": [
        "# Playing with joins.\n",
        "A brief explanation on how to perform joins with Pathway.\n",
        "\n",
        "Join is one of the basic table operation provided in Pathway.\n",
        "A join operation combines columns from two different tables by associating rows with matching some given values both tables.\n",
        "\n",
        "This guide presents several samples of code using the joins:\n",
        "*  [join (inner join)](#simple-join)\n",
        "*  [left_join, right_join (outer_joins)](#outer-joins)\n",
        "\n",
        "The examples demonstrate usual use-cases, explain the behavior of\n",
        "outer joins, and point out some peculiarities you may encounter\n",
        "while using Pathway.\n",
        "\n",
        "Soon, this guide will also show examples of code that:\n",
        "*  [joins using foreign keys](#joins-on-foreign-key)\n",
        "*  [uses joins in a chain](#chaining-joins)"
      ]
    },
    {
      "cell_type": "markdown",
      "id": "0ba29f29",
      "metadata": {},
      "source": [
        "## Prerequisites\n",
        "\n",
        "Be sure to import Pathway."
      ]
    },
    {
      "cell_type": "code",
      "execution_count": 1,
      "id": "518380c6",
      "metadata": {
        "execution": {
          "iopub.execute_input": "2022-11-30T16:00:31.297830Z",
          "iopub.status.busy": "2022-11-30T16:00:31.297575Z",
          "iopub.status.idle": "2022-11-30T16:00:32.371450Z",
          "shell.execute_reply": "2022-11-30T16:00:32.370883Z"
        }
      },
      "outputs": [],
      "source": [
        "import pathway as pw"
      ]
    },
    {
      "cell_type": "markdown",
      "id": "0e831430",
      "metadata": {},
      "source": [
        "\n",
        "Also, we need some tables to play with. For the sake of presentation,\n",
        "let us consider a following made up scenario: a group of four friends\n",
        "(table friends) goes to grab some breakfast.\n"
      ]
    },
    {
      "cell_type": "code",
      "execution_count": 2,
      "id": "b11b1248",
      "metadata": {
        "execution": {
          "iopub.execute_input": "2022-11-30T16:00:32.373974Z",
          "iopub.status.busy": "2022-11-30T16:00:32.373601Z",
          "iopub.status.idle": "2022-11-30T16:00:32.383982Z",
          "shell.execute_reply": "2022-11-30T16:00:32.383571Z"
        },
        "lines_to_next_cell": 2
      },
      "outputs": [],
      "source": [
        "friends = pw.debug.table_from_markdown(\n",
        "    \"\"\"\n",
        "    | name  |budget\n",
        "  1 | Alice | 13\n",
        "  2 | Bob   | 10\n",
        "  3 | Carol | 11\n",
        "  4 | Dan   | 12\n",
        " \"\"\"\n",
        ")\n",
        "menu = pw.debug.table_from_markdown(\n",
        "    \"\"\"\n",
        "    | dish                              | price\n",
        "  1 | pancakes_with_jam                 | 11\n",
        "  2 | pb_jam_sandwich                   | 9\n",
        "  3 | jam_pb_pancakes                   | 12\n",
        "  4 | scrambled_egg                     | 11\n",
        " \"\"\"\n",
        ")"
      ]
    },
    {
      "cell_type": "markdown",
      "id": "0b3294a8",
      "metadata": {},
      "source": [
        "#\n",
        "However, some of them have allergies (table allergies),\n",
        "and cannot eat everything. Luckily, the restaurant has a list\n",
        "of allergens contained in each dish (table allergens_in_menu).\n"
      ]
    },
    {
      "cell_type": "code",
      "execution_count": 3,
      "id": "b8ccc1fc",
      "metadata": {
        "execution": {
          "iopub.execute_input": "2022-11-30T16:00:32.386271Z",
          "iopub.status.busy": "2022-11-30T16:00:32.386001Z",
          "iopub.status.idle": "2022-11-30T16:00:32.392280Z",
          "shell.execute_reply": "2022-11-30T16:00:32.391901Z"
        }
      },
      "outputs": [],
      "source": [
        "allergies = pw.debug.table_from_markdown(\n",
        "    \"\"\"\n",
        "    | person| allergy\n",
        "  1 | Alice | milk\n",
        "  2 | Bob   | eggs\n",
        "  3 | Carol | peanuts\n",
        "  4 | Carol | milk\n",
        " \"\"\"\n",
        ")\n",
        "\n",
        "allergens_in_menu = pw.debug.table_from_markdown(\n",
        "    \"\"\"\n",
        "    | dish                              | allergen\n",
        "  1 | pancakes_with_jam                 | milk\n",
        "  2 | pancakes_with_jam                 | eggs\n",
        "  3 | pb_jam_sandwich                   | peanuts\n",
        "  4 | jam_pb_pancakes                   | eggs\n",
        "  5 | jam_pb_pancakes                   | peanuts\n",
        "  6 | jam_pb_pancakes                   | milk\n",
        "  7 | scrambled_egg                     | eggs\n",
        " \"\"\"\n",
        ")"
      ]
    },
    {
      "cell_type": "markdown",
      "id": "bfe6d469",
      "metadata": {},
      "source": [
        "## Simple join.\n",
        "### Syntax\n",
        "Informally, the syntax of join is:"
      ]
    },
    {
      "cell_type": "code",
      "execution_count": 4,
      "id": "8ee437a1",
      "metadata": {
        "execution": {
          "iopub.execute_input": "2022-11-30T16:00:32.394000Z",
          "iopub.status.busy": "2022-11-30T16:00:32.393858Z",
          "iopub.status.idle": "2022-11-30T16:00:32.395868Z",
          "shell.execute_reply": "2022-11-30T16:00:32.395491Z"
        }
      },
      "outputs": [],
      "source": [
        "# _MD_SHOW_table.join(other, *on)"
      ]
    },
    {
      "cell_type": "markdown",
      "id": "ee614a04",
      "metadata": {},
      "source": [
        "where\n",
        "* `table` and `other` are tables to be joined,\n",
        "* `*on` is a list of conditions of form:"
      ]
    },
    {
      "cell_type": "code",
      "execution_count": 5,
      "id": "0cc5a9c8",
      "metadata": {
        "execution": {
          "iopub.execute_input": "2022-11-30T16:00:32.397567Z",
          "iopub.status.busy": "2022-11-30T16:00:32.397278Z",
          "iopub.status.idle": "2022-11-30T16:00:32.399300Z",
          "shell.execute_reply": "2022-11-30T16:00:32.398935Z"
        }
      },
      "outputs": [],
      "source": [
        "# _MD_SHOW_table.some_column == other.some_other_column"
      ]
    },
    {
      "cell_type": "markdown",
      "id": "b9b470b5",
      "metadata": {},
      "source": [
        "**Remark:** the order of tables in the condition matters. That is,\n",
        "a condition of the following form won't be accepted:"
      ]
    },
    {
      "cell_type": "code",
      "execution_count": 6,
      "id": "f5fc0f1b",
      "metadata": {
        "execution": {
          "iopub.execute_input": "2022-11-30T16:00:32.400962Z",
          "iopub.status.busy": "2022-11-30T16:00:32.400702Z",
          "iopub.status.idle": "2022-11-30T16:00:32.402626Z",
          "shell.execute_reply": "2022-11-30T16:00:32.402269Z"
        }
      },
      "outputs": [],
      "source": [
        "# _MD_SHOW_other.some_other_column == table.some_column"
      ]
    },
    {
      "cell_type": "markdown",
      "id": "33c4378d",
      "metadata": {},
      "source": [
        "### Examples\n",
        "As a warm-up, let us see how to make a simple join-queries.\n",
        "Let's begin with simple query that find all pairs person-dish\n",
        "that can put someone in a hospital."
      ]
    },
    {
      "cell_type": "code",
      "execution_count": 7,
      "id": "f2114668",
      "metadata": {
        "execution": {
          "iopub.execute_input": "2022-11-30T16:00:32.404299Z",
          "iopub.status.busy": "2022-11-30T16:00:32.403992Z",
          "iopub.status.idle": "2022-11-30T16:00:32.410296Z",
          "shell.execute_reply": "2022-11-30T16:00:32.409893Z"
        },
        "lines_to_next_cell": 1
      },
      "outputs": [
        {
          "name": "stdout",
          "output_type": "stream",
          "text": [
            "            | dish              | person\n",
            "^F3S17BY... | jam_pb_pancakes   | Alice\n",
            "^3MZEF3A... | jam_pb_pancakes   | Bob\n",
            "^1XAC7SA... | jam_pb_pancakes   | Carol\n",
            "^ATT8C1A... | jam_pb_pancakes   | Carol\n",
            "^VJ3K9DF... | pancakes_with_jam | Alice\n",
            "^V1RPZW8... | pancakes_with_jam | Bob\n",
            "^NZTRM84... | pancakes_with_jam | Carol\n",
            "^R0GE4WM... | pb_jam_sandwich   | Carol\n",
            "^X8BJ183... | scrambled_egg     | Bob\n"
          ]
        }
      ],
      "source": [
        "bad_match = allergies.join(\n",
        "    allergens_in_menu, allergies.allergy == allergens_in_menu.allergen\n",
        ").select(allergens_in_menu.dish, allergies.person)\n",
        "pw.debug.compute_and_print(bad_match)"
      ]
    },
    {
      "cell_type": "markdown",
      "id": "aac3260a",
      "metadata": {},
      "source": [
        "#\n",
        "As we can see, the result is a table of life-threatening pairs.\n",
        "\n",
        "The `select` function works here similarly as `select` on a table. The difference is\n",
        "that here, we can use columns of both tables as arguments, e.g."
      ]
    },
    {
      "cell_type": "code",
      "execution_count": 8,
      "id": "08ee0e6c",
      "metadata": {
        "execution": {
          "iopub.execute_input": "2022-11-30T16:00:32.411923Z",
          "iopub.status.busy": "2022-11-30T16:00:32.411780Z",
          "iopub.status.idle": "2022-11-30T16:00:32.416555Z",
          "shell.execute_reply": "2022-11-30T16:00:32.416146Z"
        }
      },
      "outputs": [
        {
          "name": "stdout",
          "output_type": "stream",
          "text": [
            "            | note\n",
            "^F3S17BY... | Alice can't eat jam_pb_pancakes.\n",
            "^VJ3K9DF... | Alice can't eat pancakes_with_jam.\n",
            "^3MZEF3A... | Bob can't eat jam_pb_pancakes.\n",
            "^V1RPZW8... | Bob can't eat pancakes_with_jam.\n",
            "^X8BJ183... | Bob can't eat scrambled_egg.\n",
            "^1XAC7SA... | Carol can't eat jam_pb_pancakes.\n",
            "^ATT8C1A... | Carol can't eat jam_pb_pancakes.\n",
            "^NZTRM84... | Carol can't eat pancakes_with_jam.\n",
            "^R0GE4WM... | Carol can't eat pb_jam_sandwich.\n"
          ]
        }
      ],
      "source": [
        "def make_food_constraint_note(name, dish):\n",
        "    return f\"{name} can't eat {dish}.\"\n",
        "\n",
        "\n",
        "bad_match_note = allergies.join(\n",
        "    allergens_in_menu, allergies.allergy == allergens_in_menu.allergen\n",
        ").select(\n",
        "    note=pw.apply(make_food_constraint_note, allergies.person, allergens_in_menu.dish)\n",
        ")\n",
        "pw.debug.compute_and_print(bad_match_note)"
      ]
    },
    {
      "cell_type": "markdown",
      "id": "186fb06d",
      "metadata": {},
      "source": [
        "*Remark:* note that id is now some auto generated number, which is the usual behavior of join."
      ]
    },
    {
      "cell_type": "markdown",
      "id": "412cc4a4",
      "metadata": {},
      "source": [
        "## Outer joins\n",
        "The difference between outer joins and joins is that the outer join adds to the result\n",
        "table also entries that didn't match:"
      ]
    },
    {
      "cell_type": "code",
      "execution_count": 9,
      "id": "12449ac6",
      "metadata": {
        "execution": {
          "iopub.execute_input": "2022-11-30T16:00:32.418182Z",
          "iopub.status.busy": "2022-11-30T16:00:32.418041Z",
          "iopub.status.idle": "2022-11-30T16:00:32.420052Z",
          "shell.execute_reply": "2022-11-30T16:00:32.419665Z"
        }
      },
      "outputs": [],
      "source": [
        "# _MD_SHOW_left.left_join(right, conditions)"
      ]
    },
    {
      "cell_type": "markdown",
      "id": "f0bf6662",
      "metadata": {},
      "source": [
        "includes entries from the *left* table and"
      ]
    },
    {
      "cell_type": "code",
      "execution_count": 10,
      "id": "6789cfe7",
      "metadata": {
        "execution": {
          "iopub.execute_input": "2022-11-30T16:00:32.421775Z",
          "iopub.status.busy": "2022-11-30T16:00:32.421439Z",
          "iopub.status.idle": "2022-11-30T16:00:32.423418Z",
          "shell.execute_reply": "2022-11-30T16:00:32.423049Z"
        }
      },
      "outputs": [],
      "source": [
        "# _MD_SHOW_left.right_join(right, conditions)"
      ]
    },
    {
      "cell_type": "markdown",
      "id": "c38367be",
      "metadata": {},
      "source": [
        "includes entries from the *right* table."
      ]
    },
    {
      "cell_type": "markdown",
      "id": "3a8c03cc",
      "metadata": {},
      "source": [
        "### Simple example\n",
        "To demonstrate outer-joins, we can consider a question about forbidden\n",
        "breakfast configurations (i.e. pairs person-dish, such that person is\n",
        "allergic to some ingredients)."
      ]
    },
    {
      "cell_type": "code",
      "execution_count": 11,
      "id": "e12fe431",
      "metadata": {
        "execution": {
          "iopub.execute_input": "2022-11-30T16:00:32.425472Z",
          "iopub.status.busy": "2022-11-30T16:00:32.425207Z",
          "iopub.status.idle": "2022-11-30T16:00:32.451258Z",
          "shell.execute_reply": "2022-11-30T16:00:32.450829Z"
        }
      },
      "outputs": [
        {
          "name": "stdout",
          "output_type": "stream",
          "text": [
            "            | name  | allergy\n",
            "^VJ3K9DF... | Alice | milk\n",
            "^V1RPZW8... | Bob   | eggs\n",
            "^M8FN8EJ... | Carol | milk\n",
            "^R0GE4WM... | Carol | peanuts\n",
            "^MZ49F0F... | Dan   | \n",
            "            | name  | dish\n",
            "^XPE17AC... | Alice | jam_pb_pancakes\n",
            "^23V2D62... | Alice | pancakes_with_jam\n",
            "^44G774K... | Bob   | jam_pb_pancakes\n",
            "^8REXNF0... | Bob   | pancakes_with_jam\n",
            "^5ZXSYKF... | Bob   | scrambled_egg\n",
            "^99X8JSV... | Carol | jam_pb_pancakes\n",
            "^N8KHY1W... | Carol | jam_pb_pancakes\n",
            "^T4MA9R8... | Carol | pancakes_with_jam\n",
            "^TXDF4CV... | Carol | pb_jam_sandwich\n",
            "^2YAV0VF... | Dan   | \n"
          ]
        }
      ],
      "source": [
        "people_allergies = friends.left_join(\n",
        "    allergies, friends.name == allergies.person\n",
        ").select(friends.name, allergies.allergy)\n",
        "pw.debug.compute_and_print(people_allergies)\n",
        "\n",
        "forbidden_breakfast = people_allergies.left_join(\n",
        "    allergens_in_menu, people_allergies.allergy == allergens_in_menu.allergen\n",
        ").select(people_allergies.name, allergens_in_menu.dish)\n",
        "pw.debug.compute_and_print(forbidden_breakfast)"
      ]
    },
    {
      "cell_type": "markdown",
      "id": "7dbbfe12",
      "metadata": {},
      "source": [
        "Now, as we can see, the table has duplicate rows. This is intended behavior, as\n",
        "a particular person can be allergic to more than one ingredient. In other words,\n",
        "when we add a reason column to our result table, we can see that each row was\n",
        "included in the table above for a different reason."
      ]
    },
    {
      "cell_type": "code",
      "execution_count": 12,
      "id": "f3e7f679",
      "metadata": {
        "execution": {
          "iopub.execute_input": "2022-11-30T16:00:32.452922Z",
          "iopub.status.busy": "2022-11-30T16:00:32.452780Z",
          "iopub.status.idle": "2022-11-30T16:00:32.473255Z",
          "shell.execute_reply": "2022-11-30T16:00:32.472795Z"
        },
        "lines_to_next_cell": 2
      },
      "outputs": [
        {
          "name": "stdout",
          "output_type": "stream",
          "text": [
            "            | name  | dish              | reason\n",
            "^XPE17AC... | Alice | jam_pb_pancakes   | milk\n",
            "^23V2D62... | Alice | pancakes_with_jam | milk\n",
            "^44G774K... | Bob   | jam_pb_pancakes   | eggs\n",
            "^8REXNF0... | Bob   | pancakes_with_jam | eggs\n",
            "^5ZXSYKF... | Bob   | scrambled_egg     | eggs\n",
            "^N8KHY1W... | Carol | jam_pb_pancakes   | milk\n",
            "^99X8JSV... | Carol | jam_pb_pancakes   | peanuts\n",
            "^T4MA9R8... | Carol | pancakes_with_jam | milk\n",
            "^TXDF4CV... | Carol | pb_jam_sandwich   | peanuts\n",
            "^2YAV0VF... | Dan   |                   | \n"
          ]
        }
      ],
      "source": [
        "forbidden_breakfast = people_allergies.left_join(\n",
        "    allergens_in_menu, people_allergies.allergy == allergens_in_menu.allergen\n",
        ").select(\n",
        "    people_allergies.name, allergens_in_menu.dish, reason=allergens_in_menu.allergen\n",
        ")\n",
        "pw.debug.compute_and_print(forbidden_breakfast)"
      ]
    },
    {
      "cell_type": "markdown",
      "id": "abc093d7",
      "metadata": {},
      "source": [
        "### Removing duplicates\n",
        "If we really want to have a table without the 'reason' column and without\n",
        "duplicates, we can achieve that with extra `groupby` and `reduce` :"
      ]
    },
    {
      "cell_type": "code",
      "execution_count": 13,
      "id": "eda510e8",
      "metadata": {
        "execution": {
          "iopub.execute_input": "2022-11-30T16:00:32.475132Z",
          "iopub.status.busy": "2022-11-30T16:00:32.474867Z",
          "iopub.status.idle": "2022-11-30T16:00:32.501160Z",
          "shell.execute_reply": "2022-11-30T16:00:32.500700Z"
        }
      },
      "outputs": [
        {
          "name": "stdout",
          "output_type": "stream",
          "text": [
            "            | name  | dish\n",
            "^M8E4DFK... | Alice | jam_pb_pancakes\n",
            "^JMHBFKG... | Alice | pancakes_with_jam\n",
            "^AN7YRTF... | Bob   | jam_pb_pancakes\n",
            "^GZ0TEZ6... | Bob   | pancakes_with_jam\n",
            "^W8AZSTG... | Bob   | scrambled_egg\n",
            "^DBZV8YR... | Carol | jam_pb_pancakes\n",
            "^N585E7A... | Carol | pancakes_with_jam\n",
            "^9DJG3GD... | Carol | pb_jam_sandwich\n",
            "^30JAJCE... | Dan   | \n"
          ]
        }
      ],
      "source": [
        "forbidden_breakfast = people_allergies.left_join(\n",
        "    allergens_in_menu, people_allergies.allergy == allergens_in_menu.allergen\n",
        ").select(people_allergies.name, allergens_in_menu.dish)\n",
        "\n",
        "forbidden_breakfast_no_duplicates = forbidden_breakfast.groupby(\n",
        "    forbidden_breakfast.name, forbidden_breakfast.dish\n",
        ").reduce(forbidden_breakfast.name, forbidden_breakfast.dish)\n",
        "\n",
        "pw.debug.compute_and_print(forbidden_breakfast_no_duplicates)"
      ]
    },
    {
      "cell_type": "markdown",
      "id": "40ed4e27",
      "metadata": {},
      "source": [
        "That simple application of groupby-reduce combination essentially selects\n",
        "unique set of pairs (name, dish) from our table. More on the reduce-groupby operations\n",
        "can be found in the reduce-groupby [manual](/developers/documentation/table-operations/groupby-reduce-manual)."
      ]
    },
    {
      "cell_type": "markdown",
      "id": "4b41935c",
      "metadata": {},
      "source": [
        "### Computed and omitted columns.\n",
        "Because left join operation returns rows from the left table, even if there is no\n",
        "match in the right column, some columns can't be computed.\n",
        "\n",
        "**The left join computes values in all columns that can be\n",
        "computed, and leaves all the remaining columns empty.**\n",
        "\n",
        "As an example, we can consider a modified variant of the `bad_match_note` table.\n",
        "The modification is that we want to include all the\n",
        "people, and additionally we want to display their budget."
      ]
    },
    {
      "cell_type": "markdown",
      "id": "264b2590",
      "metadata": {},
      "source": [
        "To that end, it is enough that we join the `friends` table with the `bad_match` table, as\n",
        "together they include all necessary information."
      ]
    },
    {
      "cell_type": "code",
      "execution_count": 14,
      "id": "8e2f4ef8",
      "metadata": {
        "execution": {
          "iopub.execute_input": "2022-11-30T16:00:32.503331Z",
          "iopub.status.busy": "2022-11-30T16:00:32.503054Z",
          "iopub.status.idle": "2022-11-30T16:00:32.534838Z",
          "shell.execute_reply": "2022-11-30T16:00:32.534357Z"
        }
      },
      "outputs": [
        {
          "name": "stdout",
          "output_type": "stream",
          "text": [
            "            | name  | budget | note\n",
            "^MK7AE5W... | Alice | 13     | Alice can't eat jam_pb_pancakes.\n",
            "^R90GTQS... | Alice | 13     | Alice can't eat pancakes_with_jam.\n",
            "^0WRP6GY... | Bob   | 10     | Bob can't eat jam_pb_pancakes.\n",
            "^ZS7XXFT... | Bob   | 10     | Bob can't eat pancakes_with_jam.\n",
            "^6WXMMZB... | Bob   | 10     | Bob can't eat scrambled_egg.\n",
            "^DYBRNS6... | Carol | 11     | Carol can't eat jam_pb_pancakes.\n",
            "^PJGD2SR... | Carol | 11     | Carol can't eat jam_pb_pancakes.\n",
            "^HKQXPXX... | Carol | 11     | Carol can't eat pancakes_with_jam.\n",
            "^5KSXXGY... | Carol | 11     | Carol can't eat pb_jam_sandwich.\n",
            "^MZ49F0F... | Dan   | 12     | \n"
          ]
        }
      ],
      "source": [
        "basic_customer_info = friends.left_join(\n",
        "    bad_match, friends.name == bad_match.person\n",
        ").select(\n",
        "    friends.name,\n",
        "    friends.budget,\n",
        "    note=pw.apply(make_food_constraint_note, friends.name, bad_match.dish),\n",
        ")\n",
        "pw.debug.compute_and_print(basic_customer_info)"
      ]
    },
    {
      "cell_type": "markdown",
      "id": "de7252ce",
      "metadata": {},
      "source": [
        "To once again demonstrate the behavior, let us change `friends.name` to\n",
        "`bad_match.person` in the select part of our code."
      ]
    },
    {
      "cell_type": "code",
      "execution_count": 15,
      "id": "bb5e2d02",
      "metadata": {
        "execution": {
          "iopub.execute_input": "2022-11-30T16:00:32.536691Z",
          "iopub.status.busy": "2022-11-30T16:00:32.536531Z",
          "iopub.status.idle": "2022-11-30T16:00:32.573127Z",
          "shell.execute_reply": "2022-11-30T16:00:32.572652Z"
        }
      },
      "outputs": [
        {
          "name": "stdout",
          "output_type": "stream",
          "text": [
            "            | person | budget | note\n",
            "^MZ49F0F... |        | 12     | \n",
            "^MK7AE5W... | Alice  | 13     | Alice can't eat jam_pb_pancakes.\n",
            "^R90GTQS... | Alice  | 13     | Alice can't eat pancakes_with_jam.\n",
            "^0WRP6GY... | Bob    | 10     | Bob can't eat jam_pb_pancakes.\n",
            "^ZS7XXFT... | Bob    | 10     | Bob can't eat pancakes_with_jam.\n",
            "^6WXMMZB... | Bob    | 10     | Bob can't eat scrambled_egg.\n",
            "^DYBRNS6... | Carol  | 11     | Carol can't eat jam_pb_pancakes.\n",
            "^PJGD2SR... | Carol  | 11     | Carol can't eat jam_pb_pancakes.\n",
            "^HKQXPXX... | Carol  | 11     | Carol can't eat pancakes_with_jam.\n",
            "^5KSXXGY... | Carol  | 11     | Carol can't eat pb_jam_sandwich.\n"
          ]
        }
      ],
      "source": [
        "basic_customer_info = friends.left_join(\n",
        "    bad_match, friends.name == bad_match.person\n",
        ").select(\n",
        "    bad_match.person,\n",
        "    friends.budget,\n",
        "    note=pw.apply(make_food_constraint_note, friends.name, bad_match.dish),\n",
        ")\n",
        "pw.debug.compute_and_print(basic_customer_info)"
      ]
    },
    {
      "cell_type": "markdown",
      "id": "2b553c05",
      "metadata": {},
      "source": [
        "Now, the cell that earlier included Dan is empty, as value of this column is defined\n",
        "by column in `bad_match` table. Since there is no match, person was not filled in.\n",
        "Budget is still computable though, hence it is still present."
      ]
    },
    {
      "cell_type": "markdown",
      "id": "1029d4e7",
      "metadata": {},
      "source": [
        "### On right joins\n",
        "In the examples above, we only relied on `left_join`. The `right_join` operation is quite\n",
        "similar in its behavior. Namely,"
      ]
    },
    {
      "cell_type": "code",
      "execution_count": 16,
      "id": "759793cb",
      "metadata": {
        "execution": {
          "iopub.execute_input": "2022-11-30T16:00:32.575035Z",
          "iopub.status.busy": "2022-11-30T16:00:32.574880Z",
          "iopub.status.idle": "2022-11-30T16:00:32.615148Z",
          "shell.execute_reply": "2022-11-30T16:00:32.614665Z"
        }
      },
      "outputs": [
        {
          "name": "stdout",
          "output_type": "stream",
          "text": [
            "            | name  | allergy\n",
            "^VJ3K9DF... | Alice | milk\n",
            "^V1RPZW8... | Bob   | eggs\n",
            "^M8FN8EJ... | Carol | milk\n",
            "^R0GE4WM... | Carol | peanuts\n",
            "^MZ49F0F... | Dan   | \n"
          ]
        }
      ],
      "source": [
        "people_allergies = friends.left_join(\n",
        "    allergies, friends.name == allergies.person\n",
        ").select(friends.name, allergies.allergy)\n",
        "pw.debug.compute_and_print(people_allergies)"
      ]
    },
    {
      "cell_type": "markdown",
      "id": "46d29035",
      "metadata": {},
      "source": [
        "is equivalent to"
      ]
    },
    {
      "cell_type": "code",
      "execution_count": 17,
      "id": "9d1dbe6b",
      "metadata": {
        "execution": {
          "iopub.execute_input": "2022-11-30T16:00:32.617042Z",
          "iopub.status.busy": "2022-11-30T16:00:32.616885Z",
          "iopub.status.idle": "2022-11-30T16:00:32.662383Z",
          "shell.execute_reply": "2022-11-30T16:00:32.661892Z"
        }
      },
      "outputs": [
        {
          "name": "stdout",
          "output_type": "stream",
          "text": [
            "            | name  | allergy\n",
            "^VJ3K9DF... | Alice | milk\n",
            "^V1RPZW8... | Bob   | eggs\n",
            "^ABST817... | Carol | milk\n",
            "^R0GE4WM... | Carol | peanuts\n",
            "^KARHAYN... | Dan   | \n"
          ]
        }
      ],
      "source": [
        "people_allergies = allergies.right_join(\n",
        "    friends, allergies.person == friends.name\n",
        ").select(friends.name, allergies.allergy)\n",
        "pw.debug.compute_and_print(people_allergies)"
      ]
    },
    {
      "cell_type": "markdown",
      "id": "fd5eb41b",
      "metadata": {},
      "source": [
        "When we join two tables, the only difference is in syntax - since allergies is\n",
        "the table on which we call `join_right`, it must be first argument\n",
        "in the join condition, i.e. it is"
      ]
    },
    {
      "cell_type": "code",
      "execution_count": 18,
      "id": "c90253a6",
      "metadata": {
        "execution": {
          "iopub.execute_input": "2022-11-30T16:00:32.664453Z",
          "iopub.status.busy": "2022-11-30T16:00:32.664106Z",
          "iopub.status.idle": "2022-11-30T16:00:32.666307Z",
          "shell.execute_reply": "2022-11-30T16:00:32.665907Z"
        }
      },
      "outputs": [],
      "source": [
        "# _MD_SHOW_allergies.person == friends.name"
      ]
    },
    {
      "cell_type": "markdown",
      "id": "4bb1e0d2",
      "metadata": {},
      "source": [
        "as opposed to"
      ]
    },
    {
      "cell_type": "code",
      "execution_count": 19,
      "id": "bedf0f5c",
      "metadata": {
        "execution": {
          "iopub.execute_input": "2022-11-30T16:00:32.668029Z",
          "iopub.status.busy": "2022-11-30T16:00:32.667774Z",
          "iopub.status.idle": "2022-11-30T16:00:32.669775Z",
          "shell.execute_reply": "2022-11-30T16:00:32.669394Z"
        }
      },
      "outputs": [],
      "source": [
        "# _MD_SHOW_friends.name == allergies.person"
      ]
    },
    {
      "cell_type": "markdown",
      "id": "64e6ea67",
      "metadata": {},
      "source": [
        "used in the `left_join`."
      ]
    },
    {
      "cell_type": "markdown",
      "id": "b0f8a336",
      "metadata": {},
      "source": [
        "## Full outer-joins:\n",
        "coming soon."
      ]
    },
    {
      "cell_type": "markdown",
      "id": "6391bdae",
      "metadata": {},
      "source": [
        "## Joins on foreign key:\n",
        "coming soon"
      ]
    },
    {
      "cell_type": "markdown",
      "id": "e3921739",
      "metadata": {},
      "source": [
        "## Chaining joins:\n",
        "coming soon."
      ]
    }
  ],
  "metadata": {
    "jupytext": {
      "cell_metadata_filter": "-all"
    },
    "kernelspec": {
      "display_name": "Python 3 (ipykernel)",
      "language": "python",
      "name": "python3"
    },
    "language_info": {
      "codemirror_mode": {
        "name": "ipython",
        "version": 3
      },
      "file_extension": ".py",
      "mimetype": "text/x-python",
      "name": "python",
      "nbconvert_exporter": "python",
      "pygments_lexer": "ipython3",
      "version": "3.10.6"
    }
  },
  "nbformat": 4,
  "nbformat_minor": 5
}