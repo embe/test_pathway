{
  "cells": [
    {
      "cell_type": "markdown",
      "metadata": {
        "id": "view-in-colab"
      },
      "source": [
        "<a href=\"https://colab.research.google.com/github/pathwaycom/pathway-examples/blob/main/documentation/join_manual.ipynb\" target=\"_parent\"><img src=\"https://pathway.com/assets/colab-badge.svg\" alt=\"Run In Colab\" class=\"inline\"/></a>"
      ]
    },
    {
      "cell_type": "markdown",
      "source": [
        "# Installing Pathway with Python 3.8+\n",
        "\n",
        "In the cell below, we install Pathway into a Python 3.8+ Linux runtime.\n",
        "\n",
        "> **If you are running in Google Colab, please run the colab notebook (Ctrl+F9)**, disregarding the 'not authored by Google' warning.\n",
        "> \n",
        "> **The installation and loading time is less than 1 minute**.\n"
      ],
      "metadata": {
        "id": "notebook-instructions"
      }
    },
    {
      "cell_type": "code",
      "source": [
        "%%capture --no-display\n",
        "!pip install --extra-index-url https://packages.pathway.com/966431ef6ba pathway"
      ],
      "metadata": {
        "id": "pip-installation-pathway",
        "cellView": "form"
      },
      "execution_count": null,
      "outputs": []
    },
    {
      "cell_type": "markdown",
      "id": "ad8c8118",
      "metadata": {},
      "source": [
        "# Playing with joins.\n",
        "A brief explanation on how to perform joins with Pathway.\n",
        "\n",
        "Join is one of the basic table operations provided in Pathway.\n",
        "A join operation combines columns from two different tables by associating rows from both tables wich are matching on some given values.\n",
        "\n",
        "This guide presents several samples of code using the joins:\n",
        "*  [join (inner join)](#simple-inner-join)\n",
        "*  [left_join, right_join, outer_join (outer_joins)](#outer-joins)\n",
        "\n",
        "\n",
        "The examples demonstrate usual use-cases, explain the behavior of\n",
        "outer joins, and point out some peculiarities you may encounter\n",
        "while using Pathway. In particular, they show how to:\n",
        "* [inherit id from left or right table](#id-inheritance-in-join)\n",
        "* [join tables using foreign keys](#joins-on-a-foreign-key)\n",
        "* [use joins in a chain](#chaining-joins)"
      ]
    },
    {
      "cell_type": "markdown",
      "id": "390a4a38",
      "metadata": {},
      "source": [
        "## Prerequisites\n",
        "\n",
        "Be sure to import Pathway."
      ]
    },
    {
      "cell_type": "code",
      "execution_count": 1,
      "id": "60724483",
      "metadata": {
        "execution": {
          "iopub.execute_input": "2023-03-01T15:40:00.547058Z",
          "iopub.status.busy": "2023-03-01T15:40:00.546787Z",
          "iopub.status.idle": "2023-03-01T15:40:01.580593Z",
          "shell.execute_reply": "2023-03-01T15:40:01.580130Z"
        }
      },
      "outputs": [],
      "source": [
        "import pathway as pw"
      ]
    },
    {
      "cell_type": "markdown",
      "id": "1bc4922f",
      "metadata": {},
      "source": [
        "\n",
        "Also, you need some tables to play with. For the sake of presentation,\n",
        "let us consider the following made up scenario: a group of four friends\n",
        "(table friends) goes to grab some breakfast.\n"
      ]
    },
    {
      "cell_type": "code",
      "execution_count": 2,
      "id": "01ad8a6c",
      "metadata": {
        "execution": {
          "iopub.execute_input": "2023-03-01T15:40:01.583160Z",
          "iopub.status.busy": "2023-03-01T15:40:01.582856Z",
          "iopub.status.idle": "2023-03-01T15:40:01.642594Z",
          "shell.execute_reply": "2023-03-01T15:40:01.642168Z"
        },
        "lines_to_next_cell": 2
      },
      "outputs": [],
      "source": [
        "friends = pw.debug.table_from_markdown(\n",
        "    \"\"\"\n",
        "    | name  |budget\n",
        "  1 | Alice | 13\n",
        "  2 | Bob   | 10\n",
        "  3 | Carol | 11\n",
        "  4 | Dan   | 12\n",
        " \"\"\"\n",
        ")\n",
        "menu = pw.debug.table_from_markdown(\n",
        "    \"\"\"\n",
        "     | dish                              | price\n",
        "  11 | pancakes_with_jam                 | 11\n",
        "  12 | pb_jam_sandwich                   | 9\n",
        "  13 | jam_pb_pancakes                   | 12\n",
        "  14 | scrambled_egg                     | 11\n",
        " \"\"\"\n",
        ")"
      ]
    },
    {
      "cell_type": "markdown",
      "id": "ecffa365",
      "metadata": {},
      "source": [
        "#\n",
        "However, some of them have allergies (table allergies),\n",
        "and cannot eat everything. Luckily, the restaurant has a list\n",
        "of allergens contained in each dish (table allergens_in_menu).\n"
      ]
    },
    {
      "cell_type": "code",
      "execution_count": 3,
      "id": "8ad4bbab",
      "metadata": {
        "execution": {
          "iopub.execute_input": "2023-03-01T15:40:01.645105Z",
          "iopub.status.busy": "2023-03-01T15:40:01.644886Z",
          "iopub.status.idle": "2023-03-01T15:40:01.651576Z",
          "shell.execute_reply": "2023-03-01T15:40:01.651277Z"
        }
      },
      "outputs": [],
      "source": [
        "allergies = pw.debug.table_from_markdown(\n",
        "    \"\"\"\n",
        "     | person| allergy\n",
        "  21 | Alice | milk\n",
        "  22 | Bob   | eggs\n",
        "  23 | Carol | peanuts\n",
        "  24 | Carol | milk\n",
        " \"\"\"\n",
        ")\n",
        "\n",
        "allergens_in_menu = pw.debug.table_from_markdown(\n",
        "    \"\"\"\n",
        "     | dish                              | allergen\n",
        "  31 | pancakes_with_jam                 | milk\n",
        "  32 | pancakes_with_jam                 | eggs\n",
        "  33 | pb_jam_sandwich                   | peanuts\n",
        "  34 | jam_pb_pancakes                   | eggs\n",
        "  35 | jam_pb_pancakes                   | peanuts\n",
        "  36 | jam_pb_pancakes                   | milk\n",
        "  37 | scrambled_egg                     | eggs\n",
        " \"\"\"\n",
        ")"
      ]
    },
    {
      "cell_type": "markdown",
      "id": "47f6314e",
      "metadata": {},
      "source": [
        "## Simple inner join\n",
        "### Syntax\n",
        "Putting it simply, the syntax of join is:"
      ]
    },
    {
      "cell_type": "code",
      "execution_count": 4,
      "id": "ba713d24",
      "metadata": {
        "execution": {
          "iopub.execute_input": "2023-03-01T15:40:01.653426Z",
          "iopub.status.busy": "2023-03-01T15:40:01.653155Z",
          "iopub.status.idle": "2023-03-01T15:40:01.654953Z",
          "shell.execute_reply": "2023-03-01T15:40:01.654664Z"
        }
      },
      "outputs": [],
      "source": [
        "table.join(other, *on)"
      ]
    },
    {
      "cell_type": "markdown",
      "id": "0d360485",
      "metadata": {},
      "source": [
        "where\n",
        "* `table` and `other` are tables to be joined,\n",
        "* `*on` is a list of conditions of form:"
      ]
    },
    {
      "cell_type": "code",
      "execution_count": 5,
      "id": "65f9f2e7",
      "metadata": {
        "execution": {
          "iopub.execute_input": "2023-03-01T15:40:01.656470Z",
          "iopub.status.busy": "2023-03-01T15:40:01.656241Z",
          "iopub.status.idle": "2023-03-01T15:40:01.657963Z",
          "shell.execute_reply": "2023-03-01T15:40:01.657675Z"
        }
      },
      "outputs": [],
      "source": [
        "table.some_column == other.some_other_column"
      ]
    },
    {
      "cell_type": "markdown",
      "id": "a7ddd62f",
      "metadata": {},
      "source": [
        "**Remark:** the order of tables in the condition matters. That is,\n",
        "a condition of the following form won't be accepted:"
      ]
    },
    {
      "cell_type": "code",
      "execution_count": 6,
      "id": "0192501e",
      "metadata": {
        "execution": {
          "iopub.execute_input": "2023-03-01T15:40:01.659442Z",
          "iopub.status.busy": "2023-03-01T15:40:01.659234Z",
          "iopub.status.idle": "2023-03-01T15:40:01.660909Z",
          "shell.execute_reply": "2023-03-01T15:40:01.660633Z"
        }
      },
      "outputs": [],
      "source": [
        "other.some_other_column == table.some_column"
      ]
    },
    {
      "cell_type": "markdown",
      "id": "acd9f6d3",
      "metadata": {},
      "source": [
        "### Examples\n",
        "As a warm-up, let us see how to make simple join-queries.\n",
        "Let's begin with a simple query that finds all pairs person-dish\n",
        "that can put someone in a hospital."
      ]
    },
    {
      "cell_type": "code",
      "execution_count": 7,
      "id": "7dc457ec",
      "metadata": {
        "execution": {
          "iopub.execute_input": "2023-03-01T15:40:01.662326Z",
          "iopub.status.busy": "2023-03-01T15:40:01.662146Z",
          "iopub.status.idle": "2023-03-01T15:40:01.669308Z",
          "shell.execute_reply": "2023-03-01T15:40:01.668987Z"
        },
        "lines_to_next_cell": 1
      },
      "outputs": [
        {
          "name": "stdout",
          "output_type": "stream",
          "text": [
            "            | dish              | person\n",
            "^NXS1ZCC... | jam_pb_pancakes   | Alice\n",
            "^TKSYTBX... | jam_pb_pancakes   | Bob\n",
            "^C62RFES... | jam_pb_pancakes   | Carol\n",
            "^BX7DMG3... | jam_pb_pancakes   | Carol\n",
            "^B7RFVMK... | pancakes_with_jam | Alice\n",
            "^51FP1WY... | pancakes_with_jam | Bob\n",
            "^FHCFCY1... | pancakes_with_jam | Carol\n",
            "^ZQ7DWQ8... | pb_jam_sandwich   | Carol\n",
            "^0MRRXPF... | scrambled_egg     | Bob\n"
          ]
        }
      ],
      "source": [
        "bad_match = allergies.join(\n",
        "    allergens_in_menu, allergies.allergy == allergens_in_menu.allergen\n",
        ").select(allergens_in_menu.dish, allergies.person)\n",
        "pw.debug.compute_and_print(bad_match)"
      ]
    },
    {
      "cell_type": "markdown",
      "id": "f141e1fb",
      "metadata": {},
      "source": [
        "#\n",
        "As you can see, the result is a table of life-threatening pairs.\n",
        "\n",
        "The `select` function works here similarly as `select` on a table. The difference is\n",
        "that here, you can use columns of both tables as arguments, e.g."
      ]
    },
    {
      "cell_type": "code",
      "execution_count": 8,
      "id": "365418a7",
      "metadata": {
        "execution": {
          "iopub.execute_input": "2023-03-01T15:40:01.670878Z",
          "iopub.status.busy": "2023-03-01T15:40:01.670638Z",
          "iopub.status.idle": "2023-03-01T15:40:01.675755Z",
          "shell.execute_reply": "2023-03-01T15:40:01.675443Z"
        }
      },
      "outputs": [
        {
          "name": "stdout",
          "output_type": "stream",
          "text": [
            "            | note\n",
            "^NXS1ZCC... | Alice can't eat jam_pb_pancakes.\n",
            "^B7RFVMK... | Alice can't eat pancakes_with_jam.\n",
            "^TKSYTBX... | Bob can't eat jam_pb_pancakes.\n",
            "^51FP1WY... | Bob can't eat pancakes_with_jam.\n",
            "^0MRRXPF... | Bob can't eat scrambled_egg.\n",
            "^C62RFES... | Carol can't eat jam_pb_pancakes.\n",
            "^BX7DMG3... | Carol can't eat jam_pb_pancakes.\n",
            "^FHCFCY1... | Carol can't eat pancakes_with_jam.\n",
            "^ZQ7DWQ8... | Carol can't eat pb_jam_sandwich.\n"
          ]
        }
      ],
      "source": [
        "def make_food_constraint_note(name, dish):\n",
        "    return f\"{name} can't eat {dish}.\"\n",
        "\n",
        "\n",
        "bad_match_note = allergies.join(\n",
        "    allergens_in_menu, allergies.allergy == allergens_in_menu.allergen\n",
        ").select(\n",
        "    note=pw.apply(make_food_constraint_note, allergies.person, allergens_in_menu.dish)\n",
        ")\n",
        "pw.debug.compute_and_print(bad_match_note)"
      ]
    },
    {
      "cell_type": "markdown",
      "id": "081c068d",
      "metadata": {},
      "source": [
        "*Remark:* note that id is now some auto generated number, which is the usual behavior of join."
      ]
    },
    {
      "cell_type": "markdown",
      "id": "c6155e01",
      "metadata": {},
      "source": [
        "### On self joins\n",
        "In order to perform a self join (a join of table with itself),\n",
        "you need to create a copy."
      ]
    },
    {
      "cell_type": "code",
      "execution_count": 9,
      "id": "64a7f48f",
      "metadata": {
        "execution": {
          "iopub.execute_input": "2023-03-01T15:40:01.677402Z",
          "iopub.status.busy": "2023-03-01T15:40:01.677137Z",
          "iopub.status.idle": "2023-03-01T15:40:01.682883Z",
          "shell.execute_reply": "2023-03-01T15:40:01.682571Z"
        }
      },
      "outputs": [
        {
          "name": "stdout",
          "output_type": "stream",
          "text": [
            "            | l_name | r_name\n",
            "^V26FYPD... | Alice  | Carol\n",
            "^YTH8WNY... | Carol  | Alice\n"
          ]
        }
      ],
      "source": [
        "same_allergies = (\n",
        "    allergies.join(\n",
        "        allergies_copy := allergies.copy(), allergies.allergy == allergies_copy.allergy\n",
        "    )\n",
        "    .select(\n",
        "        l_name=allergies.person,\n",
        "        r_name=allergies_copy.person,\n",
        "    )\n",
        "    .filter(pw.this.l_name != pw.this.r_name)\n",
        ")\n",
        "\n",
        "pw.debug.compute_and_print(same_allergies)"
      ]
    },
    {
      "cell_type": "markdown",
      "id": "642d9a4a",
      "metadata": {},
      "source": [
        "## Outer joins\n",
        "The difference between outer joins and joins is that the outer join adds to the result\n",
        "table also entries that didn't match:"
      ]
    },
    {
      "cell_type": "code",
      "execution_count": 10,
      "id": "eed9dd66",
      "metadata": {
        "execution": {
          "iopub.execute_input": "2023-03-01T15:40:01.684373Z",
          "iopub.status.busy": "2023-03-01T15:40:01.684180Z",
          "iopub.status.idle": "2023-03-01T15:40:01.685913Z",
          "shell.execute_reply": "2023-03-01T15:40:01.685621Z"
        }
      },
      "outputs": [],
      "source": [
        "left.left_join(right, conditions)"
      ]
    },
    {
      "cell_type": "markdown",
      "id": "610f6741",
      "metadata": {},
      "source": [
        "includes entries from the *left* table and"
      ]
    },
    {
      "cell_type": "code",
      "execution_count": 11,
      "id": "044e445a",
      "metadata": {
        "execution": {
          "iopub.execute_input": "2023-03-01T15:40:01.687449Z",
          "iopub.status.busy": "2023-03-01T15:40:01.687216Z",
          "iopub.status.idle": "2023-03-01T15:40:01.688925Z",
          "shell.execute_reply": "2023-03-01T15:40:01.688638Z"
        }
      },
      "outputs": [],
      "source": [
        "left.right_join(right, conditions)"
      ]
    },
    {
      "cell_type": "markdown",
      "id": "20625e9d",
      "metadata": {},
      "source": [
        "includes entries from the *right* table."
      ]
    },
    {
      "cell_type": "markdown",
      "id": "bd07c86f",
      "metadata": {},
      "source": [
        "### Simple example\n",
        "To demonstrate outer-joins, you can consider a question about forbidden\n",
        "breakfast configurations (i.e. pairs of person-dish, such that a person is\n",
        "allergic to some ingredients)."
      ]
    },
    {
      "cell_type": "code",
      "execution_count": 12,
      "id": "22d13711",
      "metadata": {
        "execution": {
          "iopub.execute_input": "2023-03-01T15:40:01.690429Z",
          "iopub.status.busy": "2023-03-01T15:40:01.690221Z",
          "iopub.status.idle": "2023-03-01T15:40:01.698511Z",
          "shell.execute_reply": "2023-03-01T15:40:01.698199Z"
        }
      },
      "outputs": [
        {
          "name": "stdout",
          "output_type": "stream",
          "text": [
            "            | name  | allergy\n",
            "^CEESHNP... | Alice | milk\n",
            "^GKYNQB3... | Bob   | eggs\n",
            "^MCCDMWQ... | Carol | milk\n",
            "^28382DM... | Carol | peanuts\n",
            "^QWN3RXE... | Dan   |\n",
            "            | name  | dish\n",
            "^Y4H9YJC... | Alice | jam_pb_pancakes\n",
            "^MHQRNFF... | Alice | pancakes_with_jam\n",
            "^4DQ4S80... | Bob   | jam_pb_pancakes\n",
            "^XPGS5EQ... | Bob   | pancakes_with_jam\n",
            "^63EGDX6... | Bob   | scrambled_egg\n",
            "^YZ60CRJ... | Carol | jam_pb_pancakes\n",
            "^K3K3E16... | Carol | jam_pb_pancakes\n",
            "^M6FZ6K4... | Carol | pancakes_with_jam\n",
            "^RN5X9SH... | Carol | pb_jam_sandwich\n",
            "^Y317MGR... | Dan   |\n"
          ]
        }
      ],
      "source": [
        "people_allergies = friends.left_join(\n",
        "    allergies, friends.name == allergies.person\n",
        ").select(friends.name, allergies.allergy)\n",
        "pw.debug.compute_and_print(people_allergies)\n",
        "\n",
        "forbidden_breakfast = people_allergies.left_join(\n",
        "    allergens_in_menu, people_allergies.allergy == allergens_in_menu.allergen\n",
        ").select(people_allergies.name, allergens_in_menu.dish)\n",
        "pw.debug.compute_and_print(forbidden_breakfast)"
      ]
    },
    {
      "cell_type": "markdown",
      "id": "0dd14cbc",
      "metadata": {},
      "source": [
        "Now, as you can see, the table has duplicate rows. This is the intended behavior, as\n",
        "a particular person can be allergic to more than one ingredient. In other words,\n",
        "when you add a reason column to your result table, you can see that each row was\n",
        "included in the table above for a different reason."
      ]
    },
    {
      "cell_type": "code",
      "execution_count": 13,
      "id": "91c07b8d",
      "metadata": {
        "execution": {
          "iopub.execute_input": "2023-03-01T15:40:01.700161Z",
          "iopub.status.busy": "2023-03-01T15:40:01.699902Z",
          "iopub.status.idle": "2023-03-01T15:40:01.706037Z",
          "shell.execute_reply": "2023-03-01T15:40:01.705700Z"
        },
        "lines_to_next_cell": 2
      },
      "outputs": [
        {
          "name": "stdout",
          "output_type": "stream",
          "text": [
            "            | name  | dish              | reason\n",
            "^Y4H9YJC... | Alice | jam_pb_pancakes   | milk\n",
            "^MHQRNFF... | Alice | pancakes_with_jam | milk\n",
            "^4DQ4S80... | Bob   | jam_pb_pancakes   | eggs\n",
            "^XPGS5EQ... | Bob   | pancakes_with_jam | eggs\n",
            "^63EGDX6... | Bob   | scrambled_egg     | eggs\n",
            "^YZ60CRJ... | Carol | jam_pb_pancakes   | milk\n",
            "^K3K3E16... | Carol | jam_pb_pancakes   | peanuts\n",
            "^M6FZ6K4... | Carol | pancakes_with_jam | milk\n",
            "^RN5X9SH... | Carol | pb_jam_sandwich   | peanuts\n",
            "^Y317MGR... | Dan   |                   |\n"
          ]
        }
      ],
      "source": [
        "forbidden_breakfast = people_allergies.left_join(\n",
        "    allergens_in_menu, people_allergies.allergy == allergens_in_menu.allergen\n",
        ").select(\n",
        "    people_allergies.name, allergens_in_menu.dish, reason=allergens_in_menu.allergen\n",
        ")\n",
        "pw.debug.compute_and_print(forbidden_breakfast)"
      ]
    },
    {
      "cell_type": "markdown",
      "id": "40ffa411",
      "metadata": {},
      "source": [
        "### Removing duplicates\n",
        "If you really want to have a table without the 'reason' column and without\n",
        "duplicates, you can achieve that with extra `groupby` and `reduce` :"
      ]
    },
    {
      "cell_type": "code",
      "execution_count": 14,
      "id": "763fbb11",
      "metadata": {
        "execution": {
          "iopub.execute_input": "2023-03-01T15:40:01.707586Z",
          "iopub.status.busy": "2023-03-01T15:40:01.707365Z",
          "iopub.status.idle": "2023-03-01T15:40:01.714217Z",
          "shell.execute_reply": "2023-03-01T15:40:01.713901Z"
        }
      },
      "outputs": [
        {
          "name": "stdout",
          "output_type": "stream",
          "text": [
            "            | name  | dish\n",
            "^M8E4DFK... | Alice | jam_pb_pancakes\n",
            "^JMHBFKG... | Alice | pancakes_with_jam\n",
            "^AN7YRTF... | Bob   | jam_pb_pancakes\n",
            "^GZ0TEZ6... | Bob   | pancakes_with_jam\n",
            "^W8AZSTG... | Bob   | scrambled_egg\n",
            "^DBZV8YR... | Carol | jam_pb_pancakes\n",
            "^N585E7A... | Carol | pancakes_with_jam\n",
            "^9DJG3GD... | Carol | pb_jam_sandwich\n",
            "^30JAJCE... | Dan   |\n"
          ]
        }
      ],
      "source": [
        "forbidden_breakfast = people_allergies.left_join(\n",
        "    allergens_in_menu, people_allergies.allergy == allergens_in_menu.allergen\n",
        ").select(people_allergies.name, allergens_in_menu.dish)\n",
        "\n",
        "forbidden_breakfast_no_duplicates = forbidden_breakfast.groupby(\n",
        "    forbidden_breakfast.name, forbidden_breakfast.dish\n",
        ").reduce(forbidden_breakfast.name, forbidden_breakfast.dish)\n",
        "\n",
        "pw.debug.compute_and_print(forbidden_breakfast_no_duplicates)"
      ]
    },
    {
      "cell_type": "markdown",
      "id": "05bc50c7",
      "metadata": {},
      "source": [
        "That simple application of groupby-reduce combination essentially selects a\n",
        "unique set of pairs (name, dish) from our table. More on the reduce-groupby operations\n",
        "can be found in the reduce-groupby [manual](/developers/documentation/table-operations/groupby-reduce-manual)."
      ]
    },
    {
      "cell_type": "markdown",
      "id": "a8e2a0f2",
      "metadata": {},
      "source": [
        "### Expressions for unmatched rows\n",
        "Because `left_join` operation returns rows from the left table, even if there is no\n",
        "match in the right column, some input columns for functions might have no defined value.\n",
        "\n",
        "**The left join sets the undefined input cells to `None` and the function needs to\n",
        "explicitly define how to handle such cases.**\n",
        "\n",
        "As an example, you can consider a modified variant of the `bad_match_note` table.\n",
        "The modification is that you want to include all the people, and additionally you want to display their budget.\n",
        "\n",
        "To that end, it is enough that you join the `friends` table with the `bad_match` table, as\n",
        "together they include all necessary information."
      ]
    },
    {
      "cell_type": "code",
      "execution_count": 15,
      "id": "e9f46348",
      "metadata": {
        "execution": {
          "iopub.execute_input": "2023-03-01T15:40:01.715834Z",
          "iopub.status.busy": "2023-03-01T15:40:01.715579Z",
          "iopub.status.idle": "2023-03-01T15:40:01.721526Z",
          "shell.execute_reply": "2023-03-01T15:40:01.721208Z"
        },
        "lines_to_next_cell": 1
      },
      "outputs": [
        {
          "name": "stdout",
          "output_type": "stream",
          "text": [
            "            | name  | budget | note\n",
            "^B74N75K... | Alice | 13     | Alice can't eat jam_pb_pancakes.\n",
            "^YZBNRSA... | Alice | 13     | Alice can't eat pancakes_with_jam.\n",
            "^Z8QGSEZ... | Bob   | 10     | Bob can't eat jam_pb_pancakes.\n",
            "^CHHK1Q9... | Bob   | 10     | Bob can't eat pancakes_with_jam.\n",
            "^DHWEFAB... | Bob   | 10     | Bob can't eat scrambled_egg.\n",
            "^2SGPETY... | Carol | 11     | Carol can't eat jam_pb_pancakes.\n",
            "^ADRQJVA... | Carol | 11     | Carol can't eat jam_pb_pancakes.\n",
            "^JCXPCDF... | Carol | 11     | Carol can't eat pancakes_with_jam.\n",
            "^H2S7YN7... | Carol | 11     | Carol can't eat pb_jam_sandwich.\n",
            "^QWN3RXE... | Dan   | 12     | Dan can't eat None.\n"
          ]
        }
      ],
      "source": [
        "basic_customer_info = friends.left_join(\n",
        "    bad_match, friends.name == bad_match.person\n",
        ").select(\n",
        "    friends.name,\n",
        "    friends.budget,\n",
        "    note=pw.apply(make_food_constraint_note, friends.name, bad_match.dish),\n",
        ")\n",
        "pw.debug.compute_and_print(basic_customer_info)"
      ]
    },
    {
      "cell_type": "markdown",
      "id": "22660e15",
      "metadata": {},
      "source": [
        "As you can see, the behavior of the original `make_food_constraint_note` generates a\n",
        "little bit of an odd entry for Dan. To fix that problem, you can redefine the `make_food_constraint_note`."
      ]
    },
    {
      "cell_type": "code",
      "execution_count": 16,
      "id": "0c327eb0",
      "metadata": {
        "execution": {
          "iopub.execute_input": "2023-03-01T15:40:01.723117Z",
          "iopub.status.busy": "2023-03-01T15:40:01.722867Z",
          "iopub.status.idle": "2023-03-01T15:40:01.729173Z",
          "shell.execute_reply": "2023-03-01T15:40:01.728862Z"
        }
      },
      "outputs": [
        {
          "name": "stdout",
          "output_type": "stream",
          "text": [
            "            | name  | budget | note\n",
            "^B74N75K... | Alice | 13     | Alice can't eat jam_pb_pancakes.\n",
            "^YZBNRSA... | Alice | 13     | Alice can't eat pancakes_with_jam.\n",
            "^Z8QGSEZ... | Bob   | 10     | Bob can't eat jam_pb_pancakes.\n",
            "^CHHK1Q9... | Bob   | 10     | Bob can't eat pancakes_with_jam.\n",
            "^DHWEFAB... | Bob   | 10     | Bob can't eat scrambled_egg.\n",
            "^2SGPETY... | Carol | 11     | Carol can't eat jam_pb_pancakes.\n",
            "^ADRQJVA... | Carol | 11     | Carol can't eat jam_pb_pancakes.\n",
            "^JCXPCDF... | Carol | 11     | Carol can't eat pancakes_with_jam.\n",
            "^H2S7YN7... | Carol | 11     | Carol can't eat pb_jam_sandwich.\n",
            "^QWN3RXE... | Dan   | 12     | Dan has no food restrictions.\n"
          ]
        }
      ],
      "source": [
        "def make_food_constraint_note_none_tolerant(name, dish):\n",
        "    if dish is None:\n",
        "        return f\"{name} has no food restrictions.\"\n",
        "    else:\n",
        "        return make_food_constraint_note(name, dish)\n",
        "\n",
        "\n",
        "basic_customer_info = friends.left_join(\n",
        "    bad_match, friends.name == bad_match.person\n",
        ").select(\n",
        "    friends.name,\n",
        "    friends.budget,\n",
        "    note=pw.apply(\n",
        "        make_food_constraint_note_none_tolerant,\n",
        "        friends.name,\n",
        "        bad_match.dish,\n",
        "    ),\n",
        ")\n",
        "pw.debug.compute_and_print(basic_customer_info)"
      ]
    },
    {
      "cell_type": "markdown",
      "id": "f04efb28",
      "metadata": {},
      "source": [
        "To once again demonstrate the fact that the arguments for expressions are replaced with\n",
        "`None`, let us change `friends.name` to `bad_match.person` in the select part of our code."
      ]
    },
    {
      "cell_type": "code",
      "execution_count": 17,
      "id": "f411eadc",
      "metadata": {
        "execution": {
          "iopub.execute_input": "2023-03-01T15:40:01.730692Z",
          "iopub.status.busy": "2023-03-01T15:40:01.730493Z",
          "iopub.status.idle": "2023-03-01T15:40:01.736230Z",
          "shell.execute_reply": "2023-03-01T15:40:01.735921Z"
        }
      },
      "outputs": [
        {
          "name": "stdout",
          "output_type": "stream",
          "text": [
            "            | person | budget | note\n",
            "^QWN3RXE... |        | 12     | Dan has no food restrictions.\n",
            "^B74N75K... | Alice  | 13     | Alice can't eat jam_pb_pancakes.\n",
            "^YZBNRSA... | Alice  | 13     | Alice can't eat pancakes_with_jam.\n",
            "^Z8QGSEZ... | Bob    | 10     | Bob can't eat jam_pb_pancakes.\n",
            "^CHHK1Q9... | Bob    | 10     | Bob can't eat pancakes_with_jam.\n",
            "^DHWEFAB... | Bob    | 10     | Bob can't eat scrambled_egg.\n",
            "^2SGPETY... | Carol  | 11     | Carol can't eat jam_pb_pancakes.\n",
            "^ADRQJVA... | Carol  | 11     | Carol can't eat jam_pb_pancakes.\n",
            "^JCXPCDF... | Carol  | 11     | Carol can't eat pancakes_with_jam.\n",
            "^H2S7YN7... | Carol  | 11     | Carol can't eat pb_jam_sandwich.\n"
          ]
        }
      ],
      "source": [
        "basic_customer_info = friends.left_join(\n",
        "    bad_match, friends.name == bad_match.person\n",
        ").select(\n",
        "    bad_match.person,\n",
        "    friends.budget,\n",
        "    note=pw.apply(\n",
        "        make_food_constraint_note_none_tolerant, friends.name, bad_match.dish\n",
        "    ),\n",
        ")\n",
        "pw.debug.compute_and_print(basic_customer_info)"
      ]
    },
    {
      "cell_type": "markdown",
      "id": "8477891c",
      "metadata": {},
      "source": [
        "Note that, the cell that earlier included `Dan` is empty, even though `Dan` is the\n",
        "only value that could be included in this column (if there would be a match).\n",
        "The reason is that the expression for this column simply shows the value\n",
        "from `bad match.person`; since this row was not matched, this value is undefined and\n",
        "replaced by `None`.\n"
      ]
    },
    {
      "cell_type": "markdown",
      "id": "1ccd400a",
      "metadata": {},
      "source": [
        "### On right joins\n",
        "In the examples above, you only relied on `left_join`. The `right_join` operation is quite\n",
        "similar in its behavior. Namely,"
      ]
    },
    {
      "cell_type": "code",
      "execution_count": 18,
      "id": "29f661b9",
      "metadata": {
        "execution": {
          "iopub.execute_input": "2023-03-01T15:40:01.737843Z",
          "iopub.status.busy": "2023-03-01T15:40:01.737602Z",
          "iopub.status.idle": "2023-03-01T15:40:01.744778Z",
          "shell.execute_reply": "2023-03-01T15:40:01.744440Z"
        }
      },
      "outputs": [
        {
          "name": "stdout",
          "output_type": "stream",
          "text": [
            "            | name  | allergy\n",
            "^CEESHNP... | Alice | milk\n",
            "^GKYNQB3... | Bob   | eggs\n",
            "^MCCDMWQ... | Carol | milk\n",
            "^28382DM... | Carol | peanuts\n",
            "^QWN3RXE... | Dan   |\n",
            "            | name  | allergy\n",
            "^AHH9C80... | Alice | milk\n",
            "^2BR8WRG... | Bob   | eggs\n",
            "^Y5CAVAS... | Carol | milk\n",
            "^WQENVG9... | Carol | peanuts\n",
            "^F6RXSB7... | Dan   |\n"
          ]
        }
      ],
      "source": [
        "people_allergies = friends.left_join(\n",
        "    allergies, friends.name == allergies.person\n",
        ").select(friends.name, allergies.allergy)\n",
        "pw.debug.compute_and_print(people_allergies)\n",
        "\n",
        "# is almost (except for auto-generated IDs) equivalent to\n",
        "\n",
        "people_allergies = allergies.right_join(\n",
        "    friends, allergies.person == friends.name\n",
        ").select(friends.name, allergies.allergy)\n",
        "pw.debug.compute_and_print(people_allergies)"
      ]
    },
    {
      "cell_type": "markdown",
      "id": "76deae39",
      "metadata": {},
      "source": [
        "When you join two tables, the only difference is in syntax - since allergies is\n",
        "the table on which you call `join_right`, it must be first argument\n",
        "in the join condition, i.e. it is"
      ]
    },
    {
      "cell_type": "code",
      "execution_count": 19,
      "id": "80a4b9ac",
      "metadata": {
        "execution": {
          "iopub.execute_input": "2023-03-01T15:40:01.746337Z",
          "iopub.status.busy": "2023-03-01T15:40:01.746107Z",
          "iopub.status.idle": "2023-03-01T15:40:01.747865Z",
          "shell.execute_reply": "2023-03-01T15:40:01.747569Z"
        }
      },
      "outputs": [],
      "source": [
        "allergies.person == friends.name"
      ]
    },
    {
      "cell_type": "markdown",
      "id": "bf33b883",
      "metadata": {},
      "source": [
        "as opposed to"
      ]
    },
    {
      "cell_type": "code",
      "execution_count": 20,
      "id": "e4bf44d3",
      "metadata": {
        "execution": {
          "iopub.execute_input": "2023-03-01T15:40:01.749403Z",
          "iopub.status.busy": "2023-03-01T15:40:01.749154Z",
          "iopub.status.idle": "2023-03-01T15:40:01.750866Z",
          "shell.execute_reply": "2023-03-01T15:40:01.750577Z"
        }
      },
      "outputs": [],
      "source": [
        "friends.name == allergies.person"
      ]
    },
    {
      "cell_type": "markdown",
      "id": "648764f8",
      "metadata": {},
      "source": [
        "used in the `left_join`."
      ]
    },
    {
      "cell_type": "markdown",
      "id": "785abb37",
      "metadata": {},
      "source": [
        "### On full outer joins\n",
        "The `outer_join` operation is a full outer join, which means that"
      ]
    },
    {
      "cell_type": "code",
      "execution_count": 21,
      "id": "56de8ee9",
      "metadata": {
        "execution": {
          "iopub.execute_input": "2023-03-01T15:40:01.752408Z",
          "iopub.status.busy": "2023-03-01T15:40:01.752172Z",
          "iopub.status.idle": "2023-03-01T15:40:01.753856Z",
          "shell.execute_reply": "2023-03-01T15:40:01.753572Z"
        }
      },
      "outputs": [],
      "source": [
        "left.outer_join(right, *on)"
      ]
    },
    {
      "cell_type": "markdown",
      "id": "1edb13a8",
      "metadata": {},
      "source": [
        "not only show the pairs of rows from left and right that meet the condition\n",
        "in `*on`, but also rows that didn't get matched with any other row,\n",
        "from both the `left` and `right` tables. To demonstrate this operation, let\n",
        "us introduce another group of friends and find out, for each person in a group,\n",
        "whether the other group has any people with the same name."
      ]
    },
    {
      "cell_type": "code",
      "execution_count": 22,
      "id": "09e35f9c",
      "metadata": {
        "execution": {
          "iopub.execute_input": "2023-03-01T15:40:01.755346Z",
          "iopub.status.busy": "2023-03-01T15:40:01.755157Z",
          "iopub.status.idle": "2023-03-01T15:40:01.759166Z",
          "shell.execute_reply": "2023-03-01T15:40:01.758862Z"
        }
      },
      "outputs": [],
      "source": [
        "other_group = pw.debug.table_from_markdown(\n",
        "    \"\"\"\n",
        "    | name  |budget\n",
        "  5 | Bob   | 12\n",
        "  6 | Carol | 14\n",
        "  7 | Eve   | 12\n",
        " \"\"\"\n",
        ")"
      ]
    },
    {
      "cell_type": "code",
      "execution_count": 23,
      "id": "0f4e4004",
      "metadata": {
        "execution": {
          "iopub.execute_input": "2023-03-01T15:40:01.760649Z",
          "iopub.status.busy": "2023-03-01T15:40:01.760401Z",
          "iopub.status.idle": "2023-03-01T15:40:01.765670Z",
          "shell.execute_reply": "2023-03-01T15:40:01.765362Z"
        },
        "lines_to_next_cell": 2
      },
      "outputs": [
        {
          "name": "stdout",
          "output_type": "stream",
          "text": [
            "            | l_name | l_id        | r_name | r_id\n",
            "^2ZNCNBN... |        |             | Eve    | ^19D0FQ9...\n",
            "^777VMKH... | Alice  | ^2TMTFGY... |        |\n",
            "^1Y14E07... | Bob    | ^YHZBTNY... | Bob    | ^76QPWK3...\n",
            "^7RXQ0Z1... | Carol  | ^SERVYWW... | Carol  | ^C4S6S48...\n",
            "^QWN3RXE... | Dan    | ^8GR6BSX... |        |\n"
          ]
        }
      ],
      "source": [
        "pw.debug.compute_and_print(\n",
        "    friends.outer_join(other_group, friends.name == other_group.name).select(\n",
        "        l_name=friends.name,\n",
        "        l_id=friends.id,\n",
        "        r_name=other_group.name,\n",
        "        r_id=other_group.id,\n",
        "    )\n",
        ")"
      ]
    },
    {
      "cell_type": "markdown",
      "id": "7fb5ccfd",
      "metadata": {},
      "source": [
        "## ID inheritance in join\n",
        "Full (yet still informal) syntax of join is:"
      ]
    },
    {
      "cell_type": "code",
      "execution_count": 24,
      "id": "715697c6",
      "metadata": {
        "execution": {
          "iopub.execute_input": "2023-03-01T15:40:01.767252Z",
          "iopub.status.busy": "2023-03-01T15:40:01.767025Z",
          "iopub.status.idle": "2023-03-01T15:40:01.768815Z",
          "shell.execute_reply": "2023-03-01T15:40:01.768524Z"
        }
      },
      "outputs": [],
      "source": [
        "table.join(other, *on, id = None)"
      ]
    },
    {
      "cell_type": "markdown",
      "id": "11e5b841",
      "metadata": {},
      "source": [
        "where\n",
        "* `table` and `other` are tables to be joined,\n",
        "* `*on` is a list of conditions of form:"
      ]
    },
    {
      "cell_type": "code",
      "execution_count": 25,
      "id": "d0ee5c03",
      "metadata": {
        "execution": {
          "iopub.execute_input": "2023-03-01T15:40:01.770273Z",
          "iopub.status.busy": "2023-03-01T15:40:01.770080Z",
          "iopub.status.idle": "2023-03-01T15:40:01.771763Z",
          "shell.execute_reply": "2023-03-01T15:40:01.771482Z"
        }
      },
      "outputs": [],
      "source": [
        "table.some_column == other.some_other_column"
      ]
    },
    {
      "cell_type": "markdown",
      "id": "807d34f2",
      "metadata": {},
      "source": [
        "* optional `id` can be set to either table.id or other.id\n",
        "\n",
        "Whenever the `id` argument is not none, join will try to use the column passed in\n",
        "the id argument as the new id in the result of join.\n",
        "This operation will succeed only when there is a guarantee that the resulting joined table\n",
        "has no multiple rows with the same id-to-inherit.\n",
        "\n",
        "Below you can find three examples - one successful and two failed id inheritance.\n",
        "First, let us see what are the id-s of the original tables."
      ]
    },
    {
      "cell_type": "code",
      "execution_count": 26,
      "id": "6d9494bc",
      "metadata": {
        "execution": {
          "iopub.execute_input": "2023-03-01T15:40:01.773250Z",
          "iopub.status.busy": "2023-03-01T15:40:01.773063Z",
          "iopub.status.idle": "2023-03-01T15:40:01.776780Z",
          "shell.execute_reply": "2023-03-01T15:40:01.776477Z"
        }
      },
      "outputs": [
        {
          "name": "stdout",
          "output_type": "stream",
          "text": [
            "            | name  | budget\n",
            "^2TMTFGY... | Alice | 13\n",
            "^YHZBTNY... | Bob   | 10\n",
            "^SERVYWW... | Carol | 11\n",
            "^8GR6BSX... | Dan   | 12\n",
            "            | person | allergy\n",
            "^SP3EQAR... | Alice  | milk\n",
            "^H9SEXTP... | Bob    | eggs\n",
            "^CWQ381T... | Carol  | milk\n",
            "^9PXHKBD... | Carol  | peanuts\n"
          ]
        }
      ],
      "source": [
        "pw.debug.compute_and_print(friends)\n",
        "pw.debug.compute_and_print(allergies)"
      ]
    },
    {
      "cell_type": "markdown",
      "id": "f4bfc000",
      "metadata": {},
      "source": [
        "### Successful id inheritance\n",
        "Let us try a join that inherits id-s from table `allergies`."
      ]
    },
    {
      "cell_type": "code",
      "execution_count": 27,
      "id": "a15bda35",
      "metadata": {
        "execution": {
          "iopub.execute_input": "2023-03-01T15:40:01.778401Z",
          "iopub.status.busy": "2023-03-01T15:40:01.778141Z",
          "iopub.status.idle": "2023-03-01T15:40:01.783341Z",
          "shell.execute_reply": "2023-03-01T15:40:01.783034Z"
        }
      },
      "outputs": [
        {
          "name": "stdout",
          "output_type": "stream",
          "text": [
            "            | name  | allergy | budget\n",
            "^SP3EQAR... | Alice | milk    | 13\n",
            "^H9SEXTP... | Bob   | eggs    | 10\n",
            "^CWQ381T... | Carol | milk    | 11\n",
            "^9PXHKBD... | Carol | peanuts | 11\n"
          ]
        }
      ],
      "source": [
        "pw.debug.compute_and_print(\n",
        "    allergies.join(friends, allergies.person == friends.name, id=allergies.id).select(\n",
        "        friends.name, allergies.allergy, friends.budget\n",
        "    )\n",
        ")"
      ]
    },
    {
      "cell_type": "markdown",
      "id": "6cc6032d",
      "metadata": {},
      "source": [
        "As you can see, the id column is the same as in the `friends` table,\n",
        "which is not the case when the id parameter is not set."
      ]
    },
    {
      "cell_type": "code",
      "execution_count": 28,
      "id": "9ddd37c5",
      "metadata": {
        "execution": {
          "iopub.execute_input": "2023-03-01T15:40:01.784867Z",
          "iopub.status.busy": "2023-03-01T15:40:01.784641Z",
          "iopub.status.idle": "2023-03-01T15:40:01.789289Z",
          "shell.execute_reply": "2023-03-01T15:40:01.788967Z"
        }
      },
      "outputs": [
        {
          "name": "stdout",
          "output_type": "stream",
          "text": [
            "            | name  | allergy | budget\n",
            "^SP3EQAR... | Alice | milk    | 13\n",
            "^H9SEXTP... | Bob   | eggs    | 10\n",
            "^CWQ381T... | Carol | milk    | 11\n",
            "^9PXHKBD... | Carol | peanuts | 11\n"
          ]
        }
      ],
      "source": [
        "pw.debug.compute_and_print(\n",
        "    allergies.join(friends, allergies.person == friends.name, id=allergies.id).select(\n",
        "        friends.name, allergies.allergy, friends.budget\n",
        "    )\n",
        ")"
      ]
    },
    {
      "cell_type": "markdown",
      "id": "9c4a8dbc",
      "metadata": {},
      "source": [
        "### Failed id inheritance: duplicate id-s\n",
        "The first possible problem with inheriting id is that one row of the source table\n",
        "could be matched with several entries of the other table. The code below will\n",
        "cause such a problem, and will raise a `KeyError` error."
      ]
    },
    {
      "cell_type": "code",
      "execution_count": 29,
      "id": "7d7f484f",
      "metadata": {
        "execution": {
          "iopub.execute_input": "2023-03-01T15:40:01.790834Z",
          "iopub.status.busy": "2023-03-01T15:40:01.790610Z",
          "iopub.status.idle": "2023-03-01T15:40:01.792422Z",
          "shell.execute_reply": "2023-03-01T15:40:01.792130Z"
        }
      },
      "outputs": [],
      "source": [
        "pw.debug.compute_and_print(\n",
        "    allergies.join(friends, allergies.person == friends.name, id=friends.id).select(\n",
        "        friends.name, allergies.allergy\n",
        "    )\n",
        ")\n",
        "[stacktrace...]\n",
        "KeyError: 'duplicate key: ^SERVYWW6KDGEQ2WVZ3ZZB86VSR'"
      ]
    },
    {
      "cell_type": "markdown",
      "id": "aadbd277",
      "metadata": {
        "lines_to_next_cell": 2
      },
      "source": [
        "### Failed id inheritance: empty id-s\n",
        "Finally, if you consider outer joins between those two tables, you\n",
        "may encounter a situation in which you need to assign an id that is empty in the join result:"
      ]
    },
    {
      "cell_type": "code",
      "execution_count": 30,
      "id": "0ae7dbb6",
      "metadata": {
        "execution": {
          "iopub.execute_input": "2023-03-01T15:40:01.794084Z",
          "iopub.status.busy": "2023-03-01T15:40:01.793843Z",
          "iopub.status.idle": "2023-03-01T15:40:01.798632Z",
          "shell.execute_reply": "2023-03-01T15:40:01.798324Z"
        }
      },
      "outputs": [
        {
          "name": "stdout",
          "output_type": "stream",
          "text": [
            "            | name  | allergy | allergies_id\n",
            "^AHH9C80... | Alice | milk    | ^SP3EQAR...\n",
            "^2BR8WRG... | Bob   | eggs    | ^H9SEXTP...\n",
            "^Y5CAVAS... | Carol | milk    | ^CWQ381T...\n",
            "^WQENVG9... | Carol | peanuts | ^9PXHKBD...\n",
            "^F6RXSB7... | Dan   |         |\n"
          ]
        }
      ],
      "source": [
        "pw.debug.compute_and_print(\n",
        "    allergies.right_join(friends, allergies.person == friends.name).select(\n",
        "        friends.name, allergies.allergy, allergies_id=allergies.id\n",
        "    )\n",
        ")"
      ]
    },
    {
      "cell_type": "markdown",
      "id": "1096dcfb",
      "metadata": {},
      "source": [
        "As you can see, the `allergies_id` field is not set for Dan's entry. If you try to use\n",
        "`allergies.id` as the `id` parameter, you will encounter a `TypeError` error."
      ]
    },
    {
      "cell_type": "code",
      "execution_count": 31,
      "id": "d0ca31e6",
      "metadata": {
        "execution": {
          "iopub.execute_input": "2023-03-01T15:40:01.800178Z",
          "iopub.status.busy": "2023-03-01T15:40:01.799938Z",
          "iopub.status.idle": "2023-03-01T15:40:01.801760Z",
          "shell.execute_reply": "2023-03-01T15:40:01.801467Z"
        }
      },
      "outputs": [],
      "source": [
        "pw.debug.compute_and_print(\n",
        "    allergies.right_join(\n",
        "        friends, allergies.person == friends.name, id=allergies.id\n",
        "    ).select(friends.name, allergies.allergy, allergies_id=allergies.id)\n",
        ")\n",
        "[stacktrace...]\n",
        "TypeError: type mismatch: expected a pointer, got None"
      ]
    },
    {
      "cell_type": "markdown",
      "id": "998a008b",
      "metadata": {},
      "source": [
        "## Joins on a foreign key\n",
        "In Pathway, the id column is auto-generated, and as such joining over a foreign key kept in\n",
        "some other table requires extra care. Let's assume that you have another table `likes`\n",
        "that indicates that a friend (row in `friends`) likes some particular dish (row in `menu`)."
      ]
    },
    {
      "cell_type": "code",
      "execution_count": 32,
      "id": "fefcd32b",
      "metadata": {
        "execution": {
          "iopub.execute_input": "2023-03-01T15:40:01.803268Z",
          "iopub.status.busy": "2023-03-01T15:40:01.803029Z",
          "iopub.status.idle": "2023-03-01T15:40:01.806956Z",
          "shell.execute_reply": "2023-03-01T15:40:01.806654Z"
        }
      },
      "outputs": [],
      "source": [
        "likes = pw.debug.table_from_markdown(\n",
        "    \"\"\"\n",
        "    | f_id  | m_id\n",
        "100 | 1     | 11\n",
        "101 | 1     | 13\n",
        "102 | 2     | 12\n",
        "103 | 2     | 13\n",
        "104 | 3     | 11\n",
        "105 | 3     | 14\n",
        "106 | 3     | 13\n",
        "107 | 4     | 12\n",
        "108 | 4     | 14\n",
        "\"\"\"\n",
        ")"
      ]
    },
    {
      "cell_type": "markdown",
      "id": "06da2baa",
      "metadata": {},
      "source": [
        "Without further specification, Pathway treats columns `f_id` and `m_id` as numbers:"
      ]
    },
    {
      "cell_type": "code",
      "execution_count": 33,
      "id": "8b4b3127",
      "metadata": {
        "execution": {
          "iopub.execute_input": "2023-03-01T15:40:01.808466Z",
          "iopub.status.busy": "2023-03-01T15:40:01.808214Z",
          "iopub.status.idle": "2023-03-01T15:40:01.811065Z",
          "shell.execute_reply": "2023-03-01T15:40:01.810749Z"
        }
      },
      "outputs": [
        {
          "name": "stdout",
          "output_type": "stream",
          "text": [
            "            | f_id | m_id\n",
            "^M1T2QKJ... | 1    | 11\n",
            "^4RH155M... | 1    | 13\n",
            "^YQ30FHF... | 2    | 12\n",
            "^AMFB2M6... | 2    | 13\n",
            "^7J00RXZ... | 3    | 11\n",
            "^NZSWGHA... | 3    | 13\n",
            "^FCVQG87... | 3    | 14\n",
            "^V771XE5... | 4    | 12\n",
            "^0HAWE8Q... | 4    | 14\n"
          ]
        }
      ],
      "source": [
        "pw.debug.compute_and_print(likes)"
      ]
    },
    {
      "cell_type": "markdown",
      "id": "15f61421",
      "metadata": {},
      "source": [
        "while the id of tables `friends` and `menu` was converted to Pointer.\n"
      ]
    },
    {
      "cell_type": "code",
      "execution_count": 34,
      "id": "309318fd",
      "metadata": {
        "execution": {
          "iopub.execute_input": "2023-03-01T15:40:01.812584Z",
          "iopub.status.busy": "2023-03-01T15:40:01.812329Z",
          "iopub.status.idle": "2023-03-01T15:40:01.815853Z",
          "shell.execute_reply": "2023-03-01T15:40:01.815550Z"
        }
      },
      "outputs": [
        {
          "name": "stdout",
          "output_type": "stream",
          "text": [
            "            | name  | budget\n",
            "^2TMTFGY... | Alice | 13\n",
            "^YHZBTNY... | Bob   | 10\n",
            "^SERVYWW... | Carol | 11\n",
            "^8GR6BSX... | Dan   | 12\n",
            "            | dish              | price\n",
            "^VYA37VV... | jam_pb_pancakes   | 12\n",
            "^HMETZT8... | pancakes_with_jam | 11\n",
            "^4B2REY1... | pb_jam_sandwich   | 9\n",
            "^SE0WWPZ... | scrambled_egg     | 11\n"
          ]
        }
      ],
      "source": [
        "pw.debug.compute_and_print(friends)\n",
        "pw.debug.compute_and_print(menu)"
      ]
    },
    {
      "cell_type": "markdown",
      "id": "11f941d0",
      "metadata": {},
      "source": [
        "\n",
        "To handle joins using those columns, you can use `pointer_from` function"
      ]
    },
    {
      "cell_type": "code",
      "execution_count": 35,
      "id": "7edc4446",
      "metadata": {
        "execution": {
          "iopub.execute_input": "2023-03-01T15:40:01.817348Z",
          "iopub.status.busy": "2023-03-01T15:40:01.817105Z",
          "iopub.status.idle": "2023-03-01T15:40:01.821572Z",
          "shell.execute_reply": "2023-03-01T15:40:01.821235Z"
        }
      },
      "outputs": [
        {
          "name": "stdout",
          "output_type": "stream",
          "text": [
            "            | f_id | m_id | f_id_ptr    | m_id_ptr\n",
            "^M1T2QKJ... | 1    | 11   | ^2TMTFGY... | ^HMETZT8...\n",
            "^4RH155M... | 1    | 13   | ^2TMTFGY... | ^VYA37VV...\n",
            "^YQ30FHF... | 2    | 12   | ^YHZBTNY... | ^4B2REY1...\n",
            "^AMFB2M6... | 2    | 13   | ^YHZBTNY... | ^VYA37VV...\n",
            "^7J00RXZ... | 3    | 11   | ^SERVYWW... | ^HMETZT8...\n",
            "^NZSWGHA... | 3    | 13   | ^SERVYWW... | ^VYA37VV...\n",
            "^FCVQG87... | 3    | 14   | ^SERVYWW... | ^SE0WWPZ...\n",
            "^V771XE5... | 4    | 12   | ^8GR6BSX... | ^4B2REY1...\n",
            "^0HAWE8Q... | 4    | 14   | ^8GR6BSX... | ^SE0WWPZ...\n"
          ]
        }
      ],
      "source": [
        "likes += likes.select(\n",
        "    f_id_ptr=friends.pointer_from(likes.f_id),\n",
        "    m_id_ptr=menu.pointer_from(likes.m_id),\n",
        ")\n",
        "pw.debug.compute_and_print(likes)"
      ]
    },
    {
      "cell_type": "markdown",
      "id": "209bc997",
      "metadata": {},
      "source": [
        "An [example of code](#long-chain-example) joining `friends` with `menu` using `likes`\n",
        "is presented the next section on chaining joins."
      ]
    },
    {
      "cell_type": "markdown",
      "id": "58780e15",
      "metadata": {},
      "source": [
        "## Chaining joins:\n",
        "Pathway provides two ways of chaining joins. The first relies on usage of `pw.this`,\n",
        "the second allows for slightly more compact code. Below, let's focus on chaining joins\n",
        "using `pw.left`.\n",
        "\n",
        " ### Simple join chaining\n",
        "Below, you will do chain joins using `pw.left` and `pw.right`. To show how it can be used, let's revisit\n",
        "the first example of `left_join`, in which you computed a `left_join` on a table\n",
        "that was obtained by another `left_join`. Instead of storing the result of the first\n",
        "`left_join` in `people_allergies`, you can use the following:"
      ]
    },
    {
      "cell_type": "code",
      "execution_count": 36,
      "id": "e0a77250",
      "metadata": {
        "execution": {
          "iopub.execute_input": "2023-03-01T15:40:01.823155Z",
          "iopub.status.busy": "2023-03-01T15:40:01.822957Z",
          "iopub.status.idle": "2023-03-01T15:40:01.829407Z",
          "shell.execute_reply": "2023-03-01T15:40:01.829095Z"
        }
      },
      "outputs": [
        {
          "name": "stdout",
          "output_type": "stream",
          "text": [
            "            | name  | dish\n",
            "^Y4H9YJC... | Alice | jam_pb_pancakes\n",
            "^MHQRNFF... | Alice | pancakes_with_jam\n",
            "^4DQ4S80... | Bob   | jam_pb_pancakes\n",
            "^XPGS5EQ... | Bob   | pancakes_with_jam\n",
            "^63EGDX6... | Bob   | scrambled_egg\n",
            "^YZ60CRJ... | Carol | jam_pb_pancakes\n",
            "^K3K3E16... | Carol | jam_pb_pancakes\n",
            "^M6FZ6K4... | Carol | pancakes_with_jam\n",
            "^RN5X9SH... | Carol | pb_jam_sandwich\n",
            "^Y317MGR... | Dan   |\n"
          ]
        }
      ],
      "source": [
        "pw.debug.compute_and_print(\n",
        "    friends.left_join(allergies, friends.name == allergies.person)\n",
        "    .select(friends.name, allergies.allergy, friends.budget)\n",
        "    .left_join(allergens_in_menu, pw.left.allergy == pw.right.allergen)\n",
        "    .select(pw.this.name, allergens_in_menu.dish)\n",
        ")"
      ]
    },
    {
      "cell_type": "markdown",
      "id": "c7a543c0",
      "metadata": {},
      "source": [
        "Essentially, for a join `left.join(right, *on)`, `pw.left` allows us to address the `left` table\n",
        "and `pw.right` allows us to address the `right` table. In this particular example, `pw.left` allows us to address the table computed by\n",
        "\n",
        "      friends.left_join(allergies, friends.name == allergies.person\n",
        "          ).select(friends.name, allergies.allergy)\n",
        "\n",
        "without breaking the chain and storing intermediate results in a temporary\n",
        "variable.\n",
        "\n",
        "More generally, given a chain:\n",
        "\n",
        "_MD_SHOW_table.join(...).select(...).join(...).select(...)...\n",
        "\n",
        "`pw.left` can be used to address the result of the latest select.\n",
        "\n",
        "While in the example above `pw.right` is essentially a replacement for `allergens_in_menu`,\n",
        "it can be also used to address a table that is passed as an argument of a join, but is\n",
        "not assigned to any variable.\n",
        "\n",
        "To show `pw.right` in action, you can go back to our [example](#expressions-using-unmatched-rows) showing basic consumer information,\n",
        "and compute it directly from tables `friends`, `allergies`, and `allergens_in_menu`."
      ]
    },
    {
      "cell_type": "code",
      "execution_count": 37,
      "id": "ba676431",
      "metadata": {
        "execution": {
          "iopub.execute_input": "2023-03-01T15:40:01.831026Z",
          "iopub.status.busy": "2023-03-01T15:40:01.830761Z",
          "iopub.status.idle": "2023-03-01T15:40:01.837438Z",
          "shell.execute_reply": "2023-03-01T15:40:01.837117Z"
        }
      },
      "outputs": [
        {
          "name": "stdout",
          "output_type": "stream",
          "text": [
            "            | name  | budget | note\n",
            "^B74N75K... | Alice | 13     | Alice can't eat jam_pb_pancakes.\n",
            "^YZBNRSA... | Alice | 13     | Alice can't eat pancakes_with_jam.\n",
            "^Z8QGSEZ... | Bob   | 10     | Bob can't eat jam_pb_pancakes.\n",
            "^CHHK1Q9... | Bob   | 10     | Bob can't eat pancakes_with_jam.\n",
            "^DHWEFAB... | Bob   | 10     | Bob can't eat scrambled_egg.\n",
            "^2SGPETY... | Carol | 11     | Carol can't eat jam_pb_pancakes.\n",
            "^ADRQJVA... | Carol | 11     | Carol can't eat jam_pb_pancakes.\n",
            "^JCXPCDF... | Carol | 11     | Carol can't eat pancakes_with_jam.\n",
            "^H2S7YN7... | Carol | 11     | Carol can't eat pb_jam_sandwich.\n",
            "^QWN3RXE... | Dan   | 12     | Dan has no food restrictions.\n"
          ]
        }
      ],
      "source": [
        "basic_customer_info = friends.left_join(\n",
        "    allergies.join(\n",
        "        allergens_in_menu, allergies.allergy == allergens_in_menu.allergen\n",
        "    ).select(\n",
        "        allergens_in_menu.dish,\n",
        "        allergies.person,\n",
        "    ),\n",
        "    friends.name == pw.right.person,\n",
        ").select(\n",
        "    friends.name,\n",
        "    friends.budget,\n",
        "    note=pw.apply(make_food_constraint_note_none_tolerant, friends.name, pw.right.dish),\n",
        ")\n",
        "pw.debug.compute_and_print(basic_customer_info)"
      ]
    },
    {
      "cell_type": "markdown",
      "id": "943bf43d",
      "metadata": {},
      "source": [
        "### Long chain example\n",
        "To demonstrate longer chains in action, let's go back to the table `likes` you used to\n",
        "show how to handle (generate) foreign keys."
      ]
    },
    {
      "cell_type": "code",
      "execution_count": 38,
      "id": "a6cabe85",
      "metadata": {
        "execution": {
          "iopub.execute_input": "2023-03-01T15:40:01.838947Z",
          "iopub.status.busy": "2023-03-01T15:40:01.838750Z",
          "iopub.status.idle": "2023-03-01T15:40:01.851652Z",
          "shell.execute_reply": "2023-03-01T15:40:01.851335Z"
        }
      },
      "outputs": [
        {
          "name": "stdout",
          "output_type": "stream",
          "text": [
            "            | name  | budget | dish              | price | allergy | allergen\n",
            "^C7E41EW... | Alice | 13     | jam_pb_pancakes   | 12    | milk    | eggs\n",
            "^3C8BYCT... | Alice | 13     | jam_pb_pancakes   | 12    | milk    | peanuts\n",
            "^V49K9AY... | Alice | 13     | pancakes_with_jam | 11    | milk    | eggs\n",
            "^5HD9M6D... | Bob   | 10     | pb_jam_sandwich   | 9     | eggs    | peanuts\n",
            "^3F4G2QJ... | Carol | 11     | pancakes_with_jam | 11    | milk    | eggs\n",
            "^Q416RZ3... | Carol | 11     | pancakes_with_jam | 11    | peanuts | eggs\n",
            "^05R585H... | Carol | 11     | pancakes_with_jam | 11    | peanuts | milk\n",
            "^ZP22G15... | Carol | 11     | scrambled_egg     | 11    | milk    | eggs\n",
            "^Z3CSET2... | Carol | 11     | scrambled_egg     | 11    | peanuts | eggs\n",
            "^9RVY4QH... | Dan   | 12     | pb_jam_sandwich   | 9     |         | peanuts\n",
            "^V50MGNK... | Dan   | 12     | scrambled_egg     | 11    |         | eggs\n"
          ]
        }
      ],
      "source": [
        "feasible_choice = (\n",
        "    friends.join(likes, friends.id == likes.f_id_ptr)\n",
        "    .select(friends.name, friends.budget, likes.m_id_ptr)\n",
        "    .join(menu, pw.left.m_id_ptr == menu.id)\n",
        "    .select(pw.left.name, pw.left.budget, menu.dish, menu.price)\n",
        "    .left_join(allergies, pw.left.name == pw.right.person)\n",
        "    .select(\n",
        "        pw.left.name, pw.left.budget, pw.left.dish, pw.left.price, allergies.allergy\n",
        "    )\n",
        "    .join(allergens_in_menu, pw.left.dish == pw.right.dish)\n",
        "    .select(\n",
        "        pw.left.name,\n",
        "        pw.left.budget,\n",
        "        pw.left.dish,\n",
        "        pw.left.price,\n",
        "        pw.left.allergy,\n",
        "        allergens_in_menu.allergen,\n",
        "    )\n",
        "    .filter((pw.this.price <= pw.this.budget) & (pw.this.allergy != pw.this.allergen))\n",
        ")\n",
        "pw.debug.compute_and_print(feasible_choice)"
      ]
    },
    {
      "cell_type": "markdown",
      "id": "57063487",
      "metadata": {},
      "source": [
        "As you can see, this table contains all choices of person and dish, such that a person likes\n",
        "a particular dish, is not allergic to it, and can afford it. You can further simplify\n",
        "the result by adding another groupby-reduce at the end of the chain."
      ]
    },
    {
      "cell_type": "code",
      "execution_count": 39,
      "id": "ce073c45",
      "metadata": {
        "execution": {
          "iopub.execute_input": "2023-03-01T15:40:01.853141Z",
          "iopub.status.busy": "2023-03-01T15:40:01.852934Z",
          "iopub.status.idle": "2023-03-01T15:40:01.861491Z",
          "shell.execute_reply": "2023-03-01T15:40:01.861174Z"
        }
      },
      "outputs": [
        {
          "name": "stdout",
          "output_type": "stream",
          "text": [
            "            | name  | dish              | budget | price\n",
            "^XJV0C2H... | Alice | jam_pb_pancakes   | 13     | 12\n",
            "^B9PDF7J... | Alice | pancakes_with_jam | 13     | 11\n",
            "^86P08KH... | Bob   | pb_jam_sandwich   | 10     | 9\n",
            "^FS0VA1H... | Carol | pancakes_with_jam | 11     | 11\n",
            "^SFK6S54... | Carol | scrambled_egg     | 11     | 11\n",
            "^AN8SK6X... | Dan   | pb_jam_sandwich   | 12     | 9\n",
            "^G13RSRH... | Dan   | scrambled_egg     | 12     | 11\n"
          ]
        }
      ],
      "source": [
        "pw.debug.compute_and_print(\n",
        "    feasible_choice.groupby(\n",
        "        pw.this.name, pw.this.dish, pw.this.budget, pw.this.price\n",
        "    ).reduce(pw.this.name, pw.this.dish, pw.this.budget, pw.this.price)\n",
        ")"
      ]
    },
    {
      "cell_type": "markdown",
      "id": "d972ec4b",
      "metadata": {},
      "source": [
        "Furthermore, one can make this piece of code more compact, using the [* notation](https://pathway.com/developers/documentation/table-operations/survival-guide/#select-and-notations))."
      ]
    },
    {
      "cell_type": "code",
      "execution_count": 40,
      "id": "e776de10",
      "metadata": {
        "execution": {
          "iopub.execute_input": "2023-03-01T15:40:01.863035Z",
          "iopub.status.busy": "2023-03-01T15:40:01.862789Z",
          "iopub.status.idle": "2023-03-01T15:40:01.877788Z",
          "shell.execute_reply": "2023-03-01T15:40:01.877469Z"
        }
      },
      "outputs": [
        {
          "name": "stdout",
          "output_type": "stream",
          "text": [
            "            | name  | budget | dish              | price | allergy | allergen\n",
            "^9CRN3ZD... | Alice | 13     | jam_pb_pancakes   | 12    | milk    | eggs\n",
            "^7QMJ3B9... | Alice | 13     | jam_pb_pancakes   | 12    | milk    | peanuts\n",
            "^GQW4NHH... | Alice | 13     | pancakes_with_jam | 11    | milk    | eggs\n",
            "^W4B3N70... | Bob   | 10     | pb_jam_sandwich   | 9     | eggs    | peanuts\n",
            "^Q5RKM31... | Carol | 11     | pancakes_with_jam | 11    | milk    | eggs\n",
            "^20S1PGP... | Carol | 11     | pancakes_with_jam | 11    | peanuts | eggs\n",
            "^KX97P8Q... | Carol | 11     | pancakes_with_jam | 11    | peanuts | milk\n",
            "^0DHKVMF... | Carol | 11     | scrambled_egg     | 11    | milk    | eggs\n",
            "^T0MTJM0... | Carol | 11     | scrambled_egg     | 11    | peanuts | eggs\n",
            "^YZQNPFW... | Dan   | 12     | pb_jam_sandwich   | 9     |         | peanuts\n",
            "^CND5GJ8... | Dan   | 12     | scrambled_egg     | 11    |         | eggs\n"
          ]
        }
      ],
      "source": [
        "pw.debug.compute_and_print(\n",
        "    friends.join(likes, friends.id == likes.f_id_ptr)\n",
        "    .select(*friends, likes.m_id_ptr)\n",
        "    .join(menu, pw.left.m_id_ptr == menu.id)\n",
        "    .select(*pw.left, *menu)\n",
        "    .without(pw.this.m_id_ptr)\n",
        "    .left_join(allergies, pw.left.name == pw.right.person)\n",
        "    .select(*pw.left, allergies.allergy)\n",
        "    .join(allergens_in_menu, pw.left.dish == pw.right.dish)\n",
        "    .select(*pw.left, allergens_in_menu.allergen)\n",
        "    .filter((pw.this.price <= pw.this.budget) & (pw.this.allergy != pw.this.allergen))\n",
        "    .select(*pw.this)\n",
        "    .groupby(*pw.this)\n",
        "    .reduce(*pw.this)\n",
        ")"
      ]
    }
  ],
  "metadata": {
    "jupytext": {
      "cell_metadata_filter": "-all",
      "main_language": "python",
      "notebook_metadata_filter": "-all"
    },
    "language_info": {
      "codemirror_mode": {
        "name": "ipython",
        "version": 3
      },
      "file_extension": ".py",
      "mimetype": "text/x-python",
      "name": "python",
      "nbconvert_exporter": "python",
      "pygments_lexer": "ipython3",
      "version": "3.10.8"
    }
  },
  "nbformat": 4,
  "nbformat_minor": 5
}