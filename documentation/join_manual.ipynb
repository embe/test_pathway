{
  "cells": [
    {
      "cell_type": "markdown",
      "metadata": {
        "id": "view-in-colab"
      },
      "source": [
        "<a href=\"https://colab.research.google.com/github/pathwaycom/pathway-examples/blob/main/documentation/join_manual.ipynb\" target=\"_parent\"><img src=\"https://pathway.com/assets/colab-badge.svg\" alt=\"Run In Colab\" class=\"inline\"/></a>"
      ]
    },
    {
      "cell_type": "markdown",
      "source": [
        "# [Colab-specific instructions] Installing Python 3.8+ and Pathway\n",
        "\n",
        "> Pathway requires Python >=3.8 and works best with Python 3.10.\n",
        ">\n",
        "> In the cell below we install pathway into any Python 3.8+ runtime!\n",
        "> Please:\n",
        "> 1. **IF running under Google Colab, do \"File\" -> \"Save a copy in Drive\"**, before running any cell.\n",
        "> 2. **Insert in the form below the pip install link** given to you with your beta access.\n",
        "> 3. **Run the colab notebook (Ctrl+F9)**, disregarding the 'not authored by Google' warning. **The installation and loading time is about 2 minutes**.\n"
      ],
      "metadata": {
        "id": "notebook-instructions"
      }
    },
    {
      "cell_type": "code",
      "source": [
        "#@title \u2699\ufe0f Pathway installer. Please provide the pip install link for Pathway:\n",
        "# Please copy here the installation line:\n",
        "PATHWAY_INSTALL_LINE='' #@param {type:\"string\"}\n",
        "\n",
        "if PATHWAY_INSTALL_LINE.startswith('pip install '):\n",
        "    PATHWAY_INSTALL_LINE=PATHWAY_INSTALL_LINE[len('pip install '):]\n",
        "\n",
        "class InterruptExecution(Exception):\n",
        "    def _render_traceback_(self):\n",
        "        pass\n",
        "\n",
        "if '...' in PATHWAY_INSTALL_LINE or not PATHWAY_INSTALL_LINE.startswith('https://'):\n",
        "    print(\n",
        "        \"\u26d4 Please register at https://pathway.com/developers/documentation/introduction/installation-and-first-steps\\n\"\n",
        "        \"to Copy & Paste the Linux pip install line for Pathway!\"\n",
        "    )\n",
        "    raise InterruptExecution\n",
        "\n",
        "DO_INSTALL = False\n",
        "import sys\n",
        "if sys.version_info >= (3, 8):\n",
        "    print(f'\u2705 Python {sys.version} is active.')\n",
        "    try:\n",
        "        import pathway as pw\n",
        "        print('\u2705 Pathway successfully imported.')\n",
        "    except:\n",
        "        DO_INSTALL = True\n",
        "else:\n",
        "    print(\"\u26d4 Pathway requires Python 3.8 or higher.\")\n",
        "    raise InterruptExecution\n",
        "\n",
        "if DO_INSTALL:\n",
        "    !ls $(dirname $(which python))/../lib/python*/*-packages/pathway 1>/dev/null 2>/dev/null || echo \"\u231b Installing Pathway. This usually takes 2-3 minutes...\"\n",
        "    !ls $(dirname $(which python))/../lib/python*/*-packages/pathway 1>/dev/null 2>/dev/null || pip install {PATHWAY_INSTALL_LINE} 1>/dev/null 2>/dev/null\n",
        "    !ls $(dirname $(which python))/../lib/python*/*-packages/pathway 1>/dev/null 2>/dev/null || echo \"\u26d4 Installation failed. Don't be shy to reach out to the community at https://pathway.com !\"\n",
        "    !ls $(dirname $(which python))/../lib/python*/*-packages/pathway 1>/dev/null 2>/dev/null && echo \"\u2705 All installed. Enjoy Pathway!\"\n"
      ],
      "metadata": {
        "id": "pip-installation-pathway",
        "cellView": "form"
      },
      "execution_count": null,
      "outputs": []
    },
    {
      "cell_type": "markdown",
      "id": "c0bda3e4",
      "metadata": {},
      "source": [
        "# Playing with joins.\n",
        "A brief explanation on how to perform joins with Pathway.\n",
        "\n",
        "Join is one of the basic table operation provided in Pathway.\n",
        "A join operation combines columns from two different tables by associating rows with matching some given values both tables.\n",
        "\n",
        "This guide presents several samples of code using the joins:\n",
        "*  [join (inner join)](#simple-inner-join)\n",
        "*  [left_join, right_join, outer_join (outer_joins)](#outer-joins)\n",
        "\n",
        "\n",
        "The examples demonstrate usual use-cases, explain the behavior of\n",
        "outer joins, and point out some peculiarities you may encounter\n",
        "while using Pathway. In particular, they show how to:\n",
        "* [inherit id from left or right table](#id-inheritance-in-join)\n",
        "* [join tables using foreign keys](#joins-on-a-foreign-key)\n",
        "* [use joins in a chain](#chaining-joins)"
      ]
    },
    {
      "cell_type": "markdown",
      "id": "2b3bddd6",
      "metadata": {},
      "source": [
        "## Prerequisites\n",
        "\n",
        "Be sure to import Pathway."
      ]
    },
    {
      "cell_type": "code",
      "execution_count": 1,
      "id": "b57bed96",
      "metadata": {
        "execution": {
          "iopub.execute_input": "2022-12-28T00:19:42.398323Z",
          "iopub.status.busy": "2022-12-28T00:19:42.398075Z",
          "iopub.status.idle": "2022-12-28T00:19:43.904104Z",
          "shell.execute_reply": "2022-12-28T00:19:43.903465Z"
        }
      },
      "outputs": [],
      "source": [
        "import pathway as pw"
      ]
    },
    {
      "cell_type": "markdown",
      "id": "2686841d",
      "metadata": {},
      "source": [
        "\n",
        "Also, we need some tables to play with. For the sake of presentation,\n",
        "let us consider a following made up scenario: a group of four friends\n",
        "(table friends) goes to grab some breakfast.\n"
      ]
    },
    {
      "cell_type": "code",
      "execution_count": 2,
      "id": "44f21853",
      "metadata": {
        "execution": {
          "iopub.execute_input": "2022-12-28T00:19:43.907193Z",
          "iopub.status.busy": "2022-12-28T00:19:43.906928Z",
          "iopub.status.idle": "2022-12-28T00:19:43.916645Z",
          "shell.execute_reply": "2022-12-28T00:19:43.916272Z"
        },
        "lines_to_next_cell": 2
      },
      "outputs": [],
      "source": [
        "friends = pw.debug.table_from_markdown(\n",
        "    \"\"\"\n",
        "    | name  |budget\n",
        "  1 | Alice | 13\n",
        "  2 | Bob   | 10\n",
        "  3 | Carol | 11\n",
        "  4 | Dan   | 12\n",
        " \"\"\"\n",
        ")\n",
        "menu = pw.debug.table_from_markdown(\n",
        "    \"\"\"\n",
        "     | dish                              | price\n",
        "  11 | pancakes_with_jam                 | 11\n",
        "  12 | pb_jam_sandwich                   | 9\n",
        "  13 | jam_pb_pancakes                   | 12\n",
        "  14 | scrambled_egg                     | 11\n",
        " \"\"\"\n",
        ")"
      ]
    },
    {
      "cell_type": "markdown",
      "id": "1d96b853",
      "metadata": {},
      "source": [
        "#\n",
        "However, some of them have allergies (table allergies),\n",
        "and cannot eat everything. Luckily, the restaurant has a list\n",
        "of allergens contained in each dish (table allergens_in_menu).\n"
      ]
    },
    {
      "cell_type": "code",
      "execution_count": 3,
      "id": "3e2948c8",
      "metadata": {
        "execution": {
          "iopub.execute_input": "2022-12-28T00:19:43.918450Z",
          "iopub.status.busy": "2022-12-28T00:19:43.918309Z",
          "iopub.status.idle": "2022-12-28T00:19:43.924713Z",
          "shell.execute_reply": "2022-12-28T00:19:43.924367Z"
        }
      },
      "outputs": [],
      "source": [
        "allergies = pw.debug.table_from_markdown(\n",
        "    \"\"\"\n",
        "     | person| allergy\n",
        "  21 | Alice | milk\n",
        "  22 | Bob   | eggs\n",
        "  23 | Carol | peanuts\n",
        "  24 | Carol | milk\n",
        " \"\"\"\n",
        ")\n",
        "\n",
        "allergens_in_menu = pw.debug.table_from_markdown(\n",
        "    \"\"\"\n",
        "     | dish                              | allergen\n",
        "  31 | pancakes_with_jam                 | milk\n",
        "  32 | pancakes_with_jam                 | eggs\n",
        "  33 | pb_jam_sandwich                   | peanuts\n",
        "  34 | jam_pb_pancakes                   | eggs\n",
        "  35 | jam_pb_pancakes                   | peanuts\n",
        "  36 | jam_pb_pancakes                   | milk\n",
        "  37 | scrambled_egg                     | eggs\n",
        " \"\"\"\n",
        ")"
      ]
    },
    {
      "cell_type": "markdown",
      "id": "b47d5712",
      "metadata": {},
      "source": [
        "## Simple inner join\n",
        "### Syntax\n",
        "Putting it simply, the syntax of join is:"
      ]
    },
    {
      "cell_type": "code",
      "execution_count": 4,
      "id": "acebe4cb",
      "metadata": {
        "execution": {
          "iopub.execute_input": "2022-12-28T00:19:43.926588Z",
          "iopub.status.busy": "2022-12-28T00:19:43.926410Z",
          "iopub.status.idle": "2022-12-28T00:19:43.928359Z",
          "shell.execute_reply": "2022-12-28T00:19:43.928037Z"
        }
      },
      "outputs": [],
      "source": [
        "table.join(other, *on)"
      ]
    },
    {
      "cell_type": "markdown",
      "id": "914951f6",
      "metadata": {},
      "source": [
        "where\n",
        "* `table` and `other` are tables to be joined,\n",
        "* `*on` is a list of conditions of form:"
      ]
    },
    {
      "cell_type": "code",
      "execution_count": 5,
      "id": "7a3a9daa",
      "metadata": {
        "execution": {
          "iopub.execute_input": "2022-12-28T00:19:43.930045Z",
          "iopub.status.busy": "2022-12-28T00:19:43.929879Z",
          "iopub.status.idle": "2022-12-28T00:19:43.931751Z",
          "shell.execute_reply": "2022-12-28T00:19:43.931420Z"
        }
      },
      "outputs": [],
      "source": [
        "table.some_column == other.some_other_column"
      ]
    },
    {
      "cell_type": "markdown",
      "id": "f46b6a90",
      "metadata": {},
      "source": [
        "**Remark:** the order of tables in the condition matters. That is,\n",
        "a condition of the following form won't be accepted:"
      ]
    },
    {
      "cell_type": "code",
      "execution_count": 6,
      "id": "1b508f25",
      "metadata": {
        "execution": {
          "iopub.execute_input": "2022-12-28T00:19:43.933452Z",
          "iopub.status.busy": "2022-12-28T00:19:43.933289Z",
          "iopub.status.idle": "2022-12-28T00:19:43.935135Z",
          "shell.execute_reply": "2022-12-28T00:19:43.934819Z"
        }
      },
      "outputs": [],
      "source": [
        "other.some_other_column == table.some_column"
      ]
    },
    {
      "cell_type": "markdown",
      "id": "e9605d3f",
      "metadata": {},
      "source": [
        "### Examples\n",
        "As a warm-up, let us see how to make a simple join-queries.\n",
        "Let's begin with simple query that find all pairs person-dish\n",
        "that can put someone in a hospital."
      ]
    },
    {
      "cell_type": "code",
      "execution_count": 7,
      "id": "793d96c8",
      "metadata": {
        "execution": {
          "iopub.execute_input": "2022-12-28T00:19:43.936858Z",
          "iopub.status.busy": "2022-12-28T00:19:43.936692Z",
          "iopub.status.idle": "2022-12-28T00:19:43.943800Z",
          "shell.execute_reply": "2022-12-28T00:19:43.943422Z"
        },
        "lines_to_next_cell": 1
      },
      "outputs": [
        {
          "name": "stdout",
          "output_type": "stream",
          "text": [
            "            | dish              | person\n",
            "^NXS1ZCC... | jam_pb_pancakes   | Alice\n",
            "^TKSYTBX... | jam_pb_pancakes   | Bob\n",
            "^C62RFES... | jam_pb_pancakes   | Carol\n",
            "^BX7DMG3... | jam_pb_pancakes   | Carol\n",
            "^B7RFVMK... | pancakes_with_jam | Alice\n",
            "^51FP1WY... | pancakes_with_jam | Bob\n",
            "^FHCFCY1... | pancakes_with_jam | Carol\n",
            "^ZQ7DWQ8... | pb_jam_sandwich   | Carol\n",
            "^0MRRXPF... | scrambled_egg     | Bob\n"
          ]
        }
      ],
      "source": [
        "bad_match = allergies.join(\n",
        "    allergens_in_menu, allergies.allergy == allergens_in_menu.allergen\n",
        ").select(allergens_in_menu.dish, allergies.person)\n",
        "pw.debug.compute_and_print(bad_match)"
      ]
    },
    {
      "cell_type": "markdown",
      "id": "2c298f2f",
      "metadata": {},
      "source": [
        "#\n",
        "As we can see, the result is a table of life-threatening pairs.\n",
        "\n",
        "The `select` function works here similarly as `select` on a table. The difference is\n",
        "that here, we can use columns of both tables as arguments, e.g."
      ]
    },
    {
      "cell_type": "code",
      "execution_count": 8,
      "id": "bf4205a3",
      "metadata": {
        "execution": {
          "iopub.execute_input": "2022-12-28T00:19:43.945628Z",
          "iopub.status.busy": "2022-12-28T00:19:43.945446Z",
          "iopub.status.idle": "2022-12-28T00:19:43.950786Z",
          "shell.execute_reply": "2022-12-28T00:19:43.950425Z"
        }
      },
      "outputs": [
        {
          "name": "stdout",
          "output_type": "stream",
          "text": [
            "            | note\n",
            "^NXS1ZCC... | Alice can't eat jam_pb_pancakes.\n",
            "^B7RFVMK... | Alice can't eat pancakes_with_jam.\n",
            "^TKSYTBX... | Bob can't eat jam_pb_pancakes.\n",
            "^51FP1WY... | Bob can't eat pancakes_with_jam.\n",
            "^0MRRXPF... | Bob can't eat scrambled_egg.\n",
            "^C62RFES... | Carol can't eat jam_pb_pancakes.\n",
            "^BX7DMG3... | Carol can't eat jam_pb_pancakes.\n",
            "^FHCFCY1... | Carol can't eat pancakes_with_jam.\n",
            "^ZQ7DWQ8... | Carol can't eat pb_jam_sandwich.\n"
          ]
        }
      ],
      "source": [
        "def make_food_constraint_note(name, dish):\n",
        "    return f\"{name} can't eat {dish}.\"\n",
        "\n",
        "\n",
        "bad_match_note = allergies.join(\n",
        "    allergens_in_menu, allergies.allergy == allergens_in_menu.allergen\n",
        ").select(\n",
        "    note=pw.apply(make_food_constraint_note, allergies.person, allergens_in_menu.dish)\n",
        ")\n",
        "pw.debug.compute_and_print(bad_match_note)"
      ]
    },
    {
      "cell_type": "markdown",
      "id": "faa05ac2",
      "metadata": {},
      "source": [
        "*Remark:* note that id is now some auto generated number, which is the usual behavior of join."
      ]
    },
    {
      "cell_type": "markdown",
      "id": "ab0b11e8",
      "metadata": {},
      "source": [
        "### On self joins\n",
        "In order to perform a self join (a join of table with itself),\n",
        "we need to create its copy."
      ]
    },
    {
      "cell_type": "code",
      "execution_count": 9,
      "id": "778a1320",
      "metadata": {
        "execution": {
          "iopub.execute_input": "2022-12-28T00:19:43.952618Z",
          "iopub.status.busy": "2022-12-28T00:19:43.952444Z",
          "iopub.status.idle": "2022-12-28T00:19:43.958563Z",
          "shell.execute_reply": "2022-12-28T00:19:43.958195Z"
        }
      },
      "outputs": [
        {
          "name": "stdout",
          "output_type": "stream",
          "text": [
            "            | l_name | r_name\n",
            "^V26FYPD... | Alice  | Carol\n",
            "^YTH8WNY... | Carol  | Alice\n"
          ]
        }
      ],
      "source": [
        "same_allergies = (\n",
        "    allergies.join(\n",
        "        allergies_copy := allergies.copy(), allergies.allergy == allergies_copy.allergy\n",
        "    )\n",
        "    .select(\n",
        "        l_name=allergies.person,\n",
        "        r_name=allergies_copy.person,\n",
        "    )\n",
        "    .filter(pw.this.l_name != pw.this.r_name)\n",
        ")\n",
        "\n",
        "pw.debug.compute_and_print(same_allergies)"
      ]
    },
    {
      "cell_type": "markdown",
      "id": "71538569",
      "metadata": {},
      "source": [
        "## Outer joins\n",
        "The difference between outer joins and joins is that the outer join adds to the result\n",
        "table also entries that didn't match:"
      ]
    },
    {
      "cell_type": "code",
      "execution_count": 10,
      "id": "0a09a779",
      "metadata": {
        "execution": {
          "iopub.execute_input": "2022-12-28T00:19:43.960321Z",
          "iopub.status.busy": "2022-12-28T00:19:43.960156Z",
          "iopub.status.idle": "2022-12-28T00:19:43.962079Z",
          "shell.execute_reply": "2022-12-28T00:19:43.961755Z"
        }
      },
      "outputs": [],
      "source": [
        "left.left_join(right, conditions)"
      ]
    },
    {
      "cell_type": "markdown",
      "id": "d22740aa",
      "metadata": {},
      "source": [
        "includes entries from the *left* table and"
      ]
    },
    {
      "cell_type": "code",
      "execution_count": 11,
      "id": "97bbcf10",
      "metadata": {
        "execution": {
          "iopub.execute_input": "2022-12-28T00:19:43.963838Z",
          "iopub.status.busy": "2022-12-28T00:19:43.963674Z",
          "iopub.status.idle": "2022-12-28T00:19:43.965539Z",
          "shell.execute_reply": "2022-12-28T00:19:43.965208Z"
        }
      },
      "outputs": [],
      "source": [
        "left.right_join(right, conditions)"
      ]
    },
    {
      "cell_type": "markdown",
      "id": "fa3177c0",
      "metadata": {},
      "source": [
        "includes entries from the *right* table."
      ]
    },
    {
      "cell_type": "markdown",
      "id": "b7bdc371",
      "metadata": {},
      "source": [
        "### Simple example\n",
        "To demonstrate outer-joins, we can consider a question about forbidden\n",
        "breakfast configurations (i.e. pairs person-dish, such that person is\n",
        "allergic to some ingredients)."
      ]
    },
    {
      "cell_type": "code",
      "execution_count": 12,
      "id": "d1208aa7",
      "metadata": {
        "execution": {
          "iopub.execute_input": "2022-12-28T00:19:43.967298Z",
          "iopub.status.busy": "2022-12-28T00:19:43.967138Z",
          "iopub.status.idle": "2022-12-28T00:19:44.078069Z",
          "shell.execute_reply": "2022-12-28T00:19:44.077542Z"
        }
      },
      "outputs": [
        {
          "name": "stdout",
          "output_type": "stream",
          "text": [
            "            | name  | allergy\n",
            "^CEESHNP... | Alice | milk\n",
            "^GKYNQB3... | Bob   | eggs\n",
            "^MCCDMWQ... | Carol | milk\n",
            "^28382DM... | Carol | peanuts\n",
            "^C4VQQCA... | Dan   |\n",
            "            | name  | dish\n",
            "^Y4H9YJC... | Alice | jam_pb_pancakes\n",
            "^MHQRNFF... | Alice | pancakes_with_jam\n",
            "^4DQ4S80... | Bob   | jam_pb_pancakes\n",
            "^XPGS5EQ... | Bob   | pancakes_with_jam\n",
            "^63EGDX6... | Bob   | scrambled_egg\n",
            "^YZ60CRJ... | Carol | jam_pb_pancakes\n",
            "^K3K3E16... | Carol | jam_pb_pancakes\n",
            "^M6FZ6K4... | Carol | pancakes_with_jam\n",
            "^RN5X9SH... | Carol | pb_jam_sandwich\n",
            "^56TWKCC... | Dan   |\n"
          ]
        }
      ],
      "source": [
        "people_allergies = friends.left_join(\n",
        "    allergies, friends.name == allergies.person\n",
        ").select(friends.name, allergies.allergy)\n",
        "pw.debug.compute_and_print(people_allergies)\n",
        "\n",
        "forbidden_breakfast = people_allergies.left_join(\n",
        "    allergens_in_menu, people_allergies.allergy == allergens_in_menu.allergen\n",
        ").select(people_allergies.name, allergens_in_menu.dish)\n",
        "pw.debug.compute_and_print(forbidden_breakfast)"
      ]
    },
    {
      "cell_type": "markdown",
      "id": "1741f706",
      "metadata": {},
      "source": [
        "Now, as we can see, the table has duplicate rows. This is intended behavior, as\n",
        "a particular person can be allergic to more than one ingredient. In other words,\n",
        "when we add a reason column to our result table, we can see that each row was\n",
        "included in the table above for a different reason."
      ]
    },
    {
      "cell_type": "code",
      "execution_count": 13,
      "id": "ec382a99",
      "metadata": {
        "execution": {
          "iopub.execute_input": "2022-12-28T00:19:44.080085Z",
          "iopub.status.busy": "2022-12-28T00:19:44.079900Z",
          "iopub.status.idle": "2022-12-28T00:19:44.096947Z",
          "shell.execute_reply": "2022-12-28T00:19:44.096533Z"
        },
        "lines_to_next_cell": 2
      },
      "outputs": [
        {
          "name": "stdout",
          "output_type": "stream",
          "text": [
            "            | name  | dish              | reason\n",
            "^Y4H9YJC... | Alice | jam_pb_pancakes   | milk\n",
            "^MHQRNFF... | Alice | pancakes_with_jam | milk\n",
            "^4DQ4S80... | Bob   | jam_pb_pancakes   | eggs\n",
            "^XPGS5EQ... | Bob   | pancakes_with_jam | eggs\n",
            "^63EGDX6... | Bob   | scrambled_egg     | eggs\n",
            "^YZ60CRJ... | Carol | jam_pb_pancakes   | milk\n",
            "^K3K3E16... | Carol | jam_pb_pancakes   | peanuts\n",
            "^M6FZ6K4... | Carol | pancakes_with_jam | milk\n",
            "^RN5X9SH... | Carol | pb_jam_sandwich   | peanuts\n",
            "^56TWKCC... | Dan   |                   |\n"
          ]
        }
      ],
      "source": [
        "forbidden_breakfast = people_allergies.left_join(\n",
        "    allergens_in_menu, people_allergies.allergy == allergens_in_menu.allergen\n",
        ").select(\n",
        "    people_allergies.name, allergens_in_menu.dish, reason=allergens_in_menu.allergen\n",
        ")\n",
        "pw.debug.compute_and_print(forbidden_breakfast)"
      ]
    },
    {
      "cell_type": "markdown",
      "id": "1c1c054c",
      "metadata": {},
      "source": [
        "### Removing duplicates\n",
        "If we really want to have a table without the 'reason' column and without\n",
        "duplicates, we can achieve that with extra `groupby` and `reduce` :"
      ]
    },
    {
      "cell_type": "code",
      "execution_count": 14,
      "id": "12bbae2e",
      "metadata": {
        "execution": {
          "iopub.execute_input": "2022-12-28T00:19:44.098760Z",
          "iopub.status.busy": "2022-12-28T00:19:44.098580Z",
          "iopub.status.idle": "2022-12-28T00:19:44.119364Z",
          "shell.execute_reply": "2022-12-28T00:19:44.118889Z"
        }
      },
      "outputs": [
        {
          "name": "stdout",
          "output_type": "stream",
          "text": [
            "            | name  | dish\n",
            "^M8E4DFK... | Alice | jam_pb_pancakes\n",
            "^JMHBFKG... | Alice | pancakes_with_jam\n",
            "^AN7YRTF... | Bob   | jam_pb_pancakes\n",
            "^GZ0TEZ6... | Bob   | pancakes_with_jam\n",
            "^W8AZSTG... | Bob   | scrambled_egg\n",
            "^DBZV8YR... | Carol | jam_pb_pancakes\n",
            "^N585E7A... | Carol | pancakes_with_jam\n",
            "^9DJG3GD... | Carol | pb_jam_sandwich\n",
            "^30JAJCE... | Dan   |\n"
          ]
        }
      ],
      "source": [
        "forbidden_breakfast = people_allergies.left_join(\n",
        "    allergens_in_menu, people_allergies.allergy == allergens_in_menu.allergen\n",
        ").select(people_allergies.name, allergens_in_menu.dish)\n",
        "\n",
        "forbidden_breakfast_no_duplicates = forbidden_breakfast.groupby(\n",
        "    forbidden_breakfast.name, forbidden_breakfast.dish\n",
        ").reduce(forbidden_breakfast.name, forbidden_breakfast.dish)\n",
        "\n",
        "pw.debug.compute_and_print(forbidden_breakfast_no_duplicates)"
      ]
    },
    {
      "cell_type": "markdown",
      "id": "2808c02a",
      "metadata": {},
      "source": [
        "That simple application of groupby-reduce combination essentially selects\n",
        "unique set of pairs (name, dish) from our table. More on the reduce-groupby operations\n",
        "can be found in the reduce-groupby [manual](/developers/documentation/table-operations/groupby-reduce-manual)."
      ]
    },
    {
      "cell_type": "markdown",
      "id": "eb74fe27",
      "metadata": {},
      "source": [
        "### Expressions for unmatched rows\n",
        "Because `left_join` operation returns rows from the left table, even if there is no\n",
        "match in the right column, some input columns for functions might have no defined value.\n",
        "\n",
        "**The left join sets the undefined input cells to `None` and the function needs to\n",
        "explicitly define how to handle such case.**\n",
        "\n",
        "As an example, we can consider a modified variant of the `bad_match_note` table.\n",
        "The modification is that we want to include all the people, and additionally we want to display their budget.\n",
        "\n",
        "To that end, it is enough that we join the `friends` table with the `bad_match` table, as\n",
        "together they include all necessary information."
      ]
    },
    {
      "cell_type": "code",
      "execution_count": 15,
      "id": "bb0e1f27",
      "metadata": {
        "execution": {
          "iopub.execute_input": "2022-12-28T00:19:44.121392Z",
          "iopub.status.busy": "2022-12-28T00:19:44.121199Z",
          "iopub.status.idle": "2022-12-28T00:19:44.147713Z",
          "shell.execute_reply": "2022-12-28T00:19:44.147220Z"
        },
        "lines_to_end_of_cell_marker": 0,
        "lines_to_next_cell": 1
      },
      "outputs": [
        {
          "name": "stdout",
          "output_type": "stream",
          "text": [
            "            | name  | budget | note\n",
            "^B74N75K... | Alice | 13     | Alice can't eat jam_pb_pancakes.\n",
            "^YZBNRSA... | Alice | 13     | Alice can't eat pancakes_with_jam.\n",
            "^Z8QGSEZ... | Bob   | 10     | Bob can't eat jam_pb_pancakes.\n",
            "^CHHK1Q9... | Bob   | 10     | Bob can't eat pancakes_with_jam.\n",
            "^DHWEFAB... | Bob   | 10     | Bob can't eat scrambled_egg.\n",
            "^2SGPETY... | Carol | 11     | Carol can't eat jam_pb_pancakes.\n",
            "^ADRQJVA... | Carol | 11     | Carol can't eat jam_pb_pancakes.\n",
            "^JCXPCDF... | Carol | 11     | Carol can't eat pancakes_with_jam.\n",
            "^H2S7YN7... | Carol | 11     | Carol can't eat pb_jam_sandwich.\n",
            "^C4VQQCA... | Dan   | 12     | Dan can't eat None.\n"
          ]
        }
      ],
      "source": [
        "basic_customer_info = friends.left_join(\n",
        "    bad_match, friends.name == bad_match.person\n",
        ").select(\n",
        "    friends.name,\n",
        "    friends.budget,\n",
        "    note=pw.apply(make_food_constraint_note, friends.name, bad_match.dish),\n",
        ")\n",
        "pw.debug.compute_and_print(basic_customer_info)"
      ]
    },
    {
      "cell_type": "markdown",
      "id": "4823f501",
      "metadata": {},
      "source": [
        "As we can see, the behavior of the original `make_food_constraint_note` generates a\n",
        "little bit odd entry for Dan. To fix that problem, we can redefine the `make_food_constraint_note`."
      ]
    },
    {
      "cell_type": "code",
      "execution_count": 16,
      "id": "1ca66d27",
      "metadata": {
        "execution": {
          "iopub.execute_input": "2022-12-28T00:19:44.149773Z",
          "iopub.status.busy": "2022-12-28T00:19:44.149583Z",
          "iopub.status.idle": "2022-12-28T00:19:44.181598Z",
          "shell.execute_reply": "2022-12-28T00:19:44.181084Z"
        }
      },
      "outputs": [
        {
          "name": "stdout",
          "output_type": "stream",
          "text": [
            "            | name  | budget | note\n",
            "^B74N75K... | Alice | 13     | Alice can't eat jam_pb_pancakes.\n",
            "^YZBNRSA... | Alice | 13     | Alice can't eat pancakes_with_jam.\n",
            "^Z8QGSEZ... | Bob   | 10     | Bob can't eat jam_pb_pancakes.\n",
            "^CHHK1Q9... | Bob   | 10     | Bob can't eat pancakes_with_jam.\n",
            "^DHWEFAB... | Bob   | 10     | Bob can't eat scrambled_egg.\n",
            "^2SGPETY... | Carol | 11     | Carol can't eat jam_pb_pancakes.\n",
            "^ADRQJVA... | Carol | 11     | Carol can't eat jam_pb_pancakes.\n",
            "^JCXPCDF... | Carol | 11     | Carol can't eat pancakes_with_jam.\n",
            "^H2S7YN7... | Carol | 11     | Carol can't eat pb_jam_sandwich.\n",
            "^C4VQQCA... | Dan   | 12     | Dan has no food restrictions.\n"
          ]
        }
      ],
      "source": [
        "def make_food_constraint_note_none_tolerant(name, dish):\n",
        "    if dish is None:\n",
        "        return f\"{name} has no food restrictions.\"\n",
        "    else:\n",
        "        return make_food_constraint_note(name, dish)\n",
        "\n",
        "\n",
        "basic_customer_info = friends.left_join(\n",
        "    bad_match, friends.name == bad_match.person\n",
        ").select(\n",
        "    friends.name,\n",
        "    friends.budget,\n",
        "    note=pw.apply(\n",
        "        make_food_constraint_note_none_tolerant,\n",
        "        friends.name,\n",
        "        bad_match.dish,\n",
        "    ),\n",
        ")\n",
        "pw.debug.compute_and_print(basic_customer_info)"
      ]
    },
    {
      "cell_type": "markdown",
      "id": "547b3631",
      "metadata": {},
      "source": [
        "To once again demonstrate the fact that the arguments for expressions are replaced with\n",
        "`None`, let us change `friends.name` to `bad_match.person` in the select part of our code."
      ]
    },
    {
      "cell_type": "code",
      "execution_count": 17,
      "id": "be0306d4",
      "metadata": {
        "execution": {
          "iopub.execute_input": "2022-12-28T00:19:44.183749Z",
          "iopub.status.busy": "2022-12-28T00:19:44.183547Z",
          "iopub.status.idle": "2022-12-28T00:19:44.222160Z",
          "shell.execute_reply": "2022-12-28T00:19:44.221643Z"
        }
      },
      "outputs": [
        {
          "name": "stdout",
          "output_type": "stream",
          "text": [
            "            | person | budget | note\n",
            "^C4VQQCA... |        | 12     | Dan has no food restrictions.\n",
            "^B74N75K... | Alice  | 13     | Alice can't eat jam_pb_pancakes.\n",
            "^YZBNRSA... | Alice  | 13     | Alice can't eat pancakes_with_jam.\n",
            "^Z8QGSEZ... | Bob    | 10     | Bob can't eat jam_pb_pancakes.\n",
            "^CHHK1Q9... | Bob    | 10     | Bob can't eat pancakes_with_jam.\n",
            "^DHWEFAB... | Bob    | 10     | Bob can't eat scrambled_egg.\n",
            "^2SGPETY... | Carol  | 11     | Carol can't eat jam_pb_pancakes.\n",
            "^ADRQJVA... | Carol  | 11     | Carol can't eat jam_pb_pancakes.\n",
            "^JCXPCDF... | Carol  | 11     | Carol can't eat pancakes_with_jam.\n",
            "^H2S7YN7... | Carol  | 11     | Carol can't eat pb_jam_sandwich.\n"
          ]
        }
      ],
      "source": [
        "basic_customer_info = friends.left_join(\n",
        "    bad_match, friends.name == bad_match.person\n",
        ").select(\n",
        "    bad_match.person,\n",
        "    friends.budget,\n",
        "    note=pw.apply(\n",
        "        make_food_constraint_note_none_tolerant, friends.name, bad_match.dish\n",
        "    ),\n",
        ")\n",
        "pw.debug.compute_and_print(basic_customer_info)"
      ]
    },
    {
      "cell_type": "markdown",
      "id": "82d6d697",
      "metadata": {},
      "source": [
        "Note that, the cell that earlier included `Dan` is empty, even though `Dan` is the\n",
        "only value that could be included in this column (if there would be a match).\n",
        "The reason it that the expression for this column simply shows the value\n",
        "from `bad match.person`; since this row was not matched, this value is undefined and\n",
        "replaced by `None`.\n"
      ]
    },
    {
      "cell_type": "markdown",
      "id": "5d776e50",
      "metadata": {},
      "source": [
        "### On right joins\n",
        "In the examples above, we only relied on `left_join`. The `right_join` operation is quite\n",
        "similar in its behavior. Namely,"
      ]
    },
    {
      "cell_type": "code",
      "execution_count": 18,
      "id": "573c4b7f",
      "metadata": {
        "execution": {
          "iopub.execute_input": "2022-12-28T00:19:44.224382Z",
          "iopub.status.busy": "2022-12-28T00:19:44.224187Z",
          "iopub.status.idle": "2022-12-28T00:19:44.310430Z",
          "shell.execute_reply": "2022-12-28T00:19:44.309903Z"
        }
      },
      "outputs": [
        {
          "name": "stdout",
          "output_type": "stream",
          "text": [
            "            | name  | allergy\n",
            "^CEESHNP... | Alice | milk\n",
            "^GKYNQB3... | Bob   | eggs\n",
            "^MCCDMWQ... | Carol | milk\n",
            "^28382DM... | Carol | peanuts\n",
            "^C4VQQCA... | Dan   |\n",
            "            | name  | allergy\n",
            "^AHH9C80... | Alice | milk\n",
            "^2BR8WRG... | Bob   | eggs\n",
            "^Y5CAVAS... | Carol | milk\n",
            "^WQENVG9... | Carol | peanuts\n",
            "^EKEF7R7... | Dan   |\n"
          ]
        }
      ],
      "source": [
        "people_allergies = friends.left_join(\n",
        "    allergies, friends.name == allergies.person\n",
        ").select(friends.name, allergies.allergy)\n",
        "pw.debug.compute_and_print(people_allergies)\n",
        "\n",
        "# is almost (except for auto-generated IDs) equivalent to\n",
        "\n",
        "people_allergies = allergies.right_join(\n",
        "    friends, allergies.person == friends.name\n",
        ").select(friends.name, allergies.allergy)\n",
        "pw.debug.compute_and_print(people_allergies)"
      ]
    },
    {
      "cell_type": "markdown",
      "id": "8c806665",
      "metadata": {},
      "source": [
        "When we join two tables, the only difference is in syntax - since allergies is\n",
        "the table on which we call `join_right`, it must be first argument\n",
        "in the join condition, i.e. it is"
      ]
    },
    {
      "cell_type": "code",
      "execution_count": 19,
      "id": "b812e2bb",
      "metadata": {
        "execution": {
          "iopub.execute_input": "2022-12-28T00:19:44.312660Z",
          "iopub.status.busy": "2022-12-28T00:19:44.312451Z",
          "iopub.status.idle": "2022-12-28T00:19:44.314812Z",
          "shell.execute_reply": "2022-12-28T00:19:44.314455Z"
        }
      },
      "outputs": [],
      "source": [
        "allergies.person == friends.name"
      ]
    },
    {
      "cell_type": "markdown",
      "id": "1381eea6",
      "metadata": {},
      "source": [
        "as opposed to"
      ]
    },
    {
      "cell_type": "code",
      "execution_count": 20,
      "id": "5ca3ec4c",
      "metadata": {
        "execution": {
          "iopub.execute_input": "2022-12-28T00:19:44.316712Z",
          "iopub.status.busy": "2022-12-28T00:19:44.316436Z",
          "iopub.status.idle": "2022-12-28T00:19:44.318360Z",
          "shell.execute_reply": "2022-12-28T00:19:44.318027Z"
        }
      },
      "outputs": [],
      "source": [
        "friends.name == allergies.person"
      ]
    },
    {
      "cell_type": "markdown",
      "id": "968e7f38",
      "metadata": {},
      "source": [
        "used in the `left_join`."
      ]
    },
    {
      "cell_type": "markdown",
      "id": "480a6daa",
      "metadata": {},
      "source": [
        "### On full outer joins\n",
        "The `outer_join` operation is a full outer join, which means that"
      ]
    },
    {
      "cell_type": "code",
      "execution_count": 21,
      "id": "26bb3c64",
      "metadata": {
        "execution": {
          "iopub.execute_input": "2022-12-28T00:19:44.320154Z",
          "iopub.status.busy": "2022-12-28T00:19:44.319989Z",
          "iopub.status.idle": "2022-12-28T00:19:44.321935Z",
          "shell.execute_reply": "2022-12-28T00:19:44.321608Z"
        }
      },
      "outputs": [],
      "source": [
        "left.outer_join(right, *on)"
      ]
    },
    {
      "cell_type": "markdown",
      "id": "78e766ff",
      "metadata": {},
      "source": [
        "not only show the pairs of rows form left and right that meet the condition\n",
        "in `*on`, but also rows that didn't get matched with any other row,\n",
        "from both `left` and `right` table. To demonstrate this operation, let\n",
        "us introduce another group of friends and find out, for each person in a group,\n",
        "whether the other group has any people with the same name."
      ]
    },
    {
      "cell_type": "code",
      "execution_count": 22,
      "id": "87399e2a",
      "metadata": {
        "execution": {
          "iopub.execute_input": "2022-12-28T00:19:44.323632Z",
          "iopub.status.busy": "2022-12-28T00:19:44.323461Z",
          "iopub.status.idle": "2022-12-28T00:19:44.328957Z",
          "shell.execute_reply": "2022-12-28T00:19:44.328610Z"
        }
      },
      "outputs": [],
      "source": [
        "other_group = pw.debug.table_from_markdown(\n",
        "    \"\"\"\n",
        "    | name  |budget\n",
        "  5 | Bob   | 12\n",
        "  6 | Carol | 14\n",
        "  7 | Eve   | 12\n",
        " \"\"\"\n",
        ")"
      ]
    },
    {
      "cell_type": "code",
      "execution_count": 23,
      "id": "0fe3caee",
      "metadata": {
        "execution": {
          "iopub.execute_input": "2022-12-28T00:19:44.330634Z",
          "iopub.status.busy": "2022-12-28T00:19:44.330461Z",
          "iopub.status.idle": "2022-12-28T00:19:44.393250Z",
          "shell.execute_reply": "2022-12-28T00:19:44.392728Z"
        },
        "lines_to_next_cell": 2
      },
      "outputs": [
        {
          "name": "stdout",
          "output_type": "stream",
          "text": [
            "            | l_name | l_id        | r_name | r_id\n",
            "^84AERN4... |        |             | Eve    | ^19D0FQ9...\n",
            "^HBBDER2... | Alice  | ^2TMTFGY... |        |\n",
            "^1Y14E07... | Bob    | ^YHZBTNY... | Bob    | ^76QPWK3...\n",
            "^7RXQ0Z1... | Carol  | ^SERVYWW... | Carol  | ^C4S6S48...\n",
            "^C4VQQCA... | Dan    | ^8GR6BSX... |        |\n"
          ]
        }
      ],
      "source": [
        "pw.debug.compute_and_print(\n",
        "    friends.outer_join(other_group, friends.name == other_group.name).select(\n",
        "        l_name=friends.name,\n",
        "        l_id=friends.id,\n",
        "        r_name=other_group.name,\n",
        "        r_id=other_group.id,\n",
        "    )\n",
        ")"
      ]
    },
    {
      "cell_type": "markdown",
      "id": "76fec8c1",
      "metadata": {},
      "source": [
        "## ID inheritance in join\n",
        "Full (yet still informal) syntax of join is:"
      ]
    },
    {
      "cell_type": "code",
      "execution_count": 24,
      "id": "ffc09bd2",
      "metadata": {
        "execution": {
          "iopub.execute_input": "2022-12-28T00:19:44.395381Z",
          "iopub.status.busy": "2022-12-28T00:19:44.395182Z",
          "iopub.status.idle": "2022-12-28T00:19:44.397542Z",
          "shell.execute_reply": "2022-12-28T00:19:44.397195Z"
        }
      },
      "outputs": [],
      "source": [
        "table.join(other, *on, id = None)"
      ]
    },
    {
      "cell_type": "markdown",
      "id": "95f11112",
      "metadata": {},
      "source": [
        "where\n",
        "* `table` and `other` are tables to be joined,\n",
        "* `*on` is a list of conditions of form:"
      ]
    },
    {
      "cell_type": "code",
      "execution_count": 25,
      "id": "908f7a07",
      "metadata": {
        "execution": {
          "iopub.execute_input": "2022-12-28T00:19:44.399313Z",
          "iopub.status.busy": "2022-12-28T00:19:44.399151Z",
          "iopub.status.idle": "2022-12-28T00:19:44.401088Z",
          "shell.execute_reply": "2022-12-28T00:19:44.400762Z"
        }
      },
      "outputs": [],
      "source": [
        "table.some_column == other.some_other_column"
      ]
    },
    {
      "cell_type": "markdown",
      "id": "471faceb",
      "metadata": {},
      "source": [
        "* optional `id` can be set to either table.id or other.id\n",
        "\n",
        "Whenever `id` argument is not none, join will try to use the column passed in\n",
        "id argument as new id in the result of join.\n",
        "This operation will succeed only when there is a guarantee that resulting joined table\n",
        "has no multiple rows with the same id-to-inherit.\n",
        "\n",
        "Below you can find three examples - one successful and two failed id inheritance.\n",
        "First, let us see what are the id-s of the original tables."
      ]
    },
    {
      "cell_type": "code",
      "execution_count": 26,
      "id": "f2745083",
      "metadata": {
        "execution": {
          "iopub.execute_input": "2022-12-28T00:19:44.402791Z",
          "iopub.status.busy": "2022-12-28T00:19:44.402625Z",
          "iopub.status.idle": "2022-12-28T00:19:44.513108Z",
          "shell.execute_reply": "2022-12-28T00:19:44.512546Z"
        }
      },
      "outputs": [
        {
          "name": "stdout",
          "output_type": "stream",
          "text": [
            "            | name  | budget\n",
            "^2TMTFGY... | Alice | 13\n",
            "^YHZBTNY... | Bob   | 10\n",
            "^SERVYWW... | Carol | 11\n",
            "^8GR6BSX... | Dan   | 12\n",
            "            | person | allergy\n",
            "^SP3EQAR... | Alice  | milk\n",
            "^H9SEXTP... | Bob    | eggs\n",
            "^CWQ381T... | Carol  | milk\n",
            "^9PXHKBD... | Carol  | peanuts\n"
          ]
        }
      ],
      "source": [
        "pw.debug.compute_and_print(friends)\n",
        "pw.debug.compute_and_print(allergies)"
      ]
    },
    {
      "cell_type": "markdown",
      "id": "44ac86b4",
      "metadata": {},
      "source": [
        "### Successful id inheritance\n",
        "Let us try a join that inherits id-s from table `allergies`."
      ]
    },
    {
      "cell_type": "code",
      "execution_count": 27,
      "id": "a1438c9a",
      "metadata": {
        "execution": {
          "iopub.execute_input": "2022-12-28T00:19:44.515196Z",
          "iopub.status.busy": "2022-12-28T00:19:44.515036Z",
          "iopub.status.idle": "2022-12-28T00:19:44.576617Z",
          "shell.execute_reply": "2022-12-28T00:19:44.576035Z"
        }
      },
      "outputs": [
        {
          "name": "stdout",
          "output_type": "stream",
          "text": [
            "            | name  | allergy | budget\n",
            "^SP3EQAR... | Alice | milk    | 13\n",
            "^H9SEXTP... | Bob   | eggs    | 10\n",
            "^CWQ381T... | Carol | milk    | 11\n",
            "^9PXHKBD... | Carol | peanuts | 11\n"
          ]
        }
      ],
      "source": [
        "pw.debug.compute_and_print(\n",
        "    allergies.join(friends, allergies.person == friends.name, id=allergies.id).select(\n",
        "        friends.name, allergies.allergy, friends.budget\n",
        "    )\n",
        ")"
      ]
    },
    {
      "cell_type": "markdown",
      "id": "62381a74",
      "metadata": {},
      "source": [
        "As we can see, the id column is the same as in the `friends` table,\n",
        "which was not the case when the id parameter is not set."
      ]
    },
    {
      "cell_type": "code",
      "execution_count": 28,
      "id": "97754dc0",
      "metadata": {
        "execution": {
          "iopub.execute_input": "2022-12-28T00:19:44.578841Z",
          "iopub.status.busy": "2022-12-28T00:19:44.578645Z",
          "iopub.status.idle": "2022-12-28T00:19:44.639918Z",
          "shell.execute_reply": "2022-12-28T00:19:44.639326Z"
        }
      },
      "outputs": [
        {
          "name": "stdout",
          "output_type": "stream",
          "text": [
            "            | name  | allergy | budget\n",
            "^SP3EQAR... | Alice | milk    | 13\n",
            "^H9SEXTP... | Bob   | eggs    | 10\n",
            "^CWQ381T... | Carol | milk    | 11\n",
            "^9PXHKBD... | Carol | peanuts | 11\n"
          ]
        }
      ],
      "source": [
        "pw.debug.compute_and_print(\n",
        "    allergies.join(friends, allergies.person == friends.name, id=allergies.id).select(\n",
        "        friends.name, allergies.allergy, friends.budget\n",
        "    )\n",
        ")"
      ]
    },
    {
      "cell_type": "markdown",
      "id": "705397ad",
      "metadata": {},
      "source": [
        "### Failed id inheritance: duplicate id-s\n",
        "The first possible problem with inheriting id is that one row of the source table\n",
        "could be matched with several entries of the other table. The code below will\n",
        "cause such problem, and will raise a KeyError."
      ]
    },
    {
      "cell_type": "code",
      "execution_count": 29,
      "id": "34f495be",
      "metadata": {
        "execution": {
          "iopub.execute_input": "2022-12-28T00:19:44.642104Z",
          "iopub.status.busy": "2022-12-28T00:19:44.641944Z",
          "iopub.status.idle": "2022-12-28T00:19:44.644344Z",
          "shell.execute_reply": "2022-12-28T00:19:44.644001Z"
        }
      },
      "outputs": [],
      "source": [
        "pw.debug.compute_and_print(\n",
        "    allergies.join(friends, allergies.person == friends.name, id=friends.id).select(\n",
        "        friends.name, allergies.allergy\n",
        "    )\n",
        ")\n",
        "[stacktrace...]\n",
        "KeyError: 'duplicate key: ^SERVYWW6KDGEQ2WVZ3ZZB86VSR'"
      ]
    },
    {
      "cell_type": "markdown",
      "id": "ddd6cc34",
      "metadata": {
        "lines_to_next_cell": 2
      },
      "source": [
        "### Failed id inheritance: empty id-s\n",
        "Finally, if we consider outer joins between those two tables, we\n",
        "may encounter a situation in which we need to assign id that is empty in the join result:"
      ]
    },
    {
      "cell_type": "code",
      "execution_count": 30,
      "id": "7014bfaf",
      "metadata": {
        "execution": {
          "iopub.execute_input": "2022-12-28T00:19:44.646154Z",
          "iopub.status.busy": "2022-12-28T00:19:44.645990Z",
          "iopub.status.idle": "2022-12-28T00:19:44.716719Z",
          "shell.execute_reply": "2022-12-28T00:19:44.715822Z"
        }
      },
      "outputs": [
        {
          "name": "stdout",
          "output_type": "stream",
          "text": [
            "            | name  | allergy | allergies_id\n",
            "^AHH9C80... | Alice | milk    | ^SP3EQAR...\n",
            "^2BR8WRG... | Bob   | eggs    | ^H9SEXTP...\n",
            "^Y5CAVAS... | Carol | milk    | ^CWQ381T...\n",
            "^WQENVG9... | Carol | peanuts | ^9PXHKBD...\n",
            "^EKEF7R7... | Dan   |         |\n"
          ]
        }
      ],
      "source": [
        "pw.debug.compute_and_print(\n",
        "    allergies.right_join(friends, allergies.person == friends.name).select(\n",
        "        friends.name, allergies.allergy, allergies_id=allergies.id\n",
        "    )\n",
        ")"
      ]
    },
    {
      "cell_type": "markdown",
      "id": "e06ebd3e",
      "metadata": {},
      "source": [
        "As we can see, the `allergies_id` field is not set for Dan's entry. If we try to use\n",
        "allergies.id as the `id` parameter, we will encounter TypeError."
      ]
    },
    {
      "cell_type": "code",
      "execution_count": 31,
      "id": "99bc0844",
      "metadata": {
        "execution": {
          "iopub.execute_input": "2022-12-28T00:19:44.718932Z",
          "iopub.status.busy": "2022-12-28T00:19:44.718771Z",
          "iopub.status.idle": "2022-12-28T00:19:44.721504Z",
          "shell.execute_reply": "2022-12-28T00:19:44.720999Z"
        }
      },
      "outputs": [],
      "source": [
        "pw.debug.compute_and_print(\n",
        "    allergies.right_join(\n",
        "        friends, allergies.person == friends.name, id=allergies.id\n",
        "    ).select(friends.name, allergies.allergy, allergies_id=allergies.id)\n",
        ")\n",
        "[stacktrace...]\n",
        "TypeError: type mismatch: expected a pointer, got None"
      ]
    },
    {
      "cell_type": "markdown",
      "id": "721b6fdb",
      "metadata": {},
      "source": [
        "## Joins on a foreign key\n",
        "In Pathway id column is auto-generated, and as such joining over foreign key kept in\n",
        "some other table requires extra care. Let's assume that we have another table `likes`\n",
        "that indicates that a friend (row in `friends`) likes some particular dish (row in `menu`)."
      ]
    },
    {
      "cell_type": "code",
      "execution_count": 32,
      "id": "0d63217c",
      "metadata": {
        "execution": {
          "iopub.execute_input": "2022-12-28T00:19:44.723781Z",
          "iopub.status.busy": "2022-12-28T00:19:44.723352Z",
          "iopub.status.idle": "2022-12-28T00:19:44.728912Z",
          "shell.execute_reply": "2022-12-28T00:19:44.728362Z"
        }
      },
      "outputs": [],
      "source": [
        "likes = pw.debug.table_from_markdown(\n",
        "    \"\"\"\n",
        "    | f_id  | m_id\n",
        "100 | 1     | 11\n",
        "101 | 1     | 13\n",
        "102 | 2     | 12\n",
        "103 | 2     | 13\n",
        "104 | 3     | 11\n",
        "105 | 3     | 14\n",
        "106 | 3     | 13\n",
        "107 | 4     | 12\n",
        "108 | 4     | 14\n",
        "\"\"\"\n",
        ")"
      ]
    },
    {
      "cell_type": "markdown",
      "id": "ca8e3d4c",
      "metadata": {},
      "source": [
        "Without further specification, Pathway treats columns f_id and m_id as numbers:"
      ]
    },
    {
      "cell_type": "code",
      "execution_count": 33,
      "id": "6ab55145",
      "metadata": {
        "execution": {
          "iopub.execute_input": "2022-12-28T00:19:44.730878Z",
          "iopub.status.busy": "2022-12-28T00:19:44.730729Z",
          "iopub.status.idle": "2022-12-28T00:19:44.787897Z",
          "shell.execute_reply": "2022-12-28T00:19:44.787076Z"
        }
      },
      "outputs": [
        {
          "name": "stdout",
          "output_type": "stream",
          "text": [
            "            | f_id | m_id\n",
            "^M1T2QKJ... | 1    | 11\n",
            "^4RH155M... | 1    | 13\n",
            "^YQ30FHF... | 2    | 12\n",
            "^AMFB2M6... | 2    | 13\n",
            "^7J00RXZ... | 3    | 11\n",
            "^NZSWGHA... | 3    | 13\n",
            "^FCVQG87... | 3    | 14\n",
            "^V771XE5... | 4    | 12\n",
            "^0HAWE8Q... | 4    | 14\n"
          ]
        }
      ],
      "source": [
        "pw.debug.compute_and_print(likes)"
      ]
    },
    {
      "cell_type": "markdown",
      "id": "d5c65451",
      "metadata": {},
      "source": [
        "while the id of tables `friends` and `menu` was converted to Pointer.\n"
      ]
    },
    {
      "cell_type": "code",
      "execution_count": 34,
      "id": "cde408d7",
      "metadata": {
        "execution": {
          "iopub.execute_input": "2022-12-28T00:19:44.790084Z",
          "iopub.status.busy": "2022-12-28T00:19:44.789921Z",
          "iopub.status.idle": "2022-12-28T00:19:44.915588Z",
          "shell.execute_reply": "2022-12-28T00:19:44.914684Z"
        }
      },
      "outputs": [
        {
          "name": "stdout",
          "output_type": "stream",
          "text": [
            "            | name  | budget\n",
            "^2TMTFGY... | Alice | 13\n",
            "^YHZBTNY... | Bob   | 10\n",
            "^SERVYWW... | Carol | 11\n",
            "^8GR6BSX... | Dan   | 12\n",
            "            | dish              | price\n",
            "^VYA37VV... | jam_pb_pancakes   | 12\n",
            "^HMETZT8... | pancakes_with_jam | 11\n",
            "^4B2REY1... | pb_jam_sandwich   | 9\n",
            "^SE0WWPZ... | scrambled_egg     | 11\n"
          ]
        }
      ],
      "source": [
        "pw.debug.compute_and_print(friends)\n",
        "pw.debug.compute_and_print(menu)"
      ]
    },
    {
      "cell_type": "markdown",
      "id": "221e0f5b",
      "metadata": {},
      "source": [
        "\n",
        "To handle joins using those columns, we can use pointer_from function"
      ]
    },
    {
      "cell_type": "code",
      "execution_count": 35,
      "id": "d9d9336e",
      "metadata": {
        "execution": {
          "iopub.execute_input": "2022-12-28T00:19:44.917879Z",
          "iopub.status.busy": "2022-12-28T00:19:44.917701Z",
          "iopub.status.idle": "2022-12-28T00:19:44.986727Z",
          "shell.execute_reply": "2022-12-28T00:19:44.985812Z"
        }
      },
      "outputs": [
        {
          "name": "stdout",
          "output_type": "stream",
          "text": [
            "            | f_id | m_id | f_id_ptr    | m_id_ptr\n",
            "^M1T2QKJ... | 1    | 11   | ^2TMTFGY... | ^HMETZT8...\n",
            "^4RH155M... | 1    | 13   | ^2TMTFGY... | ^VYA37VV...\n",
            "^YQ30FHF... | 2    | 12   | ^YHZBTNY... | ^4B2REY1...\n",
            "^AMFB2M6... | 2    | 13   | ^YHZBTNY... | ^VYA37VV...\n",
            "^7J00RXZ... | 3    | 11   | ^SERVYWW... | ^HMETZT8...\n",
            "^NZSWGHA... | 3    | 13   | ^SERVYWW... | ^VYA37VV...\n",
            "^FCVQG87... | 3    | 14   | ^SERVYWW... | ^SE0WWPZ...\n",
            "^V771XE5... | 4    | 12   | ^8GR6BSX... | ^4B2REY1...\n",
            "^0HAWE8Q... | 4    | 14   | ^8GR6BSX... | ^SE0WWPZ...\n"
          ]
        }
      ],
      "source": [
        "likes += likes.select(\n",
        "    f_id_ptr=friends.pointer_from(likes.f_id),\n",
        "    m_id_ptr=menu.pointer_from(likes.m_id),\n",
        ")\n",
        "pw.debug.compute_and_print(likes)"
      ]
    },
    {
      "cell_type": "markdown",
      "id": "2a0d8e1c",
      "metadata": {},
      "source": [
        "An [example of code](#long-chain-example) joining `friends` with `menu` using `likes`\n",
        "is presented the next section on chaining joins."
      ]
    },
    {
      "cell_type": "markdown",
      "id": "322b42d5",
      "metadata": {},
      "source": [
        "## Chaining joins:\n",
        "Pathway provides two ways of chaining joins. The first relies on usage of pw.this,\n",
        "the second allows for slightly more compact code. Below, we focus on chaining joins\n",
        "using `pw.left`.\n",
        "\n",
        " ### Simple join chaining\n",
        "Below, we show how to chain joins using `pw.left` and `pw.right`. To show how it can be used, we revisit\n",
        "the first example of left_join, in which we computed a left_join on a table\n",
        "that was obtained by another left_join. Instead of storing the result of the first\n",
        "left_join in people_allergies, we can use the following:"
      ]
    },
    {
      "cell_type": "code",
      "execution_count": 36,
      "id": "3b47f087",
      "metadata": {
        "execution": {
          "iopub.execute_input": "2022-12-28T00:19:44.989065Z",
          "iopub.status.busy": "2022-12-28T00:19:44.988892Z",
          "iopub.status.idle": "2022-12-28T00:19:45.076000Z",
          "shell.execute_reply": "2022-12-28T00:19:45.075109Z"
        }
      },
      "outputs": [
        {
          "name": "stdout",
          "output_type": "stream",
          "text": [
            "            | name  | dish\n",
            "^Y4H9YJC... | Alice | jam_pb_pancakes\n",
            "^MHQRNFF... | Alice | pancakes_with_jam\n",
            "^4DQ4S80... | Bob   | jam_pb_pancakes\n",
            "^XPGS5EQ... | Bob   | pancakes_with_jam\n",
            "^63EGDX6... | Bob   | scrambled_egg\n",
            "^YZ60CRJ... | Carol | jam_pb_pancakes\n",
            "^K3K3E16... | Carol | jam_pb_pancakes\n",
            "^M6FZ6K4... | Carol | pancakes_with_jam\n",
            "^RN5X9SH... | Carol | pb_jam_sandwich\n",
            "^56TWKCC... | Dan   |\n"
          ]
        }
      ],
      "source": [
        "pw.debug.compute_and_print(\n",
        "    friends.left_join(allergies, friends.name == allergies.person)\n",
        "    .select(friends.name, allergies.allergy, friends.budget)\n",
        "    .left_join(allergens_in_menu, pw.left.allergy == pw.right.allergen)\n",
        "    .select(pw.this.name, allergens_in_menu.dish)\n",
        ")"
      ]
    },
    {
      "cell_type": "markdown",
      "id": "3f7589a1",
      "metadata": {},
      "source": [
        "Essentially, for a join `left.join(right, *on)`, `pw.left` allows us to address the `left` table\n",
        "and `pw.right` allows us to address the `right` table. In this particular example, `pw.left` allows us to address the table computed by\n",
        "\n",
        "      friends.left_join(allergies, friends.name == allergies.person\n",
        "          ).select(friends.name, allergies.allergy)\n",
        "\n",
        "without breaking the chain and storing intermediate result in a temporary\n",
        "variable.\n",
        "\n",
        "More generally, given a chain:\n",
        "\n",
        "_MD_SHOW_table.join(...).select(...).join(...).select(...)...\n",
        "\n",
        "`pw.left` can be used to address the result of the latest select.\n",
        "\n",
        "While in the example above `pw.right` is essentially a replacement for `allergens_in_menu`,\n",
        "it can be also used to address a table that is passed as an argument of a join, but is\n",
        "not assigned to any variable.\n",
        "\n",
        "To show `pw.right` in action, we can go back to our [example](#expressions-using-unmatched-rows) showing basic consumer information,\n",
        "and compute it directly from tables `friends`, `allergies`, and `allergens_in_menu`."
      ]
    },
    {
      "cell_type": "code",
      "execution_count": 37,
      "id": "f7487e26",
      "metadata": {
        "execution": {
          "iopub.execute_input": "2022-12-28T00:19:45.078289Z",
          "iopub.status.busy": "2022-12-28T00:19:45.078119Z",
          "iopub.status.idle": "2022-12-28T00:19:45.172124Z",
          "shell.execute_reply": "2022-12-28T00:19:45.171221Z"
        }
      },
      "outputs": [
        {
          "name": "stdout",
          "output_type": "stream",
          "text": [
            "            | name  | budget | note\n",
            "^B74N75K... | Alice | 13     | Alice can't eat jam_pb_pancakes.\n",
            "^YZBNRSA... | Alice | 13     | Alice can't eat pancakes_with_jam.\n",
            "^Z8QGSEZ... | Bob   | 10     | Bob can't eat jam_pb_pancakes.\n",
            "^CHHK1Q9... | Bob   | 10     | Bob can't eat pancakes_with_jam.\n",
            "^DHWEFAB... | Bob   | 10     | Bob can't eat scrambled_egg.\n",
            "^2SGPETY... | Carol | 11     | Carol can't eat jam_pb_pancakes.\n",
            "^ADRQJVA... | Carol | 11     | Carol can't eat jam_pb_pancakes.\n",
            "^JCXPCDF... | Carol | 11     | Carol can't eat pancakes_with_jam.\n",
            "^H2S7YN7... | Carol | 11     | Carol can't eat pb_jam_sandwich.\n",
            "^C4VQQCA... | Dan   | 12     | Dan has no food restrictions.\n"
          ]
        }
      ],
      "source": [
        "basic_customer_info = friends.left_join(\n",
        "    allergies.join(\n",
        "        allergens_in_menu, allergies.allergy == allergens_in_menu.allergen\n",
        "    ).select(\n",
        "        allergens_in_menu.dish,\n",
        "        allergies.person,\n",
        "    ),\n",
        "    friends.name == pw.right.person,\n",
        ").select(\n",
        "    friends.name,\n",
        "    friends.budget,\n",
        "    note=pw.apply(make_food_constraint_note_none_tolerant, friends.name, pw.right.dish),\n",
        ")\n",
        "pw.debug.compute_and_print(basic_customer_info)"
      ]
    },
    {
      "cell_type": "markdown",
      "id": "05706ad5",
      "metadata": {},
      "source": [
        "### Long chain example\n",
        "To demonstrate longer chains in action, we go back to the table `likes` we used to\n",
        "show how to handle (generate) foreign keys."
      ]
    },
    {
      "cell_type": "code",
      "execution_count": 38,
      "id": "c82bb249",
      "metadata": {
        "execution": {
          "iopub.execute_input": "2022-12-28T00:19:45.174587Z",
          "iopub.status.busy": "2022-12-28T00:19:45.174393Z",
          "iopub.status.idle": "2022-12-28T00:19:45.283358Z",
          "shell.execute_reply": "2022-12-28T00:19:45.282452Z"
        }
      },
      "outputs": [
        {
          "name": "stdout",
          "output_type": "stream",
          "text": [
            "            | name  | budget | dish              | price | allergy | allergen\n",
            "^C7E41EW... | Alice | 13     | jam_pb_pancakes   | 12    | milk    | eggs\n",
            "^3C8BYCT... | Alice | 13     | jam_pb_pancakes   | 12    | milk    | peanuts\n",
            "^V49K9AY... | Alice | 13     | pancakes_with_jam | 11    | milk    | eggs\n",
            "^5HD9M6D... | Bob   | 10     | pb_jam_sandwich   | 9     | eggs    | peanuts\n",
            "^3F4G2QJ... | Carol | 11     | pancakes_with_jam | 11    | milk    | eggs\n",
            "^Q416RZ3... | Carol | 11     | pancakes_with_jam | 11    | peanuts | eggs\n",
            "^05R585H... | Carol | 11     | pancakes_with_jam | 11    | peanuts | milk\n",
            "^ZP22G15... | Carol | 11     | scrambled_egg     | 11    | milk    | eggs\n",
            "^Z3CSET2... | Carol | 11     | scrambled_egg     | 11    | peanuts | eggs\n",
            "^J4NZ5YS... | Dan   | 12     | pb_jam_sandwich   | 9     |         | peanuts\n",
            "^W30JZ2J... | Dan   | 12     | scrambled_egg     | 11    |         | eggs\n"
          ]
        }
      ],
      "source": [
        "feasible_choice = (\n",
        "    friends.join(likes, friends.id == likes.f_id_ptr)\n",
        "    .select(friends.name, friends.budget, likes.m_id_ptr)\n",
        "    .join(menu, pw.left.m_id_ptr == menu.id)\n",
        "    .select(pw.left.name, pw.left.budget, menu.dish, menu.price)\n",
        "    .left_join(allergies, pw.left.name == pw.right.person)\n",
        "    .select(\n",
        "        pw.left.name, pw.left.budget, pw.left.dish, pw.left.price, allergies.allergy\n",
        "    )\n",
        "    .join(allergens_in_menu, pw.left.dish == pw.right.dish)\n",
        "    .select(\n",
        "        pw.left.name,\n",
        "        pw.left.budget,\n",
        "        pw.left.dish,\n",
        "        pw.left.price,\n",
        "        pw.left.allergy,\n",
        "        allergens_in_menu.allergen,\n",
        "    )\n",
        "    .filter((pw.this.price <= pw.this.budget) & (pw.this.allergy != pw.this.allergen))\n",
        ")\n",
        "pw.debug.compute_and_print(feasible_choice)"
      ]
    },
    {
      "cell_type": "markdown",
      "id": "4989b08b",
      "metadata": {},
      "source": [
        "As we can see, this table contains all choices of person and dish, such that person likes\n",
        "particular dish, is not allergic to it, and can afford it. We can further simplify\n",
        "the result by adding another groupby-reduce at the end of the chain."
      ]
    },
    {
      "cell_type": "code",
      "execution_count": 39,
      "id": "2022d4ba",
      "metadata": {
        "execution": {
          "iopub.execute_input": "2022-12-28T00:19:45.285689Z",
          "iopub.status.busy": "2022-12-28T00:19:45.285498Z",
          "iopub.status.idle": "2022-12-28T00:19:45.391330Z",
          "shell.execute_reply": "2022-12-28T00:19:45.390431Z"
        }
      },
      "outputs": [
        {
          "name": "stdout",
          "output_type": "stream",
          "text": [
            "            | name  | dish              | budget | price\n",
            "^XJV0C2H... | Alice | jam_pb_pancakes   | 13     | 12\n",
            "^B9PDF7J... | Alice | pancakes_with_jam | 13     | 11\n",
            "^86P08KH... | Bob   | pb_jam_sandwich   | 10     | 9\n",
            "^FS0VA1H... | Carol | pancakes_with_jam | 11     | 11\n",
            "^SFK6S54... | Carol | scrambled_egg     | 11     | 11\n",
            "^AN8SK6X... | Dan   | pb_jam_sandwich   | 12     | 9\n",
            "^G13RSRH... | Dan   | scrambled_egg     | 12     | 11\n"
          ]
        }
      ],
      "source": [
        "pw.debug.compute_and_print(\n",
        "    feasible_choice.groupby(\n",
        "        pw.this.name, pw.this.dish, pw.this.budget, pw.this.price\n",
        "    ).reduce(pw.this.name, pw.this.dish, pw.this.budget, pw.this.price)\n",
        ")"
      ]
    },
    {
      "cell_type": "markdown",
      "id": "c8184ecf",
      "metadata": {},
      "source": [
        "Furthermore, one can make this piece of code more compact, using the [* notation](https://pathway.com/documentation/table-operations/survival-guide#select-and-notations))."
      ]
    },
    {
      "cell_type": "code",
      "execution_count": 40,
      "id": "f9eb95d1",
      "metadata": {
        "execution": {
          "iopub.execute_input": "2022-12-28T00:19:45.393607Z",
          "iopub.status.busy": "2022-12-28T00:19:45.393423Z",
          "iopub.status.idle": "2022-12-28T00:19:45.518873Z",
          "shell.execute_reply": "2022-12-28T00:19:45.517990Z"
        }
      },
      "outputs": [
        {
          "name": "stdout",
          "output_type": "stream",
          "text": [
            "            | name  | budget | dish              | price | allergy | allergen\n",
            "^9CRN3ZD... | Alice | 13     | jam_pb_pancakes   | 12    | milk    | eggs\n",
            "^7QMJ3B9... | Alice | 13     | jam_pb_pancakes   | 12    | milk    | peanuts\n",
            "^GQW4NHH... | Alice | 13     | pancakes_with_jam | 11    | milk    | eggs\n",
            "^W4B3N70... | Bob   | 10     | pb_jam_sandwich   | 9     | eggs    | peanuts\n",
            "^Q5RKM31... | Carol | 11     | pancakes_with_jam | 11    | milk    | eggs\n",
            "^20S1PGP... | Carol | 11     | pancakes_with_jam | 11    | peanuts | eggs\n",
            "^KX97P8Q... | Carol | 11     | pancakes_with_jam | 11    | peanuts | milk\n",
            "^0DHKVMF... | Carol | 11     | scrambled_egg     | 11    | milk    | eggs\n",
            "^T0MTJM0... | Carol | 11     | scrambled_egg     | 11    | peanuts | eggs\n",
            "^YZQNPFW... | Dan   | 12     | pb_jam_sandwich   | 9     |         | peanuts\n",
            "^CND5GJ8... | Dan   | 12     | scrambled_egg     | 11    |         | eggs\n"
          ]
        }
      ],
      "source": [
        "pw.debug.compute_and_print(\n",
        "    friends.join(likes, friends.id == likes.f_id_ptr)\n",
        "    .select(*friends, likes.m_id_ptr)\n",
        "    .join(menu, pw.left.m_id_ptr == menu.id)\n",
        "    .select(*pw.left, *menu)\n",
        "    .without(pw.this.m_id_ptr)\n",
        "    .left_join(allergies, pw.left.name == pw.right.person)\n",
        "    .select(*pw.left, allergies.allergy)\n",
        "    .join(allergens_in_menu, pw.left.dish == pw.right.dish)\n",
        "    .select(*pw.left, allergens_in_menu.allergen)\n",
        "    .filter((pw.this.price <= pw.this.budget) & (pw.this.allergy != pw.this.allergen))\n",
        "    .select(*pw.this)\n",
        "    .groupby(*pw.this)\n",
        "    .reduce(*pw.this)\n",
        ")"
      ]
    }
  ],
  "metadata": {
    "jupytext": {
      "cell_metadata_filter": "-all",
      "main_language": "python",
      "notebook_metadata_filter": "-all"
    },
    "language_info": {
      "codemirror_mode": {
        "name": "ipython",
        "version": 3
      },
      "file_extension": ".py",
      "mimetype": "text/x-python",
      "name": "python",
      "nbconvert_exporter": "python",
      "pygments_lexer": "ipython3",
      "version": "3.10.8"
    }
  },
  "nbformat": 4,
  "nbformat_minor": 5
}