{
  "cells": [
    {
      "cell_type": "markdown",
      "metadata": {
        "id": "view-in-colab"
      },
      "source": [
        "<a href=\"https://colab.research.google.com/github/pathwaycom/pathway-examples/blob/main/documentation/join_manual.ipynb\" target=\"_parent\"><img src=\"https://pathway.com/assets/colab-badge.svg\" alt=\"Run In Colab\" class=\"inline\"/></a>"
      ]
    },
    {
      "cell_type": "markdown",
      "source": [
        "# Installing Pathway with Python 3.8+\n",
        "\n",
        "In the cell below, we install Pathway into a Python 3.8+ Linux runtime.\n",
        "\n",
        "> **If you are running in Google Colab, please run the colab notebook (Ctrl+F9)**, disregarding the 'not authored by Google' warning.\n",
        "> \n",
        "> **The installation and loading time is less than 1 minute**.\n"
      ],
      "metadata": {
        "id": "notebook-instructions"
      }
    },
    {
      "cell_type": "code",
      "source": [
        "%%capture --no-display\n",
        "!pip install --extra-index-url https://packages.pathway.com/966431ef6ba pathway"
      ],
      "metadata": {
        "id": "pip-installation-pathway",
        "cellView": "form"
      },
      "execution_count": null,
      "outputs": []
    },
    {
      "cell_type": "markdown",
      "id": "443e28de",
      "metadata": {},
      "source": [
        "# Playing with joins.\n",
        "A brief explanation on how to perform joins with Pathway.\n",
        "\n",
        "Join is one of the basic table operations provided in Pathway.\n",
        "A join operation combines columns from two different tables by associating rows from both tables wich are matching on some given values.\n",
        "\n",
        "This guide presents several samples of code using the joins:\n",
        "*  [join (inner join)](#simple-inner-join)\n",
        "*  [left_join, right_join, outer_join (outer_joins)](#outer-joins)\n",
        "\n",
        "\n",
        "The examples demonstrate usual use-cases, explain the behavior of\n",
        "outer joins, and point out some peculiarities you may encounter\n",
        "while using Pathway. In particular, they show how to:\n",
        "* [inherit id from left or right table](#id-inheritance-in-join)\n",
        "* [join tables using foreign keys](#joins-on-a-foreign-key)\n",
        "* [use joins in a chain](#chaining-joins)"
      ]
    },
    {
      "cell_type": "markdown",
      "id": "92b19feb",
      "metadata": {},
      "source": [
        "## Prerequisites\n",
        "\n",
        "Be sure to import Pathway."
      ]
    },
    {
      "cell_type": "code",
      "execution_count": 1,
      "id": "871de15a",
      "metadata": {
        "execution": {
          "iopub.execute_input": "2023-03-30T11:52:09.128955Z",
          "iopub.status.busy": "2023-03-30T11:52:09.128671Z",
          "iopub.status.idle": "2023-03-30T11:52:10.276690Z",
          "shell.execute_reply": "2023-03-30T11:52:10.276367Z"
        }
      },
      "outputs": [],
      "source": [
        "import pathway as pw"
      ]
    },
    {
      "cell_type": "markdown",
      "id": "0d33d895",
      "metadata": {},
      "source": [
        "\n",
        "Also, you need some tables to play with. For the sake of presentation,\n",
        "let us consider the following made up scenario: a group of four friends\n",
        "(table friends) goes to grab some breakfast.\n"
      ]
    },
    {
      "cell_type": "code",
      "execution_count": 2,
      "id": "d8378495",
      "metadata": {
        "execution": {
          "iopub.execute_input": "2023-03-30T11:52:10.279063Z",
          "iopub.status.busy": "2023-03-30T11:52:10.278605Z",
          "iopub.status.idle": "2023-03-30T11:52:10.290288Z",
          "shell.execute_reply": "2023-03-30T11:52:10.290032Z"
        },
        "lines_to_next_cell": 2
      },
      "outputs": [],
      "source": [
        "friends = pw.debug.table_from_markdown(\n",
        "    \"\"\"\n",
        "    | name  |budget\n",
        "  1 | Alice | 13\n",
        "  2 | Bob   | 10\n",
        "  3 | Carol | 11\n",
        "  4 | Dan   | 12\n",
        " \"\"\"\n",
        ")\n",
        "menu = pw.debug.table_from_markdown(\n",
        "    \"\"\"\n",
        "     | dish                              | price\n",
        "  11 | pancakes_with_jam                 | 11\n",
        "  12 | pb_jam_sandwich                   | 9\n",
        "  13 | jam_pb_pancakes                   | 12\n",
        "  14 | scrambled_egg                     | 11\n",
        " \"\"\"\n",
        ")"
      ]
    },
    {
      "cell_type": "markdown",
      "id": "9a5dcff8",
      "metadata": {},
      "source": [
        "#\n",
        "However, some of them have allergies (table allergies),\n",
        "and cannot eat everything. Luckily, the restaurant has a list\n",
        "of allergens contained in each dish (table allergens_in_menu).\n"
      ]
    },
    {
      "cell_type": "code",
      "execution_count": 3,
      "id": "692388c4",
      "metadata": {
        "execution": {
          "iopub.execute_input": "2023-03-30T11:52:10.291875Z",
          "iopub.status.busy": "2023-03-30T11:52:10.291771Z",
          "iopub.status.idle": "2023-03-30T11:52:10.297045Z",
          "shell.execute_reply": "2023-03-30T11:52:10.296777Z"
        }
      },
      "outputs": [],
      "source": [
        "allergies = pw.debug.table_from_markdown(\n",
        "    \"\"\"\n",
        "     | person| allergy\n",
        "  21 | Alice | milk\n",
        "  22 | Bob   | eggs\n",
        "  23 | Carol | peanuts\n",
        "  24 | Carol | milk\n",
        " \"\"\"\n",
        ")\n",
        "\n",
        "allergens_in_menu = pw.debug.table_from_markdown(\n",
        "    \"\"\"\n",
        "     | dish                              | allergen\n",
        "  31 | pancakes_with_jam                 | milk\n",
        "  32 | pancakes_with_jam                 | eggs\n",
        "  33 | pb_jam_sandwich                   | peanuts\n",
        "  34 | jam_pb_pancakes                   | eggs\n",
        "  35 | jam_pb_pancakes                   | peanuts\n",
        "  36 | jam_pb_pancakes                   | milk\n",
        "  37 | scrambled_egg                     | eggs\n",
        " \"\"\"\n",
        ")"
      ]
    },
    {
      "cell_type": "markdown",
      "id": "7c29f6c4",
      "metadata": {},
      "source": [
        "## Simple inner join\n",
        "### Syntax\n",
        "Putting it simply, the syntax of join is:"
      ]
    },
    {
      "cell_type": "code",
      "execution_count": 4,
      "id": "4829ab2f",
      "metadata": {
        "execution": {
          "iopub.execute_input": "2023-03-30T11:52:10.298564Z",
          "iopub.status.busy": "2023-03-30T11:52:10.298301Z",
          "iopub.status.idle": "2023-03-30T11:52:10.299973Z",
          "shell.execute_reply": "2023-03-30T11:52:10.299726Z"
        }
      },
      "outputs": [],
      "source": [
        "table.join(other, *on)"
      ]
    },
    {
      "cell_type": "markdown",
      "id": "84ae8413",
      "metadata": {},
      "source": [
        "where\n",
        "* `table` and `other` are tables to be joined,\n",
        "* `*on` is a list of conditions of form:"
      ]
    },
    {
      "cell_type": "code",
      "execution_count": 5,
      "id": "3d491cc4",
      "metadata": {
        "execution": {
          "iopub.execute_input": "2023-03-30T11:52:10.301208Z",
          "iopub.status.busy": "2023-03-30T11:52:10.300989Z",
          "iopub.status.idle": "2023-03-30T11:52:10.302576Z",
          "shell.execute_reply": "2023-03-30T11:52:10.302351Z"
        }
      },
      "outputs": [],
      "source": [
        "table.some_column == other.some_other_column"
      ]
    },
    {
      "cell_type": "markdown",
      "id": "5b3e90e3",
      "metadata": {},
      "source": [
        "**Remark:** the order of tables in the condition matters. That is,\n",
        "a condition of the following form won't be accepted:"
      ]
    },
    {
      "cell_type": "code",
      "execution_count": 6,
      "id": "9741bb07",
      "metadata": {
        "execution": {
          "iopub.execute_input": "2023-03-30T11:52:10.303776Z",
          "iopub.status.busy": "2023-03-30T11:52:10.303581Z",
          "iopub.status.idle": "2023-03-30T11:52:10.305136Z",
          "shell.execute_reply": "2023-03-30T11:52:10.304890Z"
        }
      },
      "outputs": [],
      "source": [
        "other.some_other_column == table.some_column"
      ]
    },
    {
      "cell_type": "markdown",
      "id": "3b59d6a9",
      "metadata": {},
      "source": [
        "### Examples\n",
        "As a warm-up, let us see how to make simple join-queries.\n",
        "Let's begin with a simple query that finds all pairs person-dish\n",
        "that can put someone in a hospital."
      ]
    },
    {
      "cell_type": "code",
      "execution_count": 7,
      "id": "317c9a2f",
      "metadata": {
        "execution": {
          "iopub.execute_input": "2023-03-30T11:52:10.306399Z",
          "iopub.status.busy": "2023-03-30T11:52:10.306141Z",
          "iopub.status.idle": "2023-03-30T11:52:10.312697Z",
          "shell.execute_reply": "2023-03-30T11:52:10.312450Z"
        },
        "lines_to_next_cell": 1
      },
      "outputs": [
        {
          "name": "stdout",
          "output_type": "stream",
          "text": [
            "            | dish              | person\n",
            "^CDGDEHP... | jam_pb_pancakes   | Alice\n",
            "^A25EH1E... | jam_pb_pancakes   | Bob\n",
            "^YNZQ1JA... | jam_pb_pancakes   | Carol\n",
            "^P1DDD52... | jam_pb_pancakes   | Carol\n",
            "^C9QTSMQ... | pancakes_with_jam | Alice\n",
            "^6FDSPHK... | pancakes_with_jam | Bob\n",
            "^YT1DDK3... | pancakes_with_jam | Carol\n",
            "^0AHJ90E... | pb_jam_sandwich   | Carol\n",
            "^1FP65ZS... | scrambled_egg     | Bob\n"
          ]
        }
      ],
      "source": [
        "bad_match = allergies.join(\n",
        "    allergens_in_menu, allergies.allergy == allergens_in_menu.allergen\n",
        ").select(allergens_in_menu.dish, allergies.person)\n",
        "pw.debug.compute_and_print(bad_match)"
      ]
    },
    {
      "cell_type": "markdown",
      "id": "a4e27084",
      "metadata": {},
      "source": [
        "#\n",
        "As you can see, the result is a table of life-threatening pairs.\n",
        "\n",
        "The `select` function works here similarly as `select` on a table. The difference is\n",
        "that here, you can use columns of both tables as arguments, e.g."
      ]
    },
    {
      "cell_type": "code",
      "execution_count": 8,
      "id": "dfdecdbd",
      "metadata": {
        "execution": {
          "iopub.execute_input": "2023-03-30T11:52:10.313931Z",
          "iopub.status.busy": "2023-03-30T11:52:10.313830Z",
          "iopub.status.idle": "2023-03-30T11:52:10.318277Z",
          "shell.execute_reply": "2023-03-30T11:52:10.317970Z"
        }
      },
      "outputs": [
        {
          "name": "stdout",
          "output_type": "stream",
          "text": [
            "            | note\n",
            "^CDGDEHP... | Alice can't eat jam_pb_pancakes.\n",
            "^C9QTSMQ... | Alice can't eat pancakes_with_jam.\n",
            "^A25EH1E... | Bob can't eat jam_pb_pancakes.\n",
            "^6FDSPHK... | Bob can't eat pancakes_with_jam.\n",
            "^1FP65ZS... | Bob can't eat scrambled_egg.\n",
            "^YNZQ1JA... | Carol can't eat jam_pb_pancakes.\n",
            "^P1DDD52... | Carol can't eat jam_pb_pancakes.\n",
            "^YT1DDK3... | Carol can't eat pancakes_with_jam.\n",
            "^0AHJ90E... | Carol can't eat pb_jam_sandwich.\n"
          ]
        }
      ],
      "source": [
        "def make_food_constraint_note(name, dish):\n",
        "    return f\"{name} can't eat {dish}.\"\n",
        "\n",
        "\n",
        "bad_match_note = allergies.join(\n",
        "    allergens_in_menu, allergies.allergy == allergens_in_menu.allergen\n",
        ").select(\n",
        "    note=pw.apply(make_food_constraint_note, allergies.person, allergens_in_menu.dish)\n",
        ")\n",
        "pw.debug.compute_and_print(bad_match_note)"
      ]
    },
    {
      "cell_type": "markdown",
      "id": "16695f8c",
      "metadata": {},
      "source": [
        "*Remark:* note that id is now some auto generated number, which is the usual behavior of join."
      ]
    },
    {
      "cell_type": "markdown",
      "id": "2ef80ef3",
      "metadata": {},
      "source": [
        "### On self joins\n",
        "In order to perform a self join (a join of table with itself),\n",
        "you need to create a copy."
      ]
    },
    {
      "cell_type": "code",
      "execution_count": 9,
      "id": "cdd35392",
      "metadata": {
        "execution": {
          "iopub.execute_input": "2023-03-30T11:52:10.319627Z",
          "iopub.status.busy": "2023-03-30T11:52:10.319400Z",
          "iopub.status.idle": "2023-03-30T11:52:10.324475Z",
          "shell.execute_reply": "2023-03-30T11:52:10.324225Z"
        }
      },
      "outputs": [
        {
          "name": "stdout",
          "output_type": "stream",
          "text": [
            "            | l_name | r_name\n",
            "^QE83ESM... | Alice  | Carol\n",
            "^NX1GB2R... | Carol  | Alice\n"
          ]
        }
      ],
      "source": [
        "same_allergies = (\n",
        "    allergies.join(\n",
        "        allergies_copy := allergies.copy(), allergies.allergy == allergies_copy.allergy\n",
        "    )\n",
        "    .select(\n",
        "        l_name=allergies.person,\n",
        "        r_name=allergies_copy.person,\n",
        "    )\n",
        "    .filter(pw.this.l_name != pw.this.r_name)\n",
        ")\n",
        "\n",
        "pw.debug.compute_and_print(same_allergies)"
      ]
    },
    {
      "cell_type": "markdown",
      "id": "54d38d3a",
      "metadata": {},
      "source": [
        "## Outer joins\n",
        "The difference between outer joins and joins is that the outer join adds to the result\n",
        "table also entries that didn't match:"
      ]
    },
    {
      "cell_type": "code",
      "execution_count": 10,
      "id": "324375ec",
      "metadata": {
        "execution": {
          "iopub.execute_input": "2023-03-30T11:52:10.325612Z",
          "iopub.status.busy": "2023-03-30T11:52:10.325509Z",
          "iopub.status.idle": "2023-03-30T11:52:10.327064Z",
          "shell.execute_reply": "2023-03-30T11:52:10.326812Z"
        }
      },
      "outputs": [],
      "source": [
        "left.left_join(right, conditions)"
      ]
    },
    {
      "cell_type": "markdown",
      "id": "8c9042c1",
      "metadata": {},
      "source": [
        "includes entries from the *left* table and"
      ]
    },
    {
      "cell_type": "code",
      "execution_count": 11,
      "id": "4a43562a",
      "metadata": {
        "execution": {
          "iopub.execute_input": "2023-03-30T11:52:10.328325Z",
          "iopub.status.busy": "2023-03-30T11:52:10.328076Z",
          "iopub.status.idle": "2023-03-30T11:52:10.329604Z",
          "shell.execute_reply": "2023-03-30T11:52:10.329379Z"
        }
      },
      "outputs": [],
      "source": [
        "left.right_join(right, conditions)"
      ]
    },
    {
      "cell_type": "markdown",
      "id": "42857120",
      "metadata": {},
      "source": [
        "includes entries from the *right* table."
      ]
    },
    {
      "cell_type": "markdown",
      "id": "0d50a9ba",
      "metadata": {},
      "source": [
        "### Simple example\n",
        "To demonstrate outer-joins, you can consider a question about forbidden\n",
        "breakfast configurations (i.e. pairs of person-dish, such that a person is\n",
        "allergic to some ingredients)."
      ]
    },
    {
      "cell_type": "code",
      "execution_count": 12,
      "id": "31b5855c",
      "metadata": {
        "execution": {
          "iopub.execute_input": "2023-03-30T11:52:10.330743Z",
          "iopub.status.busy": "2023-03-30T11:52:10.330646Z",
          "iopub.status.idle": "2023-03-30T11:52:10.338183Z",
          "shell.execute_reply": "2023-03-30T11:52:10.337915Z"
        }
      },
      "outputs": [
        {
          "name": "stdout",
          "output_type": "stream",
          "text": [
            "            | name  | allergy\n",
            "^B16HZ3B... | Alice | milk\n",
            "^TGANKA0... | Bob   | eggs\n",
            "^5RRARVX... | Carol | milk\n",
            "^F675P8E... | Carol | peanuts\n",
            "^65T1BWA... | Dan   |\n",
            "            | name  | dish\n",
            "^535KMY7... | Alice | jam_pb_pancakes\n",
            "^Z7JDK2D... | Alice | pancakes_with_jam\n",
            "^4Q205FF... | Bob   | jam_pb_pancakes\n",
            "^C0KB6SJ... | Bob   | pancakes_with_jam\n",
            "^10GYJQY... | Bob   | scrambled_egg\n",
            "^F71XWDC... | Carol | jam_pb_pancakes\n",
            "^YARMZHT... | Carol | jam_pb_pancakes\n",
            "^VVYPM6Z... | Carol | pancakes_with_jam\n",
            "^3QWBQ6H... | Carol | pb_jam_sandwich\n",
            "^QND2DF9... | Dan   |\n"
          ]
        }
      ],
      "source": [
        "people_allergies = friends.left_join(\n",
        "    allergies, friends.name == allergies.person\n",
        ").select(friends.name, allergies.allergy)\n",
        "pw.debug.compute_and_print(people_allergies)\n",
        "\n",
        "forbidden_breakfast = people_allergies.left_join(\n",
        "    allergens_in_menu, people_allergies.allergy == allergens_in_menu.allergen\n",
        ").select(people_allergies.name, allergens_in_menu.dish)\n",
        "pw.debug.compute_and_print(forbidden_breakfast)"
      ]
    },
    {
      "cell_type": "markdown",
      "id": "f048154f",
      "metadata": {},
      "source": [
        "Now, as you can see, the table has duplicate rows. This is the intended behavior, as\n",
        "a particular person can be allergic to more than one ingredient. In other words,\n",
        "when you add a reason column to your result table, you can see that each row was\n",
        "included in the table above for a different reason."
      ]
    },
    {
      "cell_type": "code",
      "execution_count": 13,
      "id": "5b8083f3",
      "metadata": {
        "execution": {
          "iopub.execute_input": "2023-03-30T11:52:10.339292Z",
          "iopub.status.busy": "2023-03-30T11:52:10.339192Z",
          "iopub.status.idle": "2023-03-30T11:52:10.344306Z",
          "shell.execute_reply": "2023-03-30T11:52:10.344000Z"
        },
        "lines_to_next_cell": 2
      },
      "outputs": [
        {
          "name": "stdout",
          "output_type": "stream",
          "text": [
            "            | name  | dish              | reason\n",
            "^535KMY7... | Alice | jam_pb_pancakes   | milk\n",
            "^Z7JDK2D... | Alice | pancakes_with_jam | milk\n",
            "^4Q205FF... | Bob   | jam_pb_pancakes   | eggs\n",
            "^C0KB6SJ... | Bob   | pancakes_with_jam | eggs\n",
            "^10GYJQY... | Bob   | scrambled_egg     | eggs\n",
            "^YARMZHT... | Carol | jam_pb_pancakes   | milk\n",
            "^F71XWDC... | Carol | jam_pb_pancakes   | peanuts\n",
            "^VVYPM6Z... | Carol | pancakes_with_jam | milk\n",
            "^3QWBQ6H... | Carol | pb_jam_sandwich   | peanuts\n",
            "^QND2DF9... | Dan   |                   |\n"
          ]
        }
      ],
      "source": [
        "forbidden_breakfast = people_allergies.left_join(\n",
        "    allergens_in_menu, people_allergies.allergy == allergens_in_menu.allergen\n",
        ").select(\n",
        "    people_allergies.name, allergens_in_menu.dish, reason=allergens_in_menu.allergen\n",
        ")\n",
        "pw.debug.compute_and_print(forbidden_breakfast)"
      ]
    },
    {
      "cell_type": "markdown",
      "id": "6d6edf4f",
      "metadata": {},
      "source": [
        "### Removing duplicates\n",
        "If you really want to have a table without the 'reason' column and without\n",
        "duplicates, you can achieve that with extra `groupby` and `reduce` :"
      ]
    },
    {
      "cell_type": "code",
      "execution_count": 14,
      "id": "ea4ff6b3",
      "metadata": {
        "execution": {
          "iopub.execute_input": "2023-03-30T11:52:10.345433Z",
          "iopub.status.busy": "2023-03-30T11:52:10.345333Z",
          "iopub.status.idle": "2023-03-30T11:52:10.350974Z",
          "shell.execute_reply": "2023-03-30T11:52:10.350723Z"
        }
      },
      "outputs": [
        {
          "name": "stdout",
          "output_type": "stream",
          "text": [
            "            | name  | dish\n",
            "^JZEXHDW... | Alice | jam_pb_pancakes\n",
            "^AAKWNJT... | Alice | pancakes_with_jam\n",
            "^CKZR06Q... | Bob   | jam_pb_pancakes\n",
            "^P9TFTNX... | Bob   | pancakes_with_jam\n",
            "^1CDG76P... | Bob   | scrambled_egg\n",
            "^A974H6N... | Carol | jam_pb_pancakes\n",
            "^ASZEEDJ... | Carol | pancakes_with_jam\n",
            "^QDAP9XE... | Carol | pb_jam_sandwich\n",
            "^ZEGJ474... | Dan   |\n"
          ]
        }
      ],
      "source": [
        "forbidden_breakfast = people_allergies.left_join(\n",
        "    allergens_in_menu, people_allergies.allergy == allergens_in_menu.allergen\n",
        ").select(people_allergies.name, allergens_in_menu.dish)\n",
        "\n",
        "forbidden_breakfast_no_duplicates = forbidden_breakfast.groupby(\n",
        "    forbidden_breakfast.name, forbidden_breakfast.dish\n",
        ").reduce(forbidden_breakfast.name, forbidden_breakfast.dish)\n",
        "\n",
        "pw.debug.compute_and_print(forbidden_breakfast_no_duplicates)"
      ]
    },
    {
      "cell_type": "markdown",
      "id": "ed507128",
      "metadata": {},
      "source": [
        "That simple application of groupby-reduce combination essentially selects a\n",
        "unique set of pairs (name, dish) from our table. More on the reduce-groupby operations\n",
        "can be found in the reduce-groupby [manual](/developers/documentation/table-operations/groupby-reduce-manual)."
      ]
    },
    {
      "cell_type": "markdown",
      "id": "2d9ea64c",
      "metadata": {},
      "source": [
        "### Expressions for unmatched rows\n",
        "Because `left_join` operation returns rows from the left table, even if there is no\n",
        "match in the right column, some input columns for functions might have no defined value.\n",
        "\n",
        "**The left join sets the undefined input cells to `None` and the function needs to\n",
        "explicitly define how to handle such cases.**\n",
        "\n",
        "As an example, you can consider a modified variant of the `bad_match_note` table.\n",
        "The modification is that you want to include all the people, and additionally you want to display their budget.\n",
        "\n",
        "To that end, it is enough that you join the `friends` table with the `bad_match` table, as\n",
        "together they include all necessary information."
      ]
    },
    {
      "cell_type": "code",
      "execution_count": 15,
      "id": "8b717742",
      "metadata": {
        "execution": {
          "iopub.execute_input": "2023-03-30T11:52:10.352174Z",
          "iopub.status.busy": "2023-03-30T11:52:10.352071Z",
          "iopub.status.idle": "2023-03-30T11:52:10.357147Z",
          "shell.execute_reply": "2023-03-30T11:52:10.356883Z"
        },
        "lines_to_next_cell": 1
      },
      "outputs": [
        {
          "name": "stdout",
          "output_type": "stream",
          "text": [
            "            | name  | budget | note\n",
            "^ZZ5A24P... | Alice | 13     | Alice can't eat jam_pb_pancakes.\n",
            "^DB70N77... | Alice | 13     | Alice can't eat pancakes_with_jam.\n",
            "^P0X8JSK... | Bob   | 10     | Bob can't eat jam_pb_pancakes.\n",
            "^5PHN5Q1... | Bob   | 10     | Bob can't eat pancakes_with_jam.\n",
            "^CNTA4BA... | Bob   | 10     | Bob can't eat scrambled_egg.\n",
            "^PPF5VHC... | Carol | 11     | Carol can't eat jam_pb_pancakes.\n",
            "^PGZZNSQ... | Carol | 11     | Carol can't eat jam_pb_pancakes.\n",
            "^G1QFSXJ... | Carol | 11     | Carol can't eat pancakes_with_jam.\n",
            "^AK35GKC... | Carol | 11     | Carol can't eat pb_jam_sandwich.\n",
            "^65T1BWA... | Dan   | 12     | Dan can't eat None.\n"
          ]
        }
      ],
      "source": [
        "def make_food_constraint_note_none_tolerant(name, dish):\n",
        "    if dish is None:\n",
        "        return f\"{name} has no food restrictions.\"\n",
        "    else:\n",
        "        return make_food_constraint_note(name, dish)\n",
        "\n",
        "\n",
        "basic_customer_info = friends.left_join(\n",
        "    bad_match, friends.name == bad_match.person\n",
        ").select(\n",
        "    friends.name,\n",
        "    friends.budget,\n",
        "    note=pw.apply(\n",
        "        make_food_constraint_note_none_tolerant,\n",
        "        friends.name,\n",
        "        bad_match.dish,\n",
        "    ),\n",
        ")\n",
        "pw.debug.compute_and_print(basic_customer_info)"
      ]
    },
    {
      "cell_type": "markdown",
      "id": "4e64f269",
      "metadata": {},
      "source": [
        "As you can see, the behavior of the original `make_food_constraint_note` generates a\n",
        "little bit of an odd entry for Dan. To fix that problem, you can redefine the `make_food_constraint_note`."
      ]
    },
    {
      "cell_type": "code",
      "execution_count": 16,
      "id": "c5307edf",
      "metadata": {
        "execution": {
          "iopub.execute_input": "2023-03-30T11:52:10.358290Z",
          "iopub.status.busy": "2023-03-30T11:52:10.358191Z",
          "iopub.status.idle": "2023-03-30T11:52:10.363738Z",
          "shell.execute_reply": "2023-03-30T11:52:10.363493Z"
        }
      },
      "outputs": [
        {
          "name": "stdout",
          "output_type": "stream",
          "text": [
            "            | name  | budget | note\n",
            "^ZZ5A24P... | Alice | 13     | Alice can't eat jam_pb_pancakes.\n",
            "^DB70N77... | Alice | 13     | Alice can't eat pancakes_with_jam.\n",
            "^P0X8JSK... | Bob   | 10     | Bob can't eat jam_pb_pancakes.\n",
            "^5PHN5Q1... | Bob   | 10     | Bob can't eat pancakes_with_jam.\n",
            "^CNTA4BA... | Bob   | 10     | Bob can't eat scrambled_egg.\n",
            "^PPF5VHC... | Carol | 11     | Carol can't eat jam_pb_pancakes.\n",
            "^PGZZNSQ... | Carol | 11     | Carol can't eat jam_pb_pancakes.\n",
            "^G1QFSXJ... | Carol | 11     | Carol can't eat pancakes_with_jam.\n",
            "^AK35GKC... | Carol | 11     | Carol can't eat pb_jam_sandwich.\n",
            "^65T1BWA... | Dan   | 12     | Dan has no food restrictions.\n"
          ]
        }
      ],
      "source": [
        "def make_food_constraint_note_none_tolerant(name, dish):\n",
        "    if dish is None:\n",
        "        return f\"{name} has no food restrictions.\"\n",
        "    else:\n",
        "        return make_food_constraint_note(name, dish)\n",
        "\n",
        "\n",
        "basic_customer_info = friends.left_join(\n",
        "    bad_match, friends.name == bad_match.person\n",
        ").select(\n",
        "    friends.name,\n",
        "    friends.budget,\n",
        "    note=pw.apply(\n",
        "        make_food_constraint_note_none_tolerant,\n",
        "        friends.name,\n",
        "        bad_match.dish,\n",
        "    ),\n",
        ")\n",
        "pw.debug.compute_and_print(basic_customer_info)"
      ]
    },
    {
      "cell_type": "markdown",
      "id": "d3e55e43",
      "metadata": {},
      "source": [
        "To once again demonstrate the fact that the arguments for expressions are replaced with\n",
        "`None`, let us change `friends.name` to `bad_match.person` in the select part of our code."
      ]
    },
    {
      "cell_type": "code",
      "execution_count": 17,
      "id": "ca132f43",
      "metadata": {
        "execution": {
          "iopub.execute_input": "2023-03-30T11:52:10.365032Z",
          "iopub.status.busy": "2023-03-30T11:52:10.364755Z",
          "iopub.status.idle": "2023-03-30T11:52:10.370057Z",
          "shell.execute_reply": "2023-03-30T11:52:10.369812Z"
        }
      },
      "outputs": [
        {
          "name": "stdout",
          "output_type": "stream",
          "text": [
            "            | person | budget | note\n",
            "^65T1BWA... |        | 12     | Dan has no food restrictions.\n",
            "^ZZ5A24P... | Alice  | 13     | Alice can't eat jam_pb_pancakes.\n",
            "^DB70N77... | Alice  | 13     | Alice can't eat pancakes_with_jam.\n",
            "^P0X8JSK... | Bob    | 10     | Bob can't eat jam_pb_pancakes.\n",
            "^5PHN5Q1... | Bob    | 10     | Bob can't eat pancakes_with_jam.\n",
            "^CNTA4BA... | Bob    | 10     | Bob can't eat scrambled_egg.\n",
            "^PPF5VHC... | Carol  | 11     | Carol can't eat jam_pb_pancakes.\n",
            "^PGZZNSQ... | Carol  | 11     | Carol can't eat jam_pb_pancakes.\n",
            "^G1QFSXJ... | Carol  | 11     | Carol can't eat pancakes_with_jam.\n",
            "^AK35GKC... | Carol  | 11     | Carol can't eat pb_jam_sandwich.\n"
          ]
        }
      ],
      "source": [
        "basic_customer_info = friends.left_join(\n",
        "    bad_match, friends.name == bad_match.person\n",
        ").select(\n",
        "    bad_match.person,\n",
        "    friends.budget,\n",
        "    note=pw.apply(\n",
        "        make_food_constraint_note_none_tolerant, friends.name, bad_match.dish\n",
        "    ),\n",
        ")\n",
        "pw.debug.compute_and_print(basic_customer_info)"
      ]
    },
    {
      "cell_type": "markdown",
      "id": "8246962a",
      "metadata": {},
      "source": [
        "Note that, the cell that earlier included `Dan` is empty, even though `Dan` is the\n",
        "only value that could be included in this column (if there would be a match).\n",
        "The reason is that the expression for this column simply shows the value\n",
        "from `bad match.person`; since this row was not matched, this value is undefined and\n",
        "replaced by `None`.\n"
      ]
    },
    {
      "cell_type": "markdown",
      "id": "55479515",
      "metadata": {},
      "source": [
        "### On right joins\n",
        "In the examples above, you only relied on `left_join`. The `right_join` operation is quite\n",
        "similar in its behavior. Namely,"
      ]
    },
    {
      "cell_type": "code",
      "execution_count": 18,
      "id": "b84581d5",
      "metadata": {
        "execution": {
          "iopub.execute_input": "2023-03-30T11:52:10.371248Z",
          "iopub.status.busy": "2023-03-30T11:52:10.371149Z",
          "iopub.status.idle": "2023-03-30T11:52:10.378011Z",
          "shell.execute_reply": "2023-03-30T11:52:10.377761Z"
        }
      },
      "outputs": [
        {
          "name": "stdout",
          "output_type": "stream",
          "text": [
            "            | name  | allergy\n",
            "^B16HZ3B... | Alice | milk\n",
            "^TGANKA0... | Bob   | eggs\n",
            "^5RRARVX... | Carol | milk\n",
            "^F675P8E... | Carol | peanuts\n",
            "^65T1BWA... | Dan   |\n",
            "            | name  | allergy\n",
            "^32SMFKS... | Alice | milk\n",
            "^ZJNDXEM... | Bob   | eggs\n",
            "^0XN0ZGS... | Carol | milk\n",
            "^E9A2TCT... | Carol | peanuts\n",
            "^6YHK6X5... | Dan   |\n"
          ]
        }
      ],
      "source": [
        "people_allergies = friends.left_join(\n",
        "    allergies, friends.name == allergies.person\n",
        ").select(friends.name, allergies.allergy)\n",
        "pw.debug.compute_and_print(people_allergies)\n",
        "\n",
        "# is almost (except for auto-generated IDs) equivalent to\n",
        "\n",
        "people_allergies = allergies.right_join(\n",
        "    friends, allergies.person == friends.name\n",
        ").select(friends.name, allergies.allergy)\n",
        "pw.debug.compute_and_print(people_allergies)"
      ]
    },
    {
      "cell_type": "markdown",
      "id": "738c9ef9",
      "metadata": {},
      "source": [
        "When you join two tables, the only difference is in syntax - since allergies is\n",
        "the table on which you call `join_right`, it must be first argument\n",
        "in the join condition, i.e. it is"
      ]
    },
    {
      "cell_type": "code",
      "execution_count": 19,
      "id": "b1f47c47",
      "metadata": {
        "execution": {
          "iopub.execute_input": "2023-03-30T11:52:10.379177Z",
          "iopub.status.busy": "2023-03-30T11:52:10.379076Z",
          "iopub.status.idle": "2023-03-30T11:52:10.380691Z",
          "shell.execute_reply": "2023-03-30T11:52:10.380464Z"
        }
      },
      "outputs": [],
      "source": [
        "allergies.person == friends.name"
      ]
    },
    {
      "cell_type": "markdown",
      "id": "0a6b10b7",
      "metadata": {},
      "source": [
        "as opposed to"
      ]
    },
    {
      "cell_type": "code",
      "execution_count": 20,
      "id": "79af8c6e",
      "metadata": {
        "execution": {
          "iopub.execute_input": "2023-03-30T11:52:10.381944Z",
          "iopub.status.busy": "2023-03-30T11:52:10.381682Z",
          "iopub.status.idle": "2023-03-30T11:52:10.383247Z",
          "shell.execute_reply": "2023-03-30T11:52:10.383002Z"
        }
      },
      "outputs": [],
      "source": [
        "friends.name == allergies.person"
      ]
    },
    {
      "cell_type": "markdown",
      "id": "24b1f155",
      "metadata": {},
      "source": [
        "used in the `left_join`."
      ]
    },
    {
      "cell_type": "markdown",
      "id": "2c4f2b74",
      "metadata": {},
      "source": [
        "### On full outer joins\n",
        "The `outer_join` operation is a full outer join, which means that"
      ]
    },
    {
      "cell_type": "code",
      "execution_count": 21,
      "id": "e5239e5e",
      "metadata": {
        "execution": {
          "iopub.execute_input": "2023-03-30T11:52:10.384375Z",
          "iopub.status.busy": "2023-03-30T11:52:10.384281Z",
          "iopub.status.idle": "2023-03-30T11:52:10.385769Z",
          "shell.execute_reply": "2023-03-30T11:52:10.385549Z"
        }
      },
      "outputs": [],
      "source": [
        "left.outer_join(right, *on)"
      ]
    },
    {
      "cell_type": "markdown",
      "id": "74e49009",
      "metadata": {},
      "source": [
        "not only show the pairs of rows from left and right that meet the condition\n",
        "in `*on`, but also rows that didn't get matched with any other row,\n",
        "from both the `left` and `right` tables. To demonstrate this operation, let\n",
        "us introduce another group of friends and find out, for each person in a group,\n",
        "whether the other group has any people with the same name."
      ]
    },
    {
      "cell_type": "code",
      "execution_count": 22,
      "id": "e43595dd",
      "metadata": {
        "execution": {
          "iopub.execute_input": "2023-03-30T11:52:10.386842Z",
          "iopub.status.busy": "2023-03-30T11:52:10.386743Z",
          "iopub.status.idle": "2023-03-30T11:52:10.390103Z",
          "shell.execute_reply": "2023-03-30T11:52:10.389866Z"
        }
      },
      "outputs": [],
      "source": [
        "other_group = pw.debug.table_from_markdown(\n",
        "    \"\"\"\n",
        "    | name  |budget\n",
        "  5 | Bob   | 12\n",
        "  6 | Carol | 14\n",
        "  7 | Eve   | 12\n",
        " \"\"\"\n",
        ")"
      ]
    },
    {
      "cell_type": "code",
      "execution_count": 23,
      "id": "c93f77f0",
      "metadata": {
        "execution": {
          "iopub.execute_input": "2023-03-30T11:52:10.391352Z",
          "iopub.status.busy": "2023-03-30T11:52:10.391064Z",
          "iopub.status.idle": "2023-03-30T11:52:10.395913Z",
          "shell.execute_reply": "2023-03-30T11:52:10.395665Z"
        },
        "lines_to_next_cell": 2
      },
      "outputs": [
        {
          "name": "stdout",
          "output_type": "stream",
          "text": [
            "            | l_name | l_id        | r_name | r_id\n",
            "^946QMVK... |        |             | Eve    | ^BDAYBKY...\n",
            "^GE176G0... | Alice  | ^8H1RZD9... |        |\n",
            "^TRCS8SF... | Bob    | ^3G6RNTW... | Bob    | ^D4QQD9T...\n",
            "^W44DSE5... | Carol  | ^2GDR47M... | Carol  | ^AWS6TVR...\n",
            "^65T1BWA... | Dan    | ^143YW45... |        |\n"
          ]
        }
      ],
      "source": [
        "pw.debug.compute_and_print(\n",
        "    friends.outer_join(other_group, friends.name == other_group.name).select(\n",
        "        l_name=friends.name,\n",
        "        l_id=friends.id,\n",
        "        r_name=other_group.name,\n",
        "        r_id=other_group.id,\n",
        "    )\n",
        ")"
      ]
    },
    {
      "cell_type": "markdown",
      "id": "a3a8aadf",
      "metadata": {},
      "source": [
        "## ID inheritance in join\n",
        "Full (yet still informal) syntax of join is:"
      ]
    },
    {
      "cell_type": "code",
      "execution_count": 24,
      "id": "458aa96b",
      "metadata": {
        "execution": {
          "iopub.execute_input": "2023-03-30T11:52:10.397242Z",
          "iopub.status.busy": "2023-03-30T11:52:10.396971Z",
          "iopub.status.idle": "2023-03-30T11:52:10.398589Z",
          "shell.execute_reply": "2023-03-30T11:52:10.398357Z"
        }
      },
      "outputs": [],
      "source": [
        "table.join(other, *on, id = None)"
      ]
    },
    {
      "cell_type": "markdown",
      "id": "d7aa622c",
      "metadata": {},
      "source": [
        "where\n",
        "* `table` and `other` are tables to be joined,\n",
        "* `*on` is a list of conditions of form:"
      ]
    },
    {
      "cell_type": "code",
      "execution_count": 25,
      "id": "88b2ee4d",
      "metadata": {
        "execution": {
          "iopub.execute_input": "2023-03-30T11:52:10.399846Z",
          "iopub.status.busy": "2023-03-30T11:52:10.399595Z",
          "iopub.status.idle": "2023-03-30T11:52:10.401155Z",
          "shell.execute_reply": "2023-03-30T11:52:10.400906Z"
        }
      },
      "outputs": [],
      "source": [
        "table.some_column == other.some_other_column"
      ]
    },
    {
      "cell_type": "markdown",
      "id": "2d3fad20",
      "metadata": {},
      "source": [
        "* optional `id` can be set to either table.id or other.id\n",
        "\n",
        "Whenever the `id` argument is not none, join will try to use the column passed in\n",
        "the id argument as the new id in the result of join.\n",
        "This operation will succeed only when there is a guarantee that the resulting joined table\n",
        "has no multiple rows with the same id-to-inherit.\n",
        "\n",
        "Below you can find three examples - one successful and two failed id inheritance.\n",
        "First, let us see what are the id-s of the original tables."
      ]
    },
    {
      "cell_type": "code",
      "execution_count": 26,
      "id": "c23d913b",
      "metadata": {
        "execution": {
          "iopub.execute_input": "2023-03-30T11:52:10.402271Z",
          "iopub.status.busy": "2023-03-30T11:52:10.402175Z",
          "iopub.status.idle": "2023-03-30T11:52:10.405427Z",
          "shell.execute_reply": "2023-03-30T11:52:10.405165Z"
        }
      },
      "outputs": [
        {
          "name": "stdout",
          "output_type": "stream",
          "text": [
            "            | name  | budget\n",
            "^8H1RZD9... | Alice | 13\n",
            "^3G6RNTW... | Bob   | 10\n",
            "^2GDR47M... | Carol | 11\n",
            "^143YW45... | Dan   | 12\n",
            "            | person | allergy\n",
            "^5W0Q6RR... | Alice  | milk\n",
            "^HEQN3AP... | Bob    | eggs\n",
            "^ZNQ2Q4X... | Carol  | milk\n",
            "^SRGPNY7... | Carol  | peanuts\n"
          ]
        }
      ],
      "source": [
        "pw.debug.compute_and_print(friends)\n",
        "pw.debug.compute_and_print(allergies)"
      ]
    },
    {
      "cell_type": "markdown",
      "id": "c0c1deab",
      "metadata": {},
      "source": [
        "### Successful id inheritance\n",
        "Let us try a join that inherits id-s from table `allergies`."
      ]
    },
    {
      "cell_type": "code",
      "execution_count": 27,
      "id": "49f35ed7",
      "metadata": {
        "execution": {
          "iopub.execute_input": "2023-03-30T11:52:10.406719Z",
          "iopub.status.busy": "2023-03-30T11:52:10.406503Z",
          "iopub.status.idle": "2023-03-30T11:52:10.410809Z",
          "shell.execute_reply": "2023-03-30T11:52:10.410567Z"
        }
      },
      "outputs": [
        {
          "name": "stdout",
          "output_type": "stream",
          "text": [
            "            | name  | allergy | budget\n",
            "^5W0Q6RR... | Alice | milk    | 13\n",
            "^HEQN3AP... | Bob   | eggs    | 10\n",
            "^ZNQ2Q4X... | Carol | milk    | 11\n",
            "^SRGPNY7... | Carol | peanuts | 11\n"
          ]
        }
      ],
      "source": [
        "pw.debug.compute_and_print(\n",
        "    allergies.join(friends, allergies.person == friends.name, id=allergies.id).select(\n",
        "        friends.name, allergies.allergy, friends.budget\n",
        "    )\n",
        ")"
      ]
    },
    {
      "cell_type": "markdown",
      "id": "71142c66",
      "metadata": {},
      "source": [
        "As you can see, the id column is the same as in the `friends` table,\n",
        "which is not the case when the id parameter is not set."
      ]
    },
    {
      "cell_type": "code",
      "execution_count": 28,
      "id": "6dc2850b",
      "metadata": {
        "execution": {
          "iopub.execute_input": "2023-03-30T11:52:10.412127Z",
          "iopub.status.busy": "2023-03-30T11:52:10.411860Z",
          "iopub.status.idle": "2023-03-30T11:52:10.416197Z",
          "shell.execute_reply": "2023-03-30T11:52:10.415919Z"
        }
      },
      "outputs": [
        {
          "name": "stdout",
          "output_type": "stream",
          "text": [
            "            | name  | allergy | budget\n",
            "^5W0Q6RR... | Alice | milk    | 13\n",
            "^HEQN3AP... | Bob   | eggs    | 10\n",
            "^ZNQ2Q4X... | Carol | milk    | 11\n",
            "^SRGPNY7... | Carol | peanuts | 11\n"
          ]
        }
      ],
      "source": [
        "pw.debug.compute_and_print(\n",
        "    allergies.join(friends, allergies.person == friends.name, id=allergies.id).select(\n",
        "        friends.name, allergies.allergy, friends.budget\n",
        "    )\n",
        ")"
      ]
    },
    {
      "cell_type": "markdown",
      "id": "e0adb88d",
      "metadata": {},
      "source": [
        "### Failed id inheritance: duplicate id-s\n",
        "The first possible problem with inheriting id is that one row of the source table\n",
        "could be matched with several entries of the other table. The code below will\n",
        "cause such a problem, and will raise a `KeyError` error."
      ]
    },
    {
      "cell_type": "code",
      "execution_count": 29,
      "id": "0b0e9dc3",
      "metadata": {
        "execution": {
          "iopub.execute_input": "2023-03-30T11:52:10.417378Z",
          "iopub.status.busy": "2023-03-30T11:52:10.417278Z",
          "iopub.status.idle": "2023-03-30T11:52:10.418893Z",
          "shell.execute_reply": "2023-03-30T11:52:10.418656Z"
        }
      },
      "outputs": [],
      "source": [
        "pw.debug.compute_and_print(\n",
        "    allergies.join(friends, allergies.person == friends.name, id=friends.id).select(\n",
        "        friends.name, allergies.allergy\n",
        "    )\n",
        ")\n",
        "[stacktrace...]\n",
        "KeyError: 'duplicate key: ^SERVYWW6KDGEQ2WVZ3ZZB86VSR'"
      ]
    },
    {
      "cell_type": "markdown",
      "id": "e17f2923",
      "metadata": {
        "lines_to_next_cell": 2
      },
      "source": [
        "### Failed id inheritance: empty id-s\n",
        "Finally, if you consider outer joins between those two tables, you\n",
        "may encounter a situation in which you need to assign an id that is empty in the join result:"
      ]
    },
    {
      "cell_type": "code",
      "execution_count": 30,
      "id": "87250c36",
      "metadata": {
        "execution": {
          "iopub.execute_input": "2023-03-30T11:52:10.420096Z",
          "iopub.status.busy": "2023-03-30T11:52:10.419926Z",
          "iopub.status.idle": "2023-03-30T11:52:10.424185Z",
          "shell.execute_reply": "2023-03-30T11:52:10.423926Z"
        }
      },
      "outputs": [
        {
          "name": "stdout",
          "output_type": "stream",
          "text": [
            "            | name  | allergy | allergies_id\n",
            "^32SMFKS... | Alice | milk    | ^5W0Q6RR...\n",
            "^ZJNDXEM... | Bob   | eggs    | ^HEQN3AP...\n",
            "^0XN0ZGS... | Carol | milk    | ^ZNQ2Q4X...\n",
            "^E9A2TCT... | Carol | peanuts | ^SRGPNY7...\n",
            "^6YHK6X5... | Dan   |         |\n"
          ]
        }
      ],
      "source": [
        "pw.debug.compute_and_print(\n",
        "    allergies.right_join(friends, allergies.person == friends.name).select(\n",
        "        friends.name, allergies.allergy, allergies_id=allergies.id\n",
        "    )\n",
        ")"
      ]
    },
    {
      "cell_type": "markdown",
      "id": "a82a2bd3",
      "metadata": {},
      "source": [
        "As you can see, the `allergies_id` field is not set for Dan's entry. If you try to use\n",
        "`allergies.id` as the `id` parameter, you will encounter a `TypeError` error."
      ]
    },
    {
      "cell_type": "code",
      "execution_count": 31,
      "id": "c9572037",
      "metadata": {
        "execution": {
          "iopub.execute_input": "2023-03-30T11:52:10.425370Z",
          "iopub.status.busy": "2023-03-30T11:52:10.425270Z",
          "iopub.status.idle": "2023-03-30T11:52:10.426889Z",
          "shell.execute_reply": "2023-03-30T11:52:10.426657Z"
        }
      },
      "outputs": [],
      "source": [
        "pw.debug.compute_and_print(\n",
        "    allergies.right_join(\n",
        "        friends, allergies.person == friends.name, id=allergies.id\n",
        "    ).select(friends.name, allergies.allergy, allergies_id=allergies.id)\n",
        ")\n",
        "[stacktrace...]\n",
        "TypeError: type mismatch: expected a pointer, got None"
      ]
    },
    {
      "cell_type": "markdown",
      "id": "306bff3c",
      "metadata": {},
      "source": [
        "## Joins on a foreign key\n",
        "In Pathway, the id column is auto-generated, and as such joining over a foreign key kept in\n",
        "some other table requires extra care. Let's assume that you have another table `likes`\n",
        "that indicates that a friend (row in `friends`) likes some particular dish (row in `menu`)."
      ]
    },
    {
      "cell_type": "code",
      "execution_count": 32,
      "id": "100ffeb5",
      "metadata": {
        "execution": {
          "iopub.execute_input": "2023-03-30T11:52:10.427999Z",
          "iopub.status.busy": "2023-03-30T11:52:10.427902Z",
          "iopub.status.idle": "2023-03-30T11:52:10.431189Z",
          "shell.execute_reply": "2023-03-30T11:52:10.430940Z"
        }
      },
      "outputs": [],
      "source": [
        "likes = pw.debug.table_from_markdown(\n",
        "    \"\"\"\n",
        "    | f_id  | m_id\n",
        "100 | 1     | 11\n",
        "101 | 1     | 13\n",
        "102 | 2     | 12\n",
        "103 | 2     | 13\n",
        "104 | 3     | 11\n",
        "105 | 3     | 14\n",
        "106 | 3     | 13\n",
        "107 | 4     | 12\n",
        "108 | 4     | 14\n",
        "\"\"\"\n",
        ")"
      ]
    },
    {
      "cell_type": "markdown",
      "id": "8e4b6843",
      "metadata": {},
      "source": [
        "Without further specification, Pathway treats columns `f_id` and `m_id` as numbers:"
      ]
    },
    {
      "cell_type": "code",
      "execution_count": 33,
      "id": "2673e699",
      "metadata": {
        "execution": {
          "iopub.execute_input": "2023-03-30T11:52:10.432401Z",
          "iopub.status.busy": "2023-03-30T11:52:10.432227Z",
          "iopub.status.idle": "2023-03-30T11:52:10.434894Z",
          "shell.execute_reply": "2023-03-30T11:52:10.434650Z"
        }
      },
      "outputs": [
        {
          "name": "stdout",
          "output_type": "stream",
          "text": [
            "            | f_id | m_id\n",
            "^R1NNGX9... | 1    | 11\n",
            "^1T1NBH6... | 1    | 13\n",
            "^Y4182QR... | 2    | 12\n",
            "^H6SVJKM... | 2    | 13\n",
            "^6CEH6MP... | 3    | 11\n",
            "^C17SWYD... | 3    | 13\n",
            "^HG5P0QQ... | 3    | 14\n",
            "^Q5RGQZ1... | 4    | 12\n",
            "^TC7PB1C... | 4    | 14\n"
          ]
        }
      ],
      "source": [
        "pw.debug.compute_and_print(likes)"
      ]
    },
    {
      "cell_type": "markdown",
      "id": "5e73a586",
      "metadata": {},
      "source": [
        "while the id of tables `friends` and `menu` was converted to Pointer.\n"
      ]
    },
    {
      "cell_type": "code",
      "execution_count": 34,
      "id": "e502d508",
      "metadata": {
        "execution": {
          "iopub.execute_input": "2023-03-30T11:52:10.436004Z",
          "iopub.status.busy": "2023-03-30T11:52:10.435907Z",
          "iopub.status.idle": "2023-03-30T11:52:10.438916Z",
          "shell.execute_reply": "2023-03-30T11:52:10.438674Z"
        }
      },
      "outputs": [
        {
          "name": "stdout",
          "output_type": "stream",
          "text": [
            "            | name  | budget\n",
            "^8H1RZD9... | Alice | 13\n",
            "^3G6RNTW... | Bob   | 10\n",
            "^2GDR47M... | Carol | 11\n",
            "^143YW45... | Dan   | 12\n",
            "            | dish              | price\n",
            "^RKVQWM9... | jam_pb_pancakes   | 12\n",
            "^7PYHE71... | pancakes_with_jam | 11\n",
            "^RZFVP90... | pb_jam_sandwich   | 9\n",
            "^22ZW9G7... | scrambled_egg     | 11\n"
          ]
        }
      ],
      "source": [
        "pw.debug.compute_and_print(friends)\n",
        "pw.debug.compute_and_print(menu)"
      ]
    },
    {
      "cell_type": "markdown",
      "id": "3a56e5bf",
      "metadata": {},
      "source": [
        "\n",
        "To handle joins using those columns, you can use `pointer_from` function"
      ]
    },
    {
      "cell_type": "code",
      "execution_count": 35,
      "id": "d3d0cdfd",
      "metadata": {
        "execution": {
          "iopub.execute_input": "2023-03-30T11:52:10.440162Z",
          "iopub.status.busy": "2023-03-30T11:52:10.439966Z",
          "iopub.status.idle": "2023-03-30T11:52:10.443593Z",
          "shell.execute_reply": "2023-03-30T11:52:10.443351Z"
        }
      },
      "outputs": [
        {
          "name": "stdout",
          "output_type": "stream",
          "text": [
            "            | f_id | m_id | f_id_ptr    | m_id_ptr\n",
            "^R1NNGX9... | 1    | 11   | ^8H1RZD9... | ^7PYHE71...\n",
            "^1T1NBH6... | 1    | 13   | ^8H1RZD9... | ^RKVQWM9...\n",
            "^Y4182QR... | 2    | 12   | ^3G6RNTW... | ^RZFVP90...\n",
            "^H6SVJKM... | 2    | 13   | ^3G6RNTW... | ^RKVQWM9...\n",
            "^6CEH6MP... | 3    | 11   | ^2GDR47M... | ^7PYHE71...\n",
            "^C17SWYD... | 3    | 13   | ^2GDR47M... | ^RKVQWM9...\n",
            "^HG5P0QQ... | 3    | 14   | ^2GDR47M... | ^22ZW9G7...\n",
            "^Q5RGQZ1... | 4    | 12   | ^143YW45... | ^RZFVP90...\n",
            "^TC7PB1C... | 4    | 14   | ^143YW45... | ^22ZW9G7...\n"
          ]
        }
      ],
      "source": [
        "likes += likes.select(\n",
        "    f_id_ptr=friends.pointer_from(likes.f_id),\n",
        "    m_id_ptr=menu.pointer_from(likes.m_id),\n",
        ")\n",
        "pw.debug.compute_and_print(likes)"
      ]
    },
    {
      "cell_type": "markdown",
      "id": "91ab0b10",
      "metadata": {},
      "source": [
        "An [example of code](#long-chain-example) joining `friends` with `menu` using `likes`\n",
        "is presented the next section on chaining joins."
      ]
    },
    {
      "cell_type": "markdown",
      "id": "fcb3a1d2",
      "metadata": {},
      "source": [
        "## Chaining joins:\n",
        "Pathway provides two ways of chaining joins. The first relies on usage of `pw.this`,\n",
        "the second allows for slightly more compact code. Below, let's focus on chaining joins\n",
        "using `pw.left`.\n",
        "\n",
        " ### Simple join chaining\n",
        "Below, you will do chain joins using `pw.left` and `pw.right`. To show how it can be used, let's revisit\n",
        "the first example of `left_join`, in which you computed a `left_join` on a table\n",
        "that was obtained by another `left_join`. Instead of storing the result of the first\n",
        "`left_join` in `people_allergies`, you can use the following:"
      ]
    },
    {
      "cell_type": "code",
      "execution_count": 36,
      "id": "7d9c074f",
      "metadata": {
        "execution": {
          "iopub.execute_input": "2023-03-30T11:52:10.444859Z",
          "iopub.status.busy": "2023-03-30T11:52:10.444681Z",
          "iopub.status.idle": "2023-03-30T11:52:10.450022Z",
          "shell.execute_reply": "2023-03-30T11:52:10.449772Z"
        }
      },
      "outputs": [
        {
          "name": "stdout",
          "output_type": "stream",
          "text": [
            "            | name  | dish\n",
            "^535KMY7... | Alice | jam_pb_pancakes\n",
            "^Z7JDK2D... | Alice | pancakes_with_jam\n",
            "^4Q205FF... | Bob   | jam_pb_pancakes\n",
            "^C0KB6SJ... | Bob   | pancakes_with_jam\n",
            "^10GYJQY... | Bob   | scrambled_egg\n",
            "^F71XWDC... | Carol | jam_pb_pancakes\n",
            "^YARMZHT... | Carol | jam_pb_pancakes\n",
            "^VVYPM6Z... | Carol | pancakes_with_jam\n",
            "^3QWBQ6H... | Carol | pb_jam_sandwich\n",
            "^QND2DF9... | Dan   |\n"
          ]
        }
      ],
      "source": [
        "pw.debug.compute_and_print(\n",
        "    friends.left_join(allergies, friends.name == allergies.person)\n",
        "    .select(friends.name, allergies.allergy, friends.budget)\n",
        "    .left_join(allergens_in_menu, pw.left.allergy == pw.right.allergen)\n",
        "    .select(pw.this.name, allergens_in_menu.dish)\n",
        ")"
      ]
    },
    {
      "cell_type": "markdown",
      "id": "5e20a5dc",
      "metadata": {},
      "source": [
        "Essentially, for a join `left.join(right, *on)`, `pw.left` allows us to address the `left` table\n",
        "and `pw.right` allows us to address the `right` table. In this particular example, `pw.left` allows us to address the table computed by\n",
        "\n",
        "      friends.left_join(allergies, friends.name == allergies.person\n",
        "          ).select(friends.name, allergies.allergy)\n",
        "\n",
        "without breaking the chain and storing intermediate results in a temporary\n",
        "variable.\n",
        "\n",
        "More generally, given a chain:\n",
        "\n",
        "_MD_SHOW_table.join(...).select(...).join(...).select(...)...\n",
        "\n",
        "`pw.left` can be used to address the result of the latest select.\n",
        "\n",
        "While in the example above `pw.right` is essentially a replacement for `allergens_in_menu`,\n",
        "it can be also used to address a table that is passed as an argument of a join, but is\n",
        "not assigned to any variable.\n",
        "\n",
        "To show `pw.right` in action, you can go back to our [example](#expressions-using-unmatched-rows) showing basic consumer information,\n",
        "and compute it directly from tables `friends`, `allergies`, and `allergens_in_menu`."
      ]
    },
    {
      "cell_type": "code",
      "execution_count": 37,
      "id": "52eb23e4",
      "metadata": {
        "execution": {
          "iopub.execute_input": "2023-03-30T11:52:10.451260Z",
          "iopub.status.busy": "2023-03-30T11:52:10.451076Z",
          "iopub.status.idle": "2023-03-30T11:52:10.456584Z",
          "shell.execute_reply": "2023-03-30T11:52:10.456313Z"
        }
      },
      "outputs": [
        {
          "name": "stdout",
          "output_type": "stream",
          "text": [
            "            | name  | budget | note\n",
            "^ZZ5A24P... | Alice | 13     | Alice can't eat jam_pb_pancakes.\n",
            "^DB70N77... | Alice | 13     | Alice can't eat pancakes_with_jam.\n",
            "^P0X8JSK... | Bob   | 10     | Bob can't eat jam_pb_pancakes.\n",
            "^5PHN5Q1... | Bob   | 10     | Bob can't eat pancakes_with_jam.\n",
            "^CNTA4BA... | Bob   | 10     | Bob can't eat scrambled_egg.\n",
            "^PPF5VHC... | Carol | 11     | Carol can't eat jam_pb_pancakes.\n",
            "^PGZZNSQ... | Carol | 11     | Carol can't eat jam_pb_pancakes.\n",
            "^G1QFSXJ... | Carol | 11     | Carol can't eat pancakes_with_jam.\n",
            "^AK35GKC... | Carol | 11     | Carol can't eat pb_jam_sandwich.\n",
            "^65T1BWA... | Dan   | 12     | Dan has no food restrictions.\n"
          ]
        }
      ],
      "source": [
        "basic_customer_info = friends.left_join(\n",
        "    allergies.join(\n",
        "        allergens_in_menu, allergies.allergy == allergens_in_menu.allergen\n",
        "    ).select(\n",
        "        allergens_in_menu.dish,\n",
        "        allergies.person,\n",
        "    ),\n",
        "    friends.name == pw.right.person,\n",
        ").select(\n",
        "    friends.name,\n",
        "    friends.budget,\n",
        "    note=pw.apply(make_food_constraint_note_none_tolerant, friends.name, pw.right.dish),\n",
        ")\n",
        "pw.debug.compute_and_print(basic_customer_info)"
      ]
    },
    {
      "cell_type": "markdown",
      "id": "1156d8e9",
      "metadata": {},
      "source": [
        "### Long chain example\n",
        "To demonstrate longer chains in action, let's go back to the table `likes` you used to\n",
        "show how to handle (generate) foreign keys."
      ]
    },
    {
      "cell_type": "code",
      "execution_count": 38,
      "id": "3fbb9839",
      "metadata": {
        "execution": {
          "iopub.execute_input": "2023-03-30T11:52:10.457789Z",
          "iopub.status.busy": "2023-03-30T11:52:10.457629Z",
          "iopub.status.idle": "2023-03-30T11:52:10.468436Z",
          "shell.execute_reply": "2023-03-30T11:52:10.468168Z"
        }
      },
      "outputs": [
        {
          "name": "stdout",
          "output_type": "stream",
          "text": [
            "            | name  | budget | dish              | price | allergy | allergen\n",
            "^2Y69Z4Q... | Alice | 13     | jam_pb_pancakes   | 12    | milk    | eggs\n",
            "^84AAN5A... | Alice | 13     | jam_pb_pancakes   | 12    | milk    | peanuts\n",
            "^0HZHQBW... | Alice | 13     | pancakes_with_jam | 11    | milk    | eggs\n",
            "^06XM7ST... | Bob   | 10     | pb_jam_sandwich   | 9     | eggs    | peanuts\n",
            "^D8NVPER... | Carol | 11     | pancakes_with_jam | 11    | milk    | eggs\n",
            "^8SXNCVH... | Carol | 11     | pancakes_with_jam | 11    | peanuts | eggs\n",
            "^WYXE09H... | Carol | 11     | pancakes_with_jam | 11    | peanuts | milk\n",
            "^33CS0GM... | Carol | 11     | scrambled_egg     | 11    | milk    | eggs\n",
            "^C0HGP4A... | Carol | 11     | scrambled_egg     | 11    | peanuts | eggs\n",
            "^8C1FKN2... | Dan   | 12     | pb_jam_sandwich   | 9     |         | peanuts\n",
            "^4J0QKCC... | Dan   | 12     | scrambled_egg     | 11    |         | eggs\n"
          ]
        }
      ],
      "source": [
        "feasible_choice = (\n",
        "    friends.join(likes, friends.id == likes.f_id_ptr)\n",
        "    .select(friends.name, friends.budget, likes.m_id_ptr)\n",
        "    .join(menu, pw.left.m_id_ptr == menu.id)\n",
        "    .select(pw.left.name, pw.left.budget, menu.dish, menu.price)\n",
        "    .left_join(allergies, pw.left.name == pw.right.person)\n",
        "    .select(\n",
        "        pw.left.name, pw.left.budget, pw.left.dish, pw.left.price, allergies.allergy\n",
        "    )\n",
        "    .join(allergens_in_menu, pw.left.dish == pw.right.dish)\n",
        "    .select(\n",
        "        pw.left.name,\n",
        "        pw.left.budget,\n",
        "        pw.left.dish,\n",
        "        pw.left.price,\n",
        "        pw.left.allergy,\n",
        "        allergens_in_menu.allergen,\n",
        "    )\n",
        "    .filter((pw.this.price <= pw.this.budget) & (pw.this.allergy != pw.this.allergen))\n",
        ")\n",
        "pw.debug.compute_and_print(feasible_choice)"
      ]
    },
    {
      "cell_type": "markdown",
      "id": "8a6a4cb4",
      "metadata": {},
      "source": [
        "As you can see, this table contains all choices of person and dish, such that a person likes\n",
        "a particular dish, is not allergic to it, and can afford it. You can further simplify\n",
        "the result by adding another groupby-reduce at the end of the chain."
      ]
    },
    {
      "cell_type": "code",
      "execution_count": 39,
      "id": "f5823725",
      "metadata": {
        "execution": {
          "iopub.execute_input": "2023-03-30T11:52:10.469708Z",
          "iopub.status.busy": "2023-03-30T11:52:10.469519Z",
          "iopub.status.idle": "2023-03-30T11:52:10.476800Z",
          "shell.execute_reply": "2023-03-30T11:52:10.476554Z"
        }
      },
      "outputs": [
        {
          "name": "stdout",
          "output_type": "stream",
          "text": [
            "            | name  | dish              | budget | price\n",
            "^7YXJPWY... | Alice | jam_pb_pancakes   | 13     | 12\n",
            "^Y3KEY9X... | Alice | pancakes_with_jam | 13     | 11\n",
            "^4QQD56G... | Bob   | pb_jam_sandwich   | 10     | 9\n",
            "^V242S6M... | Carol | pancakes_with_jam | 11     | 11\n",
            "^GD114CK... | Carol | scrambled_egg     | 11     | 11\n",
            "^0F3XJKW... | Dan   | pb_jam_sandwich   | 12     | 9\n",
            "^HNDKVM2... | Dan   | scrambled_egg     | 12     | 11\n"
          ]
        }
      ],
      "source": [
        "pw.debug.compute_and_print(\n",
        "    feasible_choice.groupby(\n",
        "        pw.this.name, pw.this.dish, pw.this.budget, pw.this.price\n",
        "    ).reduce(pw.this.name, pw.this.dish, pw.this.budget, pw.this.price)\n",
        ")"
      ]
    },
    {
      "cell_type": "markdown",
      "id": "9cad331b",
      "metadata": {},
      "source": [
        "Furthermore, one can make this piece of code more compact, using the [* notation](https://pathway.com/developers/documentation/table-operations/survival-guide/#select-and-notations))."
      ]
    },
    {
      "cell_type": "code",
      "execution_count": 40,
      "id": "d2ec8104",
      "metadata": {
        "execution": {
          "iopub.execute_input": "2023-03-30T11:52:10.477987Z",
          "iopub.status.busy": "2023-03-30T11:52:10.477885Z",
          "iopub.status.idle": "2023-03-30T11:52:10.490649Z",
          "shell.execute_reply": "2023-03-30T11:52:10.490393Z"
        }
      },
      "outputs": [
        {
          "name": "stdout",
          "output_type": "stream",
          "text": [
            "            | name  | budget | dish              | price | allergy | allergen\n",
            "^XPVQJ80... | Alice | 13     | jam_pb_pancakes   | 12    | milk    | eggs\n",
            "^FZTS4GV... | Alice | 13     | jam_pb_pancakes   | 12    | milk    | peanuts\n",
            "^WYZBE4E... | Alice | 13     | pancakes_with_jam | 11    | milk    | eggs\n",
            "^7BK6J4H... | Bob   | 10     | pb_jam_sandwich   | 9     | eggs    | peanuts\n",
            "^J2TP1HR... | Carol | 11     | pancakes_with_jam | 11    | milk    | eggs\n",
            "^KG21W4N... | Carol | 11     | pancakes_with_jam | 11    | peanuts | eggs\n",
            "^5ET8K8Z... | Carol | 11     | pancakes_with_jam | 11    | peanuts | milk\n",
            "^5EYC95Y... | Carol | 11     | scrambled_egg     | 11    | milk    | eggs\n",
            "^KZ9JMH9... | Carol | 11     | scrambled_egg     | 11    | peanuts | eggs\n",
            "^QTPD7VS... | Dan   | 12     | pb_jam_sandwich   | 9     |         | peanuts\n",
            "^B64G5ZX... | Dan   | 12     | scrambled_egg     | 11    |         | eggs\n"
          ]
        }
      ],
      "source": [
        "pw.debug.compute_and_print(\n",
        "    friends.join(likes, friends.id == likes.f_id_ptr)\n",
        "    .select(*friends, likes.m_id_ptr)\n",
        "    .join(menu, pw.left.m_id_ptr == menu.id)\n",
        "    .select(*pw.left, *menu)\n",
        "    .without(pw.this.m_id_ptr)\n",
        "    .left_join(allergies, pw.left.name == pw.right.person)\n",
        "    .select(*pw.left, allergies.allergy)\n",
        "    .join(allergens_in_menu, pw.left.dish == pw.right.dish)\n",
        "    .select(*pw.left, allergens_in_menu.allergen)\n",
        "    .filter((pw.this.price <= pw.this.budget) & (pw.this.allergy != pw.this.allergen))\n",
        "    .select(*pw.this)\n",
        "    .groupby(*pw.this)\n",
        "    .reduce(*pw.this)\n",
        ")"
      ]
    }
  ],
  "metadata": {
    "jupytext": {
      "cell_metadata_filter": "-all",
      "main_language": "python",
      "notebook_metadata_filter": "-all"
    },
    "language_info": {
      "codemirror_mode": {
        "name": "ipython",
        "version": 3
      },
      "file_extension": ".py",
      "mimetype": "text/x-python",
      "name": "python",
      "nbconvert_exporter": "python",
      "pygments_lexer": "ipython3",
      "version": "3.10.8"
    }
  },
  "nbformat": 4,
  "nbformat_minor": 5
}