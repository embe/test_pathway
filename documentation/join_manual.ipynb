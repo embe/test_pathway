{
  "cells": [
    {
      "cell_type": "markdown",
      "source": [
        "# Setting up Python and Pathway\n",
        "\n",
        "Pathway can be installed to a Python 3.10 environment using pip, please register at https://pathway.com to get beta access to the package"
      ],
      "metadata": {
        "id": "notebook-instructions"
      }
    },
    {
      "cell_type": "code",
      "source": [
        "PIP_PACKAGE_ADDRESS=\"\"\n",
        "if not PIP_PACKAGE_ADDRESS:\n",
        "    print(\n",
        "        \"Please register at https://pathway.com/developers/documentation/introduction/installation-and-first-steps\\n\"\n",
        "        \"To get the pip package installation link!\"\n",
        "    )"
      ],
      "metadata": {
        "id": "pip-package-selection"
      },
      "execution_count": null,
      "outputs": []
    },
    {
      "cell_type": "code",
      "source": [
        "if not (sys.version_info.major==3 and sys.version_info.minor==10):\n",
        "    raise Exception(\"Pathway is only built for Python 3.10 at the moment\")"
      ],
      "metadata": {
        "id": "check-py-version"
      },
      "execution_count": null,
      "outputs": []
    },
    {
      "cell_type": "code",
      "source": [
        "# Install pathway's package\n",
        "!pip install {PIP_PACKAGE_ADDRESS} 1>/dev/null 2>/dev/null"
      ],
      "metadata": {
        "id": "pip-install-pathway"
      },
      "execution_count": null,
      "outputs": []
    },
    {
      "cell_type": "markdown",
      "id": "9abc6e28",
      "metadata": {},
      "source": [
        "# Playing with joins.\n",
        "A brief explanation on how to perform joins with Pathway.\n",
        "\n",
        "Join is one of the basic table operation provided in Pathway.\n",
        "A join operation combines columns from two different tables by associating rows with matching some given values both tables.\n",
        "\n",
        "This guide presents several samples of code using the joins:\n",
        "*  [join (inner join)](#simple-inner-join)\n",
        "*  [left_join, right_join, outer_join (outer_joins)](#outer-joins)\n",
        "\n",
        "\n",
        "The examples demonstrate usual use-cases, explain the behavior of\n",
        "outer joins, and point out some peculiarities you may encounter\n",
        "while using Pathway. In particular, they show how to:\n",
        "* [inherit id from left or right table](#id-inheritance-in-join)\n",
        "* [join tables using foreign keys](#joins-on-foreign-key)\n",
        "* [use joins in a chain](#chaining-joins)"
      ]
    },
    {
      "cell_type": "markdown",
      "id": "3df3aac0",
      "metadata": {},
      "source": [
        "## Prerequisites\n",
        "\n",
        "Be sure to import Pathway."
      ]
    },
    {
      "cell_type": "code",
      "execution_count": 1,
      "id": "a256e8fc",
      "metadata": {
        "execution": {
          "iopub.execute_input": "2022-12-08T01:11:30.981627Z",
          "iopub.status.busy": "2022-12-08T01:11:30.981507Z",
          "iopub.status.idle": "2022-12-08T01:11:32.148253Z",
          "shell.execute_reply": "2022-12-08T01:11:32.147837Z"
        }
      },
      "outputs": [],
      "source": [
        "import pathway as pw"
      ]
    },
    {
      "cell_type": "markdown",
      "id": "c8fee034",
      "metadata": {},
      "source": [
        "\n",
        "Also, we need some tables to play with. For the sake of presentation,\n",
        "let us consider a following made up scenario: a group of four friends\n",
        "(table friends) goes to grab some breakfast.\n"
      ]
    },
    {
      "cell_type": "code",
      "execution_count": 2,
      "id": "2a6e83c9",
      "metadata": {
        "execution": {
          "iopub.execute_input": "2022-12-08T01:11:32.150171Z",
          "iopub.status.busy": "2022-12-08T01:11:32.150003Z",
          "iopub.status.idle": "2022-12-08T01:11:32.156502Z",
          "shell.execute_reply": "2022-12-08T01:11:32.156204Z"
        },
        "lines_to_next_cell": 2
      },
      "outputs": [],
      "source": [
        "friends = pw.debug.table_from_markdown(\n",
        "    \"\"\"\n",
        "    | name  |budget\n",
        "  1 | Alice | 13\n",
        "  2 | Bob   | 10\n",
        "  3 | Carol | 11\n",
        "  4 | Dan   | 12\n",
        " \"\"\"\n",
        ")\n",
        "menu = pw.debug.table_from_markdown(\n",
        "    \"\"\"\n",
        "     | dish                              | price\n",
        "  11 | pancakes_with_jam                 | 11\n",
        "  12 | pb_jam_sandwich                   | 9\n",
        "  13 | jam_pb_pancakes                   | 12\n",
        "  14 | scrambled_egg                     | 11\n",
        " \"\"\"\n",
        ")"
      ]
    },
    {
      "cell_type": "markdown",
      "id": "8cc15f0d",
      "metadata": {},
      "source": [
        "#\n",
        "However, some of them have allergies (table allergies),\n",
        "and cannot eat everything. Luckily, the restaurant has a list\n",
        "of allergens contained in each dish (table allergens_in_menu).\n"
      ]
    },
    {
      "cell_type": "code",
      "execution_count": 3,
      "id": "c524cb91",
      "metadata": {
        "execution": {
          "iopub.execute_input": "2022-12-08T01:11:32.163176Z",
          "iopub.status.busy": "2022-12-08T01:11:32.163041Z",
          "iopub.status.idle": "2022-12-08T01:11:32.168019Z",
          "shell.execute_reply": "2022-12-08T01:11:32.167723Z"
        }
      },
      "outputs": [],
      "source": [
        "allergies = pw.debug.table_from_markdown(\n",
        "    \"\"\"\n",
        "     | person| allergy\n",
        "  21 | Alice | milk\n",
        "  22 | Bob   | eggs\n",
        "  23 | Carol | peanuts\n",
        "  24 | Carol | milk\n",
        " \"\"\"\n",
        ")\n",
        "\n",
        "allergens_in_menu = pw.debug.table_from_markdown(\n",
        "    \"\"\"\n",
        "     | dish                              | allergen\n",
        "  31 | pancakes_with_jam                 | milk\n",
        "  32 | pancakes_with_jam                 | eggs\n",
        "  33 | pb_jam_sandwich                   | peanuts\n",
        "  34 | jam_pb_pancakes                   | eggs\n",
        "  35 | jam_pb_pancakes                   | peanuts\n",
        "  36 | jam_pb_pancakes                   | milk\n",
        "  37 | scrambled_egg                     | eggs\n",
        " \"\"\"\n",
        ")"
      ]
    },
    {
      "cell_type": "markdown",
      "id": "a00212f1",
      "metadata": {},
      "source": [
        "## Simple inner join.\n",
        "### Syntax\n",
        "Putting it simply, the syntax of join is:"
      ]
    },
    {
      "cell_type": "code",
      "execution_count": 4,
      "id": "eef4b87c",
      "metadata": {
        "execution": {
          "iopub.execute_input": "2022-12-08T01:11:32.169201Z",
          "iopub.status.busy": "2022-12-08T01:11:32.169098Z",
          "iopub.status.idle": "2022-12-08T01:11:32.170800Z",
          "shell.execute_reply": "2022-12-08T01:11:32.170510Z"
        }
      },
      "outputs": [],
      "source": [
        "# _MD_SHOW_table.join(other, *on)"
      ]
    },
    {
      "cell_type": "markdown",
      "id": "bcf6686b",
      "metadata": {},
      "source": [
        "where\n",
        "* `table` and `other` are tables to be joined,\n",
        "* `*on` is a list of conditions of form:"
      ]
    },
    {
      "cell_type": "code",
      "execution_count": 5,
      "id": "fd2c7226",
      "metadata": {
        "execution": {
          "iopub.execute_input": "2022-12-08T01:11:32.171974Z",
          "iopub.status.busy": "2022-12-08T01:11:32.171875Z",
          "iopub.status.idle": "2022-12-08T01:11:32.173512Z",
          "shell.execute_reply": "2022-12-08T01:11:32.173218Z"
        }
      },
      "outputs": [],
      "source": [
        "# _MD_SHOW_table.some_column == other.some_other_column"
      ]
    },
    {
      "cell_type": "markdown",
      "id": "00d66c41",
      "metadata": {},
      "source": [
        "**Remark:** the order of tables in the condition matters. That is,\n",
        "a condition of the following form won't be accepted:"
      ]
    },
    {
      "cell_type": "code",
      "execution_count": 6,
      "id": "be213811",
      "metadata": {
        "execution": {
          "iopub.execute_input": "2022-12-08T01:11:32.174638Z",
          "iopub.status.busy": "2022-12-08T01:11:32.174540Z",
          "iopub.status.idle": "2022-12-08T01:11:32.176162Z",
          "shell.execute_reply": "2022-12-08T01:11:32.175887Z"
        }
      },
      "outputs": [],
      "source": [
        "# _MD_SHOW_other.some_other_column == table.some_column"
      ]
    },
    {
      "cell_type": "markdown",
      "id": "42f64100",
      "metadata": {},
      "source": [
        "### Examples\n",
        "As a warm-up, let us see how to make a simple join-queries.\n",
        "Let's begin with simple query that find all pairs person-dish\n",
        "that can put someone in a hospital."
      ]
    },
    {
      "cell_type": "code",
      "execution_count": 7,
      "id": "19e31a85",
      "metadata": {
        "execution": {
          "iopub.execute_input": "2022-12-08T01:11:32.177245Z",
          "iopub.status.busy": "2022-12-08T01:11:32.177147Z",
          "iopub.status.idle": "2022-12-08T01:11:32.181252Z",
          "shell.execute_reply": "2022-12-08T01:11:32.180949Z"
        },
        "lines_to_next_cell": 1
      },
      "outputs": [
        {
          "name": "stdout",
          "output_type": "stream",
          "text": [
            "            | dish              | person\n",
            "^NXS1ZCC... | jam_pb_pancakes   | Alice\n",
            "^TKSYTBX... | jam_pb_pancakes   | Bob\n",
            "^C62RFES... | jam_pb_pancakes   | Carol\n",
            "^BX7DMG3... | jam_pb_pancakes   | Carol\n",
            "^B7RFVMK... | pancakes_with_jam | Alice\n",
            "^51FP1WY... | pancakes_with_jam | Bob\n",
            "^FHCFCY1... | pancakes_with_jam | Carol\n",
            "^ZQ7DWQ8... | pb_jam_sandwich   | Carol\n",
            "^0MRRXPF... | scrambled_egg     | Bob\n"
          ]
        }
      ],
      "source": [
        "bad_match = allergies.join(\n",
        "    allergens_in_menu, allergies.allergy == allergens_in_menu.allergen\n",
        ").select(allergens_in_menu.dish, allergies.person)\n",
        "pw.debug.compute_and_print(bad_match)"
      ]
    },
    {
      "cell_type": "markdown",
      "id": "9f719115",
      "metadata": {},
      "source": [
        "#\n",
        "As we can see, the result is a table of life-threatening pairs.\n",
        "\n",
        "The `select` function works here similarly as `select` on a table. The difference is\n",
        "that here, we can use columns of both tables as arguments, e.g."
      ]
    },
    {
      "cell_type": "code",
      "execution_count": 8,
      "id": "9872a687",
      "metadata": {
        "execution": {
          "iopub.execute_input": "2022-12-08T01:11:32.182563Z",
          "iopub.status.busy": "2022-12-08T01:11:32.182292Z",
          "iopub.status.idle": "2022-12-08T01:11:32.186240Z",
          "shell.execute_reply": "2022-12-08T01:11:32.185930Z"
        }
      },
      "outputs": [
        {
          "name": "stdout",
          "output_type": "stream",
          "text": [
            "            | note\n",
            "^NXS1ZCC... | Alice can't eat jam_pb_pancakes.\n",
            "^B7RFVMK... | Alice can't eat pancakes_with_jam.\n",
            "^TKSYTBX... | Bob can't eat jam_pb_pancakes.\n",
            "^51FP1WY... | Bob can't eat pancakes_with_jam.\n",
            "^0MRRXPF... | Bob can't eat scrambled_egg.\n",
            "^C62RFES... | Carol can't eat jam_pb_pancakes.\n",
            "^BX7DMG3... | Carol can't eat jam_pb_pancakes.\n",
            "^FHCFCY1... | Carol can't eat pancakes_with_jam.\n",
            "^ZQ7DWQ8... | Carol can't eat pb_jam_sandwich.\n"
          ]
        }
      ],
      "source": [
        "def make_food_constraint_note(name, dish):\n",
        "    return f\"{name} can't eat {dish}.\"\n",
        "\n",
        "\n",
        "bad_match_note = allergies.join(\n",
        "    allergens_in_menu, allergies.allergy == allergens_in_menu.allergen\n",
        ").select(\n",
        "    note=pw.apply(make_food_constraint_note, allergies.person, allergens_in_menu.dish)\n",
        ")\n",
        "pw.debug.compute_and_print(bad_match_note)"
      ]
    },
    {
      "cell_type": "markdown",
      "id": "7b8b0fd4",
      "metadata": {},
      "source": [
        "*Remark:* note that id is now some auto generated number, which is the usual behavior of join."
      ]
    },
    {
      "cell_type": "markdown",
      "id": "76d89447",
      "metadata": {},
      "source": [
        "### On self joins.\n",
        "In order to perform a self joins (a join of table with itself),\n",
        "we need to create its copy."
      ]
    },
    {
      "cell_type": "code",
      "execution_count": 9,
      "id": "2886ffcf",
      "metadata": {
        "execution": {
          "iopub.execute_input": "2022-12-08T01:11:32.187455Z",
          "iopub.status.busy": "2022-12-08T01:11:32.187351Z",
          "iopub.status.idle": "2022-12-08T01:11:32.191522Z",
          "shell.execute_reply": "2022-12-08T01:11:32.191209Z"
        }
      },
      "outputs": [
        {
          "name": "stdout",
          "output_type": "stream",
          "text": [
            "            | l_name | r_name\n",
            "^V26FYPD... | Alice  | Carol\n",
            "^YTH8WNY... | Carol  | Alice\n"
          ]
        }
      ],
      "source": [
        "same_allergies = (\n",
        "    allergies.join(\n",
        "        allergies_copy := allergies.copy(), allergies.allergy == allergies_copy.allergy\n",
        "    )\n",
        "    .select(\n",
        "        l_name=allergies.person,\n",
        "        r_name=allergies_copy.person,\n",
        "    )\n",
        "    .filter(pw.this.l_name != pw.this.r_name)\n",
        ")\n",
        "\n",
        "pw.debug.compute_and_print(same_allergies)"
      ]
    },
    {
      "cell_type": "markdown",
      "id": "0fa9e68a",
      "metadata": {},
      "source": [
        "## Outer joins\n",
        "The difference between outer joins and joins is that the outer join adds to the result\n",
        "table also entries that didn't match:"
      ]
    },
    {
      "cell_type": "markdown",
      "id": "5cc64df9",
      "metadata": {
        "lines_to_next_cell": 2
      },
      "source": [
        "pw.debug.compute_and_print()"
      ]
    },
    {
      "cell_type": "code",
      "execution_count": 10,
      "id": "f25960ff",
      "metadata": {
        "execution": {
          "iopub.execute_input": "2022-12-08T01:11:32.192687Z",
          "iopub.status.busy": "2022-12-08T01:11:32.192583Z",
          "iopub.status.idle": "2022-12-08T01:11:32.194222Z",
          "shell.execute_reply": "2022-12-08T01:11:32.193939Z"
        }
      },
      "outputs": [],
      "source": [
        "# _MD_SHOW_left.left_join(right, conditions)"
      ]
    },
    {
      "cell_type": "markdown",
      "id": "26cf55bf",
      "metadata": {},
      "source": [
        "includes entries from the *left* table and"
      ]
    },
    {
      "cell_type": "code",
      "execution_count": 11,
      "id": "292fe1c3",
      "metadata": {
        "execution": {
          "iopub.execute_input": "2022-12-08T01:11:32.195345Z",
          "iopub.status.busy": "2022-12-08T01:11:32.195244Z",
          "iopub.status.idle": "2022-12-08T01:11:32.196923Z",
          "shell.execute_reply": "2022-12-08T01:11:32.196638Z"
        }
      },
      "outputs": [],
      "source": [
        "# _MD_SHOW_left.right_join(right, conditions)"
      ]
    },
    {
      "cell_type": "markdown",
      "id": "137e92c0",
      "metadata": {},
      "source": [
        "includes entries from the *right* table."
      ]
    },
    {
      "cell_type": "markdown",
      "id": "813deafd",
      "metadata": {},
      "source": [
        "### Simple example\n",
        "To demonstrate outer-joins, we can consider a question about forbidden\n",
        "breakfast configurations (i.e. pairs person-dish, such that person is\n",
        "allergic to some ingredients)."
      ]
    },
    {
      "cell_type": "code",
      "execution_count": 12,
      "id": "40ae10c9",
      "metadata": {
        "execution": {
          "iopub.execute_input": "2022-12-08T01:11:32.198115Z",
          "iopub.status.busy": "2022-12-08T01:11:32.198016Z",
          "iopub.status.idle": "2022-12-08T01:11:32.217728Z",
          "shell.execute_reply": "2022-12-08T01:11:32.217388Z"
        }
      },
      "outputs": [
        {
          "name": "stdout",
          "output_type": "stream",
          "text": [
            "            | name  | allergy\n",
            "^CEESHNP... | Alice | milk\n",
            "^GKYNQB3... | Bob   | eggs\n",
            "^MCCDMWQ... | Carol | milk\n",
            "^28382DM... | Carol | peanuts\n",
            "^MZ49F0F... | Dan   |\n",
            "            | name  | dish\n",
            "^Y4H9YJC... | Alice | jam_pb_pancakes\n",
            "^MHQRNFF... | Alice | pancakes_with_jam\n",
            "^4DQ4S80... | Bob   | jam_pb_pancakes\n",
            "^XPGS5EQ... | Bob   | pancakes_with_jam\n",
            "^63EGDX6... | Bob   | scrambled_egg\n",
            "^YZ60CRJ... | Carol | jam_pb_pancakes\n",
            "^K3K3E16... | Carol | jam_pb_pancakes\n",
            "^M6FZ6K4... | Carol | pancakes_with_jam\n",
            "^RN5X9SH... | Carol | pb_jam_sandwich\n",
            "^2YAV0VF... | Dan   |\n"
          ]
        }
      ],
      "source": [
        "people_allergies = friends.left_join(\n",
        "    allergies, friends.name == allergies.person\n",
        ").select(friends.name, allergies.allergy)\n",
        "pw.debug.compute_and_print(people_allergies)\n",
        "\n",
        "forbidden_breakfast = people_allergies.left_join(\n",
        "    allergens_in_menu, people_allergies.allergy == allergens_in_menu.allergen\n",
        ").select(people_allergies.name, allergens_in_menu.dish)\n",
        "pw.debug.compute_and_print(forbidden_breakfast)"
      ]
    },
    {
      "cell_type": "markdown",
      "id": "ae3dfacc",
      "metadata": {},
      "source": [
        "Now, as we can see, the table has duplicate rows. This is intended behavior, as\n",
        "a particular person can be allergic to more than one ingredient. In other words,\n",
        "when we add a reason column to our result table, we can see that each row was\n",
        "included in the table above for a different reason."
      ]
    },
    {
      "cell_type": "code",
      "execution_count": 13,
      "id": "701dd858",
      "metadata": {
        "execution": {
          "iopub.execute_input": "2022-12-08T01:11:32.218892Z",
          "iopub.status.busy": "2022-12-08T01:11:32.218790Z",
          "iopub.status.idle": "2022-12-08T01:11:32.234201Z",
          "shell.execute_reply": "2022-12-08T01:11:32.233880Z"
        },
        "lines_to_next_cell": 2
      },
      "outputs": [
        {
          "name": "stdout",
          "output_type": "stream",
          "text": [
            "            | name  | dish              | reason\n",
            "^Y4H9YJC... | Alice | jam_pb_pancakes   | milk\n",
            "^MHQRNFF... | Alice | pancakes_with_jam | milk\n",
            "^4DQ4S80... | Bob   | jam_pb_pancakes   | eggs\n",
            "^XPGS5EQ... | Bob   | pancakes_with_jam | eggs\n",
            "^63EGDX6... | Bob   | scrambled_egg     | eggs\n",
            "^YZ60CRJ... | Carol | jam_pb_pancakes   | milk\n",
            "^K3K3E16... | Carol | jam_pb_pancakes   | peanuts\n",
            "^M6FZ6K4... | Carol | pancakes_with_jam | milk\n",
            "^RN5X9SH... | Carol | pb_jam_sandwich   | peanuts\n",
            "^2YAV0VF... | Dan   |                   |\n"
          ]
        }
      ],
      "source": [
        "forbidden_breakfast = people_allergies.left_join(\n",
        "    allergens_in_menu, people_allergies.allergy == allergens_in_menu.allergen\n",
        ").select(\n",
        "    people_allergies.name, allergens_in_menu.dish, reason=allergens_in_menu.allergen\n",
        ")\n",
        "pw.debug.compute_and_print(forbidden_breakfast)"
      ]
    },
    {
      "cell_type": "markdown",
      "id": "17d42b47",
      "metadata": {},
      "source": [
        "### Removing duplicates\n",
        "If we really want to have a table without the 'reason' column and without\n",
        "duplicates, we can achieve that with extra `groupby` and `reduce` :"
      ]
    },
    {
      "cell_type": "code",
      "execution_count": 14,
      "id": "b4ba5701",
      "metadata": {
        "execution": {
          "iopub.execute_input": "2022-12-08T01:11:32.235333Z",
          "iopub.status.busy": "2022-12-08T01:11:32.235231Z",
          "iopub.status.idle": "2022-12-08T01:11:32.254163Z",
          "shell.execute_reply": "2022-12-08T01:11:32.253840Z"
        }
      },
      "outputs": [
        {
          "name": "stdout",
          "output_type": "stream",
          "text": [
            "            | name  | dish\n",
            "^M8E4DFK... | Alice | jam_pb_pancakes\n",
            "^JMHBFKG... | Alice | pancakes_with_jam\n",
            "^AN7YRTF... | Bob   | jam_pb_pancakes\n",
            "^GZ0TEZ6... | Bob   | pancakes_with_jam\n",
            "^W8AZSTG... | Bob   | scrambled_egg\n",
            "^DBZV8YR... | Carol | jam_pb_pancakes\n",
            "^N585E7A... | Carol | pancakes_with_jam\n",
            "^9DJG3GD... | Carol | pb_jam_sandwich\n",
            "^30JAJCE... | Dan   |\n"
          ]
        }
      ],
      "source": [
        "forbidden_breakfast = people_allergies.left_join(\n",
        "    allergens_in_menu, people_allergies.allergy == allergens_in_menu.allergen\n",
        ").select(people_allergies.name, allergens_in_menu.dish)\n",
        "\n",
        "forbidden_breakfast_no_duplicates = forbidden_breakfast.groupby(\n",
        "    forbidden_breakfast.name, forbidden_breakfast.dish\n",
        ").reduce(forbidden_breakfast.name, forbidden_breakfast.dish)\n",
        "\n",
        "pw.debug.compute_and_print(forbidden_breakfast_no_duplicates)"
      ]
    },
    {
      "cell_type": "markdown",
      "id": "2ac94605",
      "metadata": {},
      "source": [
        "That simple application of groupby-reduce combination essentially selects\n",
        "unique set of pairs (name, dish) from our table. More on the reduce-groupby operations\n",
        "can be found in the reduce-groupby [manual](/developers/documentation/table-operations/groupby-reduce-manual)."
      ]
    },
    {
      "cell_type": "markdown",
      "id": "b1bc024b",
      "metadata": {},
      "source": [
        "### Computed and omitted columns.\n",
        "Because left join operation returns rows from the left table, even if there is no\n",
        "match in the right column, some columns can't be computed.\n",
        "\n",
        "**The left join computes values in all columns that can be\n",
        "computed, and leaves all the remaining columns empty.**\n",
        "\n",
        "As an example, we can consider a modified variant of the `bad_match_note` table.\n",
        "The modification is that we want to include all the\n",
        "people, and additionally we want to display their budget."
      ]
    },
    {
      "cell_type": "markdown",
      "id": "3f959e35",
      "metadata": {},
      "source": [
        "To that end, it is enough that we join the `friends` table with the `bad_match` table, as\n",
        "together they include all necessary information."
      ]
    },
    {
      "cell_type": "code",
      "execution_count": 15,
      "id": "2bb91593",
      "metadata": {
        "execution": {
          "iopub.execute_input": "2022-12-08T01:11:32.255395Z",
          "iopub.status.busy": "2022-12-08T01:11:32.255292Z",
          "iopub.status.idle": "2022-12-08T01:11:32.277894Z",
          "shell.execute_reply": "2022-12-08T01:11:32.277531Z"
        }
      },
      "outputs": [
        {
          "name": "stdout",
          "output_type": "stream",
          "text": [
            "            | name  | budget | note\n",
            "^B74N75K... | Alice | 13     | Alice can't eat jam_pb_pancakes.\n",
            "^YZBNRSA... | Alice | 13     | Alice can't eat pancakes_with_jam.\n",
            "^Z8QGSEZ... | Bob   | 10     | Bob can't eat jam_pb_pancakes.\n",
            "^CHHK1Q9... | Bob   | 10     | Bob can't eat pancakes_with_jam.\n",
            "^DHWEFAB... | Bob   | 10     | Bob can't eat scrambled_egg.\n",
            "^2SGPETY... | Carol | 11     | Carol can't eat jam_pb_pancakes.\n",
            "^ADRQJVA... | Carol | 11     | Carol can't eat jam_pb_pancakes.\n",
            "^JCXPCDF... | Carol | 11     | Carol can't eat pancakes_with_jam.\n",
            "^H2S7YN7... | Carol | 11     | Carol can't eat pb_jam_sandwich.\n",
            "^MZ49F0F... | Dan   | 12     |\n"
          ]
        }
      ],
      "source": [
        "basic_customer_info = friends.left_join(\n",
        "    bad_match, friends.name == bad_match.person\n",
        ").select(\n",
        "    friends.name,\n",
        "    friends.budget,\n",
        "    note=pw.apply(make_food_constraint_note, friends.name, bad_match.dish),\n",
        ")\n",
        "pw.debug.compute_and_print(basic_customer_info)"
      ]
    },
    {
      "cell_type": "markdown",
      "id": "de35023f",
      "metadata": {},
      "source": [
        "To once again demonstrate the behavior, let us change `friends.name` to\n",
        "`bad_match.person` in the select part of our code."
      ]
    },
    {
      "cell_type": "code",
      "execution_count": 16,
      "id": "4bdf6b87",
      "metadata": {
        "execution": {
          "iopub.execute_input": "2022-12-08T01:11:32.279116Z",
          "iopub.status.busy": "2022-12-08T01:11:32.279013Z",
          "iopub.status.idle": "2022-12-08T01:11:32.305500Z",
          "shell.execute_reply": "2022-12-08T01:11:32.305153Z"
        }
      },
      "outputs": [
        {
          "name": "stdout",
          "output_type": "stream",
          "text": [
            "            | person | budget | note\n",
            "^MZ49F0F... |        | 12     |\n",
            "^B74N75K... | Alice  | 13     | Alice can't eat jam_pb_pancakes.\n",
            "^YZBNRSA... | Alice  | 13     | Alice can't eat pancakes_with_jam.\n",
            "^Z8QGSEZ... | Bob    | 10     | Bob can't eat jam_pb_pancakes.\n",
            "^CHHK1Q9... | Bob    | 10     | Bob can't eat pancakes_with_jam.\n",
            "^DHWEFAB... | Bob    | 10     | Bob can't eat scrambled_egg.\n",
            "^2SGPETY... | Carol  | 11     | Carol can't eat jam_pb_pancakes.\n",
            "^ADRQJVA... | Carol  | 11     | Carol can't eat jam_pb_pancakes.\n",
            "^JCXPCDF... | Carol  | 11     | Carol can't eat pancakes_with_jam.\n",
            "^H2S7YN7... | Carol  | 11     | Carol can't eat pb_jam_sandwich.\n"
          ]
        }
      ],
      "source": [
        "basic_customer_info = friends.left_join(\n",
        "    bad_match, friends.name == bad_match.person\n",
        ").select(\n",
        "    bad_match.person,\n",
        "    friends.budget,\n",
        "    note=pw.apply(make_food_constraint_note, friends.name, bad_match.dish),\n",
        ")\n",
        "pw.debug.compute_and_print(basic_customer_info)"
      ]
    },
    {
      "cell_type": "markdown",
      "id": "edfca8d9",
      "metadata": {},
      "source": [
        "Now, the cell that earlier included Dan is empty, as value of this column is defined\n",
        "by column in `bad_match` table. Since there is no match, person was not filled in.\n",
        "Budget is still computable though, hence it is still present."
      ]
    },
    {
      "cell_type": "markdown",
      "id": "af1b089c",
      "metadata": {},
      "source": [
        "### On right joins\n",
        "In the examples above, we only relied on `left_join`. The `right_join` operation is quite\n",
        "similar in its behavior. Namely,"
      ]
    },
    {
      "cell_type": "code",
      "execution_count": 17,
      "id": "7a96dfe8",
      "metadata": {
        "execution": {
          "iopub.execute_input": "2022-12-08T01:11:32.306778Z",
          "iopub.status.busy": "2022-12-08T01:11:32.306674Z",
          "iopub.status.idle": "2022-12-08T01:11:32.336026Z",
          "shell.execute_reply": "2022-12-08T01:11:32.335637Z"
        }
      },
      "outputs": [
        {
          "name": "stdout",
          "output_type": "stream",
          "text": [
            "            | name  | allergy\n",
            "^CEESHNP... | Alice | milk\n",
            "^GKYNQB3... | Bob   | eggs\n",
            "^MCCDMWQ... | Carol | milk\n",
            "^28382DM... | Carol | peanuts\n",
            "^MZ49F0F... | Dan   |\n"
          ]
        }
      ],
      "source": [
        "people_allergies = friends.left_join(\n",
        "    allergies, friends.name == allergies.person\n",
        ").select(friends.name, allergies.allergy)\n",
        "pw.debug.compute_and_print(people_allergies)"
      ]
    },
    {
      "cell_type": "markdown",
      "id": "41ff70b7",
      "metadata": {},
      "source": [
        "is almost (except for auto-generated IDs) equivalent to"
      ]
    },
    {
      "cell_type": "code",
      "execution_count": 18,
      "id": "6d5cfe5b",
      "metadata": {
        "execution": {
          "iopub.execute_input": "2022-12-08T01:11:32.337308Z",
          "iopub.status.busy": "2022-12-08T01:11:32.337202Z",
          "iopub.status.idle": "2022-12-08T01:11:32.370306Z",
          "shell.execute_reply": "2022-12-08T01:11:32.369936Z"
        }
      },
      "outputs": [
        {
          "name": "stdout",
          "output_type": "stream",
          "text": [
            "            | name  | allergy\n",
            "^AHH9C80... | Alice | milk\n",
            "^2BR8WRG... | Bob   | eggs\n",
            "^Y5CAVAS... | Carol | milk\n",
            "^WQENVG9... | Carol | peanuts\n",
            "^KARHAYN... | Dan   |\n"
          ]
        }
      ],
      "source": [
        "people_allergies = allergies.right_join(\n",
        "    friends, allergies.person == friends.name\n",
        ").select(friends.name, allergies.allergy)\n",
        "pw.debug.compute_and_print(people_allergies)"
      ]
    },
    {
      "cell_type": "markdown",
      "id": "9c154116",
      "metadata": {},
      "source": [
        "When we join two tables, the only difference is in syntax - since allergies is\n",
        "the table on which we call `join_right`, it must be first argument\n",
        "in the join condition, i.e. it is"
      ]
    },
    {
      "cell_type": "code",
      "execution_count": 19,
      "id": "5f5c8cdb",
      "metadata": {
        "execution": {
          "iopub.execute_input": "2022-12-08T01:11:32.371650Z",
          "iopub.status.busy": "2022-12-08T01:11:32.371541Z",
          "iopub.status.idle": "2022-12-08T01:11:32.373328Z",
          "shell.execute_reply": "2022-12-08T01:11:32.373044Z"
        }
      },
      "outputs": [],
      "source": [
        "# _MD_SHOW_allergies.person == friends.name"
      ]
    },
    {
      "cell_type": "markdown",
      "id": "67306a81",
      "metadata": {},
      "source": [
        "as opposed to"
      ]
    },
    {
      "cell_type": "code",
      "execution_count": 20,
      "id": "2a0a1b49",
      "metadata": {
        "execution": {
          "iopub.execute_input": "2022-12-08T01:11:32.374822Z",
          "iopub.status.busy": "2022-12-08T01:11:32.374722Z",
          "iopub.status.idle": "2022-12-08T01:11:32.376376Z",
          "shell.execute_reply": "2022-12-08T01:11:32.376095Z"
        }
      },
      "outputs": [],
      "source": [
        "# _MD_SHOW_friends.name == allergies.person"
      ]
    },
    {
      "cell_type": "markdown",
      "id": "50dcb97f",
      "metadata": {},
      "source": [
        "used in the `left_join`."
      ]
    },
    {
      "cell_type": "markdown",
      "id": "4529af76",
      "metadata": {},
      "source": [
        "### On full outer joins.\n",
        "The `outer_join` operation is a full outer join, which means that"
      ]
    },
    {
      "cell_type": "code",
      "execution_count": 21,
      "id": "55d814ac",
      "metadata": {
        "execution": {
          "iopub.execute_input": "2022-12-08T01:11:32.377554Z",
          "iopub.status.busy": "2022-12-08T01:11:32.377452Z",
          "iopub.status.idle": "2022-12-08T01:11:32.379104Z",
          "shell.execute_reply": "2022-12-08T01:11:32.378808Z"
        }
      },
      "outputs": [],
      "source": [
        "# _MD_SHOW_left.outer_join(right, *on)"
      ]
    },
    {
      "cell_type": "markdown",
      "id": "da8f037c",
      "metadata": {},
      "source": [
        "not only show the pairs of rows form left and right that meet the condition\n",
        "in `*on`, but also rows that didn't get matched with any other row,\n",
        "from both `left` and `right` table. To demonstrate this operation, let\n",
        "us introduce another group of friends and find out, for each person in a group,\n",
        "whether the other group has any people with the same name."
      ]
    },
    {
      "cell_type": "code",
      "execution_count": 22,
      "id": "57b163b3",
      "metadata": {
        "execution": {
          "iopub.execute_input": "2022-12-08T01:11:32.380211Z",
          "iopub.status.busy": "2022-12-08T01:11:32.380113Z",
          "iopub.status.idle": "2022-12-08T01:11:32.383823Z",
          "shell.execute_reply": "2022-12-08T01:11:32.383529Z"
        }
      },
      "outputs": [],
      "source": [
        "other_group = pw.debug.table_from_markdown(\n",
        "    \"\"\"\n",
        "    | name  |budget\n",
        "  5 | Bob   | 12\n",
        "  6 | Carol | 14\n",
        "  7 | Eve   | 12\n",
        " \"\"\"\n",
        ")"
      ]
    },
    {
      "cell_type": "code",
      "execution_count": 23,
      "id": "865b7421",
      "metadata": {
        "execution": {
          "iopub.execute_input": "2022-12-08T01:11:32.384904Z",
          "iopub.status.busy": "2022-12-08T01:11:32.384799Z",
          "iopub.status.idle": "2022-12-08T01:11:32.429774Z",
          "shell.execute_reply": "2022-12-08T01:11:32.429370Z"
        },
        "lines_to_next_cell": 2
      },
      "outputs": [
        {
          "name": "stdout",
          "output_type": "stream",
          "text": [
            "            | l_name | l_id        | r_name | r_id\n",
            "^QRSK6DY... |        |             | Eve    | ^19D0FQ9...\n",
            "^EZ884R5... | Alice  | ^2TMTFGY... |        |\n",
            "^1Y14E07... | Bob    | ^YHZBTNY... | Bob    | ^76QPWK3...\n",
            "^7RXQ0Z1... | Carol  | ^SERVYWW... | Carol  | ^C4S6S48...\n",
            "^MZ49F0F... | Dan    | ^8GR6BSX... |        |\n"
          ]
        }
      ],
      "source": [
        "pw.debug.compute_and_print(\n",
        "    friends.outer_join(other_group, friends.name == other_group.name).select(\n",
        "        l_name=friends.name,\n",
        "        l_id=friends.id,\n",
        "        r_name=other_group.name,\n",
        "        r_id=other_group.id,\n",
        "    )\n",
        ")"
      ]
    },
    {
      "cell_type": "markdown",
      "id": "ab217289",
      "metadata": {},
      "source": [
        "## ID inheritance in join\n",
        "Full (yet still informal) syntax of join is:"
      ]
    },
    {
      "cell_type": "code",
      "execution_count": 24,
      "id": "7c63a5bb",
      "metadata": {
        "execution": {
          "iopub.execute_input": "2022-12-08T01:11:32.431085Z",
          "iopub.status.busy": "2022-12-08T01:11:32.430977Z",
          "iopub.status.idle": "2022-12-08T01:11:32.432771Z",
          "shell.execute_reply": "2022-12-08T01:11:32.432482Z"
        }
      },
      "outputs": [],
      "source": [
        "# _MD_SHOW_table.join(other, *on, id = None)"
      ]
    },
    {
      "cell_type": "markdown",
      "id": "7f9ab918",
      "metadata": {},
      "source": [
        "where\n",
        "* `table` and `other` are tables to be joined,\n",
        "* `*on` is a list of conditions of form:"
      ]
    },
    {
      "cell_type": "code",
      "execution_count": 25,
      "id": "2b15266f",
      "metadata": {
        "execution": {
          "iopub.execute_input": "2022-12-08T01:11:32.434029Z",
          "iopub.status.busy": "2022-12-08T01:11:32.433930Z",
          "iopub.status.idle": "2022-12-08T01:11:32.435588Z",
          "shell.execute_reply": "2022-12-08T01:11:32.435306Z"
        }
      },
      "outputs": [],
      "source": [
        "# _MD_SHOW_table.some_column == other.some_other_column"
      ]
    },
    {
      "cell_type": "markdown",
      "id": "32f2b90a",
      "metadata": {},
      "source": [
        "* optional `id` can be set to either table.id or other.id\n",
        "\n",
        "Whenever `id` argument is not none, join will try to use the column passed in\n",
        "id argument as new id in the result of join.\n",
        "This operation will succeed only when there is a guarantee that resulting joined table\n",
        "has no multiple rows with the same id-to-inherit.\n",
        "\n",
        "Below you can find three examples - one successful and two failed id inheritance.\n",
        "First, let us see what are the id-s of the original tables."
      ]
    },
    {
      "cell_type": "code",
      "execution_count": 26,
      "id": "adc84fd9",
      "metadata": {
        "execution": {
          "iopub.execute_input": "2022-12-08T01:11:32.436700Z",
          "iopub.status.busy": "2022-12-08T01:11:32.436604Z",
          "iopub.status.idle": "2022-12-08T01:11:32.519596Z",
          "shell.execute_reply": "2022-12-08T01:11:32.519169Z"
        }
      },
      "outputs": [
        {
          "name": "stdout",
          "output_type": "stream",
          "text": [
            "            | name  | budget\n",
            "^2TMTFGY... | Alice | 13\n",
            "^YHZBTNY... | Bob   | 10\n",
            "^SERVYWW... | Carol | 11\n",
            "^8GR6BSX... | Dan   | 12\n"
          ]
        },
        {
          "name": "stdout",
          "output_type": "stream",
          "text": [
            "            | person | allergy\n",
            "^SP3EQAR... | Alice  | milk\n",
            "^H9SEXTP... | Bob    | eggs\n",
            "^CWQ381T... | Carol  | milk\n",
            "^9PXHKBD... | Carol  | peanuts\n"
          ]
        }
      ],
      "source": [
        "pw.debug.compute_and_print(friends)\n",
        "pw.debug.compute_and_print(allergies)"
      ]
    },
    {
      "cell_type": "markdown",
      "id": "70ad489b",
      "metadata": {},
      "source": [
        "### Successful id inheritance\n",
        "Let us try a join that inherits id-s from table `allergies`."
      ]
    },
    {
      "cell_type": "code",
      "execution_count": 27,
      "id": "350be472",
      "metadata": {
        "execution": {
          "iopub.execute_input": "2022-12-08T01:11:32.520914Z",
          "iopub.status.busy": "2022-12-08T01:11:32.520802Z",
          "iopub.status.idle": "2022-12-08T01:11:32.561973Z",
          "shell.execute_reply": "2022-12-08T01:11:32.561536Z"
        }
      },
      "outputs": [
        {
          "name": "stdout",
          "output_type": "stream",
          "text": [
            "            | name  | allergy | budget\n",
            "^SP3EQAR... | Alice | milk    | 13\n",
            "^H9SEXTP... | Bob   | eggs    | 10\n",
            "^CWQ381T... | Carol | milk    | 11\n",
            "^9PXHKBD... | Carol | peanuts | 11\n"
          ]
        }
      ],
      "source": [
        "pw.debug.compute_and_print(\n",
        "    allergies.join(friends, allergies.person == friends.name, id=allergies.id).select(\n",
        "        friends.name, allergies.allergy, friends.budget\n",
        "    )\n",
        ")"
      ]
    },
    {
      "cell_type": "markdown",
      "id": "2ae00be9",
      "metadata": {},
      "source": [
        "As we can see, the id column is the same as in the `friends` table,\n",
        "which was not the case when the id parameter is not set."
      ]
    },
    {
      "cell_type": "code",
      "execution_count": 28,
      "id": "2b4ede54",
      "metadata": {
        "execution": {
          "iopub.execute_input": "2022-12-08T01:11:32.563350Z",
          "iopub.status.busy": "2022-12-08T01:11:32.563239Z",
          "iopub.status.idle": "2022-12-08T01:11:32.604663Z",
          "shell.execute_reply": "2022-12-08T01:11:32.604261Z"
        }
      },
      "outputs": [
        {
          "name": "stdout",
          "output_type": "stream",
          "text": [
            "            | name  | allergy | budget\n",
            "^SP3EQAR... | Alice | milk    | 13\n",
            "^H9SEXTP... | Bob   | eggs    | 10\n",
            "^CWQ381T... | Carol | milk    | 11\n",
            "^9PXHKBD... | Carol | peanuts | 11\n"
          ]
        }
      ],
      "source": [
        "pw.debug.compute_and_print(\n",
        "    allergies.join(friends, allergies.person == friends.name, id=allergies.id).select(\n",
        "        friends.name, allergies.allergy, friends.budget\n",
        "    )\n",
        ")"
      ]
    },
    {
      "cell_type": "markdown",
      "id": "80b5a399",
      "metadata": {},
      "source": [
        "### Failed id inheritance: duplicate id-s\n",
        "The first possible problem with inheriting id is that one row of the source table\n",
        "could be matched with several entries of the other table. The code below will\n",
        "cause such problem, and will raise a KeyError."
      ]
    },
    {
      "cell_type": "code",
      "execution_count": 29,
      "id": "6acfe3e9",
      "metadata": {
        "execution": {
          "iopub.execute_input": "2022-12-08T01:11:32.606056Z",
          "iopub.status.busy": "2022-12-08T01:11:32.605945Z",
          "iopub.status.idle": "2022-12-08T01:11:32.607822Z",
          "shell.execute_reply": "2022-12-08T01:11:32.607526Z"
        }
      },
      "outputs": [],
      "source": [
        "# _MD_SHOW_pw.debug.compute_and_print(\n",
        "# _MD_SHOW_    allergies.join(friends, allergies.person == friends.name, id=friends.id).select(\n",
        "# _MD_SHOW_        friends.name, allergies.allergy\n",
        "# _MD_SHOW_    )\n",
        "# _MD_SHOW_)\n",
        "# _MD_SHOW_[stacktrace...]\n",
        "# _MD_SHOW_KeyError: 'duplicate key: ^SERVYWW6KDGEQ2WVZ3ZZB86VSR'"
      ]
    },
    {
      "cell_type": "markdown",
      "id": "aefe1d71",
      "metadata": {
        "lines_to_next_cell": 2
      },
      "source": [
        "### Failed id inheritance: empty id-s\n",
        "Finally, if we consider outer joins between those two tables, we\n",
        "may encounter a situation in which we need to assign id that is empty in the join result:"
      ]
    },
    {
      "cell_type": "code",
      "execution_count": 30,
      "id": "7ac50b60",
      "metadata": {
        "execution": {
          "iopub.execute_input": "2022-12-08T01:11:32.609080Z",
          "iopub.status.busy": "2022-12-08T01:11:32.608976Z",
          "iopub.status.idle": "2022-12-08T01:11:32.658442Z",
          "shell.execute_reply": "2022-12-08T01:11:32.658000Z"
        }
      },
      "outputs": [
        {
          "name": "stdout",
          "output_type": "stream",
          "text": [
            "            | name  | allergy | allergies_id\n",
            "^AHH9C80... | Alice | milk    | ^SP3EQAR...\n",
            "^2BR8WRG... | Bob   | eggs    | ^H9SEXTP...\n",
            "^Y5CAVAS... | Carol | milk    | ^CWQ381T...\n",
            "^WQENVG9... | Carol | peanuts | ^9PXHKBD...\n",
            "^KARHAYN... | Dan   |         |\n"
          ]
        }
      ],
      "source": [
        "pw.debug.compute_and_print(\n",
        "    allergies.right_join(friends, allergies.person == friends.name).select(\n",
        "        friends.name, allergies.allergy, allergies_id=allergies.id\n",
        "    )\n",
        ")"
      ]
    },
    {
      "cell_type": "markdown",
      "id": "1516a85e",
      "metadata": {},
      "source": [
        "As we can see, the `allergies_id` field is not set for Dan's entry. If we try to use\n",
        "allergies.id as the `id` parameter, we will encounter TypeError."
      ]
    },
    {
      "cell_type": "code",
      "execution_count": 31,
      "id": "c1cd742f",
      "metadata": {
        "execution": {
          "iopub.execute_input": "2022-12-08T01:11:32.659808Z",
          "iopub.status.busy": "2022-12-08T01:11:32.659699Z",
          "iopub.status.idle": "2022-12-08T01:11:32.661521Z",
          "shell.execute_reply": "2022-12-08T01:11:32.661215Z"
        }
      },
      "outputs": [],
      "source": [
        "# _MD_SHOW_pw.debug.compute_and_print(\n",
        "# _MD_SHOW_    allergies.right_join(\n",
        "# _MD_SHOW_        friends, allergies.person == friends.name, id=allergies.id\n",
        "# _MD_SHOW_    ).select(friends.name, allergies.allergy, allergies_id=allergies.id)\n",
        "# _MD_SHOW_)\n",
        "# _MD_SHOW_[stacktrace...]\n",
        "# _MD_SHOW_TypeError: type mismatch: expected a pointer, got None"
      ]
    },
    {
      "cell_type": "markdown",
      "id": "c7c594d8",
      "metadata": {},
      "source": [
        "## Joins on a foreign key\n",
        "In Pathway id column is auto-generated, and as such joining over foreign key kept in\n",
        "some other table requires extra care. Let's assume that we have another table `likes`\n",
        "that indicates that a friend (`row in friends`) likes some particular dish (row in `menu`)."
      ]
    },
    {
      "cell_type": "code",
      "execution_count": 32,
      "id": "04fe58d6",
      "metadata": {
        "execution": {
          "iopub.execute_input": "2022-12-08T01:11:32.662786Z",
          "iopub.status.busy": "2022-12-08T01:11:32.662686Z",
          "iopub.status.idle": "2022-12-08T01:11:32.666401Z",
          "shell.execute_reply": "2022-12-08T01:11:32.666109Z"
        }
      },
      "outputs": [],
      "source": [
        "likes = pw.debug.table_from_markdown(\n",
        "    \"\"\"\n",
        "    | f_id  | m_id\n",
        "100 | 1     | 11\n",
        "101 | 1     | 13\n",
        "102 | 2     | 12\n",
        "103 | 2     | 13\n",
        "104 | 3     | 11\n",
        "105 | 3     | 14\n",
        "106 | 3     | 13\n",
        "107 | 4     | 12\n",
        "108 | 4     | 14\n",
        "\"\"\"\n",
        ")"
      ]
    },
    {
      "cell_type": "markdown",
      "id": "d0aaf1b3",
      "metadata": {},
      "source": [
        "Without further specification, Pathway treats columns f_id and m_id as numbers:"
      ]
    },
    {
      "cell_type": "code",
      "execution_count": 33,
      "id": "8c4e85f0",
      "metadata": {
        "execution": {
          "iopub.execute_input": "2022-12-08T01:11:32.667655Z",
          "iopub.status.busy": "2022-12-08T01:11:32.667553Z",
          "iopub.status.idle": "2022-12-08T01:11:32.749969Z",
          "shell.execute_reply": "2022-12-08T01:11:32.749499Z"
        }
      },
      "outputs": [
        {
          "name": "stdout",
          "output_type": "stream",
          "text": [
            "            | f_id | m_id\n",
            "^M1T2QKJ... | 1    | 11\n",
            "^4RH155M... | 1    | 13\n",
            "^YQ30FHF... | 2    | 12\n",
            "^AMFB2M6... | 2    | 13\n",
            "^7J00RXZ... | 3    | 11\n",
            "^NZSWGHA... | 3    | 13\n",
            "^FCVQG87... | 3    | 14\n",
            "^V771XE5... | 4    | 12\n",
            "^0HAWE8Q... | 4    | 14\n"
          ]
        }
      ],
      "source": [
        "pw.debug.compute_and_print(likes)"
      ]
    },
    {
      "cell_type": "markdown",
      "id": "cd1069ec",
      "metadata": {},
      "source": [
        "while the id of tables `friends` and `menu` was converted to Pointer.\n"
      ]
    },
    {
      "cell_type": "code",
      "execution_count": 34,
      "id": "f3fd236c",
      "metadata": {
        "execution": {
          "iopub.execute_input": "2022-12-08T01:11:32.751362Z",
          "iopub.status.busy": "2022-12-08T01:11:32.751254Z",
          "iopub.status.idle": "2022-12-08T01:11:32.840904Z",
          "shell.execute_reply": "2022-12-08T01:11:32.840459Z"
        }
      },
      "outputs": [
        {
          "name": "stdout",
          "output_type": "stream",
          "text": [
            "            | name  | budget\n",
            "^2TMTFGY... | Alice | 13\n",
            "^YHZBTNY... | Bob   | 10\n",
            "^SERVYWW... | Carol | 11\n",
            "^8GR6BSX... | Dan   | 12\n"
          ]
        },
        {
          "name": "stdout",
          "output_type": "stream",
          "text": [
            "            | dish              | price\n",
            "^VYA37VV... | jam_pb_pancakes   | 12\n",
            "^HMETZT8... | pancakes_with_jam | 11\n",
            "^4B2REY1... | pb_jam_sandwich   | 9\n",
            "^SE0WWPZ... | scrambled_egg     | 11\n"
          ]
        }
      ],
      "source": [
        "pw.debug.compute_and_print(friends)\n",
        "pw.debug.compute_and_print(menu)"
      ]
    },
    {
      "cell_type": "markdown",
      "id": "c48ac88f",
      "metadata": {},
      "source": [
        "\n",
        "To handle joins using those columns, we can use pointer_from function"
      ]
    },
    {
      "cell_type": "code",
      "execution_count": 35,
      "id": "1dcf1daf",
      "metadata": {
        "execution": {
          "iopub.execute_input": "2022-12-08T01:11:32.842240Z",
          "iopub.status.busy": "2022-12-08T01:11:32.842122Z",
          "iopub.status.idle": "2022-12-08T01:11:32.889118Z",
          "shell.execute_reply": "2022-12-08T01:11:32.888684Z"
        }
      },
      "outputs": [
        {
          "name": "stdout",
          "output_type": "stream",
          "text": [
            "            | f_id | m_id | f_id_ptr    | m_id_ptr\n",
            "^M1T2QKJ... | 1    | 11   | ^2TMTFGY... | ^HMETZT8...\n",
            "^4RH155M... | 1    | 13   | ^2TMTFGY... | ^VYA37VV...\n",
            "^YQ30FHF... | 2    | 12   | ^YHZBTNY... | ^4B2REY1...\n",
            "^AMFB2M6... | 2    | 13   | ^YHZBTNY... | ^VYA37VV...\n",
            "^7J00RXZ... | 3    | 11   | ^SERVYWW... | ^HMETZT8...\n",
            "^NZSWGHA... | 3    | 13   | ^SERVYWW... | ^VYA37VV...\n",
            "^FCVQG87... | 3    | 14   | ^SERVYWW... | ^SE0WWPZ...\n",
            "^V771XE5... | 4    | 12   | ^8GR6BSX... | ^4B2REY1...\n",
            "^0HAWE8Q... | 4    | 14   | ^8GR6BSX... | ^SE0WWPZ...\n"
          ]
        }
      ],
      "source": [
        "likes += likes.select(\n",
        "    f_id_ptr=friends.pointer_from(likes.f_id),\n",
        "    m_id_ptr=menu.pointer_from(likes.m_id),\n",
        ")\n",
        "pw.debug.compute_and_print(likes)"
      ]
    },
    {
      "cell_type": "markdown",
      "id": "24edbb87",
      "metadata": {},
      "source": [
        "An [example of code](#long-chain-example) joining `friends` with `menu` using `likes`\n",
        "is presented the next section on chaining joins."
      ]
    },
    {
      "cell_type": "markdown",
      "id": "b5630dfc",
      "metadata": {},
      "source": [
        "## Chaining joins:\n",
        "Pathway provides two ways of chaining joins. The first relies on usage of pw.this,\n",
        "the second allows for slightly more compact code. Below, we focus on chaining joins\n",
        "using `pw.this`.\n",
        "\n",
        " ### Simple join chaining\n",
        "Below, we show how to chain joins using pw.this. To show how it can be used, we revisit\n",
        "the first example of left_join, in which we computed a left_join on a table\n",
        "that was obtained by another left_join. Instead of storing the result of the first\n",
        "left_join in people_allergies, we can use the following:"
      ]
    },
    {
      "cell_type": "code",
      "execution_count": 36,
      "id": "9886b763",
      "metadata": {
        "execution": {
          "iopub.execute_input": "2022-12-08T01:11:32.890580Z",
          "iopub.status.busy": "2022-12-08T01:11:32.890461Z",
          "iopub.status.idle": "2022-12-08T01:11:32.952966Z",
          "shell.execute_reply": "2022-12-08T01:11:32.952539Z"
        }
      },
      "outputs": [
        {
          "name": "stdout",
          "output_type": "stream",
          "text": [
            "            | name  | dish\n",
            "^Y4H9YJC... | Alice | jam_pb_pancakes\n",
            "^MHQRNFF... | Alice | pancakes_with_jam\n",
            "^4DQ4S80... | Bob   | jam_pb_pancakes\n",
            "^XPGS5EQ... | Bob   | pancakes_with_jam\n",
            "^63EGDX6... | Bob   | scrambled_egg\n",
            "^YZ60CRJ... | Carol | jam_pb_pancakes\n",
            "^K3K3E16... | Carol | jam_pb_pancakes\n",
            "^M6FZ6K4... | Carol | pancakes_with_jam\n",
            "^RN5X9SH... | Carol | pb_jam_sandwich\n",
            "^2YAV0VF... | Dan   |\n"
          ]
        }
      ],
      "source": [
        "pw.debug.compute_and_print(\n",
        "    friends.left_join(allergies, friends.name == allergies.person)\n",
        "    .select(friends.name, allergies.allergy, friends.budget)\n",
        "    .left_join(allergens_in_menu, pw.this.allergy == allergens_in_menu.allergen)\n",
        "    .select(pw.this.name, allergens_in_menu.dish)\n",
        ")"
      ]
    },
    {
      "cell_type": "markdown",
      "id": "24579e34",
      "metadata": {
        "lines_to_next_cell": 2
      },
      "source": [
        "Essentially, in the context of joins pw.this allows us to address the table\n",
        "computed by\n",
        "\n",
        "      friends.left_join(allergies, friends.name == allergies.person\n",
        "          ).select(friends.name, allergies.allergy)\n",
        "\n",
        "without breaking the chain and storing intermediate result in a temporary\n",
        "variable.\n",
        "\n",
        "More precisely, given a chain:\n",
        "\n",
        "_MD_SHOW_table.join(...).select(...).join(...).select(...)...\n",
        "\n",
        "pw.this can be used to address the result of the latest select.\n",
        "\n",
        "### Long chain example\n",
        "To demonstrate longer chains in action, we go back to the table `likes` we used to\n",
        "show how to handle (generate) foreign keys."
      ]
    },
    {
      "cell_type": "code",
      "execution_count": 37,
      "id": "0e821290",
      "metadata": {
        "execution": {
          "iopub.execute_input": "2022-12-08T01:11:32.954373Z",
          "iopub.status.busy": "2022-12-08T01:11:32.954261Z",
          "iopub.status.idle": "2022-12-08T01:11:33.023462Z",
          "shell.execute_reply": "2022-12-08T01:11:33.023040Z"
        }
      },
      "outputs": [
        {
          "name": "stdout",
          "output_type": "stream",
          "text": [
            "            | name  | budget | dish              | price | allergy | allergen\n",
            "^C7E41EW... | Alice | 13     | jam_pb_pancakes   | 12    | milk    | eggs\n",
            "^3C8BYCT... | Alice | 13     | jam_pb_pancakes   | 12    | milk    | peanuts\n",
            "^V49K9AY... | Alice | 13     | pancakes_with_jam | 11    | milk    | eggs\n",
            "^5HD9M6D... | Bob   | 10     | pb_jam_sandwich   | 9     | eggs    | peanuts\n",
            "^3F4G2QJ... | Carol | 11     | pancakes_with_jam | 11    | milk    | eggs\n",
            "^Q416RZ3... | Carol | 11     | pancakes_with_jam | 11    | peanuts | eggs\n",
            "^05R585H... | Carol | 11     | pancakes_with_jam | 11    | peanuts | milk\n",
            "^ZP22G15... | Carol | 11     | scrambled_egg     | 11    | milk    | eggs\n",
            "^Z3CSET2... | Carol | 11     | scrambled_egg     | 11    | peanuts | eggs\n",
            "^H08RKW9... | Dan   | 12     | pb_jam_sandwich   | 9     |         | peanuts\n",
            "^41ZJ9RM... | Dan   | 12     | scrambled_egg     | 11    |         | eggs\n"
          ]
        }
      ],
      "source": [
        "feasible_choice = (\n",
        "    friends.join(likes, friends.id == likes.f_id_ptr)\n",
        "    .select(friends.name, friends.budget, likes.m_id_ptr)\n",
        "    .join(menu, pw.this.m_id_ptr == menu.id)\n",
        "    .select(pw.this.name, pw.this.budget, menu.dish, menu.price)\n",
        "    .left_join(allergies, pw.this.name == allergies.person)\n",
        "    .select(\n",
        "        pw.this.name, pw.this.budget, pw.this.dish, pw.this.price, allergies.allergy\n",
        "    )\n",
        "    .join(allergens_in_menu, pw.this.dish == allergens_in_menu.dish)\n",
        "    .select(\n",
        "        pw.this.name,\n",
        "        pw.this.budget,\n",
        "        pw.this.dish,\n",
        "        pw.this.price,\n",
        "        pw.this.allergy,\n",
        "        allergens_in_menu.allergen,\n",
        "    )\n",
        "    .filter((pw.this.price <= pw.this.budget) & (pw.this.allergy != pw.this.allergen))\n",
        ")\n",
        "pw.debug.compute_and_print(feasible_choice)"
      ]
    },
    {
      "cell_type": "markdown",
      "id": "e42a1f68",
      "metadata": {},
      "source": [
        "As we can see, this table contains all choices of person and dish, such that person likes\n",
        "particular dish, is not allergic to it, and can afford it. We can further simplify\n",
        "the result by adding another groupby-reduce at the end of the chain."
      ]
    },
    {
      "cell_type": "code",
      "execution_count": 38,
      "id": "540c5acb",
      "metadata": {
        "execution": {
          "iopub.execute_input": "2022-12-08T01:11:33.024763Z",
          "iopub.status.busy": "2022-12-08T01:11:33.024653Z",
          "iopub.status.idle": "2022-12-08T01:11:33.090435Z",
          "shell.execute_reply": "2022-12-08T01:11:33.089991Z"
        }
      },
      "outputs": [
        {
          "name": "stdout",
          "output_type": "stream",
          "text": [
            "            | name  | dish              | budget | price\n",
            "^XJV0C2H... | Alice | jam_pb_pancakes   | 13     | 12\n",
            "^B9PDF7J... | Alice | pancakes_with_jam | 13     | 11\n",
            "^86P08KH... | Bob   | pb_jam_sandwich   | 10     | 9\n",
            "^FS0VA1H... | Carol | pancakes_with_jam | 11     | 11\n",
            "^SFK6S54... | Carol | scrambled_egg     | 11     | 11\n",
            "^AN8SK6X... | Dan   | pb_jam_sandwich   | 12     | 9\n",
            "^G13RSRH... | Dan   | scrambled_egg     | 12     | 11\n"
          ]
        }
      ],
      "source": [
        "pw.debug.compute_and_print(\n",
        "    feasible_choice.groupby(\n",
        "        pw.this.name, pw.this.dish, pw.this.budget, pw.this.price\n",
        "    ).reduce(pw.this.name, pw.this.dish, pw.this.budget, pw.this.price)\n",
        ")"
      ]
    }
  ],
  "metadata": {
    "jupytext": {
      "cell_metadata_filter": "-all"
    },
    "kernelspec": {
      "display_name": "Python 3 (ipykernel)",
      "language": "python",
      "name": "python3"
    },
    "language_info": {
      "codemirror_mode": {
        "name": "ipython",
        "version": 3
      },
      "file_extension": ".py",
      "mimetype": "text/x-python",
      "name": "python",
      "nbconvert_exporter": "python",
      "pygments_lexer": "ipython3",
      "version": "3.10.6"
    }
  },
  "nbformat": 4,
  "nbformat_minor": 5
}