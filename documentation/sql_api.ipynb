{
  "cells": [
    {
      "cell_type": "markdown",
      "metadata": {
        "id": "view-in-colab"
      },
      "source": [
        "<a href=\"https://colab.research.google.com/github/pathwaycom/pathway-examples/blob/main/documentation/sql_api.ipynb\" target=\"_parent\"><img src=\"https://pathway.com/assets/colab-badge.svg\" alt=\"Run In Colab\" class=\"inline\"/></a>"
      ]
    },
    {
      "cell_type": "markdown",
      "source": [
        "# [Colab-specific instructions] Installing Pathway with Python 3.8+\n",
        "\n",
        "> In the cell below we install pathway into a Python 3.8+ Linux runtime.\n",
        "> Please:\n",
        "> 1. **Insert in the form below the pip install link** given to you with your beta access.\n",
        "> 2. **Run the colab notebook (Ctrl+F9)**, disregarding the 'not authored by Google' warning. **The installation and loading time is less than 1 minute**.\n"
      ],
      "metadata": {
        "id": "notebook-instructions"
      }
    },
    {
      "cell_type": "code",
      "source": [
        "#@title \u2699\ufe0f Pathway installer. Please provide the pip install link for Pathway:\n",
        "# Please copy here the installation line:\n",
        "PATHWAY_INSTALL_LINE='pip install https://packages.pathway.com/...' #@param {type:\"string\"}\n",
        "\n",
        "if PATHWAY_INSTALL_LINE.startswith('pip install '):\n",
        "    PATHWAY_INSTALL_LINE=PATHWAY_INSTALL_LINE[len('pip install '):]\n",
        "\n",
        "class InterruptExecution(Exception):\n",
        "    def _render_traceback_(self):\n",
        "        pass\n",
        "\n",
        "if '...' in PATHWAY_INSTALL_LINE or not PATHWAY_INSTALL_LINE.startswith('https://'):\n",
        "    print(\n",
        "        \"\u26d4 Please register at https://pathway.com/developers/documentation/introduction/installation-and-first-steps\\n\"\n",
        "        \"to Copy & Paste the Linux pip install line for Pathway!\"\n",
        "    )\n",
        "    raise InterruptExecution\n",
        "\n",
        "if 'macosx_11_0_arm64' in PATHWAY_INSTALL_LINE:\n",
        "    PATHWAY_INSTALL_LINE = PATHWAY_INSTALL_LINE.replace('macosx_11_0_arm64','manylinux_2_12_x86_64.manylinux2010_x86_64')\n",
        "DO_INSTALL = False\n",
        "import sys\n",
        "if sys.version_info >= (3, 8):\n",
        "    print(f'\u2705 Python {sys.version} is active.')\n",
        "    try:\n",
        "        import pathway as pw\n",
        "        print('\u2705 Pathway successfully imported.')\n",
        "    except:\n",
        "        DO_INSTALL = True\n",
        "else:\n",
        "    print(\"\u26d4 Pathway requires Python 3.8 or higher.\")\n",
        "    raise InterruptExecution\n",
        "\n",
        "if DO_INSTALL:\n",
        "    !ls $(dirname $(which python))/../lib/python*/*-packages/pathway 1>/dev/null 2>/dev/null || echo \"\u231b Installing Pathway. This usually takes a few seconds...\"\n",
        "    !ls $(dirname $(which python))/../lib/python*/*-packages/pathway 1>/dev/null 2>/dev/null || pip install {PATHWAY_INSTALL_LINE} 1>/dev/null 2>/dev/null\n",
        "    !ls $(dirname $(which python))/../lib/python*/*-packages/pathway 1>/dev/null 2>/dev/null || echo \"\u26d4 Installation failed. Don't be shy to reach out to the community at https://pathway.com !\"\n",
        "    !ls $(dirname $(which python))/../lib/python*/*-packages/pathway 1>/dev/null 2>/dev/null && echo \"\u2705 All installed. Enjoy Pathway!\"\n"
      ],
      "metadata": {
        "id": "pip-installation-pathway",
        "cellView": "form"
      },
      "execution_count": null,
      "outputs": []
    },
    {
      "cell_type": "markdown",
      "id": "e3ff5a3c",
      "metadata": {},
      "source": [
        "# Using SQL with Pathway\n",
        "Perform SQL commands using Pathway's `pw.sql` function.\n",
        "\n",
        "---\n",
        "\n",
        ":warning: As of January 9, 2023, the `pw.sql` feature is experimental; please bear with us for updates.\n",
        "\n",
        "---\n",
        "\n",
        "Pathway provides a very simple way to use SQL commands directly in your Pathway application: the use of `pw.sql`.\n",
        "Pathway is significantly different from a usual SQL database, and not all SQL operations are available in Pathway.\n",
        "In the following, we present which SQL operations are compatible with Pathway and how to use `pw.sql`.\n",
        "\n",
        "**This article is a summary of dos and don'ts on how to use Pathway to execute SQL queries, this is not an introduction to SQL.**\n",
        "\n",
        "## Usage\n",
        "We can very easily execute a SQL command by doing the following:\n",
        "\n",
        "```python\n",
        "pw.sql(query, tab=t)\n",
        "```\n",
        "\n",
        "This will execute the SQL command `query` where the Pathway table `t` (Python local variable) can be referred to as  `tab` (SQL table name) inside `query`.\n",
        "More generally, we can pass an arbitrary number of tables associations `name, table` using `**kwargs`: `pw.sql(query, tab1=t1, tab2=t2,.., tabn=tn)`.\n",
        "\n",
        "## Column names\n",
        "In Pathway, column names are case sensitive and `pw.sql` preserves the case so **column names are case sensitive when using `pw.sql`**.\n",
        "To improve the compatibility with Pathway, we encourage the use of the standard Python naming convention for column and table names: no special character other than \"\\_\", alphanumeric characters, and not starting with a number.\n",
        "While using a space may work in SQL (e.g. a column \"a column\") it may be impractical when using the dot notation in Pathway: `t.a column` will raise an error.\n",
        "\n",
        "\n",
        "## Example:"
      ]
    },
    {
      "cell_type": "code",
      "execution_count": 1,
      "id": "6b642599",
      "metadata": {
        "execution": {
          "iopub.execute_input": "2023-01-10T07:29:12.680333Z",
          "iopub.status.busy": "2023-01-10T07:29:12.679987Z",
          "iopub.status.idle": "2023-01-10T07:29:14.161976Z",
          "shell.execute_reply": "2023-01-10T07:29:14.161389Z"
        }
      },
      "outputs": [
        {
          "name": "stdout",
          "output_type": "stream",
          "text": [
            "            | a | b\n",
            "^2TMTFGY... | 1 | 2\n",
            "^SERVYWW... | 4 | 7\n"
          ]
        }
      ],
      "source": [
        "import pathway as pw\n",
        "\n",
        "t = pw.debug.table_from_markdown(\n",
        "    \"\"\"\n",
        "    | a | b\n",
        " 1  | 1 | 2\n",
        " 2  | 4 | 3\n",
        " 3  | 4 | 7\n",
        " \"\"\"\n",
        ")\n",
        "\n",
        "ret = pw.sql(\"SELECT * FROM tab WHERE a<b\", tab=t)\n",
        "pw.debug.compute_and_print(ret)"
      ]
    },
    {
      "cell_type": "markdown",
      "id": "9f28d952",
      "metadata": {},
      "source": [
        "## List of Available SQL Operations\n",
        "\n",
        "### `SELECT`\n",
        "Using select, you can access the different columns of a table:"
      ]
    },
    {
      "cell_type": "code",
      "execution_count": 2,
      "id": "19b138d4",
      "metadata": {
        "execution": {
          "iopub.execute_input": "2023-01-10T07:29:14.164391Z",
          "iopub.status.busy": "2023-01-10T07:29:14.164155Z",
          "iopub.status.idle": "2023-01-10T07:29:14.169792Z",
          "shell.execute_reply": "2023-01-10T07:29:14.169321Z"
        }
      },
      "outputs": [
        {
          "name": "stdout",
          "output_type": "stream",
          "text": [
            "            | a\n",
            "^2TMTFGY... | 1\n",
            "^YHZBTNY... | 4\n",
            "^SERVYWW... | 4\n"
          ]
        }
      ],
      "source": [
        "result_select = pw.sql(\"SELECT a FROM tab\", tab=t)\n",
        "pw.debug.compute_and_print(result_select)"
      ]
    },
    {
      "cell_type": "markdown",
      "id": "b4bc9cc1",
      "metadata": {},
      "source": [
        "\u26a0\ufe0f Pathway does not preserve the order of columns!"
      ]
    },
    {
      "cell_type": "markdown",
      "id": "2357315b",
      "metadata": {},
      "source": [
        "#### Star notation\n",
        "Pathway supports the star notation `*` to select all the columns:"
      ]
    },
    {
      "cell_type": "code",
      "execution_count": 3,
      "id": "521994c3",
      "metadata": {
        "execution": {
          "iopub.execute_input": "2023-01-10T07:29:14.172122Z",
          "iopub.status.busy": "2023-01-10T07:29:14.171818Z",
          "iopub.status.idle": "2023-01-10T07:29:14.177312Z",
          "shell.execute_reply": "2023-01-10T07:29:14.176869Z"
        }
      },
      "outputs": [
        {
          "name": "stdout",
          "output_type": "stream",
          "text": [
            "            | a | b\n",
            "^2TMTFGY... | 1 | 2\n",
            "^YHZBTNY... | 4 | 3\n",
            "^SERVYWW... | 4 | 7\n"
          ]
        }
      ],
      "source": [
        "result_star = pw.sql(\"SELECT * FROM tab\", tab=t)\n",
        "pw.debug.compute_and_print(result_star)"
      ]
    },
    {
      "cell_type": "markdown",
      "id": "0469dc95",
      "metadata": {},
      "source": [
        "\u26a0\ufe0f Every Pathway table has a special column `id`: this column is NOT captured by `*` expressions in SQL."
      ]
    },
    {
      "cell_type": "markdown",
      "id": "04803a5a",
      "metadata": {},
      "source": [
        "### `WHERE`\n",
        "In a `SELECT` query, the `WHERE` clause can be used to select rows satisfying a given condition:"
      ]
    },
    {
      "cell_type": "code",
      "execution_count": 4,
      "id": "2ee659ea",
      "metadata": {
        "execution": {
          "iopub.execute_input": "2023-01-10T07:29:14.179370Z",
          "iopub.status.busy": "2023-01-10T07:29:14.179202Z",
          "iopub.status.idle": "2023-01-10T07:29:14.187320Z",
          "shell.execute_reply": "2023-01-10T07:29:14.186882Z"
        }
      },
      "outputs": [
        {
          "name": "stdout",
          "output_type": "stream",
          "text": [
            "            | a | b\n",
            "^YHZBTNY... | 4 | 3\n",
            "^SERVYWW... | 4 | 7\n"
          ]
        }
      ],
      "source": [
        "result_where = pw.sql(\"SELECT a,b FROM tab WHERE b>2\", tab=t)\n",
        "pw.debug.compute_and_print(result_where)"
      ]
    },
    {
      "cell_type": "markdown",
      "id": "5f6f0741",
      "metadata": {},
      "source": [
        "### Boolean and Arithmetic Expressions\n",
        "With the `SELECT ...` and `WHERE ...` clauses, we can use the following operators:\n",
        "- boolean operators: `AND`, `OR`, `NOT`\n",
        "- arithmetic operators: `+`, `-`, `*`,  `/`, `DIV`, `MOD`, `==`, `!=`, `<`, `>`, `<=`, `>=`, `<>`\n",
        "- NULL"
      ]
    },
    {
      "cell_type": "code",
      "execution_count": 5,
      "id": "096e1642",
      "metadata": {
        "execution": {
          "iopub.execute_input": "2023-01-10T07:29:14.189452Z",
          "iopub.status.busy": "2023-01-10T07:29:14.189249Z",
          "iopub.status.idle": "2023-01-10T07:29:14.273636Z",
          "shell.execute_reply": "2023-01-10T07:29:14.272726Z"
        }
      },
      "outputs": [
        {
          "name": "stdout",
          "output_type": "stream",
          "text": [
            "            | a | b\n",
            "^SERVYWW... | 4 | 7\n"
          ]
        }
      ],
      "source": [
        "result_bool = pw.sql(\"SELECT a,b FROM tab WHERE b-a>0 AND a>3\", tab=t)\n",
        "pw.debug.compute_and_print(result_bool)"
      ]
    },
    {
      "cell_type": "markdown",
      "id": "248186d8",
      "metadata": {},
      "source": [
        "Both `!=` and `<>` can be used to check non-equality."
      ]
    },
    {
      "cell_type": "code",
      "execution_count": 6,
      "id": "58bd4a7b",
      "metadata": {
        "execution": {
          "iopub.execute_input": "2023-01-10T07:29:14.278008Z",
          "iopub.status.busy": "2023-01-10T07:29:14.277646Z",
          "iopub.status.idle": "2023-01-10T07:29:14.286815Z",
          "shell.execute_reply": "2023-01-10T07:29:14.286424Z"
        }
      },
      "outputs": [
        {
          "name": "stdout",
          "output_type": "stream",
          "text": [
            "            | a | b\n",
            "^2TMTFGY... | 1 | 2\n",
            "^SERVYWW... | 4 | 7\n"
          ]
        }
      ],
      "source": [
        "result_neq = pw.sql(\"SELECT a,b FROM tab WHERE a != 4 OR b <> 3\", tab=t)\n",
        "pw.debug.compute_and_print(result_neq)"
      ]
    },
    {
      "cell_type": "markdown",
      "id": "335c2265",
      "metadata": {},
      "source": [
        "`NULL` can be used to filter out rows with missing values:"
      ]
    },
    {
      "cell_type": "code",
      "execution_count": 7,
      "id": "217bad5d",
      "metadata": {
        "execution": {
          "iopub.execute_input": "2023-01-10T07:29:14.288556Z",
          "iopub.status.busy": "2023-01-10T07:29:14.288375Z",
          "iopub.status.idle": "2023-01-10T07:29:14.297137Z",
          "shell.execute_reply": "2023-01-10T07:29:14.296786Z"
        }
      },
      "outputs": [
        {
          "name": "stdout",
          "output_type": "stream",
          "text": [
            "            | a | b\n",
            "^2TMTFGY... | 1 | 2\n",
            "^SERVYWW... | 4 | 7\n"
          ]
        }
      ],
      "source": [
        "t_null = pw.debug.table_from_markdown(\n",
        "    \"\"\"\n",
        "    | a | b\n",
        " 1  | 1 | 2\n",
        " 2  | 4 |\n",
        " 3  | 4 | 7\n",
        " \"\"\"\n",
        ")\n",
        "\n",
        "result_null = pw.sql(\"SELECT a, b FROM tab WHERE b IS NOT NULL \", tab=t_null)\n",
        "pw.debug.compute_and_print(result_null)"
      ]
    },
    {
      "cell_type": "markdown",
      "id": "2c124f19",
      "metadata": {},
      "source": [
        "#### Subqueries in a `WHERE` clause\n",
        "\u26a0\ufe0f Subquery support is limited (fragile). If Pathway is unable to parse a given query, it should be rephrased to simplify or avoid subqueries.\n",
        "\n",
        "We can use subqueries in the `WHERE` clause to filter a table based on the subquery results:"
      ]
    },
    {
      "cell_type": "code",
      "execution_count": 8,
      "id": "e1342cb2",
      "metadata": {
        "execution": {
          "iopub.execute_input": "2023-01-10T07:29:14.298730Z",
          "iopub.status.busy": "2023-01-10T07:29:14.298550Z",
          "iopub.status.idle": "2023-01-10T07:29:14.313943Z",
          "shell.execute_reply": "2023-01-10T07:29:14.313431Z"
        }
      },
      "outputs": [
        {
          "name": "stdout",
          "output_type": "stream",
          "text": [
            "            | q | Q\n",
            "^89XK2SN... | 2 | 11\n",
            "^VP9768X... | 3 | 12\n"
          ]
        }
      ],
      "source": [
        "t_Q = pw.debug.table_from_markdown(\n",
        "    \"\"\"\n",
        "    | q | Q\n",
        " 1  | 1 | 10\n",
        " 2  | 2 | 11\n",
        " 3  | 3 | 12\n",
        " \"\"\"\n",
        ")\n",
        "t_A = pw.debug.table_from_markdown(\n",
        "    \"\"\"\n",
        "    | q | A\n",
        " 1  | 2 | 100\n",
        " 2  | 3 |\n",
        " \"\"\"\n",
        ")\n",
        "\n",
        "result_sub = pw.sql(\n",
        "    \"SELECT * FROM questions WHERE q = (SELECT q FROM answers)\",\n",
        "    questions=t_Q,\n",
        "    answers=t_A,\n",
        ")\n",
        "pw.debug.compute_and_print(result_sub)"
      ]
    },
    {
      "cell_type": "markdown",
      "id": "9b8f7bbe",
      "metadata": {},
      "source": [
        "### `GROUP BY`\n",
        "You can use `GROUP BY` to group rows with the same value for a given column, and to use an aggregate function over the grouped rows."
      ]
    },
    {
      "cell_type": "code",
      "execution_count": 9,
      "id": "99c3f389",
      "metadata": {
        "execution": {
          "iopub.execute_input": "2023-01-10T07:29:14.316518Z",
          "iopub.status.busy": "2023-01-10T07:29:14.316162Z",
          "iopub.status.idle": "2023-01-10T07:29:14.325633Z",
          "shell.execute_reply": "2023-01-10T07:29:14.325103Z"
        }
      },
      "outputs": [
        {
          "name": "stdout",
          "output_type": "stream",
          "text": [
            "            | a | _col_1\n",
            "^2TMTFGY... | 1 | 2\n",
            "^8GR6BSX... | 4 | 10\n"
          ]
        }
      ],
      "source": [
        "result_groupby = pw.sql(\"SELECT a, SUM(b) FROM tab GROUP BY a\", tab=t)\n",
        "pw.debug.compute_and_print(result_groupby)"
      ]
    },
    {
      "cell_type": "markdown",
      "id": "9365ba61",
      "metadata": {},
      "source": [
        "\u26a0\ufe0f `GROUP BY` and `JOIN` should not be used together in a single `SELECT`."
      ]
    },
    {
      "cell_type": "markdown",
      "id": "2d0d7aae",
      "metadata": {},
      "source": [
        "#### Agregation functions\n",
        "With `GROUP BY`, you can use the following aggregation functions:\n",
        "- `AVG`\n",
        "- `COUNT`\n",
        "- `MAX`\n",
        "- `MIN`\n",
        "- `SUM`\n",
        "\n",
        "\u26a0\ufe0f Pathway reducers (`pw.count`, `pw.sum`, etc.) aggregate over `None` values, while tranditional SQL aggregate functions skip `NULL` values: be careful to remove all the undefined values before using an aggregate function."
      ]
    },
    {
      "cell_type": "markdown",
      "id": "42bfe6d8",
      "metadata": {},
      "source": [
        "### `HAVING`"
      ]
    },
    {
      "cell_type": "code",
      "execution_count": 10,
      "id": "1f84056a",
      "metadata": {
        "execution": {
          "iopub.execute_input": "2023-01-10T07:29:14.328394Z",
          "iopub.status.busy": "2023-01-10T07:29:14.328000Z",
          "iopub.status.idle": "2023-01-10T07:29:14.338656Z",
          "shell.execute_reply": "2023-01-10T07:29:14.338118Z"
        }
      },
      "outputs": [
        {
          "name": "stdout",
          "output_type": "stream",
          "text": [
            "            | a | _col_1\n",
            "^8GR6BSX... | 4 | 10\n"
          ]
        }
      ],
      "source": [
        "result_having = pw.sql(\"SELECT a, SUM(b) FROM tab GROUP BY a HAVING SUM(b)>5\", tab=t)\n",
        "pw.debug.compute_and_print(result_having)"
      ]
    },
    {
      "cell_type": "markdown",
      "id": "c9672d2b",
      "metadata": {},
      "source": [
        "### `AS` (alias)\n",
        "Pathway supports both notations: `old_name as new_name` and `old_name new_name`."
      ]
    },
    {
      "cell_type": "code",
      "execution_count": 11,
      "id": "b07d7fdc",
      "metadata": {
        "execution": {
          "iopub.execute_input": "2023-01-10T07:29:14.341182Z",
          "iopub.status.busy": "2023-01-10T07:29:14.340798Z",
          "iopub.status.idle": "2023-01-10T07:29:14.347275Z",
          "shell.execute_reply": "2023-01-10T07:29:14.346797Z"
        }
      },
      "outputs": [
        {
          "name": "stdout",
          "output_type": "stream",
          "text": [
            "            | b | c\n",
            "^2TMTFGY... | 2 | 1\n",
            "^YHZBTNY... | 3 | 4\n",
            "^SERVYWW... | 7 | 4\n"
          ]
        }
      ],
      "source": [
        "result_alias = pw.sql(\"SELECT b, a AS c FROM tab\", tab=t)\n",
        "pw.debug.compute_and_print(result_alias)"
      ]
    },
    {
      "cell_type": "code",
      "execution_count": 12,
      "id": "867f7f61",
      "metadata": {
        "execution": {
          "iopub.execute_input": "2023-01-10T07:29:14.349405Z",
          "iopub.status.busy": "2023-01-10T07:29:14.349148Z",
          "iopub.status.idle": "2023-01-10T07:29:14.354905Z",
          "shell.execute_reply": "2023-01-10T07:29:14.354432Z"
        }
      },
      "outputs": [
        {
          "name": "stdout",
          "output_type": "stream",
          "text": [
            "            | b | c\n",
            "^2TMTFGY... | 2 | 1\n",
            "^YHZBTNY... | 3 | 4\n",
            "^SERVYWW... | 7 | 4\n"
          ]
        }
      ],
      "source": [
        "result_alias = pw.sql(\"SELECT b, a c FROM tab\", tab=t)\n",
        "pw.debug.compute_and_print(result_alias)"
      ]
    },
    {
      "cell_type": "markdown",
      "id": "0b851909",
      "metadata": {},
      "source": [
        "### `UNION`\n",
        "Pathway provides the standard `UNION` SQL operator.\n",
        "Note that `UNION` requires matching column names."
      ]
    },
    {
      "cell_type": "code",
      "execution_count": 13,
      "id": "6717be30",
      "metadata": {
        "execution": {
          "iopub.execute_input": "2023-01-10T07:29:14.357044Z",
          "iopub.status.busy": "2023-01-10T07:29:14.356825Z",
          "iopub.status.idle": "2023-01-10T07:29:14.376537Z",
          "shell.execute_reply": "2023-01-10T07:29:14.375990Z"
        }
      },
      "outputs": [
        {
          "name": "stdout",
          "output_type": "stream",
          "text": [
            "            | a | b\n",
            "^PK2K47A... | 1 | 2\n",
            "^B7PGE3E... | 2 | 7\n",
            "^0A3551Q... | 4 | 3\n",
            "^QKQ86JV... | 4 | 7\n",
            "^08XM0XT... | 9 | 3\n"
          ]
        }
      ],
      "source": [
        "t_union = pw.debug.table_from_markdown(\n",
        "    \"\"\"\n",
        "    | a | b\n",
        " 4  | 9 | 3\n",
        " 5  | 2 | 7\n",
        " \"\"\"\n",
        ")\n",
        "\n",
        "result_union = pw.sql(\"SELECT * FROM tab UNION SELECT * FROM tab2\", tab=t, tab2=t_union)\n",
        "pw.debug.compute_and_print(result_union)"
      ]
    },
    {
      "cell_type": "markdown",
      "id": "7c8c539b",
      "metadata": {},
      "source": [
        "### `INTERSECT`\n",
        "Pathway provides the standard `INTERSECT` SQL operator.\n",
        "Note that `INTERSECT` requires matching column names."
      ]
    },
    {
      "cell_type": "code",
      "execution_count": 14,
      "id": "e2712bab",
      "metadata": {
        "execution": {
          "iopub.execute_input": "2023-01-10T07:29:14.379303Z",
          "iopub.status.busy": "2023-01-10T07:29:14.378838Z",
          "iopub.status.idle": "2023-01-10T07:29:14.394989Z",
          "shell.execute_reply": "2023-01-10T07:29:14.394388Z"
        }
      },
      "outputs": [
        {
          "name": "stdout",
          "output_type": "stream",
          "text": [
            "            | a | b\n",
            "^PK2K47A... | 1 | 2\n"
          ]
        }
      ],
      "source": [
        "t_inter = pw.debug.table_from_markdown(\n",
        "    \"\"\"\n",
        "    | a | b\n",
        " 4  | 9 | 3\n",
        " 5  | 2 | 7\n",
        " 6  | 1 | 2\n",
        " \"\"\"\n",
        ")\n",
        "\n",
        "result_inter = pw.sql(\n",
        "    \"SELECT * FROM tab INTERSECT SELECT * FROM tab2\", tab=t, tab2=t_inter\n",
        ")\n",
        "pw.debug.compute_and_print(result_inter)"
      ]
    },
    {
      "cell_type": "markdown",
      "id": "c1739643",
      "metadata": {},
      "source": [
        "\u26a0\ufe0f `INTERSECT` does not support `INTERSECT ALL` (coming soon)."
      ]
    },
    {
      "cell_type": "markdown",
      "id": "740ade32",
      "metadata": {},
      "source": [
        "### `JOIN`\n",
        "Pathway provides different join operations: `INNER JOIN`, `LEFT JOIN` (or `LEFT OUTER JOIN`), `RIGHT JOIN` (or `RIGHT OUTER JOIN`), `SELF JOIN`, and `CROSS JOIN`."
      ]
    },
    {
      "cell_type": "code",
      "execution_count": 15,
      "id": "1a982d43",
      "metadata": {
        "execution": {
          "iopub.execute_input": "2023-01-10T07:29:14.397968Z",
          "iopub.status.busy": "2023-01-10T07:29:14.397483Z",
          "iopub.status.idle": "2023-01-10T07:29:14.411360Z",
          "shell.execute_reply": "2023-01-10T07:29:14.410923Z"
        }
      },
      "outputs": [
        {
          "name": "stdout",
          "output_type": "stream",
          "text": [
            "            | a | b | c\n",
            "^1Y14E07... | 4 | 3 | 4\n",
            "^7RXQ0Z1... | 4 | 7 | 5\n"
          ]
        }
      ],
      "source": [
        "t_join = pw.debug.table_from_markdown(\n",
        "    \"\"\"\n",
        "    | b | c\n",
        " 4  | 4 | 9\n",
        " 5  | 3 | 4\n",
        " 6  | 7 | 5\n",
        " \"\"\"\n",
        ")\n",
        "result_join = pw.sql(\n",
        "    \"SELECT * FROM left_table INNER JOIN right_table ON left_table.b==right_table.b\",\n",
        "    left_table=t,\n",
        "    right_table=t_join,\n",
        ")\n",
        "pw.debug.compute_and_print(result_join)"
      ]
    },
    {
      "cell_type": "markdown",
      "id": "a0969d72",
      "metadata": {},
      "source": [
        "\u26a0\ufe0f `GROUP BY` and `JOIN` should not be used together in a single `SELECT`."
      ]
    },
    {
      "cell_type": "markdown",
      "id": "ba791baa",
      "metadata": {},
      "source": [
        "\u26a0\ufe0f `NATURAL JOIN` and `FULL JOIN` are not supported (coming soon)."
      ]
    },
    {
      "cell_type": "markdown",
      "id": "cc54a388",
      "metadata": {},
      "source": [
        "### `WITH`\n",
        "In addition to being placed inside a `WHERE` clause, subqueries can also be performed using the `WITH` keyword:"
      ]
    },
    {
      "cell_type": "code",
      "execution_count": 16,
      "id": "fc20db24",
      "metadata": {
        "execution": {
          "iopub.execute_input": "2023-01-10T07:29:14.418992Z",
          "iopub.status.busy": "2023-01-10T07:29:14.418234Z",
          "iopub.status.idle": "2023-01-10T07:29:14.431175Z",
          "shell.execute_reply": "2023-01-10T07:29:14.430799Z"
        }
      },
      "outputs": [
        {
          "name": "stdout",
          "output_type": "stream",
          "text": [
            "            | sumB\n",
            "^2TMTFGY... | 2\n",
            "^8GR6BSX... | 10\n"
          ]
        }
      ],
      "source": [
        "result_with = pw.sql(\n",
        "    \"WITH group_table (a, sumB) AS (SELECT a, SUM(b) FROM tab GROUP BY a) SELECT sumB FROM group_table\",\n",
        "    tab=t,\n",
        ")\n",
        "pw.debug.compute_and_print(result_with)"
      ]
    },
    {
      "cell_type": "markdown",
      "id": "11ded646",
      "metadata": {},
      "source": [
        "## Differences from the SQL standard\n",
        "First of all, not all SQL queries can be executed in Pathway.\n",
        "This stems mainly from the fact that Pathway is built to process streaming and dynamic data efficiently.\n",
        "\n",
        "### No ordering\n",
        "In Pathway, indexes are separately generated and maintained by the engine, which does not guarantee any row order: SQL operations like `LIMIT`, `ORDER BY` or `SELECT TOP` don't always make sense in this context. In the future, we will support an `ORDER BY ... LIMIT ...` keyword combination, which is typically meaningful in Pathway.\n",
        "The column `id` is reserved and should not be used as a column name, this column is not captured by `*` expressions.\n",
        "\n",
        "Furthermore, there is no order on the columns and the column order used in a `SELECT` query need not be preserved.\n",
        "\n",
        "### Immutability\n",
        "Pathway tables are immutable: operations such as `INSERT INTO` are not supported.\n",
        "\n",
        "### Limits of subqueries and existing operations\n",
        "Subqueries are suppported but are fragile.\n",
        "Similarly, `LIKE`, `ANY`, `ALL`, `EXISTS` keywords are not formally supported even though they may work in some cases.\n",
        "`COALESCE` and`IFNULL` are not supported but should be soon.\n",
        "We strongly suggest not to use anonymous columns: they might work but we cannot guarantee their behavior.\n",
        "\n",
        "# Conclusion\n",
        "Pathway provides a powerful API to ease the transition of SQL data transformations and pipelines into Pathway.\n",
        "However, Pathway and SQL serve different purposes. To benefit from all the possibilities Pathway has to offer we strongly encourage you to use the Python syntax directly, as much as you can. Most of the time, this syntax is at least as easy to follow as SQL - see for example our [join](/developers/documentation/table-operations/join-manual/) and [groupby](/developers/documentation/table-operations/groupby-reduce-manual/) manuals."
      ]
    }
  ],
  "metadata": {
    "jupytext": {
      "cell_metadata_filter": "-all",
      "main_language": "python",
      "notebook_metadata_filter": "-all"
    },
    "language_info": {
      "codemirror_mode": {
        "name": "ipython",
        "version": 3
      },
      "file_extension": ".py",
      "mimetype": "text/x-python",
      "name": "python",
      "nbconvert_exporter": "python",
      "pygments_lexer": "ipython3",
      "version": "3.10.8"
    }
  },
  "nbformat": 4,
  "nbformat_minor": 5
}