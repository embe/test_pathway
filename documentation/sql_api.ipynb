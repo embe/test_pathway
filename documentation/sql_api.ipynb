{
  "cells": [
    {
      "cell_type": "markdown",
      "metadata": {
        "id": "view-in-colab"
      },
      "source": [
        "<a href=\"https://colab.research.google.com/github/pathwaycom/pathway-examples/blob/main/documentation/sql_api.ipynb\" target=\"_parent\"><img src=\"https://pathway.com/assets/colab-badge.svg\" alt=\"Run In Colab\" class=\"inline\"/></a>"
      ]
    },
    {
      "cell_type": "markdown",
      "source": [
        "# Installing Pathway with Python 3.8+\n",
        "\n",
        "In the cell below, we install Pathway into a Python 3.8+ Linux runtime.\n",
        "\n",
        "> **If you are running in Google Colab, please run the colab notebook (Ctrl+F9)**, disregarding the 'not authored by Google' warning.\n",
        "> \n",
        "> **The installation and loading time is less than 1 minute**.\n"
      ],
      "metadata": {
        "id": "notebook-instructions"
      }
    },
    {
      "cell_type": "code",
      "source": [
        "%%capture --no-display\n",
        "!pip install --extra-index-url https://packages.pathway.com/966431ef6ba pathway"
      ],
      "metadata": {
        "id": "pip-installation-pathway",
        "cellView": "form"
      },
      "execution_count": null,
      "outputs": []
    },
    {
      "cell_type": "markdown",
      "id": "1cda460a",
      "metadata": {},
      "source": [
        "# Using SQL with Pathway\n",
        "Perform SQL commands using Pathway's `pw.sql` function.\n",
        "\n",
        "---\n",
        "\n",
        ":warning: As of January 9, 2023, the `pw.sql` feature is experimental; please bear with us for updates and do reach ou if you have any question! \n",
        "\n",
        "---\n",
        "\n",
        "Pathway provides a very simple way to use SQL commands directly in your Pathway application: the use of `pw.sql`.\n",
        "Pathway is significantly different from a usual SQL database, and not all SQL operations are available in Pathway.\n",
        "In the following, we present the SQL operations which are compatible with Pathway and how to use `pw.sql`.\n",
        "\n",
        "**This article is a summary of dos and don'ts on how to use Pathway to execute SQL queries, this is not an introduction to SQL.**\n",
        "\n",
        "## Usage\n",
        "You can very easily execute a SQL command by doing the following:\n",
        "\n",
        "```python\n",
        "pw.sql(query, tab=t)\n",
        "```\n",
        "\n",
        "This will execute the SQL command `query` where the Pathway table `t` (Python local variable) can be referred to as  `tab` (SQL table name) inside `query`.\n",
        "More generally, you can pass an arbitrary number of tables associations `name, table` using `**kwargs`: `pw.sql(query, tab1=t1, tab2=t2,.., tabn=tn)`.\n",
        "\n",
        "## Example"
      ]
    },
    {
      "cell_type": "code",
      "execution_count": 1,
      "id": "29d2d371",
      "metadata": {
        "execution": {
          "iopub.execute_input": "2023-03-30T11:51:49.358019Z",
          "iopub.status.busy": "2023-03-30T11:51:49.357846Z",
          "iopub.status.idle": "2023-03-30T11:51:50.837565Z",
          "shell.execute_reply": "2023-03-30T11:51:50.837138Z"
        }
      },
      "outputs": [
        {
          "name": "stdout",
          "output_type": "stream",
          "text": [
            "            | a | b\n",
            "^8H1RZD9... | 1 | 2\n",
            "^2GDR47M... | 4 | 7\n"
          ]
        }
      ],
      "source": [
        "import pathway as pw\n",
        "\n",
        "t = pw.debug.table_from_markdown(\n",
        "    \"\"\"\n",
        "    | a | b\n",
        " 1  | 1 | 2\n",
        " 2  | 4 | 3\n",
        " 3  | 4 | 7\n",
        " \"\"\"\n",
        ")\n",
        "\n",
        "ret = pw.sql(\"SELECT * FROM tab WHERE a<b\", tab=t)\n",
        "pw.debug.compute_and_print(ret)"
      ]
    },
    {
      "cell_type": "markdown",
      "id": "7190e4af",
      "metadata": {},
      "source": [
        "## Column names\n",
        "Unlike in Pathway, column names are not case sensitive in SQL so **column names are NOT case sensitive when using `pw.sql`**.\n",
        "To improve the compatibility with Pathway, we encourage the use of the standard Python naming convention for column and table names: no special character other than \"\\_\", alphanumeric characters, and not starting with a number.\n",
        "Using a space will work in the SQL layer (e.g. returning a column called `\"a column\"`), though it may be impractical afterwards, when using the dot notation in Pathway: `t.a column` will raise an error. You can still use the `t[\"a column\"]` syntax in Pathway.\n",
        "\n",
        "## List of Available SQL Operations\n",
        "\n",
        "### `SELECT`\n",
        "Using select, you can access the different columns of a table:"
      ]
    },
    {
      "cell_type": "code",
      "execution_count": 2,
      "id": "7c42dfc6",
      "metadata": {
        "execution": {
          "iopub.execute_input": "2023-03-30T11:51:50.839122Z",
          "iopub.status.busy": "2023-03-30T11:51:50.838953Z",
          "iopub.status.idle": "2023-03-30T11:51:50.842822Z",
          "shell.execute_reply": "2023-03-30T11:51:50.842498Z"
        }
      },
      "outputs": [
        {
          "name": "stdout",
          "output_type": "stream",
          "text": [
            "            | a\n",
            "^8H1RZD9... | 1\n",
            "^3G6RNTW... | 4\n",
            "^2GDR47M... | 4\n"
          ]
        }
      ],
      "source": [
        "result_select = pw.sql(\"SELECT a FROM tab\", tab=t)\n",
        "pw.debug.compute_and_print(result_select)"
      ]
    },
    {
      "cell_type": "markdown",
      "id": "1aa1a501",
      "metadata": {},
      "source": [
        "\u26a0\ufe0f Pathway does not preserve the order of columns!"
      ]
    },
    {
      "cell_type": "markdown",
      "id": "f9db061f",
      "metadata": {},
      "source": [
        "#### Star notation\n",
        "Pathway supports the star notation `*` to select all the columns:"
      ]
    },
    {
      "cell_type": "code",
      "execution_count": 3,
      "id": "aadebc95",
      "metadata": {
        "execution": {
          "iopub.execute_input": "2023-03-30T11:51:50.844241Z",
          "iopub.status.busy": "2023-03-30T11:51:50.843986Z",
          "iopub.status.idle": "2023-03-30T11:51:50.847660Z",
          "shell.execute_reply": "2023-03-30T11:51:50.847348Z"
        }
      },
      "outputs": [
        {
          "name": "stdout",
          "output_type": "stream",
          "text": [
            "            | a | b\n",
            "^8H1RZD9... | 1 | 2\n",
            "^3G6RNTW... | 4 | 3\n",
            "^2GDR47M... | 4 | 7\n"
          ]
        }
      ],
      "source": [
        "result_star = pw.sql(\"SELECT * FROM tab\", tab=t)\n",
        "pw.debug.compute_and_print(result_star)"
      ]
    },
    {
      "cell_type": "markdown",
      "id": "1e4f7cbb",
      "metadata": {},
      "source": [
        "\u26a0\ufe0f Every Pathway table has a special column `id`: this column is NOT captured by `*` expressions in SQL."
      ]
    },
    {
      "cell_type": "markdown",
      "id": "2bbb67ab",
      "metadata": {},
      "source": [
        "### `WHERE`\n",
        "In a `SELECT` query, the `WHERE` clause can be used to select rows satisfying a given condition:"
      ]
    },
    {
      "cell_type": "code",
      "execution_count": 4,
      "id": "59c7e43b",
      "metadata": {
        "execution": {
          "iopub.execute_input": "2023-03-30T11:51:50.849096Z",
          "iopub.status.busy": "2023-03-30T11:51:50.848829Z",
          "iopub.status.idle": "2023-03-30T11:51:50.853780Z",
          "shell.execute_reply": "2023-03-30T11:51:50.853464Z"
        }
      },
      "outputs": [
        {
          "name": "stdout",
          "output_type": "stream",
          "text": [
            "            | a | b\n",
            "^3G6RNTW... | 4 | 3\n",
            "^2GDR47M... | 4 | 7\n"
          ]
        }
      ],
      "source": [
        "result_where = pw.sql(\"SELECT a,b FROM tab WHERE b>2\", tab=t)\n",
        "pw.debug.compute_and_print(result_where)"
      ]
    },
    {
      "cell_type": "markdown",
      "id": "b68c34d4",
      "metadata": {},
      "source": [
        "### Boolean and Arithmetic Expressions\n",
        "With the `SELECT ...` and `WHERE ...` clauses, you can use the following operators:\n",
        "- boolean operators: `AND`, `OR`, `NOT`\n",
        "- arithmetic operators: `+`, `-`, `*`,  `/`, `DIV`, `MOD`, `==`, `!=`, `<`, `>`, `<=`, `>=`, `<>`\n",
        "- NULL"
      ]
    },
    {
      "cell_type": "code",
      "execution_count": 5,
      "id": "b5307d64",
      "metadata": {
        "execution": {
          "iopub.execute_input": "2023-03-30T11:51:50.855193Z",
          "iopub.status.busy": "2023-03-30T11:51:50.854898Z",
          "iopub.status.idle": "2023-03-30T11:51:50.860575Z",
          "shell.execute_reply": "2023-03-30T11:51:50.860200Z"
        }
      },
      "outputs": [
        {
          "name": "stdout",
          "output_type": "stream",
          "text": [
            "            | a | b\n",
            "^2GDR47M... | 4 | 7\n"
          ]
        }
      ],
      "source": [
        "result_bool = pw.sql(\"SELECT a,b FROM tab WHERE b-a>0 AND a>3\", tab=t)\n",
        "pw.debug.compute_and_print(result_bool)"
      ]
    },
    {
      "cell_type": "markdown",
      "id": "d238faf4",
      "metadata": {},
      "source": [
        "Both `!=` and `<>` can be used to check non-equality."
      ]
    },
    {
      "cell_type": "code",
      "execution_count": 6,
      "id": "e6814956",
      "metadata": {
        "execution": {
          "iopub.execute_input": "2023-03-30T11:51:50.862100Z",
          "iopub.status.busy": "2023-03-30T11:51:50.861819Z",
          "iopub.status.idle": "2023-03-30T11:51:50.867068Z",
          "shell.execute_reply": "2023-03-30T11:51:50.866692Z"
        }
      },
      "outputs": [
        {
          "name": "stdout",
          "output_type": "stream",
          "text": [
            "            | a | b\n",
            "^8H1RZD9... | 1 | 2\n",
            "^2GDR47M... | 4 | 7\n"
          ]
        }
      ],
      "source": [
        "result_neq = pw.sql(\"SELECT a,b FROM tab WHERE a != 4 OR b <> 3\", tab=t)\n",
        "pw.debug.compute_and_print(result_neq)"
      ]
    },
    {
      "cell_type": "markdown",
      "id": "91d4b9dc",
      "metadata": {},
      "source": [
        "`NULL` can be used to filter out rows with missing values:"
      ]
    },
    {
      "cell_type": "code",
      "execution_count": 7,
      "id": "0492582a",
      "metadata": {
        "execution": {
          "iopub.execute_input": "2023-03-30T11:51:50.868473Z",
          "iopub.status.busy": "2023-03-30T11:51:50.868195Z",
          "iopub.status.idle": "2023-03-30T11:51:50.875619Z",
          "shell.execute_reply": "2023-03-30T11:51:50.875252Z"
        }
      },
      "outputs": [
        {
          "name": "stdout",
          "output_type": "stream",
          "text": [
            "            | a | b\n",
            "^8H1RZD9... | 1 | 2\n",
            "^2GDR47M... | 4 | 7\n"
          ]
        }
      ],
      "source": [
        "t_null = pw.debug.table_from_markdown(\n",
        "    \"\"\"\n",
        "    | a | b\n",
        " 1  | 1 | 2\n",
        " 2  | 4 |\n",
        " 3  | 4 | 7\n",
        " \"\"\"\n",
        ")\n",
        "\n",
        "result_null = pw.sql(\"SELECT a, b FROM tab WHERE b IS NOT NULL \", tab=t_null)\n",
        "pw.debug.compute_and_print(result_null)"
      ]
    },
    {
      "cell_type": "markdown",
      "id": "4763a6c9",
      "metadata": {},
      "source": [
        "You can use single row result subqueries in the `WHERE` clause to filter a table based on the subquery results:"
      ]
    },
    {
      "cell_type": "code",
      "execution_count": 8,
      "id": "601525e4",
      "metadata": {
        "execution": {
          "iopub.execute_input": "2023-03-30T11:51:50.876908Z",
          "iopub.status.busy": "2023-03-30T11:51:50.876689Z",
          "iopub.status.idle": "2023-03-30T11:51:50.886590Z",
          "shell.execute_reply": "2023-03-30T11:51:50.886227Z"
        }
      },
      "outputs": [
        {
          "name": "stdout",
          "output_type": "stream",
          "text": [
            "            | employee | salary\n",
            "^3G6RNTW... | 2        | 11\n",
            "^2GDR47M... | 3        | 12\n"
          ]
        }
      ],
      "source": [
        "t_subqueries = pw.debug.table_from_markdown(\n",
        "    \"\"\"\n",
        "    | employee | salary\n",
        " 1  | 1        | 10\n",
        " 2  | 2        | 11\n",
        " 3  | 3        | 12\n",
        " \"\"\"\n",
        ")\n",
        "result_subqueries = pw.sql(\"SELECT employee, salary FROM t WHERE salary >= (SELECT AVG(salary) FROM t)\", t=t_subqueries)\n",
        "pw.debug.compute_and_print(result_subqueries)"
      ]
    },
    {
      "cell_type": "markdown",
      "id": "019e28dd",
      "metadata": {},
      "source": [
        "\u26a0\ufe0f For now, only single row result subqueries are supported.\n",
        "Correlated subqueries and the associated operations `ANY`, `NONE`, and `EVERY` (or its alias `ALL`) are currently not supported."
      ]
    },
    {
      "cell_type": "markdown",
      "id": "ed50769d",
      "metadata": {},
      "source": [
        "### `GROUP BY`\n",
        "You can use `GROUP BY` to group rows with the same value for a given column, and to use an aggregate function over the grouped rows."
      ]
    },
    {
      "cell_type": "code",
      "execution_count": 9,
      "id": "c9626596",
      "metadata": {
        "execution": {
          "iopub.execute_input": "2023-03-30T11:51:50.888043Z",
          "iopub.status.busy": "2023-03-30T11:51:50.887899Z",
          "iopub.status.idle": "2023-03-30T11:51:50.895033Z",
          "shell.execute_reply": "2023-03-30T11:51:50.894702Z"
        }
      },
      "outputs": [
        {
          "name": "stdout",
          "output_type": "stream",
          "text": [
            "            | a | _col_1\n",
            "^8H1RZD9... | 1 | 2\n",
            "^143YW45... | 4 | 10\n"
          ]
        }
      ],
      "source": [
        "result_groupby = pw.sql(\"SELECT a, SUM(b) FROM tab GROUP BY a\", tab=t)\n",
        "pw.debug.compute_and_print(result_groupby)"
      ]
    },
    {
      "cell_type": "markdown",
      "id": "5197b4cd",
      "metadata": {},
      "source": [
        "\u26a0\ufe0f `GROUP BY` and `JOIN` should not be used together in a single `SELECT`."
      ]
    },
    {
      "cell_type": "markdown",
      "id": "8095c80c",
      "metadata": {},
      "source": [
        "#### Aggregation functions\n",
        "With `GROUP BY`, you can use the following aggregation functions:\n",
        "- `AVG`\n",
        "- `COUNT`\n",
        "- `MAX`\n",
        "- `MIN`\n",
        "- `SUM`\n",
        "\n",
        "\u26a0\ufe0f Pathway reducers (`pw.count`, `pw.sum`, etc.) aggregate over `None` values, while traditional SQL aggregate functions skip `NULL` values: be careful to remove all the undefined values before using an aggregate function."
      ]
    },
    {
      "cell_type": "markdown",
      "id": "45c9c4be",
      "metadata": {},
      "source": [
        "### `HAVING`"
      ]
    },
    {
      "cell_type": "code",
      "execution_count": 10,
      "id": "ac56616d",
      "metadata": {
        "execution": {
          "iopub.execute_input": "2023-03-30T11:51:50.897799Z",
          "iopub.status.busy": "2023-03-30T11:51:50.897669Z",
          "iopub.status.idle": "2023-03-30T11:51:50.919157Z",
          "shell.execute_reply": "2023-03-30T11:51:50.918815Z"
        }
      },
      "outputs": [
        {
          "name": "stdout",
          "output_type": "stream",
          "text": [
            "            | a | _col_1\n",
            "^143YW45... | 4 | 10\n"
          ]
        }
      ],
      "source": [
        "result_having = pw.sql(\"SELECT a, SUM(b) FROM tab GROUP BY a HAVING SUM(b)>5\", tab=t)\n",
        "pw.debug.compute_and_print(result_having)"
      ]
    },
    {
      "cell_type": "markdown",
      "id": "660df5b1",
      "metadata": {},
      "source": [
        "### `AS` (alias)\n",
        "Pathway supports both notations: `old_name as new_name` and `old_name new_name`."
      ]
    },
    {
      "cell_type": "code",
      "execution_count": 11,
      "id": "cd892dd9",
      "metadata": {
        "execution": {
          "iopub.execute_input": "2023-03-30T11:51:50.923356Z",
          "iopub.status.busy": "2023-03-30T11:51:50.923137Z",
          "iopub.status.idle": "2023-03-30T11:51:50.941140Z",
          "shell.execute_reply": "2023-03-30T11:51:50.940815Z"
        }
      },
      "outputs": [
        {
          "name": "stdout",
          "output_type": "stream",
          "text": [
            "            | b | c\n",
            "^8H1RZD9... | 2 | 1\n",
            "^3G6RNTW... | 3 | 4\n",
            "^2GDR47M... | 7 | 4\n"
          ]
        }
      ],
      "source": [
        "result_alias = pw.sql(\"SELECT b, a AS c FROM tab\", tab=t)\n",
        "pw.debug.compute_and_print(result_alias)"
      ]
    },
    {
      "cell_type": "code",
      "execution_count": 12,
      "id": "a6cdded9",
      "metadata": {
        "execution": {
          "iopub.execute_input": "2023-03-30T11:51:50.945770Z",
          "iopub.status.busy": "2023-03-30T11:51:50.945241Z",
          "iopub.status.idle": "2023-03-30T11:51:50.961235Z",
          "shell.execute_reply": "2023-03-30T11:51:50.960823Z"
        }
      },
      "outputs": [
        {
          "name": "stdout",
          "output_type": "stream",
          "text": [
            "            | b | c\n",
            "^8H1RZD9... | 2 | 1\n",
            "^3G6RNTW... | 3 | 4\n",
            "^2GDR47M... | 7 | 4\n"
          ]
        }
      ],
      "source": [
        "result_alias = pw.sql(\"SELECT b, a c FROM tab\", tab=t)\n",
        "pw.debug.compute_and_print(result_alias)"
      ]
    },
    {
      "cell_type": "markdown",
      "id": "bdc6a58b",
      "metadata": {},
      "source": [
        "### `UNION`\n",
        "Pathway provides the standard `UNION` SQL operator.\n",
        "Note that `UNION` requires matching column names."
      ]
    },
    {
      "cell_type": "code",
      "execution_count": 13,
      "id": "fc6f0a21",
      "metadata": {
        "execution": {
          "iopub.execute_input": "2023-03-30T11:51:50.965497Z",
          "iopub.status.busy": "2023-03-30T11:51:50.965270Z",
          "iopub.status.idle": "2023-03-30T11:51:50.977841Z",
          "shell.execute_reply": "2023-03-30T11:51:50.977558Z"
        }
      },
      "outputs": [
        {
          "name": "stdout",
          "output_type": "stream",
          "text": [
            "            | a | b\n",
            "^N3NEP6H... | 1 | 2\n",
            "^4MHEW9N... | 2 | 7\n",
            "^8TNPVRN... | 4 | 3\n",
            "^6R4Y3NK... | 4 | 7\n",
            "^MAQDPDM... | 9 | 3\n"
          ]
        }
      ],
      "source": [
        "t_union = pw.debug.table_from_markdown(\n",
        "    \"\"\"\n",
        "    | a | b\n",
        " 4  | 9 | 3\n",
        " 5  | 2 | 7\n",
        " \"\"\"\n",
        ")\n",
        "\n",
        "result_union = pw.sql(\"SELECT * FROM tab UNION SELECT * FROM tab2\", tab=t, tab2=t_union)\n",
        "pw.debug.compute_and_print(result_union)"
      ]
    },
    {
      "cell_type": "markdown",
      "id": "3c853179",
      "metadata": {},
      "source": [
        "### `INTERSECT`\n",
        "Pathway provides the standard `INTERSECT` SQL operator.\n",
        "Note that `INTERSECT` requires matching column names."
      ]
    },
    {
      "cell_type": "code",
      "execution_count": 14,
      "id": "9a20df29",
      "metadata": {
        "execution": {
          "iopub.execute_input": "2023-03-30T11:51:50.979235Z",
          "iopub.status.busy": "2023-03-30T11:51:50.979066Z",
          "iopub.status.idle": "2023-03-30T11:51:50.988251Z",
          "shell.execute_reply": "2023-03-30T11:51:50.987977Z"
        }
      },
      "outputs": [
        {
          "name": "stdout",
          "output_type": "stream",
          "text": [
            "            | a | b\n",
            "^N3NEP6H... | 1 | 2\n"
          ]
        }
      ],
      "source": [
        "t_inter = pw.debug.table_from_markdown(\n",
        "    \"\"\"\n",
        "    | a | b\n",
        " 4  | 9 | 3\n",
        " 5  | 2 | 7\n",
        " 6  | 1 | 2\n",
        " \"\"\"\n",
        ")\n",
        "\n",
        "result_inter = pw.sql(\"SELECT * FROM tab INTERSECT SELECT * FROM tab2\", tab=t, tab2=t_inter)\n",
        "pw.debug.compute_and_print(result_inter)"
      ]
    },
    {
      "cell_type": "markdown",
      "id": "d0caeec5",
      "metadata": {},
      "source": [
        "\u26a0\ufe0f `INTERSECT` does not support `INTERSECT ALL` (coming soon)."
      ]
    },
    {
      "cell_type": "markdown",
      "id": "596b60eb",
      "metadata": {},
      "source": [
        "### `JOIN`\n",
        "Pathway provides different join operations: `INNER JOIN`, `LEFT JOIN` (or `LEFT OUTER JOIN`), `RIGHT JOIN` (or `RIGHT OUTER JOIN`), `SELF JOIN`, and `CROSS JOIN`."
      ]
    },
    {
      "cell_type": "code",
      "execution_count": 15,
      "id": "ac705b37",
      "metadata": {
        "execution": {
          "iopub.execute_input": "2023-03-30T11:51:50.989566Z",
          "iopub.status.busy": "2023-03-30T11:51:50.989414Z",
          "iopub.status.idle": "2023-03-30T11:51:50.996456Z",
          "shell.execute_reply": "2023-03-30T11:51:50.996169Z"
        }
      },
      "outputs": [
        {
          "name": "stdout",
          "output_type": "stream",
          "text": [
            "            | a | b | c\n",
            "^TRCS8SF... | 4 | 3 | 4\n",
            "^W44DSE5... | 4 | 7 | 5\n"
          ]
        }
      ],
      "source": [
        "t_join = pw.debug.table_from_markdown(\n",
        "    \"\"\"\n",
        "    | b | c\n",
        " 4  | 4 | 9\n",
        " 5  | 3 | 4\n",
        " 6  | 7 | 5\n",
        " \"\"\"\n",
        ")\n",
        "result_join = pw.sql(\"SELECT * FROM left_table INNER JOIN right_table ON left_table.b==right_table.b\", left_table=t, right_table=t_join)\n",
        "pw.debug.compute_and_print(result_join)"
      ]
    },
    {
      "cell_type": "markdown",
      "id": "9ef7e1c0",
      "metadata": {},
      "source": [
        "\u26a0\ufe0f `GROUP BY` and `JOIN` should not be used together in a single `SELECT`."
      ]
    },
    {
      "cell_type": "markdown",
      "id": "833fcd12",
      "metadata": {},
      "source": [
        "\u26a0\ufe0f `NATURAL JOIN` and `FULL JOIN` are not supported (coming soon)."
      ]
    },
    {
      "cell_type": "markdown",
      "id": "69e09e34",
      "metadata": {},
      "source": [
        "### `WITH`\n",
        "In addition to being placed inside a `WHERE` clause, subqueries can also be performed using the `WITH` keyword:"
      ]
    },
    {
      "cell_type": "code",
      "execution_count": 16,
      "id": "1196b31b",
      "metadata": {
        "execution": {
          "iopub.execute_input": "2023-03-30T11:51:50.997774Z",
          "iopub.status.busy": "2023-03-30T11:51:50.997596Z",
          "iopub.status.idle": "2023-03-30T11:51:51.002727Z",
          "shell.execute_reply": "2023-03-30T11:51:51.002471Z"
        }
      },
      "outputs": [
        {
          "name": "stdout",
          "output_type": "stream",
          "text": [
            "            | sumB\n",
            "^8H1RZD9... | 2\n",
            "^143YW45... | 10\n"
          ]
        }
      ],
      "source": [
        "result_with = pw.sql(\"WITH group_table (a, sumB) AS (SELECT a, SUM(b) FROM tab GROUP BY a) SELECT sumB FROM group_table\", tab=t)\n",
        "pw.debug.compute_and_print(result_with)"
      ]
    },
    {
      "cell_type": "markdown",
      "id": "c869001e",
      "metadata": {},
      "source": [
        "## Differences from the SQL standard\n",
        "First of all, not all SQL queries can be executed in Pathway.\n",
        "This stems mainly from the fact that Pathway is built to process streaming and dynamic data efficiently.\n",
        "\n",
        "### No ordering\n",
        "In Pathway, indexes are separately generated and maintained by the engine, which does not guarantee any row order: SQL operations like `LIMIT`, `ORDER BY` or `SELECT TOP` don't always make sense in this context. In the future, we will support an `ORDER BY ... LIMIT ...` keyword combination, which is typically meaningful in Pathway.\n",
        "The column `id` is reserved and should not be used as a column name, this column is not captured by `*` expressions.\n",
        "\n",
        "Furthermore, there is no order on the columns and the column order used in a `SELECT` query need not be preserved.\n",
        "\n",
        "### Immutability\n",
        "Pathway tables are immutable: operations such as `INSERT INTO` are not supported.\n",
        "\n",
        "### Limits\n",
        "Correlated subqueries are currently not supported and keywords such as `LIKE`, `ANY`, `ALL`, or `EXISTS` are not supported.\n",
        "`COALESCE` and`IFNULL` are not supported but should be soon.\n",
        "We strongly suggest not to use anonymous columns: they might work but we cannot guarantee their behavior.\n",
        "\n",
        "## Conclusion\n",
        "Pathway provides a powerful API to ease the transition of SQL data transformations and pipelines into Pathway.\n",
        "However, Pathway and SQL serve different purposes. To benefit from all the possibilities Pathway has to offer we strongly encourage you to use the Python syntax directly, as much as you can. Most of the time, this syntax is at least as easy to follow as SQL - see for example our [join](/developers/documentation/table-operations/join-manual/) and [groupby](/developers/documentation/table-operations/groupby-reduce-manual/) manu[a]ls."
      ]
    }
  ],
  "metadata": {
    "jupytext": {
      "cell_metadata_filter": "-all",
      "main_language": "python",
      "notebook_metadata_filter": "-all"
    },
    "language_info": {
      "codemirror_mode": {
        "name": "ipython",
        "version": 3
      },
      "file_extension": ".py",
      "mimetype": "text/x-python",
      "name": "python",
      "nbconvert_exporter": "python",
      "pygments_lexer": "ipython3",
      "version": "3.10.8"
    }
  },
  "nbformat": 4,
  "nbformat_minor": 5
}