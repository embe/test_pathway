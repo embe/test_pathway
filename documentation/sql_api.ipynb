{
  "cells": [
    {
      "cell_type": "markdown",
      "metadata": {
        "id": "view-in-colab"
      },
      "source": [
        "<a href=\"https://colab.research.google.com/github/pathwaycom/pathway-examples/blob/main/documentation/sql_api.ipynb\" target=\"_parent\"><img src=\"https://pathway.com/assets/colab-badge.svg\" alt=\"Run In Colab\" class=\"inline\"/></a>"
      ]
    },
    {
      "cell_type": "markdown",
      "source": [
        "# [Colab-specific instructions] Installing Pathway with Python 3.8+\n",
        "\n",
        "> In the cell below we install pathway into a Python 3.8+ Linux runtime.\n",
        "> Please:\n",
        "> 1. **Insert in the form below the pip install command** given to you with your beta access.\n",
        "> 2. **Run the colab notebook (Ctrl+F9)**, disregarding the 'not authored by Google' warning. **The installation and loading time is less than 1 minute**.\n"
      ],
      "metadata": {
        "id": "notebook-instructions"
      }
    },
    {
      "cell_type": "code",
      "source": [
        "#@title \u2699\ufe0f Pathway installer. Please provide the pip install link for Pathway:\n",
        "# Please copy here the installation line:\n",
        "PATHWAY_INSTALL_LINE='pip install --extra-index-url https://packages.pathway.com/... pathway' #@param {type:\"string\"}\n",
        "\n",
        "PATHWAY_INSTALL_LINE.replace('pip install --extra-index-url ', '')\n",
        "\n",
        "class InterruptExecution(Exception):\n",
        "    def _render_traceback_(self):\n",
        "        pass\n",
        "\n",
        "if '...' in PATHWAY_INSTALL_LINE or not PATHWAY_INSTALL_LINE.startswith('https://packages.pathway.com/'):\n",
        "    print(\n",
        "        \"\u26d4 Please register at https://pathway.com/developers/documentation/introduction/installation-and-first-steps\\n\"\n",
        "        \"to Copy & Paste the Linux pip install line for Pathway!\"\n",
        "    )\n",
        "    raise InterruptExecution\n",
        "\n",
        "DO_INSTALL = False\n",
        "import sys\n",
        "if sys.version_info >= (3, 8):\n",
        "    print(f'\u2705 Python {sys.version} is active.')\n",
        "    try:\n",
        "        import pathway as pw\n",
        "        print('\u2705 Pathway successfully imported.')\n",
        "    except:\n",
        "        DO_INSTALL = True\n",
        "else:\n",
        "    print(\"\u26d4 Pathway requires Python 3.8 or higher.\")\n",
        "    raise InterruptExecution\n",
        "\n",
        "if DO_INSTALL:\n",
        "    !ls $(dirname $(which python))/../lib/python*/*-packages/pathway 1>/dev/null 2>/dev/null || echo \"\u231b Installing Pathway. This usually takes a few seconds...\"\n",
        "    !ls $(dirname $(which python))/../lib/python*/*-packages/pathway 1>/dev/null 2>/dev/null || pip install --extra-index-url {PATHWAY_INSTALL_LINE} 1>/dev/null 2>/dev/null\n",
        "    !ls $(dirname $(which python))/../lib/python*/*-packages/pathway 1>/dev/null 2>/dev/null || echo \"\u26d4 Installation failed. Don't be shy to reach out to the community at https://pathway.com !\"\n",
        "    !ls $(dirname $(which python))/../lib/python*/*-packages/pathway 1>/dev/null 2>/dev/null && echo \"\u2705 All installed. Enjoy Pathway!\"\n"
      ],
      "metadata": {
        "id": "pip-installation-pathway",
        "cellView": "form"
      },
      "execution_count": null,
      "outputs": []
    },
    {
      "cell_type": "markdown",
      "id": "d96eddf0",
      "metadata": {},
      "source": [
        "# Using SQL with Pathway\n",
        "Perform SQL commands using Pathway's `pw.sql` function.\n",
        "\n",
        "---\n",
        "\n",
        ":warning: As of January 9, 2023, the `pw.sql` feature is experimental; please bear with us for updates.\n",
        "\n",
        "---\n",
        "\n",
        "Pathway provides a very simple way to use SQL commands directly in your Pathway application: the use of `pw.sql`.\n",
        "Pathway is significantly different from a usual SQL database, and not all SQL operations are available in Pathway.\n",
        "In the following, we present which SQL operations are compatible with Pathway and how to use `pw.sql`.\n",
        "\n",
        "**This article is a summary of dos and don'ts on how to use Pathway to execute SQL queries, this is not an introduction to SQL.**\n",
        "\n",
        "## Usage\n",
        "We can very easily execute a SQL command by doing the following:\n",
        "\n",
        "```python\n",
        "pw.sql(query, tab=t)\n",
        "```\n",
        "\n",
        "This will execute the SQL command `query` where the Pathway table `t` (Python local variable) can be referred to as  `tab` (SQL table name) inside `query`.\n",
        "More generally, we can pass an arbitrary number of tables associations `name, table` using `**kwargs`: `pw.sql(query, tab1=t1, tab2=t2,.., tabn=tn)`.\n",
        "\n",
        "## Example"
      ]
    },
    {
      "cell_type": "code",
      "execution_count": 1,
      "id": "65c8ccf2",
      "metadata": {
        "execution": {
          "iopub.execute_input": "2023-02-01T11:15:18.400996Z",
          "iopub.status.busy": "2023-02-01T11:15:18.400857Z",
          "iopub.status.idle": "2023-02-01T11:15:19.783473Z",
          "shell.execute_reply": "2023-02-01T11:15:19.782952Z"
        }
      },
      "outputs": [
        {
          "name": "stdout",
          "output_type": "stream",
          "text": [
            "            | a | b\n",
            "^2TMTFGY... | 1 | 2\n",
            "^SERVYWW... | 4 | 7\n"
          ]
        }
      ],
      "source": [
        "import pathway as pw\n",
        "\n",
        "t = pw.debug.table_from_markdown(\n",
        "    \"\"\"\n",
        "    | a | b\n",
        " 1  | 1 | 2\n",
        " 2  | 4 | 3\n",
        " 3  | 4 | 7\n",
        " \"\"\"\n",
        ")\n",
        "\n",
        "ret = pw.sql(\"SELECT * FROM tab WHERE a<b\", tab=t)\n",
        "pw.debug.compute_and_print(ret)"
      ]
    },
    {
      "cell_type": "markdown",
      "id": "ccbf7ac8",
      "metadata": {},
      "source": [
        "## Column names\n",
        "In Pathway, column names are case sensitive and `pw.sql` preserves the case so **column names are case sensitive when using `pw.sql`**.\n",
        "To improve the compatibility with Pathway, we encourage the use of the standard Python naming convention for column and table names: no special character other than \"\\_\", alphanumeric characters, and not starting with a number.\n",
        "Using a space will work in the SQL layer (e.g. returning a column called `\"a column\"`), though it may be impractical afterwards, when using the dot notation in Pathway: `t.a column` will raise an error. You can still use the `t[\"a column\"]` syntax in Pathway.\n",
        "\n",
        "## List of Available SQL Operations\n",
        "\n",
        "### `SELECT`\n",
        "Using select, you can access the different columns of a table:"
      ]
    },
    {
      "cell_type": "code",
      "execution_count": 2,
      "id": "48c58aa3",
      "metadata": {
        "execution": {
          "iopub.execute_input": "2023-02-01T11:15:19.785333Z",
          "iopub.status.busy": "2023-02-01T11:15:19.785041Z",
          "iopub.status.idle": "2023-02-01T11:15:19.788641Z",
          "shell.execute_reply": "2023-02-01T11:15:19.788320Z"
        }
      },
      "outputs": [
        {
          "name": "stdout",
          "output_type": "stream",
          "text": [
            "            | a\n",
            "^2TMTFGY... | 1\n",
            "^YHZBTNY... | 4\n",
            "^SERVYWW... | 4\n"
          ]
        }
      ],
      "source": [
        "result_select = pw.sql(\"SELECT a FROM tab\", tab=t)\n",
        "pw.debug.compute_and_print(result_select)"
      ]
    },
    {
      "cell_type": "markdown",
      "id": "58827bfa",
      "metadata": {},
      "source": [
        "\u26a0\ufe0f Pathway does not preserve the order of columns!"
      ]
    },
    {
      "cell_type": "markdown",
      "id": "1d6eb28e",
      "metadata": {},
      "source": [
        "#### Star notation\n",
        "Pathway supports the star notation `*` to select all the columns:"
      ]
    },
    {
      "cell_type": "code",
      "execution_count": 3,
      "id": "a450d142",
      "metadata": {
        "execution": {
          "iopub.execute_input": "2023-02-01T11:15:19.790204Z",
          "iopub.status.busy": "2023-02-01T11:15:19.789948Z",
          "iopub.status.idle": "2023-02-01T11:15:19.793213Z",
          "shell.execute_reply": "2023-02-01T11:15:19.792902Z"
        }
      },
      "outputs": [
        {
          "name": "stdout",
          "output_type": "stream",
          "text": [
            "            | a | b\n",
            "^2TMTFGY... | 1 | 2\n",
            "^YHZBTNY... | 4 | 3\n",
            "^SERVYWW... | 4 | 7\n"
          ]
        }
      ],
      "source": [
        "result_star = pw.sql(\"SELECT * FROM tab\", tab=t)\n",
        "pw.debug.compute_and_print(result_star)"
      ]
    },
    {
      "cell_type": "markdown",
      "id": "2675c563",
      "metadata": {},
      "source": [
        "\u26a0\ufe0f Every Pathway table has a special column `id`: this column is NOT captured by `*` expressions in SQL."
      ]
    },
    {
      "cell_type": "markdown",
      "id": "75aa7f80",
      "metadata": {},
      "source": [
        "### `WHERE`\n",
        "In a `SELECT` query, the `WHERE` clause can be used to select rows satisfying a given condition:"
      ]
    },
    {
      "cell_type": "code",
      "execution_count": 4,
      "id": "d0374ef9",
      "metadata": {
        "execution": {
          "iopub.execute_input": "2023-02-01T11:15:19.794717Z",
          "iopub.status.busy": "2023-02-01T11:15:19.794506Z",
          "iopub.status.idle": "2023-02-01T11:15:19.798720Z",
          "shell.execute_reply": "2023-02-01T11:15:19.798406Z"
        }
      },
      "outputs": [
        {
          "name": "stdout",
          "output_type": "stream",
          "text": [
            "            | a | b\n",
            "^YHZBTNY... | 4 | 3\n",
            "^SERVYWW... | 4 | 7\n"
          ]
        }
      ],
      "source": [
        "result_where = pw.sql(\"SELECT a,b FROM tab WHERE b>2\", tab=t)\n",
        "pw.debug.compute_and_print(result_where)"
      ]
    },
    {
      "cell_type": "markdown",
      "id": "f6d8bb21",
      "metadata": {},
      "source": [
        "### Boolean and Arithmetic Expressions\n",
        "With the `SELECT ...` and `WHERE ...` clauses, we can use the following operators:\n",
        "- boolean operators: `AND`, `OR`, `NOT`\n",
        "- arithmetic operators: `+`, `-`, `*`,  `/`, `DIV`, `MOD`, `==`, `!=`, `<`, `>`, `<=`, `>=`, `<>`\n",
        "- NULL"
      ]
    },
    {
      "cell_type": "code",
      "execution_count": 5,
      "id": "b7bc0ed4",
      "metadata": {
        "execution": {
          "iopub.execute_input": "2023-02-01T11:15:19.800249Z",
          "iopub.status.busy": "2023-02-01T11:15:19.799992Z",
          "iopub.status.idle": "2023-02-01T11:15:19.804616Z",
          "shell.execute_reply": "2023-02-01T11:15:19.804295Z"
        }
      },
      "outputs": [
        {
          "name": "stdout",
          "output_type": "stream",
          "text": [
            "            | a | b\n",
            "^SERVYWW... | 4 | 7\n"
          ]
        }
      ],
      "source": [
        "result_bool = pw.sql(\"SELECT a,b FROM tab WHERE b-a>0 AND a>3\", tab=t)\n",
        "pw.debug.compute_and_print(result_bool)"
      ]
    },
    {
      "cell_type": "markdown",
      "id": "161e1922",
      "metadata": {},
      "source": [
        "Both `!=` and `<>` can be used to check non-equality."
      ]
    },
    {
      "cell_type": "code",
      "execution_count": 6,
      "id": "e85f3c24",
      "metadata": {
        "execution": {
          "iopub.execute_input": "2023-02-01T11:15:19.806143Z",
          "iopub.status.busy": "2023-02-01T11:15:19.805884Z",
          "iopub.status.idle": "2023-02-01T11:15:19.810474Z",
          "shell.execute_reply": "2023-02-01T11:15:19.810157Z"
        }
      },
      "outputs": [
        {
          "name": "stdout",
          "output_type": "stream",
          "text": [
            "            | a | b\n",
            "^2TMTFGY... | 1 | 2\n",
            "^SERVYWW... | 4 | 7\n"
          ]
        }
      ],
      "source": [
        "result_neq = pw.sql(\"SELECT a,b FROM tab WHERE a != 4 OR b <> 3\", tab=t)\n",
        "pw.debug.compute_and_print(result_neq)"
      ]
    },
    {
      "cell_type": "markdown",
      "id": "883ca55d",
      "metadata": {},
      "source": [
        "`NULL` can be used to filter out rows with missing values:"
      ]
    },
    {
      "cell_type": "code",
      "execution_count": 7,
      "id": "eb49b150",
      "metadata": {
        "execution": {
          "iopub.execute_input": "2023-02-01T11:15:19.812065Z",
          "iopub.status.busy": "2023-02-01T11:15:19.811734Z",
          "iopub.status.idle": "2023-02-01T11:15:19.818014Z",
          "shell.execute_reply": "2023-02-01T11:15:19.817686Z"
        }
      },
      "outputs": [
        {
          "name": "stdout",
          "output_type": "stream",
          "text": [
            "            | a | b\n",
            "^2TMTFGY... | 1 | 2\n",
            "^SERVYWW... | 4 | 7\n"
          ]
        }
      ],
      "source": [
        "t_null = pw.debug.table_from_markdown(\n",
        "    \"\"\"\n",
        "    | a | b\n",
        " 1  | 1 | 2\n",
        " 2  | 4 | \n",
        " 3  | 4 | 7\n",
        " \"\"\"\n",
        ")\n",
        "\n",
        "result_null = pw.sql(\"SELECT a, b FROM tab WHERE b IS NOT NULL \", tab=t_null)\n",
        "pw.debug.compute_and_print(result_null)"
      ]
    },
    {
      "cell_type": "markdown",
      "id": "2090b8d0",
      "metadata": {},
      "source": [
        "\u26a0\ufe0f Subqueries are currenlyt not supported."
      ]
    },
    {
      "cell_type": "markdown",
      "id": "31b8c8ec",
      "metadata": {},
      "source": [
        "### `GROUP BY`\n",
        "You can use `GROUP BY` to group rows with the same value for a given column, and to use an aggregate function over the grouped rows."
      ]
    },
    {
      "cell_type": "code",
      "execution_count": 8,
      "id": "2acfd850",
      "metadata": {
        "execution": {
          "iopub.execute_input": "2023-02-01T11:15:19.819569Z",
          "iopub.status.busy": "2023-02-01T11:15:19.819314Z",
          "iopub.status.idle": "2023-02-01T11:15:19.823580Z",
          "shell.execute_reply": "2023-02-01T11:15:19.823259Z"
        }
      },
      "outputs": [
        {
          "name": "stdout",
          "output_type": "stream",
          "text": [
            "            | a | _col_1\n",
            "^2TMTFGY... | 1 | 2\n",
            "^8GR6BSX... | 4 | 10\n"
          ]
        }
      ],
      "source": [
        "result_groupby = pw.sql(\"SELECT a, SUM(b) FROM tab GROUP BY a\", tab=t)\n",
        "pw.debug.compute_and_print(result_groupby)"
      ]
    },
    {
      "cell_type": "markdown",
      "id": "bc61ef60",
      "metadata": {},
      "source": [
        "\u26a0\ufe0f `GROUP BY` and `JOIN` should not be used together in a single `SELECT`."
      ]
    },
    {
      "cell_type": "markdown",
      "id": "d4acf107",
      "metadata": {},
      "source": [
        "#### Agregation functions\n",
        "With `GROUP BY`, you can use the following aggregation functions:\n",
        "- `AVG`\n",
        "- `COUNT`\n",
        "- `MAX`\n",
        "- `MIN`\n",
        "- `SUM`\n",
        "\n",
        "\u26a0\ufe0f Pathway reducers (`pw.count`, `pw.sum`, etc.) aggregate over `None` values, while tranditional SQL aggregate functions skip `NULL` values: be careful to remove all the undefined values before using an aggregate function."
      ]
    },
    {
      "cell_type": "markdown",
      "id": "84a6a49d",
      "metadata": {},
      "source": [
        "### `HAVING`"
      ]
    },
    {
      "cell_type": "code",
      "execution_count": 9,
      "id": "ff245254",
      "metadata": {
        "execution": {
          "iopub.execute_input": "2023-02-01T11:15:19.825175Z",
          "iopub.status.busy": "2023-02-01T11:15:19.824920Z",
          "iopub.status.idle": "2023-02-01T11:15:19.829654Z",
          "shell.execute_reply": "2023-02-01T11:15:19.829337Z"
        }
      },
      "outputs": [
        {
          "name": "stdout",
          "output_type": "stream",
          "text": [
            "            | a | _col_1\n",
            "^8GR6BSX... | 4 | 10\n"
          ]
        }
      ],
      "source": [
        "result_having = pw.sql(\"SELECT a, SUM(b) FROM tab GROUP BY a HAVING SUM(b)>5\", tab=t)\n",
        "pw.debug.compute_and_print(result_having)"
      ]
    },
    {
      "cell_type": "markdown",
      "id": "0b8aeda1",
      "metadata": {},
      "source": [
        "### `AS` (alias)\n",
        "Pathway supports both notations: `old_name as new_name` and `old_name new_name`."
      ]
    },
    {
      "cell_type": "code",
      "execution_count": 10,
      "id": "5b09f62a",
      "metadata": {
        "execution": {
          "iopub.execute_input": "2023-02-01T11:15:19.831128Z",
          "iopub.status.busy": "2023-02-01T11:15:19.830923Z",
          "iopub.status.idle": "2023-02-01T11:15:19.834221Z",
          "shell.execute_reply": "2023-02-01T11:15:19.833908Z"
        }
      },
      "outputs": [
        {
          "name": "stdout",
          "output_type": "stream",
          "text": [
            "            | b | c\n",
            "^2TMTFGY... | 2 | 1\n",
            "^YHZBTNY... | 3 | 4\n",
            "^SERVYWW... | 7 | 4\n"
          ]
        }
      ],
      "source": [
        "result_alias = pw.sql(\"SELECT b, a AS c FROM tab\", tab=t)\n",
        "pw.debug.compute_and_print(result_alias)"
      ]
    },
    {
      "cell_type": "code",
      "execution_count": 11,
      "id": "90053c84",
      "metadata": {
        "execution": {
          "iopub.execute_input": "2023-02-01T11:15:19.835689Z",
          "iopub.status.busy": "2023-02-01T11:15:19.835442Z",
          "iopub.status.idle": "2023-02-01T11:15:19.838901Z",
          "shell.execute_reply": "2023-02-01T11:15:19.838583Z"
        }
      },
      "outputs": [
        {
          "name": "stdout",
          "output_type": "stream",
          "text": [
            "            | b | c\n",
            "^2TMTFGY... | 2 | 1\n",
            "^YHZBTNY... | 3 | 4\n",
            "^SERVYWW... | 7 | 4\n"
          ]
        }
      ],
      "source": [
        "result_alias = pw.sql(\"SELECT b, a c FROM tab\", tab=t)\n",
        "pw.debug.compute_and_print(result_alias)"
      ]
    },
    {
      "cell_type": "markdown",
      "id": "38e5fe92",
      "metadata": {},
      "source": [
        "### `UNION`\n",
        "Pathway provides the standard `UNION` SQL operator.\n",
        "Note that `UNION` requires matching column names."
      ]
    },
    {
      "cell_type": "code",
      "execution_count": 12,
      "id": "59ebe7da",
      "metadata": {
        "execution": {
          "iopub.execute_input": "2023-02-01T11:15:19.840375Z",
          "iopub.status.busy": "2023-02-01T11:15:19.840158Z",
          "iopub.status.idle": "2023-02-01T11:15:19.847756Z",
          "shell.execute_reply": "2023-02-01T11:15:19.847408Z"
        }
      },
      "outputs": [
        {
          "name": "stdout",
          "output_type": "stream",
          "text": [
            "            | a | b\n",
            "^PK2K47A... | 1 | 2\n",
            "^B7PGE3E... | 2 | 7\n",
            "^0A3551Q... | 4 | 3\n",
            "^QKQ86JV... | 4 | 7\n",
            "^08XM0XT... | 9 | 3\n"
          ]
        }
      ],
      "source": [
        "t_union = pw.debug.table_from_markdown(\n",
        "    \"\"\"\n",
        "    | a | b\n",
        " 4  | 9 | 3\n",
        " 5  | 2 | 7\n",
        " \"\"\"\n",
        ")\n",
        "\n",
        "result_union = pw.sql(\"SELECT * FROM tab UNION SELECT * FROM tab2\", tab=t, tab2=t_union)\n",
        "pw.debug.compute_and_print(result_union)"
      ]
    },
    {
      "cell_type": "markdown",
      "id": "0a58a9e7",
      "metadata": {},
      "source": [
        "### `INTERSECT`\n",
        "Pathway provides the standard `INTERSECT` SQL operator.\n",
        "Note that `INTERSECT` requires matching column names."
      ]
    },
    {
      "cell_type": "code",
      "execution_count": 13,
      "id": "54829710",
      "metadata": {
        "execution": {
          "iopub.execute_input": "2023-02-01T11:15:19.849271Z",
          "iopub.status.busy": "2023-02-01T11:15:19.849033Z",
          "iopub.status.idle": "2023-02-01T11:15:19.855902Z",
          "shell.execute_reply": "2023-02-01T11:15:19.855551Z"
        }
      },
      "outputs": [
        {
          "name": "stdout",
          "output_type": "stream",
          "text": [
            "            | a | b\n",
            "^PK2K47A... | 1 | 2\n"
          ]
        }
      ],
      "source": [
        "t_inter = pw.debug.table_from_markdown(\n",
        "    \"\"\"\n",
        "    | a | b\n",
        " 4  | 9 | 3\n",
        " 5  | 2 | 7\n",
        " 6  | 1 | 2\n",
        " \"\"\"\n",
        ")\n",
        "\n",
        "result_inter = pw.sql(\"SELECT * FROM tab INTERSECT SELECT * FROM tab2\", tab=t, tab2=t_inter)\n",
        "pw.debug.compute_and_print(result_inter)"
      ]
    },
    {
      "cell_type": "markdown",
      "id": "45f6eb78",
      "metadata": {},
      "source": [
        "\u26a0\ufe0f `INTERSECT` does not support `INTERSECT ALL` (coming soon)."
      ]
    },
    {
      "cell_type": "markdown",
      "id": "4f48c700",
      "metadata": {},
      "source": [
        "### `JOIN`\n",
        "Pathway provides different join operations: `INNER JOIN`, `LEFT JOIN` (or `LEFT OUTER JOIN`), `RIGHT JOIN` (or `RIGHT OUTER JOIN`), `SELF JOIN`, and `CROSS JOIN`."
      ]
    },
    {
      "cell_type": "code",
      "execution_count": 14,
      "id": "7000f52a",
      "metadata": {
        "execution": {
          "iopub.execute_input": "2023-02-01T11:15:19.857422Z",
          "iopub.status.busy": "2023-02-01T11:15:19.857200Z",
          "iopub.status.idle": "2023-02-01T11:15:19.863189Z",
          "shell.execute_reply": "2023-02-01T11:15:19.862869Z"
        }
      },
      "outputs": [
        {
          "name": "stdout",
          "output_type": "stream",
          "text": [
            "            | a | b | c\n",
            "^1Y14E07... | 4 | 3 | 4\n",
            "^7RXQ0Z1... | 4 | 7 | 5\n"
          ]
        }
      ],
      "source": [
        "t_join = pw.debug.table_from_markdown(\n",
        "    \"\"\"\n",
        "    | b | c\n",
        " 4  | 4 | 9\n",
        " 5  | 3 | 4\n",
        " 6  | 7 | 5\n",
        " \"\"\"\n",
        ")\n",
        "result_join = pw.sql(\"SELECT * FROM left_table INNER JOIN right_table ON left_table.b==right_table.b\", left_table=t, right_table=t_join)\n",
        "pw.debug.compute_and_print(result_join)"
      ]
    },
    {
      "cell_type": "markdown",
      "id": "9aea9c1c",
      "metadata": {},
      "source": [
        "\u26a0\ufe0f `GROUP BY` and `JOIN` should not be used together in a single `SELECT`."
      ]
    },
    {
      "cell_type": "markdown",
      "id": "7066d4ee",
      "metadata": {},
      "source": [
        "\u26a0\ufe0f `NATURAL JOIN` and `FULL JOIN` are not supported (coming soon)."
      ]
    },
    {
      "cell_type": "markdown",
      "id": "3fd9ef51",
      "metadata": {},
      "source": [
        "### `WITH`\n",
        "In addition to being placed inside a `WHERE` clause, subqueries can also be performed using the `WITH` keyword:"
      ]
    },
    {
      "cell_type": "code",
      "execution_count": 15,
      "id": "2a032448",
      "metadata": {
        "execution": {
          "iopub.execute_input": "2023-02-01T11:15:19.864813Z",
          "iopub.status.busy": "2023-02-01T11:15:19.864551Z",
          "iopub.status.idle": "2023-02-01T11:15:19.869142Z",
          "shell.execute_reply": "2023-02-01T11:15:19.868819Z"
        }
      },
      "outputs": [
        {
          "name": "stdout",
          "output_type": "stream",
          "text": [
            "            | sumB\n",
            "^2TMTFGY... | 2\n",
            "^8GR6BSX... | 10\n"
          ]
        }
      ],
      "source": [
        "result_with = pw.sql(\"WITH group_table (a, sumB) AS (SELECT a, SUM(b) FROM tab GROUP BY a) SELECT sumB FROM group_table\", tab=t)\n",
        "pw.debug.compute_and_print(result_with)"
      ]
    },
    {
      "cell_type": "markdown",
      "id": "17bd84e2",
      "metadata": {},
      "source": [
        "## Differences from the SQL standard\n",
        "First of all, not all SQL queries can be executed in Pathway.\n",
        "This stems mainly from the fact that Pathway is built to process streaming and dynamic data efficiently.\n",
        "\n",
        "### No ordering\n",
        "In Pathway, indexes are separately generated and maintained by the engine, which does not guarantee any row order: SQL operations like `LIMIT`, `ORDER BY` or `SELECT TOP` don't always make sense in this context. In the future, we will support an `ORDER BY ... LIMIT ...` keyword combination, which is typically meaningful in Pathway.\n",
        "The column `id` is reserved and should not be used as a column name, this column is not captured by `*` expressions.\n",
        "\n",
        "Furthermore, there is no order on the columns and the column order used in a `SELECT` query need not be preserved.\n",
        "\n",
        "### Immutability\n",
        "Pathway tables are immutable: operations such as `INSERT INTO` are not supported.\n",
        "\n",
        "### Limits\n",
        "Subqueries are currently not suppported.\n",
        "Keywords such as `LIKE`, `ANY`, `ALL`, or `EXISTS` are not formally supported even though they may work in some cases.\n",
        "`COALESCE` and`IFNULL` are not supported but should be soon.\n",
        "We strongly suggest not to use anonymous columns: they might work but we cannot guarantee their behavior.\n",
        "\n",
        "# Conclusion\n",
        "Pathway provides a powerful API to ease the transition of SQL data transformations and pipelines into Pathway.\n",
        "However, Pathway and SQL serve different purposes. To benefit from all the possibilities Pathway has to offer we strongly encourage you to use the Python syntax directly, as much as you can. Most of the time, this syntax is at least as easy to follow as SQL - see for example our [join](/developers/documentation/table-operations/join-manual/) and [groupby](/developers/documentation/table-operations/groupby-reduce-manual/) manuals."
      ]
    }
  ],
  "metadata": {
    "jupytext": {
      "cell_metadata_filter": "-all",
      "main_language": "python",
      "notebook_metadata_filter": "-all"
    },
    "language_info": {
      "codemirror_mode": {
        "name": "ipython",
        "version": 3
      },
      "file_extension": ".py",
      "mimetype": "text/x-python",
      "name": "python",
      "nbconvert_exporter": "python",
      "pygments_lexer": "ipython3",
      "version": "3.10.8"
    }
  },
  "nbformat": 4,
  "nbformat_minor": 5
}