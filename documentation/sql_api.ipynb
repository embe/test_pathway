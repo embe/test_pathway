{
  "cells": [
    {
      "cell_type": "markdown",
      "metadata": {
        "id": "view-in-colab"
      },
      "source": [
        "<a href=\"https://colab.research.google.com/github/pathwaycom/pathway-examples/blob/main/documentation/sql_api.ipynb\" target=\"_parent\"><img src=\"https://pathway.com/assets/colab-badge.svg\" alt=\"Run In Colab\" class=\"inline\"/></a>"
      ]
    },
    {
      "cell_type": "markdown",
      "source": [
        "# Installing Pathway with Python 3.8+\n",
        "\n",
        "In the cell below, we install Pathway into a Python 3.8+ Linux runtime.\n",
        "\n",
        "> **If you are running in Google Colab, please run the colab notebook (Ctrl+F9)**, disregarding the 'not authored by Google' warning.\n",
        "> \n",
        "> **The installation and loading time is less than 1 minute**.\n"
      ],
      "metadata": {
        "id": "notebook-instructions"
      }
    },
    {
      "cell_type": "code",
      "source": [
        "%%capture --no-display\n",
        "!pip install --extra-index-url https://packages.pathway.com/966431ef6ba pathway"
      ],
      "metadata": {
        "id": "pip-installation-pathway",
        "cellView": "form"
      },
      "execution_count": null,
      "outputs": []
    },
    {
      "cell_type": "markdown",
      "id": "337e0cde",
      "metadata": {},
      "source": [
        "# Using SQL with Pathway\n",
        "Perform SQL commands using Pathway's `pw.sql` function.\n",
        "\n",
        "---\n",
        "\n",
        ":warning: As of January 9, 2023, the `pw.sql` feature is experimental; please bear with us for updates and do reach ou if you have any question! \n",
        "\n",
        "---\n",
        "\n",
        "Pathway provides a very simple way to use SQL commands directly in your Pathway application: the use of `pw.sql`.\n",
        "Pathway is significantly different from a usual SQL database, and not all SQL operations are available in Pathway.\n",
        "In the following, we present the SQL operations which are compatible with Pathway and how to use `pw.sql`.\n",
        "\n",
        "**This article is a summary of dos and don'ts on how to use Pathway to execute SQL queries, this is not an introduction to SQL.**\n",
        "\n",
        "## Usage\n",
        "You can very easily execute a SQL command by doing the following:\n",
        "\n",
        "```python\n",
        "pw.sql(query, tab=t)\n",
        "```\n",
        "\n",
        "This will execute the SQL command `query` where the Pathway table `t` (Python local variable) can be referred to as  `tab` (SQL table name) inside `query`.\n",
        "More generally, you can pass an arbitrary number of tables associations `name, table` using `**kwargs`: `pw.sql(query, tab1=t1, tab2=t2,.., tabn=tn)`.\n",
        "\n",
        "## Example"
      ]
    },
    {
      "cell_type": "code",
      "execution_count": 1,
      "id": "503d24ed",
      "metadata": {
        "execution": {
          "iopub.execute_input": "2023-05-19T12:19:52.579968Z",
          "iopub.status.busy": "2023-05-19T12:19:52.579684Z",
          "iopub.status.idle": "2023-05-19T12:19:53.882322Z",
          "shell.execute_reply": "2023-05-19T12:19:53.882029Z"
        }
      },
      "outputs": [
        {
          "name": "stdout",
          "output_type": "stream",
          "text": [
            "            | a | b\n",
            "^YYY4HAB... | 1 | 2\n",
            "^3CZ78B4... | 4 | 7\n"
          ]
        }
      ],
      "source": [
        "import pathway as pw\n",
        "\n",
        "t = pw.debug.table_from_markdown(\n",
        "    \"\"\"\n",
        "    | a | b\n",
        " 1  | 1 | 2\n",
        " 2  | 4 | 3\n",
        " 3  | 4 | 7\n",
        " \"\"\"\n",
        ")\n",
        "\n",
        "ret = pw.sql(\"SELECT * FROM tab WHERE a<b\", tab=t)\n",
        "pw.debug.compute_and_print(ret)"
      ]
    },
    {
      "cell_type": "markdown",
      "id": "51f44292",
      "metadata": {},
      "source": [
        "## Column names\n",
        "Unlike in Pathway, column names are not case sensitive in SQL so **column names are NOT case sensitive when using `pw.sql`**.\n",
        "To improve the compatibility with Pathway, we encourage the use of the standard Python naming convention for column and table names: no special character other than \"\\_\", alphanumeric characters, and not starting with a number.\n",
        "Using a space will work in the SQL layer (e.g. returning a column called `\"a column\"`), though it may be impractical afterwards, when using the dot notation in Pathway: `t.a column` will raise an error. You can still use the `t[\"a column\"]` syntax in Pathway.\n",
        "\n",
        "## List of Available SQL Operations\n",
        "\n",
        "### `SELECT`\n",
        "Using select, you can access the different columns of a table:"
      ]
    },
    {
      "cell_type": "code",
      "execution_count": 2,
      "id": "ae86d30d",
      "metadata": {
        "execution": {
          "iopub.execute_input": "2023-05-19T12:19:53.884575Z",
          "iopub.status.busy": "2023-05-19T12:19:53.884431Z",
          "iopub.status.idle": "2023-05-19T12:19:53.889055Z",
          "shell.execute_reply": "2023-05-19T12:19:53.888788Z"
        }
      },
      "outputs": [
        {
          "name": "stdout",
          "output_type": "stream",
          "text": [
            "            | a\n",
            "^YYY4HAB... | 1\n",
            "^Z3QWT29... | 4\n",
            "^3CZ78B4... | 4\n"
          ]
        }
      ],
      "source": [
        "result_select = pw.sql(\"SELECT a FROM tab\", tab=t)\n",
        "pw.debug.compute_and_print(result_select)"
      ]
    },
    {
      "cell_type": "markdown",
      "id": "925b2c47",
      "metadata": {},
      "source": [
        "\u26a0\ufe0f Pathway does not preserve the order of columns!"
      ]
    },
    {
      "cell_type": "markdown",
      "id": "3aea763e",
      "metadata": {},
      "source": [
        "#### Star notation\n",
        "Pathway supports the star notation `*` to select all the columns:"
      ]
    },
    {
      "cell_type": "code",
      "execution_count": 3,
      "id": "5120c177",
      "metadata": {
        "execution": {
          "iopub.execute_input": "2023-05-19T12:19:53.890503Z",
          "iopub.status.busy": "2023-05-19T12:19:53.890308Z",
          "iopub.status.idle": "2023-05-19T12:19:53.895531Z",
          "shell.execute_reply": "2023-05-19T12:19:53.895227Z"
        }
      },
      "outputs": [
        {
          "name": "stdout",
          "output_type": "stream",
          "text": [
            "            | a | b\n",
            "^YYY4HAB... | 1 | 2\n",
            "^Z3QWT29... | 4 | 3\n",
            "^3CZ78B4... | 4 | 7\n"
          ]
        }
      ],
      "source": [
        "result_star = pw.sql(\"SELECT * FROM tab\", tab=t)\n",
        "pw.debug.compute_and_print(result_star)"
      ]
    },
    {
      "cell_type": "markdown",
      "id": "2e81376a",
      "metadata": {},
      "source": [
        "\u26a0\ufe0f Every Pathway table has a special column `id`: this column is NOT captured by `*` expressions in SQL."
      ]
    },
    {
      "cell_type": "markdown",
      "id": "28efca9d",
      "metadata": {},
      "source": [
        "### `WHERE`\n",
        "In a `SELECT` query, the `WHERE` clause can be used to select rows satisfying a given condition:"
      ]
    },
    {
      "cell_type": "code",
      "execution_count": 4,
      "id": "20b2b0d7",
      "metadata": {
        "execution": {
          "iopub.execute_input": "2023-05-19T12:19:53.896997Z",
          "iopub.status.busy": "2023-05-19T12:19:53.896782Z",
          "iopub.status.idle": "2023-05-19T12:19:53.906444Z",
          "shell.execute_reply": "2023-05-19T12:19:53.906128Z"
        }
      },
      "outputs": [
        {
          "name": "stdout",
          "output_type": "stream",
          "text": [
            "            | a | b\n",
            "^Z3QWT29... | 4 | 3\n",
            "^3CZ78B4... | 4 | 7\n"
          ]
        }
      ],
      "source": [
        "result_where = pw.sql(\"SELECT a,b FROM tab WHERE b>2\", tab=t)\n",
        "pw.debug.compute_and_print(result_where)"
      ]
    },
    {
      "cell_type": "markdown",
      "id": "ee893000",
      "metadata": {},
      "source": [
        "### Boolean and Arithmetic Expressions\n",
        "With the `SELECT ...` and `WHERE ...` clauses, you can use the following operators:\n",
        "- boolean operators: `AND`, `OR`, `NOT`\n",
        "- arithmetic operators: `+`, `-`, `*`,  `/`, `DIV`, `MOD`, `==`, `!=`, `<`, `>`, `<=`, `>=`, `<>`\n",
        "- NULL"
      ]
    },
    {
      "cell_type": "code",
      "execution_count": 5,
      "id": "c76508b0",
      "metadata": {
        "execution": {
          "iopub.execute_input": "2023-05-19T12:19:53.907892Z",
          "iopub.status.busy": "2023-05-19T12:19:53.907756Z",
          "iopub.status.idle": "2023-05-19T12:19:53.920134Z",
          "shell.execute_reply": "2023-05-19T12:19:53.919870Z"
        }
      },
      "outputs": [
        {
          "name": "stdout",
          "output_type": "stream",
          "text": [
            "            | a | b\n",
            "^3CZ78B4... | 4 | 7\n"
          ]
        }
      ],
      "source": [
        "result_bool = pw.sql(\"SELECT a,b FROM tab WHERE b-a>0 AND a>3\", tab=t)\n",
        "pw.debug.compute_and_print(result_bool)"
      ]
    },
    {
      "cell_type": "markdown",
      "id": "0987c76e",
      "metadata": {},
      "source": [
        "Both `!=` and `<>` can be used to check non-equality."
      ]
    },
    {
      "cell_type": "code",
      "execution_count": 6,
      "id": "a9b66c8a",
      "metadata": {
        "execution": {
          "iopub.execute_input": "2023-05-19T12:19:53.921412Z",
          "iopub.status.busy": "2023-05-19T12:19:53.921279Z",
          "iopub.status.idle": "2023-05-19T12:19:53.932175Z",
          "shell.execute_reply": "2023-05-19T12:19:53.931812Z"
        }
      },
      "outputs": [
        {
          "name": "stdout",
          "output_type": "stream",
          "text": [
            "            | a | b\n",
            "^YYY4HAB... | 1 | 2\n",
            "^3CZ78B4... | 4 | 7\n"
          ]
        }
      ],
      "source": [
        "result_neq = pw.sql(\"SELECT a,b FROM tab WHERE a != 4 OR b <> 3\", tab=t)\n",
        "pw.debug.compute_and_print(result_neq)"
      ]
    },
    {
      "cell_type": "markdown",
      "id": "3e65db5e",
      "metadata": {},
      "source": [
        "`NULL` can be used to filter out rows with missing values:"
      ]
    },
    {
      "cell_type": "code",
      "execution_count": 7,
      "id": "c9369a02",
      "metadata": {
        "execution": {
          "iopub.execute_input": "2023-05-19T12:19:53.933456Z",
          "iopub.status.busy": "2023-05-19T12:19:53.933272Z",
          "iopub.status.idle": "2023-05-19T12:19:53.945979Z",
          "shell.execute_reply": "2023-05-19T12:19:53.945571Z"
        }
      },
      "outputs": [
        {
          "name": "stdout",
          "output_type": "stream",
          "text": [
            "            | a | b\n",
            "^YYY4HAB... | 1 | 2\n",
            "^3CZ78B4... | 4 | 7\n"
          ]
        }
      ],
      "source": [
        "t_null = pw.debug.table_from_markdown(\n",
        "    \"\"\"\n",
        "    | a | b\n",
        " 1  | 1 | 2\n",
        " 2  | 4 |\n",
        " 3  | 4 | 7\n",
        " \"\"\"\n",
        ")\n",
        "\n",
        "result_null = pw.sql(\"SELECT a, b FROM tab WHERE b IS NOT NULL \", tab=t_null)\n",
        "pw.debug.compute_and_print(result_null)"
      ]
    },
    {
      "cell_type": "markdown",
      "id": "10748dc2",
      "metadata": {},
      "source": [
        "You can use single row result subqueries in the `WHERE` clause to filter a table based on the subquery results:"
      ]
    },
    {
      "cell_type": "code",
      "execution_count": 8,
      "id": "a50b54fc",
      "metadata": {
        "execution": {
          "iopub.execute_input": "2023-05-19T12:19:53.947396Z",
          "iopub.status.busy": "2023-05-19T12:19:53.947254Z",
          "iopub.status.idle": "2023-05-19T12:19:53.967242Z",
          "shell.execute_reply": "2023-05-19T12:19:53.966874Z"
        }
      },
      "outputs": [
        {
          "name": "stdout",
          "output_type": "stream",
          "text": [
            "            | employee | salary\n",
            "^Z3QWT29... | 2        | 11\n",
            "^3CZ78B4... | 3        | 12\n"
          ]
        }
      ],
      "source": [
        "t_subqueries = pw.debug.table_from_markdown(\n",
        "    \"\"\"\n",
        "    | employee | salary\n",
        " 1  | 1        | 10\n",
        " 2  | 2        | 11\n",
        " 3  | 3        | 12\n",
        " \"\"\"\n",
        ")\n",
        "result_subqueries = pw.sql(\"SELECT employee, salary FROM t WHERE salary >= (SELECT AVG(salary) FROM t)\", t=t_subqueries)\n",
        "pw.debug.compute_and_print(result_subqueries)"
      ]
    },
    {
      "cell_type": "markdown",
      "id": "4ce2968d",
      "metadata": {},
      "source": [
        "\u26a0\ufe0f For now, only single row result subqueries are supported.\n",
        "Correlated subqueries and the associated operations `ANY`, `NONE`, and `EVERY` (or its alias `ALL`) are currently not supported."
      ]
    },
    {
      "cell_type": "markdown",
      "id": "b755de98",
      "metadata": {},
      "source": [
        "### `GROUP BY`\n",
        "You can use `GROUP BY` to group rows with the same value for a given column, and to use an aggregate function over the grouped rows."
      ]
    },
    {
      "cell_type": "code",
      "execution_count": 9,
      "id": "21460328",
      "metadata": {
        "execution": {
          "iopub.execute_input": "2023-05-19T12:19:53.968747Z",
          "iopub.status.busy": "2023-05-19T12:19:53.968552Z",
          "iopub.status.idle": "2023-05-19T12:19:53.976861Z",
          "shell.execute_reply": "2023-05-19T12:19:53.976484Z"
        }
      },
      "outputs": [
        {
          "name": "stdout",
          "output_type": "stream",
          "text": [
            "            | a | _col_1\n",
            "^YYY4HAB... | 1 | 2\n",
            "^3HN31E1... | 4 | 10\n"
          ]
        }
      ],
      "source": [
        "result_groupby = pw.sql(\"SELECT a, SUM(b) FROM tab GROUP BY a\", tab=t)\n",
        "pw.debug.compute_and_print(result_groupby)"
      ]
    },
    {
      "cell_type": "markdown",
      "id": "6e7249ed",
      "metadata": {},
      "source": [
        "\u26a0\ufe0f `GROUP BY` and `JOIN` should not be used together in a single `SELECT`."
      ]
    },
    {
      "cell_type": "markdown",
      "id": "8a92eca6",
      "metadata": {},
      "source": [
        "#### Aggregation functions\n",
        "With `GROUP BY`, you can use the following aggregation functions:\n",
        "- `AVG`\n",
        "- `COUNT`\n",
        "- `MAX`\n",
        "- `MIN`\n",
        "- `SUM`\n",
        "\n",
        "\u26a0\ufe0f Pathway reducers (`pw.count`, `pw.sum`, etc.) aggregate over `None` values, while traditional SQL aggregate functions skip `NULL` values: be careful to remove all the undefined values before using an aggregate function."
      ]
    },
    {
      "cell_type": "markdown",
      "id": "488b0156",
      "metadata": {},
      "source": [
        "### `HAVING`"
      ]
    },
    {
      "cell_type": "code",
      "execution_count": 10,
      "id": "920868b6",
      "metadata": {
        "execution": {
          "iopub.execute_input": "2023-05-19T12:19:53.978221Z",
          "iopub.status.busy": "2023-05-19T12:19:53.978085Z",
          "iopub.status.idle": "2023-05-19T12:19:53.992327Z",
          "shell.execute_reply": "2023-05-19T12:19:53.991940Z"
        }
      },
      "outputs": [
        {
          "name": "stdout",
          "output_type": "stream",
          "text": [
            "            | a | _col_1\n",
            "^3HN31E1... | 4 | 10\n"
          ]
        }
      ],
      "source": [
        "result_having = pw.sql(\"SELECT a, SUM(b) FROM tab GROUP BY a HAVING SUM(b)>5\", tab=t)\n",
        "pw.debug.compute_and_print(result_having)"
      ]
    },
    {
      "cell_type": "markdown",
      "id": "b6c15c87",
      "metadata": {},
      "source": [
        "### `AS` (alias)\n",
        "Pathway supports both notations: `old_name as new_name` and `old_name new_name`."
      ]
    },
    {
      "cell_type": "code",
      "execution_count": 11,
      "id": "2169d3b2",
      "metadata": {
        "execution": {
          "iopub.execute_input": "2023-05-19T12:19:53.993624Z",
          "iopub.status.busy": "2023-05-19T12:19:53.993486Z",
          "iopub.status.idle": "2023-05-19T12:19:53.999400Z",
          "shell.execute_reply": "2023-05-19T12:19:53.999033Z"
        }
      },
      "outputs": [
        {
          "name": "stdout",
          "output_type": "stream",
          "text": [
            "            | b | c\n",
            "^YYY4HAB... | 2 | 1\n",
            "^Z3QWT29... | 3 | 4\n",
            "^3CZ78B4... | 7 | 4\n"
          ]
        }
      ],
      "source": [
        "result_alias = pw.sql(\"SELECT b, a AS c FROM tab\", tab=t)\n",
        "pw.debug.compute_and_print(result_alias)"
      ]
    },
    {
      "cell_type": "code",
      "execution_count": 12,
      "id": "f4840f80",
      "metadata": {
        "execution": {
          "iopub.execute_input": "2023-05-19T12:19:54.000618Z",
          "iopub.status.busy": "2023-05-19T12:19:54.000485Z",
          "iopub.status.idle": "2023-05-19T12:19:54.006046Z",
          "shell.execute_reply": "2023-05-19T12:19:54.005659Z"
        }
      },
      "outputs": [
        {
          "name": "stdout",
          "output_type": "stream",
          "text": [
            "            | b | c\n",
            "^YYY4HAB... | 2 | 1\n",
            "^Z3QWT29... | 3 | 4\n",
            "^3CZ78B4... | 7 | 4\n"
          ]
        }
      ],
      "source": [
        "result_alias = pw.sql(\"SELECT b, a c FROM tab\", tab=t)\n",
        "pw.debug.compute_and_print(result_alias)"
      ]
    },
    {
      "cell_type": "markdown",
      "id": "37ef0eaa",
      "metadata": {},
      "source": [
        "### `UNION`\n",
        "Pathway provides the standard `UNION` SQL operator.\n",
        "Note that `UNION` requires matching column names."
      ]
    },
    {
      "cell_type": "code",
      "execution_count": 13,
      "id": "26f4a15d",
      "metadata": {
        "execution": {
          "iopub.execute_input": "2023-05-19T12:19:54.007266Z",
          "iopub.status.busy": "2023-05-19T12:19:54.007133Z",
          "iopub.status.idle": "2023-05-19T12:19:54.028986Z",
          "shell.execute_reply": "2023-05-19T12:19:54.028572Z"
        }
      },
      "outputs": [
        {
          "name": "stdout",
          "output_type": "stream",
          "text": [
            "            | a | b\n",
            "^KYCVNKF... | 1 | 2\n",
            "^856GZ16... | 2 | 7\n",
            "^H3J0A0V... | 4 | 3\n",
            "^GX1QVN0... | 4 | 7\n",
            "^7HC68KR... | 9 | 3\n"
          ]
        }
      ],
      "source": [
        "t_union = pw.debug.table_from_markdown(\n",
        "    \"\"\"\n",
        "    | a | b\n",
        " 4  | 9 | 3\n",
        " 5  | 2 | 7\n",
        " \"\"\"\n",
        ")\n",
        "\n",
        "result_union = pw.sql(\"SELECT * FROM tab UNION SELECT * FROM tab2\", tab=t, tab2=t_union)\n",
        "pw.debug.compute_and_print(result_union)"
      ]
    },
    {
      "cell_type": "markdown",
      "id": "b01c2d71",
      "metadata": {},
      "source": [
        "### `INTERSECT`\n",
        "Pathway provides the standard `INTERSECT` SQL operator.\n",
        "Note that `INTERSECT` requires matching column names."
      ]
    },
    {
      "cell_type": "code",
      "execution_count": 14,
      "id": "d25c0bd1",
      "metadata": {
        "execution": {
          "iopub.execute_input": "2023-05-19T12:19:54.030443Z",
          "iopub.status.busy": "2023-05-19T12:19:54.030297Z",
          "iopub.status.idle": "2023-05-19T12:19:54.048679Z",
          "shell.execute_reply": "2023-05-19T12:19:54.048281Z"
        }
      },
      "outputs": [
        {
          "name": "stdout",
          "output_type": "stream",
          "text": [
            "            | a | b\n",
            "^KYCVNKF... | 1 | 2\n"
          ]
        }
      ],
      "source": [
        "t_inter = pw.debug.table_from_markdown(\n",
        "    \"\"\"\n",
        "    | a | b\n",
        " 4  | 9 | 3\n",
        " 5  | 2 | 7\n",
        " 6  | 1 | 2\n",
        " \"\"\"\n",
        ")\n",
        "\n",
        "result_inter = pw.sql(\"SELECT * FROM tab INTERSECT SELECT * FROM tab2\", tab=t, tab2=t_inter)\n",
        "pw.debug.compute_and_print(result_inter)"
      ]
    },
    {
      "cell_type": "markdown",
      "id": "7ea44836",
      "metadata": {},
      "source": [
        "\u26a0\ufe0f `INTERSECT` does not support `INTERSECT ALL` (coming soon)."
      ]
    },
    {
      "cell_type": "markdown",
      "id": "b6ced433",
      "metadata": {},
      "source": [
        "### `JOIN`\n",
        "Pathway provides different join operations: `INNER JOIN`, `LEFT JOIN` (or `LEFT OUTER JOIN`), `RIGHT JOIN` (or `RIGHT OUTER JOIN`), `SELF JOIN`, and `CROSS JOIN`."
      ]
    },
    {
      "cell_type": "code",
      "execution_count": 15,
      "id": "e861b796",
      "metadata": {
        "execution": {
          "iopub.execute_input": "2023-05-19T12:19:54.050209Z",
          "iopub.status.busy": "2023-05-19T12:19:54.050068Z",
          "iopub.status.idle": "2023-05-19T12:19:54.063248Z",
          "shell.execute_reply": "2023-05-19T12:19:54.062868Z"
        }
      },
      "outputs": [
        {
          "name": "stdout",
          "output_type": "stream",
          "text": [
            "            | a | b | c\n",
            "^J1AVR2S... | 4 | 3 | 4\n",
            "^8V184A9... | 4 | 7 | 5\n"
          ]
        }
      ],
      "source": [
        "t_join = pw.debug.table_from_markdown(\n",
        "    \"\"\"\n",
        "    | b | c\n",
        " 4  | 4 | 9\n",
        " 5  | 3 | 4\n",
        " 6  | 7 | 5\n",
        " \"\"\"\n",
        ")\n",
        "result_join = pw.sql(\"SELECT * FROM left_table INNER JOIN right_table ON left_table.b==right_table.b\", left_table=t, right_table=t_join)\n",
        "pw.debug.compute_and_print(result_join)"
      ]
    },
    {
      "cell_type": "markdown",
      "id": "afe65c17",
      "metadata": {},
      "source": [
        "\u26a0\ufe0f `GROUP BY` and `JOIN` should not be used together in a single `SELECT`."
      ]
    },
    {
      "cell_type": "markdown",
      "id": "7bc3cc3d",
      "metadata": {},
      "source": [
        "\u26a0\ufe0f `NATURAL JOIN` and `FULL JOIN` are not supported (coming soon)."
      ]
    },
    {
      "cell_type": "markdown",
      "id": "35babb91",
      "metadata": {},
      "source": [
        "### `WITH`\n",
        "In addition to being placed inside a `WHERE` clause, subqueries can also be performed using the `WITH` keyword:"
      ]
    },
    {
      "cell_type": "code",
      "execution_count": 16,
      "id": "8e9de817",
      "metadata": {
        "execution": {
          "iopub.execute_input": "2023-05-19T12:19:54.064642Z",
          "iopub.status.busy": "2023-05-19T12:19:54.064508Z",
          "iopub.status.idle": "2023-05-19T12:19:54.074363Z",
          "shell.execute_reply": "2023-05-19T12:19:54.074013Z"
        }
      },
      "outputs": [
        {
          "name": "stdout",
          "output_type": "stream",
          "text": [
            "            | sumB\n",
            "^YYY4HAB... | 2\n",
            "^3HN31E1... | 10\n"
          ]
        }
      ],
      "source": [
        "result_with = pw.sql(\"WITH group_table (a, sumB) AS (SELECT a, SUM(b) FROM tab GROUP BY a) SELECT sumB FROM group_table\", tab=t)\n",
        "pw.debug.compute_and_print(result_with)"
      ]
    },
    {
      "cell_type": "markdown",
      "id": "5532d1c7",
      "metadata": {},
      "source": [
        "## Differences from the SQL standard\n",
        "First of all, not all SQL queries can be executed in Pathway.\n",
        "This stems mainly from the fact that Pathway is built to process streaming and dynamic data efficiently.\n",
        "\n",
        "### No ordering\n",
        "In Pathway, indexes are separately generated and maintained by the engine, which does not guarantee any row order: SQL operations like `LIMIT`, `ORDER BY` or `SELECT TOP` don't always make sense in this context. In the future, we will support an `ORDER BY ... LIMIT ...` keyword combination, which is typically meaningful in Pathway.\n",
        "The column `id` is reserved and should not be used as a column name, this column is not captured by `*` expressions.\n",
        "\n",
        "Furthermore, there is no order on the columns and the column order used in a `SELECT` query need not be preserved.\n",
        "\n",
        "### Immutability\n",
        "Pathway tables are immutable: operations such as `INSERT INTO` are not supported.\n",
        "\n",
        "### Limits\n",
        "Correlated subqueries are currently not supported and keywords such as `LIKE`, `ANY`, `ALL`, or `EXISTS` are not supported.\n",
        "`COALESCE` and`IFNULL` are not supported but should be soon.\n",
        "We strongly suggest not to use anonymous columns: they might work but we cannot guarantee their behavior.\n",
        "\n",
        "## Conclusion\n",
        "Pathway provides a powerful API to ease the transition of SQL data transformations and pipelines into Pathway.\n",
        "However, Pathway and SQL serve different purposes. To benefit from all the possibilities Pathway has to offer we strongly encourage you to use the Python syntax directly, as much as you can. Most of the time, this syntax is at least as easy to follow as SQL - see for example our [join](/developers/documentation/table-operations/join-manual/) and [groupby](/developers/documentation/table-operations/groupby-reduce-manual/) manu[a]ls."
      ]
    }
  ],
  "metadata": {
    "jupytext": {
      "cell_metadata_filter": "-all",
      "main_language": "python",
      "notebook_metadata_filter": "-all"
    },
    "language_info": {
      "codemirror_mode": {
        "name": "ipython",
        "version": 3
      },
      "file_extension": ".py",
      "mimetype": "text/x-python",
      "name": "python",
      "nbconvert_exporter": "python",
      "pygments_lexer": "ipython3",
      "version": "3.10.8"
    }
  },
  "nbformat": 4,
  "nbformat_minor": 5
}