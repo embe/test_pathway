{
  "cells": [
    {
      "cell_type": "markdown",
      "metadata": {
        "id": "view-in-colab"
      },
      "source": [
        "<a href=\"https://colab.research.google.com/github/pathwaycom/pathway-examples/blob/main/documentation/transformer_tree_example_colab.ipynb\" target=\"_parent\"><img src=\"https://pathway.com/assets/colab-badge.svg\" alt=\"Run In Colab\" class=\"inline\"/></a>"
      ]
    },
    {
      "cell_type": "markdown",
      "source": [
        "# Setting up Python and Pathway\n",
        "\n",
        "Pathway can be installed to a Python 3.10 environment using pip, please register at https://pathway.com to get beta access to the package."
      ],
      "metadata": {
        "id": "notebook-instructions"
      }
    },
    {
      "cell_type": "markdown",
      "source": [
        "Insert the pip link:"
      ],
      "metadata": {
        "id": "pip-link"
      }
    },
    {
      "cell_type": "code",
      "source": [
        "PIP_PACKAGE_ADDRESS=\"\""
      ],
      "metadata": {
        "id": "pip-package-link"
      },
      "execution_count": null,
      "outputs": []
    },
    {
      "cell_type": "code",
      "source": [
        "if not PIP_PACKAGE_ADDRESS:\n",
        "    print(\n",
        "        \"\u26d4 Please register at https://pathway.com/developers/documentation/introduction/installation-and-first-steps\\n\"\n",
        "        \"To get the pip package installation link!\"\n",
        "    )"
      ],
      "metadata": {
        "id": "pip-package-selection"
      },
      "execution_count": null,
      "outputs": []
    },
    {
      "cell_type": "code",
      "source": [
        "if not (sys.version_info.major==3 and sys.version_info.minor==10):\n",
        "    raise Exception(\"Pathway is only built for Python 3.10 at the moment\")"
      ],
      "metadata": {
        "id": "check-py-version"
      },
      "execution_count": null,
      "outputs": []
    },
    {
      "cell_type": "code",
      "source": [
        "# Install pathway's package\n",
        "!pip install {PIP_PACKAGE_ADDRESS} 1>/dev/null 2>/dev/null"
      ],
      "metadata": {
        "id": "pip-install-pathway"
      },
      "execution_count": null,
      "outputs": []
    },
    {
      "cell_type": "markdown",
      "id": "ef7de9e8",
      "metadata": {},
      "source": [
        "# Implementing a tree using transformer classes\n",
        "A more advanced example on how transformer classes work by implementing a tree.\n",
        "\n",
        "Pathway's transformer class is a powerful tool to perform advanced operations on tables.\n",
        "In the following, we are going to show you how to use a transformer class to implement a tree and compute recursive operations on it.\n",
        "\n",
        "We strongly advise you to read our [introduction on transformer classes](https://pathway.com/developers/documentation/transformer-classes/transformer-intro) and the [simple examples](https://pathway.com/developers/documentation/transformer-classes/transformer-example) before reading further.\n",
        "\n",
        "## Pathway Data Structures \\& Algorithms 101: How to represent a Tree?\n",
        "\n",
        "Let's take a look at one of the simplest graph-like data structures: a tree. Let's encode tree nodes into a table with columns:\n",
        "\n",
        "1. Node ID\n",
        "2. A value `val` of integer type, stored in nodes of the tree.\n",
        "3. The node's parent ID - which can be Null for the root.\n",
        "\n",
        "To do this, in Pathway we write the following schema for the considered table (ID's are implicit and don't need to be defined)."
      ]
    },
    {
      "cell_type": "code",
      "execution_count": 1,
      "id": "004355e5",
      "metadata": {
        "execution": {
          "iopub.execute_input": "2022-12-15T08:40:29.650614Z",
          "iopub.status.busy": "2022-12-15T08:40:29.650405Z",
          "iopub.status.idle": "2022-12-15T08:40:30.717113Z",
          "shell.execute_reply": "2022-12-15T08:40:30.716620Z"
        },
        "lines_to_end_of_cell_marker": 2
      },
      "outputs": [],
      "source": [
        "from __future__ import annotations\n",
        "\n",
        "from typing import Optional\n",
        "\n",
        "import pathway as pw\n",
        "\n",
        "\n",
        "class Nodes(pw.Schema):\n",
        "    val: int\n",
        "    parent: Optional[Nodes]"
      ]
    },
    {
      "cell_type": "markdown",
      "id": "05c2155b",
      "metadata": {
        "lines_to_next_cell": 2
      },
      "source": [
        "## Transformer Classes acting on a single row\n",
        "\n",
        "We would now like to compute some basic statistics on the tree. For example, is a given node the root? In Python, this would follow through a simple row operation:\n",
        "\n",
        "```py\n",
        "    # We would want to add this logic as a \"method\" to the `nodes` schema\n",
        "\n",
        "    def is_root(self):\n",
        "        return self.parent is None\n",
        "```\n",
        "\n",
        "How to make a transformer which takes a table following the schema `nodes` and \"gives it\" the method above? The answer is a Transformer Class which acts on a single table argument called `nodes`, and adds the `is_root` logic as an output argument. We call our transformer `tree_node_roots`:"
      ]
    },
    {
      "cell_type": "code",
      "execution_count": 2,
      "id": "f46361c5",
      "metadata": {
        "execution": {
          "iopub.execute_input": "2022-12-15T08:40:30.719644Z",
          "iopub.status.busy": "2022-12-15T08:40:30.719309Z",
          "iopub.status.idle": "2022-12-15T08:40:30.722501Z",
          "shell.execute_reply": "2022-12-15T08:40:30.722204Z"
        }
      },
      "outputs": [],
      "source": [
        "@pw.transformer\n",
        "class tree_node_roots:\n",
        "    class nodes(pw.ClassArg, input=Nodes):\n",
        "        val = pw.input_attribute()\n",
        "        parent = pw.input_attribute()\n",
        "\n",
        "        @pw.output_attribute\n",
        "        def is_root(self):\n",
        "            return self.parent is None"
      ]
    },
    {
      "cell_type": "markdown",
      "id": "64a4de82",
      "metadata": {},
      "source": [
        "Let's provide a quick explanation of what happens here.\n",
        "We specify `Nodes` as input for the class `nodes` to enforce that the rows of the table are of type `Nodes`.\n",
        "We link the parameters of the class `nodes` to the ones of `Nodes` with the `pw.input_attribute()` function. Note that the names of the parameters (`val` and `parent` in our example) must be exactly the same as the column names of the input table.\n",
        "Finally, we declare the different columns of our resulting table using the annotation `pw.output_attribute` on different functions. Each function defines a column in the output table and the value of the function is going to be used to as the value: the name of the function defines the name of the column.\n",
        "\n",
        "We can now use `tree_node_roots` as a transformer, and call `tree_node_roots(TN)` for a table `TN` of nodes to get the required output columns, just as we would for any other transformer."
      ]
    },
    {
      "cell_type": "code",
      "execution_count": 3,
      "id": "49e0c99f",
      "metadata": {
        "execution": {
          "iopub.execute_input": "2022-12-15T08:40:30.724162Z",
          "iopub.status.busy": "2022-12-15T08:40:30.723941Z",
          "iopub.status.idle": "2022-12-15T08:40:30.736307Z",
          "shell.execute_reply": "2022-12-15T08:40:30.735995Z"
        },
        "lines_to_end_of_cell_marker": 2
      },
      "outputs": [
        {
          "name": "stdout",
          "output_type": "stream",
          "text": [
            "            | val | parent_label | parent\n",
            "^8JFNKVV... | 0   |              |\n",
            "^2TMTFGY... | 1   | 0            | ^8JFNKVV...\n",
            "^YHZBTNY... | 2   | 0            | ^8JFNKVV...\n",
            "^SERVYWW... | 3   | 1            | ^2TMTFGY...\n",
            "^8GR6BSX... | 4   | 1            | ^2TMTFGY...\n",
            "^76QPWK3... | 5   | 2            | ^YHZBTNY...\n",
            "^C4S6S48... | 6   | 2            | ^YHZBTNY...\n",
            "            | is_root\n",
            "^YHZBTNY... | False\n",
            "^2TMTFGY... | False\n",
            "^76QPWK3... | False\n",
            "^8GR6BSX... | False\n",
            "^SERVYWW... | False\n",
            "^C4S6S48... | False\n",
            "^8JFNKVV... | True\n"
          ]
        }
      ],
      "source": [
        "tree = pw.debug.table_from_markdown(\n",
        "    \"\"\"\n",
        "    | val | parent_label\n",
        " 0  | 0    |\n",
        " 1  | 1    | 0\n",
        " 2  | 2    | 0\n",
        " 3  | 3    | 1\n",
        " 4  | 4    | 1\n",
        " 5  | 5    | 2\n",
        " 6  | 6    | 2\n",
        " \"\"\"\n",
        ")\n",
        "tree += tree.select(parent=tree.pointer_from(tree.parent_label, optional=True))\n",
        "pw.debug.compute_and_print(tree)\n",
        "\n",
        "result = tree_node_roots(tree).nodes\n",
        "pw.debug.compute_and_print(result)"
      ]
    },
    {
      "cell_type": "markdown",
      "id": "d1bda73e",
      "metadata": {
        "lines_to_next_cell": 2
      },
      "source": [
        "## Transformer Classes acting on multiple rows\n",
        "\n",
        "Now, let's try something which shows the power of Pathway a bit more. Suppose you would like to see how many steps away a node is from its root. Let's call this the `level` of a node. How would we compute this?\n",
        "\n",
        "Logically, the `level` of a node is higher by 1 unit than the `level` of its parent. So, the solution can be obtained by recursion.\n",
        "\n",
        "Recursion is perhaps something you would think twice about before [attempting in SQL](https://medium.com/swlh/recursion-in-sql-explained-graphically-679f6a0f143b). In Pathway, recursion is natively supported, and efficient to use where the \"recursion stack\" does not change much for old data rows as new data arrives.\n",
        "\n",
        "The transformer which does just what we want is provided below."
      ]
    },
    {
      "cell_type": "code",
      "execution_count": 4,
      "id": "60135e19",
      "metadata": {
        "execution": {
          "iopub.execute_input": "2022-12-15T08:40:30.737881Z",
          "iopub.status.busy": "2022-12-15T08:40:30.737713Z",
          "iopub.status.idle": "2022-12-15T08:40:30.740582Z",
          "shell.execute_reply": "2022-12-15T08:40:30.740283Z"
        }
      },
      "outputs": [],
      "source": [
        "@pw.transformer\n",
        "class tree_node_roots_and_levels:\n",
        "    class nodes(pw.ClassArg, input=Nodes):\n",
        "        val = pw.input_attribute()\n",
        "        parent = pw.input_attribute()\n",
        "\n",
        "        @pw.output_attribute\n",
        "        def is_root(self):\n",
        "            return self.parent is None\n",
        "\n",
        "        @pw.output_attribute\n",
        "        def level(self):\n",
        "            if self.is_root:\n",
        "                return 0\n",
        "            else:\n",
        "                return 1 + self.transformer.nodes[self.parent].level"
      ]
    },
    {
      "cell_type": "markdown",
      "id": "21e56066",
      "metadata": {},
      "source": [
        "Most of the logic is contained in the final line, `1 + self.transformer.nodes[self.parent].level`.\n",
        "\n",
        "We obtain the following table:"
      ]
    },
    {
      "cell_type": "code",
      "execution_count": 5,
      "id": "b7cfdb53",
      "metadata": {
        "execution": {
          "iopub.execute_input": "2022-12-15T08:40:30.742135Z",
          "iopub.status.busy": "2022-12-15T08:40:30.741897Z",
          "iopub.status.idle": "2022-12-15T08:40:30.748562Z",
          "shell.execute_reply": "2022-12-15T08:40:30.748251Z"
        }
      },
      "outputs": [
        {
          "name": "stdout",
          "output_type": "stream",
          "text": [
            "            | is_root | level\n",
            "^YHZBTNY... | False   | 1\n",
            "^2TMTFGY... | False   | 1\n",
            "^76QPWK3... | False   | 2\n",
            "^8GR6BSX... | False   | 2\n",
            "^SERVYWW... | False   | 2\n",
            "^C4S6S48... | False   | 2\n",
            "^8JFNKVV... | True    | 0\n"
          ]
        }
      ],
      "source": [
        "result = tree_node_roots_and_levels(tree).nodes\n",
        "pw.debug.compute_and_print(result)"
      ]
    },
    {
      "cell_type": "markdown",
      "id": "0d0f986e",
      "metadata": {},
      "source": [
        "A small side note: you might simply have wanted to write here `1 + self.parent.level` instead, however, this would be missing information about the table that `self.parent` lives in. This table is identified through `self.transformer.nodes`.\n",
        "\n",
        "Though making the syntax a bit more verbose, identifying objects through both a table, and a row identifier, helps to avoid confusion.\n",
        "\n",
        "You will see why this is useful in this [article](https://pathway.com/developers/documentation/transformer-classes/transformer-example) where we introduce Transformer Classes that use not just one, but two or more arguments. These will allow us to work with a `matchings` table and a `profiles` table, indicating a pair of nodes for which the required computation should be performed.\n",
        "\n",
        "\n",
        "## Conclusion\n",
        "\n",
        "In this guide, you learned how to write a transformer classes building a tree and computing some basic operations on that tree. This is useful for defining row-based logic for tables, oblivious of the fact that we are operating on top of data streams.\n",
        "You take a look at our [tour of Pathway's transformers](https://pathway.com/developers/documentation/transformer-classes/transformer-example) in which you will find a list of examples of transformers.\n",
        "\n",
        "You can also check our [connectors](https://pathway.com/developers/documentation/input-and-output-streams/connectors) to connect you data into Pathway."
      ]
    }
  ],
  "metadata": {
    "jupytext": {
      "cell_metadata_filter": "-all"
    },
    "kernelspec": {
      "display_name": "Python 3 (ipykernel)",
      "language": "python",
      "name": "python3"
    },
    "language_info": {
      "codemirror_mode": {
        "name": "ipython",
        "version": 3
      },
      "file_extension": ".py",
      "mimetype": "text/x-python",
      "name": "python",
      "nbconvert_exporter": "python",
      "pygments_lexer": "ipython3",
      "version": "3.10.6"
    }
  },
  "nbformat": 4,
  "nbformat_minor": 5
}