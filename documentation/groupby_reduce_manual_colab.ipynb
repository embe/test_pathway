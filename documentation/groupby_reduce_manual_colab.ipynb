{
  "cells": [
    {
      "cell_type": "markdown",
      "source": [
        "# [Colab-specific] Setting up Python and Pathway\n",
        "\n",
        "> Colab heads-up!!!\n",
        ">\n",
        "> Pathway requires Python >=3.8 and works best with Python 3.10, while Google Colab ships with Python 3.7 by default.\n",
        ">\n",
        "> In the cells below we install Python 3.10 and then switch to it, but the process requires that you refresh the page in your browser!\n",
        "> Please:\n",
        "> 1. Saves the file first, before running any cell.\n",
        "> 2. **Insert in the form the pip link** given to you with your beta access.\n",
        "> 3. Run the first three cells, disregard the unrecognized runtime warning. **The installation and loading time is about 2 minutes**.\n",
        "> 4. **Refresh the colab page and run cell #4.** Now the warning should disappear and the python version should be Python 3.10.\n",
        "\n",
        "\n",
        "Outside Colab, Pathway can be installed to a Python 3.10 environment using pip, please register at https://pathway.com to get beta access to the package."
      ],
      "metadata": {
        "id": "colab-instructions"
      }
    },
    {
      "cell_type": "markdown",
      "source": [
        "Insert the pip link:"
      ],
      "metadata": {
        "id": "pip-link"
      }
    },
    {
      "cell_type": "code",
      "source": [
        "#@title Insert pathway wheel link\n",
        "PIP_PACKAGE_ADDRESS='' #@param {type:\"string\"}"
      ],
      "metadata": {
        "id": "pip-package-form"
      },
      "execution_count": null,
      "outputs": []
    },
    {
      "cell_type": "code",
      "source": [
        "#@title\n",
        "if not PIP_PACKAGE_ADDRESS:\n",
        "    print(\n",
        "        \"\u26d4 Please register at https://pathway.com/developers/documentation/introduction/installation-and-first-steps\\n\"\n",
        "        \"To get the pip package installation link!\"\n",
        "    )"
      ],
      "metadata": {
        "id": "pip-package-selection",
        "cellView": "form"
      },
      "execution_count": null,
      "outputs": []
    },
    {
      "cell_type": "code",
      "metadata": {
        "id": "colab-env-install",
        "colab": {
          "base_uri": "https://localhost:8080/"
        },
        "outputId": "30a3baa7-5cb4-40f5-ac12-921eba4b25f8",
        "cellView": "form"
      },
      "source": [
        "#@title\n",
        "![ -d /usr/local/lib/python3.10/site-packages/pathway ] || echo \"Installing Python 3.10 and pathway, restart the notebook once this cells executes\"\n",
        "![ -d /usr/local/lib/python3.10/site-packages/pathway ] || wget -O mini.sh https://github.com/conda-forge/miniforge/releases/download/22.9.0-1/Mambaforge-22.9.0-1-Linux-x86_64.sh 1>/dev/null 2>/dev/null\n",
        "![ -d /usr/local/lib/python3.10/site-packages/pathway ] || chmod +x mini.sh 1>/dev/null 2>/dev/null\n",
        "![ -d /usr/local/lib/python3.10/site-packages/pathway ] || bash ./mini.sh -b -f -p /usr/local 1>/dev/null 2>/dev/null\n",
        "![ -d /usr/local/lib/python3.10/site-packages/pathway ] || mamba install -q -y -c conda-forge jupyter google-colab  1>/dev/null 2>/dev/null\n",
        "![ -d /usr/local/lib/python3.10/site-packages/pathway ] || python -m ipykernel install --name \"py310\" --user 1>/dev/null 2>/dev/null\n",
        "![ -d /usr/local/lib/python3.10/site-packages/pathway ] || pip install {PIP_PACKAGE_ADDRESS} 1>/dev/null 2>/dev/null\n",
        "![ -d /usr/local/lib/python3.10/site-packages/pathway ] && echo \"\u2705 Pathway installed\""
      ],
      "execution_count": null,
      "outputs": [
        {
          "output_type": "stream",
          "name": "stdout",
          "text": [
            "Pathway installed\n"
          ]
        }
      ]
    },
    {
      "cell_type": "code",
      "metadata": {
        "id": "colab-reload",
        "outputId": "f0e45a04-0b52-4699-fd04-680980f3df92",
        "colab": {
          "base_uri": "https://localhost:8080/"
        }
      },
      "source": [
        "# Reload the web page and execute this cell\n",
        "import sys\n",
        "print(\"User Current Version:-\", sys.version)\n",
        "if (sys.version_info[0]>=3 and sys.version_info[1]>=10):\n",
        "    print(\"\u2705 Correct version\")\n",
        "else:\n",
        "    print(\"\u26d4 Something went wrong, try to refresh the page or restart the installation.\")"
      ],
      "execution_count": 3,
      "outputs": [
        {
          "output_type": "stream",
          "name": "stdout",
          "text": [
            "User Current Version:- 3.10.6 | packaged by conda-forge | (main, Aug 22 2022, 20:36:39) [GCC 10.4.0]\n"
          ]
        }
      ]
    },
    {
      "cell_type": "markdown",
      "id": "8279ce22",
      "metadata": {},
      "source": [
        "# Groupby - Reduce\n",
        "In this manu[a]l, you will learn how to aggregate data with the groupby-reduce scheme.\n",
        "\n",
        "Together, the `groupby` and `reduce` operations can be used\n",
        "to **aggregate data across the rows of the table**. In this guide,\n",
        "we expand upon a simple demonstration from\n",
        "[Survival Guide](https://pathway.com/developers/documentation/table-operations/survival-guide)\n",
        "and :\n",
        "* explain syntax of [groupby](#groupby-syntax) and [reduce](#reduce-syntax)\n",
        "* explain [two kinds of columns we get from groupby](#groupby-reduce-column-constrains)\n",
        "* explain [automatic id generation](#auto-generated-id)\n",
        "* show [a few simple applications](#more-examples)"
      ]
    },
    {
      "cell_type": "markdown",
      "id": "efe1381d",
      "metadata": {},
      "source": [
        "## Prerequisites\n",
        "The assumption is that we are familiar with some basic operations\n",
        "explained in [Survival Guide](https://pathway.com/developers/documentation/table-operations/survival-guide).\n",
        "As usual, we begin with importing Pathway."
      ]
    },
    {
      "cell_type": "code",
      "execution_count": 1,
      "id": "7cb6c578",
      "metadata": {
        "execution": {
          "iopub.execute_input": "2022-12-20T15:22:33.650974Z",
          "iopub.status.busy": "2022-12-20T15:22:33.650793Z",
          "iopub.status.idle": "2022-12-20T15:22:34.654043Z",
          "shell.execute_reply": "2022-12-20T15:22:34.653462Z"
        }
      },
      "outputs": [],
      "source": [
        "import pathway as pw"
      ]
    },
    {
      "cell_type": "markdown",
      "id": "26ee9d91",
      "metadata": {
        "lines_to_next_cell": 2
      },
      "source": [
        "To demonstrate the capabilities of groupby and reduce operations,\n",
        "let us consider some made up scenario.\n",
        "\n",
        "**Storyline:** let's assume that we made a poll, asking whether particular food item is a fruit or a vegetable.\n",
        "\n",
        "An answer to such question is a tuple `(food_item, label, vote, fractional_vote)`.\n",
        "That is, if someone could tell that tomato is a fruit, but they are not really sure,\n",
        "it could be registered as two tuples:\n",
        "\n",
        "* (tomato, fruit, 1, 0.5),\n",
        "\n",
        "* (tomato, vegetable, 0, 0.5)\n",
        "\n",
        "Below, we have the results of the poll, stored in the table *poll*."
      ]
    },
    {
      "cell_type": "code",
      "execution_count": 2,
      "id": "a239076d",
      "metadata": {
        "execution": {
          "iopub.execute_input": "2022-12-20T15:22:34.657360Z",
          "iopub.status.busy": "2022-12-20T15:22:34.656976Z",
          "iopub.status.idle": "2022-12-20T15:22:34.667803Z",
          "shell.execute_reply": "2022-12-20T15:22:34.667289Z"
        }
      },
      "outputs": [],
      "source": [
        "poll = pw.debug.table_from_markdown(\n",
        "    \"\"\"\n",
        "    | food_item | label     | vote  | fractional_vote   | time\n",
        "0   | tomato    | fruit     | 1     | 0.5               | 1669882728\n",
        "1   | tomato    | vegetable | 0     | 0.5               | 1669882728\n",
        "2   | apple     | fruit     | 1     | 1                 | 1669883612\n",
        "3   | apple     | vegetable | 0     | 0                 | 1669883612\n",
        "4   | pepper    | vegetable | 1     | 0.5               | 1669883059\n",
        "5   | pepper    | fruit     | 0     | 0.5               | 1669883059\n",
        "6   | tomato    | fruit     | 0     | 0.3               | 1669880159\n",
        "7   | tomato    | vegetable | 1     | 0.7               | 1669880159\n",
        "8   | corn      | fruit     | 0     | 0.3               | 1669876829\n",
        "9   | corn      | vegetable | 1     | 0.7               | 1669876829\n",
        "10  | tomato    | fruit     | 0     | 0.4               | 1669874325\n",
        "11  | tomato    | vegetable | 1     | 0.6               | 1669874325\n",
        "12  | pepper    | fruit     | 0     | 0.45              | 1669887207\n",
        "13  | pepper    | vegetable | 1     | 0.55              | 1669887207\n",
        "14  | apple     | fruit     | 1     | 1                 | 1669874325\n",
        "15  | apple     | vegetable | 0     | 0                 | 1669874325\n",
        "\n",
        "\"\"\"\n",
        ")"
      ]
    },
    {
      "cell_type": "markdown",
      "id": "00caa785",
      "metadata": {},
      "source": [
        "To demonstrate a simple groupby-reduce application, let's ask about\n",
        "the total `fractional_vote` that was assigned to any combination `foot_item`, `label`.\n",
        "\n",
        "\n",
        "First we explain the syntax of both [`groupby`](#groupby-syntax) and [`reduce`](#reduce-syntax).\n",
        "Then, we show groupby-reduce code in [action](#groupby-reduce-simple-example)."
      ]
    },
    {
      "cell_type": "markdown",
      "id": "5a143eaa",
      "metadata": {},
      "source": [
        "## Groupby Syntax\n",
        "The syntax of the `groupby` operation is fairly simple:"
      ]
    },
    {
      "cell_type": "code",
      "execution_count": 3,
      "id": "e2b80ee5",
      "metadata": {
        "execution": {
          "iopub.execute_input": "2022-12-20T15:22:34.670599Z",
          "iopub.status.busy": "2022-12-20T15:22:34.670331Z",
          "iopub.status.idle": "2022-12-20T15:22:34.673888Z",
          "shell.execute_reply": "2022-12-20T15:22:34.673410Z"
        }
      },
      "outputs": [],
      "source": [
        "table.groupby(*C)"
      ]
    },
    {
      "cell_type": "markdown",
      "id": "acd69bf3",
      "metadata": {},
      "source": [
        "\n",
        "It takes a list of columns `*C` as argument and groups the row according to their values in those columns.\n",
        "In other words, all the rows with the same values, column-wise, in each column of `*C` are put into the same group.\n",
        "\n",
        "As a result, it returns a `GroupedTable` object, which stores\n",
        "a single row for each unique tuple from columns in `*C` and a collection\n",
        "of grouped items corresponding to each column that is not in `*C`.\n",
        "\n",
        "In the example above, if we groupby over pair of columns `food_item`, `label`,\n",
        "the groupby computes a collection of `votes` and a collection of `fractional_votes`\n",
        "for each unique combination `food_item`, `label`.\n",
        "\n",
        "In order to use this object, we need to process those collections\n",
        "with the `reduce` operation.\n",
        "\n",
        "## Reduce Syntax\n",
        "The `reduce` function behaves a little bit like `select`, and it also takes\n",
        "two kinds of arguments:"
      ]
    },
    {
      "cell_type": "code",
      "execution_count": 4,
      "id": "d0665c2b",
      "metadata": {
        "execution": {
          "iopub.execute_input": "2022-12-20T15:22:34.676277Z",
          "iopub.status.busy": "2022-12-20T15:22:34.676017Z",
          "iopub.status.idle": "2022-12-20T15:22:34.678504Z",
          "shell.execute_reply": "2022-12-20T15:22:34.678009Z"
        }
      },
      "outputs": [],
      "source": [
        "grouped_table.reduce(*SC, *NC)"
      ]
    },
    {
      "cell_type": "markdown",
      "id": "7bdec5d9",
      "metadata": {},
      "source": [
        "* *SC is simply a list of columns that were present in the table before the groupby\n",
        "operation,\n",
        "* *NC is a list of new columns (i.e. columns with new name), each defined as\n",
        "some function of cells in the row of grouped_table.\n",
        "\n",
        "It can be used together with groupby, as follows:"
      ]
    },
    {
      "cell_type": "code",
      "execution_count": 5,
      "id": "21e72cd9",
      "metadata": {
        "execution": {
          "iopub.execute_input": "2022-12-20T15:22:34.680950Z",
          "iopub.status.busy": "2022-12-20T15:22:34.680685Z",
          "iopub.status.idle": "2022-12-20T15:22:34.683237Z",
          "shell.execute_reply": "2022-12-20T15:22:34.682686Z"
        }
      },
      "outputs": [],
      "source": [
        "table.groupby(*C).reduce(*SC, *NC)"
      ]
    },
    {
      "cell_type": "markdown",
      "id": "4bdcabad",
      "metadata": {},
      "source": [
        "The main difference between `reduce` and `select` is that each row of `grouped_table`\n",
        "has two kinds of entries, simple cells and groups.\n",
        "\n",
        "The `reduce` operation allows us to apply a reducer to transform a group into a value.\n",
        "\n",
        "## Counting Votes With Groupby-Reduce\n",
        "Below, you can see an example that uses the `sum` reducer to compute the sum of all\n",
        "votes and the sum of all fractional votes."
      ]
    },
    {
      "cell_type": "code",
      "execution_count": 6,
      "id": "02f58594",
      "metadata": {
        "execution": {
          "iopub.execute_input": "2022-12-20T15:22:34.685175Z",
          "iopub.status.busy": "2022-12-20T15:22:34.684999Z",
          "iopub.status.idle": "2022-12-20T15:22:34.690775Z",
          "shell.execute_reply": "2022-12-20T15:22:34.690457Z"
        }
      },
      "outputs": [
        {
          "name": "stdout",
          "output_type": "stream",
          "text": [
            "            | food_item | label     | total_votes | total_fractional_vote\n",
            "^NDDC1CV... | apple     | fruit     | 2           | 2.0\n",
            "^0QWZR64... | apple     | vegetable | 0           | 0.0\n",
            "^EY2V9JZ... | corn      | fruit     | 0           | 0.3\n",
            "^SYKEK0R... | corn      | vegetable | 1           | 0.7\n",
            "^8J0ZA4Z... | pepper    | fruit     | 0           | 0.95\n",
            "^6FVPERH... | pepper    | vegetable | 2           | 1.05\n",
            "^PJ7D6BC... | tomato    | fruit     | 1           | 1.2\n",
            "^JYAGRWY... | tomato    | vegetable | 2           | 1.8\n"
          ]
        }
      ],
      "source": [
        "aggregated_results = poll.groupby(poll.food_item, poll.label).reduce(\n",
        "    poll.food_item,\n",
        "    poll.label,\n",
        "    total_votes=pw.reducers.sum(poll.vote),\n",
        "    total_fractional_vote=pw.reducers.sum(poll.fractional_vote),\n",
        ")\n",
        "\n",
        "pw.debug.compute_and_print(aggregated_results)\n"
      ]
    },
    {
      "cell_type": "markdown",
      "id": "8d6a7653",
      "metadata": {},
      "source": [
        "## Groupby-Reduce Column Constraints\n",
        "To briefly summarize, if $T$ is the set of all columns of a table\n",
        "* the columns from $C$ (used as comparison key) can be used as regular columns in the reduce function\n",
        "* for all the remaining columns (in $T \\setminus C$), we need to apply a reducer, before we use them in expressions\n",
        "\n",
        "In particular, we can mix columns from $C$ and reduced columns from $T \\setminus C$ in column expressions."
      ]
    },
    {
      "cell_type": "code",
      "execution_count": 7,
      "id": "1ba55575",
      "metadata": {
        "execution": {
          "iopub.execute_input": "2022-12-20T15:22:34.692367Z",
          "iopub.status.busy": "2022-12-20T15:22:34.692150Z",
          "iopub.status.idle": "2022-12-20T15:22:34.697500Z",
          "shell.execute_reply": "2022-12-20T15:22:34.697186Z"
        }
      },
      "outputs": [
        {
          "name": "stdout",
          "output_type": "stream",
          "text": [
            "            | food_item | note\n",
            "^NDDC1CV... | apple     | fruit got 2 votes, with total fractional_vote of 2.0\n",
            "^0QWZR64... | apple     | vegetable got 0 votes, with total fractional_vote of 0.0\n",
            "^EY2V9JZ... | corn      | fruit got 0 votes, with total fractional_vote of 0.3\n",
            "^SYKEK0R... | corn      | vegetable got 1 votes, with total fractional_vote of 0.7\n",
            "^8J0ZA4Z... | pepper    | fruit got 0 votes, with total fractional_vote of 0.95\n",
            "^6FVPERH... | pepper    | vegetable got 2 votes, with total fractional_vote of 1.05\n",
            "^PJ7D6BC... | tomato    | fruit got 1 votes, with total fractional_vote of 1.2\n",
            "^JYAGRWY... | tomato    | vegetable got 2 votes, with total fractional_vote of 1.8\n"
          ]
        }
      ],
      "source": [
        "def make_a_note(label: str, tot_votes: int, tot_fractional_vote: float):\n",
        "    return f\"{label} got {tot_votes} votes, with total fractional_vote of {round(tot_fractional_vote, 2)}\"\n",
        "\n",
        "\n",
        "aggregated_results_note = poll.groupby(poll.food_item, poll.label).reduce(\n",
        "    poll.food_item,\n",
        "    note=pw.apply(\n",
        "        make_a_note,\n",
        "        poll.label,\n",
        "        pw.reducers.sum(poll.vote),\n",
        "        pw.reducers.sum(poll.fractional_vote),\n",
        "    ),\n",
        ")\n",
        "\n",
        "pw.debug.compute_and_print(aggregated_results_note)"
      ]
    },
    {
      "cell_type": "markdown",
      "id": "f6eec84d",
      "metadata": {},
      "source": [
        "## Auto generated id\n",
        "The `groupby(*C).reduce(...)` operation guarantees that each row of the\n",
        "output corresponds to a unique tuple of values from *C. Therefore *C\n",
        "can be used to generate a unique id for the resulting table.\n",
        "\n",
        "In fact that is the default behavior of Pathway's groupby operation and can be used e.g. to\n",
        "join the results of this table with some other table that has this id as a foreign key."
      ]
    },
    {
      "cell_type": "code",
      "execution_count": 8,
      "id": "3e2b2e43",
      "metadata": {
        "execution": {
          "iopub.execute_input": "2022-12-20T15:22:34.699041Z",
          "iopub.status.busy": "2022-12-20T15:22:34.698855Z",
          "iopub.status.idle": "2022-12-20T15:22:34.707813Z",
          "shell.execute_reply": "2022-12-20T15:22:34.707492Z"
        }
      },
      "outputs": [
        {
          "name": "stdout",
          "output_type": "stream",
          "text": [
            "            | food_item | note\n",
            "^SYKEK0R... | corn      | vegetable got 1 votes, with total fractional_vote of 0.7\n",
            "^6FVPERH... | pepper    | vegetable got 2 votes, with total fractional_vote of 1.05\n",
            "^PJ7D6BC... | tomato    | fruit got 1 votes, with total fractional_vote of 1.2\n"
          ]
        }
      ],
      "source": [
        "queries = pw.debug.table_from_markdown(\n",
        "    \"\"\"\n",
        "    | food_item | label\n",
        "1   | tomato    | fruit\n",
        "2   | pepper    | vegetable\n",
        "3   | corn      | vegetable\n",
        "\n",
        "\"\"\"\n",
        ").with_id_from(pw.this.food_item, pw.this.label)\n",
        "\n",
        "pw.debug.compute_and_print(\n",
        "    queries.join(\n",
        "        aggregated_results_note, queries.id == aggregated_results_note.id, id=queries.id\n",
        "    ).select(queries.food_item, aggregated_results_note.note)\n",
        ")"
      ]
    },
    {
      "cell_type": "markdown",
      "id": "f0ee9be2",
      "metadata": {},
      "source": [
        "More examples of joins (including another example of a join over a foreign key)\n",
        "can be found in the join manual ([full article](https://pathway.com/developers/documentation/table-operations/join-manual), [foreign key example](https://pathway.com/developers/documentation/table-operations/join-manual#joins-on-a-foreign-key)).\n"
      ]
    },
    {
      "cell_type": "markdown",
      "id": "3e201539",
      "metadata": {},
      "source": [
        "## More Examples\n",
        "### Recent activity with max reducer\n",
        "Below, we show a piece of code that finds the latest votes that were submitted to our poll.\n",
        "It is done with `groupby`-`reduce` operations chained with `join` and `filter`, using `pw.this`.\n",
        "\n"
      ]
    },
    {
      "cell_type": "code",
      "execution_count": 9,
      "id": "87efca3b",
      "metadata": {
        "execution": {
          "iopub.execute_input": "2022-12-20T15:22:34.709473Z",
          "iopub.status.busy": "2022-12-20T15:22:34.709245Z",
          "iopub.status.idle": "2022-12-20T15:22:34.717976Z",
          "shell.execute_reply": "2022-12-20T15:22:34.717651Z"
        }
      },
      "outputs": [
        {
          "name": "stdout",
          "output_type": "stream",
          "text": [
            "            | food_item | label     | vote | fractional_vote\n",
            "^YHZBTNY... | apple     | fruit     | 1    | 1.0\n",
            "^SERVYWW... | apple     | vegetable | 0    | 0.0\n",
            "^4B2REY1... | pepper    | fruit     | 0    | 0.45\n",
            "^76QPWK3... | pepper    | fruit     | 0    | 0.5\n",
            "^8GR6BSX... | pepper    | vegetable | 1    | 0.5\n",
            "^VYA37VV... | pepper    | vegetable | 1    | 0.55\n",
            "^C4S6S48... | tomato    | fruit     | 0    | 0.3\n",
            "^8JFNKVV... | tomato    | fruit     | 1    | 0.5\n",
            "^2TMTFGY... | tomato    | vegetable | 0    | 0.5\n",
            "^19D0FQ9... | tomato    | vegetable | 1    | 0.7\n"
          ]
        }
      ],
      "source": [
        "hour = 3600\n",
        "pw.debug.compute_and_print(\n",
        "    poll.groupby()\n",
        "    .reduce(time=pw.reducers.max(poll.time))\n",
        "    .join(poll, id=poll.id)\n",
        "    .select(\n",
        "        poll.food_item,\n",
        "        poll.label,\n",
        "        poll.vote,\n",
        "        poll.fractional_vote,\n",
        "        poll.time,\n",
        "        latest=pw.left.time,\n",
        "    )\n",
        "    .filter(pw.this.time >= pw.this.latest - 2 * hour)\n",
        "    .select(\n",
        "        pw.this.food_item,\n",
        "        pw.this.label,\n",
        "        pw.this.vote,\n",
        "        pw.this.fractional_vote,\n",
        "    )\n",
        ")"
      ]
    },
    {
      "cell_type": "markdown",
      "id": "cae10c58",
      "metadata": {},
      "source": [
        "### Removing duplicates\n",
        "Below, we show how can we remove duplicates from table with groupby-reduce.\n",
        "On its own, selecting `food_item` and `label` from poll returns duplicate rows:"
      ]
    },
    {
      "cell_type": "code",
      "execution_count": 10,
      "id": "801657ec",
      "metadata": {
        "execution": {
          "iopub.execute_input": "2022-12-20T15:22:34.719447Z",
          "iopub.status.busy": "2022-12-20T15:22:34.719315Z",
          "iopub.status.idle": "2022-12-20T15:22:34.726073Z",
          "shell.execute_reply": "2022-12-20T15:22:34.725751Z"
        }
      },
      "outputs": [
        {
          "name": "stdout",
          "output_type": "stream",
          "text": [
            "            | food_item | label\n",
            "^SE0WWPZ... | apple     | fruit\n",
            "^YHZBTNY... | apple     | fruit\n",
            "^NN09ZJR... | apple     | vegetable\n",
            "^SERVYWW... | apple     | vegetable\n",
            "^7ZG1GY6... | corn      | fruit\n",
            "^4A5S1JN... | corn      | vegetable\n",
            "^4B2REY1... | pepper    | fruit\n",
            "^76QPWK3... | pepper    | fruit\n",
            "^VYA37VV... | pepper    | vegetable\n",
            "^8GR6BSX... | pepper    | vegetable\n",
            "^8JFNKVV... | tomato    | fruit\n",
            "^C4S6S48... | tomato    | fruit\n",
            "^4N5HNMX... | tomato    | fruit\n",
            "^19D0FQ9... | tomato    | vegetable\n",
            "^2TMTFGY... | tomato    | vegetable\n",
            "^HMETZT8... | tomato    | vegetable\n"
          ]
        }
      ],
      "source": [
        "pw.debug.compute_and_print(poll.select(poll.food_item, poll.label))"
      ]
    },
    {
      "cell_type": "markdown",
      "id": "37d60e2c",
      "metadata": {},
      "source": [
        "However, we can apply groupby-reduce to select a set of unique rows:"
      ]
    },
    {
      "cell_type": "code",
      "execution_count": 11,
      "id": "7f0d29de",
      "metadata": {
        "execution": {
          "iopub.execute_input": "2022-12-20T15:22:34.727744Z",
          "iopub.status.busy": "2022-12-20T15:22:34.727460Z",
          "iopub.status.idle": "2022-12-20T15:22:34.734733Z",
          "shell.execute_reply": "2022-12-20T15:22:34.734405Z"
        },
        "lines_to_next_cell": 2
      },
      "outputs": [
        {
          "name": "stdout",
          "output_type": "stream",
          "text": [
            "            | food_item | label\n",
            "^NDDC1CV... | apple     | fruit\n",
            "^0QWZR64... | apple     | vegetable\n",
            "^EY2V9JZ... | corn      | fruit\n",
            "^SYKEK0R... | corn      | vegetable\n",
            "^8J0ZA4Z... | pepper    | fruit\n",
            "^6FVPERH... | pepper    | vegetable\n",
            "^PJ7D6BC... | tomato    | fruit\n",
            "^JYAGRWY... | tomato    | vegetable\n"
          ]
        }
      ],
      "source": [
        "pw.debug.compute_and_print(\n",
        "    poll.groupby(poll.food_item, poll.label).reduce(poll.food_item, poll.label)\n",
        ")"
      ]
    },
    {
      "cell_type": "markdown",
      "id": "66d471d1",
      "metadata": {},
      "source": [
        "### Chained groupby-reduce-join-select\n",
        "Below, you can find an example of groupby - reduce chained with join -select,\n",
        "using `pw.this`.\n",
        "\n",
        "To demonstrate that, we can ask our poll about total fractional vote for each pair\n",
        "`food_item`, `label` and total fractional vote assigned to rows for each `food_item`."
      ]
    },
    {
      "cell_type": "code",
      "execution_count": 12,
      "id": "12efab33",
      "metadata": {
        "execution": {
          "iopub.execute_input": "2022-12-20T15:22:34.736306Z",
          "iopub.status.busy": "2022-12-20T15:22:34.736082Z",
          "iopub.status.idle": "2022-12-20T15:22:34.744964Z",
          "shell.execute_reply": "2022-12-20T15:22:34.744638Z"
        }
      },
      "outputs": [
        {
          "name": "stdout",
          "output_type": "stream",
          "text": [
            "            | food_item | label     | label_fractional_vote | total_fractional_vote\n",
            "^D5KPC8X... | apple     | fruit     | 2.0                   | 2.0\n",
            "^E97ATBC... | apple     | vegetable | 0.0                   | 2.0\n",
            "^VS2ZSXQ... | corn      | fruit     | 0.3                   | 1.0\n",
            "^GJJGT7Z... | corn      | vegetable | 0.7                   | 1.0\n",
            "^TJ62GZB... | pepper    | fruit     | 0.95                  | 2.0\n",
            "^DZ9XSD5... | pepper    | vegetable | 1.05                  | 2.0\n",
            "^1NC0NHJ... | tomato    | fruit     | 1.2                   | 3.0\n",
            "^92XHP8W... | tomato    | vegetable | 1.8                   | 3.0\n"
          ]
        }
      ],
      "source": [
        "relative_score = (\n",
        "    poll.groupby(poll.food_item)\n",
        "    .reduce(\n",
        "        poll.food_item,\n",
        "        total_fractional_vote=pw.reducers.sum(poll.fractional_vote),\n",
        "    )\n",
        "    .join(aggregated_results, pw.left.food_item == pw.right.food_item)\n",
        "    .select(\n",
        "        pw.left.food_item,\n",
        "        pw.right.label,\n",
        "        label_fractional_vote=pw.right.total_fractional_vote,\n",
        "        total_fractional_vote=pw.left.total_fractional_vote,\n",
        "    )\n",
        ")\n",
        "\n",
        "pw.debug.compute_and_print(relative_score)"
      ]
    },
    {
      "cell_type": "markdown",
      "id": "a4b23852",
      "metadata": {},
      "source": [
        "### Election using argmax reducer\n",
        "Below, we present a snippet of code, that in the context of a poll,\n",
        "finds the most obvious information: which label got the most votes."
      ]
    },
    {
      "cell_type": "markdown",
      "id": "ee54c16f",
      "metadata": {},
      "source": [
        "Let's take a look on what exactly is the result of `argmax` reducer:"
      ]
    },
    {
      "cell_type": "code",
      "execution_count": 13,
      "id": "d305fca3",
      "metadata": {
        "execution": {
          "iopub.execute_input": "2022-12-20T15:22:34.746640Z",
          "iopub.status.busy": "2022-12-20T15:22:34.746390Z",
          "iopub.status.idle": "2022-12-20T15:22:34.754481Z",
          "shell.execute_reply": "2022-12-20T15:22:34.754162Z"
        }
      },
      "outputs": [
        {
          "name": "stdout",
          "output_type": "stream",
          "text": [
            "            | argmax_id\n",
            "^QP417F6... | ^DZ9XSD5...\n",
            "^REGKSGJ... | ^D5KPC8X...\n",
            "^5WT76K7... | ^GJJGT7Z...\n",
            "^J74ZRTM... | ^92XHP8W...\n"
          ]
        }
      ],
      "source": [
        "pw.debug.compute_and_print(\n",
        "    relative_score.groupby(relative_score.food_item).reduce(\n",
        "        argmax_id=pw.reducers.argmax(relative_score.label_fractional_vote)\n",
        "    )\n",
        ")"
      ]
    },
    {
      "cell_type": "markdown",
      "id": "1fbc2525",
      "metadata": {},
      "source": [
        "As we can see, it returns an ID of the row, that maximizes `label_fractional_vote`\n",
        "for a fixed `food_item`.\n",
        "We can filter interesting rows using those ID-s as follows:"
      ]
    },
    {
      "cell_type": "code",
      "execution_count": 14,
      "id": "07630b88",
      "metadata": {
        "execution": {
          "iopub.execute_input": "2022-12-20T15:22:34.756003Z",
          "iopub.status.busy": "2022-12-20T15:22:34.755847Z",
          "iopub.status.idle": "2022-12-20T15:22:34.764980Z",
          "shell.execute_reply": "2022-12-20T15:22:34.764651Z"
        }
      },
      "outputs": [
        {
          "name": "stdout",
          "output_type": "stream",
          "text": [
            "            | food_item | label     | label_fractional_vote\n",
            "^29S8WD4... | apple     | fruit     | 2.0\n",
            "^85V47J1... | corn      | vegetable | 0.7\n",
            "^V9ECPCT... | pepper    | vegetable | 1.05\n",
            "^DDYF5WX... | tomato    | vegetable | 1.8\n"
          ]
        }
      ],
      "source": [
        "pw.debug.compute_and_print(\n",
        "    relative_score.groupby(relative_score.food_item)\n",
        "    .reduce(argmax_id=pw.reducers.argmax(relative_score.label_fractional_vote))\n",
        "    .join(relative_score, pw.left.argmax_id == relative_score.id)\n",
        "    .select(\n",
        "        relative_score.food_item,\n",
        "        relative_score.label,\n",
        "        relative_score.label_fractional_vote,\n",
        "    )\n",
        ")"
      ]
    },
    {
      "cell_type": "markdown",
      "id": "a63925ab",
      "metadata": {},
      "source": [
        "*Remark:* the code snippet above is equivalent to:"
      ]
    },
    {
      "cell_type": "code",
      "execution_count": 15,
      "id": "065e4519",
      "metadata": {
        "execution": {
          "iopub.execute_input": "2022-12-20T15:22:34.766578Z",
          "iopub.status.busy": "2022-12-20T15:22:34.766323Z",
          "iopub.status.idle": "2022-12-20T15:22:34.777405Z",
          "shell.execute_reply": "2022-12-20T15:22:34.777091Z"
        }
      },
      "outputs": [
        {
          "name": "stdout",
          "output_type": "stream",
          "text": [
            "            | food_item | label     | label_fractional_vote\n",
            "^REGKSGJ... | apple     | fruit     | 2.0\n",
            "^5WT76K7... | corn      | vegetable | 0.7\n",
            "^QP417F6... | pepper    | vegetable | 1.05\n",
            "^J74ZRTM... | tomato    | vegetable | 1.8\n"
          ]
        }
      ],
      "source": [
        "pw.debug.compute_and_print(\n",
        "    relative_score.groupby(relative_score.food_item)\n",
        "    .reduce(argmax_id=pw.reducers.argmax(relative_score.label_fractional_vote))\n",
        "    .select(\n",
        "        relative_score.ix[pw.this.argmax_id].food_item,\n",
        "        relative_score.ix[pw.this.argmax_id].label,\n",
        "        relative_score.ix[pw.this.argmax_id].label_fractional_vote,\n",
        "    )\n",
        ")"
      ]
    },
    {
      "cell_type": "markdown",
      "id": "b9afb69b",
      "metadata": {},
      "source": [
        "You can read more about [joins](https://pathway.com/developers/documentation/table-operations/join-manual), [*.ix](https://pathway.com/developers/documentation/api-docs/pathway/#property-ix) and [ID-s](https://pathway.com/developers/documentation/table-operations/survival-guide#manipulating-the-table) in other places."
      ]
    }
  ],
  "metadata": {
    "colab": {
      "provenance": [],
      "collapsed_sections": [],
      "include_colab_link": true
    },
    "kernelspec": {
      "name": "py310",
      "display_name": "Python 3.10"
    }
  },
  "nbformat": 4,
  "nbformat_minor": 0
}