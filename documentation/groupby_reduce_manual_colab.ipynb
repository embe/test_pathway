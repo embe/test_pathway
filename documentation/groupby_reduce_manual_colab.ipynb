{
  "cells": [
    {
      "cell_type": "markdown",
      "metadata": {
        "id": "view-in-colab"
      },
      "source": [
        "<a href=\"https://colab.research.google.com/github/pathwaycom/pathway-examples/blob/main/documentation/groupby_reduce_manual_colab.ipynb\" target=\"_parent\"><img src=\"https://colab.research.google.com/assets/colab-badge.svg\" alt=\"Open In Colab\" class=\"inline\"/></a>"
      ]
    },
    {
      "cell_type": "markdown",
      "source": [
        "# [Colab-specific] Setting up Python and Pathway\n",
        "\n",
        "> Colab heads-up!!!\n",
        ">\n",
        "> Pathway requires Python >=3.8 and works best with Python 3.10, while Google Colab ships with Python 3.7 by default.\n",
        ">\n",
        "> In the cells below we install Python 3.10 and then switch to it, but the process requires that you refresh the page in your browser!\n",
        "> Please:\n",
        "> 1. Run the first cell, disregard the unrecognized runtime warning.\n",
        "> 2. Refresh the colab page and rerun the notebook. Now the warning should disappear and the python version in cell #2 should be Python 3.10.\n",
        "\n",
        "\n",
        "Outside Colab, Pathway can be installed to a Python 3.10 environment using pip, please register at https://pathway.com to get beta access to the package"
      ],
      "metadata": {
        "id": "colab-instructions"
      }
    },
    {
      "cell_type": "code",
      "source": [
        "PIP_PACKAGE_ADDRESS=\"\"\n",
        "if not PIP_PACKAGE_ADDRESS:\n",
        "    print(\n",
        "        \"Please register at https://pathway.com/developers/documentation/introduction/installation-and-first-steps\\n\"\n",
        "        \"To get the pip package installation link!\"\n",
        "    )"
      ],
      "metadata": {
        "id": "pip-package-selection"
      },
      "execution_count": null,
      "outputs": []
    },
    {
      "cell_type": "code",
      "metadata": {
        "id": "colab-env-install",
        "colab": {
          "base_uri": "https://localhost:8080/"
        },
        "outputId": "30a3baa7-5cb4-40f5-ac12-921eba4b25f8"
      },
      "source": [
        "![ -d /usr/local/lib/python3.10/site-packages/pathway ] || echo \"Installing Python 3.10 and pathway, restart the notebook once this cells executes\"\n",
        "![ -d /usr/local/lib/python3.10/site-packages/pathway ] || wget -O mini.sh https://github.com/conda-forge/miniforge/releases/download/22.9.0-1/Mambaforge-22.9.0-1-Linux-x86_64.sh 1>/dev/null 2>/dev/null\n",
        "![ -d /usr/local/lib/python3.10/site-packages/pathway ] || chmod +x mini.sh 1>/dev/null 2>/dev/null\n",
        "![ -d /usr/local/lib/python3.10/site-packages/pathway ] || bash ./mini.sh -b -f -p /usr/local 1>/dev/null 2>/dev/null\n",
        "![ -d /usr/local/lib/python3.10/site-packages/pathway ] || mamba install -q -y -c conda-forge jupyter google-colab  1>/dev/null 2>/dev/null\n",
        "![ -d /usr/local/lib/python3.10/site-packages/pathway ] || python -m ipykernel install --name \"py310\" --user 1>/dev/null 2>/dev/null\n",
        "![ -d /usr/local/lib/python3.10/site-packages/pathway ] || pip install {PIP_PACKAGE_ADDRESS} 1>/dev/null 2>/dev/null\n",
        "![ -d /usr/local/lib/python3.10/site-packages/pathway ] && echo \"Pathway installed\""
      ],
      "execution_count": null,
      "outputs": [
        {
          "output_type": "stream",
          "name": "stdout",
          "text": [
            "Pathway installed\n"
          ]
        }
      ]
    },
    {
      "cell_type": "code",
      "metadata": {
        "id": "colab-reload",
        "outputId": "f0e45a04-0b52-4699-fd04-680980f3df92",
        "colab": {
          "base_uri": "https://localhost:8080/"
        }
      },
      "source": [
        "# Reload the web page and execute this cell\n",
        "import sys\n",
        "print(\"User Current Version:-\", sys.version)"
      ],
      "execution_count": 3,
      "outputs": [
        {
          "output_type": "stream",
          "name": "stdout",
          "text": [
            "User Current Version:- 3.10.6 | packaged by conda-forge | (main, Aug 22 2022, 20:36:39) [GCC 10.4.0]\n"
          ]
        }
      ]
    },
    {
      "cell_type": "markdown",
      "id": "07c0319b",
      "metadata": {},
      "source": [
        "# Groupby - Reduce\n",
        "In this manu[a]l, you will learn how to aggregate data with the groupby-reduce scheme.\n",
        "\n",
        "Together, the `groupby` and `reduce` operations can be used\n",
        "to **aggregate data across the rows of the table**. In this guide,\n",
        "we expand upon a simple demonstration from\n",
        "[Survival Guide](/developers/documentation/table-operations/survival-guide)\n",
        "and :\n",
        "* explain syntax of [groupby](#groupby-syntax) and [reduce](#reduce-syntax)\n",
        "* explain [two kinds of columns we get from groupby](#groupby-reduce-column-constrains)\n",
        "* show [a few simple applications](#more-examples)"
      ]
    },
    {
      "cell_type": "markdown",
      "id": "41efba36",
      "metadata": {},
      "source": [
        "## Prerequisites\n",
        "The assumption is that we are familiar with some basic operations\n",
        "explained in [Survival Guide](/developers/documentation/table-operations/survival-guide).\n",
        "As usual, we begin with importing Pathway."
      ]
    },
    {
      "cell_type": "code",
      "execution_count": 1,
      "id": "19873951",
      "metadata": {
        "execution": {
          "iopub.execute_input": "2022-11-30T16:00:27.470957Z",
          "iopub.status.busy": "2022-11-30T16:00:27.470720Z",
          "iopub.status.idle": "2022-11-30T16:00:28.498217Z",
          "shell.execute_reply": "2022-11-30T16:00:28.497769Z"
        }
      },
      "outputs": [],
      "source": [
        "import pathway as pw"
      ]
    },
    {
      "cell_type": "markdown",
      "id": "6344337f",
      "metadata": {
        "lines_to_next_cell": 2
      },
      "source": [
        "To demonstrate the capabilities of groupby and reduce operations,\n",
        "let us consider some made up scenario.\n",
        "\n",
        "**Storyline:** let's assume that we made a poll, asking whether particular food item is a fruit or a vegetable.\n",
        "\n",
        "An answer to such question is a tuple `(food_item, label, vote, fractional_vote)`.\n",
        "That is, if someone could tell that tomato is a fruit, but they are not really sure,\n",
        "it could be registered as two tuples:\n",
        "\n",
        "* (tomato, fruit, 1, 0.5),\n",
        "\n",
        "* (tomato, vegetable, 0, 0.5)\n",
        "\n",
        "Below, we have the results of the poll, stored in the table *poll*."
      ]
    },
    {
      "cell_type": "code",
      "execution_count": 2,
      "id": "f482fd3c",
      "metadata": {
        "execution": {
          "iopub.execute_input": "2022-11-30T16:00:28.500786Z",
          "iopub.status.busy": "2022-11-30T16:00:28.500439Z",
          "iopub.status.idle": "2022-11-30T16:00:28.508156Z",
          "shell.execute_reply": "2022-11-30T16:00:28.507814Z"
        }
      },
      "outputs": [],
      "source": [
        "poll = pw.debug.table_from_markdown(\n",
        "    \"\"\"\n",
        "    | food_item | label     | vote  | fractional_vote\n",
        "0   | tomato    | fruit     | 1     | 0.5\n",
        "1   | tomato    | vegetable | 0     | 0.5\n",
        "2   | apple     | fruit     | 1     | 1\n",
        "3   | apple     | vegetable | 0     | 0\n",
        "4   | pepper    | vegetable | 1     | 0.5\n",
        "5   | pepper    | fruit     | 0     | 0.5\n",
        "6   | tomato    | fruit     | 0     | 0.3\n",
        "7   | tomato    | vegetable | 1     | 0.7\n",
        "8   | corn      | fruit     | 0     | 0.3\n",
        "9   | corn      | vegetable | 1     | 0.7\n",
        "10  | tomato    | fruit     | 0     | 0.4\n",
        "11  | tomato    | vegetable | 1     | 0.6\n",
        "12  | pepper    | fruit     | 0     | 0.45\n",
        "13  | pepper    | vegetable | 1     | 0.55\n",
        "14  | apple     | fruit     | 1     | 1\n",
        "15  | apple     | vegetable | 0     | 0\n",
        "\n",
        "\"\"\"\n",
        ")"
      ]
    },
    {
      "cell_type": "markdown",
      "id": "c73ac7a0",
      "metadata": {},
      "source": [
        "To demonstrate a simple groupby-reduce application, let's ask about\n",
        "the total `fractional_vote` that was assigned to any combination `foot_item`, `label`.\n",
        "\n",
        "\n",
        "First we explain the syntax of both [`groupby`](#groupby-syntax) and [`reduce`](#reduce-syntax).\n",
        "Then, we show groupby-reduce code in [action](#groupby-reduce-simple-example)."
      ]
    },
    {
      "cell_type": "markdown",
      "id": "45b611db",
      "metadata": {},
      "source": [
        "## Groupby Syntax\n",
        "The syntax of the `groupby` operation is fairly simple:"
      ]
    },
    {
      "cell_type": "code",
      "execution_count": 3,
      "id": "925d190f",
      "metadata": {
        "execution": {
          "iopub.execute_input": "2022-11-30T16:00:28.510153Z",
          "iopub.status.busy": "2022-11-30T16:00:28.509990Z",
          "iopub.status.idle": "2022-11-30T16:00:28.511870Z",
          "shell.execute_reply": "2022-11-30T16:00:28.511572Z"
        }
      },
      "outputs": [],
      "source": [
        "# _MD_SHOW_table.groupby(*C)"
      ]
    },
    {
      "cell_type": "markdown",
      "id": "2d490744",
      "metadata": {},
      "source": [
        "\n",
        "It takes a list of columns `*C` as argument, and groups the row according to their values in those columns.\n",
        "In other words, all the rows with the same values, column-wise, in each column of `*C` are put into the same group.\n",
        "\n",
        "As a result, it returns a `GroupedTable` object, which stores\n",
        "a single row for each unique tuple from columns in `*C`, and a collection\n",
        "of grouped items corresponding to each column that is not in `*C`.\n",
        "\n",
        "In the example above, if we groupby over pair of columns `food_item`, `label`,\n",
        "the groupby computes a collection of `votes` and a collection of `fractional_votes`\n",
        "for each unique combination `food_item`, `label`.\n",
        "\n",
        "In order to use this object, we need to process those collections\n",
        "with the `reduce` operation.\n",
        "\n",
        "## Reduce Syntax\n",
        "The `reduce` function behaves a little bit like `select`, and it also takes\n",
        "two kinds of arguments:"
      ]
    },
    {
      "cell_type": "code",
      "execution_count": 4,
      "id": "480b0853",
      "metadata": {
        "execution": {
          "iopub.execute_input": "2022-11-30T16:00:28.513711Z",
          "iopub.status.busy": "2022-11-30T16:00:28.513479Z",
          "iopub.status.idle": "2022-11-30T16:00:28.515234Z",
          "shell.execute_reply": "2022-11-30T16:00:28.514949Z"
        }
      },
      "outputs": [],
      "source": [
        "# _MD_SHOW_grouped_table.reduce(*SC, *NC)"
      ]
    },
    {
      "cell_type": "markdown",
      "id": "2eb51b0a",
      "metadata": {},
      "source": [
        "* *SC is simply a list of columns that were present in the table before the groupby\n",
        "operation,\n",
        "* *NC is a list of new columns (i.e. columns with new name), each defined as\n",
        "some function of cells in the row of grouped_table.\n",
        "\n",
        "It can be used together with groupby, as follows:"
      ]
    },
    {
      "cell_type": "code",
      "execution_count": 5,
      "id": "2b9ac50b",
      "metadata": {
        "execution": {
          "iopub.execute_input": "2022-11-30T16:00:28.516712Z",
          "iopub.status.busy": "2022-11-30T16:00:28.516551Z",
          "iopub.status.idle": "2022-11-30T16:00:28.518324Z",
          "shell.execute_reply": "2022-11-30T16:00:28.518039Z"
        }
      },
      "outputs": [],
      "source": [
        "# _MD_SHOW_table.groupby(*C).reduce(*SC, *NC)"
      ]
    },
    {
      "cell_type": "markdown",
      "id": "0784d140",
      "metadata": {},
      "source": [
        "The main difference between `reduce` and `select` is that each row of `grouped_table`\n",
        "has two kinds of entries, simple cells and groups.\n",
        "\n",
        "The `reduce` operation allows us to apply a reducer to transform a group into a value.\n",
        "\n",
        "## Counting Votes With Groupby-Reduce\n",
        "Below, you can see an example that uses the `sum` reducer to compute the sum of all\n",
        "votes and the sum of all fractional votes."
      ]
    },
    {
      "cell_type": "code",
      "execution_count": 6,
      "id": "06dd6735",
      "metadata": {
        "execution": {
          "iopub.execute_input": "2022-11-30T16:00:28.519866Z",
          "iopub.status.busy": "2022-11-30T16:00:28.519628Z",
          "iopub.status.idle": "2022-11-30T16:00:28.525518Z",
          "shell.execute_reply": "2022-11-30T16:00:28.525198Z"
        }
      },
      "outputs": [
        {
          "name": "stdout",
          "output_type": "stream",
          "text": [
            "            | food_item | label     | total_votes | total_fractional_vote\n",
            "^NDDC1CV... | apple     | fruit     | 2           | 2.0\n",
            "^0QWZR64... | apple     | vegetable | 0           | 0.0\n",
            "^EY2V9JZ... | corn      | fruit     | 0           | 0.3\n",
            "^SYKEK0R... | corn      | vegetable | 1           | 0.7\n",
            "^8J0ZA4Z... | pepper    | fruit     | 0           | 0.95\n",
            "^6FVPERH... | pepper    | vegetable | 2           | 1.05\n",
            "^PJ7D6BC... | tomato    | fruit     | 1           | 1.2\n",
            "^JYAGRWY... | tomato    | vegetable | 2           | 1.8\n"
          ]
        }
      ],
      "source": [
        "aggregated_results = poll.groupby(poll.food_item, poll.label).reduce(\n",
        "    poll.food_item,\n",
        "    poll.label,\n",
        "    total_votes=pw.reducers.sum(poll.vote),\n",
        "    total_fractional_vote=pw.reducers.sum(poll.fractional_vote),\n",
        ")\n",
        "\n",
        "pw.debug.compute_and_print(aggregated_results)\n"
      ]
    },
    {
      "cell_type": "markdown",
      "id": "afc461f5",
      "metadata": {},
      "source": [
        "## Groupby-Reduce Column Constraints\n",
        "To briefly summarize, if $T$ is the set of all columns of a table\n",
        "* the columns from $C$ (used as comparison key) can be used as regular columns in the reduce function\n",
        "* for all the remaining columns (in $T \\setminus C$), we need to apply a reducer, before we use them in expressions\n",
        "\n",
        "In particular, we can mix columns from $C$ and reduced columns from $T \\setminus C$ in column expressions."
      ]
    },
    {
      "cell_type": "code",
      "execution_count": 7,
      "id": "addf3778",
      "metadata": {
        "execution": {
          "iopub.execute_input": "2022-11-30T16:00:28.527232Z",
          "iopub.status.busy": "2022-11-30T16:00:28.526954Z",
          "iopub.status.idle": "2022-11-30T16:00:28.532834Z",
          "shell.execute_reply": "2022-11-30T16:00:28.532496Z"
        }
      },
      "outputs": [
        {
          "name": "stdout",
          "output_type": "stream",
          "text": [
            "            | food_item | note\n",
            "^NDDC1CV... | apple     | fruit got 2 votes, with total fractional_vote of 2.0\n",
            "^0QWZR64... | apple     | vegetable got 0 votes, with total fractional_vote of 0.0\n",
            "^EY2V9JZ... | corn      | fruit got 0 votes, with total fractional_vote of 0.3\n",
            "^SYKEK0R... | corn      | vegetable got 1 votes, with total fractional_vote of 0.7\n",
            "^8J0ZA4Z... | pepper    | fruit got 0 votes, with total fractional_vote of 0.95\n",
            "^6FVPERH... | pepper    | vegetable got 2 votes, with total fractional_vote of 1.05\n",
            "^PJ7D6BC... | tomato    | fruit got 1 votes, with total fractional_vote of 1.2\n",
            "^JYAGRWY... | tomato    | vegetable got 2 votes, with total fractional_vote of 1.8\n"
          ]
        }
      ],
      "source": [
        "def make_a_note(label: str, tot_votes: int, tot_fractional_vote: float):\n",
        "    return f\"{label} got {tot_votes} votes, with total fractional_vote of {round(tot_fractional_vote, 2)}\"\n",
        "\n",
        "\n",
        "aggregated_results_note = poll.groupby(poll.food_item, poll.label).reduce(\n",
        "    poll.food_item,\n",
        "    note=pw.apply(\n",
        "        make_a_note,\n",
        "        poll.label,\n",
        "        pw.reducers.sum(poll.vote),\n",
        "        pw.reducers.sum(poll.fractional_vote),\n",
        "    ),\n",
        ")\n",
        "\n",
        "pw.debug.compute_and_print(aggregated_results_note)"
      ]
    },
    {
      "cell_type": "markdown",
      "id": "6faecc38",
      "metadata": {},
      "source": [
        "## More Examples\n",
        "### Removing duplicates\n",
        "Below, we show how can we remove duplicates from table with groupby-reduce.\n",
        "On its own, selecting `food_item` and `label` from poll returns duplicate rows:"
      ]
    },
    {
      "cell_type": "code",
      "execution_count": 8,
      "id": "cee748c7",
      "metadata": {
        "execution": {
          "iopub.execute_input": "2022-11-30T16:00:28.534562Z",
          "iopub.status.busy": "2022-11-30T16:00:28.534397Z",
          "iopub.status.idle": "2022-11-30T16:00:28.539136Z",
          "shell.execute_reply": "2022-11-30T16:00:28.538807Z"
        }
      },
      "outputs": [
        {
          "name": "stdout",
          "output_type": "stream",
          "text": [
            "            | food_item | label\n",
            "^SE0WWPZ... | apple     | fruit\n",
            "^YHZBTNY... | apple     | fruit\n",
            "^NN09ZJR... | apple     | vegetable\n",
            "^SERVYWW... | apple     | vegetable\n",
            "^7ZG1GY6... | corn      | fruit\n",
            "^4A5S1JN... | corn      | vegetable\n",
            "^4B2REY1... | pepper    | fruit\n",
            "^76QPWK3... | pepper    | fruit\n",
            "^VYA37VV... | pepper    | vegetable\n",
            "^8GR6BSX... | pepper    | vegetable\n",
            "^8JFNKVV... | tomato    | fruit\n",
            "^C4S6S48... | tomato    | fruit\n",
            "^4N5HNMX... | tomato    | fruit\n",
            "^19D0FQ9... | tomato    | vegetable\n",
            "^2TMTFGY... | tomato    | vegetable\n",
            "^HMETZT8... | tomato    | vegetable\n"
          ]
        }
      ],
      "source": [
        "pw.debug.compute_and_print(poll.select(poll.food_item, poll.label))"
      ]
    },
    {
      "cell_type": "markdown",
      "id": "90c2e268",
      "metadata": {},
      "source": [
        "However, we can apply groupby-reduce to select a set of unique rows:"
      ]
    },
    {
      "cell_type": "code",
      "execution_count": 9,
      "id": "2d61117e",
      "metadata": {
        "execution": {
          "iopub.execute_input": "2022-11-30T16:00:28.540933Z",
          "iopub.status.busy": "2022-11-30T16:00:28.540689Z",
          "iopub.status.idle": "2022-11-30T16:00:28.545887Z",
          "shell.execute_reply": "2022-11-30T16:00:28.545551Z"
        },
        "lines_to_next_cell": 2
      },
      "outputs": [
        {
          "name": "stdout",
          "output_type": "stream",
          "text": [
            "            | food_item | label\n",
            "^NDDC1CV... | apple     | fruit\n",
            "^0QWZR64... | apple     | vegetable\n",
            "^EY2V9JZ... | corn      | fruit\n",
            "^SYKEK0R... | corn      | vegetable\n",
            "^8J0ZA4Z... | pepper    | fruit\n",
            "^6FVPERH... | pepper    | vegetable\n",
            "^PJ7D6BC... | tomato    | fruit\n",
            "^JYAGRWY... | tomato    | vegetable\n"
          ]
        }
      ],
      "source": [
        "pw.debug.compute_and_print(\n",
        "    poll.groupby(poll.food_item, poll.label).reduce(poll.food_item, poll.label)\n",
        ")"
      ]
    },
    {
      "cell_type": "markdown",
      "id": "9c118e62",
      "metadata": {},
      "source": [
        "### Chained groupby-reduce-join-select\n",
        "Below, you can find an example of groupby - reduce chained with join -select,\n",
        "using `pw.this`.\n",
        "\n",
        "To demonstrate that, we can ask our poll about total fractional vote for each pair\n",
        "`food_item`, `label` and total fractional vote assigned to rows for each `food_item`."
      ]
    },
    {
      "cell_type": "code",
      "execution_count": 10,
      "id": "3b9e1101",
      "metadata": {
        "execution": {
          "iopub.execute_input": "2022-11-30T16:00:28.547721Z",
          "iopub.status.busy": "2022-11-30T16:00:28.547418Z",
          "iopub.status.idle": "2022-11-30T16:00:28.554426Z",
          "shell.execute_reply": "2022-11-30T16:00:28.554099Z"
        }
      },
      "outputs": [
        {
          "name": "stdout",
          "output_type": "stream",
          "text": [
            "            | food_item | label     | label_fractional_vote | total_fractional_vote\n",
            "^D5KPC8X... | apple     | fruit     | 2.0                   | 2.0\n",
            "^E97ATBC... | apple     | vegetable | 0.0                   | 2.0\n",
            "^VS2ZSXQ... | corn      | fruit     | 0.3                   | 1.0\n",
            "^GJJGT7Z... | corn      | vegetable | 0.7                   | 1.0\n",
            "^TJ62GZB... | pepper    | fruit     | 0.95                  | 2.0\n",
            "^DZ9XSD5... | pepper    | vegetable | 1.05                  | 2.0\n",
            "^1NC0NHJ... | tomato    | fruit     | 1.2                   | 3.0\n",
            "^92XHP8W... | tomato    | vegetable | 1.8                   | 3.0\n"
          ]
        }
      ],
      "source": [
        "relative_score = (\n",
        "    poll.groupby(poll.food_item)\n",
        "    .reduce(\n",
        "        poll.food_item,\n",
        "        total_fractional_vote=pw.reducers.sum(poll.fractional_vote),\n",
        "    )\n",
        "    .join(aggregated_results, pw.this.food_item == aggregated_results.food_item)\n",
        "    .select(\n",
        "        pw.this.food_item,\n",
        "        aggregated_results.label,\n",
        "        label_fractional_vote=aggregated_results.total_fractional_vote,\n",
        "        total_fractional_vote=pw.this.total_fractional_vote,\n",
        "    )\n",
        ")\n",
        "\n",
        "pw.debug.compute_and_print(relative_score)"
      ]
    },
    {
      "cell_type": "markdown",
      "id": "46833cb8",
      "metadata": {},
      "source": [
        "### Election using argmax reducer\n",
        "Below, we present a snippet of code, that in the context of a poll,\n",
        "finds the most obvious information: which label got the most votes."
      ]
    },
    {
      "cell_type": "markdown",
      "id": "4bc00105",
      "metadata": {},
      "source": [
        "Let's take a look on what exactly is the result of `argmax` reducer:"
      ]
    },
    {
      "cell_type": "code",
      "execution_count": 11,
      "id": "7da5dfe4",
      "metadata": {
        "execution": {
          "iopub.execute_input": "2022-11-30T16:00:28.556322Z",
          "iopub.status.busy": "2022-11-30T16:00:28.556094Z",
          "iopub.status.idle": "2022-11-30T16:00:28.562353Z",
          "shell.execute_reply": "2022-11-30T16:00:28.562017Z"
        }
      },
      "outputs": [
        {
          "name": "stdout",
          "output_type": "stream",
          "text": [
            "            | argmax_id\n",
            "^QP417F6... | ^DZ9XSD5...\n",
            "^REGKSGJ... | ^D5KPC8X...\n",
            "^5WT76K7... | ^GJJGT7Z...\n",
            "^J74ZRTM... | ^92XHP8W...\n"
          ]
        }
      ],
      "source": [
        "pw.debug.compute_and_print(\n",
        "    relative_score.groupby(relative_score.food_item).reduce(\n",
        "        argmax_id=pw.reducers.argmax(relative_score.label_fractional_vote)\n",
        "    )\n",
        ")"
      ]
    },
    {
      "cell_type": "markdown",
      "id": "c0d3c134",
      "metadata": {},
      "source": [
        "As we can see, it returns an ID of the row, that maximizes `label_fractional_vote`\n",
        "for a fixed `food_item`.\n",
        "We can filter interesting rows using those ID-s as follows:"
      ]
    },
    {
      "cell_type": "code",
      "execution_count": 12,
      "id": "7e20769d",
      "metadata": {
        "execution": {
          "iopub.execute_input": "2022-11-30T16:00:28.564164Z",
          "iopub.status.busy": "2022-11-30T16:00:28.563933Z",
          "iopub.status.idle": "2022-11-30T16:00:28.571036Z",
          "shell.execute_reply": "2022-11-30T16:00:28.570674Z"
        }
      },
      "outputs": [
        {
          "name": "stdout",
          "output_type": "stream",
          "text": [
            "            | food_item | label     | label_fractional_vote\n",
            "^29S8WD4... | apple     | fruit     | 2.0\n",
            "^85V47J1... | corn      | vegetable | 0.7\n",
            "^V9ECPCT... | pepper    | vegetable | 1.05\n",
            "^DDYF5WX... | tomato    | vegetable | 1.8\n"
          ]
        }
      ],
      "source": [
        "pw.debug.compute_and_print(\n",
        "    relative_score.groupby(relative_score.food_item)\n",
        "    .reduce(argmax_id=pw.reducers.argmax(relative_score.label_fractional_vote))\n",
        "    .join(relative_score, pw.this.argmax_id == relative_score.id)\n",
        "    .select(\n",
        "        relative_score.food_item,\n",
        "        relative_score.label,\n",
        "        relative_score.label_fractional_vote,\n",
        "    )\n",
        ")"
      ]
    },
    {
      "cell_type": "markdown",
      "id": "864a0889",
      "metadata": {},
      "source": [
        "*Remark:* the code snippet above is equivalent to:"
      ]
    },
    {
      "cell_type": "code",
      "execution_count": 13,
      "id": "df7cb6d5",
      "metadata": {
        "execution": {
          "iopub.execute_input": "2022-11-30T16:00:28.572791Z",
          "iopub.status.busy": "2022-11-30T16:00:28.572621Z",
          "iopub.status.idle": "2022-11-30T16:00:28.582225Z",
          "shell.execute_reply": "2022-11-30T16:00:28.581893Z"
        }
      },
      "outputs": [
        {
          "name": "stdout",
          "output_type": "stream",
          "text": [
            "            | food_item | label     | label_fractional_vote\n",
            "^REGKSGJ... | apple     | fruit     | 2.0\n",
            "^5WT76K7... | corn      | vegetable | 0.7\n",
            "^QP417F6... | pepper    | vegetable | 1.05\n",
            "^J74ZRTM... | tomato    | vegetable | 1.8\n"
          ]
        }
      ],
      "source": [
        "pw.debug.compute_and_print(\n",
        "    relative_score.groupby(relative_score.food_item)\n",
        "    .reduce(argmax_id=pw.reducers.argmax(relative_score.label_fractional_vote))\n",
        "    .select(\n",
        "        relative_score.ix[pw.this.argmax_id].food_item,\n",
        "        relative_score.ix[pw.this.argmax_id].label,\n",
        "        relative_score.ix[pw.this.argmax_id].label_fractional_vote,\n",
        "    )\n",
        ")"
      ]
    },
    {
      "cell_type": "markdown",
      "id": "542d53f6",
      "metadata": {},
      "source": [
        "You can read more about [joins, *.ix*](/developers/documentation/table-operations/join-manual) and (ID-s)[#coming-soon] in other guides."
      ]
    }
  ],
  "metadata": {
    "colab": {
      "provenance": [],
      "collapsed_sections": [],
      "include_colab_link": true
    },
    "kernelspec": {
      "name": "py310",
      "display_name": "Python 3.10"
    }
  },
  "nbformat": 4,
  "nbformat_minor": 0
}