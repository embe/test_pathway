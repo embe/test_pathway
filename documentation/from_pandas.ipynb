{
  "cells": [
    {
      "cell_type": "markdown",
      "metadata": {
        "id": "view-in-colab"
      },
      "source": [
        "<a href=\"https://colab.research.google.com/github/pathwaycom/pathway-examples/blob/main/documentation/from_pandas.ipynb\" target=\"_parent\"><img src=\"https://pathway.com/assets/colab-badge.svg\" alt=\"Run In Colab\" class=\"inline\"/></a>"
      ]
    },
    {
      "cell_type": "markdown",
      "source": [
        "# [Colab-specific instructions] Installing Pathway with Python 3.8+\n",
        "\n",
        "> In the cell below we install pathway into a Python 3.8+ Linux runtime.\n",
        "> Please:\n",
        "> 1. **Insert in the form below the pip install command** given to you with your beta access.\n",
        "> 2. **Run the colab notebook (Ctrl+F9)**, disregarding the 'not authored by Google' warning. **The installation and loading time is less than 1 minute**.\n"
      ],
      "metadata": {
        "id": "notebook-instructions"
      }
    },
    {
      "cell_type": "code",
      "source": [
        "#@title \u2699\ufe0f Pathway installer. Please provide the pip install link for Pathway:\n",
        "# Please copy here the installation line:\n",
        "PATHWAY_INSTALL_LINE='pip install --extra-index-url https://packages.pathway.com/... pathway' #@param {type:\"string\"}\n",
        "\n",
        "PATHWAY_INSTALL_LINE.replace('pip install --extra-index-url ', '')\n",
        "\n",
        "class InterruptExecution(Exception):\n",
        "    def _render_traceback_(self):\n",
        "        pass\n",
        "\n",
        "if '...' in PATHWAY_INSTALL_LINE or not PATHWAY_INSTALL_LINE.startswith('https://packages.pathway.com/'):\n",
        "    print(\n",
        "        \"\u26d4 Please register at https://pathway.com/developers/documentation/introduction/installation-and-first-steps\\n\"\n",
        "        \"to Copy & Paste the Linux pip install line for Pathway!\"\n",
        "    )\n",
        "    raise InterruptExecution\n",
        "\n",
        "DO_INSTALL = False\n",
        "import sys\n",
        "if sys.version_info >= (3, 8):\n",
        "    print(f'\u2705 Python {sys.version} is active.')\n",
        "    try:\n",
        "        import pathway as pw\n",
        "        print('\u2705 Pathway successfully imported.')\n",
        "    except:\n",
        "        DO_INSTALL = True\n",
        "else:\n",
        "    print(\"\u26d4 Pathway requires Python 3.8 or higher.\")\n",
        "    raise InterruptExecution\n",
        "\n",
        "if DO_INSTALL:\n",
        "    !ls $(dirname $(which python))/../lib/python*/*-packages/pathway 1>/dev/null 2>/dev/null || echo \"\u231b Installing Pathway. This usually takes a few seconds...\"\n",
        "    !ls $(dirname $(which python))/../lib/python*/*-packages/pathway 1>/dev/null 2>/dev/null || pip install --extra-index-url {PATHWAY_INSTALL_LINE} 1>/dev/null 2>/dev/null\n",
        "    !ls $(dirname $(which python))/../lib/python*/*-packages/pathway 1>/dev/null 2>/dev/null || echo \"\u26d4 Installation failed. Don't be shy to reach out to the community at https://pathway.com !\"\n",
        "    !ls $(dirname $(which python))/../lib/python*/*-packages/pathway 1>/dev/null 2>/dev/null && echo \"\u2705 All installed. Enjoy Pathway!\"\n"
      ],
      "metadata": {
        "id": "pip-installation-pathway",
        "cellView": "form"
      },
      "execution_count": null,
      "outputs": []
    },
    {
      "cell_type": "markdown",
      "id": "12018c5e",
      "metadata": {},
      "source": [
        "# Pathway Tutorial for pandas Users\n",
        "This tutorial gets you up and running with Pathway in 10 minutes. It is specificaly designed for users coming from `pandas`.\n",
        "\n",
        "In this tutorial, you will learn how to:\n",
        "- build a real-time data streaming pipeline\n",
        "- process data on-the-fly as it comes into your stream\n",
        "- store the processed data on disk\n",
        "\n",
        "You'll be performing a simple sum aggregation on live data.\n",
        "\n",
        "In `pandas` you would compute a sum aggregation like this:\n",
        "```python\n",
        "import pandas as pd\n",
        "df = pd.read_csv(\"input_data.csv\")\n",
        "df.value.sum()\n",
        "```"
      ]
    },
    {
      "cell_type": "markdown",
      "id": "5d492337",
      "metadata": {},
      "source": [
        "This is pretty straightforward...but doesn't work with streaming data. Fortunately, Pathway does!\n",
        "\n",
        "This is the Pathway code that will solve our problem:\n",
        "\n",
        "```python\n",
        "import pathway as pw\n",
        "t = pw.csv.read('./sum_input_data/', [\"value\"], poll_new_objects=True)\n",
        "t = t.select(value=pw.apply_with_type(int, int, t.value))\n",
        "t = t.reduce(sum=pw.reducers.sum(t.value))\n",
        "pw.csv.write(t, \"output_stream.csv\")\n",
        "pw.run()\n",
        "```\n",
        "\n",
        "Don't worry if you don't fully understand it yet -- that's exactly what you will learn by completing this tutorial."
      ]
    },
    {
      "cell_type": "markdown",
      "id": "b347811d",
      "metadata": {},
      "source": [
        "## Install Pathway\n",
        "To install the latest Pathway release, which is now available in Open Beta on a free-to-use license:\n",
        "\n",
        "::pip-install\n",
        "::\n",
        "You are ready to roll - let's get to it!"
      ]
    },
    {
      "cell_type": "markdown",
      "id": "820e93f5",
      "metadata": {},
      "source": [
        "## Get the Data into Your Stream\n",
        "\n",
        "Let's begin by importing `pathway`:"
      ]
    },
    {
      "cell_type": "code",
      "execution_count": 1,
      "id": "6793064e",
      "metadata": {
        "execution": {
          "iopub.execute_input": "2023-02-14T13:44:59.214591Z",
          "iopub.status.busy": "2023-02-14T13:44:59.214366Z",
          "iopub.status.idle": "2023-02-14T13:45:00.248614Z",
          "shell.execute_reply": "2023-02-14T13:45:00.248134Z"
        }
      },
      "outputs": [],
      "source": [
        "import pathway as pw"
      ]
    },
    {
      "cell_type": "markdown",
      "id": "168cd129",
      "metadata": {},
      "source": [
        "Next, let's define a table. This table will contain the data that is flowing into our stream.\n",
        "\n",
        "A table in Pathway is comparable to a DataFrame in `pandas`. This table is created by 'listening' to a directory for new events.\n",
        "\n",
        "The term 'events' may be new to you if you're coming from `pandas`. Events are the core of data streaming architectures and it's important to understand their basic principles so that you can build effective data streaming pipelines. The next section explains some of these principles; you should feel free to skip it if you have a basic understanding of how data streaming works.\n",
        "\n",
        "<img src=\"/assets/content/documentation/manul-teacher.png\" width=200>\n",
        "\n",
        "> ### Basic Data Streaming Principles\n",
        "> When doing 'regular' data-processing in `pandas` you are working with a dataset that is static: all the data you will work with is available to you *before* you start your processing. Sure, it may need some cleaning and wrangling, but your dataset stays more or less the same.\n",
        "\n",
        "> In streaming workflows, this is very different. Data is not static but dynamic. You don't know the shape, size or content of your dataset before you start processing: the processing happens *as* the data is being generated.\n",
        "\n",
        "> This means that we can't structure our processing around 'batches' of data the way we did in `pandas`: the whole point of data streaming is to process data in real-time, not sit around waiting until all of the data has been collected.\n",
        "\n",
        "> So instead, data streaming pipelines are built around 'events': specific moments when something happens to our data. Common events are data being created, removed, or updated. Whenever an event happens, the data streaming pipeline is triggered and data processing starts.\n",
        "\n",
        "In our case, we will create a Pathway table by listening to a directory for new events (in this case `./sum_input_data/`) and taking values from a specific set of columns (in this case just the `value` column). Be sure to toggle streaming mode on by setting `poll_new_objects` to `True`:"
      ]
    },
    {
      "cell_type": "code",
      "execution_count": 2,
      "id": "f77fb67f",
      "metadata": {
        "execution": {
          "iopub.execute_input": "2023-02-14T13:45:00.250886Z",
          "iopub.status.busy": "2023-02-14T13:45:00.250682Z",
          "iopub.status.idle": "2023-02-14T13:45:00.253481Z",
          "shell.execute_reply": "2023-02-14T13:45:00.253112Z"
        }
      },
      "outputs": [],
      "source": [
        "t = pw.csv.read(\"./sum_input_data/\", [\"value\"], poll_new_objects=True)"
      ]
    },
    {
      "cell_type": "markdown",
      "id": "7248cd8e",
      "metadata": {},
      "source": [
        "Notice that we have just created a new table...without having any data yet!"
      ]
    },
    {
      "cell_type": "code",
      "execution_count": 3,
      "id": "c2b96b11",
      "metadata": {
        "execution": {
          "iopub.execute_input": "2023-02-14T13:45:00.255277Z",
          "iopub.status.busy": "2023-02-14T13:45:00.254985Z",
          "iopub.status.idle": "2023-02-14T13:45:00.259305Z",
          "shell.execute_reply": "2023-02-14T13:45:00.258894Z"
        }
      },
      "outputs": [
        {
          "data": {
            "text/plain": [
              "Table['value']"
            ]
          },
          "execution_count": 3,
          "metadata": {},
          "output_type": "execute_result"
        }
      ],
      "source": [
        "t"
      ]
    },
    {
      "cell_type": "markdown",
      "id": "6968b10e",
      "metadata": {},
      "source": [
        "<img src=\"/assets/content/documentation/manul-confused.svg\" width=200>\n",
        "\n",
        "This is one of the fundamental differences between `pandas` and `pathway`. While pandas is static and requires a batch of data already available to process, a Pathway table can be created simply by pointing it in the right direction, and the table will be populated with data as it arrives.\n",
        "\n",
        "It's as if we're saying, \"Hey Pathway, keep an eye on that corner of the restaurant and whenever new people arrive, give them a seat at that table over there.\"\n",
        "\n",
        "Or in more technical terms: every time a new CSV file is added into `./sum_input_data/`, the content of its `value` column will be automatically added to the table `t`.\n",
        "\n",
        "## Process the Data\n",
        "\n",
        "Now that we have a place where we can hold the data we're interested in, it's time to do something with it :)\n",
        "\n",
        "Remember that our specific problem for this tutorial is to perform a real-time sum on live incoming data.\n",
        "\n",
        "Let's go ahead and `select` the values we're interested in.\n"
      ]
    },
    {
      "cell_type": "code",
      "execution_count": 4,
      "id": "9608b6e5",
      "metadata": {
        "execution": {
          "iopub.execute_input": "2023-02-14T13:45:00.261203Z",
          "iopub.status.busy": "2023-02-14T13:45:00.260857Z",
          "iopub.status.idle": "2023-02-14T13:45:00.263299Z",
          "shell.execute_reply": "2023-02-14T13:45:00.262936Z"
        }
      },
      "outputs": [],
      "source": [
        "t1 = t.select(value=t.value)"
      ]
    },
    {
      "cell_type": "markdown",
      "id": "924f3b89",
      "metadata": {},
      "source": [
        "The arguments to `select` are dynamic; you can use them to define the desired column names and then pass the content. To create a table with column name `value` containing the contents of the `value` column:\n",
        "\n",
        "You could also name your new column something else by writing:"
      ]
    },
    {
      "cell_type": "code",
      "execution_count": 5,
      "id": "3f1012e9",
      "metadata": {
        "execution": {
          "iopub.execute_input": "2023-02-14T13:45:00.264954Z",
          "iopub.status.busy": "2023-02-14T13:45:00.264817Z",
          "iopub.status.idle": "2023-02-14T13:45:00.267124Z",
          "shell.execute_reply": "2023-02-14T13:45:00.266753Z"
        }
      },
      "outputs": [],
      "source": [
        "t2 = t.select(new_col_value=t.value)"
      ]
    },
    {
      "cell_type": "markdown",
      "id": "efaac67c",
      "metadata": {},
      "source": [
        "Let's also convert the data into `int` dtype in the same line as data is read in as `str` dtype by default:"
      ]
    },
    {
      "cell_type": "code",
      "execution_count": 6,
      "id": "7982939f",
      "metadata": {
        "execution": {
          "iopub.execute_input": "2023-02-14T13:45:00.268797Z",
          "iopub.status.busy": "2023-02-14T13:45:00.268490Z",
          "iopub.status.idle": "2023-02-14T13:45:00.270870Z",
          "shell.execute_reply": "2023-02-14T13:45:00.270512Z"
        }
      },
      "outputs": [],
      "source": [
        "t = t.select(value=pw.apply_with_type(int, int, t.value))"
      ]
    },
    {
      "cell_type": "markdown",
      "id": "ec1bff08",
      "metadata": {},
      "source": [
        "Then let's perform a groupby on the `value` column using the `reduce` method.\n",
        "\n",
        "Just like with `select` above, the argument to `reduce` is used to define the resulting column name (in this case `sum`). We pass it the result of `pw.reducers.sum` over the `t.value` column:"
      ]
    },
    {
      "cell_type": "code",
      "execution_count": 7,
      "id": "b99a94e0",
      "metadata": {
        "execution": {
          "iopub.execute_input": "2023-02-14T13:45:00.272547Z",
          "iopub.status.busy": "2023-02-14T13:45:00.272207Z",
          "iopub.status.idle": "2023-02-14T13:45:00.274687Z",
          "shell.execute_reply": "2023-02-14T13:45:00.274321Z"
        }
      },
      "outputs": [],
      "source": [
        "t = t.reduce(sum=pw.reducers.sum(t.value))"
      ]
    },
    {
      "cell_type": "markdown",
      "id": "eabd3969",
      "metadata": {},
      "source": [
        "<img src=\"/assets/content/documentation/manul-teacher.png\" width=200>\n",
        "\n",
        "Again, notice that we are 'performing' `select` and `reduce` actions without actually having any data yet. In fact, it would be more accurate to say that we are *describing* actions to be taken in the future, as soon as data arrives.\n",
        "\n",
        "What we are doing here is **building the pipeline**, so that when our data starts arriving it is processed correctly and ends up in the place where we want it to be. This is different from `pandas` in which we have all the data already and operations are executed the moment they are described.\n",
        "\n",
        "## Get the Data out of Your Stream\n",
        "\n",
        "Now that we have built our processing pipeline, let's write the resulting data to disk and store it for future use:"
      ]
    },
    {
      "cell_type": "code",
      "execution_count": 8,
      "id": "1852152f",
      "metadata": {
        "execution": {
          "iopub.execute_input": "2023-02-14T13:45:00.276277Z",
          "iopub.status.busy": "2023-02-14T13:45:00.276028Z",
          "iopub.status.idle": "2023-02-14T13:45:00.278753Z",
          "shell.execute_reply": "2023-02-14T13:45:00.278408Z"
        }
      },
      "outputs": [
        {
          "data": {
            "text/plain": [
              "<pathway.internals.arg_tuple.ArgTuple at 0x7f6662a9bfd0>"
            ]
          },
          "execution_count": 8,
          "metadata": {},
          "output_type": "execute_result"
        }
      ],
      "source": [
        "pw.csv.write(t, \"sum_output_stream.csv\")"
      ]
    },
    {
      "cell_type": "markdown",
      "id": "7ec35f93",
      "metadata": {},
      "source": [
        "That's it! Your real-time sum data stream is all set up.\n",
        "\n",
        "It just needs........data :)\n",
        "\n",
        "## Generate a Live Data Stream\n",
        "\n",
        "We can simulate a live data stream by writing some code that will create a CSV file every second with some data in its `value` column.\n",
        "\n",
        "Using `pandas` that would look something like this:\n",
        "\n",
        "```python\n",
        "from time import sleep\n",
        "import pandas as pd\n",
        "sleep(10)\n",
        "df = pd.DataFrame()\n",
        "for loop_id in range(0,10):\n",
        "    df = pd.DataFrame(data=[loop_id], columns=[\"value\"])\n",
        "    df.to_csv(f\"./sum_input_data/input_table_{loop_id}.csv\", )\n",
        "    sleep(1)\n",
        "```"
      ]
    },
    {
      "cell_type": "markdown",
      "id": "2754ccbd",
      "metadata": {},
      "source": [
        "We can then use the Pathway code we built above to listen to the `sum_input_data` directory and process data as it comes in:\n",
        "\n",
        "```python\n",
        "t = pw.csv.read('./sum_input_data/', [\"value\"], poll_new_objects=True)\n",
        "t = t.select(value=pw.apply_with_type(int, int, t.value))\n",
        "t = t.reduce(sum=pw.reducers.sum(t.value))\n",
        "pw.csv.write(t, \"output_stream.csv\")\n",
        "pw.run()\n",
        "```"
      ]
    },
    {
      "cell_type": "markdown",
      "id": "e1af07e5",
      "metadata": {},
      "source": [
        "To be able to see the result of your work in action, let's separate the data generation and data processing code into 2 separate scripts that we can then launch simultaneously from our terminal.\n",
        "\n",
        "While we're at it, let's convert the data generation code into bash to make it easier to clean up the directory and avoid messy overwrites:\n",
        "\n",
        "Save the code below as `generate_stream.sh`:\n",
        "\n",
        "```\n",
        "!/bin/bash\n",
        "src=\"./sum_input_data/\"\n",
        "rm -r $src\n",
        "mkdir -p $src\n",
        "sleep 10\n",
        "for LOOP_ID in {1..30}\n",
        "do\n",
        "    filename=$src\"input_table_$LOOP_ID.csv\"\n",
        "    printf \"value\\n$LOOP_ID\\n\" >> $filename\n",
        "    sleep 1\n",
        "done\n",
        "```\n",
        "\n",
        "And save the code below as `perform_realtime_sum.py`:\n",
        "\n",
        "```python\n",
        "import pathway as pw\n",
        "t = pw.csv.read('./sum_input_data/', [\"value\"], poll_new_objects=True)\n",
        "t = t.select(value=pw.apply_with_type(int, int, t.value))\n",
        "t = t.reduce(sum=pw.reducers.sum(t.value))\n",
        "pw.csv.write(t, \"output_stream.csv\")\n",
        "pw.run()\n",
        "```\n",
        "\n",
        "Now head over to your terminal, open two tabs / kernels and then:\n",
        "1. run `bash generate_stream.sh` in the first kernel\n",
        "2. run `python perform_realtime_sum.py` in the second\n",
        "\n",
        "<img src=\"/assets/content/documentation/pandas-tutorial-terminal.png\">\n",
        "\n",
        "The input connector requires the input CSV directory to exist so the script generating the stream should be launched first. The input connector will connect to the file and update the results every time a new CSV file is added, updating automatically and in real-time the output CSV file using the output CSV connector.\n",
        "\n",
        "## Interpret the Output\n",
        "\n",
        "The output of this project is a CSV file `output_stream.csv` in which all the successive updates of the sum values are displayed:"
      ]
    },
    {
      "cell_type": "code",
      "execution_count": 9,
      "id": "3d7b5cc8",
      "metadata": {
        "execution": {
          "iopub.execute_input": "2023-02-14T13:45:00.280447Z",
          "iopub.status.busy": "2023-02-14T13:45:00.280196Z",
          "iopub.status.idle": "2023-02-14T13:45:00.282202Z",
          "shell.execute_reply": "2023-02-14T13:45:00.281840Z"
        }
      },
      "outputs": [],
      "source": [
        "import pandas as pd"
      ]
    },
    {
      "cell_type": "code",
      "execution_count": 10,
      "id": "a3aa012b",
      "metadata": {
        "execution": {
          "iopub.execute_input": "2023-02-14T13:45:00.283783Z",
          "iopub.status.busy": "2023-02-14T13:45:00.283476Z",
          "iopub.status.idle": "2023-02-14T13:45:00.290731Z",
          "shell.execute_reply": "2023-02-14T13:45:00.290373Z"
        }
      },
      "outputs": [
        {
          "data": {
            "text/html": [
              "<div>\n",
              "<style scoped>\n",
              "    .dataframe tbody tr th:only-of-type {\n",
              "        vertical-align: middle;\n",
              "    }\n",
              "\n",
              "    .dataframe tbody tr th {\n",
              "        vertical-align: top;\n",
              "    }\n",
              "\n",
              "    .dataframe thead th {\n",
              "        text-align: right;\n",
              "    }\n",
              "</style>\n",
              "<table border=\"1\" class=\"dataframe\">\n",
              "  <thead>\n",
              "    <tr style=\"text-align: right;\">\n",
              "      <th></th>\n",
              "      <th>sum</th>\n",
              "      <th>time</th>\n",
              "      <th>diff</th>\n",
              "    </tr>\n",
              "  </thead>\n",
              "  <tbody>\n",
              "    <tr>\n",
              "      <th>0</th>\n",
              "      <td>1</td>\n",
              "      <td>1675861157539</td>\n",
              "      <td>1</td>\n",
              "    </tr>\n",
              "    <tr>\n",
              "      <th>1</th>\n",
              "      <td>1</td>\n",
              "      <td>1675861157540</td>\n",
              "      <td>-1</td>\n",
              "    </tr>\n",
              "    <tr>\n",
              "      <th>2</th>\n",
              "      <td>3</td>\n",
              "      <td>1675861157540</td>\n",
              "      <td>1</td>\n",
              "    </tr>\n",
              "    <tr>\n",
              "      <th>3</th>\n",
              "      <td>3</td>\n",
              "      <td>1675861157541</td>\n",
              "      <td>-1</td>\n",
              "    </tr>\n",
              "    <tr>\n",
              "      <th>4</th>\n",
              "      <td>10</td>\n",
              "      <td>1675861157541</td>\n",
              "      <td>1</td>\n",
              "    </tr>\n",
              "  </tbody>\n",
              "</table>\n",
              "</div>"
            ],
            "text/plain": [
              "   sum           time  diff\n",
              "0    1  1675861157539     1\n",
              "1    1  1675861157540    -1\n",
              "2    3  1675861157540     1\n",
              "3    3  1675861157541    -1\n",
              "4   10  1675861157541     1"
            ]
          },
          "execution_count": 10,
          "metadata": {},
          "output_type": "execute_result"
        }
      ],
      "source": [
        "output = pd.read_csv(\"output_stream.csv\")\n",
        "output.head()"
      ]
    },
    {
      "cell_type": "markdown",
      "id": "6d1e5e04",
      "metadata": {},
      "source": [
        "Let's explain what this output data means in technical terms first, then we will dive deeper with a real-world example.\n",
        "\n",
        "Each update is represented by up to two rows. Each row contains:\n",
        "\n",
        "1. the columns of the output table, here we only have `sum`.\n",
        "2. `time`, which represents the timestamp at which the update has happened.\n",
        "3. `diff`, which represents whether the row represents an addition or a deletion.\n",
        "\n",
        "An update is represented by two rows: one to remove the old value, one to add the new values. Those two rows will have the same timestamp to ensure the correctness of the update. There is one exception: the first update is represented by a single row because there is no old value to remove.\n",
        "\n",
        "So the first line represents the insertion (`diff=1`) of a new value (`sum=1`) which has happened at timestamp `time=1675861157539`.\n",
        "\n",
        "Then a new CSV file is created containing the new value 2, changing the value of `sum` from 1 to 3, resulting in both the deletion (`diff=-1`) of the previous value (`sum=1`) which has happened at `time=1675861157540` AND an addition (`diff=1`) of a new value (`sum=3`) at the same time.\n",
        "\n",
        "The output file is continuously updated until the process is killed.\n",
        "\n",
        "### Real-World Example\n",
        "Let's use a real-world example to illustrate the importance and value of this output.\n",
        "\n",
        "Imagine you work for a bank. The bank stores customers' money in accounts that customers can access whenever they like. Every time a customer of the bank goes to an ATM to withdraw money from their account, the bank wants to make sure that this transaction happens correctly. They only want to give them money that's actually in their account, and then adjust the account balance to reflect the change. This means the ATM withdrawal needs to be syncronised exactly with the adjustment in the customer's account balance. In order to do this we need to know the `time` at which the event happened and the amount that was changed (or the `diff`).\n",
        "\n",
        "In streaming settings, all the intermediate states of the data are stored during the process. This means you can access not just the final result (of `sum` in our case) but also each value along the way. If you are only interested in the final value, it is up to you to select it, by ordering by the `time` column and then selecting the latest value:"
      ]
    },
    {
      "cell_type": "code",
      "execution_count": 11,
      "id": "e46e2b3b",
      "metadata": {
        "execution": {
          "iopub.execute_input": "2023-02-14T13:45:00.292414Z",
          "iopub.status.busy": "2023-02-14T13:45:00.292114Z",
          "iopub.status.idle": "2023-02-14T13:45:00.296727Z",
          "shell.execute_reply": "2023-02-14T13:45:00.296373Z"
        }
      },
      "outputs": [
        {
          "data": {
            "text/html": [
              "<div>\n",
              "<style scoped>\n",
              "    .dataframe tbody tr th:only-of-type {\n",
              "        vertical-align: middle;\n",
              "    }\n",
              "\n",
              "    .dataframe tbody tr th {\n",
              "        vertical-align: top;\n",
              "    }\n",
              "\n",
              "    .dataframe thead th {\n",
              "        text-align: right;\n",
              "    }\n",
              "</style>\n",
              "<table border=\"1\" class=\"dataframe\">\n",
              "  <thead>\n",
              "    <tr style=\"text-align: right;\">\n",
              "      <th></th>\n",
              "      <th>sum</th>\n",
              "      <th>time</th>\n",
              "      <th>diff</th>\n",
              "    </tr>\n",
              "  </thead>\n",
              "  <tbody>\n",
              "    <tr>\n",
              "      <th>20</th>\n",
              "      <td>406</td>\n",
              "      <td>1675861187559</td>\n",
              "      <td>1</td>\n",
              "    </tr>\n",
              "  </tbody>\n",
              "</table>\n",
              "</div>"
            ],
            "text/plain": [
              "    sum           time  diff\n",
              "20  406  1675861187559     1"
            ]
          },
          "execution_count": 11,
          "metadata": {},
          "output_type": "execute_result"
        }
      ],
      "source": [
        "output = output.sort_values(by=[\"time\"], ascending=False)\n",
        "output.head(1)"
      ]
    },
    {
      "cell_type": "markdown",
      "id": "75a1a0f0",
      "metadata": {},
      "source": [
        "In our case, the total sum of the data is `406`. Well done!\n",
        "\n",
        "<img src=\"/assets/content/documentation/manul-teacher.png\" width=200>\n",
        "\n",
        "> You might have noticed that in this particular example, the `sort_values` call was a little overkill since the data is being processed in a single, sequential process and so the resulting output was already neatly ordered. In real-world streaming use cases, however, you may be dealing with multiple data sources, latency and other factors that will disturb the order of your data. In these cases, the timestamp will enable you to order the data correctly.\n",
        "\n",
        "## What's next?\n",
        "Congratulations! You've just built your first realtime streaming application with Pathway.\n",
        "\n",
        "<img src=\"/assets/content/documentation/manul-celebrate.svg\" width=250>\n",
        "\n",
        "Now that you're up and running, consider taking a look at our [tutorials](/developers/tutorials).\n",
        "\n",
        "We are in open Beta at the moment and would love to hear your feedback about our product. Come say hi on our [Discord](https://discord.com/invite/pathway)!"
      ]
    }
  ],
  "metadata": {
    "jupytext": {
      "cell_metadata_filter": "-all",
      "main_language": "python",
      "notebook_metadata_filter": "-all"
    },
    "language_info": {
      "codemirror_mode": {
        "name": "ipython",
        "version": 3
      },
      "file_extension": ".py",
      "mimetype": "text/x-python",
      "name": "python",
      "nbconvert_exporter": "python",
      "pygments_lexer": "ipython3",
      "version": "3.10.8"
    }
  },
  "nbformat": 4,
  "nbformat_minor": 5
}