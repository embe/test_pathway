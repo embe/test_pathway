{
  "cells": [
    {
      "cell_type": "markdown",
      "metadata": {
        "id": "view-in-colab"
      },
      "source": [
        "<a href=\"https://colab.research.google.com/github/pathwaycom/pathway-examples/blob/main/documentation/installation_first_steps_colab.ipynb\" target=\"_parent\"><img src=\"https://pathway.com/assets/colab-badge.svg\" alt=\"Run In Colab\" class=\"inline\"/></a>"
      ]
    },
    {
      "cell_type": "markdown",
      "source": [
        "# [Colab-specific] Setting up Python and Pathway\n",
        "\n",
        "> Colab heads-up!!!\n",
        ">\n",
        "> Pathway requires Python >=3.8 and works best with Python 3.10, while Google Colab ships with Python 3.7 by default.\n",
        ">\n",
        "> In the cells below we install Python 3.10 and then switch to it, but the process requires that you refresh the page in your browser!\n",
        "> Please:\n",
        "> 1. Run the first cell, disregard the unrecognized runtime warning.\n",
        "> 2. Refresh the colab page and rerun the notebook. Now the warning should disappear and the python version in cell #2 should be Python 3.10.\n",
        "\n",
        "\n",
        "Outside Colab, Pathway can be installed to a Python 3.10 environment using pip, please register at https://pathway.com to get beta access to the package"
      ],
      "metadata": {
        "id": "colab-instructions"
      }
    },
    {
      "cell_type": "code",
      "source": [
        "PIP_PACKAGE_ADDRESS=\"\"\n",
        "if not PIP_PACKAGE_ADDRESS:\n",
        "    print(\n",
        "        \"Please register at https://pathway.com/developers/documentation/introduction/installation-and-first-steps\\n\"\n",
        "        \"To get the pip package installation link!\"\n",
        "    )"
      ],
      "metadata": {
        "id": "pip-package-selection"
      },
      "execution_count": null,
      "outputs": []
    },
    {
      "cell_type": "code",
      "metadata": {
        "id": "colab-env-install",
        "colab": {
          "base_uri": "https://localhost:8080/"
        },
        "outputId": "30a3baa7-5cb4-40f5-ac12-921eba4b25f8"
      },
      "source": [
        "![ -d /usr/local/lib/python3.10/site-packages/pathway ] || echo \"Installing Python 3.10 and pathway, restart the notebook once this cells executes\"\n",
        "![ -d /usr/local/lib/python3.10/site-packages/pathway ] || wget -O mini.sh https://github.com/conda-forge/miniforge/releases/download/22.9.0-1/Mambaforge-22.9.0-1-Linux-x86_64.sh 1>/dev/null 2>/dev/null\n",
        "![ -d /usr/local/lib/python3.10/site-packages/pathway ] || chmod +x mini.sh 1>/dev/null 2>/dev/null\n",
        "![ -d /usr/local/lib/python3.10/site-packages/pathway ] || bash ./mini.sh -b -f -p /usr/local 1>/dev/null 2>/dev/null\n",
        "![ -d /usr/local/lib/python3.10/site-packages/pathway ] || mamba install -q -y -c conda-forge jupyter google-colab  1>/dev/null 2>/dev/null\n",
        "![ -d /usr/local/lib/python3.10/site-packages/pathway ] || python -m ipykernel install --name \"py310\" --user 1>/dev/null 2>/dev/null\n",
        "![ -d /usr/local/lib/python3.10/site-packages/pathway ] || pip install {PIP_PACKAGE_ADDRESS} 1>/dev/null 2>/dev/null\n",
        "![ -d /usr/local/lib/python3.10/site-packages/pathway ] && echo \"Pathway installed\""
      ],
      "execution_count": null,
      "outputs": [
        {
          "output_type": "stream",
          "name": "stdout",
          "text": [
            "Pathway installed\n"
          ]
        }
      ]
    },
    {
      "cell_type": "code",
      "metadata": {
        "id": "colab-reload",
        "outputId": "f0e45a04-0b52-4699-fd04-680980f3df92",
        "colab": {
          "base_uri": "https://localhost:8080/"
        }
      },
      "source": [
        "# Reload the web page and execute this cell\n",
        "import sys\n",
        "print(\"User Current Version:-\", sys.version)"
      ],
      "execution_count": 3,
      "outputs": [
        {
          "output_type": "stream",
          "name": "stdout",
          "text": [
            "User Current Version:- 3.10.6 | packaged by conda-forge | (main, Aug 22 2022, 20:36:39) [GCC 10.4.0]\n"
          ]
        }
      ]
    },
    {
      "cell_type": "markdown",
      "id": "b0da8b4a",
      "metadata": {},
      "source": [
        "\n",
        "# Getting started with Pathway\n",
        "\n",
        "In the following, you can find instructions on how to start using Pathway.\n",
        "\n",
        "## How to install Pathway"
      ]
    },
    {
      "cell_type": "markdown",
      "id": "c84fa5ea",
      "metadata": {},
      "source": [
        "You can download the current Pathway release, which is now available in Open Beta\n",
        "on a free-to-use [license](https://pathway.com/license):\n",
        "::pip-install\n",
        "::\n",
        "on a Python 3.10 installation, and we are ready to roll!\n",
        "\n",
        "To use Pathway, we only need to import it:"
      ]
    },
    {
      "cell_type": "code",
      "execution_count": 1,
      "id": "efa7ef4d",
      "metadata": {
        "execution": {
          "iopub.execute_input": "2022-12-09T10:11:24.326109Z",
          "iopub.status.busy": "2022-12-09T10:11:24.325905Z",
          "iopub.status.idle": "2022-12-09T10:11:25.392284Z",
          "shell.execute_reply": "2022-12-09T10:11:25.391692Z"
        }
      },
      "outputs": [],
      "source": [
        "import pathway as pw"
      ]
    },
    {
      "cell_type": "markdown",
      "id": "0bd9f6d5",
      "metadata": {},
      "source": [
        "## How to connect to your first table\n",
        "\n",
        "The first thing you need to do is to access the data you want to manipulate.\n",
        "Pathway provides many connectors to access your data and manipulate them.\n",
        "\n",
        "As an example, let's load a table using a csv connector:"
      ]
    },
    {
      "cell_type": "code",
      "execution_count": 2,
      "id": "ef0d2055",
      "metadata": {
        "execution": {
          "iopub.execute_input": "2022-12-09T10:11:25.395883Z",
          "iopub.status.busy": "2022-12-09T10:11:25.395478Z",
          "iopub.status.idle": "2022-12-09T10:11:25.404433Z",
          "shell.execute_reply": "2022-12-09T10:11:25.403955Z"
        }
      },
      "outputs": [],
      "source": [
        "\n",
        "table_dogs = pw.debug.table_from_markdown(\n",
        "    \"\"\"\n",
        "    | name  | age\n",
        "  1 | Ace   | 8\n",
        "  2 | Bella | 5\n",
        "  3 | Coco  | 13\n",
        " \"\"\"\n",
        ")"
      ]
    },
    {
      "cell_type": "markdown",
      "id": "a1015aad",
      "metadata": {},
      "source": [
        "Now the table is loaded. But if we try to print it, we obtain a very generic output: `Table['age', 'name']`\n",
        "\n",
        "That's perfectly normal: as explained in our [introduction to programming in Pathway](https://pathway.com/developers/documentation/introduction/key-concepts), Pathway is used to schedule the operations that will be later performed in realtime by the runtime engine. To process the actual data in our example, we need to use debug function called `compute_and_print`:"
      ]
    },
    {
      "cell_type": "code",
      "execution_count": 3,
      "id": "b2150d71",
      "metadata": {
        "execution": {
          "iopub.execute_input": "2022-12-09T10:11:25.406758Z",
          "iopub.status.busy": "2022-12-09T10:11:25.406489Z",
          "iopub.status.idle": "2022-12-09T10:11:25.410611Z",
          "shell.execute_reply": "2022-12-09T10:11:25.410263Z"
        }
      },
      "outputs": [
        {
          "name": "stdout",
          "output_type": "stream",
          "text": [
            "            | name  | age\n",
            "^2TMTFGY... | Ace   | 8\n",
            "^YHZBTNY... | Bella | 5\n",
            "^SERVYWW... | Coco  | 13\n"
          ]
        }
      ],
      "source": [
        "pw.debug.compute_and_print(table_dogs)"
      ]
    },
    {
      "cell_type": "markdown",
      "id": "4a31057b",
      "metadata": {},
      "source": [
        "## Some basic operations using Pathway\n",
        "\n",
        "Now that we have a table, we are going to do some basic operations on it.\n",
        "You can find the full list of the supported operations in our [API documentation](https://pathway.com/developers/documentation/api-docs/pathway).\n",
        "\n",
        "The first thing we may want, is to filter on the age and keep only the dogs younger than 10 years old.\n",
        "We can use the operator `filter` on the column 'age'.\n",
        "To access a column, we can either use the notation `table_name.column_name` or use the more generic `table['column_name']`."
      ]
    },
    {
      "cell_type": "code",
      "execution_count": 4,
      "id": "c2bc4da2",
      "metadata": {
        "execution": {
          "iopub.execute_input": "2022-12-09T10:11:25.412216Z",
          "iopub.status.busy": "2022-12-09T10:11:25.412011Z",
          "iopub.status.idle": "2022-12-09T10:11:25.415601Z",
          "shell.execute_reply": "2022-12-09T10:11:25.415289Z"
        }
      },
      "outputs": [
        {
          "name": "stdout",
          "output_type": "stream",
          "text": [
            "            | name  | age\n",
            "^2TMTFGY... | Ace   | 8\n",
            "^YHZBTNY... | Bella | 5\n"
          ]
        }
      ],
      "source": [
        "table_dogs_young = table_dogs.filter(\n",
        "    table_dogs.age <= 10\n",
        ")  # table_dogs['age'] also works\n",
        "pw.debug.compute_and_print(table_dogs_young)"
      ]
    },
    {
      "cell_type": "markdown",
      "id": "09ee8fa4",
      "metadata": {},
      "source": [
        "We can also apply a function to a given column.\n",
        "Let's say that we want to change the value of a column.\n",
        "Due to an error in rounding, all the age values are wrong and should be decreased by one.\n",
        "We can modify the table using the `apply` operation:"
      ]
    },
    {
      "cell_type": "code",
      "execution_count": 5,
      "id": "341dc5f4",
      "metadata": {
        "execution": {
          "iopub.execute_input": "2022-12-09T10:11:25.417123Z",
          "iopub.status.busy": "2022-12-09T10:11:25.416888Z",
          "iopub.status.idle": "2022-12-09T10:11:25.420320Z",
          "shell.execute_reply": "2022-12-09T10:11:25.420008Z"
        }
      },
      "outputs": [
        {
          "name": "stdout",
          "output_type": "stream",
          "text": [
            "            | name  | age\n",
            "^2TMTFGY... | Ace   | 7\n",
            "^YHZBTNY... | Bella | 4\n",
            "^SERVYWW... | Coco  | 12\n"
          ]
        }
      ],
      "source": [
        "table_dogs_corrected = table_dogs.select(\n",
        "    table_dogs.name, age=pw.apply((lambda x: x - 1), table_dogs[\"age\"])\n",
        ")\n",
        "pw.debug.compute_and_print(table_dogs_corrected)"
      ]
    },
    {
      "cell_type": "markdown",
      "id": "0f81d0ff",
      "metadata": {},
      "source": [
        "What happens here is that we select from `table_dogs` the column 'name' and a column 'age' which is obtained by the operator `apply`: `pw.apply(f,col)` applies `f` to each entry in `col` (there may be several such columns)."
      ]
    },
    {
      "cell_type": "markdown",
      "id": "24e846a0",
      "metadata": {},
      "source": [
        "To do more complicated operations, we may need a second table:"
      ]
    },
    {
      "cell_type": "code",
      "execution_count": 6,
      "id": "aebe1f84",
      "metadata": {
        "execution": {
          "iopub.execute_input": "2022-12-09T10:11:25.421848Z",
          "iopub.status.busy": "2022-12-09T10:11:25.421693Z",
          "iopub.status.idle": "2022-12-09T10:11:25.426878Z",
          "shell.execute_reply": "2022-12-09T10:11:25.426555Z"
        }
      },
      "outputs": [
        {
          "name": "stdout",
          "output_type": "stream",
          "text": [
            "            | name  | owner\n",
            "^2TMTFGY... | Ace   | Alice\n",
            "^YHZBTNY... | Bella | Bob\n",
            "^SERVYWW... | Coco  | Alice\n"
          ]
        }
      ],
      "source": [
        "table_dogs_owners = pw.debug.table_from_markdown(\n",
        "    \"\"\"\n",
        "    | name  | owner\n",
        "  1 | Ace   | Alice\n",
        "  2 | Bella | Bob\n",
        "  3 | Coco  | Alice\n",
        " \"\"\"\n",
        ")\n",
        "pw.debug.compute_and_print(table_dogs_owners)"
      ]
    },
    {
      "cell_type": "markdown",
      "id": "890d0c38",
      "metadata": {},
      "source": [
        "We can build a table with both information using the operator `join`:"
      ]
    },
    {
      "cell_type": "code",
      "execution_count": 7,
      "id": "97c8c561",
      "metadata": {
        "execution": {
          "iopub.execute_input": "2022-12-09T10:11:25.428423Z",
          "iopub.status.busy": "2022-12-09T10:11:25.428189Z",
          "iopub.status.idle": "2022-12-09T10:11:25.432386Z",
          "shell.execute_reply": "2022-12-09T10:11:25.432067Z"
        }
      },
      "outputs": [
        {
          "name": "stdout",
          "output_type": "stream",
          "text": [
            "            | name  | age | owner\n",
            "^VJ3K9DF... | Ace   | 7   | Alice\n",
            "^V1RPZW8... | Bella | 4   | Bob\n",
            "^R0GE4WM... | Coco  | 12  | Alice\n"
          ]
        }
      ],
      "source": [
        "table_dogs_full = table_dogs_corrected.join(\n",
        "    table_dogs_owners, table_dogs_corrected.name == table_dogs_owners.name\n",
        ").select(table_dogs_corrected.name, table_dogs_corrected.age, table_dogs_owners.owner)\n",
        "pw.debug.compute_and_print(table_dogs_full)"
      ]
    },
    {
      "cell_type": "markdown",
      "id": "534050dc",
      "metadata": {},
      "source": [
        "## To go further\n",
        "\n",
        "As we continue you will see some more advanced programming constructs which provide a lot of flexibility to Pathway:\n",
        "* Applying Machine Learning to data tables.\n",
        "* The ability to do iteration and recursion."
      ]
    },
    {
      "cell_type": "markdown",
      "id": "69a0f714",
      "metadata": {},
      "source": [
        "We will also use Pathway connectors to external data sources (for data inputs) and sinks (for data outputs)."
      ]
    },
    {
      "cell_type": "markdown",
      "id": "5c05339d",
      "metadata": {},
      "source": [
        "This, and a lot more, is covered in recipes in the Pathway cookbook - try these for a start:\n",
        "* [Detect suspicious user activity](https://pathway.com/developers/tutorials/suspicious_activity_tumbling_window).\n",
        "* [Find the time elapsed between events in an event stream](https://pathway.com/developers/tutorials/event_stream_processing_time_between_occurrences).\n",
        "* [Compute the PageRank of a network](https://pathway.com/developers/tutorials/pagerank)."
      ]
    }
  ],
  "metadata": {
    "colab": {
      "provenance": [],
      "collapsed_sections": [],
      "include_colab_link": true
    },
    "kernelspec": {
      "name": "py310",
      "display_name": "Python 3.10"
    }
  },
  "nbformat": 4,
  "nbformat_minor": 0
}