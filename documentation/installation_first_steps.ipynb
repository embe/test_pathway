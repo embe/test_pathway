{
  "cells": [
    {
      "cell_type": "markdown",
      "source": [
        "# Setting up Python and Pathway\n",
        "\n",
        "Pathway can be installed to a Python 3.10 environment using pip, please register at https://pathway.com to get beta access to the package"
      ],
      "metadata": {
        "id": "notebook-instructions"
      }
    },
    {
      "cell_type": "code",
      "source": [
        "PIP_PACKAGE_ADDRESS=\"\"\n",
        "if not PIP_PACKAGE_ADDRESS:\n",
        "    print(\n",
        "        \"Please register at https://pathway.com/developers/documentation/introduction/installation-and-first-steps\\n\"\n",
        "        \"To get the pip package installation link!\"\n",
        "    )"
      ],
      "metadata": {
        "id": "pip-package-selection"
      },
      "execution_count": null,
      "outputs": []
    },
    {
      "cell_type": "code",
      "source": [
        "if not (sys.version_info.major==3 and sys.version_info.minor==10):\n",
        "    raise Exception(\"Pathway is only built for Python 3.10 at the moment\")"
      ],
      "metadata": {
        "id": "check-py-version"
      },
      "execution_count": null,
      "outputs": []
    },
    {
      "cell_type": "code",
      "source": [
        "# Install pathway's package\n",
        "!pip install {PIP_PACKAGE_ADDRESS} 1>/dev/null 2>/dev/null"
      ],
      "metadata": {
        "id": "pip-install-pathway"
      },
      "execution_count": null,
      "outputs": []
    },
    {
      "cell_type": "markdown",
      "id": "5ab18921",
      "metadata": {},
      "source": [
        "\n",
        "# Getting started with Pathway\n",
        "\n",
        "In the following, you can find instructions on how to start using Pathway.\n",
        "\n",
        "## How to install Pathway"
      ]
    },
    {
      "cell_type": "markdown",
      "id": "c0dca39f",
      "metadata": {},
      "source": [
        "You can download the current Pathway release, which is now available in Open Beta\n",
        "on a free-to-use [license](/license):\n",
        "::pip-install\n",
        "::\n",
        "on a Python 3.10 installation, and we are ready to roll!\n",
        "\n",
        "To use Pathway, we only need to import it:"
      ]
    },
    {
      "cell_type": "code",
      "execution_count": 1,
      "id": "f7cc1754",
      "metadata": {
        "execution": {
          "iopub.execute_input": "2022-12-01T18:07:11.031816Z",
          "iopub.status.busy": "2022-12-01T18:07:11.031500Z",
          "iopub.status.idle": "2022-12-01T18:07:12.413311Z",
          "shell.execute_reply": "2022-12-01T18:07:12.412369Z"
        }
      },
      "outputs": [],
      "source": [
        "import pathway as pw"
      ]
    },
    {
      "cell_type": "markdown",
      "id": "d21c178e",
      "metadata": {},
      "source": [
        "## How to connect to your first table\n",
        "\n",
        "The first thing you need to do is to access the data you want to manipulate.\n",
        "Pathway provides many connectors to access your data and manipulate them.\n",
        "\n",
        "As an example, let's load a table using a csv connector:"
      ]
    },
    {
      "cell_type": "code",
      "execution_count": 2,
      "id": "14119747",
      "metadata": {
        "execution": {
          "iopub.execute_input": "2022-12-01T18:07:12.416192Z",
          "iopub.status.busy": "2022-12-01T18:07:12.415916Z",
          "iopub.status.idle": "2022-12-01T18:07:12.425126Z",
          "shell.execute_reply": "2022-12-01T18:07:12.424400Z"
        }
      },
      "outputs": [],
      "source": [
        "\n",
        "table_dogs = pw.debug.table_from_markdown(\n",
        "    \"\"\"\n",
        "    | name  | age\n",
        "  1 | Ace   | 8\n",
        "  2 | Bella | 5\n",
        "  3 | Coco  | 13\n",
        " \"\"\"\n",
        ")"
      ]
    },
    {
      "cell_type": "markdown",
      "id": "958727d3",
      "metadata": {},
      "source": [
        "Now the table is loaded. But if we try to print it, we obtain a very generic output: `Table['age', 'name']`\n",
        "\n",
        "That's perfectly normal: as explained in our [introduction to programming in Pathway](/developers/documentation/introduction/key-concepts), Pathway is used to schedule the operations that will be later performed in realtime by the runtime engine. To process the actual data in our example, we need to use debug function called `compute_and_print`:"
      ]
    },
    {
      "cell_type": "code",
      "execution_count": 3,
      "id": "231f230d",
      "metadata": {
        "execution": {
          "iopub.execute_input": "2022-12-01T18:07:12.427473Z",
          "iopub.status.busy": "2022-12-01T18:07:12.427312Z",
          "iopub.status.idle": "2022-12-01T18:07:12.432873Z",
          "shell.execute_reply": "2022-12-01T18:07:12.432105Z"
        }
      },
      "outputs": [
        {
          "name": "stdout",
          "output_type": "stream",
          "text": [
            "            | name  | age\n",
            "^2TMTFGY... | Ace   | 8\n",
            "^YHZBTNY... | Bella | 5\n",
            "^SERVYWW... | Coco  | 13\n"
          ]
        }
      ],
      "source": [
        "pw.debug.compute_and_print(table_dogs)"
      ]
    },
    {
      "cell_type": "markdown",
      "id": "2636bcdf",
      "metadata": {},
      "source": [
        "## Some basic operations using Pathway\n",
        "\n",
        "Now that we have a table, we are going to do some basic operations on it.\n",
        "You can find the full list of the supported operations in our [API documentation](/developers/documentation/api-docs/pathway).\n",
        "\n",
        "The first thing we may want, is to filter on the age and keep only the dogs younger than 10 years old.\n",
        "We can use the operator `filter` on the column 'age'.\n",
        "To access a column, we can either use the notation `table_name.column_name` or use the more generic `table['column_name']`."
      ]
    },
    {
      "cell_type": "code",
      "execution_count": 4,
      "id": "818717e3",
      "metadata": {
        "execution": {
          "iopub.execute_input": "2022-12-01T18:07:12.435304Z",
          "iopub.status.busy": "2022-12-01T18:07:12.434680Z",
          "iopub.status.idle": "2022-12-01T18:07:12.440664Z",
          "shell.execute_reply": "2022-12-01T18:07:12.439885Z"
        }
      },
      "outputs": [
        {
          "name": "stdout",
          "output_type": "stream",
          "text": [
            "            | name  | age\n",
            "^2TMTFGY... | Ace   | 8\n",
            "^YHZBTNY... | Bella | 5\n"
          ]
        }
      ],
      "source": [
        "table_dogs_young = table_dogs.filter(\n",
        "    table_dogs.age <= 10\n",
        ")  # table_dogs['age'] also works\n",
        "pw.debug.compute_and_print(table_dogs_young)"
      ]
    },
    {
      "cell_type": "markdown",
      "id": "4de24a37",
      "metadata": {},
      "source": [
        "We can also apply a function to a given column.\n",
        "Let's say that we want to change the value of a column.\n",
        "Due to an error in rounding, all the age values are wrong and should be decreased by one.\n",
        "We can modify the table using the `apply` operation:"
      ]
    },
    {
      "cell_type": "code",
      "execution_count": 5,
      "id": "63fc3e5d",
      "metadata": {
        "execution": {
          "iopub.execute_input": "2022-12-01T18:07:12.443190Z",
          "iopub.status.busy": "2022-12-01T18:07:12.442510Z",
          "iopub.status.idle": "2022-12-01T18:07:12.448282Z",
          "shell.execute_reply": "2022-12-01T18:07:12.447543Z"
        }
      },
      "outputs": [
        {
          "name": "stdout",
          "output_type": "stream",
          "text": [
            "            | name  | age\n",
            "^2TMTFGY... | Ace   | 7\n",
            "^YHZBTNY... | Bella | 4\n",
            "^SERVYWW... | Coco  | 12\n"
          ]
        }
      ],
      "source": [
        "table_dogs_corrected = table_dogs.select(\n",
        "    table_dogs.name, age=pw.apply((lambda x: x - 1), table_dogs[\"age\"])\n",
        ")\n",
        "pw.debug.compute_and_print(table_dogs_corrected)"
      ]
    },
    {
      "cell_type": "markdown",
      "id": "0b137a62",
      "metadata": {},
      "source": [
        "What happens here is that we select from `table_dogs` the column 'name' and a column 'age' which is obtained by the operator `apply`: `pw.apply(f,col)` applies `f` to each entry in `col` (there may be several such columns)."
      ]
    },
    {
      "cell_type": "markdown",
      "id": "d262e79e",
      "metadata": {},
      "source": [
        "To do more complicated operations, we may need a second table:"
      ]
    },
    {
      "cell_type": "code",
      "execution_count": 6,
      "id": "d0944386",
      "metadata": {
        "execution": {
          "iopub.execute_input": "2022-12-01T18:07:12.450290Z",
          "iopub.status.busy": "2022-12-01T18:07:12.450127Z",
          "iopub.status.idle": "2022-12-01T18:07:12.457709Z",
          "shell.execute_reply": "2022-12-01T18:07:12.456958Z"
        }
      },
      "outputs": [
        {
          "name": "stdout",
          "output_type": "stream",
          "text": [
            "            | name  | owner\n",
            "^2TMTFGY... | Ace   | Alice\n",
            "^YHZBTNY... | Bella | Bob\n",
            "^SERVYWW... | Coco  | Alice\n"
          ]
        }
      ],
      "source": [
        "table_dogs_owners = pw.debug.table_from_markdown(\n",
        "    \"\"\"\n",
        "    | name  | owner\n",
        "  1 | Ace   | Alice\n",
        "  2 | Bella | Bob\n",
        "  3 | Coco  | Alice\n",
        " \"\"\"\n",
        ")\n",
        "pw.debug.compute_and_print(table_dogs_owners)"
      ]
    },
    {
      "cell_type": "markdown",
      "id": "16463c59",
      "metadata": {},
      "source": [
        "We can build a table with both information using the operator `join`:"
      ]
    },
    {
      "cell_type": "code",
      "execution_count": 7,
      "id": "5ce33138",
      "metadata": {
        "execution": {
          "iopub.execute_input": "2022-12-01T18:07:12.459710Z",
          "iopub.status.busy": "2022-12-01T18:07:12.459540Z",
          "iopub.status.idle": "2022-12-01T18:07:12.465581Z",
          "shell.execute_reply": "2022-12-01T18:07:12.464864Z"
        }
      },
      "outputs": [
        {
          "name": "stdout",
          "output_type": "stream",
          "text": [
            "            | name  | age | owner\n",
            "^VJ3K9DF... | Ace   | 7   | Alice\n",
            "^V1RPZW8... | Bella | 4   | Bob\n",
            "^R0GE4WM... | Coco  | 12  | Alice\n"
          ]
        }
      ],
      "source": [
        "table_dogs_full = table_dogs_corrected.join(\n",
        "    table_dogs_owners, table_dogs_corrected.name == table_dogs_owners.name\n",
        ").select(table_dogs_corrected.name, table_dogs_corrected.age, table_dogs_owners.owner)\n",
        "pw.debug.compute_and_print(table_dogs_full)"
      ]
    },
    {
      "cell_type": "markdown",
      "id": "c3dcdd21",
      "metadata": {},
      "source": [
        "## To go further\n",
        "\n",
        "As we continue you will see some more advanced programming constructs which provide a lot of flexibility to Pathway:\n",
        "* Applying Machine Learning to data tables.\n",
        "* The ability to do iteration and recursion."
      ]
    },
    {
      "cell_type": "markdown",
      "id": "a5c34394",
      "metadata": {},
      "source": [
        "We will also use Pathway connectors to external data sources (for data inputs) and sinks (for data outputs)."
      ]
    },
    {
      "cell_type": "markdown",
      "id": "d43688cd",
      "metadata": {},
      "source": [
        "This, and a lot more, is covered in recipes in the Pathway cookbook - try these for a start:\n",
        "* [Detect suspicious user activity](/developers/tutorials/suspicious_activity_tumbling_window).\n",
        "* [Find the time elapsed between events in an event stream](/developers/tutorials/event_stream_processing_time_between_occurrences).\n",
        "* [Compute the PageRank of a network](/developers/tutorials/pagerank)."
      ]
    }
  ],
  "metadata": {
    "jupytext": {
      "cell_metadata_filter": "-all"
    },
    "kernelspec": {
      "display_name": "Python 3 (ipykernel)",
      "language": "python",
      "name": "python3"
    },
    "language_info": {
      "codemirror_mode": {
        "name": "ipython",
        "version": 3
      },
      "file_extension": ".py",
      "mimetype": "text/x-python",
      "name": "python",
      "nbconvert_exporter": "python",
      "pygments_lexer": "ipython3",
      "version": "3.10.6"
    }
  },
  "nbformat": 4,
  "nbformat_minor": 5
}