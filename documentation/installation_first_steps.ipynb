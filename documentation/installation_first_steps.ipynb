{
  "cells": [
    {
      "cell_type": "markdown",
      "metadata": {
        "id": "view-in-colab"
      },
      "source": [
        "<a href=\"https://colab.research.google.com/github/pathwaycom/pathway-examples/blob/main/documentation/installation_first_steps_colab.ipynb\" target=\"_parent\"><img src=\"https://pathway.com/assets/colab-badge.svg\" alt=\"Run In Colab\" class=\"inline\"/></a>"
      ]
    },
    {
      "cell_type": "markdown",
      "source": [
        "# Setting up Python and Pathway\n",
        "\n",
        "Pathway can be installed to a Python 3.10 environment using pip, please register at https://pathway.com to get beta access to the package."
      ],
      "metadata": {
        "id": "notebook-instructions"
      }
    },
    {
      "cell_type": "markdown",
      "source": [
        "Insert the pip link:"
      ],
      "metadata": {
        "id": "pip-link"
      }
    },
    {
      "cell_type": "code",
      "source": [
        "PIP_PACKAGE_ADDRESS=\"\""
      ],
      "metadata": {
        "id": "pip-package-link"
      },
      "execution_count": null,
      "outputs": []
    },
    {
      "cell_type": "code",
      "source": [
        "if not PIP_PACKAGE_ADDRESS:\n",
        "    print(\n",
        "        \"\u26d4 Please register at https://pathway.com/developers/documentation/introduction/installation-and-first-steps\\n\"\n",
        "        \"To get the pip package installation link!\"\n",
        "    )"
      ],
      "metadata": {
        "id": "pip-package-selection"
      },
      "execution_count": null,
      "outputs": []
    },
    {
      "cell_type": "code",
      "source": [
        "if not (sys.version_info.major==3 and sys.version_info.minor==10):\n",
        "    raise Exception(\"Pathway is only built for Python 3.10 at the moment\")"
      ],
      "metadata": {
        "id": "check-py-version"
      },
      "execution_count": null,
      "outputs": []
    },
    {
      "cell_type": "code",
      "source": [
        "# Install pathway's package\n",
        "!pip install {PIP_PACKAGE_ADDRESS} 1>/dev/null 2>/dev/null"
      ],
      "metadata": {
        "id": "pip-install-pathway"
      },
      "execution_count": null,
      "outputs": []
    },
    {
      "cell_type": "markdown",
      "id": "04a1a9ae",
      "metadata": {},
      "source": [
        "\n",
        "# Getting started with Pathway\n",
        "\n",
        "In the following, you can find instructions on how to start using Pathway.\n",
        "\n",
        "## How to install Pathway"
      ]
    },
    {
      "cell_type": "markdown",
      "id": "15a1a582",
      "metadata": {},
      "source": [
        "You can download the current Pathway release, which is now available in Open Beta\n",
        "on a free-to-use [license](https://pathway.com/license):\n",
        "::pip-install\n",
        "::\n",
        "on a Python 3.10 installation, and we are ready to roll!\n",
        "\n",
        "To use Pathway, we only need to import it:"
      ]
    },
    {
      "cell_type": "code",
      "execution_count": 1,
      "id": "ebc64672",
      "metadata": {
        "execution": {
          "iopub.execute_input": "2022-12-15T08:40:13.852812Z",
          "iopub.status.busy": "2022-12-15T08:40:13.852656Z",
          "iopub.status.idle": "2022-12-15T08:40:14.885343Z",
          "shell.execute_reply": "2022-12-15T08:40:14.884725Z"
        }
      },
      "outputs": [],
      "source": [
        "import pathway as pw"
      ]
    },
    {
      "cell_type": "markdown",
      "id": "39747d11",
      "metadata": {},
      "source": [
        "## How to connect to your first table\n",
        "\n",
        "The first thing you need to do is to access the data you want to manipulate.\n",
        "Pathway provides many connectors to access your data and manipulate them.\n",
        "\n",
        "As an example, let's load a table using a csv connector:"
      ]
    },
    {
      "cell_type": "code",
      "execution_count": 2,
      "id": "c98a4eb9",
      "metadata": {
        "execution": {
          "iopub.execute_input": "2022-12-15T08:40:14.887836Z",
          "iopub.status.busy": "2022-12-15T08:40:14.887532Z",
          "iopub.status.idle": "2022-12-15T08:40:14.894609Z",
          "shell.execute_reply": "2022-12-15T08:40:14.894211Z"
        }
      },
      "outputs": [],
      "source": [
        "\n",
        "table_dogs = pw.debug.table_from_markdown(\n",
        "    \"\"\"\n",
        "    | name  | age\n",
        "  1 | Ace   | 8\n",
        "  2 | Bella | 5\n",
        "  3 | Coco  | 13\n",
        " \"\"\"\n",
        ")"
      ]
    },
    {
      "cell_type": "markdown",
      "id": "e87e462b",
      "metadata": {},
      "source": [
        "Now the table is loaded. But if we try to print it, we obtain a very generic output: `Table['age', 'name']`\n",
        "\n",
        "That's perfectly normal: as explained in our [introduction to programming in Pathway](https://pathway.com/developers/documentation/introduction/key-concepts), Pathway is used to schedule the operations that will be later performed in realtime by the runtime engine. To process the actual data in our example, we need to use debug function called `compute_and_print`:"
      ]
    },
    {
      "cell_type": "code",
      "execution_count": 3,
      "id": "3282516e",
      "metadata": {
        "execution": {
          "iopub.execute_input": "2022-12-15T08:40:14.896233Z",
          "iopub.status.busy": "2022-12-15T08:40:14.896082Z",
          "iopub.status.idle": "2022-12-15T08:40:14.899947Z",
          "shell.execute_reply": "2022-12-15T08:40:14.899531Z"
        }
      },
      "outputs": [
        {
          "name": "stdout",
          "output_type": "stream",
          "text": [
            "            | name  | age\n",
            "^2TMTFGY... | Ace   | 8\n",
            "^YHZBTNY... | Bella | 5\n",
            "^SERVYWW... | Coco  | 13\n"
          ]
        }
      ],
      "source": [
        "pw.debug.compute_and_print(table_dogs)"
      ]
    },
    {
      "cell_type": "markdown",
      "id": "31e3befd",
      "metadata": {},
      "source": [
        "## Some basic operations using Pathway\n",
        "\n",
        "Now that we have a table, we are going to do some basic operations on it.\n",
        "You can find the full list of the supported operations in our [API documentation](https://pathway.com/developers/documentation/api-docs/pathway).\n",
        "\n",
        "The first thing we may want, is to filter on the age and keep only the dogs younger than 10 years old.\n",
        "We can use the operator `filter` on the column 'age'.\n",
        "To access a column, we can either use the notation `table_name.column_name` or use the more generic `table['column_name']`."
      ]
    },
    {
      "cell_type": "code",
      "execution_count": 4,
      "id": "1005e906",
      "metadata": {
        "execution": {
          "iopub.execute_input": "2022-12-15T08:40:14.901557Z",
          "iopub.status.busy": "2022-12-15T08:40:14.901422Z",
          "iopub.status.idle": "2022-12-15T08:40:14.905274Z",
          "shell.execute_reply": "2022-12-15T08:40:14.904875Z"
        }
      },
      "outputs": [
        {
          "name": "stdout",
          "output_type": "stream",
          "text": [
            "            | name  | age\n",
            "^2TMTFGY... | Ace   | 8\n",
            "^YHZBTNY... | Bella | 5\n"
          ]
        }
      ],
      "source": [
        "table_dogs_young = table_dogs.filter(\n",
        "    table_dogs.age <= 10\n",
        ")  # table_dogs['age'] also works\n",
        "pw.debug.compute_and_print(table_dogs_young)"
      ]
    },
    {
      "cell_type": "markdown",
      "id": "f2876a98",
      "metadata": {},
      "source": [
        "We can also apply a function to a given column.\n",
        "Let's say that we want to change the value of a column.\n",
        "Due to an error in rounding, all the age values are wrong and should be decreased by one.\n",
        "We can modify the table using the `apply` operation:"
      ]
    },
    {
      "cell_type": "code",
      "execution_count": 5,
      "id": "04970669",
      "metadata": {
        "execution": {
          "iopub.execute_input": "2022-12-15T08:40:14.906859Z",
          "iopub.status.busy": "2022-12-15T08:40:14.906726Z",
          "iopub.status.idle": "2022-12-15T08:40:14.910406Z",
          "shell.execute_reply": "2022-12-15T08:40:14.910008Z"
        }
      },
      "outputs": [
        {
          "name": "stdout",
          "output_type": "stream",
          "text": [
            "            | name  | age\n",
            "^2TMTFGY... | Ace   | 7\n",
            "^YHZBTNY... | Bella | 4\n",
            "^SERVYWW... | Coco  | 12\n"
          ]
        }
      ],
      "source": [
        "table_dogs_corrected = table_dogs.select(\n",
        "    table_dogs.name, age=pw.apply((lambda x: x - 1), table_dogs[\"age\"])\n",
        ")\n",
        "pw.debug.compute_and_print(table_dogs_corrected)"
      ]
    },
    {
      "cell_type": "markdown",
      "id": "7bbb908b",
      "metadata": {},
      "source": [
        "What happens here is that we select from `table_dogs` the column 'name' and a column 'age' which is obtained by the operator `apply`: `pw.apply(f,col)` applies `f` to each entry in `col` (there may be several such columns)."
      ]
    },
    {
      "cell_type": "markdown",
      "id": "fd9f2601",
      "metadata": {},
      "source": [
        "To do more complicated operations, we may need a second table:"
      ]
    },
    {
      "cell_type": "code",
      "execution_count": 6,
      "id": "f08e09e1",
      "metadata": {
        "execution": {
          "iopub.execute_input": "2022-12-15T08:40:14.911986Z",
          "iopub.status.busy": "2022-12-15T08:40:14.911854Z",
          "iopub.status.idle": "2022-12-15T08:40:14.917236Z",
          "shell.execute_reply": "2022-12-15T08:40:14.916838Z"
        }
      },
      "outputs": [
        {
          "name": "stdout",
          "output_type": "stream",
          "text": [
            "            | name  | owner\n",
            "^2TMTFGY... | Ace   | Alice\n",
            "^YHZBTNY... | Bella | Bob\n",
            "^SERVYWW... | Coco  | Alice\n"
          ]
        }
      ],
      "source": [
        "table_dogs_owners = pw.debug.table_from_markdown(\n",
        "    \"\"\"\n",
        "    | name  | owner\n",
        "  1 | Ace   | Alice\n",
        "  2 | Bella | Bob\n",
        "  3 | Coco  | Alice\n",
        " \"\"\"\n",
        ")\n",
        "pw.debug.compute_and_print(table_dogs_owners)"
      ]
    },
    {
      "cell_type": "markdown",
      "id": "6732cb27",
      "metadata": {},
      "source": [
        "We can build a table with both information using the operator `join`:"
      ]
    },
    {
      "cell_type": "code",
      "execution_count": 7,
      "id": "cf2ee334",
      "metadata": {
        "execution": {
          "iopub.execute_input": "2022-12-15T08:40:14.918803Z",
          "iopub.status.busy": "2022-12-15T08:40:14.918662Z",
          "iopub.status.idle": "2022-12-15T08:40:14.923019Z",
          "shell.execute_reply": "2022-12-15T08:40:14.922619Z"
        }
      },
      "outputs": [
        {
          "name": "stdout",
          "output_type": "stream",
          "text": [
            "            | name  | age | owner\n",
            "^VJ3K9DF... | Ace   | 7   | Alice\n",
            "^V1RPZW8... | Bella | 4   | Bob\n",
            "^R0GE4WM... | Coco  | 12  | Alice\n"
          ]
        }
      ],
      "source": [
        "table_dogs_full = table_dogs_corrected.join(\n",
        "    table_dogs_owners, table_dogs_corrected.name == table_dogs_owners.name\n",
        ").select(table_dogs_corrected.name, table_dogs_corrected.age, table_dogs_owners.owner)\n",
        "pw.debug.compute_and_print(table_dogs_full)"
      ]
    },
    {
      "cell_type": "markdown",
      "id": "2bbca556",
      "metadata": {},
      "source": [
        "## To go further\n",
        "\n",
        "As we continue you will see some more advanced programming constructs which provide a lot of flexibility to Pathway:\n",
        "* Applying Machine Learning to data tables.\n",
        "* The ability to do iteration and recursion."
      ]
    },
    {
      "cell_type": "markdown",
      "id": "b4187f86",
      "metadata": {},
      "source": [
        "We will also use Pathway connectors to external data sources (for data inputs) and sinks (for data outputs)."
      ]
    },
    {
      "cell_type": "markdown",
      "id": "c0db60d4",
      "metadata": {},
      "source": [
        "This, and a lot more, is covered in recipes in the Pathway cookbook - try these for a start:\n",
        "* [Detect suspicious user activity](https://pathway.com/developers/tutorials/suspicious_activity_tumbling_window).\n",
        "* [Find the time elapsed between events in an event stream](https://pathway.com/developers/tutorials/event_stream_processing_time_between_occurrences).\n",
        "* [Compute the PageRank of a network](https://pathway.com/developers/tutorials/pagerank)."
      ]
    }
  ],
  "metadata": {
    "jupytext": {
      "cell_metadata_filter": "-all"
    },
    "kernelspec": {
      "display_name": "Python 3 (ipykernel)",
      "language": "python",
      "name": "python3"
    },
    "language_info": {
      "codemirror_mode": {
        "name": "ipython",
        "version": 3
      },
      "file_extension": ".py",
      "mimetype": "text/x-python",
      "name": "python",
      "nbconvert_exporter": "python",
      "pygments_lexer": "ipython3",
      "version": "3.10.6"
    }
  },
  "nbformat": 4,
  "nbformat_minor": 5
}