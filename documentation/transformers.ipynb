{
  "cells": [
    {
      "cell_type": "markdown",
      "metadata": {
        "id": "view-in-colab"
      },
      "source": [
        "<a href=\"https://colab.research.google.com/github/pathwaycom/pathway-examples/blob/main/documentation/transformers.ipynb\" target=\"_parent\"><img src=\"https://pathway.com/assets/colab-badge.svg\" alt=\"Run In Colab\" class=\"inline\"/></a>"
      ]
    },
    {
      "cell_type": "markdown",
      "source": [
        "# [Colab-specific instructions] Installing Pathway with Python 3.8+\n",
        "\n",
        "> In the cell below we install pathway into a Python 3.8+ Linux runtime.\n",
        "> Please:\n",
        "> 1. **Insert in the form below the pip install command** given to you with your beta access.\n",
        "> 2. **Run the colab notebook (Ctrl+F9)**, disregarding the 'not authored by Google' warning. **The installation and loading time is less than 1 minute**.\n"
      ],
      "metadata": {
        "id": "notebook-instructions"
      }
    },
    {
      "cell_type": "code",
      "source": [
        "#@title \u2699\ufe0f Pathway installer. Please provide the pip install link for Pathway:\n",
        "# Please copy here the installation line:\n",
        "PATHWAY_INSTALL_LINE='pip install --extra-index-url https://packages.pathway.com/... pathway' #@param {type:\"string\"}\n",
        "\n",
        "PATHWAY_INSTALL_LINE=PATHWAY_INSTALL_LINE.replace('pip install --extra-index-url ', '')\n",
        "\n",
        "class InterruptExecution(Exception):\n",
        "    def _render_traceback_(self):\n",
        "        pass\n",
        "\n",
        "if '...' in PATHWAY_INSTALL_LINE or not PATHWAY_INSTALL_LINE.startswith('https://packages.pathway.com/'):\n",
        "    print(\n",
        "        \"\u26d4 Please register at https://pathway.com/developers/documentation/introduction/installation-and-first-steps\\n\"\n",
        "        \"to Copy & Paste the Linux pip install line for Pathway!\"\n",
        "    )\n",
        "    raise InterruptExecution\n",
        "\n",
        "DO_INSTALL = False\n",
        "import sys\n",
        "if sys.version_info >= (3, 8):\n",
        "    print(f'\u2705 Python {sys.version} is active.')\n",
        "    try:\n",
        "        import pathway as pw\n",
        "        print('\u2705 Pathway successfully imported.')\n",
        "    except:\n",
        "        DO_INSTALL = True\n",
        "else:\n",
        "    print(\"\u26d4 Pathway requires Python 3.8 or higher.\")\n",
        "    raise InterruptExecution\n",
        "\n",
        "if DO_INSTALL:\n",
        "    !ls $(dirname $(which python))/../lib/python*/*-packages/pathway 1>/dev/null 2>/dev/null || echo \"\u231b Installing Pathway. This usually takes a few seconds...\"\n",
        "    !ls $(dirname $(which python))/../lib/python*/*-packages/pathway 1>/dev/null 2>/dev/null || pip install --extra-index-url {PATHWAY_INSTALL_LINE} 1>/dev/null 2>/dev/null\n",
        "    !ls $(dirname $(which python))/../lib/python*/*-packages/pathway 1>/dev/null 2>/dev/null || echo \"\u26d4 Installation failed. Don't be shy to reach out to the community at https://pathway.com !\"\n",
        "    !ls $(dirname $(which python))/../lib/python*/*-packages/pathway 1>/dev/null 2>/dev/null && echo \"\u2705 All installed. Enjoy Pathway!\"\n"
      ],
      "metadata": {
        "id": "pip-installation-pathway",
        "cellView": "form"
      },
      "execution_count": null,
      "outputs": []
    },
    {
      "cell_type": "markdown",
      "id": "d7d91a62",
      "metadata": {},
      "source": [
        "# A tour of Pathway's transformer classes\n",
        "\n",
        "In this section, we will go through several examples of Pathway transformer classes.\n",
        "This should give you a good overview of how to handle them and how useful they are.\n",
        "\n",
        "We will not go into implementation details, so you are strongly encouraged to read [our introduction](https://pathway.com/developers/documentation/transformer-classes/transformer-intro) first.\n",
        "\n",
        "In the following, we are going to see how to use transformer classes to perform [simple operations on a single row](#simple-operations-on-a-single-row), use [transformers as a method](#transformers-as-a-method), and use transformers to [combine several tables at once](#transformer-classes-using-two-different-tables).\n",
        "\n",
        "## Our guinea pig\n",
        "\n",
        "You will experiment on the following table:"
      ]
    },
    {
      "cell_type": "code",
      "execution_count": 1,
      "id": "0013744f",
      "metadata": {
        "execution": {
          "iopub.execute_input": "2023-02-20T16:02:03.760780Z",
          "iopub.status.busy": "2023-02-20T16:02:03.760676Z",
          "iopub.status.idle": "2023-02-20T16:02:04.800927Z",
          "shell.execute_reply": "2023-02-20T16:02:04.800586Z"
        }
      },
      "outputs": [],
      "source": [
        "from typing import Any\n",
        "\n",
        "import pathway as pw\n",
        "\n",
        "guinea_pig = pw.debug.table_from_markdown(\n",
        "    \"\"\"\n",
        "    | val  | aux\n",
        " 0  | 0    | 10\n",
        " 1  | 1    | 11\n",
        " 2  | 2    | 12\n",
        " 3  | 3    | 13\n",
        " 4  | 4    | 14\n",
        " 5  | 5    | 15\n",
        " 6  | 6    | 16\n",
        " \"\"\"\n",
        ")"
      ]
    },
    {
      "cell_type": "markdown",
      "id": "3398979c",
      "metadata": {},
      "source": [
        "## Simple operations on a single row\n",
        "\n",
        "First, you are going to perform simple operations on the table: adding a given number, obtaining the squared value, and performing the sum of two columns.\n",
        "\n",
        "### Adding 10 to each value:"
      ]
    },
    {
      "cell_type": "code",
      "execution_count": 2,
      "id": "80436c7f",
      "metadata": {
        "execution": {
          "iopub.execute_input": "2023-02-20T16:02:04.802624Z",
          "iopub.status.busy": "2023-02-20T16:02:04.802489Z",
          "iopub.status.idle": "2023-02-20T16:02:04.807567Z",
          "shell.execute_reply": "2023-02-20T16:02:04.807307Z"
        }
      },
      "outputs": [
        {
          "name": "stdout",
          "output_type": "stream",
          "text": [
            "            | result\n",
            "^8JFNKVV... | 10\n",
            "^2TMTFGY... | 11\n",
            "^YHZBTNY... | 12\n",
            "^SERVYWW... | 13\n",
            "^8GR6BSX... | 14\n",
            "^76QPWK3... | 15\n",
            "^C4S6S48... | 16\n"
          ]
        }
      ],
      "source": [
        "@pw.transformer\n",
        "class add_ten:\n",
        "    class table(pw.ClassArg):\n",
        "        val = pw.input_attribute()\n",
        "\n",
        "        @pw.output_attribute\n",
        "        def result(self) -> float:\n",
        "            return self.val + 10\n",
        "\n",
        "\n",
        "result = add_ten(guinea_pig).table\n",
        "pw.debug.compute_and_print(result)"
      ]
    },
    {
      "cell_type": "markdown",
      "id": "e9e48f70",
      "metadata": {},
      "source": [
        "As you can see only the column `val` has been taken into account.\n",
        "\n",
        "### Obtaining the squared value of each value:"
      ]
    },
    {
      "cell_type": "code",
      "execution_count": 3,
      "id": "e8396e87",
      "metadata": {
        "execution": {
          "iopub.execute_input": "2023-02-20T16:02:04.808784Z",
          "iopub.status.busy": "2023-02-20T16:02:04.808596Z",
          "iopub.status.idle": "2023-02-20T16:02:04.812625Z",
          "shell.execute_reply": "2023-02-20T16:02:04.812324Z"
        }
      },
      "outputs": [
        {
          "name": "stdout",
          "output_type": "stream",
          "text": [
            "            | result\n",
            "^8JFNKVV... | 0\n",
            "^2TMTFGY... | 1\n",
            "^YHZBTNY... | 4\n",
            "^SERVYWW... | 9\n",
            "^8GR6BSX... | 16\n",
            "^76QPWK3... | 25\n",
            "^C4S6S48... | 36\n"
          ]
        }
      ],
      "source": [
        "@pw.transformer\n",
        "class squared_value:\n",
        "    class table(pw.ClassArg):\n",
        "        val = pw.input_attribute()\n",
        "\n",
        "        @pw.output_attribute\n",
        "        def result(self) -> float:\n",
        "            return self.val * self.val\n",
        "\n",
        "\n",
        "result = squared_value(guinea_pig).table\n",
        "pw.debug.compute_and_print(result)"
      ]
    },
    {
      "cell_type": "markdown",
      "id": "51b432d9",
      "metadata": {},
      "source": [
        "### Summing two columns"
      ]
    },
    {
      "cell_type": "code",
      "execution_count": 4,
      "id": "7fb734b0",
      "metadata": {
        "execution": {
          "iopub.execute_input": "2023-02-20T16:02:04.813898Z",
          "iopub.status.busy": "2023-02-20T16:02:04.813678Z",
          "iopub.status.idle": "2023-02-20T16:02:04.817787Z",
          "shell.execute_reply": "2023-02-20T16:02:04.817531Z"
        }
      },
      "outputs": [
        {
          "name": "stdout",
          "output_type": "stream",
          "text": [
            "            | result\n",
            "^8JFNKVV... | 10\n",
            "^2TMTFGY... | 12\n",
            "^YHZBTNY... | 14\n",
            "^SERVYWW... | 16\n",
            "^8GR6BSX... | 18\n",
            "^76QPWK3... | 20\n",
            "^C4S6S48... | 22\n"
          ]
        }
      ],
      "source": [
        "@pw.transformer\n",
        "class summing_columns:\n",
        "    class table(pw.ClassArg):\n",
        "        val = pw.input_attribute()\n",
        "        aux = pw.input_attribute()\n",
        "\n",
        "        @pw.output_attribute\n",
        "        def result(self) -> float:\n",
        "            return self.val + self.aux\n",
        "\n",
        "\n",
        "result = summing_columns(guinea_pig).table\n",
        "pw.debug.compute_and_print(result)"
      ]
    },
    {
      "cell_type": "markdown",
      "id": "6b9ac828",
      "metadata": {},
      "source": [
        "Those three results can be obtained by a unique transformer:"
      ]
    },
    {
      "cell_type": "code",
      "execution_count": 5,
      "id": "9c5ba56d",
      "metadata": {
        "execution": {
          "iopub.execute_input": "2023-02-20T16:02:04.818994Z",
          "iopub.status.busy": "2023-02-20T16:02:04.818782Z",
          "iopub.status.idle": "2023-02-20T16:02:04.824249Z",
          "shell.execute_reply": "2023-02-20T16:02:04.824011Z"
        }
      },
      "outputs": [
        {
          "name": "stdout",
          "output_type": "stream",
          "text": [
            "            | result_add | result_squared | result_sum\n",
            "^8JFNKVV... | 10         | 0              | 10\n",
            "^2TMTFGY... | 11         | 1              | 12\n",
            "^YHZBTNY... | 12         | 4              | 14\n",
            "^SERVYWW... | 13         | 9              | 16\n",
            "^8GR6BSX... | 14         | 16             | 18\n",
            "^76QPWK3... | 15         | 25             | 20\n",
            "^C4S6S48... | 16         | 36             | 22\n"
          ]
        }
      ],
      "source": [
        "@pw.transformer\n",
        "class combined_transformer:\n",
        "    class table(pw.ClassArg):\n",
        "        val = pw.input_attribute()\n",
        "        aux = pw.input_attribute()\n",
        "\n",
        "        @pw.output_attribute\n",
        "        def result_add(self) -> float:\n",
        "            return self.val + 10\n",
        "\n",
        "        @pw.output_attribute\n",
        "        def result_squared(self) -> float:\n",
        "            return self.val * self.val\n",
        "\n",
        "        @pw.output_attribute\n",
        "        def result_sum(self) -> float:\n",
        "            return self.val + self.aux\n",
        "\n",
        "\n",
        "result = combined_transformer(guinea_pig).table\n",
        "pw.debug.compute_and_print(result)"
      ]
    },
    {
      "cell_type": "markdown",
      "id": "ab67151c",
      "metadata": {},
      "source": [
        "Finally, you can use the new values inside the same transformer to perform more advanced operations:"
      ]
    },
    {
      "cell_type": "code",
      "execution_count": 6,
      "id": "a2df2151",
      "metadata": {
        "execution": {
          "iopub.execute_input": "2023-02-20T16:02:04.825519Z",
          "iopub.status.busy": "2023-02-20T16:02:04.825316Z",
          "iopub.status.idle": "2023-02-20T16:02:04.829904Z",
          "shell.execute_reply": "2023-02-20T16:02:04.829648Z"
        }
      },
      "outputs": [
        {
          "name": "stdout",
          "output_type": "stream",
          "text": [
            "            | result_add | result_double\n",
            "^8JFNKVV... | 10         | 20\n",
            "^2TMTFGY... | 11         | 22\n",
            "^YHZBTNY... | 12         | 24\n",
            "^SERVYWW... | 13         | 26\n",
            "^8GR6BSX... | 14         | 28\n",
            "^76QPWK3... | 15         | 30\n",
            "^C4S6S48... | 16         | 32\n"
          ]
        }
      ],
      "source": [
        "@pw.transformer\n",
        "class reusing_transformer:\n",
        "    class table(pw.ClassArg):\n",
        "        val = pw.input_attribute()\n",
        "\n",
        "        @pw.output_attribute\n",
        "        def result_add(self) -> float:\n",
        "            return self.val + 10\n",
        "\n",
        "        @pw.output_attribute\n",
        "        def result_double(self) -> float:\n",
        "            return self.result_add + self.result_add\n",
        "\n",
        "\n",
        "result = reusing_transformer(guinea_pig).table\n",
        "pw.debug.compute_and_print(result)"
      ]
    },
    {
      "cell_type": "markdown",
      "id": "8503188f",
      "metadata": {},
      "source": [
        "## Transformers as a method\n",
        "\n",
        "You are not bound to static computation as transformers provide a way to obtain methods as new values.\n",
        "This is done using the `method` keyword:"
      ]
    },
    {
      "cell_type": "code",
      "execution_count": 7,
      "id": "3f55c317",
      "metadata": {
        "execution": {
          "iopub.execute_input": "2023-02-20T16:02:04.831115Z",
          "iopub.status.busy": "2023-02-20T16:02:04.830914Z",
          "iopub.status.idle": "2023-02-20T16:02:04.837916Z",
          "shell.execute_reply": "2023-02-20T16:02:04.837649Z"
        }
      },
      "outputs": [
        {
          "name": "stdout",
          "output_type": "stream",
          "text": [
            "            | res\n",
            "^8JFNKVV... | 10\n",
            "^2TMTFGY... | 11\n",
            "^YHZBTNY... | 12\n",
            "^SERVYWW... | 13\n",
            "^8GR6BSX... | 14\n",
            "^76QPWK3... | 15\n",
            "^C4S6S48... | 16\n"
          ]
        }
      ],
      "source": [
        "@pw.transformer\n",
        "class method_transformer:\n",
        "    class table(pw.ClassArg):\n",
        "        val: float = pw.input_attribute()\n",
        "\n",
        "        @pw.method\n",
        "        def method_result(self, arg) -> float:\n",
        "            return self.val + arg\n",
        "\n",
        "\n",
        "method_table = method_transformer(guinea_pig).table\n",
        "result = method_table.select(res=method_table.method_result(10))\n",
        "pw.debug.compute_and_print(result)"
      ]
    },
    {
      "cell_type": "markdown",
      "id": "900c3053",
      "metadata": {
        "lines_to_next_cell": 2
      },
      "source": [
        "## Transformer Classes using two different tables\n",
        "\n",
        "Now you might want to do something more complicated which requires two different tables.\n",
        "\n",
        "You have a table `matchings` which contains pairs of values `a` and `b` and a table `profiles` which contains the profile of each value of the pairs.\n",
        "You want to compute, for each pair, the sum of the profiles of the values of the pair.\n",
        "\n",
        "First, you need the tables:"
      ]
    },
    {
      "cell_type": "code",
      "execution_count": 8,
      "id": "ae49af5c",
      "metadata": {
        "execution": {
          "iopub.execute_input": "2023-02-20T16:02:04.839093Z",
          "iopub.status.busy": "2023-02-20T16:02:04.838914Z",
          "iopub.status.idle": "2023-02-20T16:02:04.843615Z",
          "shell.execute_reply": "2023-02-20T16:02:04.843366Z"
        }
      },
      "outputs": [],
      "source": [
        "profiles = pw.debug.table_from_markdown(\n",
        "    \"\"\"\n",
        "    | profile\n",
        " 0  | 1\n",
        " 1  | 10\n",
        " 2  | 100\n",
        " 3  | 1000\n",
        " \"\"\"\n",
        ")\n",
        "\n",
        "matchings = pw.debug.table_from_markdown(\n",
        "    \"\"\"\n",
        "    | a  | b\n",
        " 0  | 0  | 2\n",
        " 1  | 1  | 3\n",
        " \"\"\"\n",
        ")\n",
        "matchings = matchings.select(\n",
        "    a=profiles.pointer_from(matchings.a), b=profiles.pointer_from(matchings.b)\n",
        ")"
      ]
    },
    {
      "cell_type": "markdown",
      "id": "dcb6c5e5",
      "metadata": {},
      "source": [
        "Now, you can do a transformer which takes the two tables as parameters.\n",
        "To access a given table inside the transformer, use the notation `self.transformer.my_table`."
      ]
    },
    {
      "cell_type": "code",
      "execution_count": 9,
      "id": "7df5a204",
      "metadata": {
        "execution": {
          "iopub.execute_input": "2023-02-20T16:02:04.844826Z",
          "iopub.status.busy": "2023-02-20T16:02:04.844633Z",
          "iopub.status.idle": "2023-02-20T16:02:04.849855Z",
          "shell.execute_reply": "2023-02-20T16:02:04.849571Z"
        }
      },
      "outputs": [
        {
          "name": "stdout",
          "output_type": "stream",
          "text": [
            "            | sum_profiles\n",
            "^8JFNKVV... | 101\n",
            "^2TMTFGY... | 1010\n"
          ]
        }
      ],
      "source": [
        "@pw.transformer\n",
        "class using_two_tables:\n",
        "    class profiles_table(pw.ClassArg):\n",
        "        profile: float = pw.input_attribute()\n",
        "\n",
        "    class matchings_table(pw.ClassArg):\n",
        "        a: pw.Pointer = pw.input_attribute()\n",
        "        b: pw.Pointer = pw.input_attribute()\n",
        "\n",
        "        @pw.output_attribute\n",
        "        def sum_profiles(self) -> float:\n",
        "            pa = self.transformer.profiles_table[self.a].profile\n",
        "            pb = self.transformer.profiles_table[self.b].profile\n",
        "            return pa + pb\n",
        "\n",
        "\n",
        "result = using_two_tables(\n",
        "    profiles_table=profiles, matchings_table=matchings\n",
        ").matchings_table\n",
        "pw.debug.compute_and_print(result)"
      ]
    },
    {
      "cell_type": "markdown",
      "id": "6ac05221",
      "metadata": {},
      "source": [
        "## Other topics\n",
        "\n",
        "We hope these examples make you feel comfortable using Pathway transformer classes. You can take a look at our advanced example of [transformer classes on a tree](https://pathway.com/developers/documentation/transformer-classes/transformer-classes).\n",
        "\n",
        "To continue your exploration of Pathway, you can also check out our [connectors](https://pathway.com/developers/documentation/input-and-output-streams/connectors), or see directly how to use Pathway to implement classic algorithms such as [PageRank](https://pathway.com/developers/tutorials/pagerank)."
      ]
    }
  ],
  "metadata": {
    "jupytext": {
      "cell_metadata_filter": "-all",
      "main_language": "python",
      "notebook_metadata_filter": "-all"
    },
    "language_info": {
      "codemirror_mode": {
        "name": "ipython",
        "version": 3
      },
      "file_extension": ".py",
      "mimetype": "text/x-python",
      "name": "python",
      "nbconvert_exporter": "python",
      "pygments_lexer": "ipython3",
      "version": "3.10.8"
    }
  },
  "nbformat": 4,
  "nbformat_minor": 5
}