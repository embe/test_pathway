{
  "cells": [
    {
      "cell_type": "markdown",
      "source": [
        "# Setting up Python and Pathway\n",
        "\n",
        "Pathway can be installed to a Python 3.10 environment using pip, please register at https://pathway.com to get beta access to the package"
      ],
      "metadata": {
        "id": "notebook-instructions"
      }
    },
    {
      "cell_type": "code",
      "source": [
        "PIP_PACKAGE_ADDRESS=\"\"\n",
        "if not PIP_PACKAGE_ADDRESS:\n",
        "    print(\n",
        "        \"Please register at https://pathway.com/developers/documentation/introduction/installation-and-first-steps\\n\"\n",
        "        \"To get the pip package installation link!\"\n",
        "    )"
      ],
      "metadata": {
        "id": "pip-package-selection"
      },
      "execution_count": null,
      "outputs": []
    },
    {
      "cell_type": "code",
      "source": [
        "if not (sys.version_info.major==3 and sys.version_info.minor==10):\n",
        "    raise Exception(\"Pathway is only built for Python 3.10 at the moment\")"
      ],
      "metadata": {
        "id": "check-py-version"
      },
      "execution_count": null,
      "outputs": []
    },
    {
      "cell_type": "code",
      "source": [
        "# Install pathway's package\n",
        "!pip install {PIP_PACKAGE_ADDRESS} 1>/dev/null 2>/dev/null"
      ],
      "metadata": {
        "id": "pip-install-pathway"
      },
      "execution_count": null,
      "outputs": []
    },
    {
      "cell_type": "markdown",
      "id": "8b5cab45",
      "metadata": {},
      "source": [
        "# A tour of Pathway's transformer classes\n",
        "\n",
        "In this part of the guide, we will go through several examples of Pathway's transformer classes.\n",
        "This should give you a good overview of how to handle them and how useful they are.\n",
        "\n",
        "We will not go into the details of the implementations, so you are strongly encouraged to read [our introduction](/developers/documentation/transformer-classes/transformer-intro) first.\n",
        "\n",
        "In the following, we are going to see how to use transformer classes to perform [simples operations on a single row](#simple-operations-on-a-single-row), use [transformers as a method](#transformers-as-a-method), and use transformers to [combine several tables at once](#transformer-classes-using-two-different-tables).\n",
        "\n",
        "## Our guinea pig\n",
        "\n",
        "We will experiment on the following table:"
      ]
    },
    {
      "cell_type": "code",
      "execution_count": 1,
      "id": "f917411d",
      "metadata": {
        "execution": {
          "iopub.execute_input": "2022-11-30T16:00:43.097648Z",
          "iopub.status.busy": "2022-11-30T16:00:43.097297Z",
          "iopub.status.idle": "2022-11-30T16:00:44.117921Z",
          "shell.execute_reply": "2022-11-30T16:00:44.117329Z"
        }
      },
      "outputs": [],
      "source": [
        "from typing import Any\n",
        "\n",
        "import pathway as pw\n",
        "\n",
        "guinea_pig = pw.debug.table_from_markdown(\n",
        "    \"\"\"\n",
        "    | val  | aux\n",
        " 0  | 0    | 10\n",
        " 1  | 1    | 11\n",
        " 2  | 2    | 12\n",
        " 3  | 3    | 13\n",
        " 4  | 4    | 14\n",
        " 5  | 5    | 15\n",
        " 6  | 6    | 16\n",
        " \"\"\"\n",
        ")"
      ]
    },
    {
      "cell_type": "markdown",
      "id": "6751decd",
      "metadata": {},
      "source": [
        "## Simple operations on a single row\n",
        "\n",
        "First, we are going to perform simple operations on our table: adding a given number, obtaining the squared value, and performing the sum of two columns.\n",
        "\n",
        "### Adding 10 to each value:"
      ]
    },
    {
      "cell_type": "code",
      "execution_count": 2,
      "id": "7873b44f",
      "metadata": {
        "execution": {
          "iopub.execute_input": "2022-11-30T16:00:44.120416Z",
          "iopub.status.busy": "2022-11-30T16:00:44.120231Z",
          "iopub.status.idle": "2022-11-30T16:00:44.127045Z",
          "shell.execute_reply": "2022-11-30T16:00:44.126622Z"
        }
      },
      "outputs": [
        {
          "name": "stdout",
          "output_type": "stream",
          "text": [
            "            | result\n",
            "^8JFNKVV... | 10\n",
            "^2TMTFGY... | 11\n",
            "^YHZBTNY... | 12\n",
            "^SERVYWW... | 13\n",
            "^8GR6BSX... | 14\n",
            "^76QPWK3... | 15\n",
            "^C4S6S48... | 16\n"
          ]
        }
      ],
      "source": [
        "@pw.transformer\n",
        "class add_ten:\n",
        "    class table(pw.ClassArg):\n",
        "        val = pw.input_attribute()\n",
        "\n",
        "        @pw.output_attribute\n",
        "        def result(self) -> float:\n",
        "            return self.val + 10\n",
        "\n",
        "\n",
        "result = add_ten(guinea_pig).table\n",
        "pw.debug.compute_and_print(result)"
      ]
    },
    {
      "cell_type": "markdown",
      "id": "b6e862cc",
      "metadata": {},
      "source": [
        "As you can see only the column `val` has been taken into account.\n",
        "\n",
        "### Obtaining the squared value of each value:"
      ]
    },
    {
      "cell_type": "code",
      "execution_count": 3,
      "id": "6c6336bf",
      "metadata": {
        "execution": {
          "iopub.execute_input": "2022-11-30T16:00:44.128687Z",
          "iopub.status.busy": "2022-11-30T16:00:44.128538Z",
          "iopub.status.idle": "2022-11-30T16:00:44.134232Z",
          "shell.execute_reply": "2022-11-30T16:00:44.133823Z"
        }
      },
      "outputs": [
        {
          "name": "stdout",
          "output_type": "stream",
          "text": [
            "            | result\n",
            "^8JFNKVV... | 0\n",
            "^2TMTFGY... | 1\n",
            "^YHZBTNY... | 4\n",
            "^SERVYWW... | 9\n",
            "^8GR6BSX... | 16\n",
            "^76QPWK3... | 25\n",
            "^C4S6S48... | 36\n"
          ]
        }
      ],
      "source": [
        "@pw.transformer\n",
        "class squared_value:\n",
        "    class table(pw.ClassArg):\n",
        "        val = pw.input_attribute()\n",
        "\n",
        "        @pw.output_attribute\n",
        "        def result(self) -> float:\n",
        "            return self.val * self.val\n",
        "\n",
        "\n",
        "result = squared_value(guinea_pig).table\n",
        "pw.debug.compute_and_print(result)"
      ]
    },
    {
      "cell_type": "markdown",
      "id": "1d03a50d",
      "metadata": {},
      "source": [
        "### Summing two columns"
      ]
    },
    {
      "cell_type": "code",
      "execution_count": 4,
      "id": "295d61c3",
      "metadata": {
        "execution": {
          "iopub.execute_input": "2022-11-30T16:00:44.135780Z",
          "iopub.status.busy": "2022-11-30T16:00:44.135636Z",
          "iopub.status.idle": "2022-11-30T16:00:44.142612Z",
          "shell.execute_reply": "2022-11-30T16:00:44.142202Z"
        }
      },
      "outputs": [
        {
          "name": "stdout",
          "output_type": "stream",
          "text": [
            "            | result\n",
            "^8JFNKVV... | 10\n",
            "^2TMTFGY... | 12\n",
            "^YHZBTNY... | 14\n",
            "^SERVYWW... | 16\n",
            "^8GR6BSX... | 18\n",
            "^76QPWK3... | 20\n",
            "^C4S6S48... | 22\n"
          ]
        }
      ],
      "source": [
        "@pw.transformer\n",
        "class summing_columns:\n",
        "    class table(pw.ClassArg):\n",
        "        val = pw.input_attribute()\n",
        "        aux = pw.input_attribute()\n",
        "\n",
        "        @pw.output_attribute\n",
        "        def result(self) -> float:\n",
        "            return self.val + self.aux\n",
        "\n",
        "\n",
        "result = summing_columns(guinea_pig).table\n",
        "pw.debug.compute_and_print(result)"
      ]
    },
    {
      "cell_type": "markdown",
      "id": "e2841843",
      "metadata": {},
      "source": [
        "Those three results can be obtained in a unique transformer:"
      ]
    },
    {
      "cell_type": "code",
      "execution_count": 5,
      "id": "d6eb1ebd",
      "metadata": {
        "execution": {
          "iopub.execute_input": "2022-11-30T16:00:44.144194Z",
          "iopub.status.busy": "2022-11-30T16:00:44.144053Z",
          "iopub.status.idle": "2022-11-30T16:00:44.153594Z",
          "shell.execute_reply": "2022-11-30T16:00:44.153176Z"
        }
      },
      "outputs": [
        {
          "name": "stdout",
          "output_type": "stream",
          "text": [
            "            | result_add | result_squared | result_sum\n",
            "^8JFNKVV... | 10         | 0              | 10\n",
            "^2TMTFGY... | 11         | 1              | 12\n",
            "^YHZBTNY... | 12         | 4              | 14\n",
            "^SERVYWW... | 13         | 9              | 16\n",
            "^8GR6BSX... | 14         | 16             | 18\n",
            "^76QPWK3... | 15         | 25             | 20\n",
            "^C4S6S48... | 16         | 36             | 22\n"
          ]
        }
      ],
      "source": [
        "@pw.transformer\n",
        "class combined_transformer:\n",
        "    class table(pw.ClassArg):\n",
        "        val = pw.input_attribute()\n",
        "        aux = pw.input_attribute()\n",
        "\n",
        "        @pw.output_attribute\n",
        "        def result_add(self) -> float:\n",
        "            return self.val + 10\n",
        "\n",
        "        @pw.output_attribute\n",
        "        def result_squared(self) -> float:\n",
        "            return self.val * self.val\n",
        "\n",
        "        @pw.output_attribute\n",
        "        def result_sum(self) -> float:\n",
        "            return self.val + self.aux\n",
        "\n",
        "\n",
        "result = combined_transformer(guinea_pig).table\n",
        "pw.debug.compute_and_print(result)"
      ]
    },
    {
      "cell_type": "markdown",
      "id": "0d25d44e",
      "metadata": {},
      "source": [
        "Finally, we can use the new values inside the same transformer to perform more advanced operations:"
      ]
    },
    {
      "cell_type": "code",
      "execution_count": 6,
      "id": "c9dd5cca",
      "metadata": {
        "execution": {
          "iopub.execute_input": "2022-11-30T16:00:44.155160Z",
          "iopub.status.busy": "2022-11-30T16:00:44.155019Z",
          "iopub.status.idle": "2022-11-30T16:00:44.165470Z",
          "shell.execute_reply": "2022-11-30T16:00:44.165059Z"
        }
      },
      "outputs": [
        {
          "name": "stdout",
          "output_type": "stream",
          "text": [
            "            | result_add | result_double\n",
            "^8JFNKVV... | 10         | 20\n",
            "^2TMTFGY... | 11         | 22\n",
            "^YHZBTNY... | 12         | 24\n",
            "^SERVYWW... | 13         | 26\n",
            "^8GR6BSX... | 14         | 28\n",
            "^76QPWK3... | 15         | 30\n",
            "^C4S6S48... | 16         | 32\n"
          ]
        }
      ],
      "source": [
        "@pw.transformer\n",
        "class reusing_transformer:\n",
        "    class table(pw.ClassArg):\n",
        "        val = pw.input_attribute()\n",
        "\n",
        "        @pw.output_attribute\n",
        "        def result_add(self) -> float:\n",
        "            return self.val + 10\n",
        "\n",
        "        @pw.output_attribute\n",
        "        def result_double(self) -> float:\n",
        "            return self.result_add + self.result_add\n",
        "\n",
        "\n",
        "result = reusing_transformer(guinea_pig).table\n",
        "pw.debug.compute_and_print(result)"
      ]
    },
    {
      "cell_type": "markdown",
      "id": "b98ea925",
      "metadata": {},
      "source": [
        "## Transformers as a method\n",
        "\n",
        "We are not bound to static computation as transformers provide way to obtain methods as new values.\n",
        "This is done using the `method` keyword:"
      ]
    },
    {
      "cell_type": "code",
      "execution_count": 7,
      "id": "a45cebcc",
      "metadata": {
        "execution": {
          "iopub.execute_input": "2022-11-30T16:00:44.167024Z",
          "iopub.status.busy": "2022-11-30T16:00:44.166885Z",
          "iopub.status.idle": "2022-11-30T16:00:44.181087Z",
          "shell.execute_reply": "2022-11-30T16:00:44.180660Z"
        }
      },
      "outputs": [
        {
          "name": "stdout",
          "output_type": "stream",
          "text": [
            "            | res\n",
            "^8JFNKVV... | 10\n",
            "^2TMTFGY... | 11\n",
            "^YHZBTNY... | 12\n",
            "^SERVYWW... | 13\n",
            "^8GR6BSX... | 14\n",
            "^76QPWK3... | 15\n",
            "^C4S6S48... | 16\n"
          ]
        }
      ],
      "source": [
        "@pw.transformer\n",
        "class method_transformer:\n",
        "    class table(pw.ClassArg):\n",
        "        val: float = pw.input_attribute()\n",
        "\n",
        "        @pw.method\n",
        "        def method_result(self, arg) -> float:\n",
        "            return self.val + arg\n",
        "\n",
        "\n",
        "method_table = method_transformer(guinea_pig).table\n",
        "result = method_table.select(res=method_table.method_result(10))\n",
        "pw.debug.compute_and_print(result)"
      ]
    },
    {
      "cell_type": "markdown",
      "id": "c74093a6",
      "metadata": {
        "lines_to_next_cell": 2
      },
      "source": [
        "## Transformer Classes using two different tables\n",
        "\n",
        "Now we want to do something more complicated which requires two different tables.\n",
        "\n",
        "We have a table `matchings` which contains pairs of values `a` and `b` and a table `profiles` which contains the profile of each value of the pairs.\n",
        "We want to compute, for each pair, the sum of the profiles of the values of the pair.\n",
        "\n",
        "First, we need the tables:"
      ]
    },
    {
      "cell_type": "code",
      "execution_count": 8,
      "id": "c9158b62",
      "metadata": {
        "execution": {
          "iopub.execute_input": "2022-11-30T16:00:44.182657Z",
          "iopub.status.busy": "2022-11-30T16:00:44.182512Z",
          "iopub.status.idle": "2022-11-30T16:00:44.188909Z",
          "shell.execute_reply": "2022-11-30T16:00:44.188489Z"
        }
      },
      "outputs": [],
      "source": [
        "profiles = pw.debug.table_from_markdown(\n",
        "    \"\"\"\n",
        "    | profile\n",
        " 0  | 1\n",
        " 1  | 10\n",
        " 2  | 100\n",
        " 3  | 1000\n",
        " \"\"\"\n",
        ")\n",
        "\n",
        "matchings = pw.debug.table_from_markdown(\n",
        "    \"\"\"\n",
        "    | a  | b\n",
        " 0  | 0  | 2\n",
        " 1  | 1  | 3\n",
        " \"\"\"\n",
        ")\n",
        "matchings = matchings.select(\n",
        "    a=profiles.pointer_from(matchings.a), b=profiles.pointer_from(matchings.b)\n",
        ")"
      ]
    },
    {
      "cell_type": "markdown",
      "id": "bc5e8b58",
      "metadata": {},
      "source": [
        "Now, we do a transformer which takes the two tables as parameters.\n",
        "To access a given table inside the transformer, we use the notation `self.transformer.my_table`."
      ]
    },
    {
      "cell_type": "code",
      "execution_count": 9,
      "id": "f55db024",
      "metadata": {
        "execution": {
          "iopub.execute_input": "2022-11-30T16:00:44.190481Z",
          "iopub.status.busy": "2022-11-30T16:00:44.190343Z",
          "iopub.status.idle": "2022-11-30T16:00:44.206480Z",
          "shell.execute_reply": "2022-11-30T16:00:44.206040Z"
        }
      },
      "outputs": [
        {
          "name": "stdout",
          "output_type": "stream",
          "text": [
            "            | sum_profiles\n",
            "^8JFNKVV... | 101\n",
            "^2TMTFGY... | 1010\n"
          ]
        }
      ],
      "source": [
        "@pw.transformer\n",
        "class using_two_tables:\n",
        "    class profiles_table(pw.ClassArg):\n",
        "        profile: float = pw.input_attribute()\n",
        "\n",
        "    class matchings_table(pw.ClassArg):\n",
        "        a: pw.Pointer = pw.input_attribute()\n",
        "        b: pw.Pointer = pw.input_attribute()\n",
        "\n",
        "        @pw.output_attribute\n",
        "        def sum_profiles(self) -> float:\n",
        "            pa = self.transformer.profiles_table[self.a].profile\n",
        "            pb = self.transformer.profiles_table[self.b].profile\n",
        "            return pa + pb\n",
        "\n",
        "\n",
        "result = using_two_tables(\n",
        "    profiles_table=profiles, matchings_table=matchings\n",
        ").matchings_table\n",
        "pw.debug.compute_and_print(result)"
      ]
    },
    {
      "cell_type": "markdown",
      "id": "ec013da8",
      "metadata": {},
      "source": [
        "## Other topics\n",
        "\n",
        "We hope these examples make you feel comfortable using Pathway's transformer classes. You can take a look at our advanced example of [transformer classes on a tree](/developers/documentation/transformer-classes/transformer-classes).\n",
        "\n",
        "To continue your tour of Pathway, you can also check out our [connectors](/developers/documentation/input-and-output-streams/connectors), or see directly how to use Pathway to implement classical algorithm such as [PageRank](/developers/tutorials/pagerank)."
      ]
    }
  ],
  "metadata": {
    "jupytext": {
      "cell_metadata_filter": "-all"
    },
    "kernelspec": {
      "display_name": "Python 3 (ipykernel)",
      "language": "python",
      "name": "python3"
    },
    "language_info": {
      "codemirror_mode": {
        "name": "ipython",
        "version": 3
      },
      "file_extension": ".py",
      "mimetype": "text/x-python",
      "name": "python",
      "nbconvert_exporter": "python",
      "pygments_lexer": "ipython3",
      "version": "3.10.6"
    }
  },
  "nbformat": 4,
  "nbformat_minor": 5
}