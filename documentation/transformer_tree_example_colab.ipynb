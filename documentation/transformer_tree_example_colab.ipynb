{
  "cells": [
    {
      "cell_type": "markdown",
      "metadata": {
        "id": "view-in-colab"
      },
      "source": [
        "<a href=\"https://colab.research.google.com/github/pathwaycom/pathway-examples/blob/main/documentation/transformer_tree_example_colab.ipynb\" target=\"_parent\"><img src=\"https://pathway.com/assets/colab-badge.svg\" alt=\"Run In Colab\" class=\"inline\"/></a>"
      ]
    },
    {
      "cell_type": "markdown",
      "source": [
        "# [Colab-specific] Setting up Python and Pathway\n",
        "\n",
        "> Colab heads-up!!!\n",
        ">\n",
        "> Pathway requires Python >=3.8 and works best with Python 3.10, while Google Colab ships with Python 3.7 by default.\n",
        ">\n",
        "> In the cells below we install Python 3.10 and then switch to it, but the process requires that you refresh the page in your browser!\n",
        "> Please:\n",
        "> 1. Run the first cell, disregard the unrecognized runtime warning.\n",
        "> 2. Refresh the colab page and rerun the notebook. Now the warning should disappear and the python version in cell #2 should be Python 3.10.\n",
        "\n",
        "\n",
        "Outside Colab, Pathway can be installed to a Python 3.10 environment using pip, please register at https://pathway.com to get beta access to the package"
      ],
      "metadata": {
        "id": "colab-instructions"
      }
    },
    {
      "cell_type": "code",
      "source": [
        "PIP_PACKAGE_ADDRESS=\"\"\n",
        "if not PIP_PACKAGE_ADDRESS:\n",
        "    print(\n",
        "        \"Please register at https://pathway.com/developers/documentation/introduction/installation-and-first-steps\\n\"\n",
        "        \"To get the pip package installation link!\"\n",
        "    )"
      ],
      "metadata": {
        "id": "pip-package-selection"
      },
      "execution_count": null,
      "outputs": []
    },
    {
      "cell_type": "code",
      "metadata": {
        "id": "colab-env-install",
        "colab": {
          "base_uri": "https://localhost:8080/"
        },
        "outputId": "30a3baa7-5cb4-40f5-ac12-921eba4b25f8"
      },
      "source": [
        "![ -d /usr/local/lib/python3.10/site-packages/pathway ] || echo \"Installing Python 3.10 and pathway, restart the notebook once this cells executes\"\n",
        "![ -d /usr/local/lib/python3.10/site-packages/pathway ] || wget -O mini.sh https://github.com/conda-forge/miniforge/releases/download/22.9.0-1/Mambaforge-22.9.0-1-Linux-x86_64.sh 1>/dev/null 2>/dev/null\n",
        "![ -d /usr/local/lib/python3.10/site-packages/pathway ] || chmod +x mini.sh 1>/dev/null 2>/dev/null\n",
        "![ -d /usr/local/lib/python3.10/site-packages/pathway ] || bash ./mini.sh -b -f -p /usr/local 1>/dev/null 2>/dev/null\n",
        "![ -d /usr/local/lib/python3.10/site-packages/pathway ] || mamba install -q -y -c conda-forge jupyter google-colab  1>/dev/null 2>/dev/null\n",
        "![ -d /usr/local/lib/python3.10/site-packages/pathway ] || python -m ipykernel install --name \"py310\" --user 1>/dev/null 2>/dev/null\n",
        "![ -d /usr/local/lib/python3.10/site-packages/pathway ] || pip install {PIP_PACKAGE_ADDRESS} 1>/dev/null 2>/dev/null\n",
        "![ -d /usr/local/lib/python3.10/site-packages/pathway ] && echo \"Pathway installed\""
      ],
      "execution_count": null,
      "outputs": [
        {
          "output_type": "stream",
          "name": "stdout",
          "text": [
            "Pathway installed\n"
          ]
        }
      ]
    },
    {
      "cell_type": "code",
      "metadata": {
        "id": "colab-reload",
        "outputId": "f0e45a04-0b52-4699-fd04-680980f3df92",
        "colab": {
          "base_uri": "https://localhost:8080/"
        }
      },
      "source": [
        "# Reload the web page and execute this cell\n",
        "import sys\n",
        "print(\"User Current Version:-\", sys.version)"
      ],
      "execution_count": 3,
      "outputs": [
        {
          "output_type": "stream",
          "name": "stdout",
          "text": [
            "User Current Version:- 3.10.6 | packaged by conda-forge | (main, Aug 22 2022, 20:36:39) [GCC 10.4.0]\n"
          ]
        }
      ]
    },
    {
      "cell_type": "markdown",
      "id": "b84eba05",
      "metadata": {},
      "source": [
        "# Implementing a tree using transformer classes\n",
        "A more advanced example on how transformer classes work by implementing a tree.\n",
        "\n",
        "Pathway's transformer class is a powerful tool to perform advanced operations on tables.\n",
        "In the following, we are going to show you how to use a transformer class to implement a tree and compute recursive operations on it.\n",
        "\n",
        "We strongly advise you to read our [introduction on transformer classes](https://pathway.com/developers/documentation/transformer-classes/transformer-intro) and the [simple examples](https://pathway.com/developers/documentation/transformer-classes/transformer-example) before reading further.\n",
        "\n",
        "## Pathway Data Structures \\& Algorithms 101: How to represent a Tree?\n",
        "\n",
        "Let's take a look at one of the simplest graph-like data structures: a tree. Let's encode tree nodes into a table with columns:\n",
        "\n",
        "1. Node ID\n",
        "2. A value `val` of integer type, stored in nodes of the tree.\n",
        "3. The node's parent ID - which can be Null for the root.\n",
        "\n",
        "To do this, in Pathway we write the following schema for the considered table (ID's are implicit and don't need to be defined)."
      ]
    },
    {
      "cell_type": "code",
      "execution_count": 1,
      "id": "1d42d712",
      "metadata": {
        "execution": {
          "iopub.execute_input": "2022-12-09T10:11:40.492065Z",
          "iopub.status.busy": "2022-12-09T10:11:40.491918Z",
          "iopub.status.idle": "2022-12-09T10:11:41.573784Z",
          "shell.execute_reply": "2022-12-09T10:11:41.573287Z"
        },
        "lines_to_end_of_cell_marker": 2
      },
      "outputs": [],
      "source": [
        "from __future__ import annotations\n",
        "\n",
        "from typing import Optional\n",
        "\n",
        "import pathway as pw\n",
        "\n",
        "\n",
        "class Nodes(pw.Schema):\n",
        "    val: int\n",
        "    parent: Optional[Nodes]"
      ]
    },
    {
      "cell_type": "markdown",
      "id": "52c8c5b4",
      "metadata": {
        "lines_to_next_cell": 2
      },
      "source": [
        "## Transformer Classes acting on a single row\n",
        "\n",
        "We would now like to compute some basic statistics on the tree. For example, is a given node the root? In Python, this would follow through a simple row operation:\n",
        "\n",
        "```py\n",
        "    # We would want to add this logic as a \"method\" to the `nodes` schema\n",
        "\n",
        "    def is_root(self):\n",
        "        return self.parent is None\n",
        "```\n",
        "\n",
        "How to make a transformer which takes a table following the schema `nodes` and \"gives it\" the method above? The answer is a Transformer Class which acts on a single table argument called `nodes`, and adds the `is_root` logic as an output argument. We call our transformer `tree_node_roots`:"
      ]
    },
    {
      "cell_type": "code",
      "execution_count": 2,
      "id": "b9a85540",
      "metadata": {
        "execution": {
          "iopub.execute_input": "2022-12-09T10:11:41.576215Z",
          "iopub.status.busy": "2022-12-09T10:11:41.575939Z",
          "iopub.status.idle": "2022-12-09T10:11:41.579085Z",
          "shell.execute_reply": "2022-12-09T10:11:41.578695Z"
        }
      },
      "outputs": [],
      "source": [
        "@pw.transformer\n",
        "class tree_node_roots:\n",
        "    class nodes(pw.ClassArg, input=Nodes):\n",
        "        val = pw.input_attribute()\n",
        "        parent = pw.input_attribute()\n",
        "\n",
        "        @pw.output_attribute\n",
        "        def is_root(self):\n",
        "            return self.parent is None"
      ]
    },
    {
      "cell_type": "markdown",
      "id": "1d77976b",
      "metadata": {},
      "source": [
        "Let's provide a quick explanation of what happens here.\n",
        "We specify `Nodes` as input for the class `nodes` to enforce that the rows of the table are of type `Nodes`.\n",
        "We link the parameters of the class `nodes` to the ones of `Nodes` with the `pw.input_attribute()` function. Note that the names of the parameters (`val` and `parent` in our example) must be exactly the same as the column names of the input table.\n",
        "Finally, we declare the different columns of our resulting table using the annotation `pw.output_attribute` on different functions. Each function defines a column in the output table and the value of the function is going to be used to as the value: the name of the function defines the name of the column.\n",
        "\n",
        "We can now use `tree_node_roots` as a transformer, and call `tree_node_roots(TN)` for a table `TN` of nodes to get the required output columns, just as we would for any other transformer."
      ]
    },
    {
      "cell_type": "code",
      "execution_count": 3,
      "id": "a888583f",
      "metadata": {
        "execution": {
          "iopub.execute_input": "2022-12-09T10:11:41.580790Z",
          "iopub.status.busy": "2022-12-09T10:11:41.580616Z",
          "iopub.status.idle": "2022-12-09T10:11:41.591738Z",
          "shell.execute_reply": "2022-12-09T10:11:41.591349Z"
        },
        "lines_to_end_of_cell_marker": 2
      },
      "outputs": [
        {
          "name": "stdout",
          "output_type": "stream",
          "text": [
            "            | val | parent_label | parent\n",
            "^8JFNKVV... | 0   |              |\n",
            "^2TMTFGY... | 1   | 0            | ^8JFNKVV...\n",
            "^YHZBTNY... | 2   | 0            | ^8JFNKVV...\n",
            "^SERVYWW... | 3   | 1            | ^2TMTFGY...\n",
            "^8GR6BSX... | 4   | 1            | ^2TMTFGY...\n",
            "^76QPWK3... | 5   | 2            | ^YHZBTNY...\n",
            "^C4S6S48... | 6   | 2            | ^YHZBTNY...\n",
            "            | is_root\n",
            "^YHZBTNY... | False\n",
            "^2TMTFGY... | False\n",
            "^76QPWK3... | False\n",
            "^8GR6BSX... | False\n",
            "^SERVYWW... | False\n",
            "^C4S6S48... | False\n",
            "^8JFNKVV... | True\n"
          ]
        }
      ],
      "source": [
        "tree = pw.debug.table_from_markdown(\n",
        "    \"\"\"\n",
        "    | val | parent_label\n",
        " 0  | 0    |\n",
        " 1  | 1    | 0\n",
        " 2  | 2    | 0\n",
        " 3  | 3    | 1\n",
        " 4  | 4    | 1\n",
        " 5  | 5    | 2\n",
        " 6  | 6    | 2\n",
        " \"\"\"\n",
        ")\n",
        "tree += tree.select(parent=tree.pointer_from(tree.parent_label, optional=True))\n",
        "pw.debug.compute_and_print(tree)\n",
        "\n",
        "result = tree_node_roots(tree).nodes\n",
        "pw.debug.compute_and_print(result)"
      ]
    },
    {
      "cell_type": "markdown",
      "id": "d255e66b",
      "metadata": {
        "lines_to_next_cell": 2
      },
      "source": [
        "## Transformer Classes acting on multiple rows\n",
        "\n",
        "Now, let's try something which shows the power of Pathway a bit more. Suppose you would like to see how many steps away a node is from its root. Let's call this the `level` of a node. How would we compute this?\n",
        "\n",
        "Logically, the `level` of a node is higher by 1 unit than the `level` of its parent. So, the solution can be obtained by recursion.\n",
        "\n",
        "Recursion is perhaps something you would think twice about before [attempting in SQL](https://medium.com/swlh/recursion-in-sql-explained-graphically-679f6a0f143b). In Pathway, recursion is natively supported, and efficient to use where the \"recursion stack\" does not change much for old data rows as new data arrives.\n",
        "\n",
        "The transformer which does just what we want is provided below."
      ]
    },
    {
      "cell_type": "code",
      "execution_count": 4,
      "id": "a1e5cad1",
      "metadata": {
        "execution": {
          "iopub.execute_input": "2022-12-09T10:11:41.593334Z",
          "iopub.status.busy": "2022-12-09T10:11:41.593163Z",
          "iopub.status.idle": "2022-12-09T10:11:41.596314Z",
          "shell.execute_reply": "2022-12-09T10:11:41.595931Z"
        }
      },
      "outputs": [],
      "source": [
        "@pw.transformer\n",
        "class tree_node_roots_and_levels:\n",
        "    class nodes(pw.ClassArg, input=Nodes):\n",
        "        val = pw.input_attribute()\n",
        "        parent = pw.input_attribute()\n",
        "\n",
        "        @pw.output_attribute\n",
        "        def is_root(self):\n",
        "            return self.parent is None\n",
        "\n",
        "        @pw.output_attribute\n",
        "        def level(self):\n",
        "            if self.is_root:\n",
        "                return 0\n",
        "            else:\n",
        "                return 1 + self.transformer.nodes[self.parent].level"
      ]
    },
    {
      "cell_type": "markdown",
      "id": "1a8bf541",
      "metadata": {},
      "source": [
        "Most of the logic is contained in the final line, `1 + self.transformer.nodes[self.parent].level`.\n",
        "\n",
        "We obtain the following table:"
      ]
    },
    {
      "cell_type": "code",
      "execution_count": 5,
      "id": "f29202cb",
      "metadata": {
        "execution": {
          "iopub.execute_input": "2022-12-09T10:11:41.597798Z",
          "iopub.status.busy": "2022-12-09T10:11:41.597610Z",
          "iopub.status.idle": "2022-12-09T10:11:41.604346Z",
          "shell.execute_reply": "2022-12-09T10:11:41.603964Z"
        }
      },
      "outputs": [
        {
          "name": "stdout",
          "output_type": "stream",
          "text": [
            "            | is_root | level\n",
            "^YHZBTNY... | False   | 1\n",
            "^2TMTFGY... | False   | 1\n",
            "^76QPWK3... | False   | 2\n",
            "^8GR6BSX... | False   | 2\n",
            "^SERVYWW... | False   | 2\n",
            "^C4S6S48... | False   | 2\n",
            "^8JFNKVV... | True    | 0\n"
          ]
        }
      ],
      "source": [
        "result = tree_node_roots_and_levels(tree).nodes\n",
        "pw.debug.compute_and_print(result)"
      ]
    },
    {
      "cell_type": "markdown",
      "id": "d9dd977b",
      "metadata": {},
      "source": [
        "A small side note: you might simply have wanted to write here `1 + self.parent.level` instead, however, this would be missing information about the table that `self.parent` lives in. This table is identified through `self.transformer.nodes`.\n",
        "\n",
        "Though making the syntax a bit more verbose, identifying objects through both a table, and a row identifier, helps to avoid confusion.\n",
        "\n",
        "You will see why this is useful in this [article](https://pathway.com/developers/documentation/transformer-classes/transformer-example) where we introduce Transformer Classes that use not just one, but two or more arguments. These will allow us to work with a `matchings` table and a `profiles` table, indicating a pair of nodes for which the required computation should be performed.\n",
        "\n",
        "\n",
        "## Conclusion\n",
        "\n",
        "In this guide, you learned how to write a transformer classes building a tree and computing some basic operations on that tree. This is useful for defining row-based logic for tables, oblivious of the fact that we are operating on top of data streams.\n",
        "You take a look at our [tour of Pathway's transformers](https://pathway.com/developers/documentation/transformer-classes/transformer-example) in which you will find a list of examples of transformers.\n",
        "\n",
        "You can also check our [connectors](https://pathway.com/developers/documentation/input-and-output-streams/connectors) to connect you data into Pathway."
      ]
    }
  ],
  "metadata": {
    "colab": {
      "provenance": [],
      "collapsed_sections": [],
      "include_colab_link": true
    },
    "kernelspec": {
      "name": "py310",
      "display_name": "Python 3.10"
    }
  },
  "nbformat": 4,
  "nbformat_minor": 0
}