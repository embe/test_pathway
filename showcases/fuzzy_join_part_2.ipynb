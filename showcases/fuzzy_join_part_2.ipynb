{
  "cells": [
    {
      "cell_type": "markdown",
      "source": [
        "# Setting up Python and Pathway\n",
        "\n",
        "Pathway can be installed to a Python 3.10 environment using pip, please register at https://pathway.com to get beta access to the package"
      ],
      "metadata": {
        "id": "notebook-instructions"
      }
    },
    {
      "cell_type": "code",
      "source": [
        "PIP_PACKAGE_ADDRESS=\"\"\n",
        "if not PIP_PACKAGE_ADDRESS:\n",
        "    print(\n",
        "        \"Please register at https://pathway.com/developers/documentation/introduction/installation-and-first-steps\\n\"\n",
        "        \"To get the pip package installation link!\"\n",
        "    )"
      ],
      "metadata": {
        "id": "pip-package-selection"
      },
      "execution_count": null,
      "outputs": []
    },
    {
      "cell_type": "code",
      "source": [
        "if not (sys.version_info.major==3 and sys.version_info.minor==10):\n",
        "    raise Exception(\"Pathway is only built for Python 3.10 at the moment\")"
      ],
      "metadata": {
        "id": "check-py-version"
      },
      "execution_count": null,
      "outputs": []
    },
    {
      "cell_type": "code",
      "source": [
        "# Install pathway's package\n",
        "!pip install {PIP_PACKAGE_ADDRESS} 1>/dev/null 2>/dev/null"
      ],
      "metadata": {
        "id": "pip-install-pathway"
      },
      "execution_count": null,
      "outputs": []
    },
    {
      "cell_type": "markdown",
      "id": "94521ee5",
      "metadata": {
        "lines_to_next_cell": 0
      },
      "source": [
        "# Realtime Fuzzy-Join in Pathway\n",
        "\n",
        "## Part 2: Fuzzy Join - reconciliation with audit: when the computer is not enough.\n",
        "\n",
        "In this article, we are going to show you how Pathway interacts with incremental data flows with a **feedback loop**.\n",
        "\n",
        "In the [first part of this showcase](/developers/showcases/fuzzy_join/fuzzy_join_chapter1) we explained how `smart_fuzzy_join` may be helpful in bookkeeping.\n",
        "Previously, we had a simple pipeline that matched entries of two different tables, such as two logs of bank transfers, in two different formats.\n",
        "Many matchings can be inferred automatically, but some can be really tricky without help: while the fans of Harry Potter can instantaneously make the connection between 'You-Know-Who' and 'Voldemort', it is impossible for a computer to do so, at least without help.\n",
        "\n",
        "Human audit is unavoidable in many areas such as accounting or banking.\n",
        "As such, we extend our pipeline with an auditor that supervises the process of reconciliation.\n",
        "The auditor may help the system by providing some hints, i.e. suggesting difficult matchings by hand.\n",
        "\n",
        "## Feedback loop in Pathway\n",
        "![Graph image](/assets/content/showcases/fuzzy_join/reconciliation_chapter3.png)\n",
        "\n",
        "This figure represents an architecture with a feedback loop to understand how the pieces work together.\n",
        "\n",
        "Reconciliation by SmartFuzzyJoin lies at the heart of the architecture:\n",
        "- it consumes inputs from 3 sources:\n",
        "  - two tables with transactions in different formats;\n",
        "  - a table with manual corrections provided by the auditor;\n",
        "- it outputs one table with matched records.\n",
        "\n",
        "You might think of the auditor as a simple automaton.\n",
        "Either they are satisfied with presented results and simply save them in some storage, or they provide some hints for the algorithm to find a better matching.\n",
        "\n",
        "**Note:** Although the architecture contains a feedback loop, all tables here are either inputs or outputs of the system.\n",
        "\n",
        "\n",
        "## The data\n",
        "\n",
        "Human audit is certainly needed to handle the sample dataset below.\n",
        "\n",
        " **Recipient and sender in a 'standard' CSV format**\n",
        "\n",
        "|id    |recipient|sender       |\n",
        "|------|---------|-------------|\n",
        "|1     |Bill H.  |Nancy R.     |\n",
        "|2     |Harry P. |Hermione  G. |\n",
        "|3     |Julian S.|Dick F.      |\n",
        "\n",
        "\n",
        " **Messages describing the transactions**\n",
        "\n",
        "|id    |message  |\n",
        "|------|---------|\n",
        "|A     |Dear William, thank you for your patience. Regards, Ann|\n",
        "|B     |Dear Colleague! I think they might have sent me your particle! Yours, Richard|\n",
        "|C     |Paying back for two Chocolate Frogs, cheers Hermione!|\n",
        "\n",
        "## Automatic reconciliation\n",
        "Let's see how many records we can match without any human help.\n",
        "We reuse code from [Part 1 of this showcase](/developers/showcases/fuzzy_join/fuzzy_join_chapter1)."
      ]
    },
    {
      "cell_type": "code",
      "execution_count": 1,
      "id": "fd786c60",
      "metadata": {
        "execution": {
          "iopub.execute_input": "2022-12-01T18:11:25.788165Z",
          "iopub.status.busy": "2022-12-01T18:11:25.787960Z",
          "iopub.status.idle": "2022-12-01T18:11:26.888537Z",
          "shell.execute_reply": "2022-12-01T18:11:26.887954Z"
        },
        "lines_to_next_cell": 2
      },
      "outputs": [],
      "source": [
        "import pandas as pd\n",
        "\n",
        "import pathway as pw\n",
        "\n",
        "# _MD_COMMENT_START_\n",
        "from pathway.tests.utils import T\n",
        "\n",
        "\n",
        "def table_from_csv(csv_add) -> pw.Table:\n",
        "    df = pd.read_csv(csv_add)\n",
        "    return T(df, format=\"pandas\")\n",
        "\n",
        "\n",
        "pw.csv.read = table_from_csv\n",
        "del table_from_csv\n",
        "# _MD_COMMENT_END_"
      ]
    },
    {
      "cell_type": "markdown",
      "id": "350c75c8",
      "metadata": {},
      "source": [
        "We need our csv files:"
      ]
    },
    {
      "cell_type": "code",
      "execution_count": 2,
      "id": "bceeb56d",
      "metadata": {
        "execution": {
          "iopub.execute_input": "2022-12-01T18:11:26.891086Z",
          "iopub.status.busy": "2022-12-01T18:11:26.890695Z",
          "iopub.status.idle": "2022-12-01T18:11:27.550105Z",
          "shell.execute_reply": "2022-12-01T18:11:27.549544Z"
        }
      },
      "outputs": [],
      "source": [
        "%%capture --no-display\n",
        "!wget https://public-pathway-releases.s3.eu-central-1.amazonaws.com/data/fuzzy_join_part_2_transactionsA.csv\n",
        "!wget https://public-pathway-releases.s3.eu-central-1.amazonaws.com/data/fuzzy_join_part_2_transactionsB.csv"
      ]
    },
    {
      "cell_type": "code",
      "execution_count": 3,
      "id": "79085ef0",
      "metadata": {
        "execution": {
          "iopub.execute_input": "2022-12-01T18:11:27.552757Z",
          "iopub.status.busy": "2022-12-01T18:11:27.552269Z",
          "iopub.status.idle": "2022-12-01T18:11:27.669433Z",
          "shell.execute_reply": "2022-12-01T18:11:27.669006Z"
        },
        "lines_to_next_cell": 0
      },
      "outputs": [
        {
          "name": "stdout",
          "output_type": "stream",
          "text": [
            "            | left_key | right_key | confidence\n",
            "^YHZBTNY... |          |           | 0.0\n",
            "^8JFNKVV... |          |           | 0.0\n",
            "^2TMTFGY... | 2        | C         | 0.5\n"
          ]
        }
      ],
      "source": [
        "index_left = pw.debug.table_from_markdown(\n",
        "    \"\"\"\n",
        "        | index\n",
        "    0   | 1\n",
        "    1   | 2\n",
        "    2   | 3\n",
        "    \"\"\"\n",
        ")\n",
        "index_right = pw.debug.table_from_markdown(\n",
        "    \"\"\"\n",
        "        | index\n",
        "    0   | A\n",
        "    1   | B\n",
        "    2   | C\n",
        "    \"\"\"\n",
        ")\n",
        "\n",
        "\n",
        "def match_transactions(transactionsA, transactionsB, by_hand_matching):\n",
        "    matching = pw.ml.smart_table_ops.fuzzy_match_tables(\n",
        "        transactionsA, transactionsB, by_hand_match=by_hand_matching\n",
        "    )\n",
        "    matching = matching.join(transactionsA, matching.left == transactionsA.id).select(\n",
        "        left_key=transactionsA.key,\n",
        "        right=matching.right,\n",
        "        weight=matching.weight,\n",
        "        left=matching.left,\n",
        "    )\n",
        "    matching = matching.join(transactionsB, matching.right == transactionsB.id).select(\n",
        "        left_key=matching.left_key,\n",
        "        right_key=transactionsB.key,\n",
        "        weight=matching.weight,\n",
        "        left=matching.left,\n",
        "    )\n",
        "    transactionsA_reconciled = (\n",
        "        pw.Table.empty(left_key=str, right_key=str, confidence=float)\n",
        "        .update_rows(\n",
        "            transactionsA.select(left_key=None, right_key=None, confidence=0.0)\n",
        "        )\n",
        "        .update_rows(\n",
        "            matching.select(\n",
        "                matching.left_key, matching.right_key, confidence=matching.weight\n",
        "            ).with_id(matching.left)\n",
        "        )\n",
        "    )\n",
        "    return transactionsA_reconciled\n",
        "\n",
        "\n",
        "def reconcile_transactions(\n",
        "    formatA=\"fuzzy_join_part_2_transactionsA.csv\",\n",
        "    formatB=\"fuzzy_join_part_2_transactionsB.csv\",\n",
        "    audit=None,\n",
        "):\n",
        "    transactionsA = pw.csv.read(formatA)\n",
        "    transactionsB = pw.csv.read(formatB)\n",
        "    by_hand_matching = pw.Table.empty(left=pw.Pointer, right=pw.Pointer, weight=float)\n",
        "    if audit is not None:\n",
        "        by_hand_matching = pw.csv.read(audit)\n",
        "        by_hand_matching = by_hand_matching.select(\n",
        "            left=transactionsA.pointer_from(by_hand_matching.left),\n",
        "            right=transactionsB.pointer_from(by_hand_matching.right),\n",
        "            weight=by_hand_matching.weight,\n",
        "        )\n",
        "    transactionsA_reconciled = match_transactions(\n",
        "        transactionsA, transactionsB, by_hand_matching\n",
        "    )\n",
        "    by_hand_matching = by_hand_matching.join(\n",
        "        index_left, by_hand_matching.left == index_left.id\n",
        "    ).select(left_key=index_left.index, right=by_hand_matching.right)\n",
        "    by_hand_matching = by_hand_matching.join(\n",
        "        index_right, by_hand_matching.right == index_right.id\n",
        "    ).select(left_key=by_hand_matching.left_key, right_key=index_right.index)\n",
        "    return transactionsA_reconciled, by_hand_matching\n",
        "\n",
        "\n",
        "matching, _ = reconcile_transactions()\n",
        "pw.debug.compute_and_print(matching)"
      ]
    },
    {
      "cell_type": "markdown",
      "id": "5992feb1",
      "metadata": {
        "lines_to_next_cell": 0
      },
      "source": [
        "Not a perfect matching. It seems that the help of an auditor is needed.\n",
        "\n",
        "\n",
        "## Incremental reconciliation with an auditor\n",
        "The correct matching is 1 - A, 2 - C and 3 - B. Why? [Tip 1](https://en.wikipedia.org/wiki/Bill_%28given_name%29), [Tip 2](https://www.nobelprize.org/prizes/physics/1965/summary/).\n",
        "\n",
        "Previously, the algorithm identified matching 2 - C correctly but failed to find the connections between the other pairs.\n",
        "Now, we run it with a hint - feedback from an auditor.\n",
        "\n",
        "To include the hint (nothing complicated), we just need to launch our function with the parameter `audit`:"
      ]
    },
    {
      "cell_type": "code",
      "execution_count": 4,
      "id": "fd1df01b",
      "metadata": {
        "execution": {
          "iopub.execute_input": "2022-12-01T18:11:27.671256Z",
          "iopub.status.busy": "2022-12-01T18:11:27.671036Z",
          "iopub.status.idle": "2022-12-01T18:11:28.005206Z",
          "shell.execute_reply": "2022-12-01T18:11:28.004618Z"
        }
      },
      "outputs": [],
      "source": [
        "%%capture --no-display\n",
        "!wget https://public-pathway-releases.s3.eu-central-1.amazonaws.com/data/fuzzy_join_part_2_audit1.csv"
      ]
    },
    {
      "cell_type": "code",
      "execution_count": 5,
      "id": "947b2847",
      "metadata": {
        "execution": {
          "iopub.execute_input": "2022-12-01T18:11:28.007786Z",
          "iopub.status.busy": "2022-12-01T18:11:28.007365Z",
          "iopub.status.idle": "2022-12-01T18:11:28.029745Z",
          "shell.execute_reply": "2022-12-01T18:11:28.029354Z"
        }
      },
      "outputs": [],
      "source": [
        "matching, suggested_matchings = reconcile_transactions(\n",
        "    audit=\"fuzzy_join_part_2_audit1.csv\"\n",
        ")"
      ]
    },
    {
      "cell_type": "markdown",
      "id": "9bdbcd1b",
      "metadata": {},
      "source": [
        "Here is the author's feedback, the pair 1 - A:"
      ]
    },
    {
      "cell_type": "code",
      "execution_count": 6,
      "id": "8dd950bc",
      "metadata": {
        "execution": {
          "iopub.execute_input": "2022-12-01T18:11:28.031614Z",
          "iopub.status.busy": "2022-12-01T18:11:28.031294Z",
          "iopub.status.idle": "2022-12-01T18:11:28.107459Z",
          "shell.execute_reply": "2022-12-01T18:11:28.107042Z"
        },
        "lines_to_next_cell": 0,
        "tags": []
      },
      "outputs": [
        {
          "name": "stdout",
          "output_type": "stream",
          "text": [
            "            | left_key | right_key\n",
            "^71BYNRW... | 1        | A\n"
          ]
        }
      ],
      "source": [
        "pw.debug.compute_and_print(suggested_matchings)"
      ]
    },
    {
      "cell_type": "markdown",
      "id": "2b2ca86d",
      "metadata": {
        "lines_to_next_cell": 0
      },
      "source": [
        "Given this feedback, we check that the new matching took into account this pair:"
      ]
    },
    {
      "cell_type": "code",
      "execution_count": 7,
      "id": "830319ee",
      "metadata": {
        "execution": {
          "iopub.execute_input": "2022-12-01T18:11:28.109372Z",
          "iopub.status.busy": "2022-12-01T18:11:28.109094Z",
          "iopub.status.idle": "2022-12-01T18:11:28.180422Z",
          "shell.execute_reply": "2022-12-01T18:11:28.180050Z"
        }
      },
      "outputs": [
        {
          "name": "stdout",
          "output_type": "stream",
          "text": [
            "            | left_key | right_key | confidence\n",
            "^YHZBTNY... |          |           | 0.0\n",
            "^8JFNKVV... | 1        | A         | 1\n",
            "^2TMTFGY... | 2        | C         | 0.5\n"
          ]
        }
      ],
      "source": [
        "pw.debug.compute_and_print(matching)"
      ]
    },
    {
      "cell_type": "markdown",
      "id": "c8cdbe9a",
      "metadata": {
        "lines_to_next_cell": 0
      },
      "source": [
        "Still not perfect but better. It seems that more help from the auditor is needed.\n",
        "Now, with one more extra hint the algorithm matches all the records correctly."
      ]
    },
    {
      "cell_type": "code",
      "execution_count": 8,
      "id": "7cf0255e",
      "metadata": {
        "execution": {
          "iopub.execute_input": "2022-12-01T18:11:28.182230Z",
          "iopub.status.busy": "2022-12-01T18:11:28.182010Z",
          "iopub.status.idle": "2022-12-01T18:11:28.550524Z",
          "shell.execute_reply": "2022-12-01T18:11:28.549889Z"
        }
      },
      "outputs": [],
      "source": [
        "%%capture --no-display\n",
        "!wget https://public-pathway-releases.s3.eu-central-1.amazonaws.com/data/fuzzy_join_part_2_audit2.csv"
      ]
    },
    {
      "cell_type": "code",
      "execution_count": 9,
      "id": "eb0aa6cc",
      "metadata": {
        "execution": {
          "iopub.execute_input": "2022-12-01T18:11:28.553355Z",
          "iopub.status.busy": "2022-12-01T18:11:28.552810Z",
          "iopub.status.idle": "2022-12-01T18:11:28.580231Z",
          "shell.execute_reply": "2022-12-01T18:11:28.579876Z"
        }
      },
      "outputs": [],
      "source": [
        "matching, suggested_matchings = reconcile_transactions(\n",
        "    audit=\"fuzzy_join_part_2_audit2.csv\"\n",
        ")"
      ]
    },
    {
      "cell_type": "markdown",
      "id": "60c6a0cf",
      "metadata": {
        "lines_to_next_cell": 0
      },
      "source": [
        "This time we provide the last pair, 3 - B:"
      ]
    },
    {
      "cell_type": "code",
      "execution_count": 10,
      "id": "85e9ab1e",
      "metadata": {
        "execution": {
          "iopub.execute_input": "2022-12-01T18:11:28.582204Z",
          "iopub.status.busy": "2022-12-01T18:11:28.582034Z",
          "iopub.status.idle": "2022-12-01T18:11:28.706790Z",
          "shell.execute_reply": "2022-12-01T18:11:28.706399Z"
        },
        "lines_to_next_cell": 0
      },
      "outputs": [
        {
          "name": "stdout",
          "output_type": "stream",
          "text": [
            "            | left_key | right_key\n",
            "^71BYNRW... | 1        | A\n",
            "^M7BS2AM... | 3        | B\n"
          ]
        }
      ],
      "source": [
        "pw.debug.compute_and_print(suggested_matchings)"
      ]
    },
    {
      "cell_type": "markdown",
      "id": "a266aef0",
      "metadata": {
        "lines_to_next_cell": 0,
        "tags": []
      },
      "source": [
        "Given those, we should obtain a full --and hopefully correct -- matching."
      ]
    },
    {
      "cell_type": "code",
      "execution_count": 11,
      "id": "999685ed",
      "metadata": {
        "execution": {
          "iopub.execute_input": "2022-12-01T18:11:28.708544Z",
          "iopub.status.busy": "2022-12-01T18:11:28.708400Z",
          "iopub.status.idle": "2022-12-01T18:11:28.817650Z",
          "shell.execute_reply": "2022-12-01T18:11:28.817262Z"
        }
      },
      "outputs": [
        {
          "name": "stdout",
          "output_type": "stream",
          "text": [
            "            | left_key | right_key | confidence\n",
            "^8JFNKVV... | 1        | A         | 1\n",
            "^2TMTFGY... | 2        | C         | 0.5\n",
            "^YHZBTNY... | 3        | B         | 1\n"
          ]
        }
      ],
      "source": [
        "pw.debug.compute_and_print(matching)"
      ]
    },
    {
      "cell_type": "markdown",
      "id": "1b60c2c9",
      "metadata": {},
      "source": [
        "Bingo!\n",
        "\n",
        "It may sound long and tedious but in practice most of the matchings should have been done automatically.\n",
        "This process is only performed for the few remaining cases, where the linkages are hard to make."
      ]
    },
    {
      "cell_type": "markdown",
      "id": "13f91877",
      "metadata": {},
      "source": [
        "## Conclusion\n",
        "In conclusion, writing pipelines with a feedback loop is as easy as can be.\n",
        "When writing such a data processing algorithm, a tip is to always clearly separate inputs from outputs.\n",
        "It is important because the Pathway engine observes inputs for any changes and recalculates parts of the computation when needed.\n",
        "\n",
        "\n",
        "In the next chapter, we will show you how to make a Pathway installation which provides a full Fuzzy-Matching application, complete with frontend. (Coming soon!)\n",
        "![Demo animation](/assets/content/showcases/fuzzy_join/demo.gif)"
      ]
    }
  ],
  "metadata": {
    "kernelspec": {
      "display_name": "Python 3 (ipykernel)",
      "language": "python",
      "name": "python3"
    },
    "language_info": {
      "codemirror_mode": {
        "name": "ipython",
        "version": 3
      },
      "file_extension": ".py",
      "mimetype": "text/x-python",
      "name": "python",
      "nbconvert_exporter": "python",
      "pygments_lexer": "ipython3",
      "version": "3.10.6"
    }
  },
  "nbformat": 4,
  "nbformat_minor": 5
}