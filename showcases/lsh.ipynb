{
 "cells": [
  {
   "cell_type": "markdown",
   "id": "63ed20e6",
   "metadata": {
    "id": "notebook-instructions"
   },
   "source": [
    "# Setting up Python and Pathway\n",
    "\n",
    "Pathway can be installed to a Python 3.10 environment using pip, please register at https://pathway.com to get beta access to the package"
   ]
  },
  {
   "cell_type": "code",
   "execution_count": null,
   "id": "5c078a8d",
   "metadata": {
    "id": "pip-package-selection"
   },
   "outputs": [],
   "source": [
    "PIP_PACKAGE_ADDRESS=\"\"\n",
    "if not PIP_PACKAGE_ADDRESS:\n",
    "    print(\n",
    "        \"Please register at https://pathway.com/developers/documentation/introduction/installation-and-first-steps\\n\"\n",
    "        \"To get the pip package installation link!\"\n",
    "    )"
   ]
  },
  {
   "cell_type": "code",
   "execution_count": null,
   "id": "02ce8b9d",
   "metadata": {
    "id": "check-py-version"
   },
   "outputs": [],
   "source": [
    "if not (sys.version_info.major==3 and sys.version_info.minor==10):\n",
    "    raise Exception(\"Pathway is only built for Python 3.10 at the moment\")"
   ]
  },
  {
   "cell_type": "code",
   "execution_count": null,
   "id": "34278d42",
   "metadata": {
    "id": "pip-install-pathway"
   },
   "outputs": [],
   "source": [
    "# Install pathway's package\n",
    "!pip install {PIP_PACKAGE_ADDRESS} 1>/dev/null 2>/dev/null"
   ]
  },
  {
   "cell_type": "markdown",
   "id": "dffc491f",
   "metadata": {
    "tags": []
   },
   "source": [
    "# Realtime classification in Pathway\n",
    "\n",
    "## Part 1: Using the Nearest-Neighbors Classifier\n",
    "\n",
    "![Classification with Pathway](/assets/content/showcases/lsh/KNN.gif)\n",
    "\n",
    "\n",
    "## Classification - what is it all about?\n",
    "\n",
    "What is this handwritten digit? Is this new movie an action movie or a drama movie? Is this email a spam or an email from a real [foreign prince reaching out for help](https://en.wikipedia.org/wiki/Advance-fee_scam)?\n",
    "\n",
    "All these questions have one thing is common: they are forms of **classification problems**.\n",
    "\n",
    "![Classification of e-mails](/assets/content/showcases/lsh/classification_2.png)\n",
    "\n",
    "Classification is the process of giving a label to an unknown element.\n",
    "It is used to label or tag new content and has various areas of applications such as marketing personalization.\n",
    "For example, tagging new content on an e-commerce website or a streaming service will ease browsing and allow for better content recommendations.\n",
    "\n",
    "This showcase explains how to achieve high quality classification using Pathway.\n",
    "\n",
    "## Why use Pathway for classification?\n",
    "\n",
    "In a traditional streaming system, the classification of a query is done based on the available data at the time of the query.\n",
    "However, as time goes on, the available data grows, providing a better insight on the classification tasks done on previous queries.\n",
    "The prediction which made sense with a partial view of a data can be seen as wrong with more complete data.\n",
    "\n",
    "Pathway guarantees classifications with the most up-to-date-model. Under the hood, the system does this by automatically revisiting the classifications of past queries in the stream as new training data becomes available."
   ]
  },
  {
   "cell_type": "markdown",
   "id": "f18fc535",
   "metadata": {},
   "source": [
    "![Pathway performance](/assets/content/showcases/lsh/lsh_mnist_streaming.png)"
   ]
  },
  {
   "cell_type": "markdown",
   "id": "6b98edb5",
   "metadata": {},
   "source": [
    "Unlike a classic streaming system, Pathway updates the previous query as data arrive, resulting in a lower error rate.\n",
    "\n",
    "The source code in this article is completely self-contained. With Pathway installed, you can run it directly!"
   ]
  },
  {
   "cell_type": "markdown",
   "id": "019adc13",
   "metadata": {
    "lines_to_next_cell": 2
   },
   "source": [
    "## How does Pathway perform classification?\n",
    "\n",
    "Classifiers are just regular Pathway library functions. In Pathway' standard library, we provide you with a choice of neat classifiers for your convenience - but if you prefer to create your own, be our guest: the logic will only take a couple dozen lines of Python in our framework. As with all code written in Pathway, Pathway takes care of making sure classifiers work correctly on top of data streams.\n",
    "\n",
    "In this showcase, we will show you how to use Pathway to make your own classification app. We will be using the kNN+LSH classifier from Pathway's standard library: if you are interested about how it works, you can find out more about those topics in our [article](/developers/showcases/lsh/lsh_chapter2) about it."
   ]
  },
  {
   "cell_type": "markdown",
   "id": "a41f892e",
   "metadata": {},
   "source": [
    "## <a name=\"app_code\"></a>And here comes: Your real-time classification Data App in Pathway"
   ]
  },
  {
   "cell_type": "markdown",
   "id": "f7b45a1e",
   "metadata": {},
   "source": [
    "In Pathway, everything you need to perform efficient real-time classification is already implemented for you.\n",
    "\n",
    "All you need is to load your data, and use our provided classifier functions to train the model and label your queries.\n",
    "\n",
    "Let's take a look how Pathway performs on a real-time classification problem. The kNN+LSH classifier we will use in this case is available with several metrics, such as cosine or Euclidean distance - we stick to the defaults.\n"
   ]
  },
  {
   "cell_type": "markdown",
   "id": "c2fb0d07",
   "metadata": {},
   "source": [
    "### Connecting to streaming data"
   ]
  },
  {
   "cell_type": "markdown",
   "id": "8255110f",
   "metadata": {},
   "source": [
    "To illustrate how Pathway performs on real-time classification, we use Pathway to classify handwritten images fed into the system in streaming mode.\n",
    "\n",
    "We will use the well-known [MNIST](http://yann.lecun.com/exdb/mnist/) as an example. MNIST is composed of 70,000 handwritten digits, each image has a 28x28 resolution and is labeled.\n",
    "\n",
    "However, we work here with a **streaming data set**: we suppose that the MNIST data and the queries are arriving in a streaming fashion. In streaming, the data is incomplete and the stream progresses over time, until the full data is received.\n",
    "\n",
    "As MNIST is so standard, we provide a standard loader which simulates just such a data stream. Both the data and the queries are fed in at the same rate, with a 6:1 ratio of data to queries. (For production deployment of your application, you would normally use Pathway's input connectors instead of the simulator.)"
   ]
  },
  {
   "cell_type": "code",
   "execution_count": 1,
   "id": "9a97315d",
   "metadata": {
    "execution": {
     "iopub.execute_input": "2022-12-01T18:08:31.805109Z",
     "iopub.status.busy": "2022-12-01T18:08:31.804933Z",
     "iopub.status.idle": "2022-12-01T18:08:46.790121Z",
     "shell.execute_reply": "2022-12-01T18:08:46.788005Z"
    },
    "lines_to_next_cell": 0
   },
   "outputs": [],
   "source": [
    "import pathway as pw\n",
    "\n",
    "X_train_table, y_train_table, X_test_table, y_test_table = pw.ml.datasets.classification.load_mnist_stream()"
   ]
  },
  {
   "cell_type": "markdown",
   "id": "725b9de1",
   "metadata": {},
   "source": [
    "## Setting up classification"
   ]
  },
  {
   "cell_type": "markdown",
   "id": "682ac3c4",
   "metadata": {},
   "source": [
    "Here comes the actual training and classification source code, in Pathway."
   ]
  },
  {
   "cell_type": "code",
   "execution_count": 2,
   "id": "b4540fcb",
   "metadata": {
    "execution": {
     "iopub.execute_input": "2022-12-01T18:08:46.794949Z",
     "iopub.status.busy": "2022-12-01T18:08:46.794491Z",
     "iopub.status.idle": "2022-12-01T18:08:46.822737Z",
     "shell.execute_reply": "2022-12-01T18:08:46.821968Z"
    }
   },
   "outputs": [],
   "source": [
    "\n",
    "lsh_index = pw.ml.classifiers.knn_lsh_train(\n",
    "    X_train_table, d=28 * 28, L=10, M=10, A=0.5, metric=\"euclidean\"\n",
    ")\n",
    "predicted_labels = pw.ml.classifiers.knn_lsh_classify(\n",
    "    lsh_index, y_train_table, X_test_table, k=3\n",
    ")"
   ]
  },
  {
   "cell_type": "markdown",
   "id": "02c649a9",
   "metadata": {},
   "source": [
    "What does this code do?\n",
    "We first show how to prepare the classifier with the function `knn_lsh_classifier_train`. (Under the hood, this logic computes the LSH index, i.e. the LSH projector and the buckets of the training data.)\n",
    "\n",
    "Then `lsh_index` is used to predict the label for the queries (`X_test_table`) using the function `knn_lsh_classify`.\n",
    "\n",
    "What about parameter choices? The dimension $d=28*28$ is simply the pixel size of the classified images - something specific to MNIST. The other parameter choices $(M=10,L=10,A=0.5)$ are set to provide the sweet spot between quality and efficiency: the number of comparisons LSH does for computing the kNN of a query over the full dataset is 830 on average instead of 60,000! Don't hesitate to play with the settings, you'll get the hang of the right \"strings to pull\" in a couple of minutes.\n",
    "\n",
    "Now, the resulting labels are then compared to the real ones to measure the accuracy of our approach with our accuracy function `classifier_accuracy`."
   ]
  },
  {
   "cell_type": "code",
   "execution_count": 3,
   "id": "cf97f1d1",
   "metadata": {
    "execution": {
     "iopub.execute_input": "2022-12-01T18:08:46.825542Z",
     "iopub.status.busy": "2022-12-01T18:08:46.825365Z",
     "iopub.status.idle": "2022-12-01T18:08:46.829869Z",
     "shell.execute_reply": "2022-12-01T18:08:46.829159Z"
    }
   },
   "outputs": [],
   "source": [
    "accuracy = pw.ml.utils.classifier_accuracy(predicted_labels, y_test_table)"
   ]
  },
  {
   "cell_type": "markdown",
   "id": "f99ba361",
   "metadata": {},
   "source": [
    "That's it! You can now preview the `accuracy` table during stream execution, and see how the classification outcomes improve as the stream progresses:"
   ]
  },
  {
   "cell_type": "code",
   "execution_count": 4,
   "id": "28150d34",
   "metadata": {
    "execution": {
     "iopub.execute_input": "2022-12-01T18:08:46.833304Z",
     "iopub.status.busy": "2022-12-01T18:08:46.832365Z",
     "iopub.status.idle": "2022-12-01T18:08:47.164932Z",
     "shell.execute_reply": "2022-12-01T18:08:47.163678Z"
    }
   },
   "outputs": [
    {
     "name": "stdout",
     "output_type": "stream",
     "text": [
      "            | cnt  | value\n",
      "^1BQXP5N... | 547  | False\n",
      "^M0R1F4Z... | 9453 | True\n"
     ]
    }
   ],
   "source": [
    "pw.debug.compute_and_print(accuracy)"
   ]
  },
  {
   "cell_type": "markdown",
   "id": "8bfec063",
   "metadata": {},
   "source": [
    "We obtain 9453 correct classifications out of the 10000: an error rate of 5.5%."
   ]
  },
  {
   "cell_type": "markdown",
   "id": "11c1efe9",
   "metadata": {
    "tags": []
   },
   "source": [
    "### Results"
   ]
  },
  {
   "cell_type": "markdown",
   "id": "6df096fe",
   "metadata": {
    "incorrectly_encoded_metadata": "jp-MarkdownHeadingCollapsed=true",
    "tags": []
   },
   "source": [
    "![Results image](/assets/content/showcases/lsh/lsh_mnist_streaming.png)"
   ]
  },
  {
   "cell_type": "markdown",
   "id": "9fa5a937",
   "metadata": {
    "tags": []
   },
   "source": [
    "As we can see, a normal streaming system exhibits poor performances at first due to an incomplete data set.\n",
    "\n",
    "Pathway, on the other hand, improves the accuracy of those previous queries by revisiting its predictions at each update. As the data grows, its error rate decreases until it converges to an error close to $5\\% $. Here is a sample of outcomes we get at the end of the stream.\n",
    "\n",
    "![Classification results](/assets/content/showcases/lsh/lsh_example_classification.png)\n"
   ]
  },
  {
   "cell_type": "markdown",
   "id": "20aa40af",
   "metadata": {},
   "source": [
    "\n",
    "## Conclusion\n",
    "\n",
    "When doing classification on a stream in Pathway, the model is kept up to date automatically. As the model improves over time, results get better and previous classification decisions are also updated to the most up-to-date-model, without having to worry about it.\n",
    "\n",
    "In many streaming scenarios, the kNN+LSH approach we used provides a sweet-spot between speed and quality. If you want to know more about how all of this works, you can read our [article](/developers/showcases/lsh/lsh_chapter2) about it.\n",
    "\n",
    "In our next articles, we will show you how to use Pathway to build streaming recommender systems and real-time anomaly detection. (Coming soon.)"
   ]
  }
 ],
 "metadata": {
  "kernelspec": {
   "display_name": "Python 3 (ipykernel)",
   "language": "python",
   "name": "python3"
  },
  "language_info": {
   "codemirror_mode": {
    "name": "ipython",
    "version": 3
   },
   "file_extension": ".py",
   "mimetype": "text/x-python",
   "name": "python",
   "nbconvert_exporter": "python",
   "pygments_lexer": "ipython3",
   "version": "3.10.6"
  }
 },
 "nbformat": 4,
 "nbformat_minor": 5
}
