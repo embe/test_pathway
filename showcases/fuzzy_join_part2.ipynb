{
  "cells": [
    {
      "cell_type": "markdown",
      "source": [
        "# Setting up Python and Pathway\n",
        "\n",
        "Pathway can be installed to a Python 3.10 environment using pip, please register at https://pathway.com to get beta access to the package"
      ],
      "metadata": {
        "id": "notebook-instructions"
      }
    },
    {
      "cell_type": "code",
      "source": [
        "PIP_PACKAGE_ADDRESS=\"\"\n",
        "if not PIP_PACKAGE_ADDRESS:\n",
        "    print(\n",
        "        \"Please register at https://pathway.com/developers/documentation/introduction/installation-and-first-steps\\n\"\n",
        "        \"To get the pip package installation link!\"\n",
        "    )"
      ],
      "metadata": {
        "id": "pip-package-selection"
      },
      "execution_count": null,
      "outputs": []
    },
    {
      "cell_type": "code",
      "source": [
        "if not (sys.version_info.major==3 and sys.version_info.minor==10):\n",
        "    raise Exception(\"Pathway is only built for Python 3.10 at the moment\")"
      ],
      "metadata": {
        "id": "check-py-version"
      },
      "execution_count": null,
      "outputs": []
    },
    {
      "cell_type": "code",
      "source": [
        "# Install pathway's package\n",
        "!pip install {PIP_PACKAGE_ADDRESS} 1>/dev/null 2>/dev/null"
      ],
      "metadata": {
        "id": "pip-install-pathway"
      },
      "execution_count": null,
      "outputs": []
    },
    {
      "cell_type": "markdown",
      "id": "91d284c2",
      "metadata": {
        "lines_to_next_cell": 0
      },
      "source": [
        "# Realtime Fuzzy-Join in Pathway\n",
        "\n",
        "## Part 2: Fuzzy Join - reconciliation with audit: when the computer is not enough.\n",
        "\n",
        "In this article, we are going to show you how Pathway interacts with incremental data flows with a **feedback loop**.\n",
        "\n",
        "In the [first part of this showcase](/developers/showcases/fuzzy_join/fuzzy_join_chapter1) we explained how `smart_fuzzy_join` may be helpful in bookkeeping.\n",
        "Previously, we had a simple pipeline that matched entries of two different tables, such as two logs of bank transfers, in two different formats.\n",
        "Many matchings can be inferred automatically, but some can be really tricky without help: while the fans of Harry Potter can instantaneously make the connection between 'You-Know-Who' and 'Voldemort', it is impossible for a computer to do so, at least without help.\n",
        "\n",
        "Human audit is unavoidable in many areas such as accounting or banking.\n",
        "As such, we extend our pipeline with an auditor that supervises the process of reconciliation.\n",
        "The auditor may help the system by providing some hints, i.e. suggesting difficult matchings by hand.\n",
        "\n",
        "## Feedback loop in Pathway\n",
        "![Graph image](/assets/content/showcases/fuzzy_join/reconciliation_chapter3.png)\n",
        "\n",
        "This figure represents an architecture with a feedback loop to understand how the pieces work together.\n",
        "\n",
        "Reconciliation by SmartFuzzyJoin lies at the heart of the architecture:\n",
        "- it consumes inputs from 3 sources:\n",
        "  - two tables with transactions in different formats;\n",
        "  - a table with manual corrections provided by the auditor;\n",
        "- it outputs one table with matched records.\n",
        "\n",
        "You might think of the auditor as a simple automaton.\n",
        "Either they are satisfied with presented results and simply save them in some storage, or they provide some hints for the algorithm to find a better matching.\n",
        "\n",
        "**Note:** Although the architecture contains a feedback loop, all tables here are either inputs or outputs of the system.\n",
        "\n",
        "\n",
        "## The data\n",
        "\n",
        "Human audit is certainly needed to handle the sample dataset below.\n",
        "\n",
        " **Recipient and sender in a 'standard' CSV format**\n",
        "\n",
        "|id    |recipient|sender       |\n",
        "|------|---------|-------------|\n",
        "|1     |Bill H.  |Nancy R.     |\n",
        "|2     |Harry P. |Hermione  G. |\n",
        "|3     |Julian S.|Dick F.      |\n",
        "\n",
        "\n",
        " **Messages describing the transactions**\n",
        "\n",
        "|id    |message  |\n",
        "|------|---------|\n",
        "|A     |Dear William, thank you for your patience. Regards, Ann|\n",
        "|B     |Dear Colleague! I think they might have sent me your particle! Yours, Richard|\n",
        "|C     |Paying back for two Chocolate Frogs, cheers Hermione!|\n",
        "\n",
        "## Automatic reconciliation\n",
        "Let's see how many records we can match without any human help.\n",
        "We reuse code from [Part 1 of this showcase](/developers/showcases/fuzzy_join/fuzzy_join_chapter1)."
      ]
    },
    {
      "cell_type": "code",
      "execution_count": 1,
      "id": "927424f4",
      "metadata": {
        "execution": {
          "iopub.execute_input": "2022-12-09T07:41:02.055813Z",
          "iopub.status.busy": "2022-12-09T07:41:02.055554Z",
          "iopub.status.idle": "2022-12-09T07:41:03.088995Z",
          "shell.execute_reply": "2022-12-09T07:41:03.088371Z"
        },
        "lines_to_next_cell": 2
      },
      "outputs": [],
      "source": [
        "import pandas as pd\n",
        "\n",
        "import pathway as pw"
      ]
    },
    {
      "cell_type": "markdown",
      "id": "0961da57",
      "metadata": {},
      "source": [
        "We need to read the csv files:"
      ]
    },
    {
      "cell_type": "code",
      "execution_count": 2,
      "id": "c7604fce",
      "metadata": {
        "execution": {
          "iopub.execute_input": "2022-12-09T07:41:03.091751Z",
          "iopub.status.busy": "2022-12-09T07:41:03.091262Z",
          "iopub.status.idle": "2022-12-09T07:41:03.093899Z",
          "shell.execute_reply": "2022-12-09T07:41:03.093504Z"
        }
      },
      "outputs": [],
      "source": [
        "# Uncomment to download the required files.\n",
        "# %%capture --no-display\n",
        "# !wget https://public-pathway-releases.s3.eu-central-1.amazonaws.com/data/fuzzy_join_part_2_transactionsA.csv -O transactionsA.csv\n",
        "# !wget https://public-pathway-releases.s3.eu-central-1.amazonaws.com/data/fuzzy_join_part_2_transactionsB.csv -O transactionsB.csv\n",
        "# !wget https://public-pathway-releases.s3.eu-central-1.amazonaws.com/data/fuzzy_join_part_2_audit1-v2.csv -O audit1.csv\n",
        "# !wget https://public-pathway-releases.s3.eu-central-1.amazonaws.com/data/fuzzy_join_part_2_audit2-v2.csv -O audit2.csv"
      ]
    },
    {
      "cell_type": "code",
      "execution_count": 3,
      "id": "2b4296aa",
      "metadata": {
        "execution": {
          "iopub.execute_input": "2022-12-09T07:41:03.095450Z",
          "iopub.status.busy": "2022-12-09T07:41:03.095313Z",
          "iopub.status.idle": "2022-12-09T07:41:03.100660Z",
          "shell.execute_reply": "2022-12-09T07:41:03.100241Z"
        }
      },
      "outputs": [
        {
          "name": "stdout",
          "output_type": "stream",
          "text": [
            "            | recipient | sender        | key\n",
            "^BEX6C3M... | Bill H.   | Nancy R.      | 1\n",
            "^C5CYXSW... | Harry P.  |  Hermione  G. | 2\n",
            "^J7G4KDV... | Julian S. | Dick F.       | 3\n",
            "            | message                                                                   | key\n",
            "^89G66W6... | Dear William, thank you for you patience. Regards, Ann                    | A\n",
            "^ZHRPF6J... | Dear colleague! I think they might have send me your part! Yours, Richard | B\n",
            "^7D5A912... | Paying back for two Chocolate Frogs, cheers Hermione                      | C\n"
          ]
        }
      ],
      "source": [
        "transactionsA=pw.csv.read(\"./transactionsA.csv\", [\"key\",\"recipient\",\"sender\"], id_columns=[\"key\"])\n",
        "pw.debug.compute_and_print(transactionsA)\n",
        "transactionsB=pw.csv.read(\"./transactionsB.csv\", [\"key\",\"message\"], id_columns=[\"key\"])\n",
        "pw.debug.compute_and_print(transactionsB)"
      ]
    },
    {
      "cell_type": "markdown",
      "id": "66db46d0",
      "metadata": {},
      "source": [
        "We use the provided column `key` as indexes: Pathway will generate indexes based on those.\n",
        "\n",
        "We add a wrapper `reconcile_transactions` to replace the generated indexes by the corresponding key."
      ]
    },
    {
      "cell_type": "code",
      "execution_count": 4,
      "id": "17ad635d",
      "metadata": {
        "execution": {
          "iopub.execute_input": "2022-12-09T07:41:03.102540Z",
          "iopub.status.busy": "2022-12-09T07:41:03.102214Z",
          "iopub.status.idle": "2022-12-09T07:41:03.183292Z",
          "shell.execute_reply": "2022-12-09T07:41:03.182701Z"
        },
        "lines_to_next_cell": 0
      },
      "outputs": [
        {
          "name": "stdout",
          "output_type": "stream",
          "text": [
            "            | left_key | confidence | right_key\n",
            "^4SS5R46... |          | 0.0        |\n",
            "^YBBVR6E... |          | 0.0        |\n",
            "^MYTVCHC... | 2        | 0.5        | C\n"
          ]
        }
      ],
      "source": [
        "def match_transactions(transactionsA, transactionsB, by_hand_matching):\n",
        "    matching = pw.ml.smart_table_ops.fuzzy_match_tables(\n",
        "        transactionsA, transactionsB, by_hand_match=by_hand_matching\n",
        "    )\n",
        "    transactionsA_reconciled = (\n",
        "        pw.Table.empty(left=str, right=str, confidence=float)\n",
        "        .update_rows(\n",
        "            transactionsA.select(left=None, right=None, confidence=0.0)\n",
        "        )\n",
        "        .update_rows(\n",
        "            matching.select(\n",
        "                matching.left, matching.right, confidence=matching.weight\n",
        "            ).with_id(matching.left)\n",
        "        )\n",
        "    )\n",
        "    return transactionsA_reconciled\n",
        "\n",
        "\n",
        "def reconcile_transactions(transactionsA, transactionsB,\n",
        "    audit=None,\n",
        "):\n",
        "    by_hand_matching = pw.Table.empty(left=pw.Pointer, right=pw.Pointer, weight=float)\n",
        "    if audit is not None:\n",
        "        by_hand_matching = audit\n",
        "        by_hand_matching = by_hand_matching.select(\n",
        "            left=transactionsA.pointer_from(by_hand_matching.left),\n",
        "            right=transactionsB.pointer_from(by_hand_matching.right),\n",
        "            weight=by_hand_matching.weight,\n",
        "        )\n",
        "    transactionsA_reconciled = match_transactions(\n",
        "        transactionsA, transactionsB, by_hand_matching\n",
        "    )\n",
        "    transactionsA_reconciled = transactionsA_reconciled.left_join(\n",
        "        transactionsA,\n",
        "        transactionsA_reconciled.left==transactionsA.id\n",
        "    ).select(\n",
        "        transactionsA_reconciled.right,\n",
        "        transactionsA_reconciled.confidence,\n",
        "        left_key=transactionsA.key\n",
        "    )\n",
        "    transactionsA_reconciled = transactionsA_reconciled.left_join(\n",
        "        transactionsB,\n",
        "        transactionsA_reconciled.right==transactionsB.id\n",
        "    ).select(\n",
        "        transactionsA_reconciled.left_key,\n",
        "        transactionsA_reconciled.confidence,\n",
        "        right_key=transactionsB.key\n",
        "    )\n",
        "    return transactionsA_reconciled, by_hand_matching\n",
        "\n",
        "matching, _ = reconcile_transactions(transactionsA, transactionsB)\n",
        "pw.debug.compute_and_print(matching)"
      ]
    },
    {
      "cell_type": "markdown",
      "id": "a45c5091",
      "metadata": {
        "lines_to_next_cell": 0
      },
      "source": [
        "Not a perfect matching. It seems that the help of an auditor is needed.\n",
        "\n",
        "\n",
        "## Incremental reconciliation with an auditor\n",
        "The correct matching is 1 - A, 2 - C and 3 - B. Why? [Tip 1](https://en.wikipedia.org/wiki/Bill_%28given_name%29), [Tip 2](https://www.nobelprize.org/prizes/physics/1965/summary/).\n",
        "\n",
        "Previously, the algorithm identified matching 2 - C correctly but failed to find the connections between the other pairs.\n",
        "Now, we run it with a hint - feedback from an auditor.\n",
        "\n",
        "To include the hint (nothing complicated), we just need to launch our function with the parameter `audit`:"
      ]
    },
    {
      "cell_type": "code",
      "execution_count": 5,
      "id": "804cbf72",
      "metadata": {
        "execution": {
          "iopub.execute_input": "2022-12-09T07:41:03.185142Z",
          "iopub.status.busy": "2022-12-09T07:41:03.184988Z",
          "iopub.status.idle": "2022-12-09T07:41:03.205955Z",
          "shell.execute_reply": "2022-12-09T07:41:03.205544Z"
        }
      },
      "outputs": [],
      "source": [
        "audit = pw.csv.read(\"./audit1.csv\",[\"left\",\"right\",\"weight\"])\n",
        "matching, suggested_matchings = reconcile_transactions(transactionsA, transactionsB, audit)"
      ]
    },
    {
      "cell_type": "markdown",
      "id": "1b56d456",
      "metadata": {},
      "source": [
        "Here is the author's feedback, the pair 1 - A:"
      ]
    },
    {
      "cell_type": "code",
      "execution_count": 6,
      "id": "eac6da40",
      "metadata": {
        "execution": {
          "iopub.execute_input": "2022-12-09T07:41:03.207929Z",
          "iopub.status.busy": "2022-12-09T07:41:03.207594Z",
          "iopub.status.idle": "2022-12-09T07:41:03.359863Z",
          "shell.execute_reply": "2022-12-09T07:41:03.359268Z"
        },
        "lines_to_next_cell": 0,
        "tags": []
      },
      "outputs": [
        {
          "name": "stdout",
          "output_type": "stream",
          "text": [
            "            | left        | right       | weight\n",
            "^W4XG57K... | ^BEX6C3M... | ^89G66W6... | 1\n"
          ]
        }
      ],
      "source": [
        "pw.debug.compute_and_print(suggested_matchings)"
      ]
    },
    {
      "cell_type": "markdown",
      "id": "9336fd50",
      "metadata": {
        "lines_to_next_cell": 0
      },
      "source": [
        "Given this feedback, we check that the new matching took into account this pair:"
      ]
    },
    {
      "cell_type": "code",
      "execution_count": 7,
      "id": "95b6024e",
      "metadata": {
        "execution": {
          "iopub.execute_input": "2022-12-09T07:41:03.361686Z",
          "iopub.status.busy": "2022-12-09T07:41:03.361533Z",
          "iopub.status.idle": "2022-12-09T07:41:03.461857Z",
          "shell.execute_reply": "2022-12-09T07:41:03.461258Z"
        }
      },
      "outputs": [
        {
          "name": "stdout",
          "output_type": "stream",
          "text": [
            "            | left_key | confidence | right_key\n",
            "^YBBVR6E... |          | 0.0        |\n",
            "^QZ87016... | 1        | 1          | A\n",
            "^MYTVCHC... | 2        | 0.5        | C\n"
          ]
        }
      ],
      "source": [
        "pw.debug.compute_and_print(matching)"
      ]
    },
    {
      "cell_type": "markdown",
      "id": "4575a1b9",
      "metadata": {
        "lines_to_next_cell": 0
      },
      "source": [
        "Still not perfect but better. It seems that more help from the auditor is needed.\n",
        "Now, with one more extra hint the algorithm matches all the records correctly."
      ]
    },
    {
      "cell_type": "code",
      "execution_count": 8,
      "id": "f70b64e9",
      "metadata": {
        "execution": {
          "iopub.execute_input": "2022-12-09T07:41:03.463728Z",
          "iopub.status.busy": "2022-12-09T07:41:03.463571Z",
          "iopub.status.idle": "2022-12-09T07:41:03.565028Z",
          "shell.execute_reply": "2022-12-09T07:41:03.564435Z"
        }
      },
      "outputs": [
        {
          "name": "stdout",
          "output_type": "stream",
          "text": [
            "            | weight | left | right\n",
            "^G42P9C8... | 1      | 1    | A\n",
            "^2X2NT5R... | 1      | 3    | B\n"
          ]
        }
      ],
      "source": [
        "audit = pw.csv.read(\"./audit2.csv\", [\"left\", \"right\", \"weight\"])\n",
        "pw.debug.compute_and_print(audit)"
      ]
    },
    {
      "cell_type": "code",
      "execution_count": 9,
      "id": "ab6aaaa0",
      "metadata": {
        "execution": {
          "iopub.execute_input": "2022-12-09T07:41:03.566908Z",
          "iopub.status.busy": "2022-12-09T07:41:03.566526Z",
          "iopub.status.idle": "2022-12-09T07:41:03.587143Z",
          "shell.execute_reply": "2022-12-09T07:41:03.586699Z"
        }
      },
      "outputs": [],
      "source": [
        "matching, suggested_matchings = reconcile_transactions(transactionsA, transactionsB, audit)"
      ]
    },
    {
      "cell_type": "markdown",
      "id": "9b248bac",
      "metadata": {
        "lines_to_next_cell": 0
      },
      "source": [
        "This time we provide the last pair, 3 - B:"
      ]
    },
    {
      "cell_type": "code",
      "execution_count": 10,
      "id": "1bf4eb42",
      "metadata": {
        "execution": {
          "iopub.execute_input": "2022-12-09T07:41:03.588955Z",
          "iopub.status.busy": "2022-12-09T07:41:03.588665Z",
          "iopub.status.idle": "2022-12-09T07:41:03.745293Z",
          "shell.execute_reply": "2022-12-09T07:41:03.744707Z"
        },
        "lines_to_next_cell": 0
      },
      "outputs": [
        {
          "name": "stdout",
          "output_type": "stream",
          "text": [
            "            | left        | right       | weight\n",
            "^46BS09A... | ^BEX6C3M... | ^89G66W6... | 1\n",
            "^TKHY2P2... | ^J7G4KDV... | ^ZHRPF6J... | 1\n"
          ]
        }
      ],
      "source": [
        "pw.debug.compute_and_print(suggested_matchings)"
      ]
    },
    {
      "cell_type": "markdown",
      "id": "c11a0706",
      "metadata": {
        "lines_to_next_cell": 0,
        "tags": []
      },
      "source": [
        "Given those, we should obtain a full --and hopefully correct -- matching."
      ]
    },
    {
      "cell_type": "code",
      "execution_count": 11,
      "id": "f7124535",
      "metadata": {
        "execution": {
          "iopub.execute_input": "2022-12-09T07:41:03.747192Z",
          "iopub.status.busy": "2022-12-09T07:41:03.747045Z",
          "iopub.status.idle": "2022-12-09T07:41:03.909768Z",
          "shell.execute_reply": "2022-12-09T07:41:03.909224Z"
        }
      },
      "outputs": [
        {
          "name": "stdout",
          "output_type": "stream",
          "text": [
            "            | left_key | confidence | right_key\n",
            "^QZ87016... | 1        | 1          | A\n",
            "^MYTVCHC... | 2        | 0.5        | C\n",
            "^AXKZ41H... | 3        | 1          | B\n"
          ]
        }
      ],
      "source": [
        "pw.debug.compute_and_print(matching)"
      ]
    },
    {
      "cell_type": "markdown",
      "id": "7df7fdd6",
      "metadata": {},
      "source": [
        "Bingo!\n",
        "\n",
        "It may sound long and tedious but in practice most of the matchings should have been done automatically.\n",
        "This process is only performed for the few remaining cases, where the linkages are hard to make."
      ]
    },
    {
      "cell_type": "markdown",
      "id": "bcd4a499",
      "metadata": {},
      "source": [
        "## Conclusion\n",
        "In conclusion, writing pipelines with a feedback loop is as easy as can be.\n",
        "When writing such a data processing algorithm, a tip is to always clearly separate inputs from outputs.\n",
        "It is important because the Pathway engine observes inputs for any changes and recalculates parts of the computation when needed.\n",
        "\n",
        "\n",
        "In the next chapter, we will show you how to make a Pathway installation which provides a full Fuzzy-Matching application, complete with frontend. (Coming soon!)\n",
        "![Demo animation](/assets/content/showcases/fuzzy_join/demo.gif)"
      ]
    }
  ],
  "metadata": {
    "kernelspec": {
      "display_name": "Python 3 (ipykernel)",
      "language": "python",
      "name": "python3"
    },
    "language_info": {
      "codemirror_mode": {
        "name": "ipython",
        "version": 3
      },
      "file_extension": ".py",
      "mimetype": "text/x-python",
      "name": "python",
      "nbconvert_exporter": "python",
      "pygments_lexer": "ipython3",
      "version": "3.10.6"
    }
  },
  "nbformat": 4,
  "nbformat_minor": 5
}