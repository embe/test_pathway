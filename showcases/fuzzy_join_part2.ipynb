{
  "cells": [
    {
      "cell_type": "markdown",
      "metadata": {
        "id": "view-in-colab"
      },
      "source": [
        "<a href=\"https://colab.research.google.com/github/pathwaycom/pathway-examples/blob/main/showcases/fuzzy_join_part2.ipynb\" target=\"_parent\"><img src=\"https://pathway.com/assets/colab-badge.svg\" alt=\"Run In Colab\" class=\"inline\"/></a>"
      ]
    },
    {
      "cell_type": "markdown",
      "source": [
        "# [Colab-specific instructions] Installing Python 3.8+ and Pathway\n",
        "\n",
        "> Pathway requires Python >=3.8 and works best with Python 3.10.\n",
        ">\n",
        "> In the cell below we install pathway into any Python 3.8+ runtime!\n",
        "> Please:\n",
        "> 1. **IF running under Google Colab, do \"File\" -> \"Save a copy in Drive\"**, before running any cell.\n",
        "> 2. **Insert in the form below the pip install link** given to you with your beta access.\n",
        "> 3. **Run the colab notebook (Ctrl+F9)**, disregarding the 'not authored by Google' warning. **The installation and loading time is about 2 minutes**.\n"
      ],
      "metadata": {
        "id": "notebook-instructions"
      }
    },
    {
      "cell_type": "code",
      "source": [
        "#@title \u2699\ufe0f Pathway installer. Please provide the pip install link for Pathway:\n",
        "# Please copy here the installation line:\n",
        "PATHWAY_INSTALL_LINE='' #@param {type:\"string\"}\n",
        "\n",
        "if PATHWAY_INSTALL_LINE.startswith('pip install '):\n",
        "    PATHWAY_INSTALL_LINE=PATHWAY_INSTALL_LINE[len('pip install '):]\n",
        "\n",
        "class InterruptExecution(Exception):\n",
        "    def _render_traceback_(self):\n",
        "        pass\n",
        "\n",
        "if '...' in PATHWAY_INSTALL_LINE or not PATHWAY_INSTALL_LINE.startswith('https://'):\n",
        "    print(\n",
        "        \"\u26d4 Please register at https://pathway.com/developers/documentation/introduction/installation-and-first-steps\\n\"\n",
        "        \"to Copy & Paste the Linux pip install line for Pathway!\"\n",
        "    )\n",
        "    raise InterruptExecution\n",
        "\n",
        "DO_INSTALL = False\n",
        "import sys\n",
        "if sys.version_info >= (3, 8):\n",
        "    print(f'\u2705 Python {sys.version} is active.')\n",
        "    try:\n",
        "        import pathway as pw\n",
        "        print('\u2705 Pathway successfully imported.')\n",
        "    except:\n",
        "        DO_INSTALL = True\n",
        "else:\n",
        "    print(\"\u26d4 Pathway requires Python 3.8 or higher.\")\n",
        "    raise InterruptExecution\n",
        "\n",
        "if DO_INSTALL:\n",
        "    !ls $(dirname $(which python))/../lib/python*/*-packages/pathway 1>/dev/null 2>/dev/null || echo \"\u231b Installing Pathway. This usually takes 2-3 minutes...\"\n",
        "    !ls $(dirname $(which python))/../lib/python*/*-packages/pathway 1>/dev/null 2>/dev/null || pip install {PATHWAY_INSTALL_LINE} 1>/dev/null 2>/dev/null\n",
        "    !ls $(dirname $(which python))/../lib/python*/*-packages/pathway 1>/dev/null 2>/dev/null || echo \"\u26d4 Installation failed. Don't be shy to reach out to the community at https://pathway.com !\"\n",
        "    !ls $(dirname $(which python))/../lib/python*/*-packages/pathway 1>/dev/null 2>/dev/null && echo \"\u2705 All installed. Enjoy Pathway!\"\n"
      ],
      "metadata": {
        "id": "pip-installation-pathway",
        "cellView": "form"
      },
      "execution_count": null,
      "outputs": []
    },
    {
      "cell_type": "markdown",
      "id": "438ba2a7",
      "metadata": {
        "lines_to_next_cell": 0
      },
      "source": [
        "# Realtime Fuzzy-Join in Pathway\n",
        "\n",
        "## Part 2: Fuzzy Join - reconciliation with audit: when the computer is not enough\n",
        "\n",
        "In this article, we are going to show you how Pathway interacts with incremental data flows with a **feedback loop**.\n",
        "\n",
        "In the [first part of this showcase](/developers/showcases/fuzzy_join/fuzzy_join_chapter1) we explained how `smart_fuzzy_join` may be helpful in bookkeeping.\n",
        "Previously, we had a simple pipeline that matched entries of two different tables, such as two logs of bank transfers, in two different formats.\n",
        "Many matchings can be inferred automatically, but some can be really tricky without help: while the fans of Harry Potter can instantaneously make the connection between 'You-Know-Who' and 'Voldemort', it is impossible for a computer to do so, at least without help.\n",
        "\n",
        "Human audit is unavoidable in many areas such as accounting or banking.\n",
        "As such, we extend our pipeline with an auditor that supervises the process of reconciliation.\n",
        "The auditor may help the system by providing some hints, i.e. suggesting difficult matchings by hand.\n",
        "\n",
        "## Feedback loop in Pathway\n",
        "![Graph image](/assets/content/showcases/fuzzy_join/reconciliation_chapter3.png)\n",
        "\n",
        "This figure represents an architecture with a feedback loop to understand how the pieces work together.\n",
        "\n",
        "Reconciliation by SmartFuzzyJoin lies at the heart of the architecture:\n",
        "- it consumes inputs from 3 sources:\n",
        "  - two tables with transactions in different formats;\n",
        "  - a table with manual corrections provided by the auditor;\n",
        "- it outputs one table with matched records.\n",
        "\n",
        "You might think of the auditor as a simple automaton.\n",
        "Either they are satisfied with presented results and simply save them in some storage, or they provide some hints for the algorithm to find a better matching.\n",
        "\n",
        "**Note:** Although the architecture contains a feedback loop, all tables here are either inputs or outputs of the system.\n",
        "\n",
        "\n",
        "## The data\n",
        "\n",
        "Human audit is certainly needed to handle the sample dataset below.\n",
        "\n",
        " **Recipient and sender in a 'standard' CSV format**\n",
        "\n",
        "|id    |recipient|sender       |\n",
        "|------|---------|-------------|\n",
        "|1     |Bill H.  |Nancy R.     |\n",
        "|2     |Harry P. |Hermione  G. |\n",
        "|3     |Julian S.|Dick F.      |\n",
        "\n",
        "\n",
        " **Messages describing the transactions**\n",
        "\n",
        "|id    |message  |\n",
        "|------|---------|\n",
        "|A     |Dear William, thank you for your patience. Regards, Ann|\n",
        "|B     |Dear Colleague! I think they might have sent me your particle! Yours, Richard|\n",
        "|C     |Paying back for two Chocolate Frogs, cheers Hermione!|\n",
        "\n",
        "## Automatic reconciliation\n",
        "Let's see how many records we can match without any human help.\n",
        "We reuse code from [Part 1 of this showcase](/developers/showcases/fuzzy_join/fuzzy_join_chapter1)."
      ]
    },
    {
      "cell_type": "code",
      "execution_count": 1,
      "id": "c55804cc",
      "metadata": {
        "execution": {
          "iopub.execute_input": "2022-12-28T00:20:58.937607Z",
          "iopub.status.busy": "2022-12-28T00:20:58.937411Z",
          "iopub.status.idle": "2022-12-28T00:21:00.478040Z",
          "shell.execute_reply": "2022-12-28T00:21:00.476981Z"
        },
        "lines_to_next_cell": 2
      },
      "outputs": [],
      "source": [
        "import pandas as pd\n",
        "\n",
        "import pathway as pw"
      ]
    },
    {
      "cell_type": "markdown",
      "id": "351d4156",
      "metadata": {},
      "source": [
        "We need to read the csv files:"
      ]
    },
    {
      "cell_type": "code",
      "execution_count": 2,
      "id": "8d4ad3a8",
      "metadata": {
        "execution": {
          "iopub.execute_input": "2022-12-28T00:21:00.481638Z",
          "iopub.status.busy": "2022-12-28T00:21:00.481330Z",
          "iopub.status.idle": "2022-12-28T00:21:00.485171Z",
          "shell.execute_reply": "2022-12-28T00:21:00.484407Z"
        }
      },
      "outputs": [],
      "source": [
        "# Uncomment to download the required files.\n",
        "# %%capture --no-display\n",
        "# !wget https://public-pathway-releases.s3.eu-central-1.amazonaws.com/data/fuzzy_join_part_2_transactionsA.csv -O transactionsA.csv\n",
        "# !wget https://public-pathway-releases.s3.eu-central-1.amazonaws.com/data/fuzzy_join_part_2_transactionsB.csv -O transactionsB.csv\n",
        "# !wget https://public-pathway-releases.s3.eu-central-1.amazonaws.com/data/fuzzy_join_part_2_audit1-v2.csv -O audit1.csv\n",
        "# !wget https://public-pathway-releases.s3.eu-central-1.amazonaws.com/data/fuzzy_join_part_2_audit2-v2.csv -O audit2.csv"
      ]
    },
    {
      "cell_type": "code",
      "execution_count": 3,
      "id": "c2aca057",
      "metadata": {
        "execution": {
          "iopub.execute_input": "2022-12-28T00:21:00.487846Z",
          "iopub.status.busy": "2022-12-28T00:21:00.487676Z",
          "iopub.status.idle": "2022-12-28T00:21:00.495834Z",
          "shell.execute_reply": "2022-12-28T00:21:00.495029Z"
        }
      },
      "outputs": [
        {
          "name": "stdout",
          "output_type": "stream",
          "text": [
            "            | key | recipient | sender\n",
            "^BEX6C3M... | 1   | Bill H.   | Nancy R.\n",
            "^C5CYXSW... | 2   | Harry P.  |  Hermione  G.\n",
            "^J7G4KDV... | 3   | Julian S. | Dick F.\n",
            "            | key | message\n",
            "^89G66W6... | A   | Dear William, thank you for you patience. Regards, Ann\n",
            "^ZHRPF6J... | B   | Dear colleague! I think they might have send me your part! Yours, Richard\n",
            "^7D5A912... | C   | Paying back for two Chocolate Frogs, cheers Hermione\n"
          ]
        }
      ],
      "source": [
        "transactionsA=pw.csv.read(\"./transactionsA.csv\", [\"key\",\"recipient\",\"sender\"], id_columns=[\"key\"])\n",
        "pw.debug.compute_and_print(transactionsA)\n",
        "transactionsB=pw.csv.read(\"./transactionsB.csv\", [\"key\",\"message\"], id_columns=[\"key\"])\n",
        "pw.debug.compute_and_print(transactionsB)"
      ]
    },
    {
      "cell_type": "markdown",
      "id": "aab2c451",
      "metadata": {},
      "source": [
        "We use the provided column `key` as indexes: Pathway will generate indexes based on those.\n",
        "\n",
        "We add a wrapper `reconcile_transactions` to replace the generated indexes by the corresponding key."
      ]
    },
    {
      "cell_type": "code",
      "execution_count": 4,
      "id": "7a735bd8",
      "metadata": {
        "execution": {
          "iopub.execute_input": "2022-12-28T00:21:00.498549Z",
          "iopub.status.busy": "2022-12-28T00:21:00.497864Z",
          "iopub.status.idle": "2022-12-28T00:21:00.690499Z",
          "shell.execute_reply": "2022-12-28T00:21:00.689242Z"
        },
        "lines_to_next_cell": 0
      },
      "outputs": [
        {
          "name": "stdout",
          "output_type": "stream",
          "text": [
            "            | left_key | confidence | right_key\n",
            "^KETA5JX... |          | 0.0        |\n",
            "^7CFTH77... |          | 0.0        |\n",
            "^MYTVCHC... | 2        | 0.5        | C\n"
          ]
        }
      ],
      "source": [
        "def match_transactions(transactionsA, transactionsB, by_hand_matching):\n",
        "    matching = pw.ml.smart_table_ops.fuzzy_match_tables(\n",
        "        transactionsA, transactionsB, by_hand_match=by_hand_matching\n",
        "    )\n",
        "    transactionsA_reconciled = (\n",
        "        pw.Table.empty(left=str, right=str, confidence=float)\n",
        "        .update_rows(\n",
        "            transactionsA.select(left=None, right=None, confidence=0.0)\n",
        "        )\n",
        "        .update_rows(\n",
        "            matching.select(\n",
        "                pw.this.left, pw.this.right, confidence=pw.this.weight\n",
        "            ).with_id(pw.this.left)\n",
        "        )\n",
        "    )\n",
        "    return transactionsA_reconciled\n",
        "\n",
        "\n",
        "def reconcile_transactions(transactionsA, transactionsB,\n",
        "    audit=None,\n",
        "):\n",
        "    by_hand_matching = pw.Table.empty(left=pw.Pointer, right=pw.Pointer, weight=float)\n",
        "    if audit is not None:\n",
        "        by_hand_matching = audit\n",
        "        by_hand_matching = by_hand_matching.select(\n",
        "            left=transactionsA.pointer_from(pw.this.left),\n",
        "            right=transactionsB.pointer_from(pw.this.right),\n",
        "            weight=pw.this.weight,\n",
        "        )\n",
        "    transactionsA_reconciled = match_transactions(\n",
        "        transactionsA, transactionsB, by_hand_matching\n",
        "    )\n",
        "    transactionsA_reconciled = transactionsA_reconciled.left_join(\n",
        "        transactionsA,\n",
        "        pw.left.left==pw.right.id\n",
        "    ).select(\n",
        "        pw.left.right,\n",
        "        pw.left.confidence,\n",
        "        left_key=pw.right.key\n",
        "    )\n",
        "    transactionsA_reconciled = transactionsA_reconciled.left_join(\n",
        "        transactionsB,\n",
        "        pw.left.right==pw.right.id\n",
        "    ).select(\n",
        "        pw.left.left_key,\n",
        "        pw.left.confidence,\n",
        "        right_key=pw.right.key\n",
        "    )\n",
        "    return transactionsA_reconciled, by_hand_matching\n",
        "\n",
        "matching, _ = reconcile_transactions(transactionsA, transactionsB)\n",
        "pw.debug.compute_and_print(matching)"
      ]
    },
    {
      "cell_type": "markdown",
      "id": "bbc8b4ad",
      "metadata": {
        "lines_to_next_cell": 0
      },
      "source": [
        "Not a perfect matching. It seems that the help of an auditor is needed.\n",
        "\n",
        "\n",
        "## Incremental reconciliation with an auditor\n",
        "The correct matching is 1 - A, 2 - C and 3 - B. Why? [Tip 1](https://en.wikipedia.org/wiki/Bill_%28given_name%29), [Tip 2](https://www.nobelprize.org/prizes/physics/1965/summary/).\n",
        "\n",
        "Previously, the algorithm identified matching 2 - C correctly but failed to find the connections between the other pairs.\n",
        "Now, we run it with a hint - feedback from an auditor.\n",
        "\n",
        "To include the hint (nothing complicated), we just need to launch our function with the parameter `audit`:"
      ]
    },
    {
      "cell_type": "code",
      "execution_count": 5,
      "id": "ae75538f",
      "metadata": {
        "execution": {
          "iopub.execute_input": "2022-12-28T00:21:00.693488Z",
          "iopub.status.busy": "2022-12-28T00:21:00.693272Z",
          "iopub.status.idle": "2022-12-28T00:21:00.725225Z",
          "shell.execute_reply": "2022-12-28T00:21:00.724390Z"
        }
      },
      "outputs": [],
      "source": [
        "audit = pw.csv.read(\"./audit1.csv\",[\"left\",\"right\",\"weight\"])\n",
        "matching, suggested_matchings = reconcile_transactions(transactionsA, transactionsB, audit)"
      ]
    },
    {
      "cell_type": "markdown",
      "id": "1b8b2925",
      "metadata": {},
      "source": [
        "Here is the author's feedback, the pair 1 - A:"
      ]
    },
    {
      "cell_type": "code",
      "execution_count": 6,
      "id": "f072c103",
      "metadata": {
        "execution": {
          "iopub.execute_input": "2022-12-28T00:21:00.727808Z",
          "iopub.status.busy": "2022-12-28T00:21:00.727620Z",
          "iopub.status.idle": "2022-12-28T00:21:00.858690Z",
          "shell.execute_reply": "2022-12-28T00:21:00.857531Z"
        },
        "lines_to_next_cell": 0,
        "tags": []
      },
      "outputs": [
        {
          "name": "stdout",
          "output_type": "stream",
          "text": [
            "            | left        | right       | weight\n",
            "^KZJ989M... | ^BEX6C3M... | ^89G66W6... | 1\n"
          ]
        }
      ],
      "source": [
        "pw.debug.compute_and_print(suggested_matchings)"
      ]
    },
    {
      "cell_type": "markdown",
      "id": "d901ba36",
      "metadata": {
        "lines_to_next_cell": 0
      },
      "source": [
        "Given this feedback, we check that the new matching took into account this pair:"
      ]
    },
    {
      "cell_type": "code",
      "execution_count": 7,
      "id": "f4950d5f",
      "metadata": {
        "execution": {
          "iopub.execute_input": "2022-12-28T00:21:00.861261Z",
          "iopub.status.busy": "2022-12-28T00:21:00.861075Z",
          "iopub.status.idle": "2022-12-28T00:21:00.996492Z",
          "shell.execute_reply": "2022-12-28T00:21:00.995233Z"
        }
      },
      "outputs": [
        {
          "name": "stdout",
          "output_type": "stream",
          "text": [
            "            | left_key | confidence | right_key\n",
            "^KETA5JX... |          | 0.0        |\n",
            "^QZ87016... | 1        | 1          | A\n",
            "^MYTVCHC... | 2        | 0.5        | C\n"
          ]
        }
      ],
      "source": [
        "pw.debug.compute_and_print(matching)"
      ]
    },
    {
      "cell_type": "markdown",
      "id": "5369d764",
      "metadata": {
        "lines_to_next_cell": 0
      },
      "source": [
        "Still not perfect but better. It seems that more help from the auditor is needed.\n",
        "Now, with one more extra hint the algorithm matches all the records correctly."
      ]
    },
    {
      "cell_type": "code",
      "execution_count": 8,
      "id": "cc4cebdf",
      "metadata": {
        "execution": {
          "iopub.execute_input": "2022-12-28T00:21:00.999588Z",
          "iopub.status.busy": "2022-12-28T00:21:00.999376Z",
          "iopub.status.idle": "2022-12-28T00:21:01.148405Z",
          "shell.execute_reply": "2022-12-28T00:21:01.147188Z"
        }
      },
      "outputs": [
        {
          "name": "stdout",
          "output_type": "stream",
          "text": [
            "            | left | right | weight\n",
            "^33MB3BM... | 1    | A     | 1\n",
            "^A1J1V8T... | 3    | B     | 1\n"
          ]
        }
      ],
      "source": [
        "audit = pw.csv.read(\"./audit2.csv\", [\"left\", \"right\", \"weight\"])\n",
        "pw.debug.compute_and_print(audit)"
      ]
    },
    {
      "cell_type": "code",
      "execution_count": 9,
      "id": "7b111b48",
      "metadata": {
        "execution": {
          "iopub.execute_input": "2022-12-28T00:21:01.150943Z",
          "iopub.status.busy": "2022-12-28T00:21:01.150746Z",
          "iopub.status.idle": "2022-12-28T00:21:01.178510Z",
          "shell.execute_reply": "2022-12-28T00:21:01.178111Z"
        }
      },
      "outputs": [],
      "source": [
        "matching, suggested_matchings = reconcile_transactions(transactionsA, transactionsB, audit)"
      ]
    },
    {
      "cell_type": "markdown",
      "id": "0c38bf83",
      "metadata": {
        "lines_to_next_cell": 0
      },
      "source": [
        "This time we provide the last pair, 3 - B:"
      ]
    },
    {
      "cell_type": "code",
      "execution_count": 10,
      "id": "4103cd48",
      "metadata": {
        "execution": {
          "iopub.execute_input": "2022-12-28T00:21:01.180269Z",
          "iopub.status.busy": "2022-12-28T00:21:01.180123Z",
          "iopub.status.idle": "2022-12-28T00:21:01.413088Z",
          "shell.execute_reply": "2022-12-28T00:21:01.412404Z"
        },
        "lines_to_next_cell": 0
      },
      "outputs": [
        {
          "name": "stdout",
          "output_type": "stream",
          "text": [
            "            | left        | right       | weight\n",
            "^WEZXA0P... | ^BEX6C3M... | ^89G66W6... | 1\n",
            "^X429P5F... | ^J7G4KDV... | ^ZHRPF6J... | 1\n"
          ]
        }
      ],
      "source": [
        "pw.debug.compute_and_print(suggested_matchings)"
      ]
    },
    {
      "cell_type": "markdown",
      "id": "ad59c34a",
      "metadata": {
        "lines_to_next_cell": 0,
        "tags": []
      },
      "source": [
        "Given those, we should obtain a full --and hopefully correct -- matching."
      ]
    },
    {
      "cell_type": "code",
      "execution_count": 11,
      "id": "e362268b",
      "metadata": {
        "execution": {
          "iopub.execute_input": "2022-12-28T00:21:01.415493Z",
          "iopub.status.busy": "2022-12-28T00:21:01.415311Z",
          "iopub.status.idle": "2022-12-28T00:21:01.644454Z",
          "shell.execute_reply": "2022-12-28T00:21:01.643837Z"
        }
      },
      "outputs": [
        {
          "name": "stdout",
          "output_type": "stream",
          "text": [
            "            | left_key | confidence | right_key\n",
            "^QZ87016... | 1        | 1          | A\n",
            "^MYTVCHC... | 2        | 0.5        | C\n",
            "^AXKZ41H... | 3        | 1          | B\n"
          ]
        }
      ],
      "source": [
        "pw.debug.compute_and_print(matching)"
      ]
    },
    {
      "cell_type": "markdown",
      "id": "142787a8",
      "metadata": {},
      "source": [
        "Bingo!\n",
        "\n",
        "It may sound long and tedious but in practice most of the matchings should have been done automatically.\n",
        "This process is only performed for the few remaining cases, where the linkages are hard to make."
      ]
    },
    {
      "cell_type": "markdown",
      "id": "697d2d86",
      "metadata": {},
      "source": [
        "## Conclusion\n",
        "In conclusion, writing pipelines with a feedback loop is as easy as can be.\n",
        "When writing such a data processing algorithm, a tip is to always clearly separate inputs from outputs.\n",
        "It is important because the Pathway engine observes inputs for any changes and recalculates parts of the computation when needed.\n",
        "\n",
        "\n",
        "In the next chapter, we will show you how to make a Pathway installation which provides a full Fuzzy-Matching application, complete with frontend. (Coming soon!)\n",
        "![Demo animation](/assets/content/showcases/fuzzy_join/demo.gif)"
      ]
    }
  ],
  "metadata": {
    "kernelspec": {
      "display_name": "Python 3 (ipykernel)",
      "language": "python",
      "name": "python3"
    },
    "language_info": {
      "codemirror_mode": {
        "name": "ipython",
        "version": 3
      },
      "file_extension": ".py",
      "mimetype": "text/x-python",
      "name": "python",
      "nbconvert_exporter": "python",
      "pygments_lexer": "ipython3",
      "version": "3.10.8"
    }
  },
  "nbformat": 4,
  "nbformat_minor": 5
}