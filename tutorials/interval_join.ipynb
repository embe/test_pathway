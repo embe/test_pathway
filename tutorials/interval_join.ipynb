{
  "cells": [
    {
      "cell_type": "markdown",
      "metadata": {
        "id": "view-in-colab"
      },
      "source": [
        "<a href=\"https://colab.research.google.com/github/pathwaycom/pathway-examples/blob/main/tutorials/interval_join.ipynb\" target=\"_parent\"><img src=\"https://pathway.com/assets/colab-badge.svg\" alt=\"Run In Colab\" class=\"inline\"/></a>"
      ]
    },
    {
      "cell_type": "markdown",
      "source": [
        "# Installing Pathway with Python 3.8+\n",
        "\n",
        "In the cell below, we install Pathway into a Python 3.8+ Linux runtime.\n",
        "\n",
        "> **If you are running in Google Colab, please run the colab notebook (Ctrl+F9)**, disregarding the 'not authored by Google' warning.\n",
        "> \n",
        "> **The installation and loading time is less than 1 minute**.\n"
      ],
      "metadata": {
        "id": "notebook-instructions"
      }
    },
    {
      "cell_type": "code",
      "source": [
        "%%capture --no-display\n",
        "!pip install --extra-index-url https://packages.pathway.com/966431ef6ba pathway"
      ],
      "metadata": {
        "id": "pip-installation-pathway",
        "cellView": "form"
      },
      "execution_count": null,
      "outputs": []
    },
    {
      "cell_type": "markdown",
      "id": "2d2ae27b",
      "metadata": {},
      "source": [
        "# Performing Interval Joins in Pathway\n",
        "This article offers a comprehensive tutorial on how to use the interval join function in Pathway to accurately compute the Estimated Time of Arrival (ETA) for vehicles.\n",
        "\n",
        "The practice of temporal data analysis often invokes the use of interval joins, which diverge from the conventional join operation by virtue of a more adaptable matching strategy. Rather than linking records from two tables based purely on a precise key match, interval joins offer a compound inequality based linkage.\n",
        "\n",
        "In essence, the interval join merges records by comparing the timestamp from each record of two tables and evaluates whether the difference falls within a specified time window or `interval`.\n",
        "\n",
        "![Illustration of interval join](assets/content/tutorials/fleet_eta_interval_join/illustrative_interval_join.png)\n",
        "\n",
        "This operation is especially useful in time-series data processing scenarios. For instance, when processing streaming data, data points may not arrive at the system simultaneously due to differences in data production speed, network latency, or other factors. Interval join comes to the rescue by enabling the system to align data points that are closest in time, thus facilitating real-time data analysis and decision-making.\n",
        "\n",
        "In this tutorial, you will calculate the estimated time of arrival (ETA) for each vehicle in a fleet given its current location, destination, the route it's taking, and any potential route maintenance delays.\n",
        "\n",
        "## 1. Setting Up the Tables\n",
        "\n",
        "Let's start by defining the tables: vehicle locations, routes, and maintenance schedules. For the sake of this tutorial, you could use `pw.debug.table_from_markdown` function to create tables from markdown formatted string. Please refer to our article about [connectors in Pathway](/developers/documentation/input-and-output-streams/connectors/) to find out more about data connectors. Be assured that this code is compatible with the streaming mode."
      ]
    },
    {
      "cell_type": "code",
      "execution_count": 1,
      "id": "1ded77f6",
      "metadata": {
        "execution": {
          "iopub.execute_input": "2023-06-16T22:28:44.759039Z",
          "iopub.status.busy": "2023-06-16T22:28:44.758937Z",
          "iopub.status.idle": "2023-06-16T22:28:46.142355Z",
          "shell.execute_reply": "2023-06-16T22:28:46.141936Z"
        }
      },
      "outputs": [],
      "source": [
        "from datetime import datetime\n",
        "import pathway as pw\n",
        "\n",
        "vehicle_locations = pw.debug.table_from_markdown(\n",
        "    \"\"\"\n",
        "    | timestamp     | vehicle_id |  route_id    | current_lat  | current_long  | dest_lat | dest_long\n",
        "  1 |  1682884074   | 1          |  h432af      | 12.8716      | 77.5946       | 12.9800  | 77.5950\n",
        "  2 |  1682884300   | 1          |  h432af      | 12.8717      | 77.5946       | 12.9800  | 77.5950\n",
        "  3 |  1682884801   | 1          |  h577dk      | 12.8768      | 77.5947       | 12.9800  | 77.5950\n",
        "  4 |  1682885003   | 1          |  h577dk      | 12.8829      | 77.5947       | 12.9800  | 77.5950\n",
        "  5 |  1682992012   | 2          |  h120cc      | 10.4601      | 78.0937       | 10.4532  | 78.0987\n",
        "  6 |  1682992274   | 2          |  h120cc      | 10.4600      | 78.0948       | 10.4532  | 78.0987\n",
        "  7 |  1682992674   | 2          |  h120cc      | 10.4595      | 78.0959       | 10.4532  | 78.0987\"\"\"\n",
        ")\n",
        "\n",
        "routes = pw.debug.table_from_markdown(\n",
        "    \"\"\"\n",
        "        | route_id  | traffic_speed_km_per_h\n",
        "    1   | h120cc  | 60\n",
        "    2   | h432af  | 40\n",
        "    3   | h577dk  | 80\n",
        "    \"\"\"\n",
        ")\n",
        "\n",
        "# Create a maintenance data table\n",
        "maintenance = pw.debug.table_from_markdown(\n",
        "    \"\"\"\n",
        "      | route_id    | start_time    | delay_minutes\n",
        "    1 | h120cc      | 1682992274    | 30\n",
        "    2 | g392rt      | 1682884441    | 20\n",
        "    3 | h577dk      | 1682885777    | 10\n",
        "    \"\"\"\n",
        ")"
      ]
    },
    {
      "cell_type": "markdown",
      "id": "d103c302",
      "metadata": {},
      "source": [
        "## 2. Calculating Distance\n",
        "\n",
        "To compute the geodesic distance between the vehicle's current location and its destination, a function `calculate_distance` is defined."
      ]
    },
    {
      "cell_type": "markdown",
      "id": "ae7b7ebb",
      "metadata": {},
      "source": [
        "If you don't have the geopy package, you can uncomment and execute the following cell:"
      ]
    },
    {
      "cell_type": "code",
      "execution_count": 2,
      "id": "2cc7090b",
      "metadata": {
        "execution": {
          "iopub.execute_input": "2023-06-16T22:28:46.144445Z",
          "iopub.status.busy": "2023-06-16T22:28:46.144211Z",
          "iopub.status.idle": "2023-06-16T22:28:46.146688Z",
          "shell.execute_reply": "2023-06-16T22:28:46.146380Z"
        },
        "lines_to_next_cell": 2
      },
      "outputs": [],
      "source": [
        "\n",
        "%%capture --no-display\n",
        "#!pip install geopy"
      ]
    },
    {
      "cell_type": "code",
      "execution_count": 3,
      "id": "5e4ea69c",
      "metadata": {
        "execution": {
          "iopub.execute_input": "2023-06-16T22:28:46.148063Z",
          "iopub.status.busy": "2023-06-16T22:28:46.147888Z",
          "iopub.status.idle": "2023-06-16T22:28:46.246093Z",
          "shell.execute_reply": "2023-06-16T22:28:46.245688Z"
        }
      },
      "outputs": [],
      "source": [
        "from geopy.distance import geodesic\n",
        "\n",
        "def calculate_distance(\n",
        "    current_lat: float, current_long: float, dest_lat: float, dest_long: float\n",
        ") -> float:\n",
        "    current_location = (current_lat, current_long)\n",
        "    destination = (dest_lat, dest_long)\n",
        "    return geodesic(current_location, destination).km"
      ]
    },
    {
      "cell_type": "markdown",
      "id": "453b0fc4",
      "metadata": {},
      "source": [
        "Apply this function to the table:"
      ]
    },
    {
      "cell_type": "code",
      "execution_count": 4,
      "id": "978c69d5",
      "metadata": {
        "execution": {
          "iopub.execute_input": "2023-06-16T22:28:46.248175Z",
          "iopub.status.busy": "2023-06-16T22:28:46.247946Z",
          "iopub.status.idle": "2023-06-16T22:28:46.271303Z",
          "shell.execute_reply": "2023-06-16T22:28:46.270935Z"
        }
      },
      "outputs": [
        {
          "name": "stdout",
          "output_type": "stream",
          "text": [
            "            | distance_km\n",
            "^6A0QZMJ... | 0.761296229289714\n",
            "^A984WV0... | 0.8648988130993015\n",
            "^3S2X6B2... | 0.9392333321427617\n",
            "^3HN31E1... | 10.742213096795222\n",
            "^3CZ78B4... | 11.417049942736774\n",
            "^Z3QWT29... | 11.981292208928062\n",
            "^YYY4HAB... | 11.992355076407808\n"
          ]
        }
      ],
      "source": [
        "vehicle_locations += vehicle_locations.select(\n",
        "    distance_km=pw.apply(\n",
        "        calculate_distance,**vehicle_locations[[\"current_lat\", \"current_long\", \"dest_lat\", \"dest_long\"]]\n",
        "    ),\n",
        ")\n",
        "pw.debug.compute_and_print(vehicle_locations[[\"distance_km\"]])"
      ]
    },
    {
      "cell_type": "markdown",
      "id": "0540a035",
      "metadata": {},
      "source": [
        "## 3. Performing the Interval Join\n",
        "\n",
        "Pathway has a function called `interval_join` (resp. `interval_join_{outer/left/right}`) which you can use to perform the interval join operation. As mentioned earlier, it is a temporal join operation that allows matching elements of a table `right` whose timestamps fall within a certain time interval relative to the timestamps of `left`'s elements.\\\n",
        "Using the left join variant `interval_join_left` retains records with and without delays, thereby perfectly addressing our current scenario.\n",
        "\n",
        "For simplicity, we'll make the assumption that maintenance operations are delocalized throughout the routes and they last for a duration of $\\Delta$. A delay is incurred only if maintenance event $i$ at time $m_i$ has already began and hasn't ended yet at time $t$\n",
        "i.e. $m_i <= t <= m_i + \\Delta$ or equivalently $-\\Delta <= m_i - t <= 0$.\n",
        "\n",
        "It is possible to add exact conditions on top of the temporal join. Here, you need to also join on the `route_id`.\n",
        "\n",
        "The arguments of the interval_join_left:\n",
        "* `other` : the right side table.\n",
        "* `self_time_expression` : the time column/expression in the left table.\n",
        "* `other_time_expression` : the time column/expression in the right table.\n",
        "* `interval` : where other_time_expression-self_time_expression must be.\n",
        "* `*on` : a list of equality conditions."
      ]
    },
    {
      "cell_type": "code",
      "execution_count": 5,
      "id": "2df31868",
      "metadata": {
        "execution": {
          "iopub.execute_input": "2023-06-16T22:28:46.272814Z",
          "iopub.status.busy": "2023-06-16T22:28:46.272616Z",
          "iopub.status.idle": "2023-06-16T22:28:46.395240Z",
          "shell.execute_reply": "2023-06-16T22:28:46.394824Z"
        }
      },
      "outputs": [
        {
          "name": "stdout",
          "output_type": "stream",
          "text": [
            "            | timestamp  | vehicle_id | route_id | distance_km        | delay_sec\n",
            "^FPHH8MS... | 1682884074 | 1          | h432af   | 11.992355076407808 | 0.0\n",
            "^D49HRW2... | 1682884300 | 1          | h432af   | 11.981292208928062 | 0.0\n",
            "^K6GXXRJ... | 1682884801 | 1          | h577dk   | 11.417049942736774 | 0.0\n",
            "^6VD1XEW... | 1682885003 | 1          | h577dk   | 10.742213096795222 | 0.0\n",
            "^3X8GQ9T... | 1682992012 | 2          | h120cc   | 0.9392333321427617 | 0.0\n",
            "^XJRWKYN... | 1682992274 | 2          | h120cc   | 0.8648988130993015 | 1800.0\n",
            "^AZQ954J... | 1682992674 | 2          | h120cc   | 0.761296229289714  | 1800.0\n"
          ]
        }
      ],
      "source": [
        "maintenance_period_sec = 30 * 60\n",
        "\n",
        "records = vehicle_locations.interval_join_left(\n",
        "    maintenance,\n",
        "    pw.left.timestamp,\n",
        "    pw.right.start_time,\n",
        "    pw.temporal.interval(-maintenance_period_sec, 0),\n",
        "    pw.left.route_id == pw.right.route_id,\n",
        ").select(\n",
        "    vehicle_locations.timestamp,\n",
        "    vehicle_locations.vehicle_id,\n",
        "    vehicle_locations.route_id,\n",
        "    vehicle_locations.distance_km,\n",
        "    delay_sec=60.0 * pw.coalesce(pw.right.delay_minutes, 0),\n",
        ")\n",
        "\n",
        "pw.debug.compute_and_print(records)"
      ]
    },
    {
      "cell_type": "markdown",
      "id": "286628ec",
      "metadata": {},
      "source": [
        "After joining the tables, all the columns from the left table are kept and filling the missing values in the right table is accomplished using `pw.coalesce`.\n",
        "\n",
        "To compute the total delay in seconds for each pair (`timestamp`, `vehicle_id`), we perform a groupby and apply the sum reducer on the column `delay_sec`.\n"
      ]
    },
    {
      "cell_type": "code",
      "execution_count": 6,
      "id": "ee45d152",
      "metadata": {
        "execution": {
          "iopub.execute_input": "2023-06-16T22:28:46.396867Z",
          "iopub.status.busy": "2023-06-16T22:28:46.396739Z",
          "iopub.status.idle": "2023-06-16T22:28:46.422530Z",
          "shell.execute_reply": "2023-06-16T22:28:46.422164Z"
        }
      },
      "outputs": [
        {
          "name": "stdout",
          "output_type": "stream",
          "text": [
            "            | timestamp  | vehicle_id | delay_sec\n",
            "^9N4ZE91... | 1682884074 | 1          | 0.0\n",
            "^Y4GS4SE... | 1682884300 | 1          | 0.0\n",
            "^3RGVZ4V... | 1682884801 | 1          | 0.0\n",
            "^HQFV2X2... | 1682885003 | 1          | 0.0\n",
            "^0BVH8M7... | 1682992012 | 2          | 0.0\n",
            "^VDGWA94... | 1682992274 | 2          | 1800.0\n",
            "^ETV8ACZ... | 1682992674 | 2          | 1800.0\n"
          ]
        }
      ],
      "source": [
        "records = records.groupby(\n",
        "    records.timestamp, \n",
        "    records.vehicle_id,\n",
        ").reduce(\n",
        "    records.timestamp, \n",
        "    records.vehicle_id,\n",
        "    pw.reducers.unique(records.route_id),\n",
        "    pw.reducers.unique(records.distance_km),\n",
        "    delay_sec=pw.reducers.sum(pw.this.delay_sec),\n",
        ")\n",
        "\n",
        "pw.debug.compute_and_print(\n",
        "    records[[\"timestamp\", \"vehicle_id\", \"delay_sec\"]]\n",
        ")\n"
      ]
    },
    {
      "cell_type": "markdown",
      "id": "6219a840",
      "metadata": {
        "lines_to_next_cell": 2
      },
      "source": [
        "## 4. Calculating ETA\n",
        "\n",
        "Next, you're set to do a standard join operation to combine the records and routes based on the common 'route\\_id' column. An inner join is used, implying that only records that have a match in both the records and routes data will be retained."
      ]
    },
    {
      "cell_type": "code",
      "execution_count": 7,
      "id": "cda248ed",
      "metadata": {
        "execution": {
          "iopub.execute_input": "2023-06-16T22:28:46.424086Z",
          "iopub.status.busy": "2023-06-16T22:28:46.423890Z",
          "iopub.status.idle": "2023-06-16T22:28:46.433098Z",
          "shell.execute_reply": "2023-06-16T22:28:46.432774Z"
        }
      },
      "outputs": [],
      "source": [
        "records = records.join(routes, pw.left.route_id == pw.right.route_id).select(\n",
        "    pw.left.timestamp,\n",
        "    pw.left.vehicle_id,\n",
        "    pw.left.delay_sec,\n",
        "    pw.left.distance_km,\n",
        "    pw.right.traffic_speed_km_per_h\n",
        ")"
      ]
    },
    {
      "cell_type": "markdown",
      "id": "3a67c93c",
      "metadata": {},
      "source": [
        "Let's add the delay in seconds to the timestamp and transform it to datetimes:"
      ]
    },
    {
      "cell_type": "markdown",
      "id": "dab48031",
      "metadata": {},
      "source": [
        "Finally, you can calculate ETA considering both the travel time (based on the distance to the destination and the speed of the route) and any maintenance delays:"
      ]
    },
    {
      "cell_type": "code",
      "execution_count": 8,
      "id": "34ba8c2e",
      "metadata": {
        "execution": {
          "iopub.execute_input": "2023-06-16T22:28:46.434741Z",
          "iopub.status.busy": "2023-06-16T22:28:46.434523Z",
          "iopub.status.idle": "2023-06-16T22:28:46.517401Z",
          "shell.execute_reply": "2023-06-16T22:28:46.517010Z"
        }
      },
      "outputs": [],
      "source": [
        "records += records.select(\n",
        "    eta_sec=pw.this.delay_sec\n",
        "    + pw.this.distance_km / (pw.this.traffic_speed_km_per_h / 60.0 / 60.0),\n",
        ")\n",
        "records += records.select(\n",
        "    eta=(pw.this.timestamp+pw.cast(int, pw.this.eta_sec)).dt.from_timestamp(unit=\"s\"),\n",
        ")"
      ]
    },
    {
      "cell_type": "markdown",
      "id": "0768bebc",
      "metadata": {},
      "source": [
        "As your final step, you can clean the output table by keeping the most interesting columns."
      ]
    },
    {
      "cell_type": "code",
      "execution_count": 9,
      "id": "97c66725",
      "metadata": {
        "execution": {
          "iopub.execute_input": "2023-06-16T22:28:46.519448Z",
          "iopub.status.busy": "2023-06-16T22:28:46.519331Z",
          "iopub.status.idle": "2023-06-16T22:28:46.523909Z",
          "shell.execute_reply": "2023-06-16T22:28:46.523543Z"
        }
      },
      "outputs": [],
      "source": [
        "output = records[[\"timestamp\", \"vehicle_id\", \"eta\"]]"
      ]
    },
    {
      "cell_type": "code",
      "execution_count": 10,
      "id": "b3d1aa50",
      "metadata": {
        "execution": {
          "iopub.execute_input": "2023-06-16T22:28:46.525389Z",
          "iopub.status.busy": "2023-06-16T22:28:46.525208Z",
          "iopub.status.idle": "2023-06-16T22:28:46.549065Z",
          "shell.execute_reply": "2023-06-16T22:28:46.548691Z"
        },
        "lines_to_next_cell": 2
      },
      "outputs": [
        {
          "name": "stdout",
          "output_type": "stream",
          "text": [
            "            | timestamp  | vehicle_id | eta\n",
            "^YTH20WA... | 1682884074 | 1          | 2023-04-30 20:05:53\n",
            "^WAZNTWZ... | 1682884300 | 1          | 2023-04-30 20:09:38\n",
            "^ZW0YR3N... | 1682884801 | 1          | 2023-04-30 20:08:34\n",
            "^CGKEZ0J... | 1682885003 | 1          | 2023-04-30 20:11:26\n",
            "^GF1Z94J... | 1682992012 | 2          | 2023-05-02 01:47:48\n",
            "^D0WWFS5... | 1682992274 | 2          | 2023-05-02 02:22:05\n",
            "^S2EQJCC... | 1682992674 | 2          | 2023-05-02 02:28:39\n"
          ]
        }
      ],
      "source": [
        "pw.debug.compute_and_print(output)"
      ]
    },
    {
      "cell_type": "markdown",
      "id": "83408e5e",
      "metadata": {},
      "source": [
        "Arrival estimates are computed for each record. The next logical step involves identifying the most recent estimates from each vehicle. This can be achieved by applying a filter to select the latest timestamps associated with each vehicle. We encourage you to explore this further as part of your learning journey with our tutorial."
      ]
    },
    {
      "cell_type": "markdown",
      "id": "64dd4e7d",
      "metadata": {},
      "source": [
        "## Conclusion\n",
        "\n",
        "In this tutorial, you have learned how to use interval joins in Pathway to handle scenarios where you'd need to join tables based on intervals or timestamps. You have seen how to use these methods to calculate the ETA for vehicles considering their current locations, routes, and any potential maintenance delays. This kind of processing is common in transportation and logistics, and Pathway makes it easy to handle in real time."
      ]
    }
  ],
  "metadata": {
    "jupytext": {
      "cell_metadata_filter": "-all",
      "main_language": "python",
      "notebook_metadata_filter": "-all"
    },
    "language_info": {
      "codemirror_mode": {
        "name": "ipython",
        "version": 3
      },
      "file_extension": ".py",
      "mimetype": "text/x-python",
      "name": "python",
      "nbconvert_exporter": "python",
      "pygments_lexer": "ipython3",
      "version": "3.10.8"
    }
  },
  "nbformat": 4,
  "nbformat_minor": 5
}