{
  "cells": [
    {
      "cell_type": "markdown",
      "metadata": {
        "id": "view-in-colab"
      },
      "source": [
        "<a href=\"https://colab.research.google.com/github/pathwaycom/pathway-examples/blob/main/tutorials/combining-time-series.ipynb\" target=\"_parent\"><img src=\"https://pathway.com/assets/colab-badge.svg\" alt=\"Run In Colab\" class=\"inline\"/></a>"
      ]
    },
    {
      "cell_type": "markdown",
      "source": [
        "# Installing Pathway with Python 3.8+\n",
        "\n",
        "In the cell below, we install Pathway into a Python 3.8+ Linux runtime.\n",
        "\n",
        "> **If you are running in Google Colab, please run the colab notebook (Ctrl+F9)**, disregarding the 'not authored by Google' warning.\n",
        "> \n",
        "> **The installation and loading time is less than 1 minute**.\n"
      ],
      "metadata": {
        "id": "notebook-instructions"
      }
    },
    {
      "cell_type": "code",
      "source": [
        "%%capture --no-display\n",
        "!pip install --extra-index-url https://packages.pathway.com/966431ef6ba pathway"
      ],
      "metadata": {
        "id": "pip-installation-pathway",
        "cellView": "form"
      },
      "execution_count": null,
      "outputs": []
    },
    {
      "cell_type": "markdown",
      "id": "b6df696c",
      "metadata": {
        "lines_to_next_cell": 0,
        "tags": []
      },
      "source": [
        "# Combining two time series in Pathway\n",
        "In this article, you will learn how to combine time series in Pathway.\n",
        "\n",
        "With the emergence of IoT technology, we now have a wide range of sensor devices at our disposal that can measure almost anything, from GPS positions to humidity and temperature.\n",
        "Since each measurement is timestamped, this generated data are time series: the data can be analyzed and modeled as a sequence of values that change over time.\n",
        "\n",
        "![Example of combination of two time series](/assets/content/tutorials/time_series/time_series_join_process.svg)\n",
        "\n",
        "While combining time series data can be challenging due to the lack of matching timestamps between different datasets, it is a crucial operation.\n",
        "Combining values from multiple sensors measuring the same metric can improve measurement accuracy.\n",
        "Also, combining various metrics on a common time index allows in-depth analysis and modeling.\n",
        "\n",
        "::article-img\n",
        "---\n",
        "src: '/assets/content/tutorials/time_series/time_series_1.svg'\n",
        "alt: 'Example of two time series with different timestamps'\n",
        "width: '500px'\n",
        "class: 'mx-auto'\n",
        "---\n",
        "::\n",
        "\n",
        "In this article, we will explore how to combine time series data using Pathway by calculating the average speed of a fleet of cars.\n",
        "So, fasten your seatbelt and get ready to explore the world of time series!\n",
        "\n",
        "## Time series\n",
        "\n",
        "A time series is a type of data that records observations or measurements over time. It can be anything from stock prices, weather data, or the number of customers visiting a store to more complex measures like physiological signals from medical devices.\n",
        "Consider a time series as a sequence of data points collected at regular or irregular intervals over time. Each data point in a time series represents a measurement or observation made at a specific point in time.\n",
        "\n",
        "::inline\n",
        "\n",
        "::article-img\n",
        "---\n",
        "src: '/assets/content/tutorials/time_series/single_time_series.svg'\n",
        "alt: 'Example of a time series represented as an event stream'\n",
        "width: '75px'\n",
        "---\n",
        "::\n",
        "\n",
        "::article-img\n",
        "---\n",
        "src: '/assets/content/tutorials/time_series/time_series_graph.svg'\n",
        "alt: 'Example of a time series represented as a graph'\n",
        "width: '350px'\n",
        "---\n",
        "::\n",
        "\n",
        "::article-img\n",
        "---\n",
        "src: '/assets/content/tutorials/time_series/time_series_table-cropped.svg'\n",
        "alt: 'Example of a time series represented as a table'\n",
        "width: '150px'\n",
        "---\n",
        "::\n",
        "\n",
        "::\n",
        "\n",
        "<!---\n",
        "![Example of a time series represented as an event stream](/assets/content/tutorials/time_series/single_time_series.svg)\n",
        "![Example of a time series represented as a graph](/assets/content/tutorials/time_series/time_series_graph.svg)\n",
        "![Example of a time series represented as a table](/assets/content/tutorials/time_series/time_series_table-cropped.svg)\n",
        "-->\n",
        "\n",
        "The concept of time series is critical in many real-world applications, from finance and economics to healthcare and meteorology. Analyzing time series data allows us to gain insights into patterns, trends, and relationships between variables over time. For example, we can use time series data to forecast future values, identify anomalies, or monitor changes in a system.\n",
        "Time series data can be represented in various formats, from simple spreadsheets to complex databases. However, analyzing and modeling time series data can be challenging due to its complex nature and different types of noise and anomalies.\n",
        "\n",
        "\n",
        "### Combining time series\n",
        "\n",
        "Combining time series is the process of combining different time series into a single time series based on a common timestamp or index. In other words, combining time series consists in merging data from various sources into a comprehensive time series, allowing for deeper analysis and modeling.\n",
        "\n",
        "![Example of combination of two time series](/assets/content/tutorials/time_series/time_series_join_process.svg)\n",
        "\n",
        "Combining time series are essential for several reasons. Firstly, it can improve the accuracy of the measurements by combining the values of several sensors measuring the same metric. For example, imagine you have multiple sensors measuring the temperature of a room. By combining the time series data from these sensors, you can get a more accurate representation of the temperature in the room.  \n",
        "\n",
        "Secondly, by combining and analyzing various time series data streams, valuable insights can be derived across different domains, enabling performance optimization, predictive maintenance, resource management, and strategic decision-making:\n",
        " - Website analytics \ud83d\udcbb: Combining time series data on website traffic, user engagement, conversion rates, and marketing campaign metrics can provide insights into user behavior, measure the effectiveness of marketing efforts, and optimize website performance.\n",
        " - Health monitoring \ud83e\ude7a: Combining time series data from wearable devices, such as heart rate, sleep patterns, and physical activity, can help track and analyze individuals' health and wellness trends, enabling personalized healthcare interventions.\n",
        " - Environmental monitoring \ud83c\udf21\ufe0f: Combining time series data from air quality sensors, weather stations, and pollutant levels can provide a comprehensive understanding of the environment's condition, aid in pollution control efforts, and support urban planning initiatives.\n",
        " - Supply chain management \ud83d\udce6: Combining time series data on inventory levels, production rates, transportation delays, and customer demand can optimize inventory management, improve delivery schedules, and enhance overall supply chain efficiency.\n",
        " - Analyzing stock market data \ud83d\udcc8: Combining time series of stock prices, trading volumes, and financial indicators can provide a comprehensive view of the market's behavior and aid in identifying trends, correlations, and investment opportunities.\n",
        " - Technical analysis and development \ud83c\udfce\ufe0f: Combining time series data on car sensors readings, engine performance, aerodynamic data, and telemetry can aid in the technical analysis and development of Formula 1 cars, leading to improvements in speed, reliability, and overall performance.\n",
        "\n",
        "Combining time series is an essential operation in time series analysis, but it can be challenging due to the need for matching timestamps between different datasets. Nonetheless, various techniques and tools can help us merge time series data effectively, such as interpolation or merging on the closest timestamp."
      ]
    },
    {
      "cell_type": "markdown",
      "id": "5e1559dc",
      "metadata": {
        "incorrectly_encoded_metadata": "tags=[] jp-MarkdownHeadingCollapsed=true",
        "lines_to_next_cell": 0
      },
      "source": [
        "## The average speed of a taxi and its passenger\n",
        "Imagine you are working for a taxi company, and people are using your app to book a ride.\n",
        "You can access the GPS traces of the taxi and the passengers.\n",
        "By using those two traces jointly, you can better approximate the average speed of the ride.\n",
        "This allows you to identify potential bottlenecks or inefficiencies in the system and take corrective measures to improve traffic flow and reduce travel time.\n"
      ]
    },
    {
      "cell_type": "markdown",
      "id": "07ed828e",
      "metadata": {},
      "source": [
        "## Creating the dataset\n",
        "\n",
        "Unfortunately, it is hard to find publicly available datasets with the characteristics we are interested in.\n",
        "Existing publicly available GPS datasets contain individual taxi traces without the passengers' GPS traces.\n",
        "You will generate our pairs of traces from one of such individual traces.\n",
        "\n",
        "### The dataset: GeoLife\n",
        "You will use one trace of the [GeoLife dataset](https://www.microsoft.com/en-us/research/publication/geolife-gps-trajectory-dataset-user-guide/) from Microsoft Research.\n",
        "GeoLife is a GPS trajectory dataset containing 17,621 trajectories obtained using different GPS loggers and phones.\n",
        "\n",
        "### Generation of a fleet of two cars\n",
        "Let's generate two traces by splitting the trace: each GPS data point is alternatively assigned to one of the new traces.  \n",
        "This ensures that the two traces have the same trajectory while having different timestamps.\n",
        "\n",
        "You can download the trace of this example by uncommenting and executing the following command:"
      ]
    },
    {
      "cell_type": "code",
      "execution_count": 1,
      "id": "d3a3eaa9",
      "metadata": {
        "execution": {
          "iopub.execute_input": "2023-05-19T13:05:58.480946Z",
          "iopub.status.busy": "2023-05-19T13:05:58.480844Z",
          "iopub.status.idle": "2023-05-19T13:05:58.485736Z",
          "shell.execute_reply": "2023-05-19T13:05:58.485478Z"
        }
      },
      "outputs": [],
      "source": [
        "%%capture --no-display\n",
        "# !wget https://public-pathway-releases.s3.eu-central-1.amazonaws.com/data/time-series-raw-trace.plt -O raw-trace.plt"
      ]
    },
    {
      "cell_type": "markdown",
      "id": "9ca0abba",
      "metadata": {},
      "source": [
        "To split the trace into two different traces, we simply read the file line by line and write each line into new CSV files:"
      ]
    },
    {
      "cell_type": "code",
      "execution_count": 2,
      "id": "5443ebd5",
      "metadata": {
        "execution": {
          "iopub.execute_input": "2023-05-19T13:05:58.487010Z",
          "iopub.status.busy": "2023-05-19T13:05:58.486910Z",
          "iopub.status.idle": "2023-05-19T13:05:58.491629Z",
          "shell.execute_reply": "2023-05-19T13:05:58.491367Z"
        }
      },
      "outputs": [],
      "source": [
        "input_trace = \"./raw-trace.plt\"\n",
        "trace_taxi = \"./trace_taxi.csv\"\n",
        "trace_passenger = \"./trace_passenger.csv\"\n",
        "header_row = \"lat,lng,const,alt,elapsed-time,date,time\\n\"\n",
        "\n",
        "with open(input_trace, \"r\") as file:\n",
        "    line = file.readline()\n",
        "    for _ in range(5):\n",
        "        line = file.readline()\n",
        "    \n",
        "    trace1 = open(trace_taxi, \"w+\")\n",
        "    trace2 = open(trace_passenger, \"w+\")\n",
        "    trace1.write(header_row)\n",
        "    trace2.write(header_row)\n",
        "    \n",
        "    dataset=1\n",
        "    \n",
        "    while line:\n",
        "        line = file.readline()\n",
        "        if dataset:\n",
        "            trace1.write(line)\n",
        "            dataset=0\n",
        "        else:\n",
        "            trace2.write(line)\n",
        "            dataset=1\n",
        "    trace1.close()\n",
        "    trace2.close()"
      ]
    },
    {
      "cell_type": "markdown",
      "id": "0beb71ab",
      "metadata": {},
      "source": [
        "## Loading the data sources in Pathway\n",
        "\n",
        "To connect Pathway to the two data sources, you have to use Pathway's input connectors.  \n",
        "You do not need all the provided data; you can keep only the interesting ones, namely the latitude, longitude, altitude, date, and time:"
      ]
    },
    {
      "cell_type": "code",
      "execution_count": 3,
      "id": "7a9028ce",
      "metadata": {
        "execution": {
          "iopub.execute_input": "2023-05-19T13:05:58.492993Z",
          "iopub.status.busy": "2023-05-19T13:05:58.492894Z",
          "iopub.status.idle": "2023-05-19T13:06:00.093034Z",
          "shell.execute_reply": "2023-05-19T13:06:00.092587Z"
        }
      },
      "outputs": [],
      "source": [
        "import pathway as pw\n",
        "\n",
        "columns=[\"lat\",\"lng\",\"alt\",\"date\",\"time\"]\n",
        "types = {\n",
        "        \"lat\":pw.Type.FLOAT,\n",
        "        \"lng\":pw.Type.FLOAT,\n",
        "        \"alt\":pw.Type.FLOAT,\n",
        "        \"date\":pw.Type.STRING,\n",
        "        \"time\":pw.Type.STRING,\n",
        "}\n",
        "\n",
        "t1 = pw.io.csv.read(trace_taxi, columns, types=types, mode=\"static\")\n",
        "t2 = pw.io.csv.read(trace_passenger, columns, types=types, mode=\"static\")"
      ]
    },
    {
      "cell_type": "markdown",
      "id": "26ccbfe8",
      "metadata": {},
      "source": [
        "Note that you use the static mode in this example, but in practice, you should use the streaming mode.\n",
        "You can also [generate a datastream from a static file](/developers/tutorials/connectors/custom-python-connectors)."
      ]
    },
    {
      "cell_type": "markdown",
      "id": "0855e564",
      "metadata": {},
      "source": [
        "### Formatting the data\n",
        "After loading the raw data, it's important to format it properly to ensure it can be processed efficiently.\n",
        "\n",
        "First, the time is currently represented by two strings, one for the date and one for the time.\n",
        "Having a single timestamp can simplify the data processing task.  \n",
        "You can use `dateutil` and `datetime` to parse them into a timestamp."
      ]
    },
    {
      "cell_type": "code",
      "execution_count": 4,
      "id": "854b0ac2",
      "metadata": {
        "execution": {
          "iopub.execute_input": "2023-05-19T13:06:00.095526Z",
          "iopub.status.busy": "2023-05-19T13:06:00.095289Z",
          "iopub.status.idle": "2023-05-19T13:06:00.109274Z",
          "shell.execute_reply": "2023-05-19T13:06:00.108877Z"
        }
      },
      "outputs": [],
      "source": [
        "from datetime import datetime, time\n",
        "from dateutil import tz, parser\n",
        "default_date = datetime.combine(datetime.now(),\n",
        "                                time(0, tzinfo=tz.gettz(\"America/New_York\")))\n",
        "\n",
        "def convert_to_timestamp(date,time) -> int:\n",
        "    datestring=date+\" \"+time\n",
        "    yourdate = parser.parse(datestring, default=default_date)\n",
        "    return int(datetime.timestamp(yourdate))\n",
        "\n",
        "def format_table(t):\n",
        "    t = t.select(\n",
        "        timestamp = pw.apply(convert_to_timestamp, pw.this.date, pw.this.time),\n",
        "        *pw.this.without(pw.this.date, pw.this.time),\n",
        "    )\n",
        "    return t\n",
        "\n",
        "t1_timestamp = format_table(t1)\n",
        "t2_timestamp = format_table(t2)"
      ]
    },
    {
      "cell_type": "markdown",
      "id": "1b9c2265",
      "metadata": {},
      "source": [
        "Now your time series are ready to be combined and processed!"
      ]
    },
    {
      "cell_type": "markdown",
      "id": "6c4e5998",
      "metadata": {},
      "source": [
        "### Obtaining a preview of the data\n",
        "\n",
        "Pathway is a framework capable of handling both static and streaming data.\n",
        "However, it is primarily designed to handle streaming data and enable real-time data processing.\n",
        "\n",
        "To ensure that the data is being processed correctly, you can define a function `preview_table` to preview the data.  \n",
        "\u26a0\ufe0f It's important to note that **this function should not be used in a production environment** since it relies on `pw.debug.compute_and_print` and static data.\n",
        "Its primary purpose is to check that the data is being processed correctly and to help with the development and testing phase of the data processing pipeline.\n",
        "You should use [Pathway's output connectors](/developers/documentation/input-and-output-streams/connectors/) to access the data in streaming mode.\n",
        "\n",
        "In this case, you can filter all the entries with a timestamp higher than a given value to only display a small portion of the dataset.  "
      ]
    },
    {
      "cell_type": "code",
      "execution_count": 5,
      "id": "9578de0b",
      "metadata": {
        "execution": {
          "iopub.execute_input": "2023-05-19T13:06:00.111629Z",
          "iopub.status.busy": "2023-05-19T13:06:00.111411Z",
          "iopub.status.idle": "2023-05-19T13:06:00.127346Z",
          "shell.execute_reply": "2023-05-19T13:06:00.126935Z"
        }
      },
      "outputs": [
        {
          "name": "stdout",
          "output_type": "stream",
          "text": [
            "            | lat       | lng        | alt   | timestamp\n",
            "^05X0F7B... | 39.984608 | 116.317761 | 493.0 | 1224744815\n",
            "^47SXY0M... | 39.984655 | 116.318263 | 492.0 | 1224744805\n",
            "^7K0B3ZS... | 39.984686 | 116.318417 | 492.0 | 1224744795\n",
            "^SAPBRN0... | 39.984702 | 116.318417 | 492.0 | 1224744784\n",
            "            | lat       | lng        | alt   | timestamp\n",
            "^BNKC19B... | 39.984563 | 116.317517 | 496.0 | 1224744820\n",
            "^N4V73HK... | 39.984611 | 116.318026 | 493.0 | 1224744810\n",
            "^ZT0DYFR... | 39.984683 | 116.31845  | 492.0 | 1224744790\n",
            "^74SATMY... | 39.984688 | 116.318385 | 492.0 | 1224744800\n"
          ]
        }
      ],
      "source": [
        "def preview_table(table, max_timestamp=1224744825):\n",
        "    table = table.filter(pw.this.timestamp < max_timestamp)\n",
        "    pw.debug.compute_and_print(table)\n",
        "\n",
        "preview_table(t1_timestamp)\n",
        "preview_table(t2_timestamp)"
      ]
    },
    {
      "cell_type": "markdown",
      "id": "b9bbce0a",
      "metadata": {},
      "source": [
        "The value 1224744825 is hand-picked to fit this dataset; you can replace it by any desired value."
      ]
    },
    {
      "cell_type": "markdown",
      "id": "06a49b8e",
      "metadata": {},
      "source": [
        "## Combining the time series and computing the average speed\n",
        "To compute the average speed of the traces, you will proceed as follows:\n",
        "1. Concatenate the time series to obtain a table with the timestamps of both traces.\n",
        "2. Add the existing positions: each timestamp should have a position and a missing position.\n",
        "3. Do an interpolation to estimate the missing values.\n",
        "4. Compute the average speed\n",
        "\n",
        "### 1. Concatenation\n",
        "\n",
        "The first step to combine the two time series is to concatenate them: you want a table with all the timestamps.  \n",
        "\n",
        "![Concatenating the timestamps of two time series](/assets/content/tutorials/time_series/concatenating_timestamps.svg)\n",
        "\n",
        "You can do it easily in Pathway with `pw.Table.concat_reindex`:"
      ]
    },
    {
      "cell_type": "code",
      "execution_count": 6,
      "id": "fe91f4bb",
      "metadata": {
        "execution": {
          "iopub.execute_input": "2023-05-19T13:06:00.129074Z",
          "iopub.status.busy": "2023-05-19T13:06:00.128923Z",
          "iopub.status.idle": "2023-05-19T13:06:00.137693Z",
          "shell.execute_reply": "2023-05-19T13:06:00.137354Z"
        }
      },
      "outputs": [],
      "source": [
        "merged_timestamps = pw.Table.concat_reindex(t1_timestamp.select(pw.this.timestamp), t2_timestamp.select(pw.this.timestamp))"
      ]
    },
    {
      "cell_type": "code",
      "execution_count": 7,
      "id": "486f85b7",
      "metadata": {
        "execution": {
          "iopub.execute_input": "2023-05-19T13:06:00.139574Z",
          "iopub.status.busy": "2023-05-19T13:06:00.139386Z",
          "iopub.status.idle": "2023-05-19T13:06:00.148008Z",
          "shell.execute_reply": "2023-05-19T13:06:00.147666Z"
        }
      },
      "outputs": [
        {
          "name": "stdout",
          "output_type": "stream",
          "text": [
            "            | timestamp\n",
            "^ZPV04K2... | 1224744784\n",
            "^HSVPA8V... | 1224744790\n",
            "^WH8KRTV... | 1224744795\n",
            "^7W3WT67... | 1224744800\n",
            "^APRN9DK... | 1224744805\n",
            "^4H34MQG... | 1224744810\n",
            "^SHH269X... | 1224744815\n",
            "^1YKPS2Q... | 1224744820\n"
          ]
        }
      ],
      "source": [
        "preview_table(merged_timestamps)"
      ]
    },
    {
      "cell_type": "markdown",
      "id": "f970d20e",
      "metadata": {},
      "source": [
        "### 2. Adding existing positions\n",
        "Now that you have a table with the timestamps, you must add the positions.\n",
        "You can add the positions by doing a left join on the timestamp table.\n",
        "\n",
        "![Time series with missing values](/assets/content/tutorials/time_series/time_series_missing_values.svg)\n",
        "\n",
        "\n",
        "You need to rename the columns `lat`, `lng`, and `alt` to `lat_1`, `lng_1`, `alt_1`, `lat_2`, `lng_2`, and `alt_2` to make the distinction between the two data sources."
      ]
    },
    {
      "cell_type": "code",
      "execution_count": 8,
      "id": "a6be2054",
      "metadata": {
        "execution": {
          "iopub.execute_input": "2023-05-19T13:06:00.149542Z",
          "iopub.status.busy": "2023-05-19T13:06:00.149408Z",
          "iopub.status.idle": "2023-05-19T13:06:00.175605Z",
          "shell.execute_reply": "2023-05-19T13:06:00.175211Z"
        }
      },
      "outputs": [
        {
          "name": "stdout",
          "output_type": "stream",
          "text": [
            "            | timestamp  | lat_1     | lng_1      | alt_1 | lat_2     | lng_2      | alt_2\n",
            "^PMQ0EJB... | 1224744784 | 39.984702 | 116.318417 | 492.0 |           |            |\n",
            "^G56QZX4... | 1224744790 |           |            |       | 39.984683 | 116.31845  | 492.0\n",
            "^WQ1MT5A... | 1224744795 | 39.984686 | 116.318417 | 492.0 |           |            |\n",
            "^XYVS6JY... | 1224744800 |           |            |       | 39.984688 | 116.318385 | 492.0\n",
            "^5FEC29V... | 1224744805 | 39.984655 | 116.318263 | 492.0 |           |            |\n",
            "^GATG976... | 1224744810 |           |            |       | 39.984611 | 116.318026 | 493.0\n",
            "^Y9VPX2A... | 1224744815 | 39.984608 | 116.317761 | 493.0 |           |            |\n",
            "^PYE394E... | 1224744820 |           |            |       | 39.984563 | 116.317517 | 496.0\n"
          ]
        }
      ],
      "source": [
        "def add_positions(timestamps_table, position_table):\n",
        "    joined_table = timestamps_table.join_left(\n",
        "        position_table,\n",
        "        pw.left.timestamp==pw.right.timestamp).select(\n",
        "        *pw.left,\n",
        "        pw.right.lat,\n",
        "        pw.right.lng,\n",
        "        pw.right.alt,\n",
        "    )\n",
        "    return joined_table\n",
        "\n",
        "joined_table = add_positions(merged_timestamps, t1_timestamp)\n",
        "joined_table = joined_table.rename_columns(\n",
        "    lat_1 = pw.this.lat,\n",
        "    lng_1 = pw.this.lng,\n",
        "    alt_1 = pw.this.alt\n",
        ")\n",
        "joined_table = add_positions(joined_table, t2_timestamp)\n",
        "joined_table = joined_table.rename_columns(\n",
        "    lat_2 = pw.this.lat,\n",
        "    lng_2 = pw.this.lng,\n",
        "    alt_2 = pw.this.alt\n",
        ")\n",
        "preview_table(joined_table)"
      ]
    },
    {
      "cell_type": "markdown",
      "id": "f6d84f77",
      "metadata": {},
      "source": [
        "Your table now has all the existing positions, but the columns with the positions are half-empty.\n",
        "To fill the missing positions, you must compute an interpolation between the previous and last positions."
      ]
    },
    {
      "cell_type": "markdown",
      "id": "3fe5204a",
      "metadata": {
        "tags": []
      },
      "source": [
        "### 3. Interpolating the positions\n",
        "Now, you will fill the missing values by interpolating with the previous and next values you found.\n",
        "\n",
        "![Filling the missing values](/assets/content/tutorials/time_series/filling_missing_values.svg)\n"
      ]
    },
    {
      "cell_type": "markdown",
      "id": "faac12b8",
      "metadata": {},
      "source": [
        "You need to do a linear interpolation on each column, using the column timestamp as index.\n",
        "This can be done using Pathway's `interpolate` function:"
      ]
    },
    {
      "cell_type": "code",
      "execution_count": 9,
      "id": "a2f2145e",
      "metadata": {
        "execution": {
          "iopub.execute_input": "2023-05-19T13:06:00.177309Z",
          "iopub.status.busy": "2023-05-19T13:06:00.177168Z",
          "iopub.status.idle": "2023-05-19T13:06:00.614171Z",
          "shell.execute_reply": "2023-05-19T13:06:00.613745Z"
        }
      },
      "outputs": [],
      "source": [
        "interpolated_table = joined_table.select(pw.this.timestamp)\n",
        "interpolated_table += joined_table.interpolate(timestamp=pw.this.timestamp, value=pw.this.lat_1).select(lat_1=pw.this.value)\n",
        "interpolated_table += joined_table.interpolate(timestamp=pw.this.timestamp, value=pw.this.lng_1).select(lng_1=pw.this.value)\n",
        "interpolated_table += joined_table.interpolate(timestamp=pw.this.timestamp, value=pw.this.alt_1).select(alt_1=pw.this.value)\n",
        "interpolated_table += joined_table.interpolate(timestamp=pw.this.timestamp, value=pw.this.lat_2).select(lat_2=pw.this.value)\n",
        "interpolated_table += joined_table.interpolate(timestamp=pw.this.timestamp, value=pw.this.lng_2).select(lng_2=pw.this.value)\n",
        "interpolated_table += joined_table.interpolate(timestamp=pw.this.timestamp, value=pw.this.alt_2).select(alt_2=pw.this.value)"
      ]
    },
    {
      "cell_type": "code",
      "execution_count": 10,
      "id": "7ecae2ac",
      "metadata": {
        "execution": {
          "iopub.execute_input": "2023-05-19T13:06:00.616232Z",
          "iopub.status.busy": "2023-05-19T13:06:00.616057Z",
          "iopub.status.idle": "2023-05-19T13:06:00.843695Z",
          "shell.execute_reply": "2023-05-19T13:06:00.843192Z"
        }
      },
      "outputs": [
        {
          "name": "stdout",
          "output_type": "stream",
          "text": [
            "            | timestamp  | lat_1              | lng_1              | alt_1 | lat_2              | lng_2              | alt_2\n",
            "^2BADHMA... | 1224744784 | 39.984702          | 116.318417         | 492.0 | 39.984683          | 116.31845          | 492.0\n",
            "^GQSW5BJ... | 1224744790 | 39.98469327272728  | 116.318417         | 492.0 | 39.984683          | 116.31845          | 492.0\n",
            "^321AT9J... | 1224744795 | 39.984686          | 116.318417         | 492.0 | 39.9846855         | 116.31841750000001 | 492.0\n",
            "^TF2WHCG... | 1224744800 | 39.9846705         | 116.31834          | 492.0 | 39.984688          | 116.318385         | 492.0\n",
            "^A7NVFGM... | 1224744805 | 39.984655          | 116.318263         | 492.0 | 39.9846495         | 116.3182055        | 492.5\n",
            "^J235ZY4... | 1224744810 | 39.9846315         | 116.31801200000001 | 492.5 | 39.984611          | 116.318026         | 493.0\n",
            "^PSFPN3D... | 1224744815 | 39.984608          | 116.317761         | 493.0 | 39.984587000000005 | 116.31777149999999 | 494.5\n",
            "^TR3XGD9... | 1224744820 | 39.984573499999996 | 116.31752750000001 | 496.5 | 39.984563          | 116.317517         | 496.0\n"
          ]
        }
      ],
      "source": [
        "preview_table(interpolated_table)"
      ]
    },
    {
      "cell_type": "markdown",
      "id": "6c261d4f",
      "metadata": {},
      "source": [
        "And voila! You have successfully combined two time series! \ud83c\udf89\n",
        "\n",
        "All you need to do it to compute the average speed now."
      ]
    },
    {
      "cell_type": "markdown",
      "id": "de510f87",
      "metadata": {},
      "source": [
        "### 4. Computing the average speed\n",
        "\n",
        "To compute the average speed, you will first calculate the speed by dividing the traveled distance by the time spent between the next and previous time.\n",
        "\n",
        "To simplify the computation of the speed, you can group the different values into two columns `position_1` and `positions_2`:"
      ]
    },
    {
      "cell_type": "code",
      "execution_count": 11,
      "id": "e6681a1f",
      "metadata": {
        "execution": {
          "iopub.execute_input": "2023-05-19T13:06:00.845788Z",
          "iopub.status.busy": "2023-05-19T13:06:00.845541Z",
          "iopub.status.idle": "2023-05-19T13:06:01.083579Z",
          "shell.execute_reply": "2023-05-19T13:06:01.083246Z"
        }
      },
      "outputs": [
        {
          "name": "stdout",
          "output_type": "stream",
          "text": [
            "            | timestamp  | interpolated_position_1                         | interpolated_position_2\n",
            "^6HDH0ED... | 1224744784 | (39.984702, 116.318417, 492.0)                  | (39.984683, 116.31845, 492.0)\n",
            "^3JCMMFM... | 1224744790 | (39.98469327272728, 116.318417, 492.0)          | (39.984683, 116.31845, 492.0)\n",
            "^V1BQVH1... | 1224744795 | (39.984686, 116.318417, 492.0)                  | (39.9846855, 116.31841750000001, 492.0)\n",
            "^XNMX95H... | 1224744800 | (39.9846705, 116.31834, 492.0)                  | (39.984688, 116.318385, 492.0)\n",
            "^J1W9YSA... | 1224744805 | (39.984655, 116.318263, 492.0)                  | (39.9846495, 116.3182055, 492.5)\n",
            "^8ER43YG... | 1224744810 | (39.9846315, 116.31801200000001, 492.5)         | (39.984611, 116.318026, 493.0)\n",
            "^T4K6EE9... | 1224744815 | (39.984608, 116.317761, 493.0)                  | (39.984587000000005, 116.31777149999999, 494.5)\n",
            "^6BH11P5... | 1224744820 | (39.984573499999996, 116.31752750000001, 496.5) | (39.984563, 116.317517, 496.0)\n"
          ]
        }
      ],
      "source": [
        "interpolated_table = interpolated_table.select(\n",
        "    pw.this.timestamp,\n",
        "    interpolated_position_1=pw.make_tuple(pw.this.lat_1, pw.this.lng_1, pw.this.alt_1),\n",
        "    interpolated_position_2=pw.make_tuple(pw.this.lat_2, pw.this.lng_2, pw.this.alt_2),\n",
        ")\n",
        "preview_table(interpolated_table)"
      ]
    },
    {
      "cell_type": "markdown",
      "id": "dd924c45",
      "metadata": {},
      "source": [
        "To compute the distance, you can use the `pyproj` package, which you can install by uncommenting and executing the following command:"
      ]
    },
    {
      "cell_type": "code",
      "execution_count": 12,
      "id": "b9bbdeb6",
      "metadata": {
        "execution": {
          "iopub.execute_input": "2023-05-19T13:06:01.085698Z",
          "iopub.status.busy": "2023-05-19T13:06:01.085363Z",
          "iopub.status.idle": "2023-05-19T13:06:01.087742Z",
          "shell.execute_reply": "2023-05-19T13:06:01.087494Z"
        }
      },
      "outputs": [],
      "source": [
        "%%capture --no-display\n",
        "# !pip install pyproj"
      ]
    },
    {
      "cell_type": "code",
      "execution_count": 13,
      "id": "cbce18f9",
      "metadata": {
        "execution": {
          "iopub.execute_input": "2023-05-19T13:06:01.089357Z",
          "iopub.status.busy": "2023-05-19T13:06:01.089119Z",
          "iopub.status.idle": "2023-05-19T13:06:01.117317Z",
          "shell.execute_reply": "2023-05-19T13:06:01.116962Z"
        }
      },
      "outputs": [],
      "source": [
        "from pyproj import Geod\n",
        "g = Geod(ellps='WGS84')\n",
        "\n",
        "def compute_speed(t_prev, position_prev, t_next, position_next):\n",
        "    _, _, distance_2d = g.inv(position_prev[1], position_prev[0], position_next[1], position_next[0]) \n",
        "    return (distance_2d/(t_next-t_prev))"
      ]
    },
    {
      "cell_type": "markdown",
      "id": "e741f879",
      "metadata": {},
      "source": [
        "Note this is the simple 2-dimensional distance, but you can use your favorite distance metric."
      ]
    },
    {
      "cell_type": "markdown",
      "id": "28aebdd1",
      "metadata": {},
      "source": [
        "You need to order the table to obtain the previous and next values.\n",
        "This can be done with the `sort` function which provides `prev` and `next` columns, containing pointers to the previous and next rows:"
      ]
    },
    {
      "cell_type": "code",
      "execution_count": 14,
      "id": "162a6a8e",
      "metadata": {
        "execution": {
          "iopub.execute_input": "2023-05-19T13:06:01.119680Z",
          "iopub.status.busy": "2023-05-19T13:06:01.119416Z",
          "iopub.status.idle": "2023-05-19T13:06:01.469749Z",
          "shell.execute_reply": "2023-05-19T13:06:01.469316Z"
        }
      },
      "outputs": [
        {
          "name": "stdout",
          "output_type": "stream",
          "text": [
            "            | timestamp  | interpolated_position_1                         | interpolated_position_2                         | next        | prev\n",
            "^KQS44M6... | 1224744784 | (39.984702, 116.318417, 492.0)                  | (39.984683, 116.31845, 492.0)                   | ^072HY8B... |\n",
            "^072HY8B... | 1224744790 | (39.98469327272728, 116.318417, 492.0)          | (39.984683, 116.31845, 492.0)                   | ^W5539K4... | ^KQS44M6...\n",
            "^W5539K4... | 1224744795 | (39.984686, 116.318417, 492.0)                  | (39.9846855, 116.31841750000001, 492.0)         | ^5Z19WMF... | ^072HY8B...\n",
            "^5Z19WMF... | 1224744800 | (39.9846705, 116.31834, 492.0)                  | (39.984688, 116.318385, 492.0)                  | ^DRF4C3M... | ^W5539K4...\n",
            "^DRF4C3M... | 1224744805 | (39.984655, 116.318263, 492.0)                  | (39.9846495, 116.3182055, 492.5)                | ^5GG6MKP... | ^5Z19WMF...\n",
            "^5GG6MKP... | 1224744810 | (39.9846315, 116.31801200000001, 492.5)         | (39.984611, 116.318026, 493.0)                  | ^C5KZ95N... | ^DRF4C3M...\n",
            "^C5KZ95N... | 1224744815 | (39.984608, 116.317761, 493.0)                  | (39.984587000000005, 116.31777149999999, 494.5) | ^J7Y553Y... | ^5GG6MKP...\n",
            "^J7Y553Y... | 1224744820 | (39.984573499999996, 116.31752750000001, 496.5) | (39.984563, 116.317517, 496.0)                  | ^Y8GY54T... | ^C5KZ95N...\n"
          ]
        }
      ],
      "source": [
        "interpolated_table += interpolated_table.sort(key=pw.this.timestamp)\n",
        "preview_table(interpolated_table)"
      ]
    },
    {
      "cell_type": "markdown",
      "id": "70e54f95",
      "metadata": {},
      "source": [
        "Then, you can use transformer classes to compute the instant speed on all the points for both sources:"
      ]
    },
    {
      "cell_type": "code",
      "execution_count": 15,
      "id": "2e4ce9ff",
      "metadata": {
        "execution": {
          "iopub.execute_input": "2023-05-19T13:06:01.471593Z",
          "iopub.status.busy": "2023-05-19T13:06:01.471239Z",
          "iopub.status.idle": "2023-05-19T13:06:01.760248Z",
          "shell.execute_reply": "2023-05-19T13:06:01.759817Z"
        }
      },
      "outputs": [
        {
          "name": "stdout",
          "output_type": "stream",
          "text": [
            "            | timestamp  | speed_1            | speed_2\n",
            "^YSK2H9K... | 1224744784 | 0.1615044922828007 | 0.0\n",
            "^JE00RSA... | 1224744790 | 0.1615044922277721 | 0.25361497797652005\n",
            "^VH91RM2... | 1224744795 | 0.7046121958265952 | 0.5579529416239059\n",
            "^VJA8C5N... | 1224744800 | 1.3596501331007218 | 1.854349269858084\n",
            "^3YCJ3YY... | 1224744805 | 2.834814944235183  | 3.1832873217197717\n",
            "^R61RD2E... | 1224744810 | 4.319373713695855  | 3.771323183438932\n",
            "^CHW4WYC... | 1224744815 | 4.18807153239199   | 4.380070781579824\n",
            "^KSZP3RT... | 1224744820 | 4.061700931690473  | 4.1041911629857255\n"
          ]
        }
      ],
      "source": [
        "@pw.transformer\n",
        "class computing_speed:\n",
        "    class ordered_ts(pw.ClassArg):\n",
        "        timestamp = pw.input_attribute()\n",
        "        interpolated_position_1 = pw.input_attribute()\n",
        "        interpolated_position_2 = pw.input_attribute()\n",
        "        prev = pw.input_attribute()\n",
        "        next = pw.input_attribute()\n",
        "        \n",
        "        @pw.output_attribute\n",
        "        def speed_1(self):\n",
        "            t = self.timestamp\n",
        "            t_prev = t\n",
        "            position_prev = self.interpolated_position_1\n",
        "            t_next = t\n",
        "            position_next = self.interpolated_position_1\n",
        "            if self.prev is not None:\n",
        "                t_prev = self.transformer.ordered_ts[self.prev].timestamp\n",
        "                position_prev = self.transformer.ordered_ts[self.prev].interpolated_position_1\n",
        "            if self.next is not None:\n",
        "                t_next = self.transformer.ordered_ts[self.next].timestamp\n",
        "                position_next = self.transformer.ordered_ts[self.next].interpolated_position_1\n",
        "            return compute_speed(t_prev, position_prev, t_next, position_next)\n",
        "        \n",
        "        @pw.output_attribute\n",
        "        def speed_2(self):\n",
        "            t = self.timestamp\n",
        "            t_prev = t\n",
        "            position_prev = self.interpolated_position_2\n",
        "            t_next = t\n",
        "            position_next = self.interpolated_position_2\n",
        "            if self.prev is not None:\n",
        "                t_prev = self.transformer.ordered_ts[self.prev].timestamp\n",
        "                try:\n",
        "                    self.transformer.ordered_ts[self.prev].interpolated_position_2\n",
        "                except BaseException:\n",
        "                    pass\n",
        "                position_prev = self.transformer.ordered_ts[self.prev].interpolated_position_2\n",
        "            if self.next is not None:\n",
        "                t_next = self.transformer.ordered_ts[self.next].timestamp\n",
        "                position_next = self.transformer.ordered_ts[self.next].interpolated_position_2\n",
        "            return compute_speed(t_prev, position_prev, t_next, position_next)\n",
        "            \n",
        "table_speed = computing_speed(ordered_ts=interpolated_table).ordered_ts\n",
        "table_speed = pw.Table.from_columns(interpolated_table.timestamp) + table_speed\n",
        "preview_table(table_speed)"
      ]
    },
    {
      "cell_type": "markdown",
      "id": "361db5eb",
      "metadata": {},
      "source": [
        "Finally, you can compute the average of the two speeds at each timestamp:"
      ]
    },
    {
      "cell_type": "code",
      "execution_count": 16,
      "id": "795a62b7",
      "metadata": {
        "execution": {
          "iopub.execute_input": "2023-05-19T13:06:01.761970Z",
          "iopub.status.busy": "2023-05-19T13:06:01.761798Z",
          "iopub.status.idle": "2023-05-19T13:06:02.004617Z",
          "shell.execute_reply": "2023-05-19T13:06:02.004243Z"
        }
      },
      "outputs": [
        {
          "name": "stdout",
          "output_type": "stream",
          "text": [
            "            | timestamp  | speed\n",
            "^KSJFV35... | 1224744784 | 0.08075224614140035\n",
            "^WJCXNS6... | 1224744790 | 0.2075597351021461\n",
            "^KY8AEW1... | 1224744795 | 0.6312825687252506\n",
            "^W2GBZM2... | 1224744800 | 1.6069997014794029\n",
            "^57HEB8R... | 1224744805 | 3.0090511329774774\n",
            "^T9NHMSS... | 1224744810 | 4.045348448567394\n",
            "^P08MRV7... | 1224744815 | 4.284071156985907\n",
            "^FWMKRWQ... | 1224744820 | 4.082946047338099\n"
          ]
        }
      ],
      "source": [
        "average_speed_table = table_speed.select(\n",
        "    pw.this.timestamp,\n",
        "    speed = pw.apply(\n",
        "        lambda v1, v2: (v1+v2)/2,\n",
        "        pw.this.speed_1,\n",
        "        pw.this.speed_2\n",
        "    )\n",
        ")\n",
        "preview_table(average_speed_table)"
      ]
    },
    {
      "cell_type": "markdown",
      "id": "7889e415",
      "metadata": {},
      "source": [
        "You have now the speed for all the timestamps.\n",
        "\n",
        "Although initially designed for static GPS traces, this configuration can easily be adapted for a [streaming setup](/developers/documentation/introduction/streaming-and-static-modes/) by modifying the [connectors](/developers/documentation/input-and-output-streams/connectors/). In streaming mode, all calculations will be automatically refreshed whenever a new GPS position is received."
      ]
    },
    {
      "cell_type": "markdown",
      "id": "7e183a3a",
      "metadata": {},
      "source": [
        "## Conclusions\n",
        "Congratulations, you now have the skills to combine time series and unlock new insights in your data!\n",
        "\n",
        "This article focused on combining two GPS traces to compute the average speed.\n",
        "However, the principles we discussed can be applied to a wide range of time series data, from stock prices to weather data to sensor readings.\n",
        "\n",
        "By combining and analyzing time series data, you can uncover patterns, trends, and relationships that may not be immediately apparent from individual series.\n",
        "This can be especially useful in complex modeling scenarios that involve multiple data sources.\n",
        "\n",
        "For instance, imagine you want to predict weather patterns using a combination of humidity, temperature, and other metrics.\n",
        "By combining these time series, you could create a more comprehensive picture of the conditions affecting your area's weather patterns.\n",
        "\n",
        "The possibilities for time series analysis are endless, and if you're interested in learning more, be sure to check out [our article on log monitoring](/developers/tutorials/realtime-log-monitoring).\n",
        "In it, we explore how to use time series analysis to detect anomalies in your web server's logs."
      ]
    }
  ],
  "metadata": {
    "kernelspec": {
      "display_name": "Python 3 (ipykernel)",
      "language": "python",
      "name": "python3"
    },
    "language_info": {
      "codemirror_mode": {
        "name": "ipython",
        "version": 3
      },
      "file_extension": ".py",
      "mimetype": "text/x-python",
      "name": "python",
      "nbconvert_exporter": "python",
      "pygments_lexer": "ipython3",
      "version": "3.10.8"
    }
  },
  "nbformat": 4,
  "nbformat_minor": 5
}