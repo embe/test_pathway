{
  "cells": [
    {
      "cell_type": "markdown",
      "metadata": {
        "id": "view-in-colab"
      },
      "source": [
        "<a href=\"https://colab.research.google.com/github/pathwaycom/pathway-examples/blob/main/tutorials/combining-time-series.ipynb\" target=\"_parent\"><img src=\"https://pathway.com/assets/colab-badge.svg\" alt=\"Run In Colab\" class=\"inline\"/></a>"
      ]
    },
    {
      "cell_type": "markdown",
      "source": [
        "# Installing Pathway with Python 3.8+\n",
        "\n",
        "In the cell below, we install Pathway into a Python 3.8+ Linux runtime.\n",
        "\n",
        "> **If you are running in Google Colab, please run the colab notebook (Ctrl+F9)**, disregarding the 'not authored by Google' warning.\n",
        "> \n",
        "> **The installation and loading time is less than 1 minute**.\n"
      ],
      "metadata": {
        "id": "notebook-instructions"
      }
    },
    {
      "cell_type": "code",
      "source": [
        "%%capture --no-display\n",
        "!pip install --extra-index-url https://packages.pathway.com/966431ef6ba pathway"
      ],
      "metadata": {
        "id": "pip-installation-pathway",
        "cellView": "form"
      },
      "execution_count": null,
      "outputs": []
    },
    {
      "cell_type": "markdown",
      "id": "80a100a5",
      "metadata": {
        "lines_to_next_cell": 0,
        "tags": []
      },
      "source": [
        "# Combining two time series in Pathway\n",
        "In this article, you will learn how to combine time series in Pathway.\n",
        "\n",
        "With the emergence of IoT technology, we now have a wide range of sensor devices at our disposal that can measure almost anything, from GPS positions to humidity and temperature.\n",
        "Since each measurement is timestamped, this generated data are time series: the data can be analyzed and modeled as a sequence of values that change over time.\n",
        "\n",
        "![Example of combination of two time series](/assets/content/tutorials/time_series/time_series_join_process.svg)\n",
        "\n",
        "While combining time series data can be challenging due to the lack of matching timestamps between different datasets, it is a crucial operation.\n",
        "Combining values from multiple sensors measuring the same metric can improve measurement accuracy.\n",
        "Also, combining various metrics on a common time index allows in-depth analysis and modeling.\n",
        "\n",
        "::article-img\n",
        "---\n",
        "src: '/assets/content/tutorials/time_series/time_series_1.svg'\n",
        "alt: 'Example of two time series with different timestamps'\n",
        "width: '500px'\n",
        "class: 'mx-auto'\n",
        "---\n",
        "::\n",
        "\n",
        "In this article, we will explore how to combine time series data using Pathway by calculating the average speed of a fleet of cars.\n",
        "So, fasten your seatbelt and get ready to explore the world of time series!\n",
        "\n",
        "## Time series\n",
        "\n",
        "A time series is a type of data that records observations or measurements over time. It can be anything from stock prices, weather data, or the number of customers visiting a store to more complex measures like physiological signals from medical devices.\n",
        "Consider a time series as a sequence of data points collected at regular or irregular intervals over time. Each data point in a time series represents a measurement or observation made at a specific point in time.\n",
        "\n",
        "::inline\n",
        "\n",
        "::article-img\n",
        "---\n",
        "src: '/assets/content/tutorials/time_series/single_time_series.svg'\n",
        "alt: 'Example of a time series represented as an event stream'\n",
        "width: '75px'\n",
        "---\n",
        "::\n",
        "\n",
        "::article-img\n",
        "---\n",
        "src: '/assets/content/tutorials/time_series/time_series_graph.svg'\n",
        "alt: 'Example of a time series represented as a graph'\n",
        "width: '350px'\n",
        "---\n",
        "::\n",
        "\n",
        "::article-img\n",
        "---\n",
        "src: '/assets/content/tutorials/time_series/time_series_table-cropped.svg'\n",
        "alt: 'Example of a time series represented as a table'\n",
        "width: '150px'\n",
        "---\n",
        "::\n",
        "\n",
        "::\n",
        "\n",
        "<!---\n",
        "![Example of a time series represented as an event stream](/assets/content/tutorials/time_series/single_time_series.svg)\n",
        "![Example of a time series represented as a graph](/assets/content/tutorials/time_series/time_series_graph.svg)\n",
        "![Example of a time series represented as a table](/assets/content/tutorials/time_series/time_series_table-cropped.svg)\n",
        "-->\n",
        "\n",
        "The concept of time series is critical in many real-world applications, from finance and economics to healthcare and meteorology. Analyzing time series data allows us to gain insights into patterns, trends, and relationships between variables over time. For example, we can use time series data to forecast future values, identify anomalies, or monitor changes in a system.\n",
        "Time series data can be represented in various formats, from simple spreadsheets to complex databases. However, analyzing and modeling time series data can be challenging due to its complex nature and different types of noise and anomalies.\n",
        "\n",
        "\n",
        "### Combining time series\n",
        "\n",
        "Combining time series is the process of combining different time series into a single time series based on a common timestamp or index. In other words, combining time series consists in merging data from various sources into a comprehensive time series, allowing for deeper analysis and modeling.\n",
        "\n",
        "![Example of combination of two time series](/assets/content/tutorials/time_series/time_series_join_process.svg)\n",
        "\n",
        "Combining time series are essential for several reasons. Firstly, it can improve the accuracy of the measurements by combining the values of several sensors measuring the same metric. For example, imagine you have multiple sensors measuring the temperature of a room. By combining the time series data from these sensors, you can get a more accurate representation of the temperature in the room.\n",
        "\n",
        "Secondly, by combining and analyzing various time series data streams, valuable insights can be derived across different domains, enabling performance optimization, predictive maintenance, resource management, and strategic decision-making:\n",
        " - Website analytics \ud83d\udcbb: Combining time series data on website traffic, user engagement, conversion rates, and marketing campaign metrics can provide insights into user behavior, measure the effectiveness of marketing efforts, and optimize website performance.\n",
        " - Health monitoring \ud83e\ude7a: Combining time series data from wearable devices, such as heart rate, sleep patterns, and physical activity, can help track and analyze individuals' health and wellness trends, enabling personalized healthcare interventions.\n",
        " - Environmental monitoring \ud83c\udf21\ufe0f: Combining time series data from air quality sensors, weather stations, and pollutant levels can provide a comprehensive understanding of the environment's condition, aid in pollution control efforts, and support urban planning initiatives.\n",
        " - Supply chain management \ud83d\udce6: Combining time series data on inventory levels, production rates, transportation delays, and customer demand can optimize inventory management, improve delivery schedules, and enhance overall supply chain efficiency.\n",
        " - Analyzing stock market data \ud83d\udcc8: Combining time series of stock prices, trading volumes, and financial indicators can provide a comprehensive view of the market's behavior and aid in identifying trends, correlations, and investment opportunities.\n",
        " - Technical analysis and development \ud83c\udfce\ufe0f: Combining time series data on car sensors readings, engine performance, aerodynamic data, and telemetry can aid in the technical analysis and development of Formula 1 cars, leading to improvements in speed, reliability, and overall performance.\n",
        "\n",
        "Combining time series is an essential operation in time series analysis, but it can be challenging due to the need for matching timestamps between different datasets. Nonetheless, various techniques and tools can help us merge time series data effectively, such as interpolation or merging on the closest timestamp."
      ]
    },
    {
      "cell_type": "markdown",
      "id": "0cf98fc0",
      "metadata": {
        "incorrectly_encoded_metadata": "tags=[] jp-MarkdownHeadingCollapsed=true",
        "lines_to_next_cell": 0
      },
      "source": [
        "## The average speed of a taxi and its passenger\n",
        "Imagine you are working for a taxi company, and people are using your app to book a ride.\n",
        "You can access the GPS traces of the taxi and the passengers.\n",
        "By using those two traces jointly, you can better approximate the average speed of the ride.\n",
        "This allows you to identify potential bottlenecks or inefficiencies in the system and take corrective measures to improve traffic flow and reduce travel time.\n"
      ]
    },
    {
      "cell_type": "markdown",
      "id": "d44bb111",
      "metadata": {},
      "source": [
        "## Creating the dataset\n",
        "\n",
        "Unfortunately, it is hard to find publicly available datasets with the characteristics we are interested in.\n",
        "Existing publicly available GPS datasets contain individual taxi traces without the passengers' GPS traces.\n",
        "You will generate our pairs of traces from one of such individual traces.\n",
        "\n",
        "### The dataset: GeoLife\n",
        "You will use one trace of the [GeoLife dataset](https://www.microsoft.com/en-us/research/publication/geolife-gps-trajectory-dataset-user-guide/) from Microsoft Research.\n",
        "GeoLife is a GPS trajectory dataset containing 17,621 trajectories obtained using different GPS loggers and phones.\n",
        "\n",
        "### Generation of a fleet of two cars\n",
        "Let's generate two traces by splitting the trace: each GPS data point is alternatively assigned to one of the new traces.\n",
        "This ensures that the two traces have the same trajectory while having different timestamps.\n",
        "\n",
        "You can download the trace of this example by uncommenting and executing the following command:"
      ]
    },
    {
      "cell_type": "code",
      "execution_count": 1,
      "id": "5a8d233b",
      "metadata": {
        "execution": {
          "iopub.execute_input": "2023-06-19T13:40:17.738637Z",
          "iopub.status.busy": "2023-06-19T13:40:17.738452Z",
          "iopub.status.idle": "2023-06-19T13:40:17.743403Z",
          "shell.execute_reply": "2023-06-19T13:40:17.743108Z"
        }
      },
      "outputs": [],
      "source": [
        "%%capture --no-display\n",
        "# !wget https://public-pathway-releases.s3.eu-central-1.amazonaws.com/data/time-series-raw-trace.plt -O raw-trace.plt"
      ]
    },
    {
      "cell_type": "markdown",
      "id": "e1cffdbf",
      "metadata": {},
      "source": [
        "To split the trace into two different traces, we simply read the file line by line and write each line into new CSV files:"
      ]
    },
    {
      "cell_type": "code",
      "execution_count": 2,
      "id": "c81a4794",
      "metadata": {
        "execution": {
          "iopub.execute_input": "2023-06-19T13:40:17.745215Z",
          "iopub.status.busy": "2023-06-19T13:40:17.745010Z",
          "iopub.status.idle": "2023-06-19T13:40:17.750275Z",
          "shell.execute_reply": "2023-06-19T13:40:17.749962Z"
        }
      },
      "outputs": [],
      "source": [
        "input_trace = \"./raw-trace.plt\"\n",
        "trace_taxi = \"./trace_taxi.csv\"\n",
        "trace_passenger = \"./trace_passenger.csv\"\n",
        "header_row = \"lat,lng,const,alt,elapsed-time,date,time\\n\"\n",
        "\n",
        "with open(input_trace, \"r\") as file:\n",
        "    line = file.readline()\n",
        "    for _ in range(5):\n",
        "        line = file.readline()\n",
        "\n",
        "    trace1 = open(trace_taxi, \"w+\")\n",
        "    trace2 = open(trace_passenger, \"w+\")\n",
        "    trace1.write(header_row)\n",
        "    trace2.write(header_row)\n",
        "\n",
        "    dataset = 1\n",
        "\n",
        "    while line:\n",
        "        line = file.readline()\n",
        "        if dataset:\n",
        "            trace1.write(line)\n",
        "            dataset = 0\n",
        "        else:\n",
        "            trace2.write(line)\n",
        "            dataset = 1\n",
        "    trace1.close()\n",
        "    trace2.close()"
      ]
    },
    {
      "cell_type": "markdown",
      "id": "5f93128c",
      "metadata": {},
      "source": [
        "## Loading the data sources in Pathway\n",
        "\n",
        "To connect Pathway to the two data sources, you have to use Pathway's input connectors.\n",
        "You do not need all the provided data; you can keep only the interesting ones, namely the latitude, longitude, altitude, date, and time:"
      ]
    },
    {
      "cell_type": "code",
      "execution_count": 3,
      "id": "479f2356",
      "metadata": {
        "execution": {
          "iopub.execute_input": "2023-06-19T13:40:17.752103Z",
          "iopub.status.busy": "2023-06-19T13:40:17.751884Z",
          "iopub.status.idle": "2023-06-19T13:40:19.020511Z",
          "shell.execute_reply": "2023-06-19T13:40:19.019928Z"
        }
      },
      "outputs": [],
      "source": [
        "import pathway as pw\n",
        "\n",
        "columns = [\"lat\", \"lng\", \"alt\", \"date\", \"time\"]\n",
        "types = {\n",
        "    \"lat\": pw.Type.FLOAT,\n",
        "    \"lng\": pw.Type.FLOAT,\n",
        "    \"alt\": pw.Type.FLOAT,\n",
        "    \"date\": pw.Type.STRING,\n",
        "    \"time\": pw.Type.STRING,\n",
        "}\n",
        "\n",
        "t1 = pw.io.csv.read(trace_taxi, columns, types=types, mode=\"static\")\n",
        "t2 = pw.io.csv.read(trace_passenger, columns, types=types, mode=\"static\")"
      ]
    },
    {
      "cell_type": "markdown",
      "id": "6579fae3",
      "metadata": {},
      "source": [
        "Note that you use the static mode in this example, but in practice, you should use the streaming mode.\n",
        "You can also [generate a datastream from a static file](/developers/tutorials/connectors/custom-python-connectors)."
      ]
    },
    {
      "cell_type": "markdown",
      "id": "3390370f",
      "metadata": {},
      "source": [
        "### Formatting the data\n",
        "After loading the raw data, it's important to format it properly to ensure it can be processed efficiently.\n",
        "\n",
        "First, the time is currently represented by two strings, one for the date and one for the time.\n",
        "Having a single timestamp can simplify the data processing task.\n",
        "You can use `dateutil` and `datetime` to parse them into a timestamp."
      ]
    },
    {
      "cell_type": "code",
      "execution_count": 4,
      "id": "b452ff1d",
      "metadata": {
        "execution": {
          "iopub.execute_input": "2023-06-19T13:40:19.022940Z",
          "iopub.status.busy": "2023-06-19T13:40:19.022718Z",
          "iopub.status.idle": "2023-06-19T13:40:19.041206Z",
          "shell.execute_reply": "2023-06-19T13:40:19.040819Z"
        }
      },
      "outputs": [],
      "source": [
        "from datetime import datetime, time\n",
        "\n",
        "from dateutil import parser, tz\n",
        "\n",
        "default_date = datetime.combine(\n",
        "    datetime.now(), time(0, tzinfo=tz.gettz(\"America/New_York\"))\n",
        ")\n",
        "\n",
        "\n",
        "def convert_to_timestamp(date, time) -> int:\n",
        "    datestring = date + \" \" + time\n",
        "    yourdate = parser.parse(datestring, default=default_date)\n",
        "    return int(datetime.timestamp(yourdate))\n",
        "\n",
        "\n",
        "def format_table(t):\n",
        "    return t.select(\n",
        "        *pw.this.without(pw.this.date, pw.this.time),\n",
        "        timestamp=pw.apply(convert_to_timestamp, pw.this.date, pw.this.time),\n",
        "    )\n",
        "\n",
        "\n",
        "t1_timestamp = format_table(t1)\n",
        "t2_timestamp = format_table(t2)"
      ]
    },
    {
      "cell_type": "markdown",
      "id": "258fead6",
      "metadata": {},
      "source": [
        "Now your time series are ready to be combined and processed!"
      ]
    },
    {
      "cell_type": "markdown",
      "id": "b44fb9b8",
      "metadata": {},
      "source": [
        "### Obtaining a preview of the data\n",
        "\n",
        "Pathway is a framework capable of handling both static and streaming data.\n",
        "However, it is primarily designed to handle streaming data and enable real-time data processing.\n",
        "\n",
        "To ensure that the data is being processed correctly, you can define a function `preview_table` to preview the data.\n",
        "\u26a0\ufe0f It's important to note that **this function should not be used in a production environment** since it relies on `pw.debug.compute_and_print` and static data.\n",
        "Its primary purpose is to check that the data is being processed correctly and to help with the development and testing phase of the data processing pipeline.\n",
        "You should use [Pathway's output connectors](/developers/user-guide/input-and-output-streams/connectors/) to access the data in streaming mode.\n",
        "\n",
        "In this case, you can filter all the entries with a timestamp higher than a given value to only display a small portion of the dataset."
      ]
    },
    {
      "cell_type": "code",
      "execution_count": 5,
      "id": "e73f9f3c",
      "metadata": {
        "execution": {
          "iopub.execute_input": "2023-06-19T13:40:19.043138Z",
          "iopub.status.busy": "2023-06-19T13:40:19.043000Z",
          "iopub.status.idle": "2023-06-19T13:40:19.064726Z",
          "shell.execute_reply": "2023-06-19T13:40:19.064290Z"
        }
      },
      "outputs": [
        {
          "name": "stderr",
          "output_type": "stream",
          "text": [
            "2023-06-19T15:40:19.051650007+02:00: 0 entries (1 minibatch(es)) had been sent to the engine\n",
            "2023-06-19T15:40:19.051739872+02:00: 12 entries (1 minibatch(es)) had been sent to the engine\n",
            "Closing the data source\n",
            "2023-06-19T15:40:19.060947217+02:00: 0 entries (1 minibatch(es)) had been sent to the engine\n",
            "2023-06-19T15:40:19.061003890+02:00: 12 entries (1 minibatch(es)) had been sent to the engine\n",
            "Closing the data source\n"
          ]
        },
        {
          "name": "stdout",
          "output_type": "stream",
          "text": [
            "            | lat       | lng        | alt   | timestamp\n",
            "^QWCKMZB... | 39.984608 | 116.317761 | 493.0 | 1224744815\n",
            "^PD9R2QV... | 39.984655 | 116.318263 | 492.0 | 1224744805\n",
            "^PRK7GXA... | 39.984686 | 116.318417 | 492.0 | 1224744795\n",
            "^M1K1FHK... | 39.984702 | 116.318417 | 492.0 | 1224744784\n",
            "            | lat       | lng        | alt   | timestamp\n",
            "^ZXNM32C... | 39.984563 | 116.317517 | 496.0 | 1224744820\n",
            "^WP4EK36... | 39.984611 | 116.318026 | 493.0 | 1224744810\n",
            "^T1BJ2T2... | 39.984683 | 116.31845  | 492.0 | 1224744790\n",
            "^CRQNS3M... | 39.984688 | 116.318385 | 492.0 | 1224744800\n"
          ]
        }
      ],
      "source": [
        "def preview_table(table, max_timestamp=1224744825):\n",
        "    table = table.filter(pw.this.timestamp < max_timestamp)\n",
        "    pw.debug.compute_and_print(table)\n",
        "\n",
        "\n",
        "preview_table(t1_timestamp)\n",
        "preview_table(t2_timestamp)"
      ]
    },
    {
      "cell_type": "markdown",
      "id": "7c583fdb",
      "metadata": {},
      "source": [
        "The value 1224744825 is hand-picked to fit this dataset; you can replace it by any desired value."
      ]
    },
    {
      "cell_type": "markdown",
      "id": "ad34ef4e",
      "metadata": {},
      "source": [
        "## Combining the time series and computing the average speed\n",
        "To compute the average speed of the traces, you will proceed as follows:\n",
        "1. Concatenate the time series to obtain a table with the timestamps of both traces.\n",
        "2. Add the existing positions: each timestamp should have a position and a missing position.\n",
        "3. Do an interpolation to estimate the missing values.\n",
        "4. Compute the average speed\n",
        "\n",
        "### 1. Concatenation\n",
        "\n",
        "The first step to combine the two time series is to concatenate them: you want a table with all the timestamps.\n",
        "\n",
        "![Concatenating the timestamps of two time series](/assets/content/tutorials/time_series/concatenating_timestamps.svg)\n",
        "\n",
        "You can do it easily in Pathway with `pw.Table.concat_reindex`:"
      ]
    },
    {
      "cell_type": "code",
      "execution_count": 6,
      "id": "01b78630",
      "metadata": {
        "execution": {
          "iopub.execute_input": "2023-06-19T13:40:19.066777Z",
          "iopub.status.busy": "2023-06-19T13:40:19.066479Z",
          "iopub.status.idle": "2023-06-19T13:40:19.083428Z",
          "shell.execute_reply": "2023-06-19T13:40:19.083031Z"
        }
      },
      "outputs": [],
      "source": [
        "merged_timestamps = pw.Table.concat_reindex(\n",
        "    t1_timestamp[[\"timestamp\"]], t2_timestamp[[\"timestamp\"]]\n",
        ")"
      ]
    },
    {
      "cell_type": "code",
      "execution_count": 7,
      "id": "4f9cd29b",
      "metadata": {
        "execution": {
          "iopub.execute_input": "2023-06-19T13:40:19.085418Z",
          "iopub.status.busy": "2023-06-19T13:40:19.085101Z",
          "iopub.status.idle": "2023-06-19T13:40:19.097658Z",
          "shell.execute_reply": "2023-06-19T13:40:19.097230Z"
        },
        "lines_to_next_cell": 2
      },
      "outputs": [
        {
          "name": "stderr",
          "output_type": "stream",
          "text": [
            "2023-06-19T15:40:19.091870294+02:00: 0 entries (1 minibatch(es)) had been sent to the engine\n",
            "2023-06-19T15:40:19.091929597+02:00: 12 entries (1 minibatch(es)) had been sent to the engine\n",
            "Closing the data source\n",
            "2023-06-19T15:40:19.091937268+02:00: 0 entries (1 minibatch(es)) had been sent to the engine\n",
            "2023-06-19T15:40:19.091956849+02:00: 12 entries (1 minibatch(es)) had been sent to the engine\n",
            "Closing the data source\n"
          ]
        },
        {
          "name": "stdout",
          "output_type": "stream",
          "text": [
            "            | timestamp\n",
            "^BZ0NPE0... | 1224744784\n",
            "^S6WB2ZV... | 1224744790\n",
            "^GG79B8B... | 1224744795\n",
            "^MJ2QN6S... | 1224744800\n",
            "^B7P54NY... | 1224744805\n",
            "^4Q4PV13... | 1224744810\n",
            "^ZBKABX7... | 1224744815\n",
            "^BA5PXME... | 1224744820\n"
          ]
        }
      ],
      "source": [
        "preview_table(merged_timestamps)"
      ]
    },
    {
      "cell_type": "markdown",
      "id": "c5697b49",
      "metadata": {},
      "source": [
        "### 2. Adding existing positions\n",
        "Now that you have a table with the timestamps, you must add the positions.\n",
        "You can add the positions by doing a left join on the timestamp table.\n",
        "\n",
        "![Time series with missing values](/assets/content/tutorials/time_series/time_series_missing_values.svg)\n",
        "\n",
        "\n",
        "You need to rename the columns `lat`, `lng`, and `alt` to `lat_1`, `lng_1`, `alt_1`, `lat_2`, `lng_2`, and `alt_2` to make the distinction between the two data sources."
      ]
    },
    {
      "cell_type": "code",
      "execution_count": 8,
      "id": "9a4b555d",
      "metadata": {
        "execution": {
          "iopub.execute_input": "2023-06-19T13:40:19.099533Z",
          "iopub.status.busy": "2023-06-19T13:40:19.099247Z",
          "iopub.status.idle": "2023-06-19T13:40:19.138682Z",
          "shell.execute_reply": "2023-06-19T13:40:19.138235Z"
        }
      },
      "outputs": [
        {
          "name": "stderr",
          "output_type": "stream",
          "text": [
            "2023-06-19T15:40:19.131126182+02:00: 0 entries (1 minibatch(es)) had been sent to the engine\n",
            "2023-06-19T15:40:19.131184915+02:00: 12 entries (1 minibatch(es)) had been sent to the engine\n",
            "Closing the data source\n",
            "2023-06-19T15:40:19.131193905+02:00: 0 entries (1 minibatch(es)) had been sent to the engine\n",
            "2023-06-19T15:40:19.131213706+02:00: 12 entries (1 minibatch(es)) had been sent to the engine\n",
            "Closing the data source\n"
          ]
        },
        {
          "name": "stdout",
          "output_type": "stream",
          "text": [
            "            | timestamp  | lat_1     | lng_1      | alt_1 | lat_2     | lng_2      | alt_2\n",
            "^3Y4NS2K... | 1224744784 | 39.984702 | 116.318417 | 492.0 |           |            |\n",
            "^WGMEMNE... | 1224744790 |           |            |       | 39.984683 | 116.31845  | 492.0\n",
            "^W88JCJQ... | 1224744795 | 39.984686 | 116.318417 | 492.0 |           |            |\n",
            "^5ZFM7P5... | 1224744800 |           |            |       | 39.984688 | 116.318385 | 492.0\n",
            "^ASY0ZRA... | 1224744805 | 39.984655 | 116.318263 | 492.0 |           |            |\n",
            "^PEY59CP... | 1224744810 |           |            |       | 39.984611 | 116.318026 | 493.0\n",
            "^EWPVVBW... | 1224744815 | 39.984608 | 116.317761 | 493.0 |           |            |\n",
            "^ERK3TDD... | 1224744820 |           |            |       | 39.984563 | 116.317517 | 496.0\n"
          ]
        }
      ],
      "source": [
        "joined_table = (\n",
        "    merged_timestamps.join_left(t1_timestamp, pw.left.timestamp == pw.right.timestamp)\n",
        "    .select(\n",
        "        *pw.left,\n",
        "        **pw.right[[\"lat\", \"lng\", \"alt\"]].with_suffix(\"_1\"),\n",
        "    )\n",
        "    .join_left(t2_timestamp, pw.left.timestamp == pw.right.timestamp)\n",
        "    .select(\n",
        "        *pw.left,\n",
        "        **pw.right[[\"lat\", \"lng\", \"alt\"]].with_suffix(\"_2\"),\n",
        "    )\n",
        ")\n",
        "preview_table(joined_table)"
      ]
    },
    {
      "cell_type": "markdown",
      "id": "ac148076",
      "metadata": {},
      "source": [
        "Your table now has all the existing positions, but the columns with the positions are half-empty.\n",
        "To fill the missing positions, you must compute an interpolation between the previous and last positions."
      ]
    },
    {
      "cell_type": "markdown",
      "id": "1b7cef46",
      "metadata": {
        "tags": []
      },
      "source": [
        "### 3. Interpolating the positions\n",
        "Now, you will fill the missing values by interpolating with the previous and next values you found.\n",
        "\n",
        "![Filling the missing values](/assets/content/tutorials/time_series/filling_missing_values.svg)\n"
      ]
    },
    {
      "cell_type": "markdown",
      "id": "e2c73857",
      "metadata": {},
      "source": [
        "You need to do a linear interpolation on each column, using the column timestamp as index.\n",
        "This can be done using Pathway's `interpolate` function:"
      ]
    },
    {
      "cell_type": "code",
      "execution_count": 9,
      "id": "d2429183",
      "metadata": {
        "execution": {
          "iopub.execute_input": "2023-06-19T13:40:19.140537Z",
          "iopub.status.busy": "2023-06-19T13:40:19.140252Z",
          "iopub.status.idle": "2023-06-19T13:40:19.453511Z",
          "shell.execute_reply": "2023-06-19T13:40:19.452994Z"
        }
      },
      "outputs": [],
      "source": [
        "interpolated_table = joined_table.interpolate(\n",
        "    pw.this.timestamp,\n",
        "    pw.this.lat_1,\n",
        "    pw.this.lng_1,\n",
        "    pw.this.alt_1,\n",
        "    pw.this.lat_2,\n",
        "    pw.this.lng_2,\n",
        "    pw.this.alt_2,\n",
        ")"
      ]
    },
    {
      "cell_type": "code",
      "execution_count": 10,
      "id": "9c6abd8a",
      "metadata": {
        "execution": {
          "iopub.execute_input": "2023-06-19T13:40:19.455864Z",
          "iopub.status.busy": "2023-06-19T13:40:19.455684Z",
          "iopub.status.idle": "2023-06-19T13:40:19.579228Z",
          "shell.execute_reply": "2023-06-19T13:40:19.578678Z"
        }
      },
      "outputs": [
        {
          "name": "stderr",
          "output_type": "stream",
          "text": [
            "2023-06-19T15:40:19.485953578+02:00: 0 entries (1 minibatch(es)) had been sent to the engine\n",
            "2023-06-19T15:40:19.486013861+02:00: 12 entries (1 minibatch(es)) had been sent to the engine\n",
            "Closing the data source\n",
            "2023-06-19T15:40:19.486023892+02:00: 0 entries (1 minibatch(es)) had been sent to the engine\n",
            "2023-06-19T15:40:19.486044253+02:00: 12 entries (1 minibatch(es)) had been sent to the engine\n",
            "Closing the data source\n"
          ]
        },
        {
          "name": "stdout",
          "output_type": "stream",
          "text": [
            "            | timestamp  | lat_1              | lng_1              | alt_1 | lat_2              | lng_2              | alt_2\n",
            "^2JKS0V4... | 1224744784 | 39.984702          | 116.318417         | 492.0 | 39.984683          | 116.31845          | 492.0\n",
            "^20CZR8K... | 1224744790 | 39.98469327272728  | 116.318417         | 492.0 | 39.984683          | 116.31845          | 492.0\n",
            "^KEYG7R3... | 1224744795 | 39.984686          | 116.318417         | 492.0 | 39.9846855         | 116.31841750000001 | 492.0\n",
            "^CDH41WX... | 1224744800 | 39.9846705         | 116.31834          | 492.0 | 39.984688          | 116.318385         | 492.0\n",
            "^1CW5EJA... | 1224744805 | 39.984655          | 116.318263         | 492.0 | 39.9846495         | 116.3182055        | 492.5\n",
            "^3Z6N57E... | 1224744810 | 39.9846315         | 116.31801200000001 | 492.5 | 39.984611          | 116.318026         | 493.0\n",
            "^HQVS2SY... | 1224744815 | 39.984608          | 116.317761         | 493.0 | 39.984587000000005 | 116.31777149999999 | 494.5\n",
            "^Z52KV52... | 1224744820 | 39.984573499999996 | 116.31752750000001 | 496.5 | 39.984563          | 116.317517         | 496.0\n"
          ]
        }
      ],
      "source": [
        "preview_table(interpolated_table)"
      ]
    },
    {
      "cell_type": "markdown",
      "id": "a71fc068",
      "metadata": {},
      "source": [
        "And voila! You have successfully combined two time series! \ud83c\udf89\n",
        "\n",
        "All you need to do it to compute the average speed now."
      ]
    },
    {
      "cell_type": "markdown",
      "id": "448730e1",
      "metadata": {},
      "source": [
        "### 4. Computing the average speed\n",
        "\n",
        "To compute the average speed, you will first calculate the speed by dividing the traveled distance by the time spent between the next and previous time.\n",
        "\n",
        "To simplify the computation of the speed, you can group the different values into two columns `position_1` and `positions_2`:"
      ]
    },
    {
      "cell_type": "code",
      "execution_count": 11,
      "id": "e2751749",
      "metadata": {
        "execution": {
          "iopub.execute_input": "2023-06-19T13:40:19.581424Z",
          "iopub.status.busy": "2023-06-19T13:40:19.581093Z",
          "iopub.status.idle": "2023-06-19T13:40:19.693780Z",
          "shell.execute_reply": "2023-06-19T13:40:19.693269Z"
        }
      },
      "outputs": [
        {
          "name": "stderr",
          "output_type": "stream",
          "text": [
            "2023-06-19T15:40:19.617863861+02:00: 0 entries (1 minibatch(es)) had been sent to the engine\n",
            "2023-06-19T15:40:19.617940285+02:00: 12 entries (1 minibatch(es)) had been sent to the engine\n",
            "Closing the data source\n",
            "2023-06-19T15:40:19.617950656+02:00: 0 entries (1 minibatch(es)) had been sent to the engine\n",
            "2023-06-19T15:40:19.617971797+02:00: 12 entries (1 minibatch(es)) had been sent to the engine\n",
            "Closing the data source\n"
          ]
        },
        {
          "name": "stdout",
          "output_type": "stream",
          "text": [
            "            | timestamp  | interpolated_position_1                         | interpolated_position_2\n",
            "^5CCD4ZC... | 1224744784 | (39.984702, 116.318417, 492.0)                  | (39.984683, 116.31845, 492.0)\n",
            "^5HB7K1Q... | 1224744790 | (39.98469327272728, 116.318417, 492.0)          | (39.984683, 116.31845, 492.0)\n",
            "^X02TCRM... | 1224744795 | (39.984686, 116.318417, 492.0)                  | (39.9846855, 116.31841750000001, 492.0)\n",
            "^WDXAQTP... | 1224744800 | (39.9846705, 116.31834, 492.0)                  | (39.984688, 116.318385, 492.0)\n",
            "^50Y5Q8T... | 1224744805 | (39.984655, 116.318263, 492.0)                  | (39.9846495, 116.3182055, 492.5)\n",
            "^G9BZ2D0... | 1224744810 | (39.9846315, 116.31801200000001, 492.5)         | (39.984611, 116.318026, 493.0)\n",
            "^JB52DPY... | 1224744815 | (39.984608, 116.317761, 493.0)                  | (39.984587000000005, 116.31777149999999, 494.5)\n",
            "^BNVQH8C... | 1224744820 | (39.984573499999996, 116.31752750000001, 496.5) | (39.984563, 116.317517, 496.0)\n"
          ]
        }
      ],
      "source": [
        "interpolated_table = interpolated_table.select(\n",
        "    pw.this.timestamp,\n",
        "    interpolated_position_1=pw.make_tuple(pw.this.lat_1, pw.this.lng_1, pw.this.alt_1),\n",
        "    interpolated_position_2=pw.make_tuple(pw.this.lat_2, pw.this.lng_2, pw.this.alt_2),\n",
        ")\n",
        "preview_table(interpolated_table)"
      ]
    },
    {
      "cell_type": "markdown",
      "id": "6b44a96f",
      "metadata": {},
      "source": [
        "To compute the distance, you can use the `pyproj` package, which you can install by uncommenting and executing the following command:"
      ]
    },
    {
      "cell_type": "code",
      "execution_count": 12,
      "id": "456a3ef0",
      "metadata": {
        "execution": {
          "iopub.execute_input": "2023-06-19T13:40:19.695925Z",
          "iopub.status.busy": "2023-06-19T13:40:19.695582Z",
          "iopub.status.idle": "2023-06-19T13:40:19.698350Z",
          "shell.execute_reply": "2023-06-19T13:40:19.697948Z"
        }
      },
      "outputs": [],
      "source": [
        "%%capture --no-display\n",
        "# !pip install pyproj"
      ]
    },
    {
      "cell_type": "code",
      "execution_count": 13,
      "id": "476f859f",
      "metadata": {
        "execution": {
          "iopub.execute_input": "2023-06-19T13:40:19.700169Z",
          "iopub.status.busy": "2023-06-19T13:40:19.699877Z",
          "iopub.status.idle": "2023-06-19T13:40:19.735602Z",
          "shell.execute_reply": "2023-06-19T13:40:19.735151Z"
        }
      },
      "outputs": [],
      "source": [
        "from pyproj import Geod\n",
        "\n",
        "g = Geod(ellps=\"WGS84\")\n",
        "\n",
        "\n",
        "def compute_speed(t_prev, position_prev, t_next, position_next):\n",
        "    try:\n",
        "        _, _, distance_2d = g.inv(\n",
        "            position_prev[1], position_prev[0], position_next[1], position_next[0]\n",
        "        )\n",
        "    except:\n",
        "        return 0.0\n",
        "    return float(distance_2d / (t_next - t_prev))"
      ]
    },
    {
      "cell_type": "markdown",
      "id": "f5345a7c",
      "metadata": {},
      "source": [
        "Note this is the simple 2-dimensional distance, but you can use your favorite distance metric."
      ]
    },
    {
      "cell_type": "markdown",
      "id": "e08fec04",
      "metadata": {},
      "source": [
        "You need to order the table to obtain the previous and next values.\n",
        "This can be done with the `sort` function which provides `prev` and `next` columns, containing pointers to the previous and next rows:"
      ]
    },
    {
      "cell_type": "code",
      "execution_count": 14,
      "id": "3e790aed",
      "metadata": {
        "execution": {
          "iopub.execute_input": "2023-06-19T13:40:19.737715Z",
          "iopub.status.busy": "2023-06-19T13:40:19.737332Z",
          "iopub.status.idle": "2023-06-19T13:40:19.971666Z",
          "shell.execute_reply": "2023-06-19T13:40:19.971086Z"
        }
      },
      "outputs": [
        {
          "name": "stderr",
          "output_type": "stream",
          "text": [
            "2023-06-19T15:40:19.868690836+02:00: 0 entries (1 minibatch(es)) had been sent to the engine\n",
            "2023-06-19T15:40:19.868770290+02:00: 12 entries (1 minibatch(es)) had been sent to the engine\n",
            "Closing the data source\n",
            "2023-06-19T15:40:19.868779931+02:00: 0 entries (1 minibatch(es)) had been sent to the engine\n",
            "2023-06-19T15:40:19.868799442+02:00: 12 entries (1 minibatch(es)) had been sent to the engine\n",
            "Closing the data source\n"
          ]
        },
        {
          "name": "stdout",
          "output_type": "stream",
          "text": [
            "            | timestamp  | interpolated_position_1                         | interpolated_position_2                         | next        | prev\n",
            "^VC9C9BE... | 1224744784 | (39.984702, 116.318417, 492.0)                  | (39.984683, 116.31845, 492.0)                   | ^A7MDH0M... |\n",
            "^A7MDH0M... | 1224744790 | (39.98469327272728, 116.318417, 492.0)          | (39.984683, 116.31845, 492.0)                   | ^2PSR1VQ... | ^VC9C9BE...\n",
            "^2PSR1VQ... | 1224744795 | (39.984686, 116.318417, 492.0)                  | (39.9846855, 116.31841750000001, 492.0)         | ^HRNN5D0... | ^A7MDH0M...\n",
            "^HRNN5D0... | 1224744800 | (39.9846705, 116.31834, 492.0)                  | (39.984688, 116.318385, 492.0)                  | ^1KNG9BP... | ^2PSR1VQ...\n",
            "^1KNG9BP... | 1224744805 | (39.984655, 116.318263, 492.0)                  | (39.9846495, 116.3182055, 492.5)                | ^8YR2GJC... | ^HRNN5D0...\n",
            "^8YR2GJC... | 1224744810 | (39.9846315, 116.31801200000001, 492.5)         | (39.984611, 116.318026, 493.0)                  | ^D686SG3... | ^1KNG9BP...\n",
            "^D686SG3... | 1224744815 | (39.984608, 116.317761, 493.0)                  | (39.984587000000005, 116.31777149999999, 494.5) | ^NRHDQYM... | ^8YR2GJC...\n",
            "^NRHDQYM... | 1224744820 | (39.984573499999996, 116.31752750000001, 496.5) | (39.984563, 116.317517, 496.0)                  | ^4D12X5C... | ^D686SG3...\n"
          ]
        }
      ],
      "source": [
        "interpolated_table += interpolated_table.sort(key=pw.this.timestamp)\n",
        "preview_table(interpolated_table)"
      ]
    },
    {
      "cell_type": "markdown",
      "id": "870841c1",
      "metadata": {},
      "source": [
        "Then, you can use transformer classes to compute the instant speed on all the points for both sources:"
      ]
    },
    {
      "cell_type": "code",
      "execution_count": 15,
      "id": "3a4359e4",
      "metadata": {
        "execution": {
          "iopub.execute_input": "2023-06-19T13:40:19.973904Z",
          "iopub.status.busy": "2023-06-19T13:40:19.973484Z",
          "iopub.status.idle": "2023-06-19T13:40:20.133416Z",
          "shell.execute_reply": "2023-06-19T13:40:20.132868Z"
        }
      },
      "outputs": [
        {
          "name": "stderr",
          "output_type": "stream",
          "text": [
            "2023-06-19T15:40:20.020574071+02:00: 0 entries (1 minibatch(es)) had been sent to the engine\n",
            "2023-06-19T15:40:20.020654555+02:00: 12 entries (1 minibatch(es)) had been sent to the engine\n",
            "Closing the data source\n",
            "2023-06-19T15:40:20.020663955+02:00: 0 entries (1 minibatch(es)) had been sent to the engine\n",
            "2023-06-19T15:40:20.020683857+02:00: 12 entries (1 minibatch(es)) had been sent to the engine\n",
            "Closing the data source\n"
          ]
        },
        {
          "name": "stdout",
          "output_type": "stream",
          "text": [
            "            | timestamp  | speed_1            | speed_2\n",
            "^ZGWDHFK... | 1224744784 | 0.1615044922828007 | 0.0\n",
            "^GYSGS3P... | 1224744790 | 0.1615044922277721 | 0.25361497797652005\n",
            "^D6C0967... | 1224744795 | 0.7046121958265952 | 0.5579529416239059\n",
            "^2J6J3XW... | 1224744800 | 1.3596501331007218 | 1.854349269858084\n",
            "^KTH0CH8... | 1224744805 | 2.834814944235183  | 3.1832873217197717\n",
            "^HPXQ6VY... | 1224744810 | 4.319373713695855  | 3.771323183438932\n",
            "^HR6KJX9... | 1224744815 | 4.18807153239199   | 4.380070781579824\n",
            "^6YEE0Z9... | 1224744820 | 4.061700931690473  | 4.1041911629857255\n"
          ]
        }
      ],
      "source": [
        "@pw.transformer\n",
        "class computing_speed:\n",
        "    class ordered_ts(pw.ClassArg):\n",
        "        timestamp = pw.input_attribute()\n",
        "        interpolated_position_1 = pw.input_attribute()\n",
        "        interpolated_position_2 = pw.input_attribute()\n",
        "        prev = pw.input_attribute()\n",
        "        next = pw.input_attribute()\n",
        "\n",
        "        @pw.output_attribute\n",
        "        def speed_1(self) -> float:\n",
        "            t = self.timestamp\n",
        "            t_prev = t\n",
        "            position_prev = self.interpolated_position_1\n",
        "            t_next = t\n",
        "            position_next = self.interpolated_position_1\n",
        "            if self.prev is not None:\n",
        "                t_prev = self.transformer.ordered_ts[self.prev].timestamp\n",
        "                position_prev = self.transformer.ordered_ts[\n",
        "                    self.prev\n",
        "                ].interpolated_position_1\n",
        "            if self.next is not None:\n",
        "                t_next = self.transformer.ordered_ts[self.next].timestamp\n",
        "                position_next = self.transformer.ordered_ts[\n",
        "                    self.next\n",
        "                ].interpolated_position_1\n",
        "            return compute_speed(t_prev, position_prev, t_next, position_next)\n",
        "\n",
        "        @pw.output_attribute\n",
        "        def speed_2(self) -> float:\n",
        "            t = self.timestamp\n",
        "            t_prev = t\n",
        "            position_prev = self.interpolated_position_2\n",
        "            t_next = t\n",
        "            position_next = self.interpolated_position_2\n",
        "            if self.prev is not None:\n",
        "                t_prev = self.transformer.ordered_ts[self.prev].timestamp\n",
        "                position_prev = self.transformer.ordered_ts[\n",
        "                    self.prev\n",
        "                ].interpolated_position_2\n",
        "            if self.next is not None:\n",
        "                t_next = self.transformer.ordered_ts[self.next].timestamp\n",
        "                position_next = self.transformer.ordered_ts[\n",
        "                    self.next\n",
        "                ].interpolated_position_2\n",
        "            return compute_speed(t_prev, position_prev, t_next, position_next)\n",
        "\n",
        "\n",
        "table_speed = computing_speed(ordered_ts=interpolated_table).ordered_ts\n",
        "table_speed = pw.Table.from_columns(interpolated_table.timestamp) + table_speed\n",
        "preview_table(table_speed)"
      ]
    },
    {
      "cell_type": "markdown",
      "id": "9b040304",
      "metadata": {},
      "source": [
        "Finally, you can compute the average of the two speeds at each timestamp:"
      ]
    },
    {
      "cell_type": "code",
      "execution_count": 16,
      "id": "d8a2dbc8",
      "metadata": {
        "execution": {
          "iopub.execute_input": "2023-06-19T13:40:20.135446Z",
          "iopub.status.busy": "2023-06-19T13:40:20.135093Z",
          "iopub.status.idle": "2023-06-19T13:40:20.319332Z",
          "shell.execute_reply": "2023-06-19T13:40:20.318767Z"
        }
      },
      "outputs": [
        {
          "name": "stderr",
          "output_type": "stream",
          "text": [
            "2023-06-19T15:40:20.178961941+02:00: 0 entries (1 minibatch(es)) had been sent to the engine\n",
            "2023-06-19T15:40:20.179051406+02:00: 12 entries (1 minibatch(es)) had been sent to the engine\n",
            "Closing the data source\n",
            "2023-06-19T15:40:20.179062997+02:00: 0 entries (1 minibatch(es)) had been sent to the engine\n",
            "2023-06-19T15:40:20.179093468+02:00: 12 entries (1 minibatch(es)) had been sent to the engine\n",
            "Closing the data source\n"
          ]
        },
        {
          "name": "stdout",
          "output_type": "stream",
          "text": [
            "            | timestamp  | speed\n",
            "^3105WQ9... | 1224744784 | 0.08075224614140035\n",
            "^QZ2N8MY... | 1224744790 | 0.2075597351021461\n",
            "^8QAVBWD... | 1224744795 | 0.6312825687252506\n",
            "^RW05FJB... | 1224744800 | 1.6069997014794029\n",
            "^NG1B41T... | 1224744805 | 3.0090511329774774\n",
            "^TGM6ZME... | 1224744810 | 4.045348448567394\n",
            "^CKRYDGH... | 1224744815 | 4.284071156985907\n",
            "^PNG0Y3J... | 1224744820 | 4.082946047338099\n"
          ]
        }
      ],
      "source": [
        "average_speed_table = table_speed.select(\n",
        "    pw.this.timestamp,\n",
        "    speed=(pw.this.speed_1 + pw.this.speed_2) / 2.0,\n",
        ")\n",
        "preview_table(average_speed_table)"
      ]
    },
    {
      "cell_type": "markdown",
      "id": "c44a472a",
      "metadata": {},
      "source": [
        "You have now the speed for all the timestamps.\n",
        "\n",
        "Although initially designed for static GPS traces, this configuration can easily be adapted for a [streaming setup](/developers/user-guide/introduction/streaming-and-static-modes/) by modifying the [connectors](/developers/user-guide/input-and-output-streams/connectors/). In streaming mode, all calculations will be automatically refreshed whenever a new GPS position is received."
      ]
    },
    {
      "cell_type": "markdown",
      "id": "7f65148f",
      "metadata": {},
      "source": [
        "## Conclusions\n",
        "Congratulations, you now have the skills to combine time series and unlock new insights in your data!\n",
        "\n",
        "This article focused on combining two GPS traces to compute the average speed.\n",
        "However, the principles we discussed can be applied to a wide range of time series data, from stock prices to weather data to sensor readings.\n",
        "\n",
        "By combining and analyzing time series data, you can uncover patterns, trends, and relationships that may not be immediately apparent from individual series.\n",
        "This can be especially useful in complex modeling scenarios that involve multiple data sources.\n",
        "\n",
        "For instance, imagine you want to predict weather patterns using a combination of humidity, temperature, and other metrics.\n",
        "By combining these time series, you could create a more comprehensive picture of the conditions affecting your area's weather patterns.\n",
        "\n",
        "The possibilities for time series analysis are endless, and if you're interested in learning more, be sure to check out [our article on log monitoring](/developers/tutorials/realtime-log-monitoring).\n",
        "In it, we explore how to use time series analysis to detect anomalies in your web server's logs."
      ]
    }
  ],
  "metadata": {
    "kernelspec": {
      "display_name": "Python 3 (ipykernel)",
      "language": "python",
      "name": "python3"
    },
    "language_info": {
      "codemirror_mode": {
        "name": "ipython",
        "version": 3
      },
      "file_extension": ".py",
      "mimetype": "text/x-python",
      "name": "python",
      "nbconvert_exporter": "python",
      "pygments_lexer": "ipython3",
      "version": "3.10.8"
    }
  },
  "nbformat": 4,
  "nbformat_minor": 5
}