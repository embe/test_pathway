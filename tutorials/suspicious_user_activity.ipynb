{
  "cells": [
    {
      "cell_type": "markdown",
      "metadata": {
        "id": "view-in-colab"
      },
      "source": [
        "<a href=\"https://colab.research.google.com/github/pathwaycom/pathway-examples/blob/main/tutorials/suspicious_user_activity.ipynb\" target=\"_parent\"><img src=\"https://pathway.com/assets/colab-badge.svg\" alt=\"Run In Colab\" class=\"inline\"/></a>"
      ]
    },
    {
      "cell_type": "markdown",
      "source": [
        "# Installing Pathway with Python 3.8+\n",
        "\n",
        "In the cell below, we install Pathway into a Python 3.8+ Linux runtime.\n",
        "\n",
        "> **If you are running in Google Colab, please run the colab notebook (Ctrl+F9)**, disregarding the 'not authored by Google' warning.\n",
        "> \n",
        "> **The installation and loading time is less than 1 minute**.\n"
      ],
      "metadata": {
        "id": "notebook-instructions"
      }
    },
    {
      "cell_type": "code",
      "source": [
        "%%capture --no-display\n",
        "!pip install --extra-index-url https://packages.pathway.com/966431ef6ba pathway"
      ],
      "metadata": {
        "id": "pip-installation-pathway",
        "cellView": "form"
      },
      "execution_count": null,
      "outputs": []
    },
    {
      "cell_type": "markdown",
      "id": "866f21d7",
      "metadata": {
        "lines_to_next_cell": 0,
        "tags": []
      },
      "source": [
        "# Detecting suspicious user activity with Tumbling Window group-by\n",
        "\n",
        "In this tutorial you will learn how to perform a [tumbling window](/glossary/tumbling-window) operation to detect suspicious activity.\n",
        "\n",
        "Your task is to detect suspicious user login attempts during some period of time.\n",
        "You have a record of login data. Your goal is to detect suspicious users who have logged in more than 5 times in a single minute.\n",
        "\n",
        "To do this, you will be using the `windowby` syntax with a `pw.window.tumbling()` object. Let's jump in!\n",
        "\n",
        "Your input data table has the following columns:\n",
        "* `username`,\n",
        "* whether the login was `successful`,\n",
        "* `time` of a login attempt,\n",
        "* `ip_address` of a login.\n",
        "\n",
        "\n",
        "Let's start by ingesting the data:\n",
        "\n",
        "\n",
        "First ingest the data."
      ]
    },
    {
      "cell_type": "code",
      "execution_count": 1,
      "id": "2e0ae7c9",
      "metadata": {
        "execution": {
          "iopub.execute_input": "2023-06-01T14:30:32.336891Z",
          "iopub.status.busy": "2023-06-01T14:30:32.336652Z",
          "iopub.status.idle": "2023-06-01T14:30:32.338713Z",
          "shell.execute_reply": "2023-06-01T14:30:32.338407Z"
        }
      },
      "outputs": [],
      "source": [
        "# Uncomment to download the required files.\n",
        "# %%capture --no-display\n",
        "# !wget https://public-pathway-releases.s3.eu-central-1.amazonaws.com/data/suspicious_users_tutorial_logins.csv -O logins.csv"
      ]
    },
    {
      "cell_type": "code",
      "execution_count": 2,
      "id": "bb28e141",
      "metadata": {
        "execution": {
          "iopub.execute_input": "2023-06-01T14:30:32.340230Z",
          "iopub.status.busy": "2023-06-01T14:30:32.339947Z",
          "iopub.status.idle": "2023-06-01T14:30:33.831692Z",
          "shell.execute_reply": "2023-06-01T14:30:33.831276Z"
        }
      },
      "outputs": [],
      "source": [
        "import pathway as pw\n",
        "\n",
        "logins = pw.io.csv.read(\n",
        "    \"logins.csv\",\n",
        "    value_columns=[\"username\", \"successful\", \"time\", \"ip_address\"],\n",
        "    mode=\"static\",\n",
        "    types={\"time\": pw.Type.INT, \"successful\": pw.Type.STRING},\n",
        ")"
      ]
    },
    {
      "cell_type": "markdown",
      "id": "6c58f0e5",
      "metadata": {},
      "source": [
        "The CSV data has the string values \"True\" and \"False\" in the `successful` column.\n",
        "\n",
        "Let's convert this to a Boolean column:"
      ]
    },
    {
      "cell_type": "code",
      "execution_count": 3,
      "id": "72aa2455",
      "metadata": {
        "execution": {
          "iopub.execute_input": "2023-06-01T14:30:33.833703Z",
          "iopub.status.busy": "2023-06-01T14:30:33.833493Z",
          "iopub.status.idle": "2023-06-01T14:30:33.842896Z",
          "shell.execute_reply": "2023-06-01T14:30:33.842631Z"
        }
      },
      "outputs": [],
      "source": [
        "logins = logins.update_columns(successful=(pw.this.successful == \"True\"))"
      ]
    },
    {
      "cell_type": "markdown",
      "id": "295e758b",
      "metadata": {},
      "source": [
        "Then, let's filter attempts and keep only the unsuccessful ones."
      ]
    },
    {
      "cell_type": "code",
      "execution_count": 4,
      "id": "c4d05efd",
      "metadata": {
        "execution": {
          "iopub.execute_input": "2023-06-01T14:30:33.844300Z",
          "iopub.status.busy": "2023-06-01T14:30:33.844163Z",
          "iopub.status.idle": "2023-06-01T14:30:33.849161Z",
          "shell.execute_reply": "2023-06-01T14:30:33.848917Z"
        }
      },
      "outputs": [],
      "source": [
        "failed = logins.filter(~pw.this.successful)"
      ]
    },
    {
      "cell_type": "markdown",
      "id": "bcb27329",
      "metadata": {},
      "source": [
        "Now, perform a tumbling window operation with a duration of 60 (i.e. 1 minute).\n",
        "\n",
        "Use the `shard` keyword to separate rows by the `ip_address` value."
      ]
    },
    {
      "cell_type": "code",
      "execution_count": 5,
      "id": "a66388b2",
      "metadata": {
        "execution": {
          "iopub.execute_input": "2023-06-01T14:30:33.850547Z",
          "iopub.status.busy": "2023-06-01T14:30:33.850332Z",
          "iopub.status.idle": "2023-06-01T14:30:33.897206Z",
          "shell.execute_reply": "2023-06-01T14:30:33.896945Z"
        }
      },
      "outputs": [],
      "source": [
        "result = failed.windowby(\n",
        "    failed.time, window=pw.window.tumbling(duration=60), shard=pw.this.ip_address\n",
        ").reduce(\n",
        "    ip_address = pw.this.shard,\n",
        "    count=pw.reducers.count(pw.this.time),\n",
        ")"
      ]
    },
    {
      "cell_type": "markdown",
      "id": "5660dd16",
      "metadata": {
        "lines_to_next_cell": 0
      },
      "source": [
        "...and finally, let's keep only the IP addresses where the number of failed logins exceeded the threshold (5):"
      ]
    },
    {
      "cell_type": "code",
      "execution_count": 6,
      "id": "beac5ad8",
      "metadata": {
        "execution": {
          "iopub.execute_input": "2023-06-01T14:30:33.898724Z",
          "iopub.status.busy": "2023-06-01T14:30:33.898497Z",
          "iopub.status.idle": "2023-06-01T14:30:33.908971Z",
          "shell.execute_reply": "2023-06-01T14:30:33.908674Z"
        }
      },
      "outputs": [
        {
          "name": "stdout",
          "output_type": "stream",
          "text": [
            "            | ip_address    | count\n",
            "^J4SN6T8... | 50.37.169.241 | 7\n"
          ]
        }
      ],
      "source": [
        "suspicious_logins = result.filter(pw.this.count >= 5)\n",
        "pw.debug.compute_and_print(suspicious_logins)"
      ]
    },
    {
      "cell_type": "markdown",
      "id": "c30a54d2",
      "metadata": {},
      "source": [
        "And that's it! You have used a tumbling window operation to identify suspicious user activity and can now act on this information to increase the security of your platform.\n",
        "\n",
        "Reach out to us on [Discord](https://discord.gg/pathway) if you'd like to discuss [real time anomaly detection](/glossary/real-time-anomaly-detection) use cases like this one in more detail!"
      ]
    }
  ],
  "metadata": {
    "kernelspec": {
      "display_name": "Python 3 (ipykernel)",
      "language": "python",
      "name": "python3"
    },
    "language_info": {
      "codemirror_mode": {
        "name": "ipython",
        "version": 3
      },
      "file_extension": ".py",
      "mimetype": "text/x-python",
      "name": "python",
      "nbconvert_exporter": "python",
      "pygments_lexer": "ipython3",
      "version": "3.10.8"
    }
  },
  "nbformat": 4,
  "nbformat_minor": 5
}