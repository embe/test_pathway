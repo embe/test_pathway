{
  "cells": [
    {
      "cell_type": "markdown",
      "metadata": {
        "id": "view-in-colab"
      },
      "source": [
        "<a href=\"https://colab.research.google.com/github/pathwaycom/pathway-examples/blob/main/tutorials/suspicious_user_activity.ipynb\" target=\"_parent\"><img src=\"https://pathway.com/assets/colab-badge.svg\" alt=\"Run In Colab\" class=\"inline\"/></a>"
      ]
    },
    {
      "cell_type": "markdown",
      "source": [
        "# [Colab-specific instructions] Installing Pathway with Python 3.8+\n",
        "\n",
        "> In the cell below we install pathway into a Python 3.8+ Linux runtime.\n",
        "> Please:\n",
        "> 1. **Insert in the form below the pip install command** given to you with your beta access.\n",
        "> 2. **Run the colab notebook (Ctrl+F9)**, disregarding the 'not authored by Google' warning. **The installation and loading time is less than 1 minute**.\n"
      ],
      "metadata": {
        "id": "notebook-instructions"
      }
    },
    {
      "cell_type": "code",
      "source": [
        "#@title \u2699\ufe0f Pathway installer. Please provide the pip install link for Pathway:\n",
        "# Please copy here the installation line:\n",
        "PATHWAY_INSTALL_LINE='pip install --extra-index-url https://packages.pathway.com/... pathway' #@param {type:\"string\"}\n",
        "\n",
        "PATHWAY_INSTALL_LINE.replace('pip install --extra-index-url ', '')\n",
        "\n",
        "class InterruptExecution(Exception):\n",
        "    def _render_traceback_(self):\n",
        "        pass\n",
        "\n",
        "if '...' in PATHWAY_INSTALL_LINE or not PATHWAY_INSTALL_LINE.startswith('https://packages.pathway.com/'):\n",
        "    print(\n",
        "        \"\u26d4 Please register at https://pathway.com/developers/documentation/introduction/installation-and-first-steps\\n\"\n",
        "        \"to Copy & Paste the Linux pip install line for Pathway!\"\n",
        "    )\n",
        "    raise InterruptExecution\n",
        "\n",
        "DO_INSTALL = False\n",
        "import sys\n",
        "if sys.version_info >= (3, 8):\n",
        "    print(f'\u2705 Python {sys.version} is active.')\n",
        "    try:\n",
        "        import pathway as pw\n",
        "        print('\u2705 Pathway successfully imported.')\n",
        "    except:\n",
        "        DO_INSTALL = True\n",
        "else:\n",
        "    print(\"\u26d4 Pathway requires Python 3.8 or higher.\")\n",
        "    raise InterruptExecution\n",
        "\n",
        "if DO_INSTALL:\n",
        "    !ls $(dirname $(which python))/../lib/python*/*-packages/pathway 1>/dev/null 2>/dev/null || echo \"\u231b Installing Pathway. This usually takes a few seconds...\"\n",
        "    !ls $(dirname $(which python))/../lib/python*/*-packages/pathway 1>/dev/null 2>/dev/null || pip install --extra-index-url {PATHWAY_INSTALL_LINE} 1>/dev/null 2>/dev/null\n",
        "    !ls $(dirname $(which python))/../lib/python*/*-packages/pathway 1>/dev/null 2>/dev/null || echo \"\u26d4 Installation failed. Don't be shy to reach out to the community at https://pathway.com !\"\n",
        "    !ls $(dirname $(which python))/../lib/python*/*-packages/pathway 1>/dev/null 2>/dev/null && echo \"\u2705 All installed. Enjoy Pathway!\"\n"
      ],
      "metadata": {
        "id": "pip-installation-pathway",
        "cellView": "form"
      },
      "execution_count": null,
      "outputs": []
    },
    {
      "cell_type": "markdown",
      "id": "86499959",
      "metadata": {
        "lines_to_next_cell": 0,
        "tags": []
      },
      "source": [
        "# Detecting suspicious user activity with Tumbling Window group-by\n",
        "\n",
        "Our task is to detect suspicious user login attempts during some period of time.\n",
        "The main ingredient used is grouping over a tumbling window.\n",
        "\n",
        "We have an input data table with following columns:\n",
        "* `username`,\n",
        "* whether the login was `successful`,\n",
        "* `time` of a login attempt,\n",
        "* `ip_address` of a login.\n",
        "\n",
        "\n",
        "First we ingest the data."
      ]
    },
    {
      "cell_type": "code",
      "execution_count": 1,
      "id": "d31eb59b",
      "metadata": {
        "execution": {
          "iopub.execute_input": "2023-01-26T14:21:21.198168Z",
          "iopub.status.busy": "2023-01-26T14:21:21.198024Z",
          "iopub.status.idle": "2023-01-26T14:21:21.200182Z",
          "shell.execute_reply": "2023-01-26T14:21:21.199899Z"
        }
      },
      "outputs": [],
      "source": [
        "# Uncomment to download the required files.\n",
        "# %%capture --no-display\n",
        "# !wget https://public-pathway-releases.s3.eu-central-1.amazonaws.com/data/suspicious_users_tutorial_logins.csv -O logins2.csv"
      ]
    },
    {
      "cell_type": "code",
      "execution_count": 2,
      "id": "f07df005",
      "metadata": {
        "execution": {
          "iopub.execute_input": "2023-01-26T14:21:21.201555Z",
          "iopub.status.busy": "2023-01-26T14:21:21.201393Z",
          "iopub.status.idle": "2023-01-26T14:21:22.533569Z",
          "shell.execute_reply": "2023-01-26T14:21:22.533169Z"
        }
      },
      "outputs": [],
      "source": [
        "from datetime import datetime\n",
        "\n",
        "import pathway as pw\n",
        "\n",
        "logins = pw.csv.read(\n",
        "    \"logins.csv\", value_columns=[\"username\", \"successful\", \"time\", \"ip_address\"]\n",
        ")"
      ]
    },
    {
      "cell_type": "code",
      "execution_count": 3,
      "id": "e8e82e00",
      "metadata": {
        "execution": {
          "iopub.execute_input": "2023-01-26T14:21:22.535485Z",
          "iopub.status.busy": "2023-01-26T14:21:22.535290Z",
          "iopub.status.idle": "2023-01-26T14:21:22.538054Z",
          "shell.execute_reply": "2023-01-26T14:21:22.537758Z"
        }
      },
      "outputs": [],
      "source": [
        "logins = logins.select(\n",
        "    *pw.this.without(pw.this.successful), successful=(pw.this.successful == \"True\")\n",
        ")"
      ]
    },
    {
      "cell_type": "code",
      "execution_count": 4,
      "id": "81a0a487",
      "metadata": {
        "execution": {
          "iopub.execute_input": "2023-01-26T14:21:22.539331Z",
          "iopub.status.busy": "2023-01-26T14:21:22.539086Z",
          "iopub.status.idle": "2023-01-26T14:21:22.541295Z",
          "shell.execute_reply": "2023-01-26T14:21:22.541013Z"
        }
      },
      "outputs": [],
      "source": [
        "logins = logins.select(\n",
        "    *pw.this.without(pw.this.successful),\n",
        "    successful=pw.cast(bool, pw.this.successful),\n",
        ")"
      ]
    },
    {
      "cell_type": "markdown",
      "id": "fa83c7fb",
      "metadata": {},
      "source": [
        "We then filter attempts and keep only the unsuccessful ones."
      ]
    },
    {
      "cell_type": "code",
      "execution_count": 5,
      "id": "ac101c5e",
      "metadata": {
        "execution": {
          "iopub.execute_input": "2023-01-26T14:21:22.542643Z",
          "iopub.status.busy": "2023-01-26T14:21:22.542419Z",
          "iopub.status.idle": "2023-01-26T14:21:22.544553Z",
          "shell.execute_reply": "2023-01-26T14:21:22.544254Z"
        }
      },
      "outputs": [],
      "source": [
        "processed = logins.filter(~pw.this.successful)"
      ]
    },
    {
      "cell_type": "markdown",
      "id": "f288a03d",
      "metadata": {},
      "source": [
        "We now group remaining attempts by login `time` and `ip_address` (ignoring seconds in `time` of login)."
      ]
    },
    {
      "cell_type": "code",
      "execution_count": 6,
      "id": "0af79536",
      "metadata": {
        "execution": {
          "iopub.execute_input": "2023-01-26T14:21:22.545841Z",
          "iopub.status.busy": "2023-01-26T14:21:22.545596Z",
          "iopub.status.idle": "2023-01-26T14:21:22.548043Z",
          "shell.execute_reply": "2023-01-26T14:21:22.547760Z"
        }
      },
      "outputs": [],
      "source": [
        "by_minutes = processed.select(\n",
        "    pw.this.ip_address,\n",
        "    time=pw.apply(\n",
        "        lambda timestamp_str: (datetime.fromtimestamp(int(timestamp_str)).isoformat())[\n",
        "            :-2\n",
        "        ]\n",
        "        + \"00\",\n",
        "        pw.this.time,\n",
        "    ),\n",
        ")\n",
        "grouped_by_minutes = by_minutes.groupby(pw.this.time, pw.this.ip_address)"
      ]
    },
    {
      "cell_type": "markdown",
      "id": "1ad523da",
      "metadata": {
        "lines_to_next_cell": 0
      },
      "source": [
        "Next step is to count the logins..."
      ]
    },
    {
      "cell_type": "code",
      "execution_count": 7,
      "id": "3788ed21",
      "metadata": {
        "execution": {
          "iopub.execute_input": "2023-01-26T14:21:22.549250Z",
          "iopub.status.busy": "2023-01-26T14:21:22.549085Z",
          "iopub.status.idle": "2023-01-26T14:21:22.551088Z",
          "shell.execute_reply": "2023-01-26T14:21:22.550812Z"
        },
        "lines_to_next_cell": 0
      },
      "outputs": [],
      "source": [
        "logins_counted = grouped_by_minutes.reduce(\n",
        "    by_minutes.time, by_minutes.ip_address, count=pw.reducers.count(by_minutes.id)\n",
        ")"
      ]
    },
    {
      "cell_type": "markdown",
      "id": "45887c17",
      "metadata": {
        "lines_to_next_cell": 0
      },
      "source": [
        "...and to keep only incidents where number of failed logins exceeded the threshold."
      ]
    },
    {
      "cell_type": "code",
      "execution_count": 8,
      "id": "77eac61d",
      "metadata": {
        "execution": {
          "iopub.execute_input": "2023-01-26T14:21:22.552273Z",
          "iopub.status.busy": "2023-01-26T14:21:22.552108Z",
          "iopub.status.idle": "2023-01-26T14:21:22.557436Z",
          "shell.execute_reply": "2023-01-26T14:21:22.557128Z"
        }
      },
      "outputs": [
        {
          "name": "stdout",
          "output_type": "stream",
          "text": [
            "            | time                | ip_address    | count\n",
            "^DKEYHS4... | 2018-12-25T10:30:00 | 50.37.169.241 | 7\n"
          ]
        }
      ],
      "source": [
        "suspicious_logins = logins_counted.filter(pw.this.count >= 5)\n",
        "pw.debug.compute_and_print(suspicious_logins)"
      ]
    }
  ],
  "metadata": {
    "kernelspec": {
      "display_name": "Python 3 (ipykernel)",
      "language": "python",
      "name": "python3"
    },
    "language_info": {
      "codemirror_mode": {
        "name": "ipython",
        "version": 3
      },
      "file_extension": ".py",
      "mimetype": "text/x-python",
      "name": "python",
      "nbconvert_exporter": "python",
      "pygments_lexer": "ipython3",
      "version": "3.10.8"
    }
  },
  "nbformat": 4,
  "nbformat_minor": 5
}