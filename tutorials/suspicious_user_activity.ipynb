{
  "cells": [
    {
      "cell_type": "markdown",
      "metadata": {
        "id": "view-in-colab"
      },
      "source": [
        "<a href=\"https://colab.research.google.com/github/pathwaycom/pathway-examples/blob/main/tutorials/suspicious_user_activity.ipynb\" target=\"_parent\"><img src=\"https://pathway.com/assets/colab-badge.svg\" alt=\"Run In Colab\" class=\"inline\"/></a>"
      ]
    },
    {
      "cell_type": "markdown",
      "source": [
        "# Installing Pathway with Python 3.8+\n",
        "\n",
        "In the cell below, we install Pathway into a Python 3.8+ Linux runtime.\n",
        "\n",
        "> **If you are running in Google Colab, please run the colab notebook (Ctrl+F9)**, disregarding the 'not authored by Google' warning.\n",
        "> \n",
        "> **The installation and loading time is less than 1 minute**.\n"
      ],
      "metadata": {
        "id": "notebook-instructions"
      }
    },
    {
      "cell_type": "code",
      "source": [
        "%%capture --no-display\n",
        "!pip install --extra-index-url https://packages.pathway.com/966431ef6ba pathway"
      ],
      "metadata": {
        "id": "pip-installation-pathway",
        "cellView": "form"
      },
      "execution_count": null,
      "outputs": []
    },
    {
      "cell_type": "markdown",
      "id": "364f692d",
      "metadata": {
        "lines_to_next_cell": 0,
        "tags": []
      },
      "source": [
        "# Detecting suspicious user activity with Tumbling Window group-by\n",
        "\n",
        "Your task is to detect suspicious user login attempts during some period of time.\n",
        "The main ingredient used is grouping over a tumbling window.\n",
        "\n",
        "You have an input data table with following columns:\n",
        "* `username`,\n",
        "* whether the login was `successful`,\n",
        "* `time` of a login attempt,\n",
        "* `ip_address` of a login.\n",
        "\n",
        "\n",
        "First ingest the data."
      ]
    },
    {
      "cell_type": "code",
      "execution_count": 1,
      "id": "7d01e973",
      "metadata": {
        "execution": {
          "iopub.execute_input": "2023-04-25T15:31:20.827216Z",
          "iopub.status.busy": "2023-04-25T15:31:20.827080Z",
          "iopub.status.idle": "2023-04-25T15:31:20.829597Z",
          "shell.execute_reply": "2023-04-25T15:31:20.829234Z"
        }
      },
      "outputs": [],
      "source": [
        "# Uncomment to download the required files.\n",
        "# %%capture --no-display\n",
        "# !wget https://public-pathway-releases.s3.eu-central-1.amazonaws.com/data/suspicious_users_tutorial_logins.csv -O logins.csv"
      ]
    },
    {
      "cell_type": "code",
      "execution_count": 2,
      "id": "a03b0580",
      "metadata": {
        "execution": {
          "iopub.execute_input": "2023-04-25T15:31:20.831073Z",
          "iopub.status.busy": "2023-04-25T15:31:20.830946Z",
          "iopub.status.idle": "2023-04-25T15:31:22.044062Z",
          "shell.execute_reply": "2023-04-25T15:31:22.043629Z"
        }
      },
      "outputs": [],
      "source": [
        "from datetime import datetime\n",
        "\n",
        "import pathway as pw\n",
        "\n",
        "logins = pw.io.csv.read(\n",
        "    \"logins.csv\",\n",
        "    value_columns=[\"username\", \"successful\", \"time\", \"ip_address\"],\n",
        "    mode=\"static\",\n",
        ")"
      ]
    },
    {
      "cell_type": "code",
      "execution_count": 3,
      "id": "83814517",
      "metadata": {
        "execution": {
          "iopub.execute_input": "2023-04-25T15:31:22.046519Z",
          "iopub.status.busy": "2023-04-25T15:31:22.046281Z",
          "iopub.status.idle": "2023-04-25T15:31:22.051017Z",
          "shell.execute_reply": "2023-04-25T15:31:22.050698Z"
        }
      },
      "outputs": [],
      "source": [
        "logins = logins.update_columns(successful=(pw.this.successful == \"True\"))"
      ]
    },
    {
      "cell_type": "markdown",
      "id": "db4576fe",
      "metadata": {},
      "source": [
        "Then filter attempts and keep only the unsuccessful ones."
      ]
    },
    {
      "cell_type": "code",
      "execution_count": 4,
      "id": "c707abc1",
      "metadata": {
        "execution": {
          "iopub.execute_input": "2023-04-25T15:31:22.052876Z",
          "iopub.status.busy": "2023-04-25T15:31:22.052513Z",
          "iopub.status.idle": "2023-04-25T15:31:22.055246Z",
          "shell.execute_reply": "2023-04-25T15:31:22.054936Z"
        }
      },
      "outputs": [],
      "source": [
        "processed = logins.filter(~pw.this.successful)"
      ]
    },
    {
      "cell_type": "markdown",
      "id": "9abae58d",
      "metadata": {},
      "source": [
        "Now, group remaining attempts by login `time` and `ip_address` (ignoring seconds in `time` of login)."
      ]
    },
    {
      "cell_type": "code",
      "execution_count": 5,
      "id": "f7b9fd5a",
      "metadata": {
        "execution": {
          "iopub.execute_input": "2023-04-25T15:31:22.057099Z",
          "iopub.status.busy": "2023-04-25T15:31:22.056775Z",
          "iopub.status.idle": "2023-04-25T15:31:22.060128Z",
          "shell.execute_reply": "2023-04-25T15:31:22.059825Z"
        }
      },
      "outputs": [],
      "source": [
        "by_minutes = processed.select(\n",
        "    pw.this.ip_address,\n",
        "    time=pw.apply(\n",
        "        lambda timestamp_str: (datetime.fromtimestamp(int(timestamp_str)).isoformat())[\n",
        "            :-2\n",
        "        ]\n",
        "        + \"00\",\n",
        "        pw.this.time,\n",
        "    ),\n",
        ")\n",
        "grouped_by_minutes = by_minutes.groupby(pw.this.time, pw.this.ip_address)"
      ]
    },
    {
      "cell_type": "markdown",
      "id": "b9c1c219",
      "metadata": {
        "lines_to_next_cell": 0
      },
      "source": [
        "The next step is to count the logins..."
      ]
    },
    {
      "cell_type": "code",
      "execution_count": 6,
      "id": "849c7fff",
      "metadata": {
        "execution": {
          "iopub.execute_input": "2023-04-25T15:31:22.061852Z",
          "iopub.status.busy": "2023-04-25T15:31:22.061546Z",
          "iopub.status.idle": "2023-04-25T15:31:22.064394Z",
          "shell.execute_reply": "2023-04-25T15:31:22.064084Z"
        },
        "lines_to_next_cell": 0
      },
      "outputs": [],
      "source": [
        "logins_counted = grouped_by_minutes.reduce(\n",
        "    by_minutes.time, by_minutes.ip_address, count=pw.reducers.count(by_minutes.id)\n",
        ")"
      ]
    },
    {
      "cell_type": "markdown",
      "id": "13e0cb23",
      "metadata": {
        "lines_to_next_cell": 0
      },
      "source": [
        "...and to keep only incidents where the number of failed logins exceeded the threshold."
      ]
    },
    {
      "cell_type": "code",
      "execution_count": 7,
      "id": "ef8422dc",
      "metadata": {
        "execution": {
          "iopub.execute_input": "2023-04-25T15:31:22.066075Z",
          "iopub.status.busy": "2023-04-25T15:31:22.065766Z",
          "iopub.status.idle": "2023-04-25T15:31:22.073838Z",
          "shell.execute_reply": "2023-04-25T15:31:22.073500Z"
        }
      },
      "outputs": [
        {
          "name": "stdout",
          "output_type": "stream",
          "text": [
            "            | time                | ip_address    | count\n",
            "^QNS6146... | 2018-12-25T10:30:00 | 50.37.169.241 | 7\n"
          ]
        }
      ],
      "source": [
        "suspicious_logins = logins_counted.filter(pw.this.count >= 5)\n",
        "pw.debug.compute_and_print(suspicious_logins)"
      ]
    }
  ],
  "metadata": {
    "kernelspec": {
      "display_name": "Python 3 (ipykernel)",
      "language": "python",
      "name": "python3"
    },
    "language_info": {
      "codemirror_mode": {
        "name": "ipython",
        "version": 3
      },
      "file_extension": ".py",
      "mimetype": "text/x-python",
      "name": "python",
      "nbconvert_exporter": "python",
      "pygments_lexer": "ipython3",
      "version": "3.10.8"
    }
  },
  "nbformat": 4,
  "nbformat_minor": 5
}