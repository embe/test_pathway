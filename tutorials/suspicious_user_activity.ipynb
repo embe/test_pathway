{
  "cells": [
    {
      "cell_type": "markdown",
      "metadata": {
        "id": "view-in-colab"
      },
      "source": [
        "<a href=\"https://colab.research.google.com/github/pathwaycom/pathway-examples/blob/main/tutorials/suspicious_user_activity.ipynb\" target=\"_parent\"><img src=\"https://pathway.com/assets/colab-badge.svg\" alt=\"Run In Colab\" class=\"inline\"/></a>"
      ]
    },
    {
      "cell_type": "markdown",
      "source": [
        "# Installing Pathway with Python 3.8+\n",
        "\n",
        "In the cell below, we install Pathway into a Python 3.8+ Linux runtime.\n",
        "\n",
        "> **If you are running in Google Colab, please run the colab notebook (Ctrl+F9)**, disregarding the 'not authored by Google' warning.\n",
        "> \n",
        "> **The installation and loading time is less than 1 minute**.\n"
      ],
      "metadata": {
        "id": "notebook-instructions"
      }
    },
    {
      "cell_type": "code",
      "source": [
        "%%capture --no-display\n",
        "!pip install --extra-index-url https://packages.pathway.com/966431ef6ba pathway"
      ],
      "metadata": {
        "id": "pip-installation-pathway",
        "cellView": "form"
      },
      "execution_count": null,
      "outputs": []
    },
    {
      "cell_type": "markdown",
      "id": "f78d19cf",
      "metadata": {
        "lines_to_next_cell": 0,
        "tags": []
      },
      "source": [
        "# Detecting suspicious user activity with Tumbling Window group-by\n",
        "\n",
        "In this tutorial you will learn how to perform a [tumbling window](/glossary/tumbling-window) operation to detect suspicious activity.\n",
        "\n",
        "Your task is to detect suspicious user login attempts during some period of time.\n",
        "You have a record of login data. Your goal is to detect suspicious users who have logged in more than 5 times in a single minute.\n",
        "\n",
        "To do this, you will be using the `windowby` syntax with a `pw.temporal.tumbling()` object. Let's jump in!\n",
        "\n",
        "Your input data table has the following columns:\n",
        "* `username`,\n",
        "* whether the login was `successful`,\n",
        "* `time` of a login attempt,\n",
        "* `ip_address` of a login.\n",
        "\n",
        "\n",
        "Let's start by ingesting the data:\n",
        "\n",
        "\n",
        "First ingest the data."
      ]
    },
    {
      "cell_type": "code",
      "execution_count": 1,
      "id": "8549d229",
      "metadata": {
        "execution": {
          "iopub.execute_input": "2023-06-22T12:43:09.620316Z",
          "iopub.status.busy": "2023-06-22T12:43:09.620220Z",
          "iopub.status.idle": "2023-06-22T12:43:09.622037Z",
          "shell.execute_reply": "2023-06-22T12:43:09.621793Z"
        }
      },
      "outputs": [],
      "source": [
        "# Uncomment to download the required files.\n",
        "# %%capture --no-display\n",
        "# !wget https://public-pathway-releases.s3.eu-central-1.amazonaws.com/data/suspicious_users_tutorial_logins.csv -O logins.csv"
      ]
    },
    {
      "cell_type": "code",
      "execution_count": 2,
      "id": "df807a63",
      "metadata": {
        "execution": {
          "iopub.execute_input": "2023-06-22T12:43:09.623305Z",
          "iopub.status.busy": "2023-06-22T12:43:09.623096Z",
          "iopub.status.idle": "2023-06-22T12:43:10.993862Z",
          "shell.execute_reply": "2023-06-22T12:43:10.993466Z"
        }
      },
      "outputs": [],
      "source": [
        "import pathway as pw\n",
        "\n",
        "logins = pw.io.csv.read(\n",
        "    \"logins.csv\",\n",
        "    value_columns=[\"username\", \"successful\", \"time\", \"ip_address\"],\n",
        "    mode=\"static\",\n",
        "    types={\"time\": pw.Type.INT, \"successful\": pw.Type.STRING},\n",
        ")"
      ]
    },
    {
      "cell_type": "markdown",
      "id": "d522b0d5",
      "metadata": {},
      "source": [
        "The CSV data has the string values \"True\" and \"False\" in the `successful` column.\n",
        "\n",
        "Let's convert this to a Boolean column:"
      ]
    },
    {
      "cell_type": "code",
      "execution_count": 3,
      "id": "302ce3af",
      "metadata": {
        "execution": {
          "iopub.execute_input": "2023-06-22T12:43:10.995948Z",
          "iopub.status.busy": "2023-06-22T12:43:10.995689Z",
          "iopub.status.idle": "2023-06-22T12:43:11.004241Z",
          "shell.execute_reply": "2023-06-22T12:43:11.003906Z"
        }
      },
      "outputs": [],
      "source": [
        "logins = logins.with_columns(successful=(pw.this.successful == \"True\"))"
      ]
    },
    {
      "cell_type": "markdown",
      "id": "09938d23",
      "metadata": {},
      "source": [
        "Then, let's filter attempts and keep only the unsuccessful ones."
      ]
    },
    {
      "cell_type": "code",
      "execution_count": 4,
      "id": "34fc5ab4",
      "metadata": {
        "execution": {
          "iopub.execute_input": "2023-06-22T12:43:11.005885Z",
          "iopub.status.busy": "2023-06-22T12:43:11.005649Z",
          "iopub.status.idle": "2023-06-22T12:43:11.010108Z",
          "shell.execute_reply": "2023-06-22T12:43:11.009746Z"
        }
      },
      "outputs": [],
      "source": [
        "failed = logins.filter(~pw.this.successful)"
      ]
    },
    {
      "cell_type": "markdown",
      "id": "f50943a3",
      "metadata": {},
      "source": [
        "Now, perform a tumbling window operation with a duration of 60 (i.e. 1 minute).\n",
        "\n",
        "Use the `shard` keyword to separate rows by the `ip_address` value."
      ]
    },
    {
      "cell_type": "code",
      "execution_count": 5,
      "id": "00097f74",
      "metadata": {
        "execution": {
          "iopub.execute_input": "2023-06-22T12:43:11.011667Z",
          "iopub.status.busy": "2023-06-22T12:43:11.011473Z",
          "iopub.status.idle": "2023-06-22T12:43:11.057575Z",
          "shell.execute_reply": "2023-06-22T12:43:11.057321Z"
        }
      },
      "outputs": [],
      "source": [
        "result = failed.windowby(\n",
        "    failed.time, window=pw.temporal.tumbling(duration=60), shard=pw.this.ip_address\n",
        ").reduce(\n",
        "    ip_address=pw.this._pw_shard,\n",
        "    count=pw.reducers.count(pw.this.time),\n",
        ")"
      ]
    },
    {
      "cell_type": "markdown",
      "id": "1dbb0405",
      "metadata": {
        "lines_to_next_cell": 0
      },
      "source": [
        "...and finally, let's keep only the IP addresses where the number of failed logins exceeded the threshold (5):"
      ]
    },
    {
      "cell_type": "code",
      "execution_count": 6,
      "id": "b9e439b2",
      "metadata": {
        "execution": {
          "iopub.execute_input": "2023-06-22T12:43:11.059018Z",
          "iopub.status.busy": "2023-06-22T12:43:11.058913Z",
          "iopub.status.idle": "2023-06-22T12:43:11.069925Z",
          "shell.execute_reply": "2023-06-22T12:43:11.069670Z"
        }
      },
      "outputs": [
        {
          "name": "stderr",
          "output_type": "stream",
          "text": [
            "[2023-06-22T14:43:11]:INFO:0 entries (1 minibatch(es)) had been sent to the engine\n",
            "[2023-06-22T14:43:11]:INFO:30 entries (1 minibatch(es)) had been sent to the engine\n",
            "[2023-06-22T14:43:11]:WARNING:Closing the data source\n"
          ]
        },
        {
          "name": "stdout",
          "output_type": "stream",
          "text": [
            "            | ip_address    | count\n",
            "^PF26QQS... | 50.37.169.241 | 7\n"
          ]
        }
      ],
      "source": [
        "suspicious_logins = result.filter(pw.this.count >= 5)\n",
        "pw.debug.compute_and_print(suspicious_logins)"
      ]
    },
    {
      "cell_type": "markdown",
      "id": "755e7d21",
      "metadata": {},
      "source": [
        "And that's it! You have used a tumbling window operation to identify suspicious user activity and can now act on this information to increase the security of your platform.\n",
        "\n",
        "Reach out to us on [Discord](https://discord.gg/pathway) if you'd like to discuss [real time anomaly detection](/glossary/real-time-anomaly-detection) use cases like this one in more detail!"
      ]
    }
  ],
  "metadata": {
    "kernelspec": {
      "display_name": "Python 3 (ipykernel)",
      "language": "python",
      "name": "python3"
    },
    "language_info": {
      "codemirror_mode": {
        "name": "ipython",
        "version": 3
      },
      "file_extension": ".py",
      "mimetype": "text/x-python",
      "name": "python",
      "nbconvert_exporter": "python",
      "pygments_lexer": "ipython3",
      "version": "3.10.8"
    }
  },
  "nbformat": 4,
  "nbformat_minor": 5
}