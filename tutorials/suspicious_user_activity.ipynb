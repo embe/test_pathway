{
  "cells": [
    {
      "cell_type": "markdown",
      "metadata": {
        "id": "view-in-colab"
      },
      "source": [
        "<a href=\"https://colab.research.google.com/github/pathwaycom/pathway-examples/blob/main/tutorials/suspicious_user_activity.ipynb\" target=\"_parent\"><img src=\"https://pathway.com/assets/colab-badge.svg\" alt=\"Run In Colab\" class=\"inline\"/></a>"
      ]
    },
    {
      "cell_type": "markdown",
      "source": [
        "# Installing Pathway with Python 3.8+\n",
        "\n",
        "In the cell below, we install Pathway into a Python 3.8+ Linux runtime.\n",
        "\n",
        "> **If you are running in Google Colab, please run the colab notebook (Ctrl+F9)**, disregarding the 'not authored by Google' warning.\n",
        "> \n",
        "> **The installation and loading time is less than 1 minute**.\n"
      ],
      "metadata": {
        "id": "notebook-instructions"
      }
    },
    {
      "cell_type": "code",
      "source": [
        "%%capture --no-display\n",
        "!pip install --extra-index-url https://packages.pathway.com/966431ef6ba pathway"
      ],
      "metadata": {
        "id": "pip-installation-pathway",
        "cellView": "form"
      },
      "execution_count": null,
      "outputs": []
    },
    {
      "cell_type": "markdown",
      "id": "9ca33541",
      "metadata": {
        "lines_to_next_cell": 0,
        "tags": []
      },
      "source": [
        "# Detecting suspicious user activity with Tumbling Window group-by\n",
        "\n",
        "Your task is to detect suspicious user login attempts during some period of time.\n",
        "The main ingredient used is grouping over a tumbling window.\n",
        "\n",
        "You have an input data table with following columns:\n",
        "* `username`,\n",
        "* whether the login was `successful`,\n",
        "* `time` of a login attempt,\n",
        "* `ip_address` of a login.\n",
        "\n",
        "\n",
        "First ingest the data."
      ]
    },
    {
      "cell_type": "code",
      "execution_count": 1,
      "id": "96cd0b05",
      "metadata": {
        "execution": {
          "iopub.execute_input": "2023-04-17T10:04:41.360927Z",
          "iopub.status.busy": "2023-04-17T10:04:41.360800Z",
          "iopub.status.idle": "2023-04-17T10:04:41.363176Z",
          "shell.execute_reply": "2023-04-17T10:04:41.362811Z"
        }
      },
      "outputs": [],
      "source": [
        "# Uncomment to download the required files.\n",
        "# %%capture --no-display\n",
        "# !wget https://public-pathway-releases.s3.eu-central-1.amazonaws.com/data/suspicious_users_tutorial_logins.csv -O logins.csv"
      ]
    },
    {
      "cell_type": "code",
      "execution_count": 2,
      "id": "1eeecb60",
      "metadata": {
        "execution": {
          "iopub.execute_input": "2023-04-17T10:04:41.364962Z",
          "iopub.status.busy": "2023-04-17T10:04:41.364696Z",
          "iopub.status.idle": "2023-04-17T10:04:42.563309Z",
          "shell.execute_reply": "2023-04-17T10:04:42.562769Z"
        }
      },
      "outputs": [],
      "source": [
        "from datetime import datetime\n",
        "\n",
        "import pathway as pw\n",
        "\n",
        "logins = pw.io.csv.read(\n",
        "    \"logins.csv\",\n",
        "    value_columns=[\"username\", \"successful\", \"time\", \"ip_address\"],\n",
        "    mode=\"static\",\n",
        ")"
      ]
    },
    {
      "cell_type": "code",
      "execution_count": 3,
      "id": "014b6d16",
      "metadata": {
        "execution": {
          "iopub.execute_input": "2023-04-17T10:04:42.565736Z",
          "iopub.status.busy": "2023-04-17T10:04:42.565501Z",
          "iopub.status.idle": "2023-04-17T10:04:42.570184Z",
          "shell.execute_reply": "2023-04-17T10:04:42.569807Z"
        }
      },
      "outputs": [],
      "source": [
        "logins = logins.update_columns(successful=(pw.this.successful == \"True\"))"
      ]
    },
    {
      "cell_type": "markdown",
      "id": "8a1c6205",
      "metadata": {},
      "source": [
        "Then filter attempts and keep only the unsuccessful ones."
      ]
    },
    {
      "cell_type": "code",
      "execution_count": 4,
      "id": "25e774fe",
      "metadata": {
        "execution": {
          "iopub.execute_input": "2023-04-17T10:04:42.572273Z",
          "iopub.status.busy": "2023-04-17T10:04:42.571929Z",
          "iopub.status.idle": "2023-04-17T10:04:42.574759Z",
          "shell.execute_reply": "2023-04-17T10:04:42.574389Z"
        }
      },
      "outputs": [],
      "source": [
        "processed = logins.filter(~pw.this.successful)"
      ]
    },
    {
      "cell_type": "markdown",
      "id": "40c7b60c",
      "metadata": {},
      "source": [
        "Now, group remaining attempts by login `time` and `ip_address` (ignoring seconds in `time` of login)."
      ]
    },
    {
      "cell_type": "code",
      "execution_count": 5,
      "id": "8d0ca2eb",
      "metadata": {
        "execution": {
          "iopub.execute_input": "2023-04-17T10:04:42.576772Z",
          "iopub.status.busy": "2023-04-17T10:04:42.576414Z",
          "iopub.status.idle": "2023-04-17T10:04:42.579935Z",
          "shell.execute_reply": "2023-04-17T10:04:42.579558Z"
        }
      },
      "outputs": [],
      "source": [
        "by_minutes = processed.select(\n",
        "    pw.this.ip_address,\n",
        "    time=pw.apply(\n",
        "        lambda timestamp_str: (datetime.fromtimestamp(int(timestamp_str)).isoformat())[\n",
        "            :-2\n",
        "        ]\n",
        "        + \"00\",\n",
        "        pw.this.time,\n",
        "    ),\n",
        ")\n",
        "grouped_by_minutes = by_minutes.groupby(pw.this.time, pw.this.ip_address)"
      ]
    },
    {
      "cell_type": "markdown",
      "id": "0871ead2",
      "metadata": {
        "lines_to_next_cell": 0
      },
      "source": [
        "The next step is to count the logins..."
      ]
    },
    {
      "cell_type": "code",
      "execution_count": 6,
      "id": "b077a1d7",
      "metadata": {
        "execution": {
          "iopub.execute_input": "2023-04-17T10:04:42.581600Z",
          "iopub.status.busy": "2023-04-17T10:04:42.581345Z",
          "iopub.status.idle": "2023-04-17T10:04:42.584247Z",
          "shell.execute_reply": "2023-04-17T10:04:42.583883Z"
        },
        "lines_to_next_cell": 0
      },
      "outputs": [],
      "source": [
        "logins_counted = grouped_by_minutes.reduce(\n",
        "    by_minutes.time, by_minutes.ip_address, count=pw.reducers.count(by_minutes.id)\n",
        ")"
      ]
    },
    {
      "cell_type": "markdown",
      "id": "4db2ff6f",
      "metadata": {
        "lines_to_next_cell": 0
      },
      "source": [
        "...and to keep only incidents where the number of failed logins exceeded the threshold."
      ]
    },
    {
      "cell_type": "code",
      "execution_count": 7,
      "id": "06d19c22",
      "metadata": {
        "execution": {
          "iopub.execute_input": "2023-04-17T10:04:42.585995Z",
          "iopub.status.busy": "2023-04-17T10:04:42.585630Z",
          "iopub.status.idle": "2023-04-17T10:04:42.594397Z",
          "shell.execute_reply": "2023-04-17T10:04:42.593975Z"
        }
      },
      "outputs": [
        {
          "name": "stdout",
          "output_type": "stream",
          "text": [
            "            | time                | ip_address    | count\n",
            "^QNS6146... | 2018-12-25T10:30:00 | 50.37.169.241 | 7\n"
          ]
        }
      ],
      "source": [
        "suspicious_logins = logins_counted.filter(pw.this.count >= 5)\n",
        "pw.debug.compute_and_print(suspicious_logins)"
      ]
    }
  ],
  "metadata": {
    "kernelspec": {
      "display_name": "Python 3 (ipykernel)",
      "language": "python",
      "name": "python3"
    },
    "language_info": {
      "codemirror_mode": {
        "name": "ipython",
        "version": 3
      },
      "file_extension": ".py",
      "mimetype": "text/x-python",
      "name": "python",
      "nbconvert_exporter": "python",
      "pygments_lexer": "ipython3",
      "version": "3.10.8"
    }
  },
  "nbformat": 4,
  "nbformat_minor": 5
}