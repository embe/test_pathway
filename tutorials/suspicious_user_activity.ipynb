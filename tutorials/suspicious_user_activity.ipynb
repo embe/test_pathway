{
  "cells": [
    {
      "cell_type": "markdown",
      "metadata": {
        "id": "view-in-colab"
      },
      "source": [
        "<a href=\"https://colab.research.google.com/github/pathwaycom/pathway-examples/blob/main/tutorials/suspicious_user_activity.ipynb\" target=\"_parent\"><img src=\"https://pathway.com/assets/colab-badge.svg\" alt=\"Run In Colab\" class=\"inline\"/></a>"
      ]
    },
    {
      "cell_type": "markdown",
      "source": [
        "# Installing Pathway with Python 3.8+\n",
        "\n",
        "In the cell below, we install Pathway into a Python 3.8+ Linux runtime.\n",
        "\n",
        "> **If you are running in Google Colab, please run the colab notebook (Ctrl+F9)**, disregarding the 'not authored by Google' warning.\n",
        "> \n",
        "> **The installation and loading time is less than 1 minute**.\n"
      ],
      "metadata": {
        "id": "notebook-instructions"
      }
    },
    {
      "cell_type": "code",
      "source": [
        "%%capture --no-display\n",
        "!pip install --extra-index-url https://packages.pathway.com/966431ef6ba pathway"
      ],
      "metadata": {
        "id": "pip-installation-pathway",
        "cellView": "form"
      },
      "execution_count": null,
      "outputs": []
    },
    {
      "cell_type": "markdown",
      "id": "4c696707",
      "metadata": {
        "lines_to_next_cell": 0,
        "tags": []
      },
      "source": [
        "# Detecting suspicious user activity with Tumbling Window group-by\n",
        "\n",
        "Your task is to detect suspicious user login attempts during some period of time.\n",
        "The main ingredient used is grouping over a tumbling window.\n",
        "\n",
        "You have an input data table with following columns:\n",
        "* `username`,\n",
        "* whether the login was `successful`,\n",
        "* `time` of a login attempt,\n",
        "* `ip_address` of a login.\n",
        "\n",
        "\n",
        "First ingest the data."
      ]
    },
    {
      "cell_type": "code",
      "execution_count": 1,
      "id": "f583630d",
      "metadata": {
        "execution": {
          "iopub.execute_input": "2023-03-30T11:52:47.678926Z",
          "iopub.status.busy": "2023-03-30T11:52:47.678798Z",
          "iopub.status.idle": "2023-03-30T11:52:47.680532Z",
          "shell.execute_reply": "2023-03-30T11:52:47.680301Z"
        }
      },
      "outputs": [],
      "source": [
        "# Uncomment to download the required files.\n",
        "# %%capture --no-display\n",
        "# !wget https://public-pathway-releases.s3.eu-central-1.amazonaws.com/data/suspicious_users_tutorial_logins.csv -O logins.csv"
      ]
    },
    {
      "cell_type": "code",
      "execution_count": 2,
      "id": "8882ac02",
      "metadata": {
        "execution": {
          "iopub.execute_input": "2023-03-30T11:52:47.681697Z",
          "iopub.status.busy": "2023-03-30T11:52:47.681501Z",
          "iopub.status.idle": "2023-03-30T11:52:48.962877Z",
          "shell.execute_reply": "2023-03-30T11:52:48.962412Z"
        }
      },
      "outputs": [],
      "source": [
        "from datetime import datetime\n",
        "\n",
        "import pathway as pw\n",
        "\n",
        "logins = pw.csv.read(\"logins.csv\", value_columns=[\"username\", \"successful\", \"time\", \"ip_address\"])"
      ]
    },
    {
      "cell_type": "code",
      "execution_count": 3,
      "id": "14d5fbd6",
      "metadata": {
        "execution": {
          "iopub.execute_input": "2023-03-30T11:52:48.964849Z",
          "iopub.status.busy": "2023-03-30T11:52:48.964698Z",
          "iopub.status.idle": "2023-03-30T11:52:48.968846Z",
          "shell.execute_reply": "2023-03-30T11:52:48.968536Z"
        }
      },
      "outputs": [],
      "source": [
        "logins = logins.select(\n",
        "    *pw.this.without(pw.this.successful),\n",
        "    successful=(pw.this.successful==\"True\")\n",
        ")"
      ]
    },
    {
      "cell_type": "code",
      "execution_count": 4,
      "id": "a1abbfeb",
      "metadata": {
        "execution": {
          "iopub.execute_input": "2023-03-30T11:52:48.970393Z",
          "iopub.status.busy": "2023-03-30T11:52:48.970162Z",
          "iopub.status.idle": "2023-03-30T11:52:48.972783Z",
          "shell.execute_reply": "2023-03-30T11:52:48.972499Z"
        }
      },
      "outputs": [],
      "source": [
        "logins = logins.select(\n",
        "    *pw.this.without(pw.this.successful),\n",
        "    successful=pw.declare_type(bool, pw.this.successful),\n",
        ")"
      ]
    },
    {
      "cell_type": "markdown",
      "id": "4b225b3e",
      "metadata": {},
      "source": [
        "Then filter attempts and keep only the unsuccessful ones."
      ]
    },
    {
      "cell_type": "code",
      "execution_count": 5,
      "id": "ac282d0c",
      "metadata": {
        "execution": {
          "iopub.execute_input": "2023-03-30T11:52:48.974338Z",
          "iopub.status.busy": "2023-03-30T11:52:48.974059Z",
          "iopub.status.idle": "2023-03-30T11:52:48.976311Z",
          "shell.execute_reply": "2023-03-30T11:52:48.976023Z"
        }
      },
      "outputs": [],
      "source": [
        "processed = logins.filter(~pw.this.successful)"
      ]
    },
    {
      "cell_type": "markdown",
      "id": "f9051e17",
      "metadata": {},
      "source": [
        "Now, group remaining attempts by login `time` and `ip_address` (ignoring seconds in `time` of login)."
      ]
    },
    {
      "cell_type": "code",
      "execution_count": 6,
      "id": "627910dc",
      "metadata": {
        "execution": {
          "iopub.execute_input": "2023-03-30T11:52:48.977679Z",
          "iopub.status.busy": "2023-03-30T11:52:48.977472Z",
          "iopub.status.idle": "2023-03-30T11:52:48.980189Z",
          "shell.execute_reply": "2023-03-30T11:52:48.979897Z"
        }
      },
      "outputs": [],
      "source": [
        "by_minutes = processed.select(\n",
        "    pw.this.ip_address,\n",
        "    time=pw.apply(\n",
        "        lambda timestamp_str: (datetime.fromtimestamp(int(timestamp_str)).isoformat())[:-2]+\"00\",\n",
        "        pw.this.time)\n",
        ")\n",
        "grouped_by_minutes = by_minutes.groupby(pw.this.time, pw.this.ip_address)"
      ]
    },
    {
      "cell_type": "markdown",
      "id": "1ccf0e9c",
      "metadata": {
        "lines_to_next_cell": 0
      },
      "source": [
        "The next step is to count the logins..."
      ]
    },
    {
      "cell_type": "code",
      "execution_count": 7,
      "id": "917d02e7",
      "metadata": {
        "execution": {
          "iopub.execute_input": "2023-03-30T11:52:48.981625Z",
          "iopub.status.busy": "2023-03-30T11:52:48.981410Z",
          "iopub.status.idle": "2023-03-30T11:52:48.983766Z",
          "shell.execute_reply": "2023-03-30T11:52:48.983484Z"
        },
        "lines_to_next_cell": 0
      },
      "outputs": [],
      "source": [
        "logins_counted = grouped_by_minutes.reduce(\n",
        "    by_minutes.time, by_minutes.ip_address, count=pw.reducers.count(by_minutes.id)\n",
        ")"
      ]
    },
    {
      "cell_type": "markdown",
      "id": "509fd218",
      "metadata": {
        "lines_to_next_cell": 0
      },
      "source": [
        "...and to keep only incidents where the number of failed logins exceeded the threshold."
      ]
    },
    {
      "cell_type": "code",
      "execution_count": 8,
      "id": "b21461f8",
      "metadata": {
        "execution": {
          "iopub.execute_input": "2023-03-30T11:52:48.985167Z",
          "iopub.status.busy": "2023-03-30T11:52:48.984941Z",
          "iopub.status.idle": "2023-03-30T11:52:48.990707Z",
          "shell.execute_reply": "2023-03-30T11:52:48.990392Z"
        }
      },
      "outputs": [
        {
          "name": "stdout",
          "output_type": "stream",
          "text": [
            "            | time                | ip_address    | count\n",
            "^QGJQT5M... | 2018-12-25T10:30:00 | 50.37.169.241 | 7\n"
          ]
        }
      ],
      "source": [
        "suspicious_logins = logins_counted.filter(pw.this.count >= 5)\n",
        "pw.debug.compute_and_print(suspicious_logins)"
      ]
    }
  ],
  "metadata": {
    "kernelspec": {
      "display_name": "Python 3 (ipykernel)",
      "language": "python",
      "name": "python3"
    },
    "language_info": {
      "codemirror_mode": {
        "name": "ipython",
        "version": 3
      },
      "file_extension": ".py",
      "mimetype": "text/x-python",
      "name": "python",
      "nbconvert_exporter": "python",
      "pygments_lexer": "ipython3",
      "version": "3.10.8"
    }
  },
  "nbformat": 4,
  "nbformat_minor": 5
}