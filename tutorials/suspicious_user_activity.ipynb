{
  "cells": [
    {
      "cell_type": "markdown",
      "metadata": {
        "id": "view-in-colab"
      },
      "source": [
        "<a href=\"https://colab.research.google.com/github/pathwaycom/pathway-examples/blob/main/tutorials/suspicious_user_activity.ipynb\" target=\"_parent\"><img src=\"https://pathway.com/assets/colab-badge.svg\" alt=\"Run In Colab\" class=\"inline\"/></a>"
      ]
    },
    {
      "cell_type": "markdown",
      "source": [
        "# [Colab-specific instructions] Installing Pathway with Python 3.8+\n",
        "\n",
        "> In the cell below we install pathway into a Python 3.8+ Linux runtime.\n",
        "> \n",
        "> **Please run the colab notebook (Ctrl+F9)**, disregarding the 'not authored by Google' warning. **The installation and loading time is less than 1 minute**.\n"
      ],
      "metadata": {
        "id": "notebook-instructions"
      }
    },
    {
      "cell_type": "code",
      "source": [
        "#@title \u2699\ufe0f Pathway installer. Please run to install Pathway.\n",
        "class InterruptExecution(Exception):\n",
        "    def _render_traceback_(self):\n",
        "        pass\n",
        "\n",
        "DO_INSTALL = False\n",
        "import sys\n",
        "if sys.version_info >= (3, 8):\n",
        "    print(f'\u2705 Python {sys.version} is active.')\n",
        "    try:\n",
        "        import pathway as pw\n",
        "        print('\u2705 Pathway successfully imported.')\n",
        "    except:\n",
        "        DO_INSTALL = True\n",
        "else:\n",
        "    print(\"\u26d4 Pathway requires Python 3.8 or higher.\")\n",
        "    raise InterruptExecution\n",
        "\n",
        "PATHWAY_INSTALL_LINK = 'https://packages.pathway.com/966431ef6ba'\n",
        "if DO_INSTALL:\n",
        "    !ls $(dirname $(which python))/../lib/python*/*-packages/pathway 1>/dev/null 2>/dev/null || echo \"\u231b Installing Pathway. This usually takes a few seconds...\"\n",
        "    !ls $(dirname $(which python))/../lib/python*/*-packages/pathway 1>/dev/null 2>/dev/null || pip install --extra-index-url {PATHWAY_INSTALL_LINK} pathway 1>/dev/null 2>/dev/null\n",
        "    !ls $(dirname $(which python))/../lib/python*/*-packages/pathway 1>/dev/null 2>/dev/null || echo \"\u26d4 Installation failed. Don't be shy to reach out to the community at https://pathway.com !\"\n",
        "    !ls $(dirname $(which python))/../lib/python*/*-packages/pathway 1>/dev/null 2>/dev/null && echo \"\u2705 All installed. Enjoy Pathway!\"\n"
      ],
      "metadata": {
        "id": "pip-installation-pathway",
        "cellView": "form"
      },
      "execution_count": null,
      "outputs": []
    },
    {
      "cell_type": "markdown",
      "id": "8f540ee8",
      "metadata": {
        "lines_to_next_cell": 0,
        "tags": []
      },
      "source": [
        "# Detecting suspicious user activity with Tumbling Window group-by\n",
        "\n",
        "Your task is to detect suspicious user login attempts during some period of time.\n",
        "The main ingredient used is grouping over a tumbling window.\n",
        "\n",
        "You have an input data table with following columns:\n",
        "* `username`,\n",
        "* whether the login was `successful`,\n",
        "* `time` of a login attempt,\n",
        "* `ip_address` of a login.\n",
        "\n",
        "\n",
        "First ingest the data."
      ]
    },
    {
      "cell_type": "code",
      "execution_count": 1,
      "id": "d4ad5794",
      "metadata": {
        "execution": {
          "iopub.execute_input": "2023-03-01T10:43:21.937962Z",
          "iopub.status.busy": "2023-03-01T10:43:21.937840Z",
          "iopub.status.idle": "2023-03-01T10:43:21.939976Z",
          "shell.execute_reply": "2023-03-01T10:43:21.939701Z"
        }
      },
      "outputs": [],
      "source": [
        "# Uncomment to download the required files.\n",
        "# %%capture --no-display\n",
        "# !wget https://public-pathway-releases.s3.eu-central-1.amazonaws.com/data/suspicious_users_tutorial_logins.csv -O logins.csv"
      ]
    },
    {
      "cell_type": "code",
      "execution_count": 2,
      "id": "4fa5e41c",
      "metadata": {
        "execution": {
          "iopub.execute_input": "2023-03-01T10:43:21.941572Z",
          "iopub.status.busy": "2023-03-01T10:43:21.941290Z",
          "iopub.status.idle": "2023-03-01T10:43:22.933115Z",
          "shell.execute_reply": "2023-03-01T10:43:22.932547Z"
        }
      },
      "outputs": [],
      "source": [
        "from datetime import datetime\n",
        "\n",
        "import pathway as pw\n",
        "\n",
        "logins = pw.csv.read(\"logins.csv\", value_columns=[\"username\", \"successful\", \"time\", \"ip_address\"])"
      ]
    },
    {
      "cell_type": "code",
      "execution_count": 3,
      "id": "72773234",
      "metadata": {
        "execution": {
          "iopub.execute_input": "2023-03-01T10:43:22.935372Z",
          "iopub.status.busy": "2023-03-01T10:43:22.935118Z",
          "iopub.status.idle": "2023-03-01T10:43:22.991645Z",
          "shell.execute_reply": "2023-03-01T10:43:22.991215Z"
        }
      },
      "outputs": [],
      "source": [
        "logins = logins.select(\n",
        "    *pw.this.without(pw.this.successful),\n",
        "    successful=(pw.this.successful==\"True\")\n",
        ")"
      ]
    },
    {
      "cell_type": "code",
      "execution_count": 4,
      "id": "d19dc06f",
      "metadata": {
        "execution": {
          "iopub.execute_input": "2023-03-01T10:43:22.993818Z",
          "iopub.status.busy": "2023-03-01T10:43:22.993469Z",
          "iopub.status.idle": "2023-03-01T10:43:22.996600Z",
          "shell.execute_reply": "2023-03-01T10:43:22.996238Z"
        }
      },
      "outputs": [],
      "source": [
        "logins = logins.select(\n",
        "    *pw.this.without(pw.this.successful),\n",
        "    successful=pw.cast(bool, pw.this.successful),\n",
        ")"
      ]
    },
    {
      "cell_type": "markdown",
      "id": "7f739ce1",
      "metadata": {},
      "source": [
        "Then filter attempts and keep only the unsuccessful ones."
      ]
    },
    {
      "cell_type": "code",
      "execution_count": 5,
      "id": "002e5bc7",
      "metadata": {
        "execution": {
          "iopub.execute_input": "2023-03-01T10:43:22.998449Z",
          "iopub.status.busy": "2023-03-01T10:43:22.998080Z",
          "iopub.status.idle": "2023-03-01T10:43:23.000882Z",
          "shell.execute_reply": "2023-03-01T10:43:23.000525Z"
        }
      },
      "outputs": [],
      "source": [
        "processed = logins.filter(~pw.this.successful)"
      ]
    },
    {
      "cell_type": "markdown",
      "id": "5e3c7973",
      "metadata": {},
      "source": [
        "Now, group remaining attempts by login `time` and `ip_address` (ignoring seconds in `time` of login)."
      ]
    },
    {
      "cell_type": "code",
      "execution_count": 6,
      "id": "29b54df1",
      "metadata": {
        "execution": {
          "iopub.execute_input": "2023-03-01T10:43:23.003146Z",
          "iopub.status.busy": "2023-03-01T10:43:23.002871Z",
          "iopub.status.idle": "2023-03-01T10:43:23.006059Z",
          "shell.execute_reply": "2023-03-01T10:43:23.005696Z"
        }
      },
      "outputs": [],
      "source": [
        "by_minutes = processed.select(\n",
        "    pw.this.ip_address,\n",
        "    time=pw.apply(\n",
        "        lambda timestamp_str: (datetime.fromtimestamp(int(timestamp_str)).isoformat())[:-2]+\"00\",\n",
        "        pw.this.time)\n",
        ")\n",
        "grouped_by_minutes = by_minutes.groupby(pw.this.time, pw.this.ip_address)"
      ]
    },
    {
      "cell_type": "markdown",
      "id": "aae9514c",
      "metadata": {
        "lines_to_next_cell": 0
      },
      "source": [
        "The next step is to count the logins..."
      ]
    },
    {
      "cell_type": "code",
      "execution_count": 7,
      "id": "db00d3dc",
      "metadata": {
        "execution": {
          "iopub.execute_input": "2023-03-01T10:43:23.007772Z",
          "iopub.status.busy": "2023-03-01T10:43:23.007496Z",
          "iopub.status.idle": "2023-03-01T10:43:23.010297Z",
          "shell.execute_reply": "2023-03-01T10:43:23.009932Z"
        },
        "lines_to_next_cell": 0
      },
      "outputs": [],
      "source": [
        "logins_counted = grouped_by_minutes.reduce(\n",
        "    by_minutes.time, by_minutes.ip_address, count=pw.reducers.count(by_minutes.id)\n",
        ")"
      ]
    },
    {
      "cell_type": "markdown",
      "id": "331c6c6d",
      "metadata": {
        "lines_to_next_cell": 0
      },
      "source": [
        "...and to keep only incidents where the number of failed logins exceeded the threshold."
      ]
    },
    {
      "cell_type": "code",
      "execution_count": 8,
      "id": "9660767f",
      "metadata": {
        "execution": {
          "iopub.execute_input": "2023-03-01T10:43:23.011978Z",
          "iopub.status.busy": "2023-03-01T10:43:23.011650Z",
          "iopub.status.idle": "2023-03-01T10:43:23.018856Z",
          "shell.execute_reply": "2023-03-01T10:43:23.018462Z"
        }
      },
      "outputs": [
        {
          "name": "stdout",
          "output_type": "stream",
          "text": [
            "            | time                | ip_address    | count\n",
            "^DKEYHS4... | 2018-12-25T10:30:00 | 50.37.169.241 | 7\n"
          ]
        }
      ],
      "source": [
        "suspicious_logins = logins_counted.filter(pw.this.count >= 5)\n",
        "pw.debug.compute_and_print(suspicious_logins)"
      ]
    }
  ],
  "metadata": {
    "kernelspec": {
      "display_name": "Python 3 (ipykernel)",
      "language": "python",
      "name": "python3"
    },
    "language_info": {
      "codemirror_mode": {
        "name": "ipython",
        "version": 3
      },
      "file_extension": ".py",
      "mimetype": "text/x-python",
      "name": "python",
      "nbconvert_exporter": "python",
      "pygments_lexer": "ipython3",
      "version": "3.10.8"
    }
  },
  "nbformat": 4,
  "nbformat_minor": 5
}