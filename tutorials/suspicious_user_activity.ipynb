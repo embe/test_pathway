{
  "cells": [
    {
      "cell_type": "markdown",
      "metadata": {
        "id": "view-in-colab"
      },
      "source": [
        "<a href=\"https://colab.research.google.com/github/pathwaycom/pathway-examples/blob/main/tutorials/suspicious_user_activity.ipynb\" target=\"_parent\"><img src=\"https://pathway.com/assets/colab-badge.svg\" alt=\"Run In Colab\" class=\"inline\"/></a>"
      ]
    },
    {
      "cell_type": "markdown",
      "source": [
        "# Installing Pathway with Python 3.8+\n",
        "\n",
        "In the cell below, we install Pathway into a Python 3.8+ Linux runtime.\n",
        "\n",
        "> **If you are running in Google Colab, please run the colab notebook (Ctrl+F9)**, disregarding the 'not authored by Google' warning.\n",
        "> \n",
        "> **The installation and loading time is less than 1 minute**.\n"
      ],
      "metadata": {
        "id": "notebook-instructions"
      }
    },
    {
      "cell_type": "code",
      "source": [
        "%%capture --no-display\n",
        "!pip install --extra-index-url https://packages.pathway.com/966431ef6ba pathway"
      ],
      "metadata": {
        "id": "pip-installation-pathway",
        "cellView": "form"
      },
      "execution_count": null,
      "outputs": []
    },
    {
      "cell_type": "markdown",
      "id": "0853e126",
      "metadata": {
        "lines_to_next_cell": 0,
        "tags": []
      },
      "source": [
        "# Detecting suspicious user activity with Tumbling Window group-by\n",
        "\n",
        "In this tutorial you will learn how to perform a [tumbling window](/glossary/tumbling-window) operation to detect suspicious activity.\n",
        "\n",
        "Your task is to detect suspicious user login attempts during some period of time.\n",
        "You have a record of login data. Your goal is to detect suspicious users who have logged in more than 5 times in a single minute.\n",
        "\n",
        "To do this, you will be using the `windowby` syntax with a `pw.window.tumbling()` object. Let's jump in!\n",
        "\n",
        "Your input data table has the following columns:\n",
        "* `username`,\n",
        "* whether the login was `successful`,\n",
        "* `time` of a login attempt,\n",
        "* `ip_address` of a login.\n",
        "\n",
        "\n",
        "Let's start by ingesting the data:\n",
        "\n",
        "\n",
        "First ingest the data."
      ]
    },
    {
      "cell_type": "code",
      "execution_count": 1,
      "id": "ba237cd5",
      "metadata": {
        "execution": {
          "iopub.execute_input": "2023-06-19T13:40:28.545226Z",
          "iopub.status.busy": "2023-06-19T13:40:28.544910Z",
          "iopub.status.idle": "2023-06-19T13:40:28.547177Z",
          "shell.execute_reply": "2023-06-19T13:40:28.546822Z"
        }
      },
      "outputs": [],
      "source": [
        "# Uncomment to download the required files.\n",
        "# %%capture --no-display\n",
        "# !wget https://public-pathway-releases.s3.eu-central-1.amazonaws.com/data/suspicious_users_tutorial_logins.csv -O logins.csv"
      ]
    },
    {
      "cell_type": "code",
      "execution_count": 2,
      "id": "83c2dd00",
      "metadata": {
        "execution": {
          "iopub.execute_input": "2023-06-19T13:40:28.548808Z",
          "iopub.status.busy": "2023-06-19T13:40:28.548552Z",
          "iopub.status.idle": "2023-06-19T13:40:29.784427Z",
          "shell.execute_reply": "2023-06-19T13:40:29.783898Z"
        }
      },
      "outputs": [],
      "source": [
        "import pathway as pw\n",
        "\n",
        "logins = pw.io.csv.read(\n",
        "    \"logins.csv\",\n",
        "    value_columns=[\"username\", \"successful\", \"time\", \"ip_address\"],\n",
        "    mode=\"static\",\n",
        "    types={\"time\": pw.Type.INT, \"successful\": pw.Type.STRING},\n",
        ")"
      ]
    },
    {
      "cell_type": "markdown",
      "id": "cde049c9",
      "metadata": {},
      "source": [
        "The CSV data has the string values \"True\" and \"False\" in the `successful` column.\n",
        "\n",
        "Let's convert this to a Boolean column:"
      ]
    },
    {
      "cell_type": "code",
      "execution_count": 3,
      "id": "d5688ab1",
      "metadata": {
        "execution": {
          "iopub.execute_input": "2023-06-19T13:40:29.787184Z",
          "iopub.status.busy": "2023-06-19T13:40:29.786978Z",
          "iopub.status.idle": "2023-06-19T13:40:29.797077Z",
          "shell.execute_reply": "2023-06-19T13:40:29.796675Z"
        }
      },
      "outputs": [],
      "source": [
        "logins = logins.with_columns(successful=(pw.this.successful == \"True\"))"
      ]
    },
    {
      "cell_type": "markdown",
      "id": "bd92f1e7",
      "metadata": {},
      "source": [
        "Then, let's filter attempts and keep only the unsuccessful ones."
      ]
    },
    {
      "cell_type": "code",
      "execution_count": 4,
      "id": "6462a02f",
      "metadata": {
        "execution": {
          "iopub.execute_input": "2023-06-19T13:40:29.799165Z",
          "iopub.status.busy": "2023-06-19T13:40:29.798812Z",
          "iopub.status.idle": "2023-06-19T13:40:29.804444Z",
          "shell.execute_reply": "2023-06-19T13:40:29.804079Z"
        }
      },
      "outputs": [],
      "source": [
        "failed = logins.filter(~pw.this.successful)"
      ]
    },
    {
      "cell_type": "markdown",
      "id": "8d8a062c",
      "metadata": {},
      "source": [
        "Now, perform a tumbling window operation with a duration of 60 (i.e. 1 minute).\n",
        "\n",
        "Use the `shard` keyword to separate rows by the `ip_address` value."
      ]
    },
    {
      "cell_type": "code",
      "execution_count": 5,
      "id": "004926bd",
      "metadata": {
        "execution": {
          "iopub.execute_input": "2023-06-19T13:40:29.806820Z",
          "iopub.status.busy": "2023-06-19T13:40:29.806539Z",
          "iopub.status.idle": "2023-06-19T13:40:29.865952Z",
          "shell.execute_reply": "2023-06-19T13:40:29.865516Z"
        }
      },
      "outputs": [],
      "source": [
        "result = failed.windowby(\n",
        "    failed.time, window=pw.window.tumbling(duration=60), shard=pw.this.ip_address\n",
        ").reduce(\n",
        "    ip_address=pw.this._pw_shard,\n",
        "    count=pw.reducers.count(pw.this.time),\n",
        ")"
      ]
    },
    {
      "cell_type": "markdown",
      "id": "dc306926",
      "metadata": {
        "lines_to_next_cell": 0
      },
      "source": [
        "...and finally, let's keep only the IP addresses where the number of failed logins exceeded the threshold (5):"
      ]
    },
    {
      "cell_type": "code",
      "execution_count": 6,
      "id": "4e1d1d96",
      "metadata": {
        "execution": {
          "iopub.execute_input": "2023-06-19T13:40:29.868075Z",
          "iopub.status.busy": "2023-06-19T13:40:29.867695Z",
          "iopub.status.idle": "2023-06-19T13:40:29.881350Z",
          "shell.execute_reply": "2023-06-19T13:40:29.880934Z"
        }
      },
      "outputs": [
        {
          "name": "stderr",
          "output_type": "stream",
          "text": [
            "2023-06-19T15:40:29.877541414+02:00: 0 entries (1 minibatch(es)) had been sent to the engine\n",
            "2023-06-19T15:40:29.877647449+02:00: 30 entries (1 minibatch(es)) had been sent to the engine\n",
            "Closing the data source\n"
          ]
        },
        {
          "name": "stdout",
          "output_type": "stream",
          "text": [
            "            | ip_address    | count\n",
            "^PF26QQS... | 50.37.169.241 | 7\n"
          ]
        }
      ],
      "source": [
        "suspicious_logins = result.filter(pw.this.count >= 5)\n",
        "pw.debug.compute_and_print(suspicious_logins)"
      ]
    },
    {
      "cell_type": "markdown",
      "id": "3d4dc183",
      "metadata": {},
      "source": [
        "And that's it! You have used a tumbling window operation to identify suspicious user activity and can now act on this information to increase the security of your platform.\n",
        "\n",
        "Reach out to us on [Discord](https://discord.gg/pathway) if you'd like to discuss [real time anomaly detection](/glossary/real-time-anomaly-detection) use cases like this one in more detail!"
      ]
    }
  ],
  "metadata": {
    "kernelspec": {
      "display_name": "Python 3 (ipykernel)",
      "language": "python",
      "name": "python3"
    },
    "language_info": {
      "codemirror_mode": {
        "name": "ipython",
        "version": 3
      },
      "file_extension": ".py",
      "mimetype": "text/x-python",
      "name": "python",
      "nbconvert_exporter": "python",
      "pygments_lexer": "ipython3",
      "version": "3.10.8"
    }
  },
  "nbformat": 4,
  "nbformat_minor": 5
}