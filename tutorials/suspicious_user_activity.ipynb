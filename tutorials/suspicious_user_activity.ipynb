{
  "cells": [
    {
      "cell_type": "markdown",
      "metadata": {
        "id": "view-in-colab"
      },
      "source": [
        "<a href=\"https://colab.research.google.com/github/pathwaycom/pathway-examples/blob/main/tutorials/suspicious_user_activity.ipynb\" target=\"_parent\"><img src=\"https://pathway.com/assets/colab-badge.svg\" alt=\"Run In Colab\" class=\"inline\"/></a>"
      ]
    },
    {
      "cell_type": "markdown",
      "source": [
        "# Installing Pathway with Python 3.8+\n",
        "\n",
        "In the cell below, we install Pathway into a Python 3.8+ Linux runtime.\n",
        "\n",
        "> **If you are running in Google Colab, please run the colab notebook (Ctrl+F9)**, disregarding the 'not authored by Google' warning.\n",
        "> \n",
        "> **The installation and loading time is less than 1 minute**.\n"
      ],
      "metadata": {
        "id": "notebook-instructions"
      }
    },
    {
      "cell_type": "code",
      "source": [
        "%%capture --no-display\n",
        "!pip install --extra-index-url https://packages.pathway.com/966431ef6ba pathway"
      ],
      "metadata": {
        "id": "pip-installation-pathway",
        "cellView": "form"
      },
      "execution_count": null,
      "outputs": []
    },
    {
      "cell_type": "markdown",
      "id": "6163f7db",
      "metadata": {
        "lines_to_next_cell": 0,
        "tags": []
      },
      "source": [
        "# Detecting suspicious user activity with Tumbling Window group-by\n",
        "\n",
        "Your task is to detect suspicious user login attempts during some period of time.\n",
        "The main ingredient used is grouping over a tumbling window.\n",
        "\n",
        "You have an input data table with following columns:\n",
        "* `username`,\n",
        "* whether the login was `successful`,\n",
        "* `time` of a login attempt,\n",
        "* `ip_address` of a login.\n",
        "\n",
        "\n",
        "First ingest the data."
      ]
    },
    {
      "cell_type": "code",
      "execution_count": 1,
      "id": "45a6246b",
      "metadata": {
        "execution": {
          "iopub.execute_input": "2023-03-01T15:40:35.480072Z",
          "iopub.status.busy": "2023-03-01T15:40:35.479742Z",
          "iopub.status.idle": "2023-03-01T15:40:35.482649Z",
          "shell.execute_reply": "2023-03-01T15:40:35.482289Z"
        }
      },
      "outputs": [],
      "source": [
        "# Uncomment to download the required files.\n",
        "# %%capture --no-display\n",
        "# !wget https://public-pathway-releases.s3.eu-central-1.amazonaws.com/data/suspicious_users_tutorial_logins.csv -O logins.csv"
      ]
    },
    {
      "cell_type": "code",
      "execution_count": 2,
      "id": "c7a978c6",
      "metadata": {
        "execution": {
          "iopub.execute_input": "2023-03-01T15:40:35.484539Z",
          "iopub.status.busy": "2023-03-01T15:40:35.484270Z",
          "iopub.status.idle": "2023-03-01T15:40:36.521289Z",
          "shell.execute_reply": "2023-03-01T15:40:36.520831Z"
        }
      },
      "outputs": [],
      "source": [
        "from datetime import datetime\n",
        "\n",
        "import pathway as pw\n",
        "\n",
        "logins = pw.csv.read(\"logins.csv\", value_columns=[\"username\", \"successful\", \"time\", \"ip_address\"])"
      ]
    },
    {
      "cell_type": "code",
      "execution_count": 3,
      "id": "9d694537",
      "metadata": {
        "execution": {
          "iopub.execute_input": "2023-03-01T15:40:36.523782Z",
          "iopub.status.busy": "2023-03-01T15:40:36.523474Z",
          "iopub.status.idle": "2023-03-01T15:40:36.586086Z",
          "shell.execute_reply": "2023-03-01T15:40:36.585632Z"
        }
      },
      "outputs": [],
      "source": [
        "logins = logins.select(\n",
        "    *pw.this.without(pw.this.successful),\n",
        "    successful=(pw.this.successful==\"True\")\n",
        ")"
      ]
    },
    {
      "cell_type": "code",
      "execution_count": 4,
      "id": "b586bb9f",
      "metadata": {
        "execution": {
          "iopub.execute_input": "2023-03-01T15:40:36.588085Z",
          "iopub.status.busy": "2023-03-01T15:40:36.587909Z",
          "iopub.status.idle": "2023-03-01T15:40:36.590832Z",
          "shell.execute_reply": "2023-03-01T15:40:36.590526Z"
        }
      },
      "outputs": [],
      "source": [
        "logins = logins.select(\n",
        "    *pw.this.without(pw.this.successful),\n",
        "    successful=pw.cast(bool, pw.this.successful),\n",
        ")"
      ]
    },
    {
      "cell_type": "markdown",
      "id": "c3d415e4",
      "metadata": {},
      "source": [
        "Then filter attempts and keep only the unsuccessful ones."
      ]
    },
    {
      "cell_type": "code",
      "execution_count": 5,
      "id": "6fc26364",
      "metadata": {
        "execution": {
          "iopub.execute_input": "2023-03-01T15:40:36.592466Z",
          "iopub.status.busy": "2023-03-01T15:40:36.592262Z",
          "iopub.status.idle": "2023-03-01T15:40:36.594706Z",
          "shell.execute_reply": "2023-03-01T15:40:36.594415Z"
        }
      },
      "outputs": [],
      "source": [
        "processed = logins.filter(~pw.this.successful)"
      ]
    },
    {
      "cell_type": "markdown",
      "id": "0864881f",
      "metadata": {},
      "source": [
        "Now, group remaining attempts by login `time` and `ip_address` (ignoring seconds in `time` of login)."
      ]
    },
    {
      "cell_type": "code",
      "execution_count": 6,
      "id": "cdc700bc",
      "metadata": {
        "execution": {
          "iopub.execute_input": "2023-03-01T15:40:36.596326Z",
          "iopub.status.busy": "2023-03-01T15:40:36.596131Z",
          "iopub.status.idle": "2023-03-01T15:40:36.599003Z",
          "shell.execute_reply": "2023-03-01T15:40:36.598713Z"
        }
      },
      "outputs": [],
      "source": [
        "by_minutes = processed.select(\n",
        "    pw.this.ip_address,\n",
        "    time=pw.apply(\n",
        "        lambda timestamp_str: (datetime.fromtimestamp(int(timestamp_str)).isoformat())[:-2]+\"00\",\n",
        "        pw.this.time)\n",
        ")\n",
        "grouped_by_minutes = by_minutes.groupby(pw.this.time, pw.this.ip_address)"
      ]
    },
    {
      "cell_type": "markdown",
      "id": "d5779368",
      "metadata": {
        "lines_to_next_cell": 0
      },
      "source": [
        "The next step is to count the logins..."
      ]
    },
    {
      "cell_type": "code",
      "execution_count": 7,
      "id": "dcfccee5",
      "metadata": {
        "execution": {
          "iopub.execute_input": "2023-03-01T15:40:36.600652Z",
          "iopub.status.busy": "2023-03-01T15:40:36.600384Z",
          "iopub.status.idle": "2023-03-01T15:40:36.602872Z",
          "shell.execute_reply": "2023-03-01T15:40:36.602587Z"
        },
        "lines_to_next_cell": 0
      },
      "outputs": [],
      "source": [
        "logins_counted = grouped_by_minutes.reduce(\n",
        "    by_minutes.time, by_minutes.ip_address, count=pw.reducers.count(by_minutes.id)\n",
        ")"
      ]
    },
    {
      "cell_type": "markdown",
      "id": "3af4474f",
      "metadata": {
        "lines_to_next_cell": 0
      },
      "source": [
        "...and to keep only incidents where the number of failed logins exceeded the threshold."
      ]
    },
    {
      "cell_type": "code",
      "execution_count": 8,
      "id": "46f751e8",
      "metadata": {
        "execution": {
          "iopub.execute_input": "2023-03-01T15:40:36.604412Z",
          "iopub.status.busy": "2023-03-01T15:40:36.604171Z",
          "iopub.status.idle": "2023-03-01T15:40:36.610960Z",
          "shell.execute_reply": "2023-03-01T15:40:36.610648Z"
        }
      },
      "outputs": [
        {
          "name": "stdout",
          "output_type": "stream",
          "text": [
            "            | time                | ip_address    | count\n",
            "^DKEYHS4... | 2018-12-25T10:30:00 | 50.37.169.241 | 7\n"
          ]
        }
      ],
      "source": [
        "suspicious_logins = logins_counted.filter(pw.this.count >= 5)\n",
        "pw.debug.compute_and_print(suspicious_logins)"
      ]
    }
  ],
  "metadata": {
    "kernelspec": {
      "display_name": "Python 3 (ipykernel)",
      "language": "python",
      "name": "python3"
    },
    "language_info": {
      "codemirror_mode": {
        "name": "ipython",
        "version": 3
      },
      "file_extension": ".py",
      "mimetype": "text/x-python",
      "name": "python",
      "nbconvert_exporter": "python",
      "pygments_lexer": "ipython3",
      "version": "3.10.8"
    }
  },
  "nbformat": 4,
  "nbformat_minor": 5
}