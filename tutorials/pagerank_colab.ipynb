{
  "cells": [
    {
      "cell_type": "markdown",
      "source": [
        "# [Colab-specific] Setting up Python and Pathway\n",
        "\n",
        "> Colab heads-up!!!\n",
        ">\n",
        "> Pathway requires Python >=3.8 and works best with Python 3.10, while Google Colab ships with Python 3.7 by default.\n",
        ">\n",
        "> In the cells below we install Python 3.10 and then switch to it, but the process requires that you refresh the page in your browser!\n",
        "> Please:\n",
        "> 1. Saves the file first, before running any cell.\n",
        "> 2. **Insert in the form the pip link** given to you with your beta access.\n",
        "> 3. Run the first three cells, disregard the unrecognized runtime warning. **The installation and loading time is about 2 minutes**.\n",
        "> 4. **Refresh the colab page and run cell #4.** Now the warning should disappear and the python version should be Python 3.10.\n",
        "\n",
        "\n",
        "Outside Colab, Pathway can be installed to a Python 3.10 environment using pip, please register at https://pathway.com to get beta access to the package."
      ],
      "metadata": {
        "id": "colab-instructions"
      }
    },
    {
      "cell_type": "markdown",
      "source": [
        "Insert the pip link:"
      ],
      "metadata": {
        "id": "pip-link"
      }
    },
    {
      "cell_type": "code",
      "source": [
        "#@title Insert pathway wheel link\n",
        "PIP_PACKAGE_ADDRESS='' #@param {type:\"string\"}"
      ],
      "metadata": {
        "id": "pip-package-form"
      },
      "execution_count": null,
      "outputs": []
    },
    {
      "cell_type": "code",
      "source": [
        "if not PIP_PACKAGE_ADDRESS:\n",
        "    print(\n",
        "        \"\u26d4 Please register at https://pathway.com/developers/documentation/introduction/installation-and-first-steps\\n\"\n",
        "        \"To get the pip package installation link!\"\n",
        "    )"
      ],
      "metadata": {
        "id": "pip-package-selection"
      },
      "execution_count": null,
      "outputs": []
    },
    {
      "cell_type": "code",
      "metadata": {
        "id": "colab-env-install",
        "colab": {
          "base_uri": "https://localhost:8080/"
        },
        "outputId": "30a3baa7-5cb4-40f5-ac12-921eba4b25f8"
      },
      "source": [
        "![ -d /usr/local/lib/python3.10/site-packages/pathway ] || echo \"Installing Python 3.10 and pathway, restart the notebook once this cells executes\"\n",
        "![ -d /usr/local/lib/python3.10/site-packages/pathway ] || wget -O mini.sh https://github.com/conda-forge/miniforge/releases/download/22.9.0-1/Mambaforge-22.9.0-1-Linux-x86_64.sh 1>/dev/null 2>/dev/null\n",
        "![ -d /usr/local/lib/python3.10/site-packages/pathway ] || chmod +x mini.sh 1>/dev/null 2>/dev/null\n",
        "![ -d /usr/local/lib/python3.10/site-packages/pathway ] || bash ./mini.sh -b -f -p /usr/local 1>/dev/null 2>/dev/null\n",
        "![ -d /usr/local/lib/python3.10/site-packages/pathway ] || mamba install -q -y -c conda-forge jupyter google-colab  1>/dev/null 2>/dev/null\n",
        "![ -d /usr/local/lib/python3.10/site-packages/pathway ] || python -m ipykernel install --name \"py310\" --user 1>/dev/null 2>/dev/null\n",
        "![ -d /usr/local/lib/python3.10/site-packages/pathway ] || pip install {PIP_PACKAGE_ADDRESS} 1>/dev/null 2>/dev/null\n",
        "![ -d /usr/local/lib/python3.10/site-packages/pathway ] && echo \"\u2705 Pathway installed\""
      ],
      "execution_count": null,
      "outputs": [
        {
          "output_type": "stream",
          "name": "stdout",
          "text": [
            "Pathway installed\n"
          ]
        }
      ]
    },
    {
      "cell_type": "code",
      "metadata": {
        "id": "colab-reload",
        "outputId": "f0e45a04-0b52-4699-fd04-680980f3df92",
        "colab": {
          "base_uri": "https://localhost:8080/"
        }
      },
      "source": [
        "# Reload the web page and execute this cell\n",
        "import sys\n",
        "print(\"User Current Version:-\", sys.version)\n",
        "if (sys.version_info[0]>=3 and sys.version_info[1]>=10):\n",
        "    print(\"\u2705 Correct version\")\n",
        "else:\n",
        "    print(\"\u26d4 Something went wrong, restart the installation.\")"
      ],
      "execution_count": 3,
      "outputs": [
        {
          "output_type": "stream",
          "name": "stdout",
          "text": [
            "User Current Version:- 3.10.6 | packaged by conda-forge | (main, Aug 22 2022, 20:36:39) [GCC 10.4.0]\n"
          ]
        }
      ]
    },
    {
      "cell_type": "markdown",
      "id": "c2a157d1",
      "metadata": {},
      "source": [
        "# Computing PageRank\n",
        "\n",
        "## Introduction\n",
        "PageRank is best known for its success in ranking web pages in Google Search engine.\n",
        "Here is a [quick description](https://en.wikipedia.org/w/index.php?title=PageRank&oldid=1111494883):\n",
        "> PageRank works by counting the number and quality of links to a page to determine a\n",
        "> rough estimate of how important the website is. The underlying assumption is that\n",
        "> more important websites are likely to receive more links from other websites.\n",
        "\n",
        "In fact, the algorithm outputs a probability distribution that represents the\n",
        "likelihood of arriving at any particular page after randomly clicking on links for a while.\n",
        "We will simulate this behavior by the following 'surfing the Internet' procedure:\n",
        "- Initially, at each page, some amount of people start surfing the internet from that page.\n",
        "- In each turn, some users decide to click on a random link and visit a new page.\n",
        "- We iterate for fixed number of rounds.\n",
        "\n",
        "This article assumes that you are already familiar with some basics of [Pathway transformers](/developers/documentation/introduction/key-concepts).\n",
        "\n",
        "## Code\n",
        "First things first - imports and constants."
      ]
    },
    {
      "cell_type": "code",
      "execution_count": 1,
      "id": "8c28982f",
      "metadata": {
        "execution": {
          "iopub.execute_input": "2022-12-15T08:40:52.352080Z",
          "iopub.status.busy": "2022-12-15T08:40:52.351930Z",
          "iopub.status.idle": "2022-12-15T08:40:53.384147Z",
          "shell.execute_reply": "2022-12-15T08:40:53.383562Z"
        }
      },
      "outputs": [],
      "source": [
        "from typing import Any\n",
        "\n",
        "import pathway as pw"
      ]
    },
    {
      "cell_type": "markdown",
      "id": "534c6535",
      "metadata": {
        "lines_to_next_cell": 0
      },
      "source": [
        "### I/O Data\n",
        "We use an `Edge` schema to represent the graph and `Result` schema to represent the final ranks."
      ]
    },
    {
      "cell_type": "code",
      "execution_count": 2,
      "id": "1db4af2c",
      "metadata": {
        "execution": {
          "iopub.execute_input": "2022-12-15T08:40:53.386607Z",
          "iopub.status.busy": "2022-12-15T08:40:53.386339Z",
          "iopub.status.idle": "2022-12-15T08:40:53.389057Z",
          "shell.execute_reply": "2022-12-15T08:40:53.388687Z"
        }
      },
      "outputs": [],
      "source": [
        "class Edge(pw.Schema):\n",
        "    u: Any\n",
        "    v: Any\n",
        "\n",
        "\n",
        "class Result(pw.Schema):\n",
        "    rank: float"
      ]
    },
    {
      "cell_type": "markdown",
      "id": "c255a7fc",
      "metadata": {
        "lines_to_next_cell": 0
      },
      "source": [
        "`pagerank` performs one turn of 'surfing the Internet' procedure by uniformly\n",
        "distributing rank from each node to all its adjacent nodes, for a fixed number of rounds.\n"
      ]
    },
    {
      "cell_type": "code",
      "execution_count": 3,
      "id": "967d40ac",
      "metadata": {
        "execution": {
          "iopub.execute_input": "2022-12-15T08:40:53.390744Z",
          "iopub.status.busy": "2022-12-15T08:40:53.390601Z",
          "iopub.status.idle": "2022-12-15T08:40:53.394421Z",
          "shell.execute_reply": "2022-12-15T08:40:53.394052Z"
        }
      },
      "outputs": [],
      "source": [
        "def pagerank(edges: pw.Table[Edge], steps: int = 50) -> pw.Table[Result]:\n",
        "    degrees = edges.groupby(id=edges.u).reduce(\n",
        "        degree=pw.reducers.count(None)\n",
        "    )  # indexed by refs to vertices\n",
        "    ranks = degrees.select(rank=1.0)  # indexed by refs to vertices\n",
        "\n",
        "    for step in range(steps):\n",
        "        # if a node has no degree, its degree is 0 and we can ignore its outflow\n",
        "        outflow = ranks.intersect(degrees).select(\n",
        "            flow=ranks.rank / degrees.degree\n",
        "        )  # indexed by refs to vertices\n",
        "\n",
        "        edges_flows = outflow.having(edges.u).select(\n",
        "            edges.v, flow=outflow.ix[edges.u].flow\n",
        "        )\n",
        "\n",
        "        inflows = edges_flows.groupby(id=edges_flows.v).reduce(\n",
        "            flow=pw.reducers.sum(edges_flows.flow)\n",
        "        )  # indexed by refs to vertices\n",
        "\n",
        "        ranks = inflows.select(\n",
        "            rank=pw.apply_with_type(\n",
        "                lambda x: round(x, 4), float, inflows.flow * 0.85 + 0.15\n",
        "            ),\n",
        "        )  # indexed by refs to vertices\n",
        "\n",
        "    return ranks"
      ]
    },
    {
      "cell_type": "markdown",
      "id": "d808e3ed",
      "metadata": {
        "lines_to_next_cell": 0
      },
      "source": [
        "### Tests\n",
        "We present two easy test cases here.\n",
        "A test case with a single 3-vertices loop with one backward edge."
      ]
    },
    {
      "cell_type": "code",
      "execution_count": 4,
      "id": "09040045",
      "metadata": {
        "execution": {
          "iopub.execute_input": "2022-12-15T08:40:53.396124Z",
          "iopub.status.busy": "2022-12-15T08:40:53.395992Z",
          "iopub.status.idle": "2022-12-15T08:40:53.604718Z",
          "shell.execute_reply": "2022-12-15T08:40:53.604147Z"
        }
      },
      "outputs": [
        {
          "name": "stdout",
          "output_type": "stream",
          "text": [
            "            | rank\n",
            "^EGS8DW6... | 0.6444\n",
            "^76BNCAZ... | 1.1634\n",
            "^JASWCNM... | 1.1923\n"
          ]
        }
      ],
      "source": [
        "# directed graph\n",
        "vertices = pw.debug.table_from_markdown(\n",
        "    \"\"\"\n",
        "      |\n",
        "    a |\n",
        "    b |\n",
        "    c |\n",
        "    \"\"\"\n",
        ").select()\n",
        "edges = pw.debug.table_from_markdown(\n",
        "    \"\"\"\n",
        "    u | v\n",
        "    a | b\n",
        "    b | c\n",
        "    c | a\n",
        "    c | b\n",
        "    \"\"\",\n",
        ").select(u=vertices.pointer_from(pw.this.u), v=vertices.pointer_from(pw.this.v))\n",
        "\n",
        "pw.debug.compute_and_print(pagerank(edges))"
      ]
    },
    {
      "cell_type": "markdown",
      "id": "3dad1d11",
      "metadata": {},
      "source": [
        "Why these numbers? 0.6444, 1.1923, 1.1634? Feel free to skip the quite mathy explanation below.\n",
        "\n",
        "Let us calculate what a correct answer should be.\n",
        "PageRank actually finds a [stationary distribution](https://en.wikipedia.org/wiki/Markov_chain#Stationary_distribution_relation_to_eigenvectors_and_simplices)\n",
        "of a random walk on a graph in which the probability of each move depends only on the\n",
        "currently visited state, i.e. it is a Markov Chain.\n",
        "\n",
        "One may think that the transition matrix of the Markov chain in our example is\n",
        "$$\n",
        "P=\\left(\\begin{array}{cc}\n",
        "0.05 & 0.9 & 0.05\\\\\n",
        "0.05 & 0.05 & 0.9\\\\\n",
        "0.475 & 0.475 & 0.05\n",
        "\\end{array}\\right)\n",
        "$$\n",
        "We move to a new page with probability 5/6 uniformly distributed among all the linked (adjacent) pages,\n",
        "and with probability 1/6 we mix uniformly at random.\n",
        "The result is a stationary distribution roughly of $(x = ( 0.215 \\quad  0.397 \\quad 0.388) )$ which is proportional to the rank returned.\n",
        "The difference is due to rank not being normalized.\n",
        "\n",
        "### Summary\n",
        "As always, feel free to play and experiment with this code! In case you are looking for cool real-world\n",
        "graphs to experiment with, the [Stanford Network Analysis Project](https://snap.stanford.edu/) is an excellent source\n",
        "of reference instances, big and small."
      ]
    }
  ],
  "metadata": {
    "colab": {
      "provenance": [],
      "collapsed_sections": [],
      "include_colab_link": true
    },
    "kernelspec": {
      "name": "py310",
      "display_name": "Python 3.10"
    }
  },
  "nbformat": 4,
  "nbformat_minor": 0
}