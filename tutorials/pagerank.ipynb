{
  "cells": [
    {
      "cell_type": "markdown",
      "metadata": {
        "id": "view-in-colab"
      },
      "source": [
        "<a href=\"https://colab.research.google.com/github/pathwaycom/pathway-examples/blob/main/tutorials/pagerank.ipynb\" target=\"_parent\"><img src=\"https://pathway.com/assets/colab-badge.svg\" alt=\"Run In Colab\" class=\"inline\"/></a>"
      ]
    },
    {
      "cell_type": "markdown",
      "source": [
        "# [Colab-specific instructions] Installing Pathway with Python 3.8+\n",
        "\n",
        "> In the cell below we install pathway into a Python 3.8+ Linux runtime.\n",
        "> Please:\n",
        "> 1. **Insert in the form below the pip install command** given to you with your beta access.\n",
        "> 2. **Run the colab notebook (Ctrl+F9)**, disregarding the 'not authored by Google' warning. **The installation and loading time is less than 1 minute**.\n"
      ],
      "metadata": {
        "id": "notebook-instructions"
      }
    },
    {
      "cell_type": "code",
      "source": [
        "#@title \u2699\ufe0f Pathway installer. Please provide the pip install link for Pathway:\n",
        "# Please copy here the installation line:\n",
        "PATHWAY_INSTALL_LINE='pip install --extra-index-url https://packages.pathway.com/... pathway' #@param {type:\"string\"}\n",
        "\n",
        "PATHWAY_INSTALL_LINE=PATHWAY_INSTALL_LINE.replace('pip install --extra-index-url ', '')\n",
        "\n",
        "class InterruptExecution(Exception):\n",
        "    def _render_traceback_(self):\n",
        "        pass\n",
        "\n",
        "if '...' in PATHWAY_INSTALL_LINE or not PATHWAY_INSTALL_LINE.startswith('https://packages.pathway.com/'):\n",
        "    print(\n",
        "        \"\u26d4 Please register at https://pathway.com/developers/documentation/introduction/installation-and-first-steps\\n\"\n",
        "        \"to Copy & Paste the Linux pip install line for Pathway!\"\n",
        "    )\n",
        "    raise InterruptExecution\n",
        "\n",
        "DO_INSTALL = False\n",
        "import sys\n",
        "if sys.version_info >= (3, 8):\n",
        "    print(f'\u2705 Python {sys.version} is active.')\n",
        "    try:\n",
        "        import pathway as pw\n",
        "        print('\u2705 Pathway successfully imported.')\n",
        "    except:\n",
        "        DO_INSTALL = True\n",
        "else:\n",
        "    print(\"\u26d4 Pathway requires Python 3.8 or higher.\")\n",
        "    raise InterruptExecution\n",
        "\n",
        "if DO_INSTALL:\n",
        "    !ls $(dirname $(which python))/../lib/python*/*-packages/pathway 1>/dev/null 2>/dev/null || echo \"\u231b Installing Pathway. This usually takes a few seconds...\"\n",
        "    !ls $(dirname $(which python))/../lib/python*/*-packages/pathway 1>/dev/null 2>/dev/null || pip install --extra-index-url {PATHWAY_INSTALL_LINE} 1>/dev/null 2>/dev/null\n",
        "    !ls $(dirname $(which python))/../lib/python*/*-packages/pathway 1>/dev/null 2>/dev/null || echo \"\u26d4 Installation failed. Don't be shy to reach out to the community at https://pathway.com !\"\n",
        "    !ls $(dirname $(which python))/../lib/python*/*-packages/pathway 1>/dev/null 2>/dev/null && echo \"\u2705 All installed. Enjoy Pathway!\"\n"
      ],
      "metadata": {
        "id": "pip-installation-pathway",
        "cellView": "form"
      },
      "execution_count": null,
      "outputs": []
    },
    {
      "cell_type": "markdown",
      "id": "a3d3b2bc",
      "metadata": {},
      "source": [
        "# Computing PageRank\n",
        "\n",
        "## Introduction\n",
        "PageRank is best known for its success in ranking web pages in Google Search engine.\n",
        "Here is a [quick description](https://en.wikipedia.org/w/index.php?title=PageRank&oldid=1111494883):\n",
        "> PageRank works by counting the number and quality of links to a page to determine a\n",
        "> rough estimate of how important the website is. The underlying assumption is that\n",
        "> more important websites are likely to receive more links from other websites.\n",
        "\n",
        "In fact, the algorithm outputs a probability distribution that represents the\n",
        "likelihood of arriving at any particular page after randomly clicking on links for a while.\n",
        "We will simulate this behavior by the following 'surfing the Internet' procedure:\n",
        "- Initially, at each page, some amount of people start surfing the internet from that page.\n",
        "- In each turn, some users decide to click on a random link and visit a new page.\n",
        "- We iterate for a fixed number of rounds.\n",
        "\n",
        "This article assumes that you are already familiar with some basics of [Pathway transformers](https://pathway.com/developers/documentation/introduction/key-concepts).\n",
        "\n",
        "## Code\n",
        "First things first - imports and constants."
      ]
    },
    {
      "cell_type": "code",
      "execution_count": 1,
      "id": "9fe17a3a",
      "metadata": {
        "execution": {
          "iopub.execute_input": "2023-02-20T16:02:29.148181Z",
          "iopub.status.busy": "2023-02-20T16:02:29.148077Z",
          "iopub.status.idle": "2023-02-20T16:02:30.381014Z",
          "shell.execute_reply": "2023-02-20T16:02:30.380592Z"
        }
      },
      "outputs": [],
      "source": [
        "from typing import Any\n",
        "\n",
        "import pathway as pw"
      ]
    },
    {
      "cell_type": "markdown",
      "id": "28e781f5",
      "metadata": {
        "lines_to_next_cell": 0
      },
      "source": [
        "### I/O Data\n",
        "We use an `Edge` schema to represent the graph and `Result` schema to represent the final ranks."
      ]
    },
    {
      "cell_type": "code",
      "execution_count": 2,
      "id": "f9dd0945",
      "metadata": {
        "execution": {
          "iopub.execute_input": "2023-02-20T16:02:30.383265Z",
          "iopub.status.busy": "2023-02-20T16:02:30.383041Z",
          "iopub.status.idle": "2023-02-20T16:02:30.385382Z",
          "shell.execute_reply": "2023-02-20T16:02:30.385024Z"
        }
      },
      "outputs": [],
      "source": [
        "class Edge(pw.Schema):\n",
        "    u: Any\n",
        "    v: Any\n",
        "\n",
        "\n",
        "class Result(pw.Schema):\n",
        "    rank: float"
      ]
    },
    {
      "cell_type": "markdown",
      "id": "1d71ffdf",
      "metadata": {
        "lines_to_next_cell": 0
      },
      "source": [
        "`pagerank` performs one turn of 'surfing the Internet' procedure by uniformly\n",
        "distributing rank from each node to all its adjacent nodes, for a fixed number of rounds.\n"
      ]
    },
    {
      "cell_type": "code",
      "execution_count": 3,
      "id": "95846ebf",
      "metadata": {
        "execution": {
          "iopub.execute_input": "2023-02-20T16:02:30.387129Z",
          "iopub.status.busy": "2023-02-20T16:02:30.386776Z",
          "iopub.status.idle": "2023-02-20T16:02:30.390394Z",
          "shell.execute_reply": "2023-02-20T16:02:30.390059Z"
        }
      },
      "outputs": [],
      "source": [
        "def pagerank(edges: pw.Table[Edge], steps: int = 50) -> pw.Table[Result]:\n",
        "    degrees = edges.groupby(id=edges.u).reduce(\n",
        "        degree=pw.reducers.count(None)\n",
        "    )  # indexed by refs to vertices\n",
        "    ranks = degrees.select(rank=1.0)  # indexed by refs to vertices\n",
        "\n",
        "    for step in range(steps):\n",
        "        # if a node has no degree, its degree is 0 and we can ignore its outflow\n",
        "        outflow = ranks.intersect(degrees).select(\n",
        "            flow=ranks.rank / degrees.degree\n",
        "        )  # indexed by refs to vertices\n",
        "\n",
        "        edges_flows = outflow.having(edges.u).select(\n",
        "            edges.v, flow=outflow.ix[edges.u].flow\n",
        "        )\n",
        "\n",
        "        inflows = edges_flows.groupby(id=edges_flows.v).reduce(\n",
        "            flow=pw.reducers.sum(edges_flows.flow)\n",
        "        )  # indexed by refs to vertices\n",
        "\n",
        "        ranks = inflows.select(\n",
        "            rank=pw.apply_with_type(\n",
        "                lambda x: round(x, 4), float, inflows.flow * 0.85 + 0.15\n",
        "            ),\n",
        "        )  # indexed by refs to vertices\n",
        "\n",
        "    return ranks"
      ]
    },
    {
      "cell_type": "markdown",
      "id": "48600c31",
      "metadata": {
        "lines_to_next_cell": 0
      },
      "source": [
        "### Tests\n",
        "We present two easy test cases here.\n",
        "A test case with a single 3-vertices loop with one backward edge."
      ]
    },
    {
      "cell_type": "code",
      "execution_count": 4,
      "id": "8a74e3ae",
      "metadata": {
        "execution": {
          "iopub.execute_input": "2023-02-20T16:02:30.392146Z",
          "iopub.status.busy": "2023-02-20T16:02:30.391832Z",
          "iopub.status.idle": "2023-02-20T16:02:30.545213Z",
          "shell.execute_reply": "2023-02-20T16:02:30.544781Z"
        }
      },
      "outputs": [
        {
          "name": "stdout",
          "output_type": "stream",
          "text": [
            "            | rank\n",
            "^EGS8DW6... | 0.6444\n",
            "^76BNCAZ... | 1.1634\n",
            "^JASWCNM... | 1.1923\n"
          ]
        }
      ],
      "source": [
        "# directed graph\n",
        "vertices = pw.debug.table_from_markdown(\n",
        "    \"\"\"\n",
        "      |\n",
        "    a |\n",
        "    b |\n",
        "    c |\n",
        "    \"\"\"\n",
        ").select()\n",
        "edges = pw.debug.table_from_markdown(\n",
        "    \"\"\"\n",
        "    u | v\n",
        "    a | b\n",
        "    b | c\n",
        "    c | a\n",
        "    c | b\n",
        "    \"\"\",\n",
        ").select(u=vertices.pointer_from(pw.this.u), v=vertices.pointer_from(pw.this.v))\n",
        "\n",
        "pw.debug.compute_and_print(pagerank(edges))"
      ]
    },
    {
      "cell_type": "markdown",
      "id": "0970009d",
      "metadata": {},
      "source": [
        "Why these numbers? 0.6444, 1.1923, 1.1634? Feel free to skip the quite mathy explanation below.\n",
        "\n",
        "Let us calculate what the correct answer should be.\n",
        "PageRank actually finds a [stationary distribution](https://en.wikipedia.org/wiki/Markov_chain#Stationary_distribution_relation_to_eigenvectors_and_simplices)\n",
        "of a random walk on a graph in which the probability of each move depends only on the\n",
        "currently visited state, i.e. it is a Markov Chain.\n",
        "\n",
        "One may think that the transition matrix of the Markov chain in our example is\n",
        "$$\n",
        "P=\\left(\\begin{array}{cc}\n",
        "0.05 & 0.9 & 0.05\\\\\n",
        "0.05 & 0.05 & 0.9\\\\\n",
        "0.475 & 0.475 & 0.05\n",
        "\\end{array}\\right)\n",
        "$$\n",
        "We move to a new page with probability 5/6 uniformly distributed among all the linked (adjacent) pages,\n",
        "and with probability 1/6 we mix uniformly at random.\n",
        "The result is a stationary distribution roughly of $(x = ( 0.215 \\quad  0.397 \\quad 0.388) )$ which is proportional to the rank returned.\n",
        "The difference is due to rank not being normalized.\n",
        "\n",
        "### Summary\n",
        "As always, feel free to play and experiment with this code! In case you are looking for cool real-world\n",
        "graphs to experiment with, the [Stanford Network Analysis Project](https://snap.stanford.edu/) is an excellent source\n",
        "of reference instances, big and small."
      ]
    }
  ],
  "metadata": {
    "kernelspec": {
      "display_name": "Python 3 (ipykernel)",
      "language": "python",
      "name": "python3"
    },
    "language_info": {
      "codemirror_mode": {
        "name": "ipython",
        "version": 3
      },
      "file_extension": ".py",
      "mimetype": "text/x-python",
      "name": "python",
      "nbconvert_exporter": "python",
      "pygments_lexer": "ipython3",
      "version": "3.10.8"
    }
  },
  "nbformat": 4,
  "nbformat_minor": 5
}