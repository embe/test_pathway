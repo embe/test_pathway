{
  "cells": [
    {
      "cell_type": "markdown",
      "metadata": {
        "id": "view-in-colab"
      },
      "source": [
        "<a href=\"https://colab.research.google.com/github/pathwaycom/pathway-examples/blob/main/tutorials/bellman_ford_colab.ipynb\" target=\"_parent\"><img src=\"https://pathway.com/assets/colab-badge.svg\" alt=\"Run In Colab\" class=\"inline\"/></a>"
      ]
    },
    {
      "cell_type": "markdown",
      "source": [
        "# [Colab-specific] Setting up Python and Pathway\n",
        "\n",
        "> Colab heads-up!!!\n",
        ">\n",
        "> Pathway requires Python >=3.8 and works best with Python 3.10, while Google Colab ships with Python 3.7 by default.\n",
        ">\n",
        "> In the cells below we install Python 3.10 and then switch to it, but the process requires that you refresh the page in your browser!\n",
        "> Please:\n",
        "> 1. Run the first cell, disregard the unrecognized runtime warning.\n",
        "> 2. Refresh the colab page and rerun the notebook. Now the warning should disappear and the python version in cell #2 should be Python 3.10.\n",
        "\n",
        "\n",
        "Outside Colab, Pathway can be installed to a Python 3.10 environment using pip, please register at https://pathway.com to get beta access to the package"
      ],
      "metadata": {
        "id": "colab-instructions"
      }
    },
    {
      "cell_type": "code",
      "source": [
        "PIP_PACKAGE_ADDRESS=\"\"\n",
        "if not PIP_PACKAGE_ADDRESS:\n",
        "    print(\n",
        "        \"Please register at https://pathway.com/developers/documentation/introduction/installation-and-first-steps\\n\"\n",
        "        \"To get the pip package installation link!\"\n",
        "    )"
      ],
      "metadata": {
        "id": "pip-package-selection"
      },
      "execution_count": null,
      "outputs": []
    },
    {
      "cell_type": "code",
      "metadata": {
        "id": "colab-env-install",
        "colab": {
          "base_uri": "https://localhost:8080/"
        },
        "outputId": "30a3baa7-5cb4-40f5-ac12-921eba4b25f8"
      },
      "source": [
        "![ -d /usr/local/lib/python3.10/site-packages/pathway ] || echo \"Installing Python 3.10 and pathway, restart the notebook once this cells executes\"\n",
        "![ -d /usr/local/lib/python3.10/site-packages/pathway ] || wget -O mini.sh https://github.com/conda-forge/miniforge/releases/download/22.9.0-1/Mambaforge-22.9.0-1-Linux-x86_64.sh 1>/dev/null 2>/dev/null\n",
        "![ -d /usr/local/lib/python3.10/site-packages/pathway ] || chmod +x mini.sh 1>/dev/null 2>/dev/null\n",
        "![ -d /usr/local/lib/python3.10/site-packages/pathway ] || bash ./mini.sh -b -f -p /usr/local 1>/dev/null 2>/dev/null\n",
        "![ -d /usr/local/lib/python3.10/site-packages/pathway ] || mamba install -q -y -c conda-forge jupyter google-colab  1>/dev/null 2>/dev/null\n",
        "![ -d /usr/local/lib/python3.10/site-packages/pathway ] || python -m ipykernel install --name \"py310\" --user 1>/dev/null 2>/dev/null\n",
        "![ -d /usr/local/lib/python3.10/site-packages/pathway ] || pip install {PIP_PACKAGE_ADDRESS} 1>/dev/null 2>/dev/null\n",
        "![ -d /usr/local/lib/python3.10/site-packages/pathway ] && echo \"Pathway installed\""
      ],
      "execution_count": null,
      "outputs": [
        {
          "output_type": "stream",
          "name": "stdout",
          "text": [
            "Pathway installed\n"
          ]
        }
      ]
    },
    {
      "cell_type": "code",
      "metadata": {
        "id": "colab-reload",
        "outputId": "f0e45a04-0b52-4699-fd04-680980f3df92",
        "colab": {
          "base_uri": "https://localhost:8080/"
        }
      },
      "source": [
        "# Reload the web page and execute this cell\n",
        "import sys\n",
        "print(\"User Current Version:-\", sys.version)"
      ],
      "execution_count": 3,
      "outputs": [
        {
          "output_type": "stream",
          "name": "stdout",
          "text": [
            "User Current Version:- 3.10.6 | packaged by conda-forge | (main, Aug 22 2022, 20:36:39) [GCC 10.4.0]\n"
          ]
        }
      ]
    },
    {
      "cell_type": "markdown",
      "id": "c1f91cd6",
      "metadata": {
        "lines_to_next_cell": 0
      },
      "source": [
        "# The Bellman-Ford Algorithm\n",
        "This article explains step-by-step how the Bellman\u2013Ford algorithm may be implemented in Pathway.\n",
        "\n",
        "## Introduction\n",
        "\n",
        "The [Bellman-Ford algorithm](https://en.wikipedia.org/w/index.php?title=Bellman%E2%80%93Ford_algorithm&oldid=1088801570) computes the shortest paths from a single source vertex to all the other\n",
        "vertices in a weighted graph.\n",
        "A weighted graph is composed of a set of points, called *vertices*, which are connected via *edges*. Each edge is associated to a value, called either *weight* or *distance*.\n",
        "For instance, the set of all the cities and the roads which connect them form such a graph. In that example, the Bellman-Ford algorithm would help to find the fastest way, in terms of distance, to go from a given city to another.\n",
        "\n",
        "This article is also a perfect place to familiarize yourself with several constructs used in Pathway.\n",
        "\n",
        "## Code\n",
        "First things first - imports \ud83d\ude42"
      ]
    },
    {
      "cell_type": "code",
      "execution_count": 1,
      "id": "dba3eb05",
      "metadata": {
        "execution": {
          "iopub.execute_input": "2022-12-08T01:11:50.528296Z",
          "iopub.status.busy": "2022-12-08T01:11:50.528173Z",
          "iopub.status.idle": "2022-12-08T01:11:51.690503Z",
          "shell.execute_reply": "2022-12-08T01:11:51.690082Z"
        }
      },
      "outputs": [],
      "source": [
        "import math\n",
        "\n",
        "import pathway as pw"
      ]
    },
    {
      "cell_type": "markdown",
      "id": "3e4bd755",
      "metadata": {
        "lines_to_next_cell": 0
      },
      "source": [
        "### I/O Data\n",
        "The input is a weighted graph so it is natural to split representation of the data\n",
        "into two parts: Vertices and Edges. Their schemas:"
      ]
    },
    {
      "cell_type": "code",
      "execution_count": 2,
      "id": "846a7a34",
      "metadata": {
        "execution": {
          "iopub.execute_input": "2022-12-08T01:11:51.692563Z",
          "iopub.status.busy": "2022-12-08T01:11:51.692343Z",
          "iopub.status.idle": "2022-12-08T01:11:51.694626Z",
          "shell.execute_reply": "2022-12-08T01:11:51.694316Z"
        }
      },
      "outputs": [],
      "source": [
        "class Vertex(pw.Schema):\n",
        "    is_source: bool\n",
        "\n",
        "\n",
        "class Edge(pw.Schema):\n",
        "    u: Vertex\n",
        "    v: Vertex\n",
        "    dist: int"
      ]
    },
    {
      "cell_type": "markdown",
      "id": "1b62d455",
      "metadata": {},
      "source": [
        "These schemas have a natural interpretation. You can think of the `Edge` schema as of\n",
        "a blueprint of a table that has 3 columns: `u`, `v` (foreign keys) and `dist`.\n",
        "The output schema:"
      ]
    },
    {
      "cell_type": "code",
      "execution_count": 3,
      "id": "0e088aff",
      "metadata": {
        "execution": {
          "iopub.execute_input": "2022-12-08T01:11:51.696162Z",
          "iopub.status.busy": "2022-12-08T01:11:51.695913Z",
          "iopub.status.idle": "2022-12-08T01:11:51.697770Z",
          "shell.execute_reply": "2022-12-08T01:11:51.697469Z"
        }
      },
      "outputs": [],
      "source": [
        "class DistFromSource(pw.Schema):\n",
        "    dist_from_source: int"
      ]
    },
    {
      "cell_type": "markdown",
      "id": "f9095786",
      "metadata": {},
      "source": [
        "*Note:* The schemas inherit from `pw.Schema` special class.\n",
        "\n",
        "*Note:* You might wonder why output schema has only one column `dist_from_source`.\n",
        "Actually, you can join schemas together to create a new one. And so, the output schema\n",
        " is `Vertex + DistFromSource`. (Look for that type annotation later in the code.)\n",
        "\n",
        "### The algorithm\n",
        "The Bellman-Ford algorithm performs some number of relaxations until it reaches a [fixed point](https://en.wikipedia.org/wiki/Fixed_point_(mathematics) \"Wipedia article of 'fixed point'\").\n",
        "\n",
        "#### Relaxations\n",
        "Each node checks if a path via it would make any so-far-optimal path to some other\n",
        "node shorter."
      ]
    },
    {
      "cell_type": "code",
      "execution_count": 4,
      "id": "37b1beb0",
      "metadata": {
        "execution": {
          "iopub.execute_input": "2022-12-08T01:11:51.708354Z",
          "iopub.status.busy": "2022-12-08T01:11:51.708168Z",
          "iopub.status.idle": "2022-12-08T01:11:51.710521Z",
          "shell.execute_reply": "2022-12-08T01:11:51.710226Z"
        }
      },
      "outputs": [],
      "source": [
        "def bellman_ford_step(\n",
        "    vertices_dist: pw.Table[DistFromSource], edges: pw.Table[Edge]\n",
        ") -> pw.Table[DistFromSource]:\n",
        "    relaxed_edges = edges + edges.select(\n",
        "        dist_from_source=vertices_dist.ix[edges.u].dist_from_source + edges.dist\n",
        "    )\n",
        "    vertices_dist = vertices_dist.update_rows(\n",
        "        relaxed_edges.groupby(id=relaxed_edges.v).reduce(\n",
        "            dist_from_source=pw.reducers.min_int(relaxed_edges.dist_from_source),\n",
        "        )\n",
        "    )\n",
        "\n",
        "    return vertices_dist"
      ]
    },
    {
      "cell_type": "markdown",
      "id": "b19d7c60",
      "metadata": {
        "lines_to_next_cell": 0
      },
      "source": [
        "#### Fixed point\n",
        "The relaxations are iterated until a fixed point is reached. In this case, reaching a\n",
        "fixed point means that no new (shorter) path was found in the last iteration."
      ]
    },
    {
      "cell_type": "code",
      "execution_count": 5,
      "id": "bd8266f8",
      "metadata": {
        "execution": {
          "iopub.execute_input": "2022-12-08T01:11:51.711932Z",
          "iopub.status.busy": "2022-12-08T01:11:51.711766Z",
          "iopub.status.idle": "2022-12-08T01:11:51.714443Z",
          "shell.execute_reply": "2022-12-08T01:11:51.714147Z"
        }
      },
      "outputs": [],
      "source": [
        "def bellman_ford(vertices: pw.Table[Vertex], edges: pw.Table[Edge]):\n",
        "    vertices_dist: pw.Table[DistFromSource] = vertices.select(\n",
        "        dist_from_source=pw.apply_with_type(\n",
        "            lambda x: 0 if x else math.inf, float, vertices.is_source\n",
        "        )\n",
        "    )\n",
        "\n",
        "    fixed_point = pw.iterate(\n",
        "        lambda iterated, edges: dict(\n",
        "            iterated=bellman_ford_step(vertices_dist=iterated, edges=edges)\n",
        "        ),\n",
        "        # The `pw.iterate_universe` stanza informs iterate that `vertices_dist` grows with each loop iteration. Without it, the system assumes that iterations don't change the set of indices of a table.\n",
        "        iterated=pw.iterate_universe(vertices_dist),\n",
        "        edges=edges,\n",
        "    ).iterated\n",
        "\n",
        "    return fixed_point.join(vertices, fixed_point.id == vertices.id).select(\n",
        "        vertices.key, fixed_point.dist_from_source\n",
        "    )"
      ]
    },
    {
      "cell_type": "markdown",
      "id": "f4f788e4",
      "metadata": {
        "lines_to_next_cell": 0
      },
      "source": [
        "\n",
        " ## Tests\n",
        "\n",
        " Now, let's see the code in action. The following test case runs Bellman-Ford\n",
        "algorithm on a graph depicted below.\n",
        "\n",
        "![Graph image](/assets/content/tutorials/BellmanFordGraph.png)"
      ]
    },
    {
      "cell_type": "code",
      "execution_count": 6,
      "id": "a1e0bca0",
      "metadata": {
        "execution": {
          "iopub.execute_input": "2022-12-08T01:11:51.716034Z",
          "iopub.status.busy": "2022-12-08T01:11:51.715779Z",
          "iopub.status.idle": "2022-12-08T01:11:51.722784Z",
          "shell.execute_reply": "2022-12-08T01:11:51.722483Z"
        }
      },
      "outputs": [],
      "source": [
        "# a directed graph\n",
        "vertices = pw.debug.table_from_markdown(\n",
        "    \"\"\"\n",
        "  | key | is_source\n",
        "1 | 1   | True\n",
        "2 | 2   | False\n",
        "3 | 3   | False\n",
        "4 | 4   | False\n",
        "5 | 5   | False\n",
        "6 | 6   | False\n",
        "7 | 7   | False\n",
        "\"\"\"\n",
        ").with_id_from(pw.this.key)\n",
        "\n",
        "edges = pw.debug.table_from_markdown(\n",
        "    \"\"\"\n",
        "    | u  | v | dist\n",
        "11 | 1  | 2 | 100\n",
        "12 | 1  | 3 | 200\n",
        "13 | 1  | 4 | 300\n",
        "14 | 3  | 5 | 100\n",
        "15 | 3  | 6 | 500\n",
        "16 | 5  | 6 | 100\n",
        "17 | 6  | 3 | -50\n",
        "\"\"\"\n",
        ").update_columns(\n",
        "    u=vertices.pointer_from(pw.this.u),\n",
        "    v=vertices.pointer_from(pw.this.v),\n",
        ")"
      ]
    },
    {
      "cell_type": "markdown",
      "id": "2ada9d1a",
      "metadata": {},
      "source": [
        "Pathway automatically reindexes the tables, so we need a key column of the `vertices` table and we need ask Pathway to reindex the table using those.\n",
        "In practice, Pathway uses pointers so the keys are automatically converted into pointers.\n",
        "\n",
        "For the edges, we have to convert the keys into their references in order to be able to use `vertices_dist.ix[edges.u]` as `ix` only works with pointers."
      ]
    },
    {
      "cell_type": "code",
      "execution_count": 7,
      "id": "6b4b8111",
      "metadata": {
        "execution": {
          "iopub.execute_input": "2022-12-08T01:11:51.724209Z",
          "iopub.status.busy": "2022-12-08T01:11:51.724035Z",
          "iopub.status.idle": "2022-12-08T01:11:51.731704Z",
          "shell.execute_reply": "2022-12-08T01:11:51.731385Z"
        }
      },
      "outputs": [
        {
          "name": "stdout",
          "output_type": "stream",
          "text": [
            "            | key | dist_from_source\n",
            "^VJ3K9DF... | 1   | 0\n",
            "^V1RPZW8... | 2   | 100\n",
            "^R0GE4WM... | 3   | 200\n",
            "^XG83A8H... | 4   | 300\n",
            "^5FP20AD... | 5   | 300\n",
            "^QPRKHEX... | 6   | 400\n",
            "^HA73GHY... | 7   | inf\n"
          ]
        }
      ],
      "source": [
        "pw.debug.compute_and_print(bellman_ford(vertices, edges))"
      ]
    },
    {
      "cell_type": "markdown",
      "id": "c5cd1f1e",
      "metadata": {},
      "source": [
        "That was a simple introduction to writing code and tests in Pathway.\n",
        "\n",
        "Feel free to take this code and experiment with it \ud83d\ude42  Do you see any possibility to\n",
        "improve the code? (What happens when there is a negative cycle in the graph?)\n"
      ]
    },
    {
      "cell_type": "markdown",
      "id": "ec37aebb",
      "metadata": {},
      "source": [
        "## Summary\n",
        "The code above follows a pattern that is quite frequent when working with Pathway:\n",
        "- Define I/O data types\n",
        "- Define transformations on tables\n",
        "- Iterate the transformation until a fixed point is reached\n",
        "  - usually transforms the data by a simple one-liner.\n",
        "  - for example ```iterate(lambda foo, bar: {foo=fn(foo, bar), bar=bar}, foo=input_table_1, bar=input_table2).foo```\n",
        "\n",
        "*Note:* It is also possible to define transformations from the perspective of\n",
        "a row and not of a table. Curious? Take a look at [the transformer class tutorial](/developers/documentation/transformer-classes/transformer-classes) or some of our other cookbooks, like this one on\n",
        "[Pagerank](/developers/tutorials/pagerank)."
      ]
    }
  ],
  "metadata": {
    "colab": {
      "provenance": [],
      "collapsed_sections": [],
      "include_colab_link": true
    },
    "kernelspec": {
      "name": "py310",
      "display_name": "Python 3.10"
    }
  },
  "nbformat": 4,
  "nbformat_minor": 0
}